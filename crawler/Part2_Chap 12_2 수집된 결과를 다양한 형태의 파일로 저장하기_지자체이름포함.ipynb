{
 "cells": [
  {
   "cell_type": "code",
   "execution_count": 1,
   "metadata": {},
   "outputs": [
    {
     "name": "stdout",
     "output_type": "stream",
     "text": [
      "키워드를 입력하세요: 인천\n",
      "검색 결과를 저장할 txt 파일경로와 이름을 지정하세요: D:/Python_Project/portfolio/study_coding/book/완친파 웹크롤러대마왕/test3.txt\n",
      "검색 결과를 저장할 csv 파일경로와 이름을 지정하세요: D:/Python_Project/portfolio/study_coding/book/완친파 웹크롤러대마왕/test3.csv\n",
      "검색 결과를 저장할 xls 파일경로와 이름을 지정하세요: D:/Python_Project/portfolio/study_coding/book/완친파 웹크롤러대마왕/test3.xls\n"
     ]
    }
   ],
   "source": [
    "from bs4 import BeautifulSoup\n",
    "from selenium import webdriver\n",
    "import time\n",
    "import sys\n",
    "\n",
    "txt = input('키워드를 입력하세요: ')\n",
    "f_name = input('검색 결과를 저장할 txt 파일경로와 이름을 지정하세요: ')\n",
    "fc_name = input('검색 결과를 저장할 csv 파일경로와 이름을 지정하세요: ')\n",
    "fx_name = input('검색 결과를 저장할 xls 파일경로와 이름을 지정하세요: ')\n",
    "\n",
    "# 크롬 드라이버를 사용해 웹드라이버 실행\n",
    "path = './chromedriver.exe'\n",
    "driver = webdriver.Chrome(path)\n",
    "\n",
    "driver.get(\"https://korean.visitkorea.or.kr/main/main.html\")\n",
    "time.sleep(2)  \n",
    "\n",
    "# 알림창 닫기\n",
    "try :\n",
    "    driver.find_element_by_xpath('//*[@id=\"safetyStay1\"]/div/div/div/button').click()\n",
    "except :\n",
    "    print(\"코로나 창이 없습니다\")\n",
    "    \n",
    "# 검색창의 이름을 찾아서 검색어를 입력 후 검색을 진행합니다\n",
    "driver.find_element_by_id(\"btnSearch\").click()\n",
    "element = driver.find_element_by_id(\"inp_search\")\n",
    "element.send_keys(txt)\n",
    "driver.find_element_by_link_text(\"검색\").click()\n",
    "\n",
    "time.sleep(1)"
   ]
  },
  {
   "cell_type": "code",
   "execution_count": 3,
   "metadata": {},
   "outputs": [
    {
     "name": "stdout",
     "output_type": "stream",
     "text": [
      "1. 내용:  인천 도심을 즐기다\n",
      "2. 지자체이름:  인천 중구\n",
      "3. 해쉬태그:  #당일코스#1박2일#2박3일#월미도#인천차이나타운#인천대교#인천종합어시장#연안부두#대창반점#추천코스\n",
      "\n",
      "\n"
     ]
    }
   ],
   "source": [
    "# 현재 페이지에 있는 내용을 화면에 출력하기\n",
    "time.sleep(1)\n",
    "html = driver.page_source\n",
    "soup = BeautifulSoup(html, 'html.parser')\n",
    "#파이썬에서 class는 예약어로 되어 있으니 class속성을 검색하려면 class_로 검색해야 한다.\n",
    "content_list = soup.find('ul',class_='list_thumType flnon')\n",
    "\n",
    "# 특정 항목들을 분리해서 추출하기\n",
    "contents = content_list.find('div','area_txt').find('div','tit').get_text()\n",
    "print('1. 내용: ', contents.strip())\n",
    "\n",
    "name = content_list.find('div','area_txt').find('p').get_text()\n",
    "print('2. 지자체이름: ', name.strip())\n",
    "\n",
    "tag = content_list.find('div','area_txt').find('p','tag').get_text()\n",
    "print('3. 해쉬태그: ', tag.strip())\n",
    "print('\\n')"
   ]
  },
  {
   "cell_type": "code",
   "execution_count": 6,
   "metadata": {},
   "outputs": [
    {
     "name": "stdout",
     "output_type": "stream",
     "text": [
      "1. 번호:  1\n",
      "1. 내용:  인천 도심을 즐기다\n",
      "2. 지자체이름:  인천 중구\n",
      "3. 해쉬태그:  #당일코스#1박2일#2박3일#월미도#인천차이나타운#인천대교#인천종합어시장#연안부두#대창반점#추천코스\n",
      "\n",
      "\n",
      "1. 번호:  2\n",
      "1. 내용:  인천의 명물빵 여행\n",
      "2. 지자체이름:  인천 남동구\n",
      "3. 해쉬태그:  #소래포구#울진대게빵소래본점#인천차이나타운#십리향#송월동동화마을#화마을돌고래피자#수도권#먹거리#도심여행#당일치기여행#바다풍경영화촬영지#복합문화공간#데이트코스#연인과함께#맛코스#당일코스#1박2일#2박3일\n",
      "\n",
      "\n",
      "1. 번호:  3\n",
      "1. 내용:  인천테마여행_긴 물길을 따라 이어지는 다채로운 여행 경인아라뱃길\n",
      "2. 지자체이름:  인천\n",
      "3. 해쉬태그:  #경인아라뱃길#인천여행#인천가볼만한곳#정서진#국립생물자원관#시천가람터#아라마루#아라폭포#수향원\n",
      "\n",
      "\n",
      "1. 번호:  4\n",
      "1. 내용:  인천 가볼만한 곳. 밤의 낭만과 바다의 설렘이 공존하는 곳, 영종도 야간 드라이브 코스\n",
      "2. 지자체이름:  인천\n",
      "3. 해쉬태그:  #인천가볼만한곳#인천여행#드라이브코스#야간드라이브#밤바다#영종도#카페오라#비치카페라군#인천공항#조개구이\n",
      "\n",
      "\n",
      "1. 번호:  5\n",
      "1. 내용:  옛 감성 물씬, 인천 구도심(동인천) 테마여행\n",
      "2. 지자체이름:  인천\n",
      "3. 해쉬태그:  #인천여행#인천여행코스#인천가볼만한곳#배다리헌책방거리#배다리성냥마을박물관#인천문화양조장#애관극장#신포국제시장#인천개항박물관#인천아트플랫폼#11월가볼만한곳#가을여행#가을여행코스#10월가볼만한곳#가을여행의_정석\n",
      "\n",
      "\n",
      "1. 번호:  6\n",
      "1. 내용:  인천 차이나타운 & 송월동 동화마을\n",
      "2. 지자체이름:  인천 중구\n",
      "3. 해쉬태그:  #인천가볼만한곳#유네스코세계책의수도#한국근대문학관#역사여행#차이나타운#자유공원#송월동동화마을#인생샷#달동네박물관#체험학습#헌책방골목#서점#17_18한국관광100선#수도권#한국관광100선#인천#인천차이나타운&송월동동화마을\n",
      "\n",
      "\n",
      "1. 번호:  7\n",
      "1. 내용:  인천테마여행_매력이 넘치는 섬 강화도! 강화관광플랫폼, 강화풍물시장, 소창체험관, 고려궁지\n",
      "2. 지자체이름:  인천 강화군\n",
      "3. 해쉬태그:  #인천여행#강화도#강화도여행#강화관광플랫폼#강화풀물시장#소창체험관#고려궁지\n",
      "\n",
      "\n",
      "1. 번호:  8\n",
      "1. 내용:  [인천 당일치기 여행] 부지런히 먹으러 가는 인천 개항장거리 먹투어\n",
      "2. 지자체이름:  인천 중구\n",
      "3. 해쉬태그:  #맛있는여행#인천가볼만한곳#당일여행#인천여행#인천여행코스#구석구석미식회\n",
      "\n",
      "\n",
      "1. 번호:  9\n",
      "1. 내용:  인천의 구석구석 숨은 명물을 찾아서...\n",
      "2. 지자체이름:  인천 중구\n",
      "3. 해쉬태그:  #당일코스#1박2일#2박3일#추천코스\n",
      "\n",
      "\n",
      "1. 번호:  10\n",
      "1. 내용:  인천 중구 반일 도보코스\n",
      "2. 지자체이름:  인천 중구\n",
      "3. 해쉬태그:  #도보코스#당일코스#1박2일#2박3일\n",
      "\n",
      "\n"
     ]
    }
   ],
   "source": [
    "# 각 항목별로 분리하여 추출하고 변수에 할당하기\n",
    "\n",
    "no = 1\n",
    "no2 = []\n",
    "contents2 = [ ]\n",
    "name2=[ ]\n",
    "tags2 = [ ]\n",
    "\n",
    "for i in content_list:\n",
    "    try:\n",
    "        contents = i.find('div','area_txt').find('div','tit').get_text()\n",
    "    except:\n",
    "        continue\n",
    "    else:\n",
    "        no2.append(no)\n",
    "        print('1. 번호: ', no)\n",
    "        \n",
    "        contents = i.find('div','area_txt').find('div','tit').get_text()\n",
    "        print('1. 내용: ', contents.strip())\n",
    "\n",
    "        name = i.find('div','area_txt').find('p').get_text()\n",
    "        print('2. 지자체이름: ', name.strip())\n",
    "\n",
    "        tag = i.find('div','area_txt').find('p','tag').get_text()\n",
    "        print('3. 해쉬태그: ', tag.strip())\n",
    "        print('\\n')\n",
    "        \n",
    "        no +=1"
   ]
  },
  {
   "cell_type": "code",
   "execution_count": 8,
   "metadata": {},
   "outputs": [
    {
     "name": "stdout",
     "output_type": "stream",
     "text": [
      "csv 파일 저장 경로: D:/Python_Project/portfolio/study_coding/book/완친파 웹크롤러대마왕/test3.csv\n",
      "xls 파일 저장 경로: D:/Python_Project/portfolio/study_coding/book/완친파 웹크롤러대마왕/test3.xls\n",
      "txt 파일 저장 경로: D:/Python_Project/portfolio/study_coding/book/완친파 웹크롤러대마왕/test3.txt\n"
     ]
    },
    {
     "name": "stderr",
     "output_type": "stream",
     "text": [
      "D:\\anaconda\\lib\\site-packages\\ipykernel_launcher.py:9: DeprecationWarning: The default dtype for empty Series will be 'object' instead of 'float64' in a future version. Specify a dtype explicitly to silence this warning.\n",
      "  if __name__ == '__main__':\n",
      "D:\\anaconda\\lib\\site-packages\\ipykernel_launcher.py:10: DeprecationWarning: The default dtype for empty Series will be 'object' instead of 'float64' in a future version. Specify a dtype explicitly to silence this warning.\n",
      "  # Remove the CWD from sys.path while we load stuff.\n",
      "D:\\anaconda\\lib\\site-packages\\ipykernel_launcher.py:11: DeprecationWarning: The default dtype for empty Series will be 'object' instead of 'float64' in a future version. Specify a dtype explicitly to silence this warning.\n",
      "  # This is added back by InteractiveShellApp.init_path()\n"
     ]
    }
   ],
   "source": [
    "# 분리 수집된 데이터를 데이터 프레임으로 만들어서 csv, xls 형식으로 저장\n",
    "\n",
    "# 출력 결과를 표(데이터 프레임) 형태로 만들기\n",
    "\n",
    "import pandas as pd\n",
    "\n",
    "korea_trip = pd.DataFrame()\n",
    "korea_trip['번호'] =no2\n",
    "korea_trip['내용'] = pd.Series(contents2)\n",
    "korea_trip['지자체이름'] = pd.Series(name2)\n",
    "korea_trip['태그'] = pd.Series(tags2)\n",
    "\n",
    "# csv 파일로 저장하기\n",
    "korea_trip.to_csv(fc_name, encoding='utf-8-sig', index=False)\n",
    "print('csv 파일 저장 경로: %s'%fc_name)\n",
    "\n",
    "# 엑셀 형태로 저장하기\n",
    "import xlwt\n",
    "korea_trip.to_excel(fx_name, index=False)\n",
    "print('xls 파일 저장 경로: %s' %fx_name)\n",
    "\n",
    "# 출력 결과를 txt 파일로 저장하기\n",
    "f = open(f_name, 'a', encoding='utf-8')\n",
    "f.write(str(contents2))\n",
    "f.write(str(tags2))\n",
    "f.close()\n",
    "print('txt 파일 저장 경로: %s' %f_name)"
   ]
  },
  {
   "cell_type": "code",
   "execution_count": 11,
   "metadata": {},
   "outputs": [],
   "source": [
    "# openpyxl 패키지를 활용한 엑셀 형식의 파일 관리하기\n",
    "\n",
    "import openpyxl\n",
    "\n",
    "# 새로운 엑셀 파일 1개를 생성합니다. \n",
    "wb = openpyxl.Workbook()\n",
    "wb.save('D:/Python_Project/portfolio/study_coding/book/완친파 웹크롤러대마왕/test1_1.xlsx')\n",
    "\n",
    "# 새로운 시트 생성하고 시트이름 변경하기\n",
    "import openpyxl\n",
    "wb = openpyxl.Workbook()\n",
    "\n",
    "sheet_1 = wb.active # 현재 활성화된 sheet 가져오기\n",
    "\n",
    "# 새로운 시트를 만들면서 시트 이름을 지정하기\n",
    "sheet_2 = wb.create_sheet('매출현황')\n",
    "\n",
    "# 시트 이름 변경하기\n",
    "sheet_1.title='총매출현황'\n",
    "wb.save('D:/Python_Project/portfolio/study_coding/book/완친파 웹크롤러대마왕/test1_2.xlsx')\n",
    "\n",
    "# 기존 파일 불러와서 cell에 내용 입력하기\n",
    "import openpyxl\n",
    "wb = openpyxl.load_workbook('D:/Python_Project/portfolio/study_coding/book/완친파 웹크롤러대마왕/test1_2.xlsx')\n",
    "sheet_1 = wb['총매출현황']\n",
    "sheet_1['A1'] = '첫번째 cell'\n",
    "sheet_1['A2'] = '두번째 cell'\n",
    "\n",
    "wb.save('D:/Python_Project/portfolio/study_coding/book/완친파 웹크롤러대마왕/test1_2.xlsx')"
   ]
  },
  {
   "cell_type": "code",
   "execution_count": null,
   "metadata": {},
   "outputs": [],
   "source": []
  }
 ],
 "metadata": {
  "kernelspec": {
   "display_name": "Python 3",
   "language": "python",
   "name": "python3"
  },
  "language_info": {
   "codemirror_mode": {
    "name": "ipython",
    "version": 3
   },
   "file_extension": ".py",
   "mimetype": "text/x-python",
   "name": "python",
   "nbconvert_exporter": "python",
   "pygments_lexer": "ipython3",
   "version": "3.6.5"
  }
 },
 "nbformat": 4,
 "nbformat_minor": 4
}
