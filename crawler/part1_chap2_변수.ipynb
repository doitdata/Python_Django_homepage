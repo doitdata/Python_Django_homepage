{
 "cells": [
  {
   "cell_type": "code",
   "execution_count": 1,
   "metadata": {},
   "outputs": [
    {
     "name": "stdout",
     "output_type": "stream",
     "text": [
      "10\n"
     ]
    }
   ],
   "source": [
    "var1 = 10\n",
    "print(var1)"
   ]
  },
  {
   "cell_type": "code",
   "execution_count": 2,
   "metadata": {},
   "outputs": [
    {
     "name": "stdout",
     "output_type": "stream",
     "text": [
      "20\n"
     ]
    }
   ],
   "source": [
    "var2 = 20\n",
    "print(var2)"
   ]
  },
  {
   "cell_type": "code",
   "execution_count": 3,
   "metadata": {},
   "outputs": [
    {
     "name": "stdout",
     "output_type": "stream",
     "text": [
      "30\n",
      "200\n",
      "0.5\n"
     ]
    }
   ],
   "source": [
    "print(var1+var2)\n",
    "print(var1*var2)\n",
    "print(var1/var2)"
   ]
  },
  {
   "cell_type": "code",
   "execution_count": 4,
   "metadata": {},
   "outputs": [
    {
     "name": "stdout",
     "output_type": "stream",
     "text": [
      "2\n"
     ]
    }
   ],
   "source": [
    "var5 = 3\n",
    "var6 = 14\n",
    "print(var6%var5)"
   ]
  },
  {
   "cell_type": "code",
   "execution_count": 5,
   "metadata": {},
   "outputs": [
    {
     "name": "stdout",
     "output_type": "stream",
     "text": [
      "오늘도 굿모닝이지 말입니다\n"
     ]
    }
   ],
   "source": [
    "print('오늘도 굿모닝이지 말입니다')"
   ]
  },
  {
   "cell_type": "code",
   "execution_count": 6,
   "metadata": {},
   "outputs": [
    {
     "name": "stdout",
     "output_type": "stream",
     "text": [
      "내일도 굿모닝이지 말입니다\n"
     ]
    }
   ],
   "source": [
    "str = '내일도 굿모닝이지 말입니다'\n",
    "print(str)"
   ]
  },
  {
   "cell_type": "markdown",
   "metadata": {},
   "source": [
    "# 리터럴 문자와 함께 사용하기"
   ]
  },
  {
   "cell_type": "code",
   "execution_count": 8,
   "metadata": {},
   "outputs": [
    {
     "name": "stdout",
     "output_type": "stream",
     "text": [
      "배가 무지 고파서 밥을 5 그릇도 먹겠네\n"
     ]
    }
   ],
   "source": [
    "hungry = 5\n",
    "print('배가 무지 고파서 밥을 %s 그릇도 먹겠네' %hungry)"
   ]
  },
  {
   "cell_type": "markdown",
   "metadata": {},
   "source": [
    "# 특수문자와 함께 사용해야 할 경우"
   ]
  },
  {
   "cell_type": "code",
   "execution_count": 9,
   "metadata": {},
   "outputs": [
    {
     "name": "stdout",
     "output_type": "stream",
     "text": [
      "뉴스에서 물가가 20 %까지 오른다는데\n"
     ]
    }
   ],
   "source": [
    "up = 20\n",
    "print('뉴스에서 물가가 %s %%까지 오른다는데' %up)"
   ]
  },
  {
   "cell_type": "markdown",
   "metadata": {},
   "source": [
    "# 여러개의 변수를 한꺼번에 사용할 경우"
   ]
  },
  {
   "cell_type": "code",
   "execution_count": 11,
   "metadata": {},
   "outputs": [
    {
     "name": "stdout",
     "output_type": "stream",
     "text": [
      "뉴스에서 물가는 20 % 오른다는데 내 월급도 10 % 라eh\n"
     ]
    }
   ],
   "source": [
    "up = 20\n",
    "sal = 10\n",
    "print('뉴스에서 물가는 %s %% 오른다는데 내 월급도 %s %% 라도' %(up, sal))"
   ]
  },
  {
   "cell_type": "code",
   "execution_count": 12,
   "metadata": {},
   "outputs": [
    {
     "name": "stdout",
     "output_type": "stream",
     "text": [
      "짜장면\n"
     ]
    }
   ],
   "source": [
    "txt1 = input()"
   ]
  },
  {
   "cell_type": "code",
   "execution_count": 13,
   "metadata": {},
   "outputs": [
    {
     "name": "stdout",
     "output_type": "stream",
     "text": [
      "점심 뭐 먹었니?커피\n"
     ]
    }
   ],
   "source": [
    "txt2 = input('점심 뭐 먹었니?')"
   ]
  },
  {
   "cell_type": "code",
   "execution_count": 14,
   "metadata": {},
   "outputs": [
    {
     "name": "stdout",
     "output_type": "stream",
     "text": [
      "\n",
      "1. 서울 2. 대전 3. 광주 4. 부산\n",
      "5. 경남 6. 경북 7. 충청 8. 제주\n",
      "\n",
      "위 지역 중 정보를 조회할 지역의 번호를 입력하세요\n",
      "1\n"
     ]
    }
   ],
   "source": [
    "area_no =  input('''\n",
    "1. 서울 2. 대전 3. 광주 4. 부산\n",
    "5. 경남 6. 경북 7. 충청 8. 제주\n",
    "\n",
    "위 지역 중 정보를 조회할 지역의 번호를 입력하세요\n",
    "''')"
   ]
  },
  {
   "cell_type": "code",
   "execution_count": 17,
   "metadata": {},
   "outputs": [
    {
     "name": "stdout",
     "output_type": "stream",
     "text": [
      "첫번째 주문하실 음식은 무엇인가요? :만주\n",
      "두번째 주문하실 음식은 무엇인가요? :쥬스\n",
      "첫번째 주문하신 음식은 만주 이고 두번째 주문하신 음식은 쥬스입니다\n"
     ]
    }
   ],
   "source": [
    "menu_1 = input('첫번째 주문하실 음식은 무엇인가요? :')\n",
    "menu_2 = input('두번째 주문하실 음식은 무엇인가요? :')\n",
    "\n",
    "print('첫번째 주문하신 음식은 %s 이고 두번째 주문하신 음식은 %s입니다' % (menu_1, menu_2))"
   ]
  },
  {
   "cell_type": "code",
   "execution_count": null,
   "metadata": {},
   "outputs": [],
   "source": []
  }
 ],
 "metadata": {
  "kernelspec": {
   "display_name": "Python 3",
   "language": "python",
   "name": "python3"
  },
  "language_info": {
   "codemirror_mode": {
    "name": "ipython",
    "version": 3
   },
   "file_extension": ".py",
   "mimetype": "text/x-python",
   "name": "python",
   "nbconvert_exporter": "python",
   "pygments_lexer": "ipython3",
   "version": "3.6.5"
  }
 },
 "nbformat": 4,
 "nbformat_minor": 4
}
