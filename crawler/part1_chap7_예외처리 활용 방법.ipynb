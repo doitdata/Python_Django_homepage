{
 "cells": [
  {
   "cell_type": "code",
   "execution_count": 3,
   "metadata": {},
   "outputs": [
    {
     "name": "stdout",
     "output_type": "stream",
     "text": [
      "정상\n",
      "숫자 1개 입력: 2\n",
      "2\n",
      "\n",
      "\n",
      "예외가 발생하는 경우\n",
      "숫자 1개를 입력하세요a\n"
     ]
    },
    {
     "ename": "ValueError",
     "evalue": "invalid literal for int() with base 10: 'a'",
     "output_type": "error",
     "traceback": [
      "\u001b[1;31m---------------------------------------------------------------------------\u001b[0m",
      "\u001b[1;31mValueError\u001b[0m                                Traceback (most recent call last)",
      "\u001b[1;32m<ipython-input-3-6669999f7ac8>\u001b[0m in \u001b[0;36m<module>\u001b[1;34m\u001b[0m\n\u001b[0;32m      6\u001b[0m \u001b[1;31m# 예외가 발생하는 경우\u001b[0m\u001b[1;33m\u001b[0m\u001b[1;33m\u001b[0m\u001b[0m\n\u001b[0;32m      7\u001b[0m \u001b[0mprint\u001b[0m\u001b[1;33m(\u001b[0m\u001b[1;34m'예외가 발생하는 경우'\u001b[0m\u001b[1;33m)\u001b[0m\u001b[1;33m\u001b[0m\u001b[0m\n\u001b[1;32m----> 8\u001b[1;33m \u001b[0mno2\u001b[0m \u001b[1;33m=\u001b[0m \u001b[0mint\u001b[0m\u001b[1;33m(\u001b[0m\u001b[0minput\u001b[0m\u001b[1;33m(\u001b[0m\u001b[1;34m'숫자 1개를 입력하세요'\u001b[0m\u001b[1;33m)\u001b[0m\u001b[1;33m)\u001b[0m\u001b[1;33m\u001b[0m\u001b[0m\n\u001b[0m",
      "\u001b[1;31mValueError\u001b[0m: invalid literal for int() with base 10: 'a'"
     ]
    }
   ],
   "source": [
    "print('정상')\n",
    "no1 = int(input('숫자 1개 입력: ' ))\n",
    "print(no1)\n",
    "\n",
    "print('\\n')\n",
    "# 예외가 발생하는 경우\n",
    "print('예외가 발생하는 경우')\n",
    "no2 = int(input('숫자 1개를 입력하세요'))"
   ]
  },
  {
   "cell_type": "code",
   "execution_count": 7,
   "metadata": {},
   "outputs": [
    {
     "name": "stdout",
     "output_type": "stream",
     "text": [
      "예외가 발생하는 경우\n",
      "숫자 1개를 입력하세여: a\n",
      "숫자를 입력하세요\n"
     ]
    }
   ],
   "source": [
    "# 예외처리를 적용할 경우\n",
    "print('예외가 발생하는 경우')\n",
    "try:\n",
    "    no2 = int(input('숫자 1개를 입력하세여: '))\n",
    "except ValueError:\n",
    "    print('숫자를 입력하세요')"
   ]
  },
  {
   "cell_type": "code",
   "execution_count": 9,
   "metadata": {},
   "outputs": [
    {
     "ename": "ZeroDivisionError",
     "evalue": "division by zero",
     "output_type": "error",
     "traceback": [
      "\u001b[1;31m---------------------------------------------------------------------------\u001b[0m",
      "\u001b[1;31mZeroDivisionError\u001b[0m                         Traceback (most recent call last)",
      "\u001b[1;32m<ipython-input-9-f89496f134ba>\u001b[0m in \u001b[0;36m<module>\u001b[1;34m\u001b[0m\n\u001b[0;32m      3\u001b[0m \u001b[0mno1\u001b[0m \u001b[1;33m=\u001b[0m \u001b[1;36m10\u001b[0m\u001b[1;33m\u001b[0m\u001b[0m\n\u001b[0;32m      4\u001b[0m \u001b[0mno2\u001b[0m \u001b[1;33m=\u001b[0m \u001b[1;36m0\u001b[0m\u001b[1;33m\u001b[0m\u001b[0m\n\u001b[1;32m----> 5\u001b[1;33m \u001b[0mprint\u001b[0m\u001b[1;33m(\u001b[0m\u001b[0mno1\u001b[0m\u001b[1;33m/\u001b[0m\u001b[0mno2\u001b[0m\u001b[1;33m)\u001b[0m\u001b[1;33m\u001b[0m\u001b[0m\n\u001b[0m",
      "\u001b[1;31mZeroDivisionError\u001b[0m: division by zero"
     ]
    }
   ],
   "source": [
    "# 예외 처리 3\n",
    "\n",
    "no1 = 10\n",
    "no2 = 0\n",
    "print(no1/no2)"
   ]
  },
  {
   "cell_type": "code",
   "execution_count": 10,
   "metadata": {},
   "outputs": [
    {
     "name": "stdout",
     "output_type": "stream",
     "text": [
      "0으로 나눌수 없습니다.\n"
     ]
    }
   ],
   "source": [
    "try:\n",
    "    print(no1/no2)\n",
    "except ZeroDivisionError:\n",
    "    print('0으로 나눌수 없습니다.')"
   ]
  },
  {
   "cell_type": "code",
   "execution_count": 11,
   "metadata": {},
   "outputs": [
    {
     "name": "stdout",
     "output_type": "stream",
     "text": [
      "예외 상황이 발생\n"
     ]
    }
   ],
   "source": [
    "# 예외처리 4\n",
    "try:\n",
    "    print(no1/no2)\n",
    "except (ValueError, ZeroDivisionError):\n",
    "    print('예외 상황이 발생')"
   ]
  },
  {
   "cell_type": "code",
   "execution_count": 12,
   "metadata": {},
   "outputs": [
    {
     "name": "stdout",
     "output_type": "stream",
     "text": [
      "예외가 발생\n"
     ]
    }
   ],
   "source": [
    "# 예외처리 6\n",
    "no1 = 10\n",
    "no2 = 0\n",
    "\n",
    "try:\n",
    "    print(no1/no2)\n",
    "except:\n",
    "    print('예외가 발생')"
   ]
  },
  {
   "cell_type": "code",
   "execution_count": 13,
   "metadata": {},
   "outputs": [
    {
     "name": "stdout",
     "output_type": "stream",
     "text": [
      "숫자만 입력하세요a\n",
      "숫자만 입력하라고요\n"
     ]
    }
   ],
   "source": [
    "# 예외처리 7\n",
    "\n",
    "try:\n",
    "    no = int(input('숫자만 입력하세요'))\n",
    "except:\n",
    "    print('숫자만 입력하라고요')\n",
    "else:\n",
    "    print('입력하신 숫자는 %s 라고요' %no )"
   ]
  },
  {
   "cell_type": "code",
   "execution_count": null,
   "metadata": {},
   "outputs": [],
   "source": []
  }
 ],
 "metadata": {
  "kernelspec": {
   "display_name": "Python 3",
   "language": "python",
   "name": "python3"
  },
  "language_info": {
   "codemirror_mode": {
    "name": "ipython",
    "version": 3
   },
   "file_extension": ".py",
   "mimetype": "text/x-python",
   "name": "python",
   "nbconvert_exporter": "python",
   "pygments_lexer": "ipython3",
   "version": "3.6.5"
  }
 },
 "nbformat": 4,
 "nbformat_minor": 4
}
