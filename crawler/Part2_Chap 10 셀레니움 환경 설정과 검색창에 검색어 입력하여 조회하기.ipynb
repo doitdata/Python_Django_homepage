{
 "cells": [
  {
   "cell_type": "code",
   "execution_count": 6,
   "metadata": {
    "scrolled": true
   },
   "outputs": [
    {
     "name": "stdout",
     "output_type": "stream",
     "text": [
      "크롤링할 키워드는 무엇입니까?: 인천\n"
     ]
    }
   ],
   "source": [
    "from bs4 import BeautifulSoup\n",
    "from selenium import webdriver\n",
    "import time\n",
    "\n",
    "query_text = input('크롤링할 키워드는 무엇입니까?: ')\n",
    "\n",
    "path = './chromedriver.exe'\n",
    "driver = webdriver.Chrome(path)\n",
    "\n",
    "driver.get(\"https://korean.visitkorea.or.kr\")\n",
    "time.sleep(2)\n",
    "\n",
    "# 알림창 뜨면 닫기\n",
    "try:\n",
    "    driver.find_element_by_xpath('//*[@id=\"safetyStay1\"]/div/div/div/button').click()\n",
    "except:\n",
    "    print('알림창이 없습니다.')\n",
    "\n",
    "# 검색창 이름을 찾아서 검색어를 입력하기    \n",
    "\n",
    "driver.find_element_by_id('btnSearch').click()\n",
    "\n",
    "element = driver.find_element_by_id('inp_search')\n",
    "\n",
    "element.send_keys(query_text)\n",
    "element.send_keys('\\n')\n",
    "\n",
    "# 검색 버튼을 눌러 실행합니다\n",
    "# driver.find_element_by_link_text(\"검색\").click()#방법1\n",
    "#driver.find_element_by_class_name('btn_search2').click() #방법2\n",
    "# driver.find_element_by_xpath('//*[@id=\"gnbMain\"]/div/div/div[1]/div[1]/a').click() #방법3\n"
   ]
  },
  {
   "cell_type": "code",
   "execution_count": null,
   "metadata": {},
   "outputs": [],
   "source": []
  }
 ],
 "metadata": {
  "kernelspec": {
   "display_name": "Python 3",
   "language": "python",
   "name": "python3"
  },
  "language_info": {
   "codemirror_mode": {
    "name": "ipython",
    "version": 3
   },
   "file_extension": ".py",
   "mimetype": "text/x-python",
   "name": "python",
   "nbconvert_exporter": "python",
   "pygments_lexer": "ipython3",
   "version": "3.6.5"
  }
 },
 "nbformat": 4,
 "nbformat_minor": 4
}
