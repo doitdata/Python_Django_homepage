{
 "cells": [
  {
   "cell_type": "code",
   "execution_count": 13,
   "metadata": {},
   "outputs": [
    {
     "name": "stdout",
     "output_type": "stream",
     "text": [
      "크롤링할 키워드는 무엇입니까: 인천\n",
      "검색 결과를 저장할 파일경로와 이름을 지정하세요():D:/Python_Project/portfolio/study_coding/book/완친파 웹크롤러대마왕/인천.txt\n"
     ]
    }
   ],
   "source": [
    "from bs4 import BeautifulSoup\n",
    "from selenium import webdriver\n",
    "import time\n",
    "import sys\n",
    "\n",
    "txt = input('크롤링할 키워드는 무엇입니까: ')\n",
    "f_name = input('검색 결과를 저장할 파일경로와 이름을 지정하세요():' )\n",
    "\n",
    "# 크롬 드라이버 사용, 웹브라우저 실행\n",
    "path = './chromedriver.exe'\n",
    "driver = webdriver.Chrome(path)\n",
    "driver.get(\"https://korean.visitkorea.or.kr/main/main.html\")\n",
    "time.sleep(2)\n",
    "\n",
    "# 알림창 닫기\n",
    "driver.find_element_by_xpath('//*[@id=\"safetyStay1\"]/div/div/div/button').click()\n",
    "\n",
    "# 검색창의 이름을 찾아 검색어를 입력하고 검색을 실행\n",
    "\n",
    "driver.find_element_by_id(\"btnSearch\").click()\n",
    "element = driver.find_element_by_id(\"inp_search\")\n",
    "element.send_keys(txt)\n",
    "\n",
    "driver.find_element_by_link_text(\"검색\").click()"
   ]
  },
  {
   "cell_type": "code",
   "execution_count": 6,
   "metadata": {},
   "outputs": [],
   "source": [
    "# 현재 페이지에 있는 내용을 화면에 출력하기\n",
    "\n",
    "time.sleep(1)\n",
    "full_html = driver.page_source\n",
    "soup = BeautifulSoup(full_html, 'html.parser')\n",
    "content_list = soup.find('ul','list_thumType flnon')"
   ]
  },
  {
   "cell_type": "code",
   "execution_count": 7,
   "metadata": {},
   "outputs": [
    {
     "name": "stdout",
     "output_type": "stream",
     "text": [
      "인천 도심을 즐기다  인천 중구 #당일코스#1박2일#2박3일#월미도#인천차이나타운#인천대교#인천종합어시장#연안부두#대창반점#추천코스   월미도 인천 차이나타운 점심식사(대창반점) 인천대교 인천종합어시장 연안부두 더보기  즐겨찾기 공유하기 코스에 담기\n",
      "\n",
      "\n",
      "인천의 명물빵 여행  인천 남동구 #소래포구#울진대게빵소래본점#인천차이나타운#십리향#송월동동화마을#화마을돌고래피자#수도권#먹거리#도심여행#당일치기여행#바다풍경영화촬영지#복합문화공간#데이트코스#연인과함께#맛코스#당일코스#1박2일#2박3일   소래포구 울진대게빵 소래본점 인천 차이나타운 십리향 송월동 동화마을 화마을 돌고래피자 더보기  즐겨찾기 공유하기 코스에 담기\n",
      "\n",
      "\n",
      "인천테마여행_긴 물길을 따라 이어지는 다채로운 여행 경인아라뱃길  인천 #경인아라뱃길#인천여행#인천가볼만한곳#정서진#국립생물자원관#시천가람터#아라마루#아라폭포#수향원 더보기  즐겨찾기 공유하기\n",
      "\n",
      "\n",
      "인천 가볼만한 곳. 밤의 낭만과 바다의 설렘이 공존하는 곳, 영종도 야간 드라이브 코스  인천 #인천가볼만한곳#인천여행#드라이브코스#야간드라이브#밤바다#영종도#카페오라#비치카페라군#인천공항#조개구이 더보기  즐겨찾기 공유하기\n",
      "\n",
      "\n",
      "옛 감성 물씬, 인천 구도심(동인천) 테마여행  인천 #인천여행#인천여행코스#인천가볼만한곳#배다리헌책방거리#배다리성냥마을박물관#인천문화양조장#애관극장#신포국제시장#인천개항박물관#인천아트플랫폼#11월가볼만한곳#가을여행#가을여행코스#10월가볼만한곳#가을여행의_정석 더보기  즐겨찾기 공유하기\n",
      "\n",
      "\n",
      "인천 차이나타운 & 송월동 동화마을  인천 중구 #인천가볼만한곳#유네스코세계책의수도#한국근대문학관#역사여행#차이나타운#자유공원#송월동동화마을#인생샷#달동네박물관#체험학습#헌책방골목#서점#17_18한국관광100선#수도권#한국관광100선#인천#인천차이나타운&송월동동화마을 더보기  즐겨찾기 공유하기\n",
      "\n",
      "\n",
      "인천테마여행_매력이 넘치는 섬 강화도! 강화관광플랫폼, 강화풍물시장, 소창체험관, 고려궁지  인천 강화군 #인천여행#강화도#강화도여행#강화관광플랫폼#강화풀물시장#소창체험관#고려궁지 더보기  즐겨찾기 공유하기\n",
      "\n",
      "\n",
      "[인천 당일치기 여행] 부지런히 먹으러 가는 인천 개항장거리 먹투어  인천 중구 #맛있는여행#인천가볼만한곳#당일여행#인천여행#인천여행코스#구석구석미식회 더보기  즐겨찾기 공유하기\n",
      "\n",
      "\n",
      "인천의 구석구석 숨은 명물을 찾아서...  인천 중구 #당일코스#1박2일#2박3일#추천코스   개항장 거리 송월동 동화마을 점심식사(인하의집) 동인천 삼치거리 더보기  즐겨찾기 공유하기 코스에 담기\n",
      "\n",
      "\n",
      "인천 중구 반일 도보코스  인천 중구 #도보코스#당일코스#1박2일#2박3일   개항장 거리 인천내동성공회성당 점심식사(태화원) 자유공원(인천) 재미난 박물관 더보기  즐겨찾기 공유하기 코스에 담기\n",
      "\n",
      "\n"
     ]
    }
   ],
   "source": [
    "for i in content_list:\n",
    "    print(i.text.strip())\n",
    "    print('\\n')"
   ]
  },
  {
   "cell_type": "code",
   "execution_count": 14,
   "metadata": {},
   "outputs": [
    {
     "name": "stdout",
     "output_type": "stream",
     "text": [
      "요청하신 데이터 수집 작업이 정상적으로 완료되었습니다.\n"
     ]
    }
   ],
   "source": [
    "# 현재 페이지에 있는 내용을 txt 형식을 파일에 저장하기\n",
    "\n",
    "orig_stdout = sys.stdout\n",
    "f = open(f_name, 'a', encoding='utf-8')\n",
    "sys.stdout = f\n",
    "time.sleep(1)\n",
    "\n",
    "html = driver.page_source\n",
    "soup = BeautifulSoup(html, 'html.parser')\n",
    "content_list = soup.find('ul', class_='list_thumType flnon')\n",
    "\n",
    "for i in content_list:\n",
    "    print(i.text.strip())\n",
    "    print('\\n')\n",
    "    \n",
    "sys.stdout = orig_stdout\n",
    "f.close()\n",
    "\n",
    "print('요청하신 데이터 수집 작업이 정상적으로 완료되었습니다.')"
   ]
  },
  {
   "cell_type": "code",
   "execution_count": null,
   "metadata": {},
   "outputs": [],
   "source": []
  }
 ],
 "metadata": {
  "kernelspec": {
   "display_name": "Python 3",
   "language": "python",
   "name": "python3"
  },
  "language_info": {
   "codemirror_mode": {
    "name": "ipython",
    "version": 3
   },
   "file_extension": ".py",
   "mimetype": "text/x-python",
   "name": "python",
   "nbconvert_exporter": "python",
   "pygments_lexer": "ipython3",
   "version": "3.6.5"
  }
 },
 "nbformat": 4,
 "nbformat_minor": 4
}
