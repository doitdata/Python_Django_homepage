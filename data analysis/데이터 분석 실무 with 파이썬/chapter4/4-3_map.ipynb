{
 "cells": [
  {
   "cell_type": "markdown",
   "metadata": {},
   "source": [
    "# 데이터 준비"
   ]
  },
  {
   "cell_type": "markdown",
   "metadata": {},
   "source": [
    "### 4-20 크롤링 데이터 불러오기"
   ]
  },
  {
   "cell_type": "code",
   "execution_count": 2,
   "metadata": {},
   "outputs": [
    {
     "data": {
      "text/html": [
       "<div>\n",
       "<style scoped>\n",
       "    .dataframe tbody tr th:only-of-type {\n",
       "        vertical-align: middle;\n",
       "    }\n",
       "\n",
       "    .dataframe tbody tr th {\n",
       "        vertical-align: top;\n",
       "    }\n",
       "\n",
       "    .dataframe thead th {\n",
       "        text-align: right;\n",
       "    }\n",
       "</style>\n",
       "<table border=\"1\" class=\"dataframe\">\n",
       "  <thead>\n",
       "    <tr style=\"text-align: right;\">\n",
       "      <th></th>\n",
       "      <th>content</th>\n",
       "      <th>data</th>\n",
       "      <th>like</th>\n",
       "      <th>place</th>\n",
       "      <th>tags</th>\n",
       "    </tr>\n",
       "  </thead>\n",
       "  <tbody>\n",
       "    <tr>\n",
       "      <th>0</th>\n",
       "      <td>다양한 해산물과 환상적인 바다뷰를 보면서 식사를 할수 있는 맛집식당!!.🌀제주 서귀...</td>\n",
       "      <td>2020-05-08</td>\n",
       "      <td>0</td>\n",
       "      <td>NaN</td>\n",
       "      <td>['#성산일출봉맛집', '#성산맛집', '#우도맛집', '#제주맛집', '#제주도맛...</td>\n",
       "    </tr>\n",
       "    <tr>\n",
       "      <th>1</th>\n",
       "      <td>제주도가서 은갈치는 먹어봐야지~👍 최고의 갈치 구이 맛집 하면 갈치왕!! -꼬순맛이...</td>\n",
       "      <td>2020-05-07</td>\n",
       "      <td>0</td>\n",
       "      <td>NaN</td>\n",
       "      <td>['#제주도맛집', '#서귀포맛집', '#제주도맛집베스트', '#제주데이트', '#...</td>\n",
       "    </tr>\n",
       "    <tr>\n",
       "      <th>2</th>\n",
       "      <td>.🌀산도롱맨도롱🌀제주시 구좌읍 해맞이해안로 2284🌀영업시간 : 09:00 ~ 재료...</td>\n",
       "      <td>2020-05-08</td>\n",
       "      <td>0</td>\n",
       "      <td>NaN</td>\n",
       "      <td>['#제주맛집', '#제주도맛집', '#제주카페', '#제주도카페', '#성산일출봉...</td>\n",
       "    </tr>\n",
       "    <tr>\n",
       "      <th>3</th>\n",
       "      <td>중문관광단지내에서 무료픽업서비스도해주고 감귤밭과 중문바다 사이에 있어서동화같은 느낌...</td>\n",
       "      <td>2020-05-08</td>\n",
       "      <td>0</td>\n",
       "      <td>NaN</td>\n",
       "      <td>[]</td>\n",
       "    </tr>\n",
       "    <tr>\n",
       "      <th>4</th>\n",
       "      <td>𖤐산도롱맨도롱에서 즐기는 맛있는 힐링!진한 국물에 맛있는 갈비!한그릇 뚝 딱 하고 ...</td>\n",
       "      <td>2020-05-08</td>\n",
       "      <td>1,185</td>\n",
       "      <td>NaN</td>\n",
       "      <td>['#성산맛집', '#제주섭지코지맛집', '#제주맛집추천', '#제주도점심', '#...</td>\n",
       "    </tr>\n",
       "  </tbody>\n",
       "</table>\n",
       "</div>"
      ],
      "text/plain": [
       "                                             content        data   like place  \\\n",
       "0  다양한 해산물과 환상적인 바다뷰를 보면서 식사를 할수 있는 맛집식당!!.🌀제주 서귀...  2020-05-08      0   NaN   \n",
       "1  제주도가서 은갈치는 먹어봐야지~👍 최고의 갈치 구이 맛집 하면 갈치왕!! -꼬순맛이...  2020-05-07      0   NaN   \n",
       "2  .🌀산도롱맨도롱🌀제주시 구좌읍 해맞이해안로 2284🌀영업시간 : 09:00 ~ 재료...  2020-05-08      0   NaN   \n",
       "3  중문관광단지내에서 무료픽업서비스도해주고 감귤밭과 중문바다 사이에 있어서동화같은 느낌...  2020-05-08      0   NaN   \n",
       "4  𖤐산도롱맨도롱에서 즐기는 맛있는 힐링!진한 국물에 맛있는 갈비!한그릇 뚝 딱 하고 ...  2020-05-08  1,185   NaN   \n",
       "\n",
       "                                                tags  \n",
       "0  ['#성산일출봉맛집', '#성산맛집', '#우도맛집', '#제주맛집', '#제주도맛...  \n",
       "1  ['#제주도맛집', '#서귀포맛집', '#제주도맛집베스트', '#제주데이트', '#...  \n",
       "2  ['#제주맛집', '#제주도맛집', '#제주카페', '#제주도카페', '#성산일출봉...  \n",
       "3                                                 []  \n",
       "4  ['#성산맛집', '#제주섭지코지맛집', '#제주맛집추천', '#제주도점심', '#...  "
      ]
     },
     "execution_count": 2,
     "metadata": {},
     "output_type": "execute_result"
    }
   ],
   "source": [
    "import pandas as pd\n",
    "raw_total = pd.read_excel('./3_1_crawling_raw.xlsx')\n",
    "raw_total.head()"
   ]
  },
  {
   "cell_type": "markdown",
   "metadata": {},
   "source": [
    "### 4-21 위치정보 가져오기"
   ]
  },
  {
   "cell_type": "code",
   "execution_count": 3,
   "metadata": {},
   "outputs": [
    {
     "data": {
      "text/plain": [
       "Jeju                                  8\n",
       "환상의 섬 Jeju Island                     4\n",
       "Seogwipo                              3\n",
       "Jeju-do                               3\n",
       "제주도, Jeju                             3\n",
       "애월해안가                                 2\n",
       "송악산 둘레길                               2\n",
       "수산봉                                   2\n",
       "Umu Pudding , 우무                      2\n",
       "휴애리 자연생활공원                            1\n",
       "Jeju Island                           1\n",
       "솔트스톤                                  1\n",
       "청초밭영농조합법인                             1\n",
       "용두암                                   1\n",
       "Cocomong Eco Park                     1\n",
       "도두해안                                  1\n",
       "아쿠아뷰티크                                1\n",
       "꽃이다 Flower & Cafe                     1\n",
       "송당리 풍림다방                              1\n",
       "집                                     1\n",
       "아부오름                                  1\n",
       "남원 포구                                 1\n",
       "쇠소깍                                   1\n",
       "제주도                                   1\n",
       "버드나무집                                 1\n",
       "가시리 꽃길                                1\n",
       "커피캄머                                  1\n",
       "죽성고을                                  1\n",
       "당당 / Dang Dang                        1\n",
       "제주 함덕 서우봉 해변                          1\n",
       "용눈이오름                                 1\n",
       "올래 국수                                 1\n",
       "Seogwipo, Jeju Island, South Korea    1\n",
       "춘심이네 2호점                              1\n",
       "제주어린왕자감귤밭                             1\n",
       "제주도 한경면 조수리                           1\n",
       "제주고산리유적                               1\n",
       "월정리갈비밥                                1\n",
       "마담나탈리소셜클럽                             1\n",
       "한림칼국수                                 1\n",
       "서귀포시 안덕면                              1\n",
       "최남단감귤체험                               1\n",
       "미친부엌                                  1\n",
       "월정리갈비밥 서귀포점                           1\n",
       "카페한라산                                 1\n",
       "제주 장인의집                               1\n",
       "밤수지맨드라미                               1\n",
       "고집돌우럭-gozipfish                       1\n",
       "명진전복                                  1\n",
       "게으른날 lazy day                         1\n",
       "성산옥탑                                  1\n",
       "돈사돈 본점                                1\n",
       "물항식당                                  1\n",
       "동문시장 Dongmoon Market 東門水産市場           1\n",
       "Name: place, dtype: int64"
      ]
     },
     "execution_count": 3,
     "metadata": {},
     "output_type": "execute_result"
    }
   ],
   "source": [
    "location_counts = raw_total['place'].value_counts()\n",
    "location_counts"
   ]
  },
  {
   "cell_type": "markdown",
   "metadata": {},
   "source": [
    "### 4-22 등록된 위치정보별 빈도수 데이터"
   ]
  },
  {
   "cell_type": "code",
   "execution_count": 4,
   "metadata": {},
   "outputs": [
    {
     "data": {
      "text/html": [
       "<div>\n",
       "<style scoped>\n",
       "    .dataframe tbody tr th:only-of-type {\n",
       "        vertical-align: middle;\n",
       "    }\n",
       "\n",
       "    .dataframe tbody tr th {\n",
       "        vertical-align: top;\n",
       "    }\n",
       "\n",
       "    .dataframe thead th {\n",
       "        text-align: right;\n",
       "    }\n",
       "</style>\n",
       "<table border=\"1\" class=\"dataframe\">\n",
       "  <thead>\n",
       "    <tr style=\"text-align: right;\">\n",
       "      <th></th>\n",
       "      <th>place</th>\n",
       "    </tr>\n",
       "  </thead>\n",
       "  <tbody>\n",
       "    <tr>\n",
       "      <th>Jeju</th>\n",
       "      <td>8</td>\n",
       "    </tr>\n",
       "    <tr>\n",
       "      <th>환상의 섬 Jeju Island</th>\n",
       "      <td>4</td>\n",
       "    </tr>\n",
       "    <tr>\n",
       "      <th>Seogwipo</th>\n",
       "      <td>3</td>\n",
       "    </tr>\n",
       "    <tr>\n",
       "      <th>Jeju-do</th>\n",
       "      <td>3</td>\n",
       "    </tr>\n",
       "    <tr>\n",
       "      <th>제주도, Jeju</th>\n",
       "      <td>3</td>\n",
       "    </tr>\n",
       "  </tbody>\n",
       "</table>\n",
       "</div>"
      ],
      "text/plain": [
       "                   place\n",
       "Jeju                   8\n",
       "환상의 섬 Jeju Island      4\n",
       "Seogwipo               3\n",
       "Jeju-do                3\n",
       "제주도, Jeju              3"
      ]
     },
     "execution_count": 4,
     "metadata": {},
     "output_type": "execute_result"
    }
   ],
   "source": [
    "location_counts_df = pd.DataFrame(location_counts)\n",
    "location_counts_df.head()"
   ]
  },
  {
   "cell_type": "markdown",
   "metadata": {},
   "source": [
    "### 4-23 위치정보 빈도수 데이터 저장하기"
   ]
  },
  {
   "cell_type": "code",
   "execution_count": 6,
   "metadata": {},
   "outputs": [],
   "source": [
    "location_counts_df.to_excel('./3_3_location_counts.xlsx')"
   ]
  },
  {
   "cell_type": "markdown",
   "metadata": {},
   "source": [
    "### 4-24 위치 정보 종류 확인하기"
   ]
  },
  {
   "cell_type": "code",
   "execution_count": 7,
   "metadata": {},
   "outputs": [
    {
     "data": {
      "text/plain": [
       "['Jeju',\n",
       " '환상의 섬 Jeju Island',\n",
       " 'Seogwipo',\n",
       " 'Jeju-do',\n",
       " '제주도, Jeju',\n",
       " '애월해안가',\n",
       " '송악산 둘레길',\n",
       " '수산봉',\n",
       " 'Umu Pudding , 우무',\n",
       " '휴애리 자연생활공원',\n",
       " 'Jeju Island',\n",
       " '솔트스톤',\n",
       " '청초밭영농조합법인',\n",
       " '용두암',\n",
       " 'Cocomong Eco Park',\n",
       " '도두해안',\n",
       " '아쿠아뷰티크',\n",
       " '꽃이다 Flower & Cafe',\n",
       " '송당리 풍림다방',\n",
       " '집',\n",
       " '아부오름',\n",
       " '남원 포구',\n",
       " '쇠소깍',\n",
       " '제주도',\n",
       " '버드나무집',\n",
       " '가시리 꽃길',\n",
       " '커피캄머',\n",
       " '죽성고을',\n",
       " '당당 / Dang Dang',\n",
       " '제주 함덕 서우봉 해변',\n",
       " '용눈이오름',\n",
       " '올래 국수',\n",
       " 'Seogwipo, Jeju Island, South Korea',\n",
       " '춘심이네 2호점',\n",
       " '제주어린왕자감귤밭',\n",
       " '제주도 한경면 조수리',\n",
       " '제주고산리유적',\n",
       " '월정리갈비밥',\n",
       " '마담나탈리소셜클럽',\n",
       " '한림칼국수',\n",
       " '서귀포시 안덕면',\n",
       " '최남단감귤체험',\n",
       " '미친부엌',\n",
       " '월정리갈비밥 서귀포점',\n",
       " '카페한라산',\n",
       " '제주 장인의집',\n",
       " '밤수지맨드라미',\n",
       " '고집돌우럭-gozipfish',\n",
       " '명진전복',\n",
       " '게으른날 lazy day',\n",
       " '성산옥탑',\n",
       " '돈사돈 본점',\n",
       " '물항식당',\n",
       " '동문시장 Dongmoon Market 東門水産市場']"
      ]
     },
     "execution_count": 7,
     "metadata": {},
     "output_type": "execute_result"
    }
   ],
   "source": [
    "locations = list(location_counts.index)\n",
    "locations"
   ]
  },
  {
   "cell_type": "markdown",
   "metadata": {},
   "source": [
    "# 카카오 api 활용한 장소검색"
   ]
  },
  {
   "cell_type": "markdown",
   "metadata": {},
   "source": [
    "### 4-25 카카오 검색 api 사용 예시"
   ]
  },
  {
   "cell_type": "code",
   "execution_count": 9,
   "metadata": {},
   "outputs": [
    {
     "data": {
      "text/plain": [
       "[{'address_name': '서울 마포구 서교동 395-166',\n",
       "  'category_group_code': 'CE7',\n",
       "  'category_group_name': '카페',\n",
       "  'category_name': '음식점 > 카페 > 커피전문점 > 스타벅스',\n",
       "  'distance': '',\n",
       "  'id': '26572121',\n",
       "  'phone': '',\n",
       "  'place_name': '스타벅스 서교점',\n",
       "  'place_url': 'http://place.map.kakao.com/26572121',\n",
       "  'road_address_name': '서울 마포구 양화로 78',\n",
       "  'x': '126.916980454434',\n",
       "  'y': '37.5514601750423'},\n",
       " {'address_name': '서울 마포구 합정동 472',\n",
       "  'category_group_code': 'CE7',\n",
       "  'category_group_name': '카페',\n",
       "  'category_name': '음식점 > 카페 > 커피전문점 > 스타벅스',\n",
       "  'distance': '',\n",
       "  'id': '2057327896',\n",
       "  'phone': '1522-3232',\n",
       "  'place_name': '스타벅스 합정점',\n",
       "  'place_url': 'http://place.map.kakao.com/2057327896',\n",
       "  'road_address_name': '서울 마포구 월드컵로1길 14',\n",
       "  'x': '126.9121929350555',\n",
       "  'y': '37.5499934909868'},\n",
       " {'address_name': '서울 마포구 서교동 490',\n",
       "  'category_group_code': 'CE7',\n",
       "  'category_group_name': '카페',\n",
       "  'category_name': '음식점 > 카페 > 커피전문점 > 스타벅스',\n",
       "  'distance': '',\n",
       "  'id': '288597324',\n",
       "  'phone': '',\n",
       "  'place_name': '스타벅스 합정폴리스R점',\n",
       "  'place_url': 'http://place.map.kakao.com/288597324',\n",
       "  'road_address_name': '서울 마포구 양화로 45',\n",
       "  'x': '126.91340049045',\n",
       "  'y': '37.5508989849269'},\n",
       " {'address_name': '서울 마포구 서교동 490',\n",
       "  'category_group_code': 'CE7',\n",
       "  'category_group_name': '카페',\n",
       "  'category_name': '음식점 > 카페 > 커피전문점 > 스타벅스',\n",
       "  'distance': '',\n",
       "  'id': '27076117',\n",
       "  'phone': '1522-3232',\n",
       "  'place_name': '스타벅스 합정메세나몰점',\n",
       "  'place_url': 'http://place.map.kakao.com/27076117',\n",
       "  'road_address_name': '서울 마포구 양화로 45',\n",
       "  'x': '126.913541853312',\n",
       "  'y': '37.5500016943689'},\n",
       " {'address_name': '서울 마포구 서교동 475-13',\n",
       "  'category_group_code': 'CE7',\n",
       "  'category_group_name': '카페',\n",
       "  'category_name': '음식점 > 카페 > 커피전문점 > 스타벅스',\n",
       "  'distance': '',\n",
       "  'id': '12776689',\n",
       "  'phone': '1522-3232',\n",
       "  'place_name': '스타벅스 망원역점',\n",
       "  'place_url': 'http://place.map.kakao.com/12776689',\n",
       "  'road_address_name': '서울 마포구 월드컵로 74',\n",
       "  'x': '126.91071941264',\n",
       "  'y': '37.5557803955969'},\n",
       " {'address_name': '서울 마포구 서교동 374-20',\n",
       "  'category_group_code': 'CE7',\n",
       "  'category_group_name': '카페',\n",
       "  'category_name': '음식점 > 카페 > 커피전문점 > 스타벅스',\n",
       "  'distance': '',\n",
       "  'id': '27416913',\n",
       "  'phone': '',\n",
       "  'place_name': '스타벅스 서교동사거리',\n",
       "  'place_url': 'http://place.map.kakao.com/27416913',\n",
       "  'road_address_name': '서울 마포구 양화로 105',\n",
       "  'x': '126.918607875358',\n",
       "  'y': '37.5534723352988'},\n",
       " {'address_name': '서울 마포구 서교동 353-5',\n",
       "  'category_group_code': 'CE7',\n",
       "  'category_group_name': '카페',\n",
       "  'category_name': '음식점 > 카페 > 커피전문점 > 스타벅스',\n",
       "  'distance': '',\n",
       "  'id': '1436512690',\n",
       "  'phone': '1522-3232',\n",
       "  'place_name': '스타벅스 홍대입구역사거리R점',\n",
       "  'place_url': 'http://place.map.kakao.com/1436512690',\n",
       "  'road_address_name': '서울 마포구 양화로 125',\n",
       "  'x': '126.920317785646',\n",
       "  'y': '37.5546231745866'},\n",
       " {'address_name': '서울 마포구 동교동 205-6',\n",
       "  'category_group_code': 'CE7',\n",
       "  'category_group_name': '카페',\n",
       "  'category_name': '음식점 > 카페 > 커피전문점 > 스타벅스',\n",
       "  'distance': '',\n",
       "  'id': '20705154',\n",
       "  'phone': '',\n",
       "  'place_name': '스타벅스 동교점',\n",
       "  'place_url': 'http://place.map.kakao.com/20705154',\n",
       "  'road_address_name': '서울 마포구 월드컵북로 22',\n",
       "  'x': '126.919993980608',\n",
       "  'y': '37.5568646370831'},\n",
       " {'address_name': '서울 마포구 상수동 86-22',\n",
       "  'category_group_code': 'CE7',\n",
       "  'category_group_name': '카페',\n",
       "  'category_name': '음식점 > 카페 > 커피전문점 > 스타벅스',\n",
       "  'distance': '',\n",
       "  'id': '17127074',\n",
       "  'phone': '',\n",
       "  'place_name': '스타벅스 홍대삼거리점',\n",
       "  'place_url': 'http://place.map.kakao.com/17127074',\n",
       "  'road_address_name': '서울 마포구 와우산로 64',\n",
       "  'x': '126.92326479924',\n",
       "  'y': '37.5501958209348'},\n",
       " {'address_name': '서울 마포구 동교동 159-1',\n",
       "  'category_group_code': 'CE7',\n",
       "  'category_group_name': '카페',\n",
       "  'category_name': '음식점 > 카페 > 커피전문점 > 스타벅스',\n",
       "  'distance': '',\n",
       "  'id': '22105109',\n",
       "  'phone': '',\n",
       "  'place_name': '스타벅스 홍대역점',\n",
       "  'place_url': 'http://place.map.kakao.com/22105109',\n",
       "  'road_address_name': '서울 마포구 양화로 165',\n",
       "  'x': '126.923637798148',\n",
       "  'y': '37.5572887166274'},\n",
       " {'address_name': '서울 마포구 서교동 343-10',\n",
       "  'category_group_code': 'CE7',\n",
       "  'category_group_name': '카페',\n",
       "  'category_name': '음식점 > 카페 > 커피전문점 > 스타벅스',\n",
       "  'distance': '',\n",
       "  'id': '7962302',\n",
       "  'phone': '',\n",
       "  'place_name': '스타벅스 홍대갤러리점',\n",
       "  'place_url': 'http://place.map.kakao.com/7962302',\n",
       "  'road_address_name': '서울 마포구 와우산로 101',\n",
       "  'x': '126.924809884926',\n",
       "  'y': '37.5531989403216'},\n",
       " {'address_name': '서울 마포구 상수동 329-1',\n",
       "  'category_group_code': 'CE7',\n",
       "  'category_group_name': '카페',\n",
       "  'category_name': '음식점 > 카페 > 커피전문점 > 스타벅스',\n",
       "  'distance': '',\n",
       "  'id': '26848996',\n",
       "  'phone': '',\n",
       "  'place_name': '스타벅스 상수역점',\n",
       "  'place_url': 'http://place.map.kakao.com/26848996',\n",
       "  'road_address_name': '서울 마포구 독막로 88',\n",
       "  'x': '126.923272022704',\n",
       "  'y': '37.5475649101839'},\n",
       " {'address_name': '서울 마포구 동교동 166-1',\n",
       "  'category_group_code': 'CE7',\n",
       "  'category_group_name': '카페',\n",
       "  'category_name': '음식점 > 카페 > 커피전문점 > 스타벅스',\n",
       "  'distance': '',\n",
       "  'id': '231272664',\n",
       "  'phone': '',\n",
       "  'place_name': '스타벅스 홍대공항철도역점',\n",
       "  'place_url': 'http://place.map.kakao.com/231272664',\n",
       "  'road_address_name': '서울 마포구 양화로 178',\n",
       "  'x': '126.92518582665798',\n",
       "  'y': '37.557509550972256'},\n",
       " {'address_name': '서울 마포구 창전동 130',\n",
       "  'category_group_code': 'CE7',\n",
       "  'category_group_name': '카페',\n",
       "  'category_name': '음식점 > 카페 > 커피전문점 > 스타벅스',\n",
       "  'distance': '',\n",
       "  'id': '1572099327',\n",
       "  'phone': '',\n",
       "  'place_name': '스타벅스 서강광흥창역점',\n",
       "  'place_url': 'http://place.map.kakao.com/1572099327',\n",
       "  'road_address_name': '서울 마포구 서강로 69',\n",
       "  'x': '126.931657893743',\n",
       "  'y': '37.5493756625598'},\n",
       " {'address_name': '서울 영등포구 당산동6가 304-1',\n",
       "  'category_group_code': 'CE7',\n",
       "  'category_group_name': '카페',\n",
       "  'category_name': '음식점 > 카페 > 커피전문점 > 스타벅스',\n",
       "  'distance': '',\n",
       "  'id': '7961651',\n",
       "  'phone': '',\n",
       "  'place_name': '스타벅스 당산역점',\n",
       "  'place_url': 'http://place.map.kakao.com/7961651',\n",
       "  'road_address_name': '서울 영등포구 당산로 231',\n",
       "  'x': '126.901910730755',\n",
       "  'y': '37.53446658474'}]"
      ]
     },
     "execution_count": 9,
     "metadata": {},
     "output_type": "execute_result"
    }
   ],
   "source": [
    "import requests\n",
    "searching =' 합정 스타벅스'\n",
    "\n",
    "url = 'https://dapi.kakao.com/v2/local/search/keyword.json?query={}'.format(searching)\n",
    "headers = {\n",
    "    \"Authorization\": \"KakaoAK a51c81b5a420a5ddea5d69c72a793da0\"\n",
    "}\n",
    "places = requests.get(url, headers = headers).json()['documents']\n",
    "places"
   ]
  },
  {
   "cell_type": "markdown",
   "metadata": {},
   "source": [
    "### 4-26 장소 검색 함수 만들기"
   ]
  },
  {
   "cell_type": "code",
   "execution_count": 10,
   "metadata": {},
   "outputs": [],
   "source": [
    "def find_places(searching):\n",
    "    url = 'https://dapi.kakao.com/v2/local/search/keyword.json?query={}'.format(searching)\n",
    "    headers = {\n",
    "        \"Authorization\": \"KakaoAK a51c81b5a420a5ddea5d69c72a793da0\"\n",
    "    }\n",
    "    \n",
    "    places = requests.get(url, headers =headers).json()['documents']\n",
    "    place= places[0]\n",
    "    name = place['place_name']\n",
    "    x = place['x']\n",
    "    y = place['y']\n",
    "    data = [name, x, y, searching]\n",
    "\n",
    "    return data"
   ]
  },
  {
   "cell_type": "markdown",
   "metadata": {},
   "source": [
    "### 4-27 제주공항 검색 예시"
   ]
  },
  {
   "cell_type": "code",
   "execution_count": 11,
   "metadata": {},
   "outputs": [
    {
     "data": {
      "text/plain": [
       "['제주국제공항', '126.492769004244', '33.5070789578184', '제주공항']"
      ]
     },
     "execution_count": 11,
     "metadata": {},
     "output_type": "execute_result"
    }
   ],
   "source": [
    "data = find_places('제주공항')\n",
    "data"
   ]
  },
  {
   "cell_type": "markdown",
   "metadata": {},
   "source": [
    "### 4-28 인스타그램 위치명 위치정보 검색하기\n",
    "- 검색시 시간이 많이 걸려, 현재작업 진행 현황 볼수 있도록 tqdm_notebook 추가"
   ]
  },
  {
   "cell_type": "code",
   "execution_count": 14,
   "metadata": {},
   "outputs": [],
   "source": [
    "from tqdm import tqdm_notebook"
   ]
  },
  {
   "cell_type": "code",
   "execution_count": 17,
   "metadata": {},
   "outputs": [
    {
     "name": "stderr",
     "output_type": "stream",
     "text": [
      "D:\\anaconda\\envs\\chch4934\\lib\\site-packages\\ipykernel_launcher.py:4: TqdmDeprecationWarning: This function will be removed in tqdm==5.0.0\n",
      "Please use `tqdm.notebook.tqdm` instead of `tqdm.tqdm_notebook`\n",
      "  after removing the cwd from sys.path.\n"
     ]
    },
    {
     "data": {
      "application/vnd.jupyter.widget-view+json": {
       "model_id": "efb9b5c92d7e4fa1a457f6a0c5710f98",
       "version_major": 2,
       "version_minor": 0
      },
      "text/plain": [
       "HBox(children=(FloatProgress(value=0.0, max=54.0), HTML(value='')))"
      ]
     },
     "metadata": {},
     "output_type": "display_data"
    },
    {
     "name": "stdout",
     "output_type": "stream",
     "text": [
      "\n"
     ]
    },
    {
     "data": {
      "text/plain": [
       "[['Jeju in aA', '126.83650369902168', '33.53833652360498', 'Jeju'],\n",
       " ['서귀포잠수함', '126.558616052674', '33.2393033784206', 'Seogwipo'],\n",
       " ['Jeju in aA', '126.83650369902168', '33.53833652360498', '제주도, Jeju'],\n",
       " ['송악산둘레길', '126.293075154019', '33.1968232389213', '송악산 둘레길'],\n",
       " ['수산봉', '126.384507315758', '33.4731972961575', '수산봉'],\n",
       " ['휴애리자연생활공원', '126.635409752107', '33.309410458656', '휴애리 자연생활공원'],\n",
       " ['제주도', '126.545875710283', '33.3797769227161', 'Jeju Island'],\n",
       " ['솔트스톤스페셜커피', '126.542500655045', '33.500369993734', '솔트스톤'],\n",
       " ['청초밭영농조합법인', '126.782660207214', '33.421480583843', '청초밭영농조합법인'],\n",
       " ['용두암', '126.511957109074', '33.5161106216721', '용두암'],\n",
       " ['제주코코몽에코파크', '126.705848448076', '33.2745562278868', 'Cocomong Eco Park'],\n",
       " ['해안풍경펜션', '126.474979260817', '33.5087899911818', '도두해안'],\n",
       " ['아쿠아뷰티크', '126.80145126909102', '33.55684282182069', '아쿠아뷰티크'],\n",
       " ['오직꽃', '127.11721127355734', '37.630473386476744', '꽃이다 Flower & Cafe'],\n",
       " ['풍림다방', '126.783464674862', '33.4716006681825', '송당리 풍림다방'],\n",
       " ['집', '127.04116353378437', '37.183734613589955', '집'],\n",
       " ['아부오름', '126.777214998455', '33.4485841755621', '아부오름'],\n",
       " ['위미항', '126.661445396967', '33.269920656371', '남원 포구'],\n",
       " ['쇠소깍', '126.624331997703', '33.252354866117', '쇠소깍'],\n",
       " ['제주도', '126.545875710283', '33.3797769227161', '제주도'],\n",
       " ['버드나무집', '126.66739378515229', '33.54129671552933', '버드나무집'],\n",
       " ['커피캄머', '126.261304724338', '33.2271241774015', '커피캄머'],\n",
       " ['죽성고을', '126.534112840331', '33.4622301052758', '죽성고을'],\n",
       " ['당당(DANGDANG)', '127.690260764175', '34.9498390507469', '당당 / Dang Dang'],\n",
       " ['함덕해수욕장', '126.669238934013', '33.5430615661113', '제주 함덕 서우봉 해변'],\n",
       " ['용눈이오름', '126.83251014664', '33.4596996808185', '용눈이오름'],\n",
       " ['올래국수', '127.332384955272', '36.3482162641748', '올래 국수'],\n",
       " ['춘심이네 2호점', '126.485328549865', '33.4644029633096', '춘심이네 2호점'],\n",
       " ['어린왕자감귤밭', '126.281527492081', '33.2535048155685', '제주어린왕자감귤밭'],\n",
       " ['올레길 13코스(용수-저지 올레)',\n",
       "  '126.21230336658091',\n",
       "  '33.328625315540165',\n",
       "  '제주도 한경면 조수리'],\n",
       " ['제주고산리유적', '126.1666532183138', '33.305082570091024', '제주고산리유적'],\n",
       " ['월정리갈비밥', '126.796786628131', '33.5548553525262', '월정리갈비밥'],\n",
       " ['마담나탈리소셜클럽', '126.249703899682', '33.399841106569', '마담나탈리소셜클럽'],\n",
       " ['한림칼국수', '126.261506447291', '33.4155670879451', '한림칼국수'],\n",
       " ['올레길 9코스(대평-화순 올레)', '126.34893103178686', '33.24195298266035', '서귀포시 안덕면'],\n",
       " ['최남단체험감귤농장', '126.693513028586', '33.2905502138608', '최남단감귤체험'],\n",
       " ['미친부엌', '126.52313770399789', '33.51699084178409', '미친부엌'],\n",
       " ['월정리갈비밥 서귀포점', '126.279401574275', '33.2771723978877', '월정리갈비밥 서귀포점'],\n",
       " ['카페한라산', '126.86302545302301', '33.52478250671836', '카페한라산'],\n",
       " ['장인의집', '126.326837162725', '33.4657424492049', '제주 장인의집'],\n",
       " ['밤수지맨드라미', '126.948486772141', '33.5207145937426', '밤수지맨드라미'],\n",
       " ['명진전복', '126.850184971014', '33.5324709034017', '명진전복'],\n",
       " ['성산옥탑', '126.93464540341594', '33.461541106451605', '성산옥탑'],\n",
       " ['돈사돈 본관', '126.464026561351', '33.4788680122235', '돈사돈 본점'],\n",
       " ['물항식당 본점', '126.529083965373', '33.5169090053518', '물항식당']]"
      ]
     },
     "execution_count": 17,
     "metadata": {},
     "output_type": "execute_result"
    }
   ],
   "source": [
    "import time\n",
    "\n",
    "locations_inform = [ ]\n",
    "for location in tqdm_notebook(locations):\n",
    "    try:\n",
    "        data = find_places(location)\n",
    "        locations_inform.append(data)\n",
    "        time.sleep(0.5)\n",
    "    except:\n",
    "        pass\n",
    "    \n",
    "locations_inform"
   ]
  },
  {
   "cell_type": "code",
   "execution_count": 19,
   "metadata": {},
   "outputs": [],
   "source": [
    "### 4-29 위치정보 저장하기\n",
    "locations_inform_df = pd.DataFrame(locations_inform)\n",
    "locations_inform_df.columns = ['name_official', '경도', '위도', '인스타위치명']\n",
    "locations_inform_df.to_excel('./3_3_locatios.xlsx', index = False)"
   ]
  },
  {
   "cell_type": "markdown",
   "metadata": {},
   "source": [
    "### 4-30 인스타 게시량 및 위치정보 데이터 불러오기"
   ]
  },
  {
   "cell_type": "code",
   "execution_count": 20,
   "metadata": {},
   "outputs": [],
   "source": [
    "location_counts_df = pd.read_excel('./3_3_location_counts.xlsx', index_col=0)\n",
    "locations_inform_df = pd.read_excel('./3_3_locatios.xlsx')"
   ]
  },
  {
   "cell_type": "markdown",
   "metadata": {},
   "source": [
    "### 4-31 위치데이터 병합하기"
   ]
  },
  {
   "cell_type": "code",
   "execution_count": 21,
   "metadata": {},
   "outputs": [
    {
     "data": {
      "text/html": [
       "<div>\n",
       "<style scoped>\n",
       "    .dataframe tbody tr th:only-of-type {\n",
       "        vertical-align: middle;\n",
       "    }\n",
       "\n",
       "    .dataframe tbody tr th {\n",
       "        vertical-align: top;\n",
       "    }\n",
       "\n",
       "    .dataframe thead th {\n",
       "        text-align: right;\n",
       "    }\n",
       "</style>\n",
       "<table border=\"1\" class=\"dataframe\">\n",
       "  <thead>\n",
       "    <tr style=\"text-align: right;\">\n",
       "      <th></th>\n",
       "      <th>name_official</th>\n",
       "      <th>경도</th>\n",
       "      <th>위도</th>\n",
       "      <th>인스타위치명</th>\n",
       "      <th>place</th>\n",
       "    </tr>\n",
       "  </thead>\n",
       "  <tbody>\n",
       "    <tr>\n",
       "      <th>4</th>\n",
       "      <td>수산봉</td>\n",
       "      <td>126.384507</td>\n",
       "      <td>33.473197</td>\n",
       "      <td>수산봉</td>\n",
       "      <td>2</td>\n",
       "    </tr>\n",
       "    <tr>\n",
       "      <th>6</th>\n",
       "      <td>제주도</td>\n",
       "      <td>126.545876</td>\n",
       "      <td>33.379777</td>\n",
       "      <td>Jeju Island</td>\n",
       "      <td>1</td>\n",
       "    </tr>\n",
       "    <tr>\n",
       "      <th>19</th>\n",
       "      <td>제주도</td>\n",
       "      <td>126.545876</td>\n",
       "      <td>33.379777</td>\n",
       "      <td>제주도</td>\n",
       "      <td>1</td>\n",
       "    </tr>\n",
       "    <tr>\n",
       "      <th>8</th>\n",
       "      <td>청초밭영농조합법인</td>\n",
       "      <td>126.782660</td>\n",
       "      <td>33.421481</td>\n",
       "      <td>청초밭영농조합법인</td>\n",
       "      <td>1</td>\n",
       "    </tr>\n",
       "    <tr>\n",
       "      <th>9</th>\n",
       "      <td>용두암</td>\n",
       "      <td>126.511957</td>\n",
       "      <td>33.516111</td>\n",
       "      <td>용두암</td>\n",
       "      <td>1</td>\n",
       "    </tr>\n",
       "  </tbody>\n",
       "</table>\n",
       "</div>"
      ],
      "text/plain": [
       "   name_official          경도         위도       인스타위치명  place\n",
       "4            수산봉  126.384507  33.473197          수산봉      2\n",
       "6            제주도  126.545876  33.379777  Jeju Island      1\n",
       "19           제주도  126.545876  33.379777          제주도      1\n",
       "8      청초밭영농조합법인  126.782660  33.421481    청초밭영농조합법인      1\n",
       "9            용두암  126.511957  33.516111          용두암      1"
      ]
     },
     "execution_count": 21,
     "metadata": {},
     "output_type": "execute_result"
    }
   ],
   "source": [
    "location_data = pd.merge(locations_inform_df, location_counts_df,\n",
    "                        how = 'inner', left_on='name_official',\n",
    "                        right_index = True)\n",
    "location_data.head()"
   ]
  },
  {
   "cell_type": "markdown",
   "metadata": {},
   "source": [
    "### 동일한 name_official 가지는 데이터 -> 인스타 게수 합치기"
   ]
  },
  {
   "cell_type": "code",
   "execution_count": 22,
   "metadata": {},
   "outputs": [
    {
     "data": {
      "text/html": [
       "<div>\n",
       "<style scoped>\n",
       "    .dataframe tbody tr th:only-of-type {\n",
       "        vertical-align: middle;\n",
       "    }\n",
       "\n",
       "    .dataframe tbody tr th {\n",
       "        vertical-align: top;\n",
       "    }\n",
       "\n",
       "    .dataframe thead th {\n",
       "        text-align: right;\n",
       "    }\n",
       "</style>\n",
       "<table border=\"1\" class=\"dataframe\">\n",
       "  <thead>\n",
       "    <tr style=\"text-align: right;\">\n",
       "      <th></th>\n",
       "      <th></th>\n",
       "      <th></th>\n",
       "      <th>place</th>\n",
       "    </tr>\n",
       "    <tr>\n",
       "      <th>name_official</th>\n",
       "      <th>경도</th>\n",
       "      <th>위도</th>\n",
       "      <th></th>\n",
       "    </tr>\n",
       "  </thead>\n",
       "  <tbody>\n",
       "    <tr>\n",
       "      <th>마담나탈리소셜클럽</th>\n",
       "      <th>126.249704</th>\n",
       "      <th>33.399841</th>\n",
       "      <td>1</td>\n",
       "    </tr>\n",
       "    <tr>\n",
       "      <th>명진전복</th>\n",
       "      <th>126.850185</th>\n",
       "      <th>33.532471</th>\n",
       "      <td>1</td>\n",
       "    </tr>\n",
       "    <tr>\n",
       "      <th>미친부엌</th>\n",
       "      <th>126.523138</th>\n",
       "      <th>33.516991</th>\n",
       "      <td>1</td>\n",
       "    </tr>\n",
       "    <tr>\n",
       "      <th>밤수지맨드라미</th>\n",
       "      <th>126.948487</th>\n",
       "      <th>33.520715</th>\n",
       "      <td>1</td>\n",
       "    </tr>\n",
       "    <tr>\n",
       "      <th>버드나무집</th>\n",
       "      <th>126.667394</th>\n",
       "      <th>33.541297</th>\n",
       "      <td>1</td>\n",
       "    </tr>\n",
       "  </tbody>\n",
       "</table>\n",
       "</div>"
      ],
      "text/plain": [
       "                                    place\n",
       "name_official 경도         위도              \n",
       "마담나탈리소셜클럽     126.249704 33.399841      1\n",
       "명진전복          126.850185 33.532471      1\n",
       "미친부엌          126.523138 33.516991      1\n",
       "밤수지맨드라미       126.948487 33.520715      1\n",
       "버드나무집         126.667394 33.541297      1"
      ]
     },
     "execution_count": 22,
     "metadata": {},
     "output_type": "execute_result"
    }
   ],
   "source": [
    "location_data = location_data.pivot_table(index=['name_official', '경도', '위도'], values='place', aggfunc='sum')\n",
    "location_data.head()"
   ]
  },
  {
   "cell_type": "markdown",
   "metadata": {},
   "source": [
    "### 4-32 병합한 데이터 저장하기"
   ]
  },
  {
   "cell_type": "code",
   "execution_count": 24,
   "metadata": {},
   "outputs": [],
   "source": [
    "location_data.to_excel('./3_3_location_inform.xlsx')"
   ]
  },
  {
   "cell_type": "markdown",
   "metadata": {},
   "source": [
    "# folium을 이용한 지도 시각화 - 개별표시"
   ]
  },
  {
   "cell_type": "markdown",
   "metadata": {},
   "source": [
    "### 4-33 데이터 불러오기"
   ]
  },
  {
   "cell_type": "code",
   "execution_count": 25,
   "metadata": {},
   "outputs": [
    {
     "name": "stdout",
     "output_type": "stream",
     "text": [
      "<class 'pandas.core.frame.DataFrame'>\n",
      "RangeIndex: 23 entries, 0 to 22\n",
      "Data columns (total 4 columns):\n",
      " #   Column         Non-Null Count  Dtype  \n",
      "---  ------         --------------  -----  \n",
      " 0   name_official  23 non-null     object \n",
      " 1   경도             23 non-null     float64\n",
      " 2   위도             23 non-null     float64\n",
      " 3   place          23 non-null     int64  \n",
      "dtypes: float64(2), int64(1), object(1)\n",
      "memory usage: 864.0+ bytes\n"
     ]
    }
   ],
   "source": [
    "location_data = pd.read_excel('./3_3_location_inform.xlsx')\n",
    "location_data.info()"
   ]
  },
  {
   "cell_type": "markdown",
   "metadata": {},
   "source": [
    "### 4-34 지도 표시하기"
   ]
  },
  {
   "cell_type": "code",
   "execution_count": 28,
   "metadata": {},
   "outputs": [
    {
     "data": {
      "text/html": [
       "<div style=\"width:100%;\"><div style=\"position:relative;width:100%;height:0;padding-bottom:60%;\"><span style=\"color:#565656\">Make this Notebook Trusted to load map: File -> Trust Notebook</span><iframe src=\"about:blank\" style=\"position:absolute;width:100%;height:100%;left:0;top:0;border:none !important;\" data-html=PCFET0NUWVBFIGh0bWw+CjxoZWFkPiAgICAKICAgIDxtZXRhIGh0dHAtZXF1aXY9ImNvbnRlbnQtdHlwZSIgY29udGVudD0idGV4dC9odG1sOyBjaGFyc2V0PVVURi04IiAvPgogICAgCiAgICAgICAgPHNjcmlwdD4KICAgICAgICAgICAgTF9OT19UT1VDSCA9IGZhbHNlOwogICAgICAgICAgICBMX0RJU0FCTEVfM0QgPSBmYWxzZTsKICAgICAgICA8L3NjcmlwdD4KICAgIAogICAgPHNjcmlwdCBzcmM9Imh0dHBzOi8vY2RuLmpzZGVsaXZyLm5ldC9ucG0vbGVhZmxldEAxLjYuMC9kaXN0L2xlYWZsZXQuanMiPjwvc2NyaXB0PgogICAgPHNjcmlwdCBzcmM9Imh0dHBzOi8vY29kZS5qcXVlcnkuY29tL2pxdWVyeS0xLjEyLjQubWluLmpzIj48L3NjcmlwdD4KICAgIDxzY3JpcHQgc3JjPSJodHRwczovL21heGNkbi5ib290c3RyYXBjZG4uY29tL2Jvb3RzdHJhcC8zLjIuMC9qcy9ib290c3RyYXAubWluLmpzIj48L3NjcmlwdD4KICAgIDxzY3JpcHQgc3JjPSJodHRwczovL2NkbmpzLmNsb3VkZmxhcmUuY29tL2FqYXgvbGlicy9MZWFmbGV0LmF3ZXNvbWUtbWFya2Vycy8yLjAuMi9sZWFmbGV0LmF3ZXNvbWUtbWFya2Vycy5qcyI+PC9zY3JpcHQ+CiAgICA8bGluayByZWw9InN0eWxlc2hlZXQiIGhyZWY9Imh0dHBzOi8vY2RuLmpzZGVsaXZyLm5ldC9ucG0vbGVhZmxldEAxLjYuMC9kaXN0L2xlYWZsZXQuY3NzIi8+CiAgICA8bGluayByZWw9InN0eWxlc2hlZXQiIGhyZWY9Imh0dHBzOi8vbWF4Y2RuLmJvb3RzdHJhcGNkbi5jb20vYm9vdHN0cmFwLzMuMi4wL2Nzcy9ib290c3RyYXAubWluLmNzcyIvPgogICAgPGxpbmsgcmVsPSJzdHlsZXNoZWV0IiBocmVmPSJodHRwczovL21heGNkbi5ib290c3RyYXBjZG4uY29tL2Jvb3RzdHJhcC8zLjIuMC9jc3MvYm9vdHN0cmFwLXRoZW1lLm1pbi5jc3MiLz4KICAgIDxsaW5rIHJlbD0ic3R5bGVzaGVldCIgaHJlZj0iaHR0cHM6Ly9tYXhjZG4uYm9vdHN0cmFwY2RuLmNvbS9mb250LWF3ZXNvbWUvNC42LjMvY3NzL2ZvbnQtYXdlc29tZS5taW4uY3NzIi8+CiAgICA8bGluayByZWw9InN0eWxlc2hlZXQiIGhyZWY9Imh0dHBzOi8vY2RuanMuY2xvdWRmbGFyZS5jb20vYWpheC9saWJzL0xlYWZsZXQuYXdlc29tZS1tYXJrZXJzLzIuMC4yL2xlYWZsZXQuYXdlc29tZS1tYXJrZXJzLmNzcyIvPgogICAgPGxpbmsgcmVsPSJzdHlsZXNoZWV0IiBocmVmPSJodHRwczovL3Jhd2Nkbi5naXRoYWNrLmNvbS9weXRob24tdmlzdWFsaXphdGlvbi9mb2xpdW0vbWFzdGVyL2ZvbGl1bS90ZW1wbGF0ZXMvbGVhZmxldC5hd2Vzb21lLnJvdGF0ZS5jc3MiLz4KICAgIDxzdHlsZT5odG1sLCBib2R5IHt3aWR0aDogMTAwJTtoZWlnaHQ6IDEwMCU7bWFyZ2luOiAwO3BhZGRpbmc6IDA7fTwvc3R5bGU+CiAgICA8c3R5bGU+I21hcCB7cG9zaXRpb246YWJzb2x1dGU7dG9wOjA7Ym90dG9tOjA7cmlnaHQ6MDtsZWZ0OjA7fTwvc3R5bGU+CiAgICAKICAgICAgICAgICAgPG1ldGEgbmFtZT0idmlld3BvcnQiIGNvbnRlbnQ9IndpZHRoPWRldmljZS13aWR0aCwKICAgICAgICAgICAgICAgIGluaXRpYWwtc2NhbGU9MS4wLCBtYXhpbXVtLXNjYWxlPTEuMCwgdXNlci1zY2FsYWJsZT1ubyIgLz4KICAgICAgICAgICAgPHN0eWxlPgogICAgICAgICAgICAgICAgI21hcF85N2I0MzAwMzM4NGE0MjU1OGE0MGUyNmUxNDZlZGY2YSB7CiAgICAgICAgICAgICAgICAgICAgcG9zaXRpb246IHJlbGF0aXZlOwogICAgICAgICAgICAgICAgICAgIHdpZHRoOiAxMDAuMCU7CiAgICAgICAgICAgICAgICAgICAgaGVpZ2h0OiAxMDAuMCU7CiAgICAgICAgICAgICAgICAgICAgbGVmdDogMC4wJTsKICAgICAgICAgICAgICAgICAgICB0b3A6IDAuMCU7CiAgICAgICAgICAgICAgICB9CiAgICAgICAgICAgIDwvc3R5bGU+CiAgICAgICAgCjwvaGVhZD4KPGJvZHk+ICAgIAogICAgCiAgICAgICAgICAgIDxkaXYgY2xhc3M9ImZvbGl1bS1tYXAiIGlkPSJtYXBfOTdiNDMwMDMzODRhNDI1NThhNDBlMjZlMTQ2ZWRmNmEiID48L2Rpdj4KICAgICAgICAKPC9ib2R5Pgo8c2NyaXB0PiAgICAKICAgIAogICAgICAgICAgICB2YXIgbWFwXzk3YjQzMDAzMzg0YTQyNTU4YTQwZTI2ZTE0NmVkZjZhID0gTC5tYXAoCiAgICAgICAgICAgICAgICAibWFwXzk3YjQzMDAzMzg0YTQyNTU4YTQwZTI2ZTE0NmVkZjZhIiwKICAgICAgICAgICAgICAgIHsKICAgICAgICAgICAgICAgICAgICBjZW50ZXI6IFswLCAwXSwKICAgICAgICAgICAgICAgICAgICBjcnM6IEwuQ1JTLkVQU0czODU3LAogICAgICAgICAgICAgICAgICAgIHpvb206IDEsCiAgICAgICAgICAgICAgICAgICAgem9vbUNvbnRyb2w6IHRydWUsCiAgICAgICAgICAgICAgICAgICAgcHJlZmVyQ2FudmFzOiBmYWxzZSwKICAgICAgICAgICAgICAgICAgICBsb2NhdGlvb246IFszMy4zNjI1LCAxMjYuNTMzNjk0XSwKICAgICAgICAgICAgICAgIH0KICAgICAgICAgICAgKTsKCiAgICAgICAgICAgIAoKICAgICAgICAKICAgIAogICAgICAgICAgICB2YXIgdGlsZV9sYXllcl9iMmUzNTEwOTFhOTg0M2U3Yjc3OTNmNGIyNWEzZGVlMSA9IEwudGlsZUxheWVyKAogICAgICAgICAgICAgICAgImh0dHBzOi8ve3N9LnRpbGUub3BlbnN0cmVldG1hcC5vcmcve3p9L3t4fS97eX0ucG5nIiwKICAgICAgICAgICAgICAgIHsiYXR0cmlidXRpb24iOiAiRGF0YSBieSBcdTAwMjZjb3B5OyBcdTAwM2NhIGhyZWY9XCJodHRwOi8vb3BlbnN0cmVldG1hcC5vcmdcIlx1MDAzZU9wZW5TdHJlZXRNYXBcdTAwM2MvYVx1MDAzZSwgdW5kZXIgXHUwMDNjYSBocmVmPVwiaHR0cDovL3d3dy5vcGVuc3RyZWV0bWFwLm9yZy9jb3B5cmlnaHRcIlx1MDAzZU9EYkxcdTAwM2MvYVx1MDAzZS4iLCAiZGV0ZWN0UmV0aW5hIjogZmFsc2UsICJtYXhOYXRpdmVab29tIjogMTgsICJtYXhab29tIjogMTgsICJtaW5ab29tIjogMCwgIm5vV3JhcCI6IGZhbHNlLCAib3BhY2l0eSI6IDEsICJzdWJkb21haW5zIjogImFiYyIsICJ0bXMiOiBmYWxzZX0KICAgICAgICAgICAgKS5hZGRUbyhtYXBfOTdiNDMwMDMzODRhNDI1NThhNDBlMjZlMTQ2ZWRmNmEpOwogICAgICAgIAogICAgCiAgICAgICAgICAgIHZhciBjaXJjbGVfbWFya2VyXzZiNzM4YzcwOWE3ZDQyZmRiNjkxZjcxNDhjMmJjMDMzID0gTC5jaXJjbGVNYXJrZXIoCiAgICAgICAgICAgICAgICBbMzMuMzk5ODQxMTA2NTY5LCAxMjYuMjQ5NzAzODk5NjgyXSwKICAgICAgICAgICAgICAgIHsiYnViYmxpbmdNb3VzZUV2ZW50cyI6IHRydWUsICJjb2xvciI6ICJyZWQiLCAiZGFzaEFycmF5IjogbnVsbCwgImRhc2hPZmZzZXQiOiBudWxsLCAiZmlsbCI6IGZhbHNlLCAiZmlsbENvbG9yIjogInJlZCIsICJmaWxsT3BhY2l0eSI6IDAuMiwgImZpbGxSdWxlIjogImV2ZW5vZGQiLCAibGluZUNhcCI6ICJyb3VuZCIsICJsaW5lSm9pbiI6ICJyb3VuZCIsICJvcGFjaXR5IjogMS4wLCAicmFkaXVzIjogMiwgInN0cm9rZSI6IHRydWUsICJ3ZWlnaHQiOiAzfQogICAgICAgICAgICApLmFkZFRvKG1hcF85N2I0MzAwMzM4NGE0MjU1OGE0MGUyNmUxNDZlZGY2YSk7CiAgICAgICAgCiAgICAKICAgICAgICB2YXIgcG9wdXBfMTIzYWMyZTgxNjI3NGYxNDhlMmJkNDllNjNjZWUxMTEgPSBMLnBvcHVwKHsibWF4V2lkdGgiOiAiMTAwJSJ9KTsKCiAgICAgICAgCiAgICAgICAgICAgIHZhciBodG1sX2RmYzI5ODNiOTkzYjRkZjdhMGU0MjVkMDJkZTI0NzEwID0gJChgPGRpdiBpZD0iaHRtbF9kZmMyOTgzYjk5M2I0ZGY3YTBlNDI1ZDAyZGUyNDcxMCIgc3R5bGU9IndpZHRoOiAxMDAuMCU7IGhlaWdodDogMTAwLjAlOyI+66eI64u064KY7YOI66as7IaM7IWc7YG065+9PC9kaXY+YClbMF07CiAgICAgICAgICAgIHBvcHVwXzEyM2FjMmU4MTYyNzRmMTQ4ZTJiZDQ5ZTYzY2VlMTExLnNldENvbnRlbnQoaHRtbF9kZmMyOTgzYjk5M2I0ZGY3YTBlNDI1ZDAyZGUyNDcxMCk7CiAgICAgICAgCgogICAgICAgIGNpcmNsZV9tYXJrZXJfNmI3MzhjNzA5YTdkNDJmZGI2OTFmNzE0OGMyYmMwMzMuYmluZFBvcHVwKHBvcHVwXzEyM2FjMmU4MTYyNzRmMTQ4ZTJiZDQ5ZTYzY2VlMTExKQogICAgICAgIDsKCiAgICAgICAgCiAgICAKICAgIAogICAgICAgICAgICB2YXIgY2lyY2xlX21hcmtlcl8yYWQxN2Y5Y2Y3MTI0N2QxYTJkYmEzYTM3MDVkNGRkZiA9IEwuY2lyY2xlTWFya2VyKAogICAgICAgICAgICAgICAgWzMzLjUzMjQ3MDkwMzQwMTcsIDEyNi44NTAxODQ5NzEwMTRdLAogICAgICAgICAgICAgICAgeyJidWJibGluZ01vdXNlRXZlbnRzIjogdHJ1ZSwgImNvbG9yIjogInJlZCIsICJkYXNoQXJyYXkiOiBudWxsLCAiZGFzaE9mZnNldCI6IG51bGwsICJmaWxsIjogZmFsc2UsICJmaWxsQ29sb3IiOiAicmVkIiwgImZpbGxPcGFjaXR5IjogMC4yLCAiZmlsbFJ1bGUiOiAiZXZlbm9kZCIsICJsaW5lQ2FwIjogInJvdW5kIiwgImxpbmVKb2luIjogInJvdW5kIiwgIm9wYWNpdHkiOiAxLjAsICJyYWRpdXMiOiAyLCAic3Ryb2tlIjogdHJ1ZSwgIndlaWdodCI6IDN9CiAgICAgICAgICAgICkuYWRkVG8obWFwXzk3YjQzMDAzMzg0YTQyNTU4YTQwZTI2ZTE0NmVkZjZhKTsKICAgICAgICAKICAgIAogICAgICAgIHZhciBwb3B1cF9mNTE4YWZmMzAwMWQ0MWNkOGY4MjMwYWM1YmNjNTllMCA9IEwucG9wdXAoeyJtYXhXaWR0aCI6ICIxMDAlIn0pOwoKICAgICAgICAKICAgICAgICAgICAgdmFyIGh0bWxfNTViMmNkYTA3ODIwNDQyZGJlMjc4Y2UzMjU1NWFlY2UgPSAkKGA8ZGl2IGlkPSJodG1sXzU1YjJjZGEwNzgyMDQ0MmRiZTI3OGNlMzI1NTVhZWNlIiBzdHlsZT0id2lkdGg6IDEwMC4wJTsgaGVpZ2h0OiAxMDAuMCU7Ij7rqoXsp4TsoITrs7U8L2Rpdj5gKVswXTsKICAgICAgICAgICAgcG9wdXBfZjUxOGFmZjMwMDFkNDFjZDhmODIzMGFjNWJjYzU5ZTAuc2V0Q29udGVudChodG1sXzU1YjJjZGEwNzgyMDQ0MmRiZTI3OGNlMzI1NTVhZWNlKTsKICAgICAgICAKCiAgICAgICAgY2lyY2xlX21hcmtlcl8yYWQxN2Y5Y2Y3MTI0N2QxYTJkYmEzYTM3MDVkNGRkZi5iaW5kUG9wdXAocG9wdXBfZjUxOGFmZjMwMDFkNDFjZDhmODIzMGFjNWJjYzU5ZTApCiAgICAgICAgOwoKICAgICAgICAKICAgIAogICAgCiAgICAgICAgICAgIHZhciBjaXJjbGVfbWFya2VyXzlmMDAxZGI5OTBhYTQzMGY5YzgzZmU3ZDlmZjBmOWU1ID0gTC5jaXJjbGVNYXJrZXIoCiAgICAgICAgICAgICAgICBbMzMuNTE2OTkwODQxNzg0MDksIDEyNi41MjMxMzc3MDM5OTc5XSwKICAgICAgICAgICAgICAgIHsiYnViYmxpbmdNb3VzZUV2ZW50cyI6IHRydWUsICJjb2xvciI6ICJyZWQiLCAiZGFzaEFycmF5IjogbnVsbCwgImRhc2hPZmZzZXQiOiBudWxsLCAiZmlsbCI6IGZhbHNlLCAiZmlsbENvbG9yIjogInJlZCIsICJmaWxsT3BhY2l0eSI6IDAuMiwgImZpbGxSdWxlIjogImV2ZW5vZGQiLCAibGluZUNhcCI6ICJyb3VuZCIsICJsaW5lSm9pbiI6ICJyb3VuZCIsICJvcGFjaXR5IjogMS4wLCAicmFkaXVzIjogMiwgInN0cm9rZSI6IHRydWUsICJ3ZWlnaHQiOiAzfQogICAgICAgICAgICApLmFkZFRvKG1hcF85N2I0MzAwMzM4NGE0MjU1OGE0MGUyNmUxNDZlZGY2YSk7CiAgICAgICAgCiAgICAKICAgICAgICB2YXIgcG9wdXBfMDdkZDY2NTJkMTQ2NDNmODk2OTg3YzI3Nzg5ZGVhMGYgPSBMLnBvcHVwKHsibWF4V2lkdGgiOiAiMTAwJSJ9KTsKCiAgICAgICAgCiAgICAgICAgICAgIHZhciBodG1sXzcwYzgwMTVjNWIxMjQ5OTM5NjZhODI0YTM1YjQwZjU5ID0gJChgPGRpdiBpZD0iaHRtbF83MGM4MDE1YzViMTI0OTkzOTY2YTgyNGEzNWI0MGY1OSIgc3R5bGU9IndpZHRoOiAxMDAuMCU7IGhlaWdodDogMTAwLjAlOyI+66+47Lmc67aA7JeMPC9kaXY+YClbMF07CiAgICAgICAgICAgIHBvcHVwXzA3ZGQ2NjUyZDE0NjQzZjg5Njk4N2MyNzc4OWRlYTBmLnNldENvbnRlbnQoaHRtbF83MGM4MDE1YzViMTI0OTkzOTY2YTgyNGEzNWI0MGY1OSk7CiAgICAgICAgCgogICAgICAgIGNpcmNsZV9tYXJrZXJfOWYwMDFkYjk5MGFhNDMwZjljODNmZTdkOWZmMGY5ZTUuYmluZFBvcHVwKHBvcHVwXzA3ZGQ2NjUyZDE0NjQzZjg5Njk4N2MyNzc4OWRlYTBmKQogICAgICAgIDsKCiAgICAgICAgCiAgICAKICAgIAogICAgICAgICAgICB2YXIgY2lyY2xlX21hcmtlcl8wN2I0ZTk5MjhlZTc0ODA4YTRhM2EzYzZlMDM2YzIwNyA9IEwuY2lyY2xlTWFya2VyKAogICAgICAgICAgICAgICAgWzMzLjUyMDcxNDU5Mzc0MjYsIDEyNi45NDg0ODY3NzIxNDFdLAogICAgICAgICAgICAgICAgeyJidWJibGluZ01vdXNlRXZlbnRzIjogdHJ1ZSwgImNvbG9yIjogInJlZCIsICJkYXNoQXJyYXkiOiBudWxsLCAiZGFzaE9mZnNldCI6IG51bGwsICJmaWxsIjogZmFsc2UsICJmaWxsQ29sb3IiOiAicmVkIiwgImZpbGxPcGFjaXR5IjogMC4yLCAiZmlsbFJ1bGUiOiAiZXZlbm9kZCIsICJsaW5lQ2FwIjogInJvdW5kIiwgImxpbmVKb2luIjogInJvdW5kIiwgIm9wYWNpdHkiOiAxLjAsICJyYWRpdXMiOiAyLCAic3Ryb2tlIjogdHJ1ZSwgIndlaWdodCI6IDN9CiAgICAgICAgICAgICkuYWRkVG8obWFwXzk3YjQzMDAzMzg0YTQyNTU4YTQwZTI2ZTE0NmVkZjZhKTsKICAgICAgICAKICAgIAogICAgICAgIHZhciBwb3B1cF9mMDU3NTllZDdlM2E0NmExYmQ1MzU3ZDU5Yzg4MTFkNSA9IEwucG9wdXAoeyJtYXhXaWR0aCI6ICIxMDAlIn0pOwoKICAgICAgICAKICAgICAgICAgICAgdmFyIGh0bWxfNmJhNzVhYmYyYTU3NGU3YTg2N2UyODVlNjFlYjRjZmUgPSAkKGA8ZGl2IGlkPSJodG1sXzZiYTc1YWJmMmE1NzRlN2E4NjdlMjg1ZTYxZWI0Y2ZlIiBzdHlsZT0id2lkdGg6IDEwMC4wJTsgaGVpZ2h0OiAxMDAuMCU7Ij7rsKTsiJjsp4Drp6jrk5zrnbzrr7g8L2Rpdj5gKVswXTsKICAgICAgICAgICAgcG9wdXBfZjA1NzU5ZWQ3ZTNhNDZhMWJkNTM1N2Q1OWM4ODExZDUuc2V0Q29udGVudChodG1sXzZiYTc1YWJmMmE1NzRlN2E4NjdlMjg1ZTYxZWI0Y2ZlKTsKICAgICAgICAKCiAgICAgICAgY2lyY2xlX21hcmtlcl8wN2I0ZTk5MjhlZTc0ODA4YTRhM2EzYzZlMDM2YzIwNy5iaW5kUG9wdXAocG9wdXBfZjA1NzU5ZWQ3ZTNhNDZhMWJkNTM1N2Q1OWM4ODExZDUpCiAgICAgICAgOwoKICAgICAgICAKICAgIAogICAgCiAgICAgICAgICAgIHZhciBjaXJjbGVfbWFya2VyXzk5NmZhOGM0M2JkMjRjMGI5ZGFkMzI2MDFiNjQ1MWRhID0gTC5jaXJjbGVNYXJrZXIoCiAgICAgICAgICAgICAgICBbMzMuNTQxMjk2NzE1NTI5MzMsIDEyNi42NjczOTM3ODUxNTIzXSwKICAgICAgICAgICAgICAgIHsiYnViYmxpbmdNb3VzZUV2ZW50cyI6IHRydWUsICJjb2xvciI6ICJyZWQiLCAiZGFzaEFycmF5IjogbnVsbCwgImRhc2hPZmZzZXQiOiBudWxsLCAiZmlsbCI6IGZhbHNlLCAiZmlsbENvbG9yIjogInJlZCIsICJmaWxsT3BhY2l0eSI6IDAuMiwgImZpbGxSdWxlIjogImV2ZW5vZGQiLCAibGluZUNhcCI6ICJyb3VuZCIsICJsaW5lSm9pbiI6ICJyb3VuZCIsICJvcGFjaXR5IjogMS4wLCAicmFkaXVzIjogMiwgInN0cm9rZSI6IHRydWUsICJ3ZWlnaHQiOiAzfQogICAgICAgICAgICApLmFkZFRvKG1hcF85N2I0MzAwMzM4NGE0MjU1OGE0MGUyNmUxNDZlZGY2YSk7CiAgICAgICAgCiAgICAKICAgICAgICB2YXIgcG9wdXBfYzIzNzdiZDQ3Y2Y5NDRkZGJmYzVlNDAwZThiOWVlZTcgPSBMLnBvcHVwKHsibWF4V2lkdGgiOiAiMTAwJSJ9KTsKCiAgICAgICAgCiAgICAgICAgICAgIHZhciBodG1sX2RmMmVhOGRhYzE4NDRkM2NiNWRhNzcyODBlODAzNTJkID0gJChgPGRpdiBpZD0iaHRtbF9kZjJlYThkYWMxODQ0ZDNjYjVkYTc3MjgwZTgwMzUyZCIgc3R5bGU9IndpZHRoOiAxMDAuMCU7IGhlaWdodDogMTAwLjAlOyI+67KE65Oc64KY66y07KeRPC9kaXY+YClbMF07CiAgICAgICAgICAgIHBvcHVwX2MyMzc3YmQ0N2NmOTQ0ZGRiZmM1ZTQwMGU4YjllZWU3LnNldENvbnRlbnQoaHRtbF9kZjJlYThkYWMxODQ0ZDNjYjVkYTc3MjgwZTgwMzUyZCk7CiAgICAgICAgCgogICAgICAgIGNpcmNsZV9tYXJrZXJfOTk2ZmE4YzQzYmQyNGMwYjlkYWQzMjYwMWI2NDUxZGEuYmluZFBvcHVwKHBvcHVwX2MyMzc3YmQ0N2NmOTQ0ZGRiZmM1ZTQwMGU4YjllZWU3KQogICAgICAgIDsKCiAgICAgICAgCiAgICAKICAgIAogICAgICAgICAgICB2YXIgY2lyY2xlX21hcmtlcl8xOGJjOThhYTA1Njc0MDBjOWUyNDA0YzM3MDU0MTRmNiA9IEwuY2lyY2xlTWFya2VyKAogICAgICAgICAgICAgICAgWzMzLjQ2MTU0MTEwNjQ1MTYxLCAxMjYuOTM0NjQ1NDAzNDE1OV0sCiAgICAgICAgICAgICAgICB7ImJ1YmJsaW5nTW91c2VFdmVudHMiOiB0cnVlLCAiY29sb3IiOiAicmVkIiwgImRhc2hBcnJheSI6IG51bGwsICJkYXNoT2Zmc2V0IjogbnVsbCwgImZpbGwiOiBmYWxzZSwgImZpbGxDb2xvciI6ICJyZWQiLCAiZmlsbE9wYWNpdHkiOiAwLjIsICJmaWxsUnVsZSI6ICJldmVub2RkIiwgImxpbmVDYXAiOiAicm91bmQiLCAibGluZUpvaW4iOiAicm91bmQiLCAib3BhY2l0eSI6IDEuMCwgInJhZGl1cyI6IDIsICJzdHJva2UiOiB0cnVlLCAid2VpZ2h0IjogM30KICAgICAgICAgICAgKS5hZGRUbyhtYXBfOTdiNDMwMDMzODRhNDI1NThhNDBlMjZlMTQ2ZWRmNmEpOwogICAgICAgIAogICAgCiAgICAgICAgdmFyIHBvcHVwXzFiM2FjYjhhNTFmNDRhNmFiYjc3ZmFlYTQ4M2M1ZWVjID0gTC5wb3B1cCh7Im1heFdpZHRoIjogIjEwMCUifSk7CgogICAgICAgIAogICAgICAgICAgICB2YXIgaHRtbF8yODQ5YWVhZDM3YmI0NDZkOGI2NGNmYTIwYWQ0ODIzZCA9ICQoYDxkaXYgaWQ9Imh0bWxfMjg0OWFlYWQzN2JiNDQ2ZDhiNjRjZmEyMGFkNDgyM2QiIHN0eWxlPSJ3aWR0aDogMTAwLjAlOyBoZWlnaHQ6IDEwMC4wJTsiPuyEseyCsOyYpe2DkTwvZGl2PmApWzBdOwogICAgICAgICAgICBwb3B1cF8xYjNhY2I4YTUxZjQ0YTZhYmI3N2ZhZWE0ODNjNWVlYy5zZXRDb250ZW50KGh0bWxfMjg0OWFlYWQzN2JiNDQ2ZDhiNjRjZmEyMGFkNDgyM2QpOwogICAgICAgIAoKICAgICAgICBjaXJjbGVfbWFya2VyXzE4YmM5OGFhMDU2NzQwMGM5ZTI0MDRjMzcwNTQxNGY2LmJpbmRQb3B1cChwb3B1cF8xYjNhY2I4YTUxZjQ0YTZhYmI3N2ZhZWE0ODNjNWVlYykKICAgICAgICA7CgogICAgICAgIAogICAgCiAgICAKICAgICAgICAgICAgdmFyIGNpcmNsZV9tYXJrZXJfYTYwZTcwZjZhZDkyNDM5NjhhZjllZjRhZDRhNDVkZDkgPSBMLmNpcmNsZU1hcmtlcigKICAgICAgICAgICAgICAgIFszMy4yNTIzNTQ4NjYxMTcsIDEyNi42MjQzMzE5OTc3MDNdLAogICAgICAgICAgICAgICAgeyJidWJibGluZ01vdXNlRXZlbnRzIjogdHJ1ZSwgImNvbG9yIjogInJlZCIsICJkYXNoQXJyYXkiOiBudWxsLCAiZGFzaE9mZnNldCI6IG51bGwsICJmaWxsIjogZmFsc2UsICJmaWxsQ29sb3IiOiAicmVkIiwgImZpbGxPcGFjaXR5IjogMC4yLCAiZmlsbFJ1bGUiOiAiZXZlbm9kZCIsICJsaW5lQ2FwIjogInJvdW5kIiwgImxpbmVKb2luIjogInJvdW5kIiwgIm9wYWNpdHkiOiAxLjAsICJyYWRpdXMiOiAyLCAic3Ryb2tlIjogdHJ1ZSwgIndlaWdodCI6IDN9CiAgICAgICAgICAgICkuYWRkVG8obWFwXzk3YjQzMDAzMzg0YTQyNTU4YTQwZTI2ZTE0NmVkZjZhKTsKICAgICAgICAKICAgIAogICAgICAgIHZhciBwb3B1cF84OTkyN2Q0MDBiMGI0ZTc4OTE4NWIzNGE0MjQxYTgwYyA9IEwucG9wdXAoeyJtYXhXaWR0aCI6ICIxMDAlIn0pOwoKICAgICAgICAKICAgICAgICAgICAgdmFyIGh0bWxfNGMwZWJkOTM4ZTY2NGU0YmJlOGY1ZjNiZjFhY2YxMTYgPSAkKGA8ZGl2IGlkPSJodG1sXzRjMGViZDkzOGU2NjRlNGJiZThmNWYzYmYxYWNmMTE2IiBzdHlsZT0id2lkdGg6IDEwMC4wJTsgaGVpZ2h0OiAxMDAuMCU7Ij7sh6DshozquY08L2Rpdj5gKVswXTsKICAgICAgICAgICAgcG9wdXBfODk5MjdkNDAwYjBiNGU3ODkxODViMzRhNDI0MWE4MGMuc2V0Q29udGVudChodG1sXzRjMGViZDkzOGU2NjRlNGJiZThmNWYzYmYxYWNmMTE2KTsKICAgICAgICAKCiAgICAgICAgY2lyY2xlX21hcmtlcl9hNjBlNzBmNmFkOTI0Mzk2OGFmOWVmNGFkNGE0NWRkOS5iaW5kUG9wdXAocG9wdXBfODk5MjdkNDAwYjBiNGU3ODkxODViMzRhNDI0MWE4MGMpCiAgICAgICAgOwoKICAgICAgICAKICAgIAogICAgCiAgICAgICAgICAgIHZhciBjaXJjbGVfbWFya2VyX2FiOGE3ODZiMDg1MzRhYjE4NDg3NWFjNjJmMWEzMmU3ID0gTC5jaXJjbGVNYXJrZXIoCiAgICAgICAgICAgICAgICBbMzMuNDczMTk3Mjk2MTU3NSwgMTI2LjM4NDUwNzMxNTc1OF0sCiAgICAgICAgICAgICAgICB7ImJ1YmJsaW5nTW91c2VFdmVudHMiOiB0cnVlLCAiY29sb3IiOiAicmVkIiwgImRhc2hBcnJheSI6IG51bGwsICJkYXNoT2Zmc2V0IjogbnVsbCwgImZpbGwiOiBmYWxzZSwgImZpbGxDb2xvciI6ICJyZWQiLCAiZmlsbE9wYWNpdHkiOiAwLjIsICJmaWxsUnVsZSI6ICJldmVub2RkIiwgImxpbmVDYXAiOiAicm91bmQiLCAibGluZUpvaW4iOiAicm91bmQiLCAib3BhY2l0eSI6IDEuMCwgInJhZGl1cyI6IDQsICJzdHJva2UiOiB0cnVlLCAid2VpZ2h0IjogM30KICAgICAgICAgICAgKS5hZGRUbyhtYXBfOTdiNDMwMDMzODRhNDI1NThhNDBlMjZlMTQ2ZWRmNmEpOwogICAgICAgIAogICAgCiAgICAgICAgdmFyIHBvcHVwXzM0MzlmMTczYzY4ZDRhOTc4NTdkOWExOWUxMjhiYjcwID0gTC5wb3B1cCh7Im1heFdpZHRoIjogIjEwMCUifSk7CgogICAgICAgIAogICAgICAgICAgICB2YXIgaHRtbF9lNmQzZjhjNmI1MGM0ZmY3OTJkMTEzNjE5YTE4MDU5NyA9ICQoYDxkaXYgaWQ9Imh0bWxfZTZkM2Y4YzZiNTBjNGZmNzkyZDExMzYxOWExODA1OTciIHN0eWxlPSJ3aWR0aDogMTAwLjAlOyBoZWlnaHQ6IDEwMC4wJTsiPuyImOyCsOu0iTwvZGl2PmApWzBdOwogICAgICAgICAgICBwb3B1cF8zNDM5ZjE3M2M2OGQ0YTk3ODU3ZDlhMTllMTI4YmI3MC5zZXRDb250ZW50KGh0bWxfZTZkM2Y4YzZiNTBjNGZmNzkyZDExMzYxOWExODA1OTcpOwogICAgICAgIAoKICAgICAgICBjaXJjbGVfbWFya2VyX2FiOGE3ODZiMDg1MzRhYjE4NDg3NWFjNjJmMWEzMmU3LmJpbmRQb3B1cChwb3B1cF8zNDM5ZjE3M2M2OGQ0YTk3ODU3ZDlhMTllMTI4YmI3MCkKICAgICAgICA7CgogICAgICAgIAogICAgCiAgICAKICAgICAgICAgICAgdmFyIGNpcmNsZV9tYXJrZXJfMzBjYzQ5ZTczMGMyNDk5ZjkzOTQ5YTczM2Q5NmRiYjQgPSBMLmNpcmNsZU1hcmtlcigKICAgICAgICAgICAgICAgIFszMy40NDg1ODQxNzU1NjIxLCAxMjYuNzc3MjE0OTk4NDU1XSwKICAgICAgICAgICAgICAgIHsiYnViYmxpbmdNb3VzZUV2ZW50cyI6IHRydWUsICJjb2xvciI6ICJyZWQiLCAiZGFzaEFycmF5IjogbnVsbCwgImRhc2hPZmZzZXQiOiBudWxsLCAiZmlsbCI6IGZhbHNlLCAiZmlsbENvbG9yIjogInJlZCIsICJmaWxsT3BhY2l0eSI6IDAuMiwgImZpbGxSdWxlIjogImV2ZW5vZGQiLCAibGluZUNhcCI6ICJyb3VuZCIsICJsaW5lSm9pbiI6ICJyb3VuZCIsICJvcGFjaXR5IjogMS4wLCAicmFkaXVzIjogMiwgInN0cm9rZSI6IHRydWUsICJ3ZWlnaHQiOiAzfQogICAgICAgICAgICApLmFkZFRvKG1hcF85N2I0MzAwMzM4NGE0MjU1OGE0MGUyNmUxNDZlZGY2YSk7CiAgICAgICAgCiAgICAKICAgICAgICB2YXIgcG9wdXBfNWU4NDMwNGU5NDUzNDM5Zjg2Y2YzZDc2MzZjYmJmNmQgPSBMLnBvcHVwKHsibWF4V2lkdGgiOiAiMTAwJSJ9KTsKCiAgICAgICAgCiAgICAgICAgICAgIHZhciBodG1sXzI0MWNlNmZiMGEwZjQ1ZWViOTI5MTZhY2VmZGEwOWIwID0gJChgPGRpdiBpZD0iaHRtbF8yNDFjZTZmYjBhMGY0NWVlYjkyOTE2YWNlZmRhMDliMCIgc3R5bGU9IndpZHRoOiAxMDAuMCU7IGhlaWdodDogMTAwLjAlOyI+7JWE67aA7Jik66aEPC9kaXY+YClbMF07CiAgICAgICAgICAgIHBvcHVwXzVlODQzMDRlOTQ1MzQzOWY4NmNmM2Q3NjM2Y2JiZjZkLnNldENvbnRlbnQoaHRtbF8yNDFjZTZmYjBhMGY0NWVlYjkyOTE2YWNlZmRhMDliMCk7CiAgICAgICAgCgogICAgICAgIGNpcmNsZV9tYXJrZXJfMzBjYzQ5ZTczMGMyNDk5ZjkzOTQ5YTczM2Q5NmRiYjQuYmluZFBvcHVwKHBvcHVwXzVlODQzMDRlOTQ1MzQzOWY4NmNmM2Q3NjM2Y2JiZjZkKQogICAgICAgIDsKCiAgICAgICAgCiAgICAKICAgIAogICAgICAgICAgICB2YXIgY2lyY2xlX21hcmtlcl80NzMzMDFkZDQxMzQ0ZDQyYjI3ZDkwMmI2NWMxMGE5OSA9IEwuY2lyY2xlTWFya2VyKAogICAgICAgICAgICAgICAgWzMzLjU1Njg0MjgyMTgyMDY5LCAxMjYuODAxNDUxMjY5MDkxXSwKICAgICAgICAgICAgICAgIHsiYnViYmxpbmdNb3VzZUV2ZW50cyI6IHRydWUsICJjb2xvciI6ICJyZWQiLCAiZGFzaEFycmF5IjogbnVsbCwgImRhc2hPZmZzZXQiOiBudWxsLCAiZmlsbCI6IGZhbHNlLCAiZmlsbENvbG9yIjogInJlZCIsICJmaWxsT3BhY2l0eSI6IDAuMiwgImZpbGxSdWxlIjogImV2ZW5vZGQiLCAibGluZUNhcCI6ICJyb3VuZCIsICJsaW5lSm9pbiI6ICJyb3VuZCIsICJvcGFjaXR5IjogMS4wLCAicmFkaXVzIjogMiwgInN0cm9rZSI6IHRydWUsICJ3ZWlnaHQiOiAzfQogICAgICAgICAgICApLmFkZFRvKG1hcF85N2I0MzAwMzM4NGE0MjU1OGE0MGUyNmUxNDZlZGY2YSk7CiAgICAgICAgCiAgICAKICAgICAgICB2YXIgcG9wdXBfMDRkNWEzOGE2YWY3NDc3ZWE2YWEzOTQ0MjM3MmU5MzMgPSBMLnBvcHVwKHsibWF4V2lkdGgiOiAiMTAwJSJ9KTsKCiAgICAgICAgCiAgICAgICAgICAgIHZhciBodG1sXzJjZWNhZDk0ZGY4OTQyOTBiZDBlZGYzNGYzNDk2ZGFjID0gJChgPGRpdiBpZD0iaHRtbF8yY2VjYWQ5NGRmODk0MjkwYmQwZWRmMzRmMzQ5NmRhYyIgc3R5bGU9IndpZHRoOiAxMDAuMCU7IGhlaWdodDogMTAwLjAlOyI+7JWE7L+g7JWE67ew7Yuw7YGsPC9kaXY+YClbMF07CiAgICAgICAgICAgIHBvcHVwXzA0ZDVhMzhhNmFmNzQ3N2VhNmFhMzk0NDIzNzJlOTMzLnNldENvbnRlbnQoaHRtbF8yY2VjYWQ5NGRmODk0MjkwYmQwZWRmMzRmMzQ5NmRhYyk7CiAgICAgICAgCgogICAgICAgIGNpcmNsZV9tYXJrZXJfNDczMzAxZGQ0MTM0NGQ0MmIyN2Q5MDJiNjVjMTBhOTkuYmluZFBvcHVwKHBvcHVwXzA0ZDVhMzhhNmFmNzQ3N2VhNmFhMzk0NDIzNzJlOTMzKQogICAgICAgIDsKCiAgICAgICAgCiAgICAKICAgIAogICAgICAgICAgICB2YXIgY2lyY2xlX21hcmtlcl82MGIxZWExZWFkYWE0YWUyYWFkZGJkYzhiZmYyNmM4YiA9IEwuY2lyY2xlTWFya2VyKAogICAgICAgICAgICAgICAgWzMzLjQ1OTY5OTY4MDgxODUsIDEyNi44MzI1MTAxNDY2NF0sCiAgICAgICAgICAgICAgICB7ImJ1YmJsaW5nTW91c2VFdmVudHMiOiB0cnVlLCAiY29sb3IiOiAicmVkIiwgImRhc2hBcnJheSI6IG51bGwsICJkYXNoT2Zmc2V0IjogbnVsbCwgImZpbGwiOiBmYWxzZSwgImZpbGxDb2xvciI6ICJyZWQiLCAiZmlsbE9wYWNpdHkiOiAwLjIsICJmaWxsUnVsZSI6ICJldmVub2RkIiwgImxpbmVDYXAiOiAicm91bmQiLCAibGluZUpvaW4iOiAicm91bmQiLCAib3BhY2l0eSI6IDEuMCwgInJhZGl1cyI6IDIsICJzdHJva2UiOiB0cnVlLCAid2VpZ2h0IjogM30KICAgICAgICAgICAgKS5hZGRUbyhtYXBfOTdiNDMwMDMzODRhNDI1NThhNDBlMjZlMTQ2ZWRmNmEpOwogICAgICAgIAogICAgCiAgICAgICAgdmFyIHBvcHVwXzkwN2YyOWU4YWUzOTQ1NGI4NWFiODNhZGRiMGMwOTA4ID0gTC5wb3B1cCh7Im1heFdpZHRoIjogIjEwMCUifSk7CgogICAgICAgIAogICAgICAgICAgICB2YXIgaHRtbF9mYzdmYmE3OWY1MTA0MjA4ODI1YzRlYmRkYWMzNzM4NSA9ICQoYDxkaXYgaWQ9Imh0bWxfZmM3ZmJhNzlmNTEwNDIwODgyNWM0ZWJkZGFjMzczODUiIHN0eWxlPSJ3aWR0aDogMTAwLjAlOyBoZWlnaHQ6IDEwMC4wJTsiPuyaqeuIiOydtOyYpOumhDwvZGl2PmApWzBdOwogICAgICAgICAgICBwb3B1cF85MDdmMjllOGFlMzk0NTRiODVhYjgzYWRkYjBjMDkwOC5zZXRDb250ZW50KGh0bWxfZmM3ZmJhNzlmNTEwNDIwODgyNWM0ZWJkZGFjMzczODUpOwogICAgICAgIAoKICAgICAgICBjaXJjbGVfbWFya2VyXzYwYjFlYTFlYWRhYTRhZTJhYWRkYmRjOGJmZjI2YzhiLmJpbmRQb3B1cChwb3B1cF85MDdmMjllOGFlMzk0NTRiODVhYjgzYWRkYjBjMDkwOCkKICAgICAgICA7CgogICAgICAgIAogICAgCiAgICAKICAgICAgICAgICAgdmFyIGNpcmNsZV9tYXJrZXJfNDI1ZTg3ZmI2NTQzNGIwMzk4NDM3YjU4MGFjNGNlOTcgPSBMLmNpcmNsZU1hcmtlcigKICAgICAgICAgICAgICAgIFszMy41MTYxMTA2MjE2NzIxLCAxMjYuNTExOTU3MTA5MDc0XSwKICAgICAgICAgICAgICAgIHsiYnViYmxpbmdNb3VzZUV2ZW50cyI6IHRydWUsICJjb2xvciI6ICJyZWQiLCAiZGFzaEFycmF5IjogbnVsbCwgImRhc2hPZmZzZXQiOiBudWxsLCAiZmlsbCI6IGZhbHNlLCAiZmlsbENvbG9yIjogInJlZCIsICJmaWxsT3BhY2l0eSI6IDAuMiwgImZpbGxSdWxlIjogImV2ZW5vZGQiLCAibGluZUNhcCI6ICJyb3VuZCIsICJsaW5lSm9pbiI6ICJyb3VuZCIsICJvcGFjaXR5IjogMS4wLCAicmFkaXVzIjogMiwgInN0cm9rZSI6IHRydWUsICJ3ZWlnaHQiOiAzfQogICAgICAgICAgICApLmFkZFRvKG1hcF85N2I0MzAwMzM4NGE0MjU1OGE0MGUyNmUxNDZlZGY2YSk7CiAgICAgICAgCiAgICAKICAgICAgICB2YXIgcG9wdXBfZWU2NjY4ZWJmNDgzNDhkZGE5YTc1MWZmYzlkOGI0OGQgPSBMLnBvcHVwKHsibWF4V2lkdGgiOiAiMTAwJSJ9KTsKCiAgICAgICAgCiAgICAgICAgICAgIHZhciBodG1sXzgyYTVmYTM1NWU1MjQxYTM4ZTkxNmQ0MGQwYzZlNTFmID0gJChgPGRpdiBpZD0iaHRtbF84MmE1ZmEzNTVlNTI0MWEzOGU5MTZkNDBkMGM2ZTUxZiIgc3R5bGU9IndpZHRoOiAxMDAuMCU7IGhlaWdodDogMTAwLjAlOyI+7Jqp65GQ7JWUPC9kaXY+YClbMF07CiAgICAgICAgICAgIHBvcHVwX2VlNjY2OGViZjQ4MzQ4ZGRhOWE3NTFmZmM5ZDhiNDhkLnNldENvbnRlbnQoaHRtbF84MmE1ZmEzNTVlNTI0MWEzOGU5MTZkNDBkMGM2ZTUxZik7CiAgICAgICAgCgogICAgICAgIGNpcmNsZV9tYXJrZXJfNDI1ZTg3ZmI2NTQzNGIwMzk4NDM3YjU4MGFjNGNlOTcuYmluZFBvcHVwKHBvcHVwX2VlNjY2OGViZjQ4MzQ4ZGRhOWE3NTFmZmM5ZDhiNDhkKQogICAgICAgIDsKCiAgICAgICAgCiAgICAKICAgIAogICAgICAgICAgICB2YXIgY2lyY2xlX21hcmtlcl9kNjhhOTc3MmQ2YmM0NGVlOGEwYjlkZGU2NGE1ZjBiOSA9IEwuY2lyY2xlTWFya2VyKAogICAgICAgICAgICAgICAgWzMzLjU1NDg1NTM1MjUyNjIsIDEyNi43OTY3ODY2MjgxMzFdLAogICAgICAgICAgICAgICAgeyJidWJibGluZ01vdXNlRXZlbnRzIjogdHJ1ZSwgImNvbG9yIjogInJlZCIsICJkYXNoQXJyYXkiOiBudWxsLCAiZGFzaE9mZnNldCI6IG51bGwsICJmaWxsIjogZmFsc2UsICJmaWxsQ29sb3IiOiAicmVkIiwgImZpbGxPcGFjaXR5IjogMC4yLCAiZmlsbFJ1bGUiOiAiZXZlbm9kZCIsICJsaW5lQ2FwIjogInJvdW5kIiwgImxpbmVKb2luIjogInJvdW5kIiwgIm9wYWNpdHkiOiAxLjAsICJyYWRpdXMiOiAyLCAic3Ryb2tlIjogdHJ1ZSwgIndlaWdodCI6IDN9CiAgICAgICAgICAgICkuYWRkVG8obWFwXzk3YjQzMDAzMzg0YTQyNTU4YTQwZTI2ZTE0NmVkZjZhKTsKICAgICAgICAKICAgIAogICAgICAgIHZhciBwb3B1cF8xNzQ3NzY4ODFiODM0OGU2YTMxOGZjZTZjOTBiYjdhYSA9IEwucG9wdXAoeyJtYXhXaWR0aCI6ICIxMDAlIn0pOwoKICAgICAgICAKICAgICAgICAgICAgdmFyIGh0bWxfMzZlNjJjOTIwNjMyNDAzMjk1YWQyZDE4MzU0ZjAzYWIgPSAkKGA8ZGl2IGlkPSJodG1sXzM2ZTYyYzkyMDYzMjQwMzI5NWFkMmQxODM1NGYwM2FiIiBzdHlsZT0id2lkdGg6IDEwMC4wJTsgaGVpZ2h0OiAxMDAuMCU7Ij7sm5TsoJXrpqzqsIjruYTrsKU8L2Rpdj5gKVswXTsKICAgICAgICAgICAgcG9wdXBfMTc0Nzc2ODgxYjgzNDhlNmEzMThmY2U2YzkwYmI3YWEuc2V0Q29udGVudChodG1sXzM2ZTYyYzkyMDYzMjQwMzI5NWFkMmQxODM1NGYwM2FiKTsKICAgICAgICAKCiAgICAgICAgY2lyY2xlX21hcmtlcl9kNjhhOTc3MmQ2YmM0NGVlOGEwYjlkZGU2NGE1ZjBiOS5iaW5kUG9wdXAocG9wdXBfMTc0Nzc2ODgxYjgzNDhlNmEzMThmY2U2YzkwYmI3YWEpCiAgICAgICAgOwoKICAgICAgICAKICAgIAogICAgCiAgICAgICAgICAgIHZhciBjaXJjbGVfbWFya2VyX2Y3ZGM1NGJjODJjYjRjNTM5ODg4OGVkMzAxZmQ4ODBjID0gTC5jaXJjbGVNYXJrZXIoCiAgICAgICAgICAgICAgICBbMzMuMjc3MTcyMzk3ODg3NywgMTI2LjI3OTQwMTU3NDI3NV0sCiAgICAgICAgICAgICAgICB7ImJ1YmJsaW5nTW91c2VFdmVudHMiOiB0cnVlLCAiY29sb3IiOiAicmVkIiwgImRhc2hBcnJheSI6IG51bGwsICJkYXNoT2Zmc2V0IjogbnVsbCwgImZpbGwiOiBmYWxzZSwgImZpbGxDb2xvciI6ICJyZWQiLCAiZmlsbE9wYWNpdHkiOiAwLjIsICJmaWxsUnVsZSI6ICJldmVub2RkIiwgImxpbmVDYXAiOiAicm91bmQiLCAibGluZUpvaW4iOiAicm91bmQiLCAib3BhY2l0eSI6IDEuMCwgInJhZGl1cyI6IDIsICJzdHJva2UiOiB0cnVlLCAid2VpZ2h0IjogM30KICAgICAgICAgICAgKS5hZGRUbyhtYXBfOTdiNDMwMDMzODRhNDI1NThhNDBlMjZlMTQ2ZWRmNmEpOwogICAgICAgIAogICAgCiAgICAgICAgdmFyIHBvcHVwXzcyM2ZkNjA1YmE3MjQ5YTg5NmE2MGU4OTg2OWRmMjZkID0gTC5wb3B1cCh7Im1heFdpZHRoIjogIjEwMCUifSk7CgogICAgICAgIAogICAgICAgICAgICB2YXIgaHRtbF84ZWIyNmU3ZDZjZjY0ZTgyOGIxODczZTY2M2VhNzNmZCA9ICQoYDxkaXYgaWQ9Imh0bWxfOGViMjZlN2Q2Y2Y2NGU4MjhiMTg3M2U2NjNlYTczZmQiIHN0eWxlPSJ3aWR0aDogMTAwLjAlOyBoZWlnaHQ6IDEwMC4wJTsiPuyblOygleumrOqwiOu5hOuwpSDshJzqt4Dtj6zsoJA8L2Rpdj5gKVswXTsKICAgICAgICAgICAgcG9wdXBfNzIzZmQ2MDViYTcyNDlhODk2YTYwZTg5ODY5ZGYyNmQuc2V0Q29udGVudChodG1sXzhlYjI2ZTdkNmNmNjRlODI4YjE4NzNlNjYzZWE3M2ZkKTsKICAgICAgICAKCiAgICAgICAgY2lyY2xlX21hcmtlcl9mN2RjNTRiYzgyY2I0YzUzOTg4ODhlZDMwMWZkODgwYy5iaW5kUG9wdXAocG9wdXBfNzIzZmQ2MDViYTcyNDlhODk2YTYwZTg5ODY5ZGYyNmQpCiAgICAgICAgOwoKICAgICAgICAKICAgIAogICAgCiAgICAgICAgICAgIHZhciBjaXJjbGVfbWFya2VyX2RiYzc1MDliMmQyZTQyNTNiZWJhMzRmYWZkNDY3NzMyID0gTC5jaXJjbGVNYXJrZXIoCiAgICAgICAgICAgICAgICBbMzMuMzA1MDgyNTcwMDkxMDIsIDEyNi4xNjY2NTMyMTgzMTM4XSwKICAgICAgICAgICAgICAgIHsiYnViYmxpbmdNb3VzZUV2ZW50cyI6IHRydWUsICJjb2xvciI6ICJyZWQiLCAiZGFzaEFycmF5IjogbnVsbCwgImRhc2hPZmZzZXQiOiBudWxsLCAiZmlsbCI6IGZhbHNlLCAiZmlsbENvbG9yIjogInJlZCIsICJmaWxsT3BhY2l0eSI6IDAuMiwgImZpbGxSdWxlIjogImV2ZW5vZGQiLCAibGluZUNhcCI6ICJyb3VuZCIsICJsaW5lSm9pbiI6ICJyb3VuZCIsICJvcGFjaXR5IjogMS4wLCAicmFkaXVzIjogMiwgInN0cm9rZSI6IHRydWUsICJ3ZWlnaHQiOiAzfQogICAgICAgICAgICApLmFkZFRvKG1hcF85N2I0MzAwMzM4NGE0MjU1OGE0MGUyNmUxNDZlZGY2YSk7CiAgICAgICAgCiAgICAKICAgICAgICB2YXIgcG9wdXBfNDFkZDkwMGNjZTZlNDZmMDgyMGMxOTNkNTQ1ZDI4MjggPSBMLnBvcHVwKHsibWF4V2lkdGgiOiAiMTAwJSJ9KTsKCiAgICAgICAgCiAgICAgICAgICAgIHZhciBodG1sXzE3MjYwYmYzOGE3OTQ5MzZiNTI4MmQxMWM0MDA1NGY1ID0gJChgPGRpdiBpZD0iaHRtbF8xNzI2MGJmMzhhNzk0OTM2YjUyODJkMTFjNDAwNTRmNSIgc3R5bGU9IndpZHRoOiAxMDAuMCU7IGhlaWdodDogMTAwLjAlOyI+7KCc7KO86rOg7IKw66as7Jyg7KCBPC9kaXY+YClbMF07CiAgICAgICAgICAgIHBvcHVwXzQxZGQ5MDBjY2U2ZTQ2ZjA4MjBjMTkzZDU0NWQyODI4LnNldENvbnRlbnQoaHRtbF8xNzI2MGJmMzhhNzk0OTM2YjUyODJkMTFjNDAwNTRmNSk7CiAgICAgICAgCgogICAgICAgIGNpcmNsZV9tYXJrZXJfZGJjNzUwOWIyZDJlNDI1M2JlYmEzNGZhZmQ0Njc3MzIuYmluZFBvcHVwKHBvcHVwXzQxZGQ5MDBjY2U2ZTQ2ZjA4MjBjMTkzZDU0NWQyODI4KQogICAgICAgIDsKCiAgICAgICAgCiAgICAKICAgIAogICAgICAgICAgICB2YXIgY2lyY2xlX21hcmtlcl85YmM1NDRhMGVhNTE0MDczOTcwZTU4ZjdmMjZhODYyNCA9IEwuY2lyY2xlTWFya2VyKAogICAgICAgICAgICAgICAgWzMzLjM3OTc3NjkyMjcxNjEsIDEyNi41NDU4NzU3MTAyODNdLAogICAgICAgICAgICAgICAgeyJidWJibGluZ01vdXNlRXZlbnRzIjogdHJ1ZSwgImNvbG9yIjogInJlZCIsICJkYXNoQXJyYXkiOiBudWxsLCAiZGFzaE9mZnNldCI6IG51bGwsICJmaWxsIjogZmFsc2UsICJmaWxsQ29sb3IiOiAicmVkIiwgImZpbGxPcGFjaXR5IjogMC4yLCAiZmlsbFJ1bGUiOiAiZXZlbm9kZCIsICJsaW5lQ2FwIjogInJvdW5kIiwgImxpbmVKb2luIjogInJvdW5kIiwgIm9wYWNpdHkiOiAxLjAsICJyYWRpdXMiOiA0LCAic3Ryb2tlIjogdHJ1ZSwgIndlaWdodCI6IDN9CiAgICAgICAgICAgICkuYWRkVG8obWFwXzk3YjQzMDAzMzg0YTQyNTU4YTQwZTI2ZTE0NmVkZjZhKTsKICAgICAgICAKICAgIAogICAgICAgIHZhciBwb3B1cF9jNjgwMDFiMTlkNTQ0YmY1YjI4NTA4N2JiZjY1ZmI3MiA9IEwucG9wdXAoeyJtYXhXaWR0aCI6ICIxMDAlIn0pOwoKICAgICAgICAKICAgICAgICAgICAgdmFyIGh0bWxfODBhZTRhNjljMDU3NDU4MTgzOWU0NWViMmRhZjY5ODEgPSAkKGA8ZGl2IGlkPSJodG1sXzgwYWU0YTY5YzA1NzQ1ODE4MzllNDVlYjJkYWY2OTgxIiBzdHlsZT0id2lkdGg6IDEwMC4wJTsgaGVpZ2h0OiAxMDAuMCU7Ij7soJzso7zrj4Q8L2Rpdj5gKVswXTsKICAgICAgICAgICAgcG9wdXBfYzY4MDAxYjE5ZDU0NGJmNWIyODUwODdiYmY2NWZiNzIuc2V0Q29udGVudChodG1sXzgwYWU0YTY5YzA1NzQ1ODE4MzllNDVlYjJkYWY2OTgxKTsKICAgICAgICAKCiAgICAgICAgY2lyY2xlX21hcmtlcl85YmM1NDRhMGVhNTE0MDczOTcwZTU4ZjdmMjZhODYyNC5iaW5kUG9wdXAocG9wdXBfYzY4MDAxYjE5ZDU0NGJmNWIyODUwODdiYmY2NWZiNzIpCiAgICAgICAgOwoKICAgICAgICAKICAgIAogICAgCiAgICAgICAgICAgIHZhciBjaXJjbGVfbWFya2VyXzdmYWY5ZmZlYmMyOTRmMDViNjBmNzQwN2IzZjljNTQ5ID0gTC5jaXJjbGVNYXJrZXIoCiAgICAgICAgICAgICAgICBbMzMuNDYyMjMwMTA1Mjc1OCwgMTI2LjUzNDExMjg0MDMzMV0sCiAgICAgICAgICAgICAgICB7ImJ1YmJsaW5nTW91c2VFdmVudHMiOiB0cnVlLCAiY29sb3IiOiAicmVkIiwgImRhc2hBcnJheSI6IG51bGwsICJkYXNoT2Zmc2V0IjogbnVsbCwgImZpbGwiOiBmYWxzZSwgImZpbGxDb2xvciI6ICJyZWQiLCAiZmlsbE9wYWNpdHkiOiAwLjIsICJmaWxsUnVsZSI6ICJldmVub2RkIiwgImxpbmVDYXAiOiAicm91bmQiLCAibGluZUpvaW4iOiAicm91bmQiLCAib3BhY2l0eSI6IDEuMCwgInJhZGl1cyI6IDIsICJzdHJva2UiOiB0cnVlLCAid2VpZ2h0IjogM30KICAgICAgICAgICAgKS5hZGRUbyhtYXBfOTdiNDMwMDMzODRhNDI1NThhNDBlMjZlMTQ2ZWRmNmEpOwogICAgICAgIAogICAgCiAgICAgICAgdmFyIHBvcHVwXzNhOTlmN2JkYjMyZjRjZGQ4NmZiMzZjZDZkYTE4NTMwID0gTC5wb3B1cCh7Im1heFdpZHRoIjogIjEwMCUifSk7CgogICAgICAgIAogICAgICAgICAgICB2YXIgaHRtbF83N2FiZGRjNmU0MWM0NDJjYTg2ZTg5YjJmYjJlNTYyNyA9ICQoYDxkaXYgaWQ9Imh0bWxfNzdhYmRkYzZlNDFjNDQyY2E4NmU4OWIyZmIyZTU2MjciIHN0eWxlPSJ3aWR0aDogMTAwLjAlOyBoZWlnaHQ6IDEwMC4wJTsiPuyjveyEseqzoOydhDwvZGl2PmApWzBdOwogICAgICAgICAgICBwb3B1cF8zYTk5ZjdiZGIzMmY0Y2RkODZmYjM2Y2Q2ZGExODUzMC5zZXRDb250ZW50KGh0bWxfNzdhYmRkYzZlNDFjNDQyY2E4NmU4OWIyZmIyZTU2MjcpOwogICAgICAgIAoKICAgICAgICBjaXJjbGVfbWFya2VyXzdmYWY5ZmZlYmMyOTRmMDViNjBmNzQwN2IzZjljNTQ5LmJpbmRQb3B1cChwb3B1cF8zYTk5ZjdiZGIzMmY0Y2RkODZmYjM2Y2Q2ZGExODUzMCkKICAgICAgICA7CgogICAgICAgIAogICAgCiAgICAKICAgICAgICAgICAgdmFyIGNpcmNsZV9tYXJrZXJfZTRiYmRlN2ZiMjEwNGFiMWFhN2UwZmQ5ZWRmNDU1MjMgPSBMLmNpcmNsZU1hcmtlcigKICAgICAgICAgICAgICAgIFszNy4xODM3MzQ2MTM1ODk5NiwgMTI3LjA0MTE2MzUzMzc4NDRdLAogICAgICAgICAgICAgICAgeyJidWJibGluZ01vdXNlRXZlbnRzIjogdHJ1ZSwgImNvbG9yIjogInJlZCIsICJkYXNoQXJyYXkiOiBudWxsLCAiZGFzaE9mZnNldCI6IG51bGwsICJmaWxsIjogZmFsc2UsICJmaWxsQ29sb3IiOiAicmVkIiwgImZpbGxPcGFjaXR5IjogMC4yLCAiZmlsbFJ1bGUiOiAiZXZlbm9kZCIsICJsaW5lQ2FwIjogInJvdW5kIiwgImxpbmVKb2luIjogInJvdW5kIiwgIm9wYWNpdHkiOiAxLjAsICJyYWRpdXMiOiAyLCAic3Ryb2tlIjogdHJ1ZSwgIndlaWdodCI6IDN9CiAgICAgICAgICAgICkuYWRkVG8obWFwXzk3YjQzMDAzMzg0YTQyNTU4YTQwZTI2ZTE0NmVkZjZhKTsKICAgICAgICAKICAgIAogICAgICAgIHZhciBwb3B1cF82NGZmNWJhMjI5MjY0ZGQ4OTc4YTQ4MmM5Y2RmNzllMyA9IEwucG9wdXAoeyJtYXhXaWR0aCI6ICIxMDAlIn0pOwoKICAgICAgICAKICAgICAgICAgICAgdmFyIGh0bWxfMmRhY2Q3MjM1ZDYxNGQ5NmIyMzgyN2Y3NjQ5ZTU0YmYgPSAkKGA8ZGl2IGlkPSJodG1sXzJkYWNkNzIzNWQ2MTRkOTZiMjM4MjdmNzY0OWU1NGJmIiBzdHlsZT0id2lkdGg6IDEwMC4wJTsgaGVpZ2h0OiAxMDAuMCU7Ij7sp5E8L2Rpdj5gKVswXTsKICAgICAgICAgICAgcG9wdXBfNjRmZjViYTIyOTI2NGRkODk3OGE0ODJjOWNkZjc5ZTMuc2V0Q29udGVudChodG1sXzJkYWNkNzIzNWQ2MTRkOTZiMjM4MjdmNzY0OWU1NGJmKTsKICAgICAgICAKCiAgICAgICAgY2lyY2xlX21hcmtlcl9lNGJiZGU3ZmIyMTA0YWIxYWE3ZTBmZDllZGY0NTUyMy5iaW5kUG9wdXAocG9wdXBfNjRmZjViYTIyOTI2NGRkODk3OGE0ODJjOWNkZjc5ZTMpCiAgICAgICAgOwoKICAgICAgICAKICAgIAogICAgCiAgICAgICAgICAgIHZhciBjaXJjbGVfbWFya2VyXzdhYWMyZjVjY2E0ZjQwYjlhOTA4N2IyM2UwZDFlMWFkID0gTC5jaXJjbGVNYXJrZXIoCiAgICAgICAgICAgICAgICBbMzMuNDIxNDgwNTgzODQzLCAxMjYuNzgyNjYwMjA3MjE0XSwKICAgICAgICAgICAgICAgIHsiYnViYmxpbmdNb3VzZUV2ZW50cyI6IHRydWUsICJjb2xvciI6ICJyZWQiLCAiZGFzaEFycmF5IjogbnVsbCwgImRhc2hPZmZzZXQiOiBudWxsLCAiZmlsbCI6IGZhbHNlLCAiZmlsbENvbG9yIjogInJlZCIsICJmaWxsT3BhY2l0eSI6IDAuMiwgImZpbGxSdWxlIjogImV2ZW5vZGQiLCAibGluZUNhcCI6ICJyb3VuZCIsICJsaW5lSm9pbiI6ICJyb3VuZCIsICJvcGFjaXR5IjogMS4wLCAicmFkaXVzIjogMiwgInN0cm9rZSI6IHRydWUsICJ3ZWlnaHQiOiAzfQogICAgICAgICAgICApLmFkZFRvKG1hcF85N2I0MzAwMzM4NGE0MjU1OGE0MGUyNmUxNDZlZGY2YSk7CiAgICAgICAgCiAgICAKICAgICAgICB2YXIgcG9wdXBfN2Y0YTMxNzM4YzA3NGYwYmEwY2M0NTQ2NzNmY2I1YzUgPSBMLnBvcHVwKHsibWF4V2lkdGgiOiAiMTAwJSJ9KTsKCiAgICAgICAgCiAgICAgICAgICAgIHZhciBodG1sXzgxY2ExMjA0NzFmOTQ5NzZhYTE2MDlhNjg3YTlmZTgxID0gJChgPGRpdiBpZD0iaHRtbF84MWNhMTIwNDcxZjk0OTc2YWExNjA5YTY4N2E5ZmU4MSIgc3R5bGU9IndpZHRoOiAxMDAuMCU7IGhlaWdodDogMTAwLjAlOyI+7LKt7LSI67Ct7JiB64aN7KGw7ZWp67KV7J24PC9kaXY+YClbMF07CiAgICAgICAgICAgIHBvcHVwXzdmNGEzMTczOGMwNzRmMGJhMGNjNDU0NjczZmNiNWM1LnNldENvbnRlbnQoaHRtbF84MWNhMTIwNDcxZjk0OTc2YWExNjA5YTY4N2E5ZmU4MSk7CiAgICAgICAgCgogICAgICAgIGNpcmNsZV9tYXJrZXJfN2FhYzJmNWNjYTRmNDBiOWE5MDg3YjIzZTBkMWUxYWQuYmluZFBvcHVwKHBvcHVwXzdmNGEzMTczOGMwNzRmMGJhMGNjNDU0NjczZmNiNWM1KQogICAgICAgIDsKCiAgICAgICAgCiAgICAKICAgIAogICAgICAgICAgICB2YXIgY2lyY2xlX21hcmtlcl8wYjhhZDc5NjBlY2E0YTUzYjUzZDVlZTMxNjE4NWExZiA9IEwuY2lyY2xlTWFya2VyKAogICAgICAgICAgICAgICAgWzMzLjQ2NDQwMjk2MzMwOTYsIDEyNi40ODUzMjg1NDk4NjVdLAogICAgICAgICAgICAgICAgeyJidWJibGluZ01vdXNlRXZlbnRzIjogdHJ1ZSwgImNvbG9yIjogInJlZCIsICJkYXNoQXJyYXkiOiBudWxsLCAiZGFzaE9mZnNldCI6IG51bGwsICJmaWxsIjogZmFsc2UsICJmaWxsQ29sb3IiOiAicmVkIiwgImZpbGxPcGFjaXR5IjogMC4yLCAiZmlsbFJ1bGUiOiAiZXZlbm9kZCIsICJsaW5lQ2FwIjogInJvdW5kIiwgImxpbmVKb2luIjogInJvdW5kIiwgIm9wYWNpdHkiOiAxLjAsICJyYWRpdXMiOiAyLCAic3Ryb2tlIjogdHJ1ZSwgIndlaWdodCI6IDN9CiAgICAgICAgICAgICkuYWRkVG8obWFwXzk3YjQzMDAzMzg0YTQyNTU4YTQwZTI2ZTE0NmVkZjZhKTsKICAgICAgICAKICAgIAogICAgICAgIHZhciBwb3B1cF82NmYzMTBmZGFjNDA0ZWE3YTIwZjg2ZjNmNzUyYTIyNyA9IEwucG9wdXAoeyJtYXhXaWR0aCI6ICIxMDAlIn0pOwoKICAgICAgICAKICAgICAgICAgICAgdmFyIGh0bWxfNWVmYjA0YjQxMzA3NDYwMzk3ZWZiOWNjMGZjMzAzZGYgPSAkKGA8ZGl2IGlkPSJodG1sXzVlZmIwNGI0MTMwNzQ2MDM5N2VmYjljYzBmYzMwM2RmIiBzdHlsZT0id2lkdGg6IDEwMC4wJTsgaGVpZ2h0OiAxMDAuMCU7Ij7stpjsi6zsnbTrhKQgMu2YuOygkDwvZGl2PmApWzBdOwogICAgICAgICAgICBwb3B1cF82NmYzMTBmZGFjNDA0ZWE3YTIwZjg2ZjNmNzUyYTIyNy5zZXRDb250ZW50KGh0bWxfNWVmYjA0YjQxMzA3NDYwMzk3ZWZiOWNjMGZjMzAzZGYpOwogICAgICAgIAoKICAgICAgICBjaXJjbGVfbWFya2VyXzBiOGFkNzk2MGVjYTRhNTNiNTNkNWVlMzE2MTg1YTFmLmJpbmRQb3B1cChwb3B1cF82NmYzMTBmZGFjNDA0ZWE3YTIwZjg2ZjNmNzUyYTIyNykKICAgICAgICA7CgogICAgICAgIAogICAgCiAgICAKICAgICAgICAgICAgdmFyIGNpcmNsZV9tYXJrZXJfYmNmYWE3Njc3NmMxNDk1YWFmMGExM2ZmYTY1NTQ4YTggPSBMLmNpcmNsZU1hcmtlcigKICAgICAgICAgICAgICAgIFszMy41MjQ3ODI1MDY3MTgzNiwgMTI2Ljg2MzAyNTQ1MzAyM10sCiAgICAgICAgICAgICAgICB7ImJ1YmJsaW5nTW91c2VFdmVudHMiOiB0cnVlLCAiY29sb3IiOiAicmVkIiwgImRhc2hBcnJheSI6IG51bGwsICJkYXNoT2Zmc2V0IjogbnVsbCwgImZpbGwiOiBmYWxzZSwgImZpbGxDb2xvciI6ICJyZWQiLCAiZmlsbE9wYWNpdHkiOiAwLjIsICJmaWxsUnVsZSI6ICJldmVub2RkIiwgImxpbmVDYXAiOiAicm91bmQiLCAibGluZUpvaW4iOiAicm91bmQiLCAib3BhY2l0eSI6IDEuMCwgInJhZGl1cyI6IDIsICJzdHJva2UiOiB0cnVlLCAid2VpZ2h0IjogM30KICAgICAgICAgICAgKS5hZGRUbyhtYXBfOTdiNDMwMDMzODRhNDI1NThhNDBlMjZlMTQ2ZWRmNmEpOwogICAgICAgIAogICAgCiAgICAgICAgdmFyIHBvcHVwXzlhMjdhMmY3NWVkZDQwOGE5OTFiOTU5Mzc3NTQ3ZTQ2ID0gTC5wb3B1cCh7Im1heFdpZHRoIjogIjEwMCUifSk7CgogICAgICAgIAogICAgICAgICAgICB2YXIgaHRtbF84M2E0ODc2YWFhNDY0MDAzYTBmMzAzMmExNjIzYTVmZSA9ICQoYDxkaXYgaWQ9Imh0bWxfODNhNDg3NmFhYTQ2NDAwM2EwZjMwMzJhMTYyM2E1ZmUiIHN0eWxlPSJ3aWR0aDogMTAwLjAlOyBoZWlnaHQ6IDEwMC4wJTsiPuy5tO2OmO2VnOudvOyCsDwvZGl2PmApWzBdOwogICAgICAgICAgICBwb3B1cF85YTI3YTJmNzVlZGQ0MDhhOTkxYjk1OTM3NzU0N2U0Ni5zZXRDb250ZW50KGh0bWxfODNhNDg3NmFhYTQ2NDAwM2EwZjMwMzJhMTYyM2E1ZmUpOwogICAgICAgIAoKICAgICAgICBjaXJjbGVfbWFya2VyX2JjZmFhNzY3NzZjMTQ5NWFhZjBhMTNmZmE2NTU0OGE4LmJpbmRQb3B1cChwb3B1cF85YTI3YTJmNzVlZGQ0MDhhOTkxYjk1OTM3NzU0N2U0NikKICAgICAgICA7CgogICAgICAgIAogICAgCiAgICAKICAgICAgICAgICAgdmFyIGNpcmNsZV9tYXJrZXJfNjNkMWUxOTU5ZTI3NGIyZGJjMGI5NWNmNGI1NGM2NDIgPSBMLmNpcmNsZU1hcmtlcigKICAgICAgICAgICAgICAgIFszMy4yMjcxMjQxNzc0MDE1LCAxMjYuMjYxMzA0NzI0MzM4XSwKICAgICAgICAgICAgICAgIHsiYnViYmxpbmdNb3VzZUV2ZW50cyI6IHRydWUsICJjb2xvciI6ICJyZWQiLCAiZGFzaEFycmF5IjogbnVsbCwgImRhc2hPZmZzZXQiOiBudWxsLCAiZmlsbCI6IGZhbHNlLCAiZmlsbENvbG9yIjogInJlZCIsICJmaWxsT3BhY2l0eSI6IDAuMiwgImZpbGxSdWxlIjogImV2ZW5vZGQiLCAibGluZUNhcCI6ICJyb3VuZCIsICJsaW5lSm9pbiI6ICJyb3VuZCIsICJvcGFjaXR5IjogMS4wLCAicmFkaXVzIjogMiwgInN0cm9rZSI6IHRydWUsICJ3ZWlnaHQiOiAzfQogICAgICAgICAgICApLmFkZFRvKG1hcF85N2I0MzAwMzM4NGE0MjU1OGE0MGUyNmUxNDZlZGY2YSk7CiAgICAgICAgCiAgICAKICAgICAgICB2YXIgcG9wdXBfNjRiYWJiMDk2MmFjNDM1OWIzYjc4ZmY2YTZiMTAzNzAgPSBMLnBvcHVwKHsibWF4V2lkdGgiOiAiMTAwJSJ9KTsKCiAgICAgICAgCiAgICAgICAgICAgIHZhciBodG1sXzc5NDZkYTEzN2JjMzQzNDNhMmJjYWU1YzdmY2MwZGQyID0gJChgPGRpdiBpZD0iaHRtbF83OTQ2ZGExMzdiYzM0MzQzYTJiY2FlNWM3ZmNjMGRkMiIgc3R5bGU9IndpZHRoOiAxMDAuMCU7IGhlaWdodDogMTAwLjAlOyI+7Luk7ZS87LqE66i4PC9kaXY+YClbMF07CiAgICAgICAgICAgIHBvcHVwXzY0YmFiYjA5NjJhYzQzNTliM2I3OGZmNmE2YjEwMzcwLnNldENvbnRlbnQoaHRtbF83OTQ2ZGExMzdiYzM0MzQzYTJiY2FlNWM3ZmNjMGRkMik7CiAgICAgICAgCgogICAgICAgIGNpcmNsZV9tYXJrZXJfNjNkMWUxOTU5ZTI3NGIyZGJjMGI5NWNmNGI1NGM2NDIuYmluZFBvcHVwKHBvcHVwXzY0YmFiYjA5NjJhYzQzNTliM2I3OGZmNmE2YjEwMzcwKQogICAgICAgIDsKCiAgICAgICAgCiAgICAKICAgIAogICAgICAgICAgICB2YXIgY2lyY2xlX21hcmtlcl83YTJkZmViZDE2OTQ0ZTE1OWRjMzg3YmY5ZDQzZWM0NyA9IEwuY2lyY2xlTWFya2VyKAogICAgICAgICAgICAgICAgWzMzLjQxNTU2NzA4Nzk0NTExLCAxMjYuMjYxNTA2NDQ3MjkxXSwKICAgICAgICAgICAgICAgIHsiYnViYmxpbmdNb3VzZUV2ZW50cyI6IHRydWUsICJjb2xvciI6ICJyZWQiLCAiZGFzaEFycmF5IjogbnVsbCwgImRhc2hPZmZzZXQiOiBudWxsLCAiZmlsbCI6IGZhbHNlLCAiZmlsbENvbG9yIjogInJlZCIsICJmaWxsT3BhY2l0eSI6IDAuMiwgImZpbGxSdWxlIjogImV2ZW5vZGQiLCAibGluZUNhcCI6ICJyb3VuZCIsICJsaW5lSm9pbiI6ICJyb3VuZCIsICJvcGFjaXR5IjogMS4wLCAicmFkaXVzIjogMiwgInN0cm9rZSI6IHRydWUsICJ3ZWlnaHQiOiAzfQogICAgICAgICAgICApLmFkZFRvKG1hcF85N2I0MzAwMzM4NGE0MjU1OGE0MGUyNmUxNDZlZGY2YSk7CiAgICAgICAgCiAgICAKICAgICAgICB2YXIgcG9wdXBfZmFmOTVkODcxZTkyNDZkMDg4YTg4ZDI2NWQ2NWY2Y2EgPSBMLnBvcHVwKHsibWF4V2lkdGgiOiAiMTAwJSJ9KTsKCiAgICAgICAgCiAgICAgICAgICAgIHZhciBodG1sXzkyOWI5NjQzZDI2NTQ1MWVhMGQ4ZjEyYTNkNmQxZmE4ID0gJChgPGRpdiBpZD0iaHRtbF85MjliOTY0M2QyNjU0NTFlYTBkOGYxMmEzZDZkMWZhOCIgc3R5bGU9IndpZHRoOiAxMDAuMCU7IGhlaWdodDogMTAwLjAlOyI+7ZWc66a87Lm86rWt7IiYPC9kaXY+YClbMF07CiAgICAgICAgICAgIHBvcHVwX2ZhZjk1ZDg3MWU5MjQ2ZDA4OGE4OGQyNjVkNjVmNmNhLnNldENvbnRlbnQoaHRtbF85MjliOTY0M2QyNjU0NTFlYTBkOGYxMmEzZDZkMWZhOCk7CiAgICAgICAgCgogICAgICAgIGNpcmNsZV9tYXJrZXJfN2EyZGZlYmQxNjk0NGUxNTlkYzM4N2JmOWQ0M2VjNDcuYmluZFBvcHVwKHBvcHVwX2ZhZjk1ZDg3MWU5MjQ2ZDA4OGE4OGQyNjVkNjVmNmNhKQogICAgICAgIDsKCiAgICAgICAgCiAgICAKPC9zY3JpcHQ+ onload=\"this.contentDocument.open();this.contentDocument.write(atob(this.getAttribute('data-html')));this.contentDocument.close();\" allowfullscreen webkitallowfullscreen mozallowfullscreen></iframe></div></div>"
      ],
      "text/plain": [
       "<folium.folium.Map at 0x29fc3bd7390>"
      ]
     },
     "execution_count": 28,
     "metadata": {},
     "output_type": "execute_result"
    }
   ],
   "source": [
    "import folium\n",
    "\n",
    "Mt_Hanla = [33.362500, 126.533694]\n",
    "map_jeju = folium.Map(locatioon = Mt_Hanla, zoom_start=11)\n",
    "\n",
    "for i in range(len(location_data)):\n",
    "    name = location_data['name_official'][i]  # 공식명칭\n",
    "    count = location_data['place'][i] #게시글 개수\n",
    "    size = int(count)*2\n",
    "    long = float(location_data['위도'][i])\n",
    "    lat = float(location_data['경도'][i])\n",
    "    folium.CircleMarker((long, lat), radius=size, color='red', popup=name).add_to(map_jeju)\n",
    "    \n",
    "map_jeju    "
   ]
  },
  {
   "cell_type": "markdown",
   "metadata": {},
   "source": [
    "### 4-36 지도 저장하기"
   ]
  },
  {
   "cell_type": "code",
   "execution_count": 29,
   "metadata": {},
   "outputs": [],
   "source": [
    "map_jeju.save('./3_3_jeju.html')"
   ]
  },
  {
   "cell_type": "markdown",
   "metadata": {},
   "source": [
    "# folium을 이용한 지도 시각화 -그룹으로 표시"
   ]
  },
  {
   "cell_type": "markdown",
   "metadata": {},
   "source": [
    "### 4-36 지도 표시하기 (마커 집합)"
   ]
  },
  {
   "cell_type": "code",
   "execution_count": 44,
   "metadata": {},
   "outputs": [
    {
     "data": {
      "text/html": [
       "<div style=\"width:100%;\"><div style=\"position:relative;width:100%;height:0;padding-bottom:60%;\"><span style=\"color:#565656\">Make this Notebook Trusted to load map: File -> Trust Notebook</span><iframe src=\"about:blank\" style=\"position:absolute;width:100%;height:100%;left:0;top:0;border:none !important;\" data-html=PCFET0NUWVBFIGh0bWw+CjxoZWFkPiAgICAKICAgIDxtZXRhIGh0dHAtZXF1aXY9ImNvbnRlbnQtdHlwZSIgY29udGVudD0idGV4dC9odG1sOyBjaGFyc2V0PVVURi04IiAvPgogICAgCiAgICAgICAgPHNjcmlwdD4KICAgICAgICAgICAgTF9OT19UT1VDSCA9IGZhbHNlOwogICAgICAgICAgICBMX0RJU0FCTEVfM0QgPSBmYWxzZTsKICAgICAgICA8L3NjcmlwdD4KICAgIAogICAgPHNjcmlwdCBzcmM9Imh0dHBzOi8vY2RuLmpzZGVsaXZyLm5ldC9ucG0vbGVhZmxldEAxLjYuMC9kaXN0L2xlYWZsZXQuanMiPjwvc2NyaXB0PgogICAgPHNjcmlwdCBzcmM9Imh0dHBzOi8vY29kZS5qcXVlcnkuY29tL2pxdWVyeS0xLjEyLjQubWluLmpzIj48L3NjcmlwdD4KICAgIDxzY3JpcHQgc3JjPSJodHRwczovL21heGNkbi5ib290c3RyYXBjZG4uY29tL2Jvb3RzdHJhcC8zLjIuMC9qcy9ib290c3RyYXAubWluLmpzIj48L3NjcmlwdD4KICAgIDxzY3JpcHQgc3JjPSJodHRwczovL2NkbmpzLmNsb3VkZmxhcmUuY29tL2FqYXgvbGlicy9MZWFmbGV0LmF3ZXNvbWUtbWFya2Vycy8yLjAuMi9sZWFmbGV0LmF3ZXNvbWUtbWFya2Vycy5qcyI+PC9zY3JpcHQ+CiAgICA8bGluayByZWw9InN0eWxlc2hlZXQiIGhyZWY9Imh0dHBzOi8vY2RuLmpzZGVsaXZyLm5ldC9ucG0vbGVhZmxldEAxLjYuMC9kaXN0L2xlYWZsZXQuY3NzIi8+CiAgICA8bGluayByZWw9InN0eWxlc2hlZXQiIGhyZWY9Imh0dHBzOi8vbWF4Y2RuLmJvb3RzdHJhcGNkbi5jb20vYm9vdHN0cmFwLzMuMi4wL2Nzcy9ib290c3RyYXAubWluLmNzcyIvPgogICAgPGxpbmsgcmVsPSJzdHlsZXNoZWV0IiBocmVmPSJodHRwczovL21heGNkbi5ib290c3RyYXBjZG4uY29tL2Jvb3RzdHJhcC8zLjIuMC9jc3MvYm9vdHN0cmFwLXRoZW1lLm1pbi5jc3MiLz4KICAgIDxsaW5rIHJlbD0ic3R5bGVzaGVldCIgaHJlZj0iaHR0cHM6Ly9tYXhjZG4uYm9vdHN0cmFwY2RuLmNvbS9mb250LWF3ZXNvbWUvNC42LjMvY3NzL2ZvbnQtYXdlc29tZS5taW4uY3NzIi8+CiAgICA8bGluayByZWw9InN0eWxlc2hlZXQiIGhyZWY9Imh0dHBzOi8vY2RuanMuY2xvdWRmbGFyZS5jb20vYWpheC9saWJzL0xlYWZsZXQuYXdlc29tZS1tYXJrZXJzLzIuMC4yL2xlYWZsZXQuYXdlc29tZS1tYXJrZXJzLmNzcyIvPgogICAgPGxpbmsgcmVsPSJzdHlsZXNoZWV0IiBocmVmPSJodHRwczovL3Jhd2Nkbi5naXRoYWNrLmNvbS9weXRob24tdmlzdWFsaXphdGlvbi9mb2xpdW0vbWFzdGVyL2ZvbGl1bS90ZW1wbGF0ZXMvbGVhZmxldC5hd2Vzb21lLnJvdGF0ZS5jc3MiLz4KICAgIDxzdHlsZT5odG1sLCBib2R5IHt3aWR0aDogMTAwJTtoZWlnaHQ6IDEwMCU7bWFyZ2luOiAwO3BhZGRpbmc6IDA7fTwvc3R5bGU+CiAgICA8c3R5bGU+I21hcCB7cG9zaXRpb246YWJzb2x1dGU7dG9wOjA7Ym90dG9tOjA7cmlnaHQ6MDtsZWZ0OjA7fTwvc3R5bGU+CiAgICAKICAgICAgICAgICAgPG1ldGEgbmFtZT0idmlld3BvcnQiIGNvbnRlbnQ9IndpZHRoPWRldmljZS13aWR0aCwKICAgICAgICAgICAgICAgIGluaXRpYWwtc2NhbGU9MS4wLCBtYXhpbXVtLXNjYWxlPTEuMCwgdXNlci1zY2FsYWJsZT1ubyIgLz4KICAgICAgICAgICAgPHN0eWxlPgogICAgICAgICAgICAgICAgI21hcF81YzAwMjM4ZWY0MDI0OGQ2YmEyNWExNGJjMzZmZWUxNyB7CiAgICAgICAgICAgICAgICAgICAgcG9zaXRpb246IHJlbGF0aXZlOwogICAgICAgICAgICAgICAgICAgIHdpZHRoOiAxMDAuMCU7CiAgICAgICAgICAgICAgICAgICAgaGVpZ2h0OiAxMDAuMCU7CiAgICAgICAgICAgICAgICAgICAgbGVmdDogMC4wJTsKICAgICAgICAgICAgICAgICAgICB0b3A6IDAuMCU7CiAgICAgICAgICAgICAgICB9CiAgICAgICAgICAgIDwvc3R5bGU+CiAgICAgICAgCiAgICA8c2NyaXB0IHNyYz0iaHR0cHM6Ly9jZG5qcy5jbG91ZGZsYXJlLmNvbS9hamF4L2xpYnMvbGVhZmxldC5tYXJrZXJjbHVzdGVyLzEuMS4wL2xlYWZsZXQubWFya2VyY2x1c3Rlci5qcyI+PC9zY3JpcHQ+CiAgICA8bGluayByZWw9InN0eWxlc2hlZXQiIGhyZWY9Imh0dHBzOi8vY2RuanMuY2xvdWRmbGFyZS5jb20vYWpheC9saWJzL2xlYWZsZXQubWFya2VyY2x1c3Rlci8xLjEuMC9NYXJrZXJDbHVzdGVyLmNzcyIvPgogICAgPGxpbmsgcmVsPSJzdHlsZXNoZWV0IiBocmVmPSJodHRwczovL2NkbmpzLmNsb3VkZmxhcmUuY29tL2FqYXgvbGlicy9sZWFmbGV0Lm1hcmtlcmNsdXN0ZXIvMS4xLjAvTWFya2VyQ2x1c3Rlci5EZWZhdWx0LmNzcyIvPgo8L2hlYWQ+Cjxib2R5PiAgICAKICAgIAogICAgICAgICAgICA8ZGl2IGNsYXNzPSJmb2xpdW0tbWFwIiBpZD0ibWFwXzVjMDAyMzhlZjQwMjQ4ZDZiYTI1YTE0YmMzNmZlZTE3IiA+PC9kaXY+CiAgICAgICAgCjwvYm9keT4KPHNjcmlwdD4gICAgCiAgICAKICAgICAgICAgICAgdmFyIG1hcF81YzAwMjM4ZWY0MDI0OGQ2YmEyNWExNGJjMzZmZWUxNyA9IEwubWFwKAogICAgICAgICAgICAgICAgIm1hcF81YzAwMjM4ZWY0MDI0OGQ2YmEyNWExNGJjMzZmZWUxNyIsCiAgICAgICAgICAgICAgICB7CiAgICAgICAgICAgICAgICAgICAgY2VudGVyOiBbMzMuMzYyNSwgMTI2LjUzMzY5NF0sCiAgICAgICAgICAgICAgICAgICAgY3JzOiBMLkNSUy5FUFNHMzg1NywKICAgICAgICAgICAgICAgICAgICB6b29tOiAxMSwKICAgICAgICAgICAgICAgICAgICB6b29tQ29udHJvbDogdHJ1ZSwKICAgICAgICAgICAgICAgICAgICBwcmVmZXJDYW52YXM6IGZhbHNlLAogICAgICAgICAgICAgICAgfQogICAgICAgICAgICApOwoKICAgICAgICAgICAgCgogICAgICAgIAogICAgCiAgICAgICAgICAgIHZhciB0aWxlX2xheWVyX2ExYzFhY2E0N2Q5YzQ0OTU5ODg3OTljNGRlMjQ3ZDA0ID0gTC50aWxlTGF5ZXIoCiAgICAgICAgICAgICAgICAiaHR0cHM6Ly97c30udGlsZS5vcGVuc3RyZWV0bWFwLm9yZy97en0ve3h9L3t5fS5wbmciLAogICAgICAgICAgICAgICAgeyJhdHRyaWJ1dGlvbiI6ICJEYXRhIGJ5IFx1MDAyNmNvcHk7IFx1MDAzY2EgaHJlZj1cImh0dHA6Ly9vcGVuc3RyZWV0bWFwLm9yZ1wiXHUwMDNlT3BlblN0cmVldE1hcFx1MDAzYy9hXHUwMDNlLCB1bmRlciBcdTAwM2NhIGhyZWY9XCJodHRwOi8vd3d3Lm9wZW5zdHJlZXRtYXAub3JnL2NvcHlyaWdodFwiXHUwMDNlT0RiTFx1MDAzYy9hXHUwMDNlLiIsICJkZXRlY3RSZXRpbmEiOiBmYWxzZSwgIm1heE5hdGl2ZVpvb20iOiAxOCwgIm1heFpvb20iOiAxOCwgIm1pblpvb20iOiAwLCAibm9XcmFwIjogZmFsc2UsICJvcGFjaXR5IjogMSwgInN1YmRvbWFpbnMiOiAiYWJjIiwgInRtcyI6IGZhbHNlfQogICAgICAgICAgICApLmFkZFRvKG1hcF81YzAwMjM4ZWY0MDI0OGQ2YmEyNWExNGJjMzZmZWUxNyk7CiAgICAgICAgCiAgICAKICAgICAgICAgICAgdmFyIG1hcmtlcl9jbHVzdGVyXzllMThhODUzYzAxNTQ4NTg5MDcxMWY2MDBjYmNlZjc5ID0gTC5tYXJrZXJDbHVzdGVyR3JvdXAoCiAgICAgICAgICAgICAgICB7fQogICAgICAgICAgICApOwogICAgICAgICAgICBtYXJrZXJfY2x1c3Rlcl85ZTE4YTg1M2MwMTU0ODU4OTA3MTFmNjAwY2JjZWY3OS5vcHRpb25zLmljb25DcmVhdGVGdW5jdGlvbiA9CiAgICAgICAgICAgICAgICBmdW5jdGlvbihjbHVzdGVyKSB7CiAgICByZXR1cm4gTC5kaXZJY29uKHsKICAgIGh0bWw6ICc8Yj4nICsgY2x1c3Rlci5nZXRDaGlsZENvdW50KCkgKyAnPC9iPicsCiAgICBjbGFzc05hbWU6ICdtYXJrZXItY2x1c3RlciBtYXJrZXItY2x1c3Rlci1sYXJnZScsCiAgICBpY29uU2l6ZSA6IG5ldyBMLlBvaW50KDMwLDMwKQogICAgfSk7Cn07CiAgICAgICAgICAgIG1hcF81YzAwMjM4ZWY0MDI0OGQ2YmEyNWExNGJjMzZmZWUxNy5hZGRMYXllcihtYXJrZXJfY2x1c3Rlcl85ZTE4YTg1M2MwMTU0ODU4OTA3MTFmNjAwY2JjZWY3OSk7CiAgICAgICAgCiAgICAKICAgICAgICAgICAgdmFyIG1hcmtlcl80ODEwOGQ0OTM1NjA0YTM4YmM3NmYzZGYxNjRhMjQ0MiA9IEwubWFya2VyKAogICAgICAgICAgICAgICAgWzMzLjM5OTg0MTEwNjU2OSwgMTI2LjI0OTcwMzg5OTY4Ml0sCiAgICAgICAgICAgICAgICB7fQogICAgICAgICAgICApLmFkZFRvKG1hcmtlcl9jbHVzdGVyXzllMThhODUzYzAxNTQ4NTg5MDcxMWY2MDBjYmNlZjc5KTsKICAgICAgICAKICAgIAogICAgICAgIHZhciBwb3B1cF84MDA5YjVjNzBhMGQ0MzQ3YjYzZGQzMzgxOTkwNzRhZiA9IEwucG9wdXAoeyJtYXhXaWR0aCI6ICIxMDAlIn0pOwoKICAgICAgICAKICAgICAgICAgICAgdmFyIGh0bWxfMjc4NDc2OTBjNTUyNDllMDhlNWQxZTk4ZmIyZDQyZGYgPSAkKGA8ZGl2IGlkPSJodG1sXzI3ODQ3NjkwYzU1MjQ5ZTA4ZTVkMWU5OGZiMmQ0MmRmIiBzdHlsZT0id2lkdGg6IDEwMC4wJTsgaGVpZ2h0OiAxMDAuMCU7Ij7rp4jri7Trgpjtg4jrpqzshozshZztgbTrn708L2Rpdj5gKVswXTsKICAgICAgICAgICAgcG9wdXBfODAwOWI1YzcwYTBkNDM0N2I2M2RkMzM4MTk5MDc0YWYuc2V0Q29udGVudChodG1sXzI3ODQ3NjkwYzU1MjQ5ZTA4ZTVkMWU5OGZiMmQ0MmRmKTsKICAgICAgICAKCiAgICAgICAgbWFya2VyXzQ4MTA4ZDQ5MzU2MDRhMzhiYzc2ZjNkZjE2NGEyNDQyLmJpbmRQb3B1cChwb3B1cF84MDA5YjVjNzBhMGQ0MzQ3YjYzZGQzMzgxOTkwNzRhZikKICAgICAgICA7CgogICAgICAgIAogICAgCiAgICAKICAgICAgICAgICAgdmFyIG1hcmtlcl8zMTcwZDI2ODY3YWU0YjExODM4NGMxNDljODdjNmI0YyA9IEwubWFya2VyKAogICAgICAgICAgICAgICAgWzMzLjUzMjQ3MDkwMzQwMTcsIDEyNi44NTAxODQ5NzEwMTRdLAogICAgICAgICAgICAgICAge30KICAgICAgICAgICAgKS5hZGRUbyhtYXJrZXJfY2x1c3Rlcl85ZTE4YTg1M2MwMTU0ODU4OTA3MTFmNjAwY2JjZWY3OSk7CiAgICAgICAgCiAgICAKICAgICAgICB2YXIgcG9wdXBfOWVlMmU2YWJjOWE2NGM3MmE2OTdlNTU2ODk0NjRmZDYgPSBMLnBvcHVwKHsibWF4V2lkdGgiOiAiMTAwJSJ9KTsKCiAgICAgICAgCiAgICAgICAgICAgIHZhciBodG1sXzkzYmE5YTY3NGI1ODQ0ZWNiMTRkNzlhNGY3ZmI4OGM4ID0gJChgPGRpdiBpZD0iaHRtbF85M2JhOWE2NzRiNTg0NGVjYjE0ZDc5YTRmN2ZiODhjOCIgc3R5bGU9IndpZHRoOiAxMDAuMCU7IGhlaWdodDogMTAwLjAlOyI+66qF7KeE7KCE67O1PC9kaXY+YClbMF07CiAgICAgICAgICAgIHBvcHVwXzllZTJlNmFiYzlhNjRjNzJhNjk3ZTU1Njg5NDY0ZmQ2LnNldENvbnRlbnQoaHRtbF85M2JhOWE2NzRiNTg0NGVjYjE0ZDc5YTRmN2ZiODhjOCk7CiAgICAgICAgCgogICAgICAgIG1hcmtlcl8zMTcwZDI2ODY3YWU0YjExODM4NGMxNDljODdjNmI0Yy5iaW5kUG9wdXAocG9wdXBfOWVlMmU2YWJjOWE2NGM3MmE2OTdlNTU2ODk0NjRmZDYpCiAgICAgICAgOwoKICAgICAgICAKICAgIAogICAgCiAgICAgICAgICAgIHZhciBtYXJrZXJfYWE4MTI3YTNjYzhkNGQ1YmJiMzA0MDllMWFlNTlmNDAgPSBMLm1hcmtlcigKICAgICAgICAgICAgICAgIFszMy41MTY5OTA4NDE3ODQwOSwgMTI2LjUyMzEzNzcwMzk5NzldLAogICAgICAgICAgICAgICAge30KICAgICAgICAgICAgKS5hZGRUbyhtYXJrZXJfY2x1c3Rlcl85ZTE4YTg1M2MwMTU0ODU4OTA3MTFmNjAwY2JjZWY3OSk7CiAgICAgICAgCiAgICAKICAgICAgICB2YXIgcG9wdXBfYzY4NTc5YzJlNmYzNDQyZGFlNzU5YmEzYmNjYWRlODIgPSBMLnBvcHVwKHsibWF4V2lkdGgiOiAiMTAwJSJ9KTsKCiAgICAgICAgCiAgICAgICAgICAgIHZhciBodG1sXzJkNTJkYzJmMDBhMjRhYzBhMDJiMzk3Y2NkOGZhODNlID0gJChgPGRpdiBpZD0iaHRtbF8yZDUyZGMyZjAwYTI0YWMwYTAyYjM5N2NjZDhmYTgzZSIgc3R5bGU9IndpZHRoOiAxMDAuMCU7IGhlaWdodDogMTAwLjAlOyI+66+47Lmc67aA7JeMPC9kaXY+YClbMF07CiAgICAgICAgICAgIHBvcHVwX2M2ODU3OWMyZTZmMzQ0MmRhZTc1OWJhM2JjY2FkZTgyLnNldENvbnRlbnQoaHRtbF8yZDUyZGMyZjAwYTI0YWMwYTAyYjM5N2NjZDhmYTgzZSk7CiAgICAgICAgCgogICAgICAgIG1hcmtlcl9hYTgxMjdhM2NjOGQ0ZDViYmIzMDQwOWUxYWU1OWY0MC5iaW5kUG9wdXAocG9wdXBfYzY4NTc5YzJlNmYzNDQyZGFlNzU5YmEzYmNjYWRlODIpCiAgICAgICAgOwoKICAgICAgICAKICAgIAogICAgCiAgICAgICAgICAgIHZhciBtYXJrZXJfZjczZjViYjIyMzMyNDI4M2FhNmM3ZTRmZmU0ZTI2ODcgPSBMLm1hcmtlcigKICAgICAgICAgICAgICAgIFszMy41MjA3MTQ1OTM3NDI2LCAxMjYuOTQ4NDg2NzcyMTQxXSwKICAgICAgICAgICAgICAgIHt9CiAgICAgICAgICAgICkuYWRkVG8obWFya2VyX2NsdXN0ZXJfOWUxOGE4NTNjMDE1NDg1ODkwNzExZjYwMGNiY2VmNzkpOwogICAgICAgIAogICAgCiAgICAgICAgdmFyIHBvcHVwXzE5MGI5NDI1OWI5MjQwNDE5ZTUyNTQ4NmNjMzJkZWM4ID0gTC5wb3B1cCh7Im1heFdpZHRoIjogIjEwMCUifSk7CgogICAgICAgIAogICAgICAgICAgICB2YXIgaHRtbF9jYWNhZmIwNDM0MGY0M2VjOWVjNGE2NGRkNTJjMTkxOCA9ICQoYDxkaXYgaWQ9Imh0bWxfY2FjYWZiMDQzNDBmNDNlYzllYzRhNjRkZDUyYzE5MTgiIHN0eWxlPSJ3aWR0aDogMTAwLjAlOyBoZWlnaHQ6IDEwMC4wJTsiPuuwpOyImOyngOunqOuTnOudvOuvuDwvZGl2PmApWzBdOwogICAgICAgICAgICBwb3B1cF8xOTBiOTQyNTliOTI0MDQxOWU1MjU0ODZjYzMyZGVjOC5zZXRDb250ZW50KGh0bWxfY2FjYWZiMDQzNDBmNDNlYzllYzRhNjRkZDUyYzE5MTgpOwogICAgICAgIAoKICAgICAgICBtYXJrZXJfZjczZjViYjIyMzMyNDI4M2FhNmM3ZTRmZmU0ZTI2ODcuYmluZFBvcHVwKHBvcHVwXzE5MGI5NDI1OWI5MjQwNDE5ZTUyNTQ4NmNjMzJkZWM4KQogICAgICAgIDsKCiAgICAgICAgCiAgICAKICAgIAogICAgICAgICAgICB2YXIgbWFya2VyX2Q1ODUxOWNjYzljNDRmMTliOGNhOGYwMWQ5NjlmZWM5ID0gTC5tYXJrZXIoCiAgICAgICAgICAgICAgICBbMzMuNTQxMjk2NzE1NTI5MzMsIDEyNi42NjczOTM3ODUxNTIzXSwKICAgICAgICAgICAgICAgIHt9CiAgICAgICAgICAgICkuYWRkVG8obWFya2VyX2NsdXN0ZXJfOWUxOGE4NTNjMDE1NDg1ODkwNzExZjYwMGNiY2VmNzkpOwogICAgICAgIAogICAgCiAgICAgICAgdmFyIHBvcHVwX2ViNTkyZmIxMGFhMDQwNzI5MGQxODZiOTA0YjYwMDdlID0gTC5wb3B1cCh7Im1heFdpZHRoIjogIjEwMCUifSk7CgogICAgICAgIAogICAgICAgICAgICB2YXIgaHRtbF85ZDA0ZmZmZmUxYzc0M2U2YWY0ZTc4NWJjYmIxYmRmMCA9ICQoYDxkaXYgaWQ9Imh0bWxfOWQwNGZmZmZlMWM3NDNlNmFmNGU3ODViY2JiMWJkZjAiIHN0eWxlPSJ3aWR0aDogMTAwLjAlOyBoZWlnaHQ6IDEwMC4wJTsiPuuyhOuTnOuCmOustOynkTwvZGl2PmApWzBdOwogICAgICAgICAgICBwb3B1cF9lYjU5MmZiMTBhYTA0MDcyOTBkMTg2YjkwNGI2MDA3ZS5zZXRDb250ZW50KGh0bWxfOWQwNGZmZmZlMWM3NDNlNmFmNGU3ODViY2JiMWJkZjApOwogICAgICAgIAoKICAgICAgICBtYXJrZXJfZDU4NTE5Y2NjOWM0NGYxOWI4Y2E4ZjAxZDk2OWZlYzkuYmluZFBvcHVwKHBvcHVwX2ViNTkyZmIxMGFhMDQwNzI5MGQxODZiOTA0YjYwMDdlKQogICAgICAgIDsKCiAgICAgICAgCiAgICAKICAgIAogICAgICAgICAgICB2YXIgbWFya2VyXzMxMDEzMTJjYjFjYTQ3NmNiZmYwZjdjYjJkMDEwNDNhID0gTC5tYXJrZXIoCiAgICAgICAgICAgICAgICBbMzMuNDYxNTQxMTA2NDUxNjEsIDEyNi45MzQ2NDU0MDM0MTU5XSwKICAgICAgICAgICAgICAgIHt9CiAgICAgICAgICAgICkuYWRkVG8obWFya2VyX2NsdXN0ZXJfOWUxOGE4NTNjMDE1NDg1ODkwNzExZjYwMGNiY2VmNzkpOwogICAgICAgIAogICAgCiAgICAgICAgdmFyIHBvcHVwXzNmMDhjNzMwZTBlMDQ0MDViMDk3ZDhkOWE3NjM5YjdiID0gTC5wb3B1cCh7Im1heFdpZHRoIjogIjEwMCUifSk7CgogICAgICAgIAogICAgICAgICAgICB2YXIgaHRtbF9kMjQ3ODkzOGUyYmU0YzliYTBiMjI3YTIwMzEwMDA0YyA9ICQoYDxkaXYgaWQ9Imh0bWxfZDI0Nzg5MzhlMmJlNGM5YmEwYjIyN2EyMDMxMDAwNGMiIHN0eWxlPSJ3aWR0aDogMTAwLjAlOyBoZWlnaHQ6IDEwMC4wJTsiPuyEseyCsOyYpe2DkTwvZGl2PmApWzBdOwogICAgICAgICAgICBwb3B1cF8zZjA4YzczMGUwZTA0NDA1YjA5N2Q4ZDlhNzYzOWI3Yi5zZXRDb250ZW50KGh0bWxfZDI0Nzg5MzhlMmJlNGM5YmEwYjIyN2EyMDMxMDAwNGMpOwogICAgICAgIAoKICAgICAgICBtYXJrZXJfMzEwMTMxMmNiMWNhNDc2Y2JmZjBmN2NiMmQwMTA0M2EuYmluZFBvcHVwKHBvcHVwXzNmMDhjNzMwZTBlMDQ0MDViMDk3ZDhkOWE3NjM5YjdiKQogICAgICAgIDsKCiAgICAgICAgCiAgICAKICAgIAogICAgICAgICAgICB2YXIgbWFya2VyX2MyYzg3ODM3MTgwZDQwMjA5YmQ3ZTZhMGNkNjBlMjlmID0gTC5tYXJrZXIoCiAgICAgICAgICAgICAgICBbMzMuMjUyMzU0ODY2MTE3LCAxMjYuNjI0MzMxOTk3NzAzXSwKICAgICAgICAgICAgICAgIHt9CiAgICAgICAgICAgICkuYWRkVG8obWFya2VyX2NsdXN0ZXJfOWUxOGE4NTNjMDE1NDg1ODkwNzExZjYwMGNiY2VmNzkpOwogICAgICAgIAogICAgCiAgICAgICAgdmFyIHBvcHVwX2UzY2ZhYjJmMzgwODQxNTY5MjhiN2UxMzJhMzdhNzBhID0gTC5wb3B1cCh7Im1heFdpZHRoIjogIjEwMCUifSk7CgogICAgICAgIAogICAgICAgICAgICB2YXIgaHRtbF8wM2FmZDEzYWU0ZjU0NTNmYTBiZmIwNjdhZmFiNjkwYSA9ICQoYDxkaXYgaWQ9Imh0bWxfMDNhZmQxM2FlNGY1NDUzZmEwYmZiMDY3YWZhYjY5MGEiIHN0eWxlPSJ3aWR0aDogMTAwLjAlOyBoZWlnaHQ6IDEwMC4wJTsiPuyHoOyGjOq5jTwvZGl2PmApWzBdOwogICAgICAgICAgICBwb3B1cF9lM2NmYWIyZjM4MDg0MTU2OTI4YjdlMTMyYTM3YTcwYS5zZXRDb250ZW50KGh0bWxfMDNhZmQxM2FlNGY1NDUzZmEwYmZiMDY3YWZhYjY5MGEpOwogICAgICAgIAoKICAgICAgICBtYXJrZXJfYzJjODc4MzcxODBkNDAyMDliZDdlNmEwY2Q2MGUyOWYuYmluZFBvcHVwKHBvcHVwX2UzY2ZhYjJmMzgwODQxNTY5MjhiN2UxMzJhMzdhNzBhKQogICAgICAgIDsKCiAgICAgICAgCiAgICAKICAgIAogICAgICAgICAgICB2YXIgbWFya2VyXzdkMTY2NmI3MzRiYTQyNzRiOTAwZjRkYTAyM2ZlMWQ3ID0gTC5tYXJrZXIoCiAgICAgICAgICAgICAgICBbMzMuNDczMTk3Mjk2MTU3NSwgMTI2LjM4NDUwNzMxNTc1OF0sCiAgICAgICAgICAgICAgICB7fQogICAgICAgICAgICApLmFkZFRvKG1hcmtlcl9jbHVzdGVyXzllMThhODUzYzAxNTQ4NTg5MDcxMWY2MDBjYmNlZjc5KTsKICAgICAgICAKICAgIAogICAgICAgIHZhciBwb3B1cF9jMWI0YmMxZTJkNDg0M2UwYWQxMWQzMWUyYmE5NmJiZSA9IEwucG9wdXAoeyJtYXhXaWR0aCI6ICIxMDAlIn0pOwoKICAgICAgICAKICAgICAgICAgICAgdmFyIGh0bWxfYTdjMTM2YjQ4ZTk2NDE3NzkwY2JmZWQ1ODg2MDkzODkgPSAkKGA8ZGl2IGlkPSJodG1sX2E3YzEzNmI0OGU5NjQxNzc5MGNiZmVkNTg4NjA5Mzg5IiBzdHlsZT0id2lkdGg6IDEwMC4wJTsgaGVpZ2h0OiAxMDAuMCU7Ij7siJjsgrDrtIk8L2Rpdj5gKVswXTsKICAgICAgICAgICAgcG9wdXBfYzFiNGJjMWUyZDQ4NDNlMGFkMTFkMzFlMmJhOTZiYmUuc2V0Q29udGVudChodG1sX2E3YzEzNmI0OGU5NjQxNzc5MGNiZmVkNTg4NjA5Mzg5KTsKICAgICAgICAKCiAgICAgICAgbWFya2VyXzdkMTY2NmI3MzRiYTQyNzRiOTAwZjRkYTAyM2ZlMWQ3LmJpbmRQb3B1cChwb3B1cF9jMWI0YmMxZTJkNDg0M2UwYWQxMWQzMWUyYmE5NmJiZSkKICAgICAgICA7CgogICAgICAgIAogICAgCiAgICAKICAgICAgICAgICAgdmFyIG1hcmtlcl8zNDE5MDQ0YWIyMjM0MGQ4ODM1ZTIyMTliN2UyYjdhOSA9IEwubWFya2VyKAogICAgICAgICAgICAgICAgWzMzLjQ0ODU4NDE3NTU2MjEsIDEyNi43NzcyMTQ5OTg0NTVdLAogICAgICAgICAgICAgICAge30KICAgICAgICAgICAgKS5hZGRUbyhtYXJrZXJfY2x1c3Rlcl85ZTE4YTg1M2MwMTU0ODU4OTA3MTFmNjAwY2JjZWY3OSk7CiAgICAgICAgCiAgICAKICAgICAgICB2YXIgcG9wdXBfOGE3YzY5NWM4N2E2NGFhNWEyOWNjMmFmNmYzZDU1NTYgPSBMLnBvcHVwKHsibWF4V2lkdGgiOiAiMTAwJSJ9KTsKCiAgICAgICAgCiAgICAgICAgICAgIHZhciBodG1sX2I0ZjMyYWQzZjIxZTRmYWViZDc3YWQ4MWJhYzA0MjhmID0gJChgPGRpdiBpZD0iaHRtbF9iNGYzMmFkM2YyMWU0ZmFlYmQ3N2FkODFiYWMwNDI4ZiIgc3R5bGU9IndpZHRoOiAxMDAuMCU7IGhlaWdodDogMTAwLjAlOyI+7JWE67aA7Jik66aEPC9kaXY+YClbMF07CiAgICAgICAgICAgIHBvcHVwXzhhN2M2OTVjODdhNjRhYTVhMjljYzJhZjZmM2Q1NTU2LnNldENvbnRlbnQoaHRtbF9iNGYzMmFkM2YyMWU0ZmFlYmQ3N2FkODFiYWMwNDI4Zik7CiAgICAgICAgCgogICAgICAgIG1hcmtlcl8zNDE5MDQ0YWIyMjM0MGQ4ODM1ZTIyMTliN2UyYjdhOS5iaW5kUG9wdXAocG9wdXBfOGE3YzY5NWM4N2E2NGFhNWEyOWNjMmFmNmYzZDU1NTYpCiAgICAgICAgOwoKICAgICAgICAKICAgIAogICAgCiAgICAgICAgICAgIHZhciBtYXJrZXJfMDgzN2I4ZmMzYWVhNDdjOWFlNjU5MjhiYjg2ODk5YjQgPSBMLm1hcmtlcigKICAgICAgICAgICAgICAgIFszMy41NTY4NDI4MjE4MjA2OSwgMTI2LjgwMTQ1MTI2OTA5MV0sCiAgICAgICAgICAgICAgICB7fQogICAgICAgICAgICApLmFkZFRvKG1hcmtlcl9jbHVzdGVyXzllMThhODUzYzAxNTQ4NTg5MDcxMWY2MDBjYmNlZjc5KTsKICAgICAgICAKICAgIAogICAgICAgIHZhciBwb3B1cF85MDFjZDc2ZTZlNTU0ZTM0YjhjZGZkZGMzNWZhZGM0ZSA9IEwucG9wdXAoeyJtYXhXaWR0aCI6ICIxMDAlIn0pOwoKICAgICAgICAKICAgICAgICAgICAgdmFyIGh0bWxfNTA3YWZlYjQ0N2VhNDczNGIxYjg5ODVhOGM4MGY0MGEgPSAkKGA8ZGl2IGlkPSJodG1sXzUwN2FmZWI0NDdlYTQ3MzRiMWI4OTg1YThjODBmNDBhIiBzdHlsZT0id2lkdGg6IDEwMC4wJTsgaGVpZ2h0OiAxMDAuMCU7Ij7slYTsv6DslYTrt7Dti7Dtgaw8L2Rpdj5gKVswXTsKICAgICAgICAgICAgcG9wdXBfOTAxY2Q3NmU2ZTU1NGUzNGI4Y2RmZGRjMzVmYWRjNGUuc2V0Q29udGVudChodG1sXzUwN2FmZWI0NDdlYTQ3MzRiMWI4OTg1YThjODBmNDBhKTsKICAgICAgICAKCiAgICAgICAgbWFya2VyXzA4MzdiOGZjM2FlYTQ3YzlhZTY1OTI4YmI4Njg5OWI0LmJpbmRQb3B1cChwb3B1cF85MDFjZDc2ZTZlNTU0ZTM0YjhjZGZkZGMzNWZhZGM0ZSkKICAgICAgICA7CgogICAgICAgIAogICAgCiAgICAKICAgICAgICAgICAgdmFyIG1hcmtlcl9iZWFkM2ZkNGYyNDA0OTk1Yjk5NzFjOGM5NDk0MTIwMCA9IEwubWFya2VyKAogICAgICAgICAgICAgICAgWzMzLjQ1OTY5OTY4MDgxODUsIDEyNi44MzI1MTAxNDY2NF0sCiAgICAgICAgICAgICAgICB7fQogICAgICAgICAgICApLmFkZFRvKG1hcmtlcl9jbHVzdGVyXzllMThhODUzYzAxNTQ4NTg5MDcxMWY2MDBjYmNlZjc5KTsKICAgICAgICAKICAgIAogICAgICAgIHZhciBwb3B1cF8wMDkxYzI4OWExNmE0ZmQ3YjBkYmJjY2Y1YWM4Y2E2NyA9IEwucG9wdXAoeyJtYXhXaWR0aCI6ICIxMDAlIn0pOwoKICAgICAgICAKICAgICAgICAgICAgdmFyIGh0bWxfYjI0MDIwNTY2YjUzNDAxMWI0NDY2Y2FlYzNiZGMzZjEgPSAkKGA8ZGl2IGlkPSJodG1sX2IyNDAyMDU2NmI1MzQwMTFiNDQ2NmNhZWMzYmRjM2YxIiBzdHlsZT0id2lkdGg6IDEwMC4wJTsgaGVpZ2h0OiAxMDAuMCU7Ij7smqnriIjsnbTsmKTrpoQ8L2Rpdj5gKVswXTsKICAgICAgICAgICAgcG9wdXBfMDA5MWMyODlhMTZhNGZkN2IwZGJiY2NmNWFjOGNhNjcuc2V0Q29udGVudChodG1sX2IyNDAyMDU2NmI1MzQwMTFiNDQ2NmNhZWMzYmRjM2YxKTsKICAgICAgICAKCiAgICAgICAgbWFya2VyX2JlYWQzZmQ0ZjI0MDQ5OTViOTk3MWM4Yzk0OTQxMjAwLmJpbmRQb3B1cChwb3B1cF8wMDkxYzI4OWExNmE0ZmQ3YjBkYmJjY2Y1YWM4Y2E2NykKICAgICAgICA7CgogICAgICAgIAogICAgCiAgICAKICAgICAgICAgICAgdmFyIG1hcmtlcl9mYTE3NzI4MmY1MWQ0NGI0YmJlM2FkZjMyMDUxMDRhZSA9IEwubWFya2VyKAogICAgICAgICAgICAgICAgWzMzLjUxNjExMDYyMTY3MjEsIDEyNi41MTE5NTcxMDkwNzRdLAogICAgICAgICAgICAgICAge30KICAgICAgICAgICAgKS5hZGRUbyhtYXJrZXJfY2x1c3Rlcl85ZTE4YTg1M2MwMTU0ODU4OTA3MTFmNjAwY2JjZWY3OSk7CiAgICAgICAgCiAgICAKICAgICAgICB2YXIgcG9wdXBfNzlhYTM1ZDA3MTE4NDE0N2JkMDVjMzM5ZWUyYWU1ZWUgPSBMLnBvcHVwKHsibWF4V2lkdGgiOiAiMTAwJSJ9KTsKCiAgICAgICAgCiAgICAgICAgICAgIHZhciBodG1sXzkxZDAzOWJjZTViNzQ2YmZhOTRmZDk5NzI1N2I5N2FjID0gJChgPGRpdiBpZD0iaHRtbF85MWQwMzliY2U1Yjc0NmJmYTk0ZmQ5OTcyNTdiOTdhYyIgc3R5bGU9IndpZHRoOiAxMDAuMCU7IGhlaWdodDogMTAwLjAlOyI+7Jqp65GQ7JWUPC9kaXY+YClbMF07CiAgICAgICAgICAgIHBvcHVwXzc5YWEzNWQwNzExODQxNDdiZDA1YzMzOWVlMmFlNWVlLnNldENvbnRlbnQoaHRtbF85MWQwMzliY2U1Yjc0NmJmYTk0ZmQ5OTcyNTdiOTdhYyk7CiAgICAgICAgCgogICAgICAgIG1hcmtlcl9mYTE3NzI4MmY1MWQ0NGI0YmJlM2FkZjMyMDUxMDRhZS5iaW5kUG9wdXAocG9wdXBfNzlhYTM1ZDA3MTE4NDE0N2JkMDVjMzM5ZWUyYWU1ZWUpCiAgICAgICAgOwoKICAgICAgICAKICAgIAogICAgCiAgICAgICAgICAgIHZhciBtYXJrZXJfMzg2YTkwMTVjMjM4NDdjNThmNTRhNDhlM2MzZjc1MGMgPSBMLm1hcmtlcigKICAgICAgICAgICAgICAgIFszMy41NTQ4NTUzNTI1MjYyLCAxMjYuNzk2Nzg2NjI4MTMxXSwKICAgICAgICAgICAgICAgIHt9CiAgICAgICAgICAgICkuYWRkVG8obWFya2VyX2NsdXN0ZXJfOWUxOGE4NTNjMDE1NDg1ODkwNzExZjYwMGNiY2VmNzkpOwogICAgICAgIAogICAgCiAgICAgICAgdmFyIHBvcHVwXzRhMzM4OTNmY2EyYTQwNDM5YTIyODZjZTQyM2VkODAwID0gTC5wb3B1cCh7Im1heFdpZHRoIjogIjEwMCUifSk7CgogICAgICAgIAogICAgICAgICAgICB2YXIgaHRtbF9kZDZjOGFmMjUxYTY0ZDI2ODNkYmU1ZTA4NzU5MTU5OCA9ICQoYDxkaXYgaWQ9Imh0bWxfZGQ2YzhhZjI1MWE2NGQyNjgzZGJlNWUwODc1OTE1OTgiIHN0eWxlPSJ3aWR0aDogMTAwLjAlOyBoZWlnaHQ6IDEwMC4wJTsiPuyblOygleumrOqwiOu5hOuwpTwvZGl2PmApWzBdOwogICAgICAgICAgICBwb3B1cF80YTMzODkzZmNhMmE0MDQzOWEyMjg2Y2U0MjNlZDgwMC5zZXRDb250ZW50KGh0bWxfZGQ2YzhhZjI1MWE2NGQyNjgzZGJlNWUwODc1OTE1OTgpOwogICAgICAgIAoKICAgICAgICBtYXJrZXJfMzg2YTkwMTVjMjM4NDdjNThmNTRhNDhlM2MzZjc1MGMuYmluZFBvcHVwKHBvcHVwXzRhMzM4OTNmY2EyYTQwNDM5YTIyODZjZTQyM2VkODAwKQogICAgICAgIDsKCiAgICAgICAgCiAgICAKICAgIAogICAgICAgICAgICB2YXIgbWFya2VyX2FmNjM5MjgyMTQ5ODRiNTBhZTQ2YWYxZGIzMzdhNzc1ID0gTC5tYXJrZXIoCiAgICAgICAgICAgICAgICBbMzMuMjc3MTcyMzk3ODg3NywgMTI2LjI3OTQwMTU3NDI3NV0sCiAgICAgICAgICAgICAgICB7fQogICAgICAgICAgICApLmFkZFRvKG1hcmtlcl9jbHVzdGVyXzllMThhODUzYzAxNTQ4NTg5MDcxMWY2MDBjYmNlZjc5KTsKICAgICAgICAKICAgIAogICAgICAgIHZhciBwb3B1cF80ODc4NjBiMjI5MzU0YTU2YTdlYTdjYmIyZTZlMTZlYiA9IEwucG9wdXAoeyJtYXhXaWR0aCI6ICIxMDAlIn0pOwoKICAgICAgICAKICAgICAgICAgICAgdmFyIGh0bWxfZDU4MTliZTgxOGRhNDg2OWJkODE1NzFiZjc3ZGY4M2UgPSAkKGA8ZGl2IGlkPSJodG1sX2Q1ODE5YmU4MThkYTQ4NjliZDgxNTcxYmY3N2RmODNlIiBzdHlsZT0id2lkdGg6IDEwMC4wJTsgaGVpZ2h0OiAxMDAuMCU7Ij7sm5TsoJXrpqzqsIjruYTrsKUg7ISc6reA7Y+s7KCQPC9kaXY+YClbMF07CiAgICAgICAgICAgIHBvcHVwXzQ4Nzg2MGIyMjkzNTRhNTZhN2VhN2NiYjJlNmUxNmViLnNldENvbnRlbnQoaHRtbF9kNTgxOWJlODE4ZGE0ODY5YmQ4MTU3MWJmNzdkZjgzZSk7CiAgICAgICAgCgogICAgICAgIG1hcmtlcl9hZjYzOTI4MjE0OTg0YjUwYWU0NmFmMWRiMzM3YTc3NS5iaW5kUG9wdXAocG9wdXBfNDg3ODYwYjIyOTM1NGE1NmE3ZWE3Y2JiMmU2ZTE2ZWIpCiAgICAgICAgOwoKICAgICAgICAKICAgIAogICAgCiAgICAgICAgICAgIHZhciBtYXJrZXJfOTJjNzcxNTE3MzVkNGMyNzhmNGJlNDM5ZmJjYTM5YzggPSBMLm1hcmtlcigKICAgICAgICAgICAgICAgIFszMy4zMDUwODI1NzAwOTEwMiwgMTI2LjE2NjY1MzIxODMxMzhdLAogICAgICAgICAgICAgICAge30KICAgICAgICAgICAgKS5hZGRUbyhtYXJrZXJfY2x1c3Rlcl85ZTE4YTg1M2MwMTU0ODU4OTA3MTFmNjAwY2JjZWY3OSk7CiAgICAgICAgCiAgICAKICAgICAgICB2YXIgcG9wdXBfM2M3ZGVhODA4ZjQ2NDA1ZmJkMjdhMDM4MWY2ZmM0OGIgPSBMLnBvcHVwKHsibWF4V2lkdGgiOiAiMTAwJSJ9KTsKCiAgICAgICAgCiAgICAgICAgICAgIHZhciBodG1sXzcxOGIwYTgwNDE1MDQ4ZTFiMmFiZTQ4YzE0NThlOGFiID0gJChgPGRpdiBpZD0iaHRtbF83MThiMGE4MDQxNTA0OGUxYjJhYmU0OGMxNDU4ZThhYiIgc3R5bGU9IndpZHRoOiAxMDAuMCU7IGhlaWdodDogMTAwLjAlOyI+7KCc7KO86rOg7IKw66as7Jyg7KCBPC9kaXY+YClbMF07CiAgICAgICAgICAgIHBvcHVwXzNjN2RlYTgwOGY0NjQwNWZiZDI3YTAzODFmNmZjNDhiLnNldENvbnRlbnQoaHRtbF83MThiMGE4MDQxNTA0OGUxYjJhYmU0OGMxNDU4ZThhYik7CiAgICAgICAgCgogICAgICAgIG1hcmtlcl85MmM3NzE1MTczNWQ0YzI3OGY0YmU0MzlmYmNhMzljOC5iaW5kUG9wdXAocG9wdXBfM2M3ZGVhODA4ZjQ2NDA1ZmJkMjdhMDM4MWY2ZmM0OGIpCiAgICAgICAgOwoKICAgICAgICAKICAgIAogICAgCiAgICAgICAgICAgIHZhciBtYXJrZXJfYmZkNGRkMmI0OTE3NDRmZGI5Mzg5YzMzNGQzMjZhNTAgPSBMLm1hcmtlcigKICAgICAgICAgICAgICAgIFszMy4zNzk3NzY5MjI3MTYxLCAxMjYuNTQ1ODc1NzEwMjgzXSwKICAgICAgICAgICAgICAgIHt9CiAgICAgICAgICAgICkuYWRkVG8obWFya2VyX2NsdXN0ZXJfOWUxOGE4NTNjMDE1NDg1ODkwNzExZjYwMGNiY2VmNzkpOwogICAgICAgIAogICAgCiAgICAgICAgdmFyIHBvcHVwXzAxZjA4MWMzNjVmZTQ3NDZhN2E4MTBkN2E2MDBhYzgxID0gTC5wb3B1cCh7Im1heFdpZHRoIjogIjEwMCUifSk7CgogICAgICAgIAogICAgICAgICAgICB2YXIgaHRtbF9mMjM1MGExZGMyMjE0MWM4OTA2MzkxOWNhZDdlZjllOSA9ICQoYDxkaXYgaWQ9Imh0bWxfZjIzNTBhMWRjMjIxNDFjODkwNjM5MTljYWQ3ZWY5ZTkiIHN0eWxlPSJ3aWR0aDogMTAwLjAlOyBoZWlnaHQ6IDEwMC4wJTsiPuygnOyjvOuPhDwvZGl2PmApWzBdOwogICAgICAgICAgICBwb3B1cF8wMWYwODFjMzY1ZmU0NzQ2YTdhODEwZDdhNjAwYWM4MS5zZXRDb250ZW50KGh0bWxfZjIzNTBhMWRjMjIxNDFjODkwNjM5MTljYWQ3ZWY5ZTkpOwogICAgICAgIAoKICAgICAgICBtYXJrZXJfYmZkNGRkMmI0OTE3NDRmZGI5Mzg5YzMzNGQzMjZhNTAuYmluZFBvcHVwKHBvcHVwXzAxZjA4MWMzNjVmZTQ3NDZhN2E4MTBkN2E2MDBhYzgxKQogICAgICAgIDsKCiAgICAgICAgCiAgICAKICAgIAogICAgICAgICAgICB2YXIgbWFya2VyXzk5ZjM1NTFmNDBlMjRjMmI4NGIxYTVlNGM5Njk0MmVhID0gTC5tYXJrZXIoCiAgICAgICAgICAgICAgICBbMzMuNDYyMjMwMTA1Mjc1OCwgMTI2LjUzNDExMjg0MDMzMV0sCiAgICAgICAgICAgICAgICB7fQogICAgICAgICAgICApLmFkZFRvKG1hcmtlcl9jbHVzdGVyXzllMThhODUzYzAxNTQ4NTg5MDcxMWY2MDBjYmNlZjc5KTsKICAgICAgICAKICAgIAogICAgICAgIHZhciBwb3B1cF83ZTE2MDBhOWE3Nzc0MmNkYjU0MGQ1OWZlYzY1NTk0ZiA9IEwucG9wdXAoeyJtYXhXaWR0aCI6ICIxMDAlIn0pOwoKICAgICAgICAKICAgICAgICAgICAgdmFyIGh0bWxfNmE1MmY5NzRjMjg4NDNmYTlmMTM3OTVhMGM1ZDBkOWUgPSAkKGA8ZGl2IGlkPSJodG1sXzZhNTJmOTc0YzI4ODQzZmE5ZjEzNzk1YTBjNWQwZDllIiBzdHlsZT0id2lkdGg6IDEwMC4wJTsgaGVpZ2h0OiAxMDAuMCU7Ij7so73shLHqs6DsnYQ8L2Rpdj5gKVswXTsKICAgICAgICAgICAgcG9wdXBfN2UxNjAwYTlhNzc3NDJjZGI1NDBkNTlmZWM2NTU5NGYuc2V0Q29udGVudChodG1sXzZhNTJmOTc0YzI4ODQzZmE5ZjEzNzk1YTBjNWQwZDllKTsKICAgICAgICAKCiAgICAgICAgbWFya2VyXzk5ZjM1NTFmNDBlMjRjMmI4NGIxYTVlNGM5Njk0MmVhLmJpbmRQb3B1cChwb3B1cF83ZTE2MDBhOWE3Nzc0MmNkYjU0MGQ1OWZlYzY1NTk0ZikKICAgICAgICA7CgogICAgICAgIAogICAgCiAgICAKICAgICAgICAgICAgdmFyIG1hcmtlcl9lZDE2NTQ0YzYxYjc0ZjJmYTQ3MDJmNjFhMGZiZGRkMCA9IEwubWFya2VyKAogICAgICAgICAgICAgICAgWzM3LjE4MzczNDYxMzU4OTk2LCAxMjcuMDQxMTYzNTMzNzg0NF0sCiAgICAgICAgICAgICAgICB7fQogICAgICAgICAgICApLmFkZFRvKG1hcmtlcl9jbHVzdGVyXzllMThhODUzYzAxNTQ4NTg5MDcxMWY2MDBjYmNlZjc5KTsKICAgICAgICAKICAgIAogICAgICAgIHZhciBwb3B1cF8zMTlkY2E4MWI4OWE0MDY4OGMwY2IwYzlmZGMyOGQ2MyA9IEwucG9wdXAoeyJtYXhXaWR0aCI6ICIxMDAlIn0pOwoKICAgICAgICAKICAgICAgICAgICAgdmFyIGh0bWxfMGEyNDUzZDdjZWU2NDJjYjljYzUyMjhiM2Y1MGFkMDAgPSAkKGA8ZGl2IGlkPSJodG1sXzBhMjQ1M2Q3Y2VlNjQyY2I5Y2M1MjI4YjNmNTBhZDAwIiBzdHlsZT0id2lkdGg6IDEwMC4wJTsgaGVpZ2h0OiAxMDAuMCU7Ij7sp5E8L2Rpdj5gKVswXTsKICAgICAgICAgICAgcG9wdXBfMzE5ZGNhODFiODlhNDA2ODhjMGNiMGM5ZmRjMjhkNjMuc2V0Q29udGVudChodG1sXzBhMjQ1M2Q3Y2VlNjQyY2I5Y2M1MjI4YjNmNTBhZDAwKTsKICAgICAgICAKCiAgICAgICAgbWFya2VyX2VkMTY1NDRjNjFiNzRmMmZhNDcwMmY2MWEwZmJkZGQwLmJpbmRQb3B1cChwb3B1cF8zMTlkY2E4MWI4OWE0MDY4OGMwY2IwYzlmZGMyOGQ2MykKICAgICAgICA7CgogICAgICAgIAogICAgCiAgICAKICAgICAgICAgICAgdmFyIG1hcmtlcl81MWJjZjlmNDAxYjU0ZjVjOWVlY2M2NTRhMjI4MTUyZCA9IEwubWFya2VyKAogICAgICAgICAgICAgICAgWzMzLjQyMTQ4MDU4Mzg0MywgMTI2Ljc4MjY2MDIwNzIxNF0sCiAgICAgICAgICAgICAgICB7fQogICAgICAgICAgICApLmFkZFRvKG1hcmtlcl9jbHVzdGVyXzllMThhODUzYzAxNTQ4NTg5MDcxMWY2MDBjYmNlZjc5KTsKICAgICAgICAKICAgIAogICAgICAgIHZhciBwb3B1cF9lZDk1YjYwMGYxMTM0ZGEyOTRiZTA0ZTkzNDQyYzZhMyA9IEwucG9wdXAoeyJtYXhXaWR0aCI6ICIxMDAlIn0pOwoKICAgICAgICAKICAgICAgICAgICAgdmFyIGh0bWxfOThhNWE3MjMyNDY3NGM1ZWExMjY4OWM1ZDIwODAzZjQgPSAkKGA8ZGl2IGlkPSJodG1sXzk4YTVhNzIzMjQ2NzRjNWVhMTI2ODljNWQyMDgwM2Y0IiBzdHlsZT0id2lkdGg6IDEwMC4wJTsgaGVpZ2h0OiAxMDAuMCU7Ij7ssq3stIjrsK3smIHrho3sobDtlanrspXsnbg8L2Rpdj5gKVswXTsKICAgICAgICAgICAgcG9wdXBfZWQ5NWI2MDBmMTEzNGRhMjk0YmUwNGU5MzQ0MmM2YTMuc2V0Q29udGVudChodG1sXzk4YTVhNzIzMjQ2NzRjNWVhMTI2ODljNWQyMDgwM2Y0KTsKICAgICAgICAKCiAgICAgICAgbWFya2VyXzUxYmNmOWY0MDFiNTRmNWM5ZWVjYzY1NGEyMjgxNTJkLmJpbmRQb3B1cChwb3B1cF9lZDk1YjYwMGYxMTM0ZGEyOTRiZTA0ZTkzNDQyYzZhMykKICAgICAgICA7CgogICAgICAgIAogICAgCiAgICAKICAgICAgICAgICAgdmFyIG1hcmtlcl84NzgxMDQ2NTU1NGE0ZjY1YTU4NDcwZWI5ODBmM2JhYSA9IEwubWFya2VyKAogICAgICAgICAgICAgICAgWzMzLjQ2NDQwMjk2MzMwOTYsIDEyNi40ODUzMjg1NDk4NjVdLAogICAgICAgICAgICAgICAge30KICAgICAgICAgICAgKS5hZGRUbyhtYXJrZXJfY2x1c3Rlcl85ZTE4YTg1M2MwMTU0ODU4OTA3MTFmNjAwY2JjZWY3OSk7CiAgICAgICAgCiAgICAKICAgICAgICB2YXIgcG9wdXBfOTFjNDI3MGQ2YjMxNDg1ZDkxNDYxNDY2ZGMxZGRmYTMgPSBMLnBvcHVwKHsibWF4V2lkdGgiOiAiMTAwJSJ9KTsKCiAgICAgICAgCiAgICAgICAgICAgIHZhciBodG1sXzIwODFjNWUzYTgyNjQyNWY5YWVkYzVlMjM3ODk0Zjc3ID0gJChgPGRpdiBpZD0iaHRtbF8yMDgxYzVlM2E4MjY0MjVmOWFlZGM1ZTIzNzg5NGY3NyIgc3R5bGU9IndpZHRoOiAxMDAuMCU7IGhlaWdodDogMTAwLjAlOyI+7LaY7Ius7J2064SkIDLtmLjsoJA8L2Rpdj5gKVswXTsKICAgICAgICAgICAgcG9wdXBfOTFjNDI3MGQ2YjMxNDg1ZDkxNDYxNDY2ZGMxZGRmYTMuc2V0Q29udGVudChodG1sXzIwODFjNWUzYTgyNjQyNWY5YWVkYzVlMjM3ODk0Zjc3KTsKICAgICAgICAKCiAgICAgICAgbWFya2VyXzg3ODEwNDY1NTU0YTRmNjVhNTg0NzBlYjk4MGYzYmFhLmJpbmRQb3B1cChwb3B1cF85MWM0MjcwZDZiMzE0ODVkOTE0NjE0NjZkYzFkZGZhMykKICAgICAgICA7CgogICAgICAgIAogICAgCiAgICAKICAgICAgICAgICAgdmFyIG1hcmtlcl8wOGNkNDdhMzI3ZjA0ODMzODhkZmExMzM0ZmMwNDkxNCA9IEwubWFya2VyKAogICAgICAgICAgICAgICAgWzMzLjUyNDc4MjUwNjcxODM2LCAxMjYuODYzMDI1NDUzMDIzXSwKICAgICAgICAgICAgICAgIHt9CiAgICAgICAgICAgICkuYWRkVG8obWFya2VyX2NsdXN0ZXJfOWUxOGE4NTNjMDE1NDg1ODkwNzExZjYwMGNiY2VmNzkpOwogICAgICAgIAogICAgCiAgICAgICAgdmFyIHBvcHVwXzY2MzJjMmIxZjYyNDRhZjM4OWZjZDY1MWE4NDVjNzg1ID0gTC5wb3B1cCh7Im1heFdpZHRoIjogIjEwMCUifSk7CgogICAgICAgIAogICAgICAgICAgICB2YXIgaHRtbF9lY2NhODI1NGE1OTQ0NWZlOWU4MDVhMTBhOWMzZDI2OCA9ICQoYDxkaXYgaWQ9Imh0bWxfZWNjYTgyNTRhNTk0NDVmZTllODA1YTEwYTljM2QyNjgiIHN0eWxlPSJ3aWR0aDogMTAwLjAlOyBoZWlnaHQ6IDEwMC4wJTsiPuy5tO2OmO2VnOudvOyCsDwvZGl2PmApWzBdOwogICAgICAgICAgICBwb3B1cF82NjMyYzJiMWY2MjQ0YWYzODlmY2Q2NTFhODQ1Yzc4NS5zZXRDb250ZW50KGh0bWxfZWNjYTgyNTRhNTk0NDVmZTllODA1YTEwYTljM2QyNjgpOwogICAgICAgIAoKICAgICAgICBtYXJrZXJfMDhjZDQ3YTMyN2YwNDgzMzg4ZGZhMTMzNGZjMDQ5MTQuYmluZFBvcHVwKHBvcHVwXzY2MzJjMmIxZjYyNDRhZjM4OWZjZDY1MWE4NDVjNzg1KQogICAgICAgIDsKCiAgICAgICAgCiAgICAKICAgIAogICAgICAgICAgICB2YXIgbWFya2VyXzA1MWM2YjNhNjQzOTRhZDg5NjQ3ZTlmNjIzNGZlNDcwID0gTC5tYXJrZXIoCiAgICAgICAgICAgICAgICBbMzMuMjI3MTI0MTc3NDAxNSwgMTI2LjI2MTMwNDcyNDMzOF0sCiAgICAgICAgICAgICAgICB7fQogICAgICAgICAgICApLmFkZFRvKG1hcmtlcl9jbHVzdGVyXzllMThhODUzYzAxNTQ4NTg5MDcxMWY2MDBjYmNlZjc5KTsKICAgICAgICAKICAgIAogICAgICAgIHZhciBwb3B1cF9jYTQ0MzY0MWIxNzY0ZTkxOTcyYWRkMDZiMjg5ZWFkMyA9IEwucG9wdXAoeyJtYXhXaWR0aCI6ICIxMDAlIn0pOwoKICAgICAgICAKICAgICAgICAgICAgdmFyIGh0bWxfMDY5OGJiYTQzMjI0NDg1MDkzNTFhZDU4NGVhNGZiMTIgPSAkKGA8ZGl2IGlkPSJodG1sXzA2OThiYmE0MzIyNDQ4NTA5MzUxYWQ1ODRlYTRmYjEyIiBzdHlsZT0id2lkdGg6IDEwMC4wJTsgaGVpZ2h0OiAxMDAuMCU7Ij7su6TtlLzsuoTrqLg8L2Rpdj5gKVswXTsKICAgICAgICAgICAgcG9wdXBfY2E0NDM2NDFiMTc2NGU5MTk3MmFkZDA2YjI4OWVhZDMuc2V0Q29udGVudChodG1sXzA2OThiYmE0MzIyNDQ4NTA5MzUxYWQ1ODRlYTRmYjEyKTsKICAgICAgICAKCiAgICAgICAgbWFya2VyXzA1MWM2YjNhNjQzOTRhZDg5NjQ3ZTlmNjIzNGZlNDcwLmJpbmRQb3B1cChwb3B1cF9jYTQ0MzY0MWIxNzY0ZTkxOTcyYWRkMDZiMjg5ZWFkMykKICAgICAgICA7CgogICAgICAgIAogICAgCiAgICAKICAgICAgICAgICAgdmFyIG1hcmtlcl9hMTJlZjgwYzJjMGE0YmQzYmMxZTBlMWQ5YTkzZDhhYSA9IEwubWFya2VyKAogICAgICAgICAgICAgICAgWzMzLjQxNTU2NzA4Nzk0NTExLCAxMjYuMjYxNTA2NDQ3MjkxXSwKICAgICAgICAgICAgICAgIHt9CiAgICAgICAgICAgICkuYWRkVG8obWFya2VyX2NsdXN0ZXJfOWUxOGE4NTNjMDE1NDg1ODkwNzExZjYwMGNiY2VmNzkpOwogICAgICAgIAogICAgCiAgICAgICAgdmFyIHBvcHVwX2M5ZjU2OTI2ZTMxYzQyM2M4NDIyMDk0NDE3OGQzNmRjID0gTC5wb3B1cCh7Im1heFdpZHRoIjogIjEwMCUifSk7CgogICAgICAgIAogICAgICAgICAgICB2YXIgaHRtbF83Yjc2ZDI3OWJiM2I0MDQ3OTJjMjQ1Y2I1NGQxNGE1NyA9ICQoYDxkaXYgaWQ9Imh0bWxfN2I3NmQyNzliYjNiNDA0NzkyYzI0NWNiNTRkMTRhNTciIHN0eWxlPSJ3aWR0aDogMTAwLjAlOyBoZWlnaHQ6IDEwMC4wJTsiPu2VnOumvOy5vOq1reyImDwvZGl2PmApWzBdOwogICAgICAgICAgICBwb3B1cF9jOWY1NjkyNmUzMWM0MjNjODQyMjA5NDQxNzhkMzZkYy5zZXRDb250ZW50KGh0bWxfN2I3NmQyNzliYjNiNDA0NzkyYzI0NWNiNTRkMTRhNTcpOwogICAgICAgIAoKICAgICAgICBtYXJrZXJfYTEyZWY4MGMyYzBhNGJkM2JjMWUwZTFkOWE5M2Q4YWEuYmluZFBvcHVwKHBvcHVwX2M5ZjU2OTI2ZTMxYzQyM2M4NDIyMDk0NDE3OGQzNmRjKQogICAgICAgIDsKCiAgICAgICAgCiAgICAKICAgIAogICAgICAgICAgICB2YXIgbGF5ZXJfY29udHJvbF9lOGM4YWFmZjNmZjM0M2M5YTczMzJlOGM0YWM2YzRmNyA9IHsKICAgICAgICAgICAgICAgIGJhc2VfbGF5ZXJzIDogewogICAgICAgICAgICAgICAgICAgICJvcGVuc3RyZWV0bWFwIiA6IHRpbGVfbGF5ZXJfYTFjMWFjYTQ3ZDljNDQ5NTk4ODc5OWM0ZGUyNDdkMDQsCiAgICAgICAgICAgICAgICB9LAogICAgICAgICAgICAgICAgb3ZlcmxheXMgOiAgewogICAgICAgICAgICAgICAgICAgICJKZWp1IiA6IG1hcmtlcl9jbHVzdGVyXzllMThhODUzYzAxNTQ4NTg5MDcxMWY2MDBjYmNlZjc5LAogICAgICAgICAgICAgICAgfSwKICAgICAgICAgICAgfTsKICAgICAgICAgICAgTC5jb250cm9sLmxheWVycygKICAgICAgICAgICAgICAgIGxheWVyX2NvbnRyb2xfZThjOGFhZmYzZmYzNDNjOWE3MzMyZThjNGFjNmM0ZjcuYmFzZV9sYXllcnMsCiAgICAgICAgICAgICAgICBsYXllcl9jb250cm9sX2U4YzhhYWZmM2ZmMzQzYzlhNzMzMmU4YzRhYzZjNGY3Lm92ZXJsYXlzLAogICAgICAgICAgICAgICAgeyJhdXRvWkluZGV4IjogdHJ1ZSwgImNvbGxhcHNlZCI6IHRydWUsICJwb3NpdGlvbiI6ICJ0b3ByaWdodCJ9CiAgICAgICAgICAgICkuYWRkVG8obWFwXzVjMDAyMzhlZjQwMjQ4ZDZiYTI1YTE0YmMzNmZlZTE3KTsKICAgICAgICAKPC9zY3JpcHQ+ onload=\"this.contentDocument.open();this.contentDocument.write(atob(this.getAttribute('data-html')));this.contentDocument.close();\" allowfullscreen webkitallowfullscreen mozallowfullscreen></iframe></div></div>"
      ],
      "text/plain": [
       "<folium.folium.Map at 0x29fc41977f0>"
      ]
     },
     "execution_count": 44,
     "metadata": {},
     "output_type": "execute_result"
    }
   ],
   "source": [
    "from folium.plugins import MarkerCluster\n",
    "\n",
    "locations = []\n",
    "names = []\n",
    "\n",
    "for i in range(len(location_data)):\n",
    "    data = location_data.iloc[i] # 행하나씩\n",
    "    locations.append((float(data['위도']),float(data['경도'])))\n",
    "    names.append(data['name_official'])\n",
    "    \n",
    "icon_create_function = \"\"\"\\\n",
    "function(cluster) {\n",
    "    return L.divIcon({\n",
    "    html: '<b>' + cluster.getChildCount() + '</b>',\n",
    "    className: 'marker-cluster marker-cluster-large',\n",
    "    iconSize : new L.Point(30,30)\n",
    "    });\n",
    "}\"\"\"\n",
    "\n",
    "Mt_Hanla = [33.362500, 126.533694]\n",
    "map_jeju2 = folium.Map(location = Mt_Hanla, zoom_start=11)\n",
    "\n",
    "marker_cluster = MarkerCluster(\n",
    "    locations = locations, popups = names,\n",
    "    name = 'Jeju',\n",
    "    overlay = True,\n",
    "    control = True,\n",
    "    icon_create_function = icon_create_function\n",
    ")\n",
    "\n",
    "marker_cluster.add_to(map_jeju2)\n",
    "folium.LayerControl().add_to(map_jeju2)\n",
    "\n",
    "map_jeju2"
   ]
  },
  {
   "cell_type": "markdown",
   "metadata": {},
   "source": [
    "### 4-37 지도 저장하기"
   ]
  },
  {
   "cell_type": "code",
   "execution_count": 45,
   "metadata": {},
   "outputs": [],
   "source": [
    "map_jeju2.save('./3_23_jeju_cluster.html')"
   ]
  },
  {
   "cell_type": "code",
   "execution_count": null,
   "metadata": {},
   "outputs": [],
   "source": []
  }
 ],
 "metadata": {
  "kernelspec": {
   "display_name": "Python 3",
   "language": "python",
   "name": "python3"
  },
  "language_info": {
   "codemirror_mode": {
    "name": "ipython",
    "version": 3
   },
   "file_extension": ".py",
   "mimetype": "text/x-python",
   "name": "python",
   "nbconvert_exporter": "python",
   "pygments_lexer": "ipython3",
   "version": "3.6.5"
  }
 },
 "nbformat": 4,
 "nbformat_minor": 4
}
