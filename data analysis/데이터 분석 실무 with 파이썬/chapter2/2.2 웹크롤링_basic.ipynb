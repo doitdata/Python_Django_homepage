{
 "cells": [
  {
   "cell_type": "code",
   "execution_count": 1,
   "metadata": {},
   "outputs": [],
   "source": [
    "from selenium import webdriver"
   ]
  },
  {
   "cell_type": "code",
   "execution_count": 2,
   "metadata": {},
   "outputs": [],
   "source": [
    "driver = webdriver.Chrome('./chromedriver.exe')"
   ]
  },
  {
   "cell_type": "code",
   "execution_count": 3,
   "metadata": {},
   "outputs": [],
   "source": [
    "url = 'https://www.naver.com'"
   ]
  },
  {
   "cell_type": "code",
   "execution_count": 4,
   "metadata": {},
   "outputs": [],
   "source": [
    "driver.get(url)"
   ]
  },
  {
   "cell_type": "code",
   "execution_count": 5,
   "metadata": {},
   "outputs": [],
   "source": [
    "html=driver.page_source"
   ]
  },
  {
   "cell_type": "code",
   "execution_count": 8,
   "metadata": {},
   "outputs": [
    {
     "data": {
      "text/plain": [
       "\"\\n<html>\\n    <head>\\n    </head>\\n    <body>\\n        <h1> 우리동네시장</h1>\\n            <div class = 'sale'>\\n                <p id='fruits1' class='fruits'>\\n                    <span class = 'name'> 바나나 </span>\\n                    <span class = 'price'> 3000원 </span>\\n                    <span class = 'inventory'> 500개 </span>\\n                    <span class = 'store'> 가나다상회 </span>\\n                    <a href = 'http://bit.ly/forPlaywithData' > 홈페이지 </a>\\n                </p>\\n            </div>\\n            <div class = 'prepare'>\\n                <p id='fruits2' class='fruits'>\\n                    <span class ='name'> 파인애플 </span>\\n                </p>\\n            </div>\\n    </body>\\n</html>\\n\""
      ]
     },
     "execution_count": 8,
     "metadata": {},
     "output_type": "execute_result"
    }
   ],
   "source": [
    "html"
   ]
  },
  {
   "cell_type": "code",
   "execution_count": 9,
   "metadata": {},
   "outputs": [],
   "source": [
    "html = '''\n",
    "<html>\n",
    "    <head>\n",
    "    </head>\n",
    "    <body>\n",
    "        <h1> 우리동네시장</h1>\n",
    "            <div class = 'sale'>\n",
    "                <p id='fruits1' class='fruits'>\n",
    "                    <span class = 'name'> 바나나 </span>\n",
    "                    <span class = 'price'> 3000원 </span>\n",
    "                    <span class = 'inventory'> 500개 </span>\n",
    "                    <span class = 'store'> 가나다상회 </span>\n",
    "                    <a href = 'http://bit.ly/forPlaywithData' > 홈페이지 </a>\n",
    "                </p>\n",
    "            </div>\n",
    "            <div class = 'prepare'>\n",
    "                <p id='fruits2' class='fruits'>\n",
    "                    <span class ='name'> 파인애플 </span>\n",
    "                </p>\n",
    "            </div>\n",
    "    </body>\n",
    "</html>\n",
    "'''\n"
   ]
  },
  {
   "cell_type": "code",
   "execution_count": 11,
   "metadata": {},
   "outputs": [],
   "source": [
    "from bs4 import BeautifulSoup\n",
    "\n",
    "soup = BeautifulSoup(html, 'html.parser')"
   ]
  },
  {
   "cell_type": "code",
   "execution_count": 13,
   "metadata": {},
   "outputs": [],
   "source": [
    "tags_span = soup.select('span')\n",
    "tags_p = soup.select('p')"
   ]
  },
  {
   "cell_type": "code",
   "execution_count": 14,
   "metadata": {},
   "outputs": [
    {
     "name": "stdout",
     "output_type": "stream",
     "text": [
      "[<span class=\"name\"> 바나나 </span>, <span class=\"price\"> 3000원 </span>, <span class=\"inventory\"> 500개 </span>, <span class=\"store\"> 가나다상회 </span>, <span class=\"name\"> 파인애플 </span>]\n"
     ]
    }
   ],
   "source": [
    "print(tags_span)"
   ]
  },
  {
   "cell_type": "code",
   "execution_count": 15,
   "metadata": {},
   "outputs": [
    {
     "name": "stdout",
     "output_type": "stream",
     "text": [
      "[<p class=\"fruits\" id=\"fruits1\">\n",
      "<span class=\"name\"> 바나나 </span>\n",
      "<span class=\"price\"> 3000원 </span>\n",
      "<span class=\"inventory\"> 500개 </span>\n",
      "<span class=\"store\"> 가나다상회 </span>\n",
      "<a href=\"http://bit.ly/forPlaywithData\"> 홈페이지 </a>\n",
      "</p>, <p class=\"fruits\" id=\"fruits2\">\n",
      "<span class=\"name\"> 파인애플 </span>\n",
      "</p>]\n"
     ]
    }
   ],
   "source": [
    "print(tags_p)"
   ]
  },
  {
   "cell_type": "code",
   "execution_count": 17,
   "metadata": {},
   "outputs": [
    {
     "name": "stdout",
     "output_type": "stream",
     "text": [
      "[<p class=\"fruits\" id=\"fruits1\">\n",
      "<span class=\"name\"> 바나나 </span>\n",
      "<span class=\"price\"> 3000원 </span>\n",
      "<span class=\"inventory\"> 500개 </span>\n",
      "<span class=\"store\"> 가나다상회 </span>\n",
      "<a href=\"http://bit.ly/forPlaywithData\"> 홈페이지 </a>\n",
      "</p>]\n"
     ]
    }
   ],
   "source": [
    "ids_fruits1 = soup.select('#fruits1')\n",
    "print(ids_fruits1)"
   ]
  },
  {
   "cell_type": "code",
   "execution_count": 18,
   "metadata": {},
   "outputs": [
    {
     "name": "stdout",
     "output_type": "stream",
     "text": [
      "[<span class=\"price\"> 3000원 </span>]\n"
     ]
    }
   ],
   "source": [
    "class_price  = soup.select('.price')\n",
    "print(class_price)"
   ]
  },
  {
   "cell_type": "code",
   "execution_count": 20,
   "metadata": {},
   "outputs": [
    {
     "name": "stdout",
     "output_type": "stream",
     "text": [
      "[<span class=\"name\"> 바나나 </span>, <span class=\"price\"> 3000원 </span>, <span class=\"inventory\"> 500개 </span>, <span class=\"store\"> 가나다상회 </span>, <span class=\"name\"> 파인애플 </span>]\n"
     ]
    }
   ],
   "source": [
    "tags_span_class_price = soup.select('span.price')\n",
    "print(tags_span)"
   ]
  },
  {
   "cell_type": "code",
   "execution_count": 21,
   "metadata": {},
   "outputs": [
    {
     "name": "stdout",
     "output_type": "stream",
     "text": [
      "[<span class=\"name\"> 바나나 </span>, <span class=\"name\"> 파인애플 </span>]\n"
     ]
    }
   ],
   "source": [
    "tags_name = soup.select('span.name')\n",
    "print(tags_name)"
   ]
  },
  {
   "cell_type": "code",
   "execution_count": 22,
   "metadata": {},
   "outputs": [
    {
     "name": "stdout",
     "output_type": "stream",
     "text": [
      "[<span class=\"name\"> 바나나 </span>]\n"
     ]
    }
   ],
   "source": [
    "tags_banana1 = soup.select('#fruits1 > span.name')\n",
    "print(tags_banana1)"
   ]
  },
  {
   "cell_type": "code",
   "execution_count": 23,
   "metadata": {},
   "outputs": [
    {
     "name": "stdout",
     "output_type": "stream",
     "text": [
      "[<span class=\"name\"> 바나나 </span>]\n",
      "[<span class=\"name\"> 바나나 </span>]\n"
     ]
    }
   ],
   "source": [
    "tags_banana2 = soup.select('div.sale > #fruits1 > span.name')\n",
    "tags_banana3 = soup.select('div.sale span.name')\n",
    "print(tags_banana2)\n",
    "print(tags_banana3)"
   ]
  },
  {
   "cell_type": "code",
   "execution_count": 35,
   "metadata": {},
   "outputs": [
    {
     "name": "stdout",
     "output_type": "stream",
     "text": [
      "<span class=\"name\"> 바나나 </span>\n"
     ]
    }
   ],
   "source": [
    "tags = soup.select('span.name')\n",
    "tag_1 = tags[0]\n",
    "print(tag_1)"
   ]
  },
  {
   "cell_type": "code",
   "execution_count": 36,
   "metadata": {},
   "outputs": [
    {
     "name": "stdout",
     "output_type": "stream",
     "text": [
      "<span class=\"name\"> 바나나 </span>\n",
      "<span class=\"name\"> 파인애플 </span>\n"
     ]
    }
   ],
   "source": [
    "tags = soup.select('span.name')\n",
    "for tag in tags:\n",
    "    print(tag)"
   ]
  },
  {
   "cell_type": "code",
   "execution_count": 37,
   "metadata": {},
   "outputs": [
    {
     "name": "stdout",
     "output_type": "stream",
     "text": [
      " 파인애플 \n"
     ]
    }
   ],
   "source": [
    "content = tag.text\n",
    "print(content)"
   ]
  },
  {
   "cell_type": "code",
   "execution_count": 41,
   "metadata": {},
   "outputs": [
    {
     "name": "stdout",
     "output_type": "stream",
     "text": [
      " 홈페이지 \n",
      "http://bit.ly/forPlaywithData\n"
     ]
    }
   ],
   "source": [
    "tags = soup.select('a')\n",
    "tag = tags[0]\n",
    "content = tag.text\n",
    "print(content)\n",
    "link = tag['href']\n",
    "print(link)"
   ]
  },
  {
   "cell_type": "markdown",
   "metadata": {},
   "source": [
    "# 멜론 노래 순위 정보 크롤링\n",
    "## 셀레니움 + BeautifulSoup"
   ]
  },
  {
   "cell_type": "code",
   "execution_count": 86,
   "metadata": {
    "collapsed": true
   },
   "outputs": [
    {
     "name": "stdout",
     "output_type": "stream",
     "text": [
      "롤린 (Rollin') | 브레이브걸스\n",
      "Peaches (Feat. Daniel Caesar & Giveon) | Justin Bieber\n",
      "라일락 | 아이유\n",
      "운전만해 (We Ride) | 브레이브걸스\n",
      "Celebrity | 아이유\n",
      "Timeless | SG 워너비\n",
      "라라라 | SG 워너비\n",
      "내사람 | SG 워너비\n",
      "내 손을 잡아 | 아이유\n",
      "Dynamite | 방탄소년단\n",
      "Coin | 아이유\n",
      "LOVE DAY (2021) (바른연애 길잡이 X 양요섭, 정은지) | 양요섭\n",
      "밝게 빛나는 별이 되어 비춰줄게 | 송이한\n",
      "On The Ground | 로제 (ROSÉ)\n",
      "마.피.아. In the morning | ITZY (있지)\n",
      "밤하늘의 별을(2020) | 경서\n",
      "멜로디 | ASH ISLAND\n",
      "잠이 오질 않네요 | 장범준\n",
      "그냥 안아달란 말야 | 다비치\n",
      "사이렌 Remix (Feat. UNEDUCATED KID, Paul Blanco) | 호미들\n",
      "살다가 | SG 워너비\n",
      "취기를 빌려 (취향저격 그녀 X 산들) | 산들\n",
      "Blueming | 아이유\n",
      "에잇(Prod.&Feat. SUGA of BTS) | 아이유\n",
      "어푸 (Ah puh) | 아이유\n",
      "Lovesick Girls | BLACKPINK\n",
      "VVS (Feat. JUSTHIS) (Prod. GroovyRoom) | 미란이 (Mirani)\n",
      "나랑 같이 걸을래 (바른연애 길잡이 X 적재) | 적재\n",
      "12:45 (Stripped) | Etham\n",
      "흔들리는 꽃들 속에서 네 샴푸향이 느껴진거야 | 장범준\n",
      "그날에 나는 맘이 편했을까 | 이예준\n",
      "이 밤을 빌려 말해요 (바른연애 길잡이 X 10CM) | 10CM\n",
      "어떻게 이별까지 사랑하겠어, 널 사랑하는 거지 | AKMU (악동뮤지션)\n",
      "ASAP | STAYC(스테이씨)\n",
      "추억은 만남보다 이별에 남아 | 정동하\n",
      "오래된 노래 | 스탠딩 에그\n",
      "Savage Love (Laxed - Siren Beat) (BTS Remix) | Jawsh 685\n",
      "Dolphin | 오마이걸 (OH MY GIRL)\n",
      "METEOR | 창모 (CHANGMO)\n",
      "모든 날, 모든 순간 (Every day, Every Moment) | 폴킴\n",
      "2002 | Anne-Marie\n",
      "너의 발걸음에 빛을 비춰줄게 (Prod. 조영수) | 케이시 (Kassy)\n",
      "봄 안녕 봄 | 아이유\n",
      "힘든 건 사랑이 아니다 | 임창정\n",
      "아이와 나의 바다 | 아이유\n",
      "아로하 | 조정석\n",
      "너의 번호를 누르고 (Prod. 영화처럼) | #안녕\n",
      "사실 나는 (Feat.전건호) | 경서예지\n",
      "어떻게 지내 (Prod. By VAN.C) | 오반 (OVAN)\n",
      "맛 (Hot Sauce) | NCT DREAM\n",
      "Life Goes On | 방탄소년단\n",
      "오늘도 빛나는 너에게 (To You My Light) (Feat.이라온) | 마크툽 (MAKTUB)\n",
      "작은 것들을 위한 시 (Boy With Luv) (Feat. Halsey) | 방탄소년단\n",
      "봄날 | 방탄소년단\n",
      "늦은 밤 너의 집 앞 골목길에서 | 노을\n",
      "기다릴게 | 하동균\n",
      "How You Like That | BLACKPINK\n",
      "Memories | Maroon 5\n",
      "Flu | 아이유\n",
      "살짝 설렜어 (Nonstop) | 오마이걸 (OH MY GIRL)\n",
      "이렇게 좋아해 본 적이 없어요 | CHEEZE (치즈)\n",
      "상상더하기 | 라붐 (LABOUM)\n",
      "닫힌엔딩 (Closed Ending) | 숀 (SHAUN)\n",
      "마음을 드려요 | 아이유\n",
      "고백 (바른연애 길잡이 X 허각) | 허각\n",
      "이제 나만 믿어요 | 임영웅\n",
      "내 마음이 움찔했던 순간 (취향저격 그녀 X 규현) | 규현 (KYUHYUN)\n",
      "Dun Dun Dance | 오마이걸 (OH MY GIRL)\n",
      "함께 했는데 이별은 나 혼자인 거야 | 소정 (레이디스 코드)\n",
      "Dance Monkey | Tones And I\n",
      "죄와벌 | SG 워너비\n",
      "불어온다 | 하이라이트 (Highlight)\n",
      "Love poem | 아이유\n",
      "너를 만나 | 폴킴\n",
      "돌림노래 (Feat. DEAN) | 아이유\n",
      "When We Disco (Duet with 선미) | 박진영\n",
      "Paris In The Rain | Lauv\n",
      "우리 왜 헤어져야 해 | 신예영\n",
      "Off My Face | Justin Bieber\n",
      "우린 어쩌다 헤어진 걸까 | 허각\n",
      "혼술하고 싶은 밤 | 벤\n",
      "시작 | 가호 (Gaho)\n",
      "아리랑 | SG 워너비\n",
      "내일이 오면 (Feat. 기리보이, BIG Naughty (서동현)) | 릴보이 (lIlBOI)\n",
      "되풀이 | 임창정\n",
      "Gone | 로제 (ROSÉ)\n",
      "거짓말이라도 해서 널 보고싶어 | 백지영\n",
      "응급실 (2021) | 황인욱\n",
      "서면역에서 | 순순희\n",
      "Don't Start Now | Dua Lipa\n",
      "안녕 | 폴킴\n",
      "Downtown Baby | 블루 (BLOO)\n",
      "에필로그 | 아이유\n",
      "Maniac | Conan Gray\n",
      "술 한잔 해요 | 경서 (경서예지)\n",
      "고래 (Dive Into You) | NCT DREAM\n",
      "사랑은 지날수록 더욱 선명하게 남아 | 전상근\n",
      "안녕이란 (Two Letters) | 황치열\n",
      "딩가딩가 (Dingga) | 마마무 (Mamamoo)\n",
      "다시 만날까 봐 (Prod.V.O.S) | 이예준\n"
     ]
    }
   ],
   "source": [
    "from selenium import webdriver\n",
    "from bs4 import BeautifulSoup\n",
    "\n",
    "driver = webdriver.Chrome('./chromedriver.exe')\n",
    "url = 'http://www.melon.com/chart/index.htm'\n",
    "driver.get(url)\n",
    "\n",
    "html = driver.page_source\n",
    "soup = BeautifulSoup(html, 'html.parser')\n",
    "\n",
    "songs = soup.select('tbody > tr')\n",
    "\n",
    "for song in songs:\n",
    "    title = song.select('div.ellipsis.rank01 > span > a')[0].text\n",
    "    singer = song.select('div.ellipsis.rank02 > a')[0].text\n",
    "    print(title, singer , sep = ' | ')"
   ]
  },
  {
   "cell_type": "markdown",
   "metadata": {},
   "source": [
    "## 셀레니움"
   ]
  },
  {
   "cell_type": "code",
   "execution_count": 85,
   "metadata": {
    "collapsed": true
   },
   "outputs": [
    {
     "name": "stdout",
     "output_type": "stream",
     "text": [
      "롤린 (Rollin') | 브레이브걸스\n",
      "Peaches (Feat. Daniel Caesar & Giveon) | Justin Bieber\n",
      "라일락 | 아이유\n",
      "운전만해 (We Ride) | 브레이브걸스\n",
      "Celebrity | 아이유\n",
      "Timeless | SG 워너비\n",
      "라라라 | SG 워너비\n",
      "내사람 | SG 워너비\n",
      "내 손을 잡아 | 아이유\n",
      "Dynamite | 방탄소년단\n",
      "Coin | 아이유\n",
      "LOVE DAY (2021) (바른연애 길잡이 X 양요섭, 정은지) | 양요섭\n",
      "밝게 빛나는 별이 되어 비춰줄게 | 송이한\n",
      "On The Ground | 로제 (ROSÉ)\n",
      "마.피.아. In the morning | ITZY (있지)\n",
      "밤하늘의 별을(2020) | 경서\n",
      "멜로디 | ASH ISLAND\n",
      "잠이 오질 않네요 | 장범준\n",
      "그냥 안아달란 말야 | 다비치\n",
      "사이렌 Remix (Feat. UNEDUCATED KID, Paul Blanco) | 호미들\n",
      "살다가 | SG 워너비\n",
      "취기를 빌려 (취향저격 그녀 X 산들) | 산들\n",
      "Blueming | 아이유\n",
      "에잇(Prod.&Feat. SUGA of BTS) | 아이유\n",
      "어푸 (Ah puh) | 아이유\n",
      "Lovesick Girls | BLACKPINK\n",
      "VVS (Feat. JUSTHIS) (Prod. GroovyRoom) | 미란이 (Mirani)\n",
      "나랑 같이 걸을래 (바른연애 길잡이 X 적재) | 적재\n",
      "12:45 (Stripped) | Etham\n",
      "흔들리는 꽃들 속에서 네 샴푸향이 느껴진거야 | 장범준\n",
      "그날에 나는 맘이 편했을까 | 이예준\n",
      "이 밤을 빌려 말해요 (바른연애 길잡이 X 10CM) | 10CM\n",
      "어떻게 이별까지 사랑하겠어, 널 사랑하는 거지 | AKMU (악동뮤지션)\n",
      "ASAP | STAYC(스테이씨)\n",
      "추억은 만남보다 이별에 남아 | 정동하\n",
      "오래된 노래 | 스탠딩 에그\n",
      "Savage Love (Laxed - Siren Beat) (BTS Remix) | Jawsh 685\n",
      "Dolphin | 오마이걸 (OH MY GIRL)\n",
      "METEOR | 창모 (CHANGMO)\n",
      "모든 날, 모든 순간 (Every day, Every Moment) | 폴킴\n",
      "2002 | Anne-Marie\n",
      "너의 발걸음에 빛을 비춰줄게 (Prod. 조영수) | 케이시 (Kassy)\n",
      "봄 안녕 봄 | 아이유\n",
      "힘든 건 사랑이 아니다 | 임창정\n",
      "아이와 나의 바다 | 아이유\n",
      "아로하 | 조정석\n",
      "너의 번호를 누르고 (Prod. 영화처럼) | #안녕\n",
      "사실 나는 (Feat.전건호) | 경서예지\n",
      "어떻게 지내 (Prod. By VAN.C) | 오반 (OVAN)\n",
      "맛 (Hot Sauce) | NCT DREAM\n",
      "Life Goes On | 방탄소년단\n",
      "오늘도 빛나는 너에게 (To You My Light) (Feat.이라온) | 마크툽 (MAKTUB)\n",
      "작은 것들을 위한 시 (Boy With Luv) (Feat. Halsey) | 방탄소년단\n",
      "봄날 | 방탄소년단\n",
      "늦은 밤 너의 집 앞 골목길에서 | 노을\n",
      "기다릴게 | 하동균\n",
      "How You Like That | BLACKPINK\n",
      "Memories | Maroon 5\n",
      "Flu | 아이유\n",
      "살짝 설렜어 (Nonstop) | 오마이걸 (OH MY GIRL)\n",
      "이렇게 좋아해 본 적이 없어요 | CHEEZE (치즈)\n",
      "상상더하기 | 라붐 (LABOUM)\n",
      "닫힌엔딩 (Closed Ending) | 숀 (SHAUN)\n",
      "마음을 드려요 | 아이유\n",
      "고백 (바른연애 길잡이 X 허각) | 허각\n",
      "이제 나만 믿어요 | 임영웅\n",
      "내 마음이 움찔했던 순간 (취향저격 그녀 X 규현) | 규현 (KYUHYUN)\n",
      "Dun Dun Dance | 오마이걸 (OH MY GIRL)\n",
      "함께 했는데 이별은 나 혼자인 거야 | 소정 (레이디스 코드)\n",
      "Dance Monkey | Tones And I\n",
      "죄와벌 | SG 워너비\n",
      "불어온다 | 하이라이트 (Highlight)\n",
      "Love poem | 아이유\n",
      "너를 만나 | 폴킴\n",
      "돌림노래 (Feat. DEAN) | 아이유\n",
      "When We Disco (Duet with 선미) | 박진영\n",
      "Paris In The Rain | Lauv\n",
      "우리 왜 헤어져야 해 | 신예영\n",
      "Off My Face | Justin Bieber\n",
      "우린 어쩌다 헤어진 걸까 | 허각\n",
      "혼술하고 싶은 밤 | 벤\n",
      "시작 | 가호 (Gaho)\n",
      "아리랑 | SG 워너비\n",
      "내일이 오면 (Feat. 기리보이, BIG Naughty (서동현)) | 릴보이 (lIlBOI)\n",
      "되풀이 | 임창정\n",
      "Gone | 로제 (ROSÉ)\n",
      "거짓말이라도 해서 널 보고싶어 | 백지영\n",
      "응급실 (2021) | 황인욱\n",
      "서면역에서 | 순순희\n",
      "Don't Start Now | Dua Lipa\n",
      "안녕 | 폴킴\n",
      "Downtown Baby | 블루 (BLOO)\n",
      "에필로그 | 아이유\n",
      "Maniac | Conan Gray\n",
      "술 한잔 해요 | 경서 (경서예지)\n",
      "고래 (Dive Into You) | NCT DREAM\n",
      "사랑은 지날수록 더욱 선명하게 남아 | 전상근\n",
      "안녕이란 (Two Letters) | 황치열\n",
      "딩가딩가 (Dingga) | 마마무 (Mamamoo)\n",
      "다시 만날까 봐 (Prod.V.O.S) | 이예준\n"
     ]
    }
   ],
   "source": [
    "from selenium import webdriver\n",
    "from bs4 import BeautifulSoup\n",
    "\n",
    "driver = webdriver.Chrome('./chromedriver.exe')\n",
    "url = 'http://www.melon.com/chart/index.htm'\n",
    "driver.get(url)\n",
    "\n",
    "html = driver.page_source\n",
    "soup = BeautifulSoup(html, 'html.parser')\n",
    "\n",
    "\n",
    "songs = driver.find_elements_by_css_selector('tbody > tr')\n",
    "for song in songs:\n",
    "    title = song.find_elements_by_css_selector('div.ellipsis.rank01 > span > a')[0].text\n",
    "    singer = song.find_elements_by_css_selector('div.ellipsis.rank02 > a')[0].text\n",
    "    print(title, singer, sep=' | ')\n"
   ]
  },
  {
   "cell_type": "code",
   "execution_count": null,
   "metadata": {},
   "outputs": [],
   "source": []
  }
 ],
 "metadata": {
  "kernelspec": {
   "display_name": "Python 3",
   "language": "python",
   "name": "python3"
  },
  "language_info": {
   "codemirror_mode": {
    "name": "ipython",
    "version": 3
   },
   "file_extension": ".py",
   "mimetype": "text/x-python",
   "name": "python",
   "nbconvert_exporter": "python",
   "pygments_lexer": "ipython3",
   "version": "3.6.5"
  }
 },
 "nbformat": 4,
 "nbformat_minor": 4
}
