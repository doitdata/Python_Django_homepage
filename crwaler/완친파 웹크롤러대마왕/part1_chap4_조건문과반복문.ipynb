{
 "cells": [
  {
   "cell_type": "code",
   "execution_count": 1,
   "metadata": {},
   "outputs": [
    {
     "name": "stdout",
     "output_type": "stream",
     "text": [
      "조회할 사람의이름을 입력하세요: 홍길동\n",
      "홍길동 입니다.\n",
      "남자 입니다.\n",
      "활빈당 총수 입니다.\n"
     ]
    }
   ],
   "source": [
    "name = input('조회할 사람의이름을 입력하세요: ')\n",
    "\n",
    "if name == '홍길동':\n",
    "    print('홍길동 입니다.')\n",
    "    print('남자 입니다.')\n",
    "    print('활빈당 총수 입니다.')\n",
    "    "
   ]
  },
  {
   "cell_type": "code",
   "execution_count": 2,
   "metadata": {},
   "outputs": [
    {
     "ename": "IndentationError",
     "evalue": "unexpected indent (<ipython-input-2-ea2cf28174cd>, line 6)",
     "output_type": "error",
     "traceback": [
      "\u001b[1;36m  File \u001b[1;32m\"<ipython-input-2-ea2cf28174cd>\"\u001b[1;36m, line \u001b[1;32m6\u001b[0m\n\u001b[1;33m    print('활빈당 총수 입니다.')\u001b[0m\n\u001b[1;37m    ^\u001b[0m\n\u001b[1;31mIndentationError\u001b[0m\u001b[1;31m:\u001b[0m unexpected indent\n"
     ]
    }
   ],
   "source": [
    "name = input('조회할 사람의이름을 입력하세요: ')\n",
    "\n",
    "if name == '홍길동':\n",
    "    print('홍길동 입니다.')\n",
    "    print('남자 입니다.')\n",
    "        print('활빈당 총수 입니다.')\n",
    "    "
   ]
  },
  {
   "cell_type": "code",
   "execution_count": 3,
   "metadata": {},
   "outputs": [
    {
     "name": "stdout",
     "output_type": "stream",
     "text": [
      "조회할 사람의이름을 입력하세요: 선미\n",
      "홍길동이 아니고 선미 입니다.\n",
      "남자인가요?\n",
      "여자인가요?\n"
     ]
    }
   ],
   "source": [
    "name = input('조회할 사람의이름을 입력하세요: ')\n",
    "\n",
    "if name == '홍길동':\n",
    "    print('홍길동 입니다.')\n",
    "    print('남자 입니다.')\n",
    "    print('활빈당 총수 입니다.')\n",
    "else:\n",
    "    print('홍길동이 아니고 %s 입니다.' %name)\n",
    "    print('남자인가요?')\n",
    "    print('여자인가요?')"
   ]
  },
  {
   "cell_type": "code",
   "execution_count": 4,
   "metadata": {},
   "outputs": [
    {
     "name": "stdout",
     "output_type": "stream",
     "text": [
      "점수를 입력하세요: 99\n",
      "A등급 입니다.\n"
     ]
    }
   ],
   "source": [
    "jumsu = int(input('점수를 입력하세요: '))\n",
    "\n",
    "if jumsu >=91 and jumsu <= 100:\n",
    "    print('A등급 입니다.')\n",
    "elif jumsu >=81 and jumsu <= 90:\n",
    "    print('B등급 입니다.')\n",
    "elif jumsu >=71 and jumsu <= 80:\n",
    "    print('C등급 입니다.')\n",
    "else:\n",
    "    print('D등급 입니다.')"
   ]
  },
  {
   "cell_type": "code",
   "execution_count": 5,
   "metadata": {},
   "outputs": [
    {
     "name": "stdout",
     "output_type": "stream",
     "text": [
      "점수를 입력하세요:  99\n",
      "A등급 입니다.\n"
     ]
    }
   ],
   "source": [
    "jumsu = int(input('점수를 입력하세요: '))\n",
    "\n",
    "if jumsu >=91 & jumsu <= 100:\n",
    "    print('A등급 입니다.')\n",
    "elif jumsu >=81 & jumsu <= 90:\n",
    "    print('B등급 입니다.')\n",
    "elif jumsu >=71 & jumsu <= 80:\n",
    "    print('C등급 입니다.')\n",
    "else:\n",
    "    print('D등급 입니다.')"
   ]
  },
  {
   "cell_type": "code",
   "execution_count": 8,
   "metadata": {},
   "outputs": [
    {
     "name": "stdout",
     "output_type": "stream",
     "text": [
      "Y또는 y를 입력하세요: n\n",
      "Y 또는 y를 입력하세요\n"
     ]
    }
   ],
   "source": [
    "answer = input('Y또는 y를 입력하세요: ')\n",
    "\n",
    "if answer == 'Y' or answer =='y':\n",
    "    print('입력하신 문자는 %s 입니다.' %answer)\n",
    "else:\n",
    "    print('Y 또는 y를 입력하세요')"
   ]
  },
  {
   "cell_type": "code",
   "execution_count": 10,
   "metadata": {},
   "outputs": [
    {
     "name": "stdout",
     "output_type": "stream",
     "text": [
      "Y또는 y를 입력하세요: y\n",
      "Y 또는 y를 입력하셨네요\n"
     ]
    }
   ],
   "source": [
    "answer = input('Y또는 y를 입력하세요: ')\n",
    "\n",
    "if answer != 'Y' and answer !='y':\n",
    "    print('입력하신 문자는 %s 입니다.' %answer)\n",
    "else:\n",
    "    print('Y 또는 y를 입력하셨네요')"
   ]
  },
  {
   "cell_type": "code",
   "execution_count": 11,
   "metadata": {},
   "outputs": [
    {
     "name": "stdout",
     "output_type": "stream",
     "text": [
      "Y또는 y를 입력하세요: N\n",
      "입력하신 문자는 N 입니다.\n"
     ]
    }
   ],
   "source": [
    "answer = input('Y또는 y를 입력하세요: ')\n",
    "\n",
    "if answer != 'Y' and answer !='y':\n",
    "    print('입력하신 문자는 %s 입니다.' %answer)\n",
    "else:\n",
    "    print('Y 또는 y를 입력하셨네요')"
   ]
  },
  {
   "cell_type": "code",
   "execution_count": 12,
   "metadata": {},
   "outputs": [
    {
     "name": "stdout",
     "output_type": "stream",
     "text": [
      "1\n",
      "2\n",
      "3\n"
     ]
    }
   ],
   "source": [
    "for i in (1,2,3):\n",
    "    print(i)"
   ]
  },
  {
   "cell_type": "code",
   "execution_count": 13,
   "metadata": {},
   "outputs": [
    {
     "name": "stdout",
     "output_type": "stream",
     "text": [
      "하나\n",
      "둘\n",
      "셋\n"
     ]
    }
   ],
   "source": [
    "data = ['하나','둘','셋']\n",
    "for i in data:\n",
    "    print(i)"
   ]
  },
  {
   "cell_type": "code",
   "execution_count": 14,
   "metadata": {},
   "outputs": [
    {
     "name": "stdout",
     "output_type": "stream",
     "text": [
      "김구 님은 대한민국의 위대한 위인이고 자랑이십니다.\n",
      "유관순 님은 대한민국의 위대한 위인이고 자랑이십니다.\n",
      "이순신 님은 대한민국의 위대한 위인이고 자랑이십니다.\n"
     ]
    }
   ],
   "source": [
    "data = ['김구','유관순','이순신']\n",
    "for i in data:\n",
    "    print('%s 님은 대한민국의 위대한 위인이고 자랑이십니다.' %i)"
   ]
  },
  {
   "cell_type": "code",
   "execution_count": 15,
   "metadata": {},
   "outputs": [
    {
     "name": "stdout",
     "output_type": "stream",
     "text": [
      "1\n",
      "2\n",
      "3\n",
      "4\n"
     ]
    }
   ],
   "source": [
    "for i in range(1,5):\n",
    "    print(i)"
   ]
  },
  {
   "cell_type": "code",
   "execution_count": 16,
   "metadata": {},
   "outputs": [
    {
     "name": "stdout",
     "output_type": "stream",
     "text": [
      "1\n",
      "3\n",
      "5\n",
      "7\n"
     ]
    }
   ],
   "source": [
    "no1 = 1\n",
    "while no1 <9:\n",
    "    print(no1)\n",
    "    no1 +=2"
   ]
  },
  {
   "cell_type": "code",
   "execution_count": 17,
   "metadata": {},
   "outputs": [
    {
     "name": "stdout",
     "output_type": "stream",
     "text": [
      "3\n",
      "5\n",
      "7\n",
      "9\n"
     ]
    }
   ],
   "source": [
    "no1 = 1\n",
    "while no1 <9:\n",
    "    no1 +=2\n",
    "    print(no1)"
   ]
  },
  {
   "cell_type": "code",
   "execution_count": 18,
   "metadata": {},
   "outputs": [
    {
     "name": "stdout",
     "output_type": "stream",
     "text": [
      "새우깡 완전 맛있어요\n",
      "감자깡 완전 맛있어요\n"
     ]
    }
   ],
   "source": [
    "snack = ['새우깡','감자깡','고구마깡','맛동산','짱구']\n",
    "for i in snack:\n",
    "    if i =='고구마깡':\n",
    "        break\n",
    "    print(i, '완전 맛있어요')"
   ]
  },
  {
   "cell_type": "code",
   "execution_count": 19,
   "metadata": {},
   "outputs": [
    {
     "name": "stdout",
     "output_type": "stream",
     "text": [
      "새우깡 완전 맛있어요\n",
      "감자깡 완전 맛있어요\n",
      "맛동산 완전 맛있어요\n",
      "짱구 완전 맛있어요\n"
     ]
    }
   ],
   "source": [
    "snack = ['새우깡','감자깡','고구마깡','맛동산','짱구']\n",
    "for i in snack:\n",
    "    if i =='고구마깡':\n",
    "        continue\n",
    "    print(i, '완전 맛있어요')"
   ]
  },
  {
   "cell_type": "code",
   "execution_count": null,
   "metadata": {},
   "outputs": [],
   "source": []
  }
 ],
 "metadata": {
  "kernelspec": {
   "display_name": "Python 3",
   "language": "python",
   "name": "python3"
  },
  "language_info": {
   "codemirror_mode": {
    "name": "ipython",
    "version": 3
   },
   "file_extension": ".py",
   "mimetype": "text/x-python",
   "name": "python",
   "nbconvert_exporter": "python",
   "pygments_lexer": "ipython3",
   "version": "3.6.5"
  }
 },
 "nbformat": 4,
 "nbformat_minor": 4
}
