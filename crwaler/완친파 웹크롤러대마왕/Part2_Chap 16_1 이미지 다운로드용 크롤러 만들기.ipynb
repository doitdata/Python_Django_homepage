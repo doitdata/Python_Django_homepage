{
 "cells": [
  {
   "cell_type": "code",
   "execution_count": 1,
   "metadata": {},
   "outputs": [],
   "source": [
    "# 이미지 다운로드용 웹크롤러 만들기\n",
    "\n",
    "from bs4 import BeautifulSoup\n",
    "from selenium import webdriver\n",
    "import urllib.request\n",
    "import urllib\n",
    "import time\n",
    "import sys\n",
    "import re\n",
    "import math\n",
    "import os\n",
    "import random"
   ]
  },
  {
   "cell_type": "code",
   "execution_count": 2,
   "metadata": {},
   "outputs": [],
   "source": [
    "# 크롬 드라이버를 사용해서 웹 브라우저를 실행합니다.\n",
    "path = \"./chromedriver.exe\"\n",
    "driver = webdriver.Chrome(path)"
   ]
  },
  {
   "cell_type": "code",
   "execution_count": 3,
   "metadata": {},
   "outputs": [
    {
     "name": "stdout",
     "output_type": "stream",
     "text": [
      "사진을 저장할 폴더를 지정하세요: D:/Python_Project/portfolio/study_coding/book/완친파 웹크롤러대마왕/\n"
     ]
    }
   ],
   "source": [
    "f_dir = input('사진을 저장할 폴더를 지정하세요: ')\n",
    "txt = '사진저장'\n",
    "\n",
    "# 파일을 저장할 폴더를 생성\n",
    "now = time.localtime()\n",
    "s = '%04d-%02d-%02d-%02d-%02d-%02d-' % (now.tm_year,now.tm_mon,now.tm_mday,now.tm_hour,now.tm_min,now.tm_sec )\n",
    "\n",
    "os.chdir(f_dir)\n",
    "os.makedirs(f_dir+s+'-'+txt)\n",
    "os.chdir(f_dir+s+'-'+txt)\n",
    "f_result_dir = f_dir+s+'-'+txt\n",
    "\n",
    "s_time = time.time() # 크롤링 시작 시간을 위한 타임 스탬프를 찍습니다. \n",
    "\n",
    "driver.get(\"https://korean.visitkorea.or.kr/detail/rem_detail.html?cotid=be3db10c-b642-409c-81cc-c4cdecb5bd8b&temp=\")\n",
    "time.sleep(2)#페이지가 모두 열릴때 까지 2초 기다립니다. "
   ]
  },
  {
   "cell_type": "code",
   "execution_count": 5,
   "metadata": {},
   "outputs": [],
   "source": [
    "# 자동 스크롤다운 함수 만들기\n",
    "# 스크롤다운 함수를 생성한 후 실행\n",
    "\n",
    "def scroll_down(driver):\n",
    "    # 파이썬 코드 외부 os에 있는 특정 함수나 스크립트를 실행할 때 사용(.execute_script)\n",
    "    # window.scrollTo(x좌표, y좌표) 기준값이 절대 좌표\n",
    "    # window.scrollBy(x좌표, y좌표) 기준값이 상대 좌표\n",
    "    # document.body.scrollHeight -> 화면 끝까지 이동하고 싶을 경우\n",
    "    driver.execute_script('window.scrollTo(0,document.body.scrollHeight)') \n",
    "    time.sleep(1)\n",
    "    \n",
    "scroll_down(driver)"
   ]
  },
  {
   "cell_type": "code",
   "execution_count": 7,
   "metadata": {},
   "outputs": [
    {
     "name": "stdout",
     "output_type": "stream",
     "text": [
      "1 번째 이미지 저장중입니다 =====\n",
      "2 번째 이미지 저장중입니다 =====\n",
      "3 번째 이미지 저장중입니다 =====\n",
      "4 번째 이미지 저장중입니다 =====\n",
      "5 번째 이미지 저장중입니다 =====\n",
      "6 번째 이미지 저장중입니다 =====\n",
      "7 번째 이미지 저장중입니다 =====\n",
      "8 번째 이미지 저장중입니다 =====\n",
      "9 번째 이미지 저장중입니다 =====\n",
      "10 번째 이미지 저장중입니다 =====\n",
      "11 번째 이미지 저장중입니다 =====\n",
      "12 번째 이미지 저장중입니다 =====\n",
      "13 번째 이미지 저장중입니다 =====\n",
      "14 번째 이미지 저장중입니다 =====\n",
      "================================================================================\n",
      "총 소요시간은 1237.2 초 입니다.\n",
      "총 저장건수는 14 건 입니다.\n",
      "파일 저장 경로:D:/Python_Project/portfolio/study_coding/book/완친파 웹크롤러대마왕/2020-08-11-12-33-05--사진저장 입니다.\n",
      "================================================================================\n"
     ]
    }
   ],
   "source": [
    "# 본문의 사진 정보를 가져와서 지정된 폴더에 저장하기\n",
    "# 이미지 추출하여 저장하기\n",
    "\n",
    "file_no = 0\n",
    "count = 1\n",
    "img_src2 = []\n",
    "\n",
    "html = driver.page_source\n",
    "soup = BeautifulSoup(html, 'html.parser')\n",
    "img_src = soup.find('div','box_txtPhoto').find_all('img')\n",
    "\n",
    "for i in img_src:\n",
    "    img_src1 = i['src']\n",
    "    img_src2.append(img_src1)\n",
    "    count += 1\n",
    "    \n",
    "for i in range(0,len(img_src2)):\n",
    "    try:\n",
    "        urllib.request.urlretrieve(img_src2[i], str(file_no)+'.jpg')\n",
    "    except:\n",
    "        continue\n",
    "        \n",
    "    file_no += 1\n",
    "    time.sleep(0.5)\n",
    "    print('%s 번째 이미지 저장중입니다 =====' %file_no)\n",
    "\n",
    "# 요약정보를 출력합니다. \n",
    "e_time = time.time()\n",
    "t_time = e_time - s_time\n",
    "\n",
    "store_cnt = file_no -1\n",
    "\n",
    "print('=' * 80)\n",
    "print('총 소요시간은 %s 초 입니다.' % round(t_time,1))\n",
    "print('총 저장건수는 %s 건 입니다.' % file_no)\n",
    "print('파일 저장 경로:%s 입니다.' % f_result_dir)\n",
    "print('=' * 80)\n",
    "\n",
    "driver.close()"
   ]
  },
  {
   "cell_type": "code",
   "execution_count": null,
   "metadata": {},
   "outputs": [],
   "source": []
  }
 ],
 "metadata": {
  "kernelspec": {
   "display_name": "Python 3",
   "language": "python",
   "name": "python3"
  },
  "language_info": {
   "codemirror_mode": {
    "name": "ipython",
    "version": 3
   },
   "file_extension": ".py",
   "mimetype": "text/x-python",
   "name": "python",
   "nbconvert_exporter": "python",
   "pygments_lexer": "ipython3",
   "version": "3.6.5"
  }
 },
 "nbformat": 4,
 "nbformat_minor": 4
}
