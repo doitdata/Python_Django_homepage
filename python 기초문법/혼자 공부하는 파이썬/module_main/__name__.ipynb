{
 "cells": [
  {
   "cell_type": "code",
   "execution_count": null,
   "metadata": {},
   "outputs": [],
   "source": [
    "엔트리 포인트 파일에서는 __main__을 출력하지만 모든 파일에서는 모듈이름을 출력하는 것을 확인 "
   ]
  },
  {
   "cell_type": "code",
   "execution_count": 1,
   "metadata": {},
   "outputs": [
    {
     "name": "stdout",
     "output_type": "stream",
     "text": [
      "# 모듈의 __name__ 출력하기\n",
      "test_module\n",
      "\n",
      "# 메인의 __name__ 출력하기\n",
      "__main__\n",
      "\n"
     ]
    }
   ],
   "source": [
    "! python main.py"
   ]
  },
  {
   "cell_type": "code",
   "execution_count": 2,
   "metadata": {},
   "outputs": [
    {
     "name": "stdout",
     "output_type": "stream",
     "text": [
      "# 모듈의 __name__ 출력하기\n",
      "__main__\n",
      "\n"
     ]
    }
   ],
   "source": [
    "! python test_module.py"
   ]
  }
 ],
 "metadata": {
  "kernelspec": {
   "display_name": "Python 3",
   "language": "python",
   "name": "python3"
  },
  "language_info": {
   "codemirror_mode": {
    "name": "ipython",
    "version": 3
   },
   "file_extension": ".py",
   "mimetype": "text/x-python",
   "name": "python",
   "nbconvert_exporter": "python",
   "pygments_lexer": "ipython3",
   "version": "3.6.5"
  }
 },
 "nbformat": 4,
 "nbformat_minor": 4
}
