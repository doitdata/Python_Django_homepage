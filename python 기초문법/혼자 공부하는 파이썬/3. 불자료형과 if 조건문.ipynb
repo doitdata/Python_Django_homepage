{
 "cells": [
  {
   "cell_type": "code",
   "execution_count": 10,
   "metadata": {},
   "outputs": [
    {
     "name": "stdout",
     "output_type": "stream",
     "text": [
      "2021 년\n",
      "5 월\n",
      "13 일\n",
      "0 시\n",
      "50 분\n",
      "50 초\n",
      "\n",
      "\n",
      "2021년 5월 13일 0시 50분 50초\n",
      "\n",
      "\n",
      "현재 시각은 0시로 오전입니다!\n",
      "\n",
      "\n",
      "이번 달은 5월로 봄입니다!\n"
     ]
    }
   ],
   "source": [
    "# 날짜/시간과 관련된 기능을 가져옵니다.\n",
    "import datetime\n",
    "\n",
    "# 현재 날짜/시간을 구합니다.\n",
    "now = datetime.datetime.now()\n",
    "\n",
    "# 출력\n",
    "print(now.year, \"년\")\n",
    "print(now.month, \"월\")\n",
    "print(now.day, \"일\")\n",
    "print(now.hour, \"시\")\n",
    "print(now.minute, \"분\")\n",
    "print(now.minute, \"초\")\n",
    "\n",
    "# 출력 (문자열 포맷팅이용)\n",
    "print('\\n')\n",
    "print('{}년 {}월 {}일 {}시 {}분 {}초'.format(\n",
    "    now.year,\n",
    "    now.month,\n",
    "    now.day,\n",
    "    now.hour,\n",
    "    now.minute,\n",
    "    now.minute\n",
    "))\n",
    "print('\\n')\n",
    "\n",
    "# 오전 구분\n",
    "if now.hour < 12:\n",
    "    print(\"현재 시각은 {}시로 오전입니다!\".format(now.hour))\n",
    "\n",
    "# 오후 구분\n",
    "if now.hour >= 12:\n",
    "    print(\"현재 시각은 {}시로 오후입니다!\".format(now.hour))\n",
    "    \n",
    "print('\\n')\n",
    "\n",
    "# 봄 구분\n",
    "if 3 <= now.month <= 5:\n",
    "    print(\"이번 달은 {}월로 봄입니다!\".format(now.month))\n",
    "\n",
    "# 여름 구분\n",
    "if 6 <= now.month <= 8:\n",
    "    print(\"이번 달은 {}월로 여름입니다!\".format(now.month))\n",
    "\n",
    "# 가을 구분\n",
    "if 9 <= now.month <= 11:\n",
    "    print(\"이번 달은 {}월로 가을입니다!\".format(now.month))\n",
    "\n",
    "# 겨울 구분\n",
    "if now.month == 12 or 1 <= now.month <= 2:\n",
    "    print(\"이번 달은 {}월로 겨울입니다!\".format(now.month))\n"
   ]
  },
  {
   "cell_type": "code",
   "execution_count": 11,
   "metadata": {},
   "outputs": [
    {
     "name": "stdout",
     "output_type": "stream",
     "text": [
      "정수 입력> 10\n",
      "짝수입니다\n"
     ]
    }
   ],
   "source": [
    "# 1) 끝자리로 짝수와 홀수 구분\n",
    "\n",
    "# 입력을 받습니다.\n",
    "number = input(\"정수 입력> \")\n",
    "\n",
    "# 마지막 자리 숫자를 추출\n",
    "last_character = number[-1]\n",
    "\n",
    "# 숫자로 변환하기\n",
    "last_number = int(last_character)\n",
    "\n",
    "# 짝수 확인\n",
    "if last_number == 0 \\\n",
    "    or last_number == 2 \\\n",
    "    or last_number == 4 \\\n",
    "    or last_number == 6 \\\n",
    "    or last_number == 8:\n",
    "    print(\"짝수입니다\")\n",
    "\n",
    "# 홀수 확인\n",
    "if last_number == 1 \\\n",
    "    or last_number == 3 \\\n",
    "    or last_number == 5 \\\n",
    "    or last_number == 7 \\\n",
    "    or last_number == 9:\n",
    "    print(\"홀수입니다\")\n"
   ]
  },
  {
   "cell_type": "code",
   "execution_count": 13,
   "metadata": {},
   "outputs": [
    {
     "name": "stdout",
     "output_type": "stream",
     "text": [
      "정수 입력> 13\n",
      "홀수입니다\n"
     ]
    }
   ],
   "source": [
    "# 2) 끝자리로 짝홀 구분하기 -> in 문자열 연산자 사용\n",
    "\n",
    "# 입력을 받습니다.\n",
    "number = input(\"정수 입력> \")\n",
    "last_character = number[-1]\n",
    "\n",
    "# 짝수 조건\n",
    "if last_character in \"02468\":\n",
    "    print(\"짝수입니다\")\n",
    "\n",
    "# 홀수 조건\n",
    "if last_character in \"13579\":\n",
    "    print(\"홀수입니다\")\n"
   ]
  },
  {
   "cell_type": "code",
   "execution_count": 14,
   "metadata": {},
   "outputs": [
    {
     "name": "stdout",
     "output_type": "stream",
     "text": [
      "정수 입력> 15\n",
      "홀수입니다\n"
     ]
    }
   ],
   "source": [
    "# 3) 끝자리로 짝홀 구분하기 -> 나머지 연산자를 활용\n",
    "\n",
    "# 입력을 받습니다.\n",
    "number = input(\"정수 입력> \")\n",
    "number = int(number)\n",
    "\n",
    "# 짝수 조건\n",
    "if number % 2 == 0:\n",
    "    print(\"짝수입니다\")\n",
    "\n",
    "# 홀수 조건\n",
    "if number % 2 == 1:\n",
    "    print(\"홀수입니다\")\n"
   ]
  },
  {
   "cell_type": "code",
   "execution_count": 15,
   "metadata": {},
   "outputs": [
    {
     "name": "stdout",
     "output_type": "stream",
     "text": [
      "정수 입력> 16\n",
      "짝수입니다\n"
     ]
    }
   ],
   "source": [
    "# 3) 끝자리로 짝홀 구분하기 -> 나머지 연산자를 활용, if, else 구문을 씀\n",
    "\n",
    "# 입력을 받습니다.\n",
    "number = input(\"정수 입력> \")\n",
    "number = int(number)\n",
    "\n",
    "# 조건문을 사용합니다.\n",
    "if number % 2 == 0:\n",
    "    # 조건이 참일 때, 즉 짝수 조건\n",
    "    print(\"짝수입니다\")\n",
    "else:\n",
    "    # 조건이 거짓일 때, 즉 홀수 조건\n",
    "    print(\"홀수입니다\")\n"
   ]
  },
  {
   "cell_type": "code",
   "execution_count": 16,
   "metadata": {},
   "outputs": [
    {
     "name": "stdout",
     "output_type": "stream",
     "text": [
      "현재는 봄입니다.\n"
     ]
    }
   ],
   "source": [
    "# if~elif 구문 이해하기 \n",
    "\n",
    "# 날짜/시간과 관련된 기능을 가져옵니다.\n",
    "import datetime\n",
    "\n",
    "# 현재 날짜/시간을 구하고\n",
    "# 쉽게 사용할 수 있게 월을 변수에 저장합니다.\n",
    "now = datetime.datetime.now()\n",
    "month = now.month\n",
    "\n",
    "# 조건문으로 계절을 확인합니다.\n",
    "if 3 <= month <= 5:\n",
    "    print(\"현재는 봄입니다.\")\n",
    "elif 6 <= month <= 8:\n",
    "    print(\"현재는 여름입니다.\")\n",
    "elif 9 <= month <= 11:\n",
    "    print(\"현재는 가을입니다.\")\n",
    "else:\n",
    "    print(\"현재는 겨울입니다.\")\n"
   ]
  },
  {
   "cell_type": "code",
   "execution_count": 18,
   "metadata": {},
   "outputs": [
    {
     "name": "stdout",
     "output_type": "stream",
     "text": [
      "학점 입력> 4.0\n",
      "현 체제의 수호자\n"
     ]
    }
   ],
   "source": [
    "# if~elif 구문 이해하기 \n",
    "\n",
    "# 유머를 조건문으로 구현해보기 \n",
    "\n",
    "# 변수를 선언합니다.\n",
    "score = float(input(\"학점 입력> \"))\n",
    "\n",
    "# 조건문을 적용합니다.\n",
    "if score == 4.5:\n",
    "    print(\"신\")\n",
    "elif 4.2 <= score < 4.5:\n",
    "    print(\"교수님의 사랑\")\n",
    "elif 3.5 <= score < 4.2:\n",
    "    print(\"현 체제의 수호자\")\n",
    "elif 2.8 <= score < 3.5:\n",
    "    print(\"일반인\")\n",
    "elif 2.3 <= score < 2.8:\n",
    "    print(\"일탈을 꿈꾸는 소시민\")\n",
    "elif 1.75 <= score < 2.3:\n",
    "    print(\"오락문화의 선구자\")\n",
    "elif 1.0 <= score < 1.75:\n",
    "    print(\"불가촉천민\")\n",
    "elif 0.5 <= score < 1.0:\n",
    "    print(\"자벌레\")\n",
    "elif 0 < score < 0.5:\n",
    "    print(\"플랑크톤\")\n",
    "elif score == 0:\n",
    "    print(\"시대를 앞서가는 혁명의 씨앗\")\n"
   ]
  },
  {
   "cell_type": "code",
   "execution_count": 19,
   "metadata": {},
   "outputs": [
    {
     "name": "stdout",
     "output_type": "stream",
     "text": [
      "학점 입력> 4.1\n",
      "현 체제의 수호자\n"
     ]
    }
   ],
   "source": [
    "# if~elif 구문 이해하기 2)\n",
    "\n",
    "# 변수를 선언합니다.\n",
    "score = float(input(\"학점 입력> \"))\n",
    "\n",
    "# 조건문을 적용합니다.\n",
    "if score == 4.5:\n",
    "    print(\"신\")\n",
    "elif 4.2 <= score:\n",
    "    print(\"교수님의 사랑\")\n",
    "elif 3.5 <= score:\n",
    "    print(\"현 체제의 수호자\")\n",
    "elif 2.8 <= score:\n",
    "    print(\"일반인\")\n",
    "elif 2.3 <= score:\n",
    "    print(\"일탈을 꿈꾸는 소시민\")\n",
    "elif 1.75 <= score:\n",
    "    print(\"오락문화의 선구자\")\n",
    "elif 1.0 <= score:\n",
    "    print(\"불가촉천민\")\n",
    "elif 0.5 <= score:\n",
    "    print(\"자벌레\")\n",
    "elif 0 < score:\n",
    "    print(\"플랑크톤\")\n",
    "else:\n",
    "    print(\"시대를 앞서가는 혁명의 씨앗\")\n"
   ]
  },
  {
   "cell_type": "code",
   "execution_count": 21,
   "metadata": {},
   "outputs": [
    {
     "name": "stdout",
     "output_type": "stream",
     "text": [
      "# if 조건문에 0 넣기\n",
      "0은 False로 변환됩니다\n",
      "\n",
      "# if 조건문에 빈 문자열 넣기\n",
      "빈 문자열은 False로 변환됩니다\n"
     ]
    }
   ],
   "source": [
    "# false로 반환되는 값\n",
    "\n",
    "print(\"# if 조건문에 0 넣기\")\n",
    "if 0:\n",
    "    print(\"0은 True로 변환됩니다\")\n",
    "else:\n",
    "    print(\"0은 False로 변환됩니다\")\n",
    "    print()\n",
    "    \n",
    "    \n",
    "    print(\"# if 조건문에 빈 문자열 넣기\")\n",
    "if \"\":\n",
    "    print(\"빈 문자열은 True로 변환됩니다\")\n",
    "else:\n",
    "    print(\"빈 문자열은 False로 변환됩니다\")\n"
   ]
  },
  {
   "cell_type": "code",
   "execution_count": 23,
   "metadata": {},
   "outputs": [
    {
     "name": "stdout",
     "output_type": "stream",
     "text": [
      "정수 입력> 10\n"
     ]
    }
   ],
   "source": [
    "# 입력을 받습니다.\n",
    "number = input(\"정수 입력> \")\n",
    "number = int(number)\n",
    "\n",
    "# 조건문 사용\n",
    "if number > 0:\n",
    "    # 양수일 때: 아직 미구현 상태입니다.\n",
    "    pass\n",
    "else:\n",
    "    # 음수일 때: 아직 미구현 상태입니다.\n",
    "    pass"
   ]
  },
  {
   "cell_type": "code",
   "execution_count": null,
   "metadata": {},
   "outputs": [],
   "source": []
  }
 ],
 "metadata": {
  "kernelspec": {
   "display_name": "Python 3",
   "language": "python",
   "name": "python3"
  },
  "language_info": {
   "codemirror_mode": {
    "name": "ipython",
    "version": 3
   },
   "file_extension": ".py",
   "mimetype": "text/x-python",
   "name": "python",
   "nbconvert_exporter": "python",
   "pygments_lexer": "ipython3",
   "version": "3.6.5"
  }
 },
 "nbformat": 4,
 "nbformat_minor": 4
}
