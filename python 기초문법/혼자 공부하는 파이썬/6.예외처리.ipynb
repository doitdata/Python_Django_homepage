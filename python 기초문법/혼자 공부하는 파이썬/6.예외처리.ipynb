{
 "cells": [
  {
   "cell_type": "markdown",
   "metadata": {},
   "source": [
    "### 오류  \n",
    "프로그래밍 언어의 오류에는 크게 두가지가 있음   \n",
    "1) 프로그램 실행 전에 발생하는 오류   \n",
    "2) 프로그램 실행 중에 발생하는 오류   "
   ]
  },
  {
   "cell_type": "markdown",
   "metadata": {},
   "source": [
    "구문오류   \n",
    "괄호의 개수, 들여쓰기 문제 등으로 인해 프로그램이 실행되기도 전에 발생하는 오류    "
   ]
  },
  {
   "cell_type": "markdown",
   "metadata": {},
   "source": [
    "예외    \n",
    "예외 또는 런타임 오류는 실행 중에 발생하는 오류 "
   ]
  },
  {
   "cell_type": "markdown",
   "metadata": {},
   "source": [
    "기본예외처리    \n",
    "예외를 해결하는 모든 것을 예외 처리라고 부른다   \n",
    "방법은 두가지로 나뉜다   \n",
    "1) 조건문을 사용하는 방법   \n",
    "2) try 구문을 사용하는 방법   "
   ]
  },
  {
   "cell_type": "code",
   "execution_count": 2,
   "metadata": {},
   "outputs": [
    {
     "name": "stdout",
     "output_type": "stream",
     "text": [
      "정수 입력> yaho\n",
      "정수를 입력하지 않았습니다.\n"
     ]
    }
   ],
   "source": [
    "# 1) 조건문으로 예외 처리하기\n",
    "\n",
    "# 숫자를 입력받습니다.\n",
    "user_input_a = input(\"정수 입력> \")\n",
    "\n",
    "# 사용자 입력이 숫자로만 구성되어 있을 때\n",
    "if user_input_a.isdigit():\n",
    "    # 숫자로 변환합니다.\n",
    "    number_input_a = int(user_input_a)\n",
    "    # 출력합니다.\n",
    "    print(\"원의 반지름:\", number_input_a)\n",
    "    print(\"원의 둘레:\", 2 * 3.14 * number_input_a)\n",
    "    print(\"원의 넓이:\", 3.14 * number_input_a * number_input_a)\n",
    "else:\n",
    "    print(\"정수를 입력하지 않았습니다.\")\n",
    "\n",
    "# 정수 입력> yaho\n",
    "# 정수를 입력하지 않았습니다."
   ]
  },
  {
   "cell_type": "markdown",
   "metadata": {},
   "source": [
    "try except 구문"
   ]
  },
  {
   "cell_type": "markdown",
   "metadata": {},
   "source": [
    "try:    \n",
    "    예외가 발생할 가능성이 있는 코드   \n",
    "        \n",
    "except:  \n",
    "    예외가 발생했을 때 실행할 코드  "
   ]
  },
  {
   "cell_type": "code",
   "execution_count": 4,
   "metadata": {},
   "outputs": [
    {
     "name": "stdout",
     "output_type": "stream",
     "text": [
      "정수 입력> 세훈이\n",
      "무언가 잘못되었습니다.\n"
     ]
    }
   ],
   "source": [
    "# 2) try 구문을 사용하여 예외 처리하기 \n",
    "# try except 구문으로 예외를 처리합니다.\n",
    "try:\n",
    "    # 숫자로 변환합니다.\n",
    "    number_input_a = int(input(\"정수 입력> \"))\n",
    "    # 출력합니다.\n",
    "    print(\"원의 반지름:\", number_input_a)\n",
    "    print(\"원의 둘레:\", 2 * 3.14 * number_input_a)\n",
    "    print(\"원의 넓이:\", 3.14 * number_input_a * number_input_a)\n",
    "except:\n",
    "    print(\"무언가 잘못되었습니다.\")\n",
    "\n",
    "# 정수 입력> 세훈이\n",
    "# 무언가 잘못되었습니다.\n"
   ]
  },
  {
   "cell_type": "markdown",
   "metadata": {},
   "source": [
    "try except 구문과 pass 키워드 조합하기   \n",
    "\n",
    "예외가 발생하면 일단 처리해야 하지만, 해당 코드가 딱히 중요한 부분이 아니라면 일단 프로그램이 강제 종료되는 것부터 막자는 목적으로 except 구문에 아무것도 넣지않고 try 구문을 사용 \n",
    "\n",
    "try:   \n",
    "    예외가 발생할 가능성이 있는 코드    \n",
    "except:   \n",
    "    pass"
   ]
  },
  {
   "cell_type": "code",
   "execution_count": 39,
   "metadata": {},
   "outputs": [
    {
     "name": "stdout",
     "output_type": "stream",
     "text": [
      "['52', '273', '32', '스파이', '103'] 내부에 있는 숫자는\n",
      "['52', '273', '32', '103']입니다.\n"
     ]
    }
   ],
   "source": [
    "# 변수를 선언합니다.\n",
    "list_input_a = [\"52\", \"273\", \"32\", \"스파이\", \"103\"]\n",
    "\n",
    "# 반복을 적용합니다.\n",
    "list_number = []\n",
    "for item in list_input_a:\n",
    "    # 숫자로 변환해서 리스트에 추가합니다.\n",
    "    try:\n",
    "        float(item) # 예외가 발생하면 알아서 다음으로 진행은 안 되겠지?\n",
    "        list_number.append(item) # 예외 없이 통과했으면 리스트에 넣어줘!\n",
    "    except:\n",
    "        pass\n",
    "\n",
    "# 출력합니다.\n",
    "print(\"{} 내부에 있는 숫자는\".format(list_input_a))\n",
    "print(\"{}입니다.\".format(list_number))\n",
    "\n",
    "# ['52', '273', '32', '스파이', '103'] 내부에 있는 숫자는\n",
    "# ['52', '273', '32', '103']입니다."
   ]
  },
  {
   "cell_type": "markdown",
   "metadata": {},
   "source": [
    "try except else 구문    \n",
    "else 구문을 사용하여 예외가 발생하지 않았을 때 실행할 코드를 지정    \n",
    "\n",
    "\n",
    "try:   \n",
    "    예외가 발생할 가능성이 있는 코드    \n",
    "except:  \n",
    "    예외가 발생했을 때 실행할 코드   \n",
    "else:  \n",
    "    예외가 발생하지 않았을 때 실행할 코드   "
   ]
  },
  {
   "cell_type": "code",
   "execution_count": 7,
   "metadata": {},
   "outputs": [
    {
     "name": "stdout",
     "output_type": "stream",
     "text": [
      "정수 입력> 유재석\n",
      "정수를 입력하지 않았습니다.\n"
     ]
    }
   ],
   "source": [
    "# try except else 구문으로 예외를 처리합니다.\n",
    "try:\n",
    "    # 숫자로 변환합니다.\n",
    "    number_input_a = int(input(\"정수 입력> \"))\n",
    "except:\n",
    "    print(\"정수를 입력하지 않았습니다.\")\n",
    "else:\n",
    "    # 출력합니다.\n",
    "    print(\"원의 반지름:\", number_input_a)\n",
    "    print(\"원의 둘레:\", 2 * 3.14 * number_input_a)\n",
    "    print(\"원의 넓이:\", 3.14 * number_input_a * number_input_a)\n",
    "    \n",
    "# 정수 입력> 유재석\n",
    "# 정수를 입력하지 않았습니다."
   ]
  },
  {
   "cell_type": "markdown",
   "metadata": {},
   "source": [
    "finally 구문    \n",
    "예외처리 구문에서 가장 마지막에 사용할 수 있는 구문  \n",
    "예외가 발생하든 발생하지 않든 무조건 실행할 때 사용하는 코드  \n",
    "\n",
    "try:    \n",
    "    예외가 발생할 가능성이 있는 코드   \n",
    "except:  \n",
    "    예외가 발생했을 때 실행할 코드  \n",
    "else:  \n",
    "    예외가 발생하지 않았을 때 실행할 코드  \n",
    "finally:  \n",
    "    무조건 실핼할 코드   "
   ]
  },
  {
   "cell_type": "code",
   "execution_count": 9,
   "metadata": {},
   "outputs": [
    {
     "name": "stdout",
     "output_type": "stream",
     "text": [
      "정수 입력> 10\n",
      "원의 반지름: 10\n",
      "원의 둘레: 62.800000000000004\n",
      "원의 넓이: 314.0\n",
      "예외가 발생하지 않았습니다.\n",
      "일단 프로그램이 어떻게든 끝났습니다.\n"
     ]
    }
   ],
   "source": [
    "# try except 구문으로 예외를 처리합니다.\n",
    "try:\n",
    "    # 숫자로 변환합니다.\n",
    "    number_input_a = int(input(\"정수 입력> \"))\n",
    "    # 출력합니다.\n",
    "    print(\"원의 반지름:\", number_input_a)\n",
    "    print(\"원의 둘레:\", 2 * 3.14 * number_input_a)\n",
    "    print(\"원의 넓이:\", 3.14 * number_input_a * number_input_a)\n",
    "except:\n",
    "    print(\"정수를 입력하지 않았습니다.\")\n",
    "else:\n",
    "    print(\"예외가 발생하지 않았습니다.\")\n",
    "finally:\n",
    "    print(\"일단 프로그램이 어떻게든 끝났습니다.\")\n",
    "\n",
    "# 정수 입력> 10\n",
    "# 원의 반지름: 10\n",
    "# 원의 둘레: 62.800000000000004\n",
    "# 원의 넓이: 314.0\n",
    "# 예외가 발생하지 않았습니다.\n",
    "# 일단 프로그램이 어떻게든 끝났습니다.\n"
   ]
  },
  {
   "cell_type": "markdown",
   "metadata": {},
   "source": [
    "try, except, finally 구문의 조합  \n",
    "- 규칙  \n",
    "1) try 구문은 단독으로 사용할 수 없으며, 반드시 except 구문 또는 finally 구문과 함께 사용해야 합니다.   \n",
    "2) else 구문은 반드시 except 구문 뒤에 사용해야 합니다.    \n",
    "\n",
    "이 규칙을 조합해 보면 다음과 같이 사용할 수 있다   \n",
    "1) try ~ except 구문  \n",
    "2) try ~ except~ else 구문  \n",
    "3) try ~ except~ finally 구문  \n",
    "4) try ~ except~ else ~ finally  구문  \n",
    "5) try ~ finally 구문  "
   ]
  },
  {
   "cell_type": "markdown",
   "metadata": {},
   "source": [
    "finally에 대한 오해    \n",
    "일반적으로 finally 키워드를 설명하는 예제로 '파일처리'를 많이 사용  "
   ]
  },
  {
   "cell_type": "code",
   "execution_count": 10,
   "metadata": {},
   "outputs": [
    {
     "name": "stdout",
     "output_type": "stream",
     "text": [
      "# 파일이 제대로 닫혔는지 확인하기\n",
      "file.closed: True\n"
     ]
    }
   ],
   "source": [
    "# try except 구문을 사용합니다.\n",
    "try:\n",
    "    # 파일을 엽니다.\n",
    "    file = open(\"info.txt\", \"w\")\n",
    "    # 여러 가지 처리를 수행합니다.\n",
    "    # 파일을 닫습니다.\n",
    "    file.close()\n",
    "except Exception as e:\n",
    "    print(e)\n",
    "\n",
    "print(\"# 파일이 제대로 닫혔는지 확인하기\")\n",
    "print(\"file.closed:\", file.closed)\n",
    "\n",
    "# # 파일이 제대로 닫혔는지 확인하기\n",
    "#file.closed: True\n"
   ]
  },
  {
   "cell_type": "code",
   "execution_count": 11,
   "metadata": {},
   "outputs": [
    {
     "name": "stdout",
     "output_type": "stream",
     "text": [
      "name '예외' is not defined\n",
      "# 파일이 제대로 닫혔는지 확인하기\n",
      "file.closed: False\n"
     ]
    }
   ],
   "source": [
    "# try except 구문을 사용합니다.\n",
    "try:\n",
    "    # 파일을 엽니다.\n",
    "    file = open(\"info.txt\", \"w\")\n",
    "    # 여러 가지 처리를 수행합니다.\n",
    "    예외.발생해라()\n",
    "    # 파일을 닫습니다.\n",
    "    file.close()\n",
    "except Exception as e:\n",
    "    print(e)\n",
    "\n",
    "print(\"# 파일이 제대로 닫혔는지 확인하기\")\n",
    "print(\"file.closed:\", file.closed)\n",
    "\n",
    "# name '예외' is not defined\n",
    "# # 파일이 제대로 닫혔는지 확인하기\n",
    "# file.closed: False\n"
   ]
  },
  {
   "cell_type": "code",
   "execution_count": 12,
   "metadata": {},
   "outputs": [
    {
     "name": "stdout",
     "output_type": "stream",
     "text": [
      "name '예외' is not defined\n",
      "# 파일이 제대로 닫혔는지 확인하기\n",
      "file.closed: True\n"
     ]
    }
   ],
   "source": [
    "# try except 구문을 사용합니다.\n",
    "try:\n",
    "    # 파일을 엽니다.\n",
    "    file = open(\"info.txt\", \"w\")\n",
    "    # 여러 가지 처리를 수행합니다.\n",
    "    예외.발생해라()\n",
    "except Exception as e:\n",
    "    print(e)\n",
    "finally:\n",
    "    # 파일을 닫습니다.\n",
    "    file.close()\n",
    "\n",
    "print(\"# 파일이 제대로 닫혔는지 확인하기\")\n",
    "print(\"file.closed:\", file.closed)\n",
    "\n",
    "\n",
    "# name '예외' is not defined\n",
    "# # 파일이 제대로 닫혔는지 확인하기\n",
    "# file.closed: True"
   ]
  },
  {
   "cell_type": "markdown",
   "metadata": {},
   "source": [
    "try except 구문이 모두 끝난 후에 파일을 닫으면 아무 문제 없음. 그러므로 파일처리 할때 무조건 finally 키워드를 사용안해도 됨. "
   ]
  },
  {
   "cell_type": "code",
   "execution_count": 13,
   "metadata": {},
   "outputs": [
    {
     "name": "stdout",
     "output_type": "stream",
     "text": [
      "name '예외' is not defined\n",
      "# 파일이 제대로 닫혔는지 확인하기\n",
      "file.closed: True\n"
     ]
    }
   ],
   "source": [
    "# try except 구문을 사용합니다.\n",
    "try:\n",
    "    # 파일을 엽니다.\n",
    "    file = open(\"info.txt\", \"w\")\n",
    "    # 여러 가지 처리를 수행합니다.\n",
    "    예외.발생해라()\n",
    "except Exception as e:\n",
    "    print(e)\n",
    "\n",
    "# 파일을 닫습니다.\n",
    "file.close()\n",
    "print(\"# 파일이 제대로 닫혔는지 확인하기\")\n",
    "print(\"file.closed:\", file.closed)\n",
    "\n",
    "# name '예외' is not defined\n",
    "# #파일이 제대로 닫혔는지 확인하기\n",
    "# file.closed: True\n",
    "\n"
   ]
  },
  {
   "cell_type": "markdown",
   "metadata": {},
   "source": [
    "finally 구문은 반복문 또는 함수 내부에 있을 때 효력이 발휘  \n",
    "try 구문 내부에 return 키워드가 있으면 try 구문 중간에서 탈출해도 finally 구문은 무조건 실행   \n",
    "따라서 함수 내부에서 파일 처리 코드를 깔끔하게 만들고 싶을 때 finalyy 구문을 활용하는 경우가 많음    \n",
    "try 구문에서 원할 때 return 키워드로 빠져나가도 파일이 무조건 닫히기 때문  "
   ]
  },
  {
   "cell_type": "code",
   "execution_count": 14,
   "metadata": {},
   "outputs": [
    {
     "name": "stdout",
     "output_type": "stream",
     "text": [
      "test() 함수의 첫 줄입니다.\n",
      "try 구문이 실행되었습니다.\n",
      "finally 구문이 실행되었습니다.\n"
     ]
    }
   ],
   "source": [
    "# test() 함수를 선언합니다.\n",
    "def test():\n",
    "    print(\"test() 함수의 첫 줄입니다.\")\n",
    "    try:\n",
    "        print(\"try 구문이 실행되었습니다.\")\n",
    "        return\n",
    "        print(\"try 구문의 return 키워드 뒤입니다.\")\n",
    "    except:\n",
    "        print(\"except 구문이 실행되었습니다.\")\n",
    "    else:\n",
    "        print(\"else 구문이 실행되었습니다.\")\n",
    "    finally:\n",
    "        print(\"finally 구문이 실행되었습니다.\")\n",
    "    print(\"test() 함수의 마지막 줄입니다.\")\n",
    "\n",
    "# test() 함수를 호출합니다.\n",
    "test()\n",
    "\n",
    "# test() 함수의 첫 줄입니다.\n",
    "# try 구문이 실행되었습니다.\n",
    "# finally 구문이 실행되었습니다."
   ]
  },
  {
   "cell_type": "code",
   "execution_count": 16,
   "metadata": {},
   "outputs": [],
   "source": [
    "# 함수를 선언합니다.\n",
    "def write_text_file(filename, text):\n",
    "    # try except 구문을 사용합니다.\n",
    "    try:\n",
    "        # 파일을 엽니다.\n",
    "        file = open(filename, \"w\")\n",
    "        # 여러 가지 처리를 수행합니다.\n",
    "        return\n",
    "        # 파일에 텍스트를 입력합니다.\n",
    "        file.write(text)\n",
    "    except Exception as e:\n",
    "        print(e)\n",
    "    finally:\n",
    "        # 파일을 닫습니다.\n",
    "        file.close()\n",
    "\n",
    "# 함수를 호출합니다.\n",
    "write_text_file(\"test.txt\", \"안녕하세요!\")\n"
   ]
  },
  {
   "cell_type": "markdown",
   "metadata": {},
   "source": [
    "반복문에서 break로 빠져나갈 때로 finally 구문은 무조건 실행이 됨"
   ]
  },
  {
   "cell_type": "code",
   "execution_count": 17,
   "metadata": {},
   "outputs": [
    {
     "name": "stdout",
     "output_type": "stream",
     "text": [
      "프로그램이 시작되었습니다.\n",
      "try 구문이 실행되었습니다.\n",
      "finally 구문이 실행되었습니다.\n",
      "프로그램이 종료되었습니다.\n"
     ]
    }
   ],
   "source": [
    "print(\"프로그램이 시작되었습니다.\")\n",
    "\n",
    "while True:\n",
    "    try:\n",
    "        print(\"try 구문이 실행되었습니다.\")\n",
    "        break\n",
    "        print(\"try 구문의 break 키워드 뒤입니다.\")\n",
    "    except:\n",
    "        print(\"except 구문이 실행되었습니다.\")\n",
    "    finally:\n",
    "        print(\"finally 구문이 실행되었습니다.\")\n",
    "    print(\"while 반복문의 마지막 줄입니다.\")\n",
    "print(\"프로그램이 종료되었습니다.\")\n",
    "\n",
    "\n",
    "# 프로그램이 시작되었습니다.\n",
    "# try 구문이 실행되었습니다.\n",
    "# finally 구문이 실행되었습니다.\n",
    "# 프로그램이 종료되었습니다"
   ]
  },
  {
   "cell_type": "markdown",
   "metadata": {},
   "source": [
    "예외객체  \n",
    "try:  \n",
    "    예외가 발생할 가능성이 있는 구문  \n",
    "except 예외의 종류 as 예외 객체를 활용할 변수 이름:  \n",
    "    예외가 발생했을 때 실행할 구문    "
   ]
  },
  {
   "cell_type": "markdown",
   "metadata": {},
   "source": [
    "예외의 종류가 모를때는, 모든 예외의 어머니인 exception을 사용"
   ]
  },
  {
   "cell_type": "code",
   "execution_count": 19,
   "metadata": {},
   "outputs": [
    {
     "name": "stdout",
     "output_type": "stream",
     "text": [
      "정수 입력> 유느\n",
      "type(exception): <class 'ValueError'>\n",
      "exception: invalid literal for int() with base 10: '유느'\n"
     ]
    }
   ],
   "source": [
    "# try except 구문으로 예외를 처리합니다.\n",
    "try:\n",
    "    # 숫자로 변환합니다.\n",
    "    number_input_a = int(input(\"정수 입력> \"))\n",
    "    # 출력합니다.\n",
    "    print(\"원의 반지름:\", number_input_a)\n",
    "    print(\"원의 둘레:\", 2 * 3.14 * number_input_a)\n",
    "    print(\"원의 넓이:\", 3.14 * number_input_a * number_input_a)\n",
    "except Exception as exception:\n",
    "    # 예외 객체를 출력해봅니다.\n",
    "    print(\"type(exception):\", type(exception))\n",
    "    print(\"exception:\", exception)\n",
    "\n",
    "    \n",
    "# 정수 입력> 유느\n",
    "# type(exception): <class 'ValueError'>\n",
    "# exception: invalid literal for int() with base 10: '유느'"
   ]
  },
  {
   "cell_type": "markdown",
   "metadata": {},
   "source": [
    "예외 구분하기 \n",
    "예외 객체를 사용하면 except 구문을 if 조건문 처럼 사용해서 예외를 구분할 수 있음"
   ]
  },
  {
   "cell_type": "code",
   "execution_count": 29,
   "metadata": {},
   "outputs": [
    {
     "name": "stdout",
     "output_type": "stream",
     "text": [
      "정수 입력> 3\n",
      "3번째 요소: 72\n"
     ]
    }
   ],
   "source": [
    "# 여러가지 예외가 발생할 수 있는 코드 \n",
    "\n",
    "# 변수를 선언합니다.\n",
    "list_number = [52, 273, 32, 72, 100]\n",
    "\n",
    "# try except 구문으로 예외를 처리합니다.\n",
    "try:\n",
    "    # 숫자를 입력받습니다.\n",
    "    number_input = int(input(\"정수 입력> \"))\n",
    "    # 리스트의 요소를 출력합니다.\n",
    "    print(\"{}번째 요소: {}\".format(number_input, list_number[number_input]))\n",
    "except Exception as exception:\n",
    "    # 예외 객체를 출력해봅니다.\n",
    "    print(\"type(exception):\", type(exception))\n",
    "    print(\"exception:\", exception)\n",
    "\n",
    "# 발생가능 한 경우\n",
    "# 1) 정상적으로 정수를 입력한 경우 -> 예외 발생 안함\n",
    "# 2) 정수로 변환될 수없는 값 입력 => 문자를 입력시, valueerror 발생\n",
    "# 3) 정수를 입력하지만, 리스트의 길이를 넘는 인덱스를 입력한 경우 => indexerror 발생"
   ]
  },
  {
   "cell_type": "markdown",
   "metadata": {},
   "source": [
    "예외 구분하기   \n",
    "try:  \n",
    "    예외가 발생할 가능성이 있는 구문  \n",
    "except 예외의 종류 A:  \n",
    "    예외 A가 발생했을 때 실행할 구문  \n",
    "except 예외의 종류 B:  \n",
    "    예외 B가 발생했을 때 실행할 구문  \n",
    "except 예외의 종류 C:  \n",
    "    예외 C가 발생했을 때 실행할 구문  "
   ]
  },
  {
   "cell_type": "code",
   "execution_count": 31,
   "metadata": {},
   "outputs": [
    {
     "name": "stdout",
     "output_type": "stream",
     "text": [
      "정수 입력> 50\n",
      "리스트의 인덱스를 벗어났어요!\n"
     ]
    }
   ],
   "source": [
    "# 변수를 선언합니다.\n",
    "list_number = [52, 273, 32, 72, 100]\n",
    "\n",
    "# try except 구문으로 예외를 처리합니다.\n",
    "try:\n",
    "    # 숫자를 입력받습니다.\n",
    "    number_input = int(input(\"정수 입력> \"))\n",
    "    # 리스트의 요소를 출력합니다.\n",
    "    print(\"{}번째 요소: {}\".format(number_input, list_number[number_input]))\n",
    "except ValueError:\n",
    "    # ValueError가 발생하는 경우\n",
    "    print(\"정수를 입력해 주세요!\")\n",
    "except IndexError:\n",
    "    # IndexError가 발생하는 경우\n",
    "    print(\"리스트의 인덱스를 벗어났어요!\")\n",
    "    \n",
    "# 정수 입력> 50\n",
    "# 리스트의 인덱스를 벗어났어요!"
   ]
  },
  {
   "cell_type": "markdown",
   "metadata": {},
   "source": [
    "예외 구분 구문과 예외 객체  \n",
    "예외를 구분할 때 각각의 except 구문 뒤에 예외 객체를 붙여 활용   \n",
    "as 키워드를 사용   "
   ]
  },
  {
   "cell_type": "code",
   "execution_count": 32,
   "metadata": {},
   "outputs": [
    {
     "name": "stdout",
     "output_type": "stream",
     "text": [
      "정수 입력> 55\n",
      "리스트의 인덱스를 벗어났어요!\n",
      "exception: list index out of range\n"
     ]
    }
   ],
   "source": [
    "# 변수를 선언합니다.\n",
    "list_number = [52, 273, 32, 72, 100]\n",
    "\n",
    "# try except 구문으로 예외를 처리합니다.\n",
    "try:\n",
    "    # 숫자를 입력 받습니다.\n",
    "    number_input = int(input(\"정수 입력> \"))\n",
    "    # 리스트의 요소를 출력합니다.\n",
    "    print(\"{}번째 요소: {}\".format(number_input, list_number[number_input]))\n",
    "except ValueError as exception:\n",
    "    # ValueError가 발생하는 경우\n",
    "    print(\"정수를 입력해 주세요!\")\n",
    "    print(\"exception:\", exception)\n",
    "except IndexError as exception:\n",
    "    # IndexError가 발생하는 경우\n",
    "    print(\"리스트의 인덱스를 벗어났어요!\")\n",
    "    print(\"exception:\", exception)\n",
    "    \n",
    "# 정수 입력> 55\n",
    "# 리스트의 인덱스를 벗어났어요!\n",
    "# exception: list index out of range\n"
   ]
  },
  {
   "cell_type": "markdown",
   "metadata": {},
   "source": [
    "모든 예외 잡기 \n",
    "- 예외 처리를 했지만 예외를 못 잡는 경우 "
   ]
  },
  {
   "cell_type": "code",
   "execution_count": 34,
   "metadata": {
    "scrolled": true
   },
   "outputs": [
    {
     "name": "stdout",
     "output_type": "stream",
     "text": [
      "정수 입력> 1\n",
      "1번째 요소: 273\n"
     ]
    },
    {
     "ename": "NameError",
     "evalue": "name '예외' is not defined",
     "output_type": "error",
     "traceback": [
      "\u001b[1;31m---------------------------------------------------------------------------\u001b[0m",
      "\u001b[1;31mNameError\u001b[0m                                 Traceback (most recent call last)",
      "\u001b[1;32m<ipython-input-34-d10949ea44e3>\u001b[0m in \u001b[0;36m<module>\u001b[1;34m\u001b[0m\n\u001b[0;32m      8\u001b[0m     \u001b[1;31m# 리스트의 요소를 출력합니다.\u001b[0m\u001b[1;33m\u001b[0m\u001b[1;33m\u001b[0m\u001b[0m\n\u001b[0;32m      9\u001b[0m     \u001b[0mprint\u001b[0m\u001b[1;33m(\u001b[0m\u001b[1;34m\"{}번째 요소: {}\"\u001b[0m\u001b[1;33m.\u001b[0m\u001b[0mformat\u001b[0m\u001b[1;33m(\u001b[0m\u001b[0mnumber_input\u001b[0m\u001b[1;33m,\u001b[0m \u001b[0mlist_number\u001b[0m\u001b[1;33m[\u001b[0m\u001b[0mnumber_input\u001b[0m\u001b[1;33m]\u001b[0m\u001b[1;33m)\u001b[0m\u001b[1;33m)\u001b[0m\u001b[1;33m\u001b[0m\u001b[0m\n\u001b[1;32m---> 10\u001b[1;33m     \u001b[0m예외\u001b[0m\u001b[1;33m.\u001b[0m\u001b[0m발생해주세요\u001b[0m\u001b[1;33m(\u001b[0m\u001b[1;33m)\u001b[0m\u001b[1;33m\u001b[0m\u001b[0m\n\u001b[0m\u001b[0;32m     11\u001b[0m \u001b[1;32mexcept\u001b[0m \u001b[0mValueError\u001b[0m \u001b[1;32mas\u001b[0m \u001b[0mexception\u001b[0m\u001b[1;33m:\u001b[0m\u001b[1;33m\u001b[0m\u001b[0m\n\u001b[0;32m     12\u001b[0m     \u001b[1;31m# ValueError가 발생하는 경우\u001b[0m\u001b[1;33m\u001b[0m\u001b[1;33m\u001b[0m\u001b[0m\n",
      "\u001b[1;31mNameError\u001b[0m: name '예외' is not defined"
     ]
    }
   ],
   "source": [
    "# 예외를 못 잡는 경우\n",
    "# 변수를 선언합니다.\n",
    "list_number = [52, 273, 32, 72, 100]\n",
    "\n",
    "# try except 구문으로 예외를 처리합니다.\n",
    "try:\n",
    "    # 숫자를 입력받습니다.\n",
    "    number_input = int(input(\"정수 입력> \"))\n",
    "    # 리스트의 요소를 출력합니다.\n",
    "    print(\"{}번째 요소: {}\".format(number_input, list_number[number_input]))\n",
    "    예외.발생해주세요()\n",
    "except ValueError as exception:\n",
    "    # ValueError가 발생하는 경우\n",
    "    print(\"정수를 입력해 주세요!\")\n",
    "    print(type(exception), exception)\n",
    "except IndexError as exception:\n",
    "    # IndexError가 발생하는 경우\n",
    "    print(\"리스트의 인덱스를 벗어났어요!\")\n",
    "    print(type(exception), exception)\n",
    "    \n",
    "# 정수 입력> 1\n",
    "# 1번째 요소: 273\n",
    "# NameError: name '예외' is not defined 발생"
   ]
  },
  {
   "cell_type": "code",
   "execution_count": 35,
   "metadata": {},
   "outputs": [
    {
     "name": "stdout",
     "output_type": "stream",
     "text": [
      "정수 입력> 1\n",
      "1번째 요소: 273\n",
      "미리 파악하지 못한 예외가 발생했습니다.\n",
      "<class 'NameError'> name '예외' is not defined\n"
     ]
    }
   ],
   "source": [
    "# 모든 예외 잡기 \n",
    "# 변수를 선언합니다.\n",
    "list_number = [52, 273, 32, 72, 100]\n",
    "\n",
    "# try except 구문으로 예외를 처리합니다.\n",
    "try:\n",
    "    # 숫자를 입력 받습니다.\n",
    "    number_input = int(input(\"정수 입력> \"))\n",
    "    # 리스트의 요소를 출력합니다.\n",
    "    print(\"{}번째 요소: {}\".format(number_input, list_number[number_input]))\n",
    "    예외.발생해주세요()\n",
    "except ValueError as exception:\n",
    "    # ValueError가 발생하는 경우\n",
    "    print(\"정수를 입력해 주세요!\")\n",
    "    print(type(exception), exception)\n",
    "except IndexError as exception:\n",
    "    # IndexError가 발생하는 경우\n",
    "    print(\"리스트의 인덱스를 벗어났어요!\")\n",
    "    print(type(exception), exception)\n",
    "except Exception as exception:\n",
    "    # 이외의 예외가 발생한 경우\n",
    "    print(\"미리 파악하지 못한 예외가 발생했습니다.\")\n",
    "    print(type(exception), exception)\n",
    "\n",
    "# 정수 입력> 1\n",
    "# 1번째 요소: 273\n",
    "# 미리 파악하지 못한 예외가 발생했습니다.\n",
    "# <class 'NameError'> name '예외' is not defined"
   ]
  },
  {
   "cell_type": "markdown",
   "metadata": {},
   "source": [
    "raise 구문   \n",
    "프로그램이 강제 종료 되는 것을 막기 위해서 예외는 꼭 처리해야함   \n",
    "아직 구현하지 않은 부분이니까 확실하게 문제가 생기게 만들자 또는 이 부분을 그냥 넘어가면 나중에 큰 문제가 발생하니까 여기에서 강제 종료시키자 라는 경우가 있음    \n",
    "이때, 아직 구현되지 않은 부분이므로 일부러 예외를 발생시켜 프로그램을 죽게 만들어 잊지 않도록 하는 키워드가 raise 키워드임     \n",
    "raise 예외 객체 "
   ]
  },
  {
   "cell_type": "code",
   "execution_count": 38,
   "metadata": {},
   "outputs": [
    {
     "name": "stdout",
     "output_type": "stream",
     "text": [
      "정수입력 > 9\n"
     ]
    },
    {
     "ename": "NotImplementedError",
     "evalue": "",
     "output_type": "error",
     "traceback": [
      "\u001b[1;31m---------------------------------------------------------------------------\u001b[0m",
      "\u001b[1;31mNotImplementedError\u001b[0m                       Traceback (most recent call last)",
      "\u001b[1;32m<ipython-input-38-ab7e73f16207>\u001b[0m in \u001b[0;36m<module>\u001b[1;34m\u001b[0m\n\u001b[0;32m      6\u001b[0m \u001b[1;32mif\u001b[0m \u001b[0mnumber\u001b[0m \u001b[1;33m>\u001b[0m \u001b[1;36m0\u001b[0m\u001b[1;33m:\u001b[0m\u001b[1;33m\u001b[0m\u001b[0m\n\u001b[0;32m      7\u001b[0m     \u001b[1;31m# 양수일 때 : 아직 미구현 상태\u001b[0m\u001b[1;33m\u001b[0m\u001b[1;33m\u001b[0m\u001b[0m\n\u001b[1;32m----> 8\u001b[1;33m     \u001b[1;32mraise\u001b[0m \u001b[0mNotImplementedError\u001b[0m\u001b[1;33m\u001b[0m\u001b[0m\n\u001b[0m\u001b[0;32m      9\u001b[0m \u001b[1;32melse\u001b[0m\u001b[1;33m:\u001b[0m\u001b[1;33m\u001b[0m\u001b[0m\n\u001b[0;32m     10\u001b[0m     \u001b[1;31m# 음수일때 : 아직 미구현 상태\u001b[0m\u001b[1;33m\u001b[0m\u001b[1;33m\u001b[0m\u001b[0m\n",
      "\u001b[1;31mNotImplementedError\u001b[0m: "
     ]
    }
   ],
   "source": [
    "# 입력 받기 \n",
    "number = input('정수입력 > ')\n",
    "number = int(number)\n",
    "\n",
    "# 조건문 쓰기\n",
    "if number > 0:\n",
    "    # 양수일 때 : 아직 미구현 상태\n",
    "    raise NotImplementedError\n",
    "else:\n",
    "    # 음수일때 : 아직 미구현 상태\n",
    "    raise NotImplementedError\n",
    "\n",
    "# 정수입력 > 9\n",
    "# NotImplementedError: 에러 발생"
   ]
  },
  {
   "cell_type": "code",
   "execution_count": null,
   "metadata": {},
   "outputs": [],
   "source": []
  }
 ],
 "metadata": {
  "kernelspec": {
   "display_name": "Python 3",
   "language": "python",
   "name": "python3"
  },
  "language_info": {
   "codemirror_mode": {
    "name": "ipython",
    "version": 3
   },
   "file_extension": ".py",
   "mimetype": "text/x-python",
   "name": "python",
   "nbconvert_exporter": "python",
   "pygments_lexer": "ipython3",
   "version": "3.6.5"
  }
 },
 "nbformat": 4,
 "nbformat_minor": 4
}
