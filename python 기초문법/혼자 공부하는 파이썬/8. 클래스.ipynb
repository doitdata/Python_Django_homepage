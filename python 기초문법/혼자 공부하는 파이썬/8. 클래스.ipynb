{
 "cells": [
  {
   "cell_type": "markdown",
   "metadata": {},
   "source": [
    "### 객체\n",
    "여러가지 속성을 가질 수 있는 대상, 현재 코드에서는 학생이 객체임"
   ]
  },
  {
   "cell_type": "code",
   "execution_count": 1,
   "metadata": {},
   "outputs": [
    {
     "name": "stdout",
     "output_type": "stream",
     "text": [
      "이름\t총점\t평균\n",
      "윤인성\t368\t92.0\n",
      "연하진\t384\t96.0\n",
      "구지연\t356\t89.0\n",
      "나선주\t378\t94.5\n",
      "윤아린\t389\t97.25\n",
      "윤명월\t336\t84.0\n"
     ]
    }
   ],
   "source": [
    "# 딕셔너리로 객체 만들기 \n",
    "# 학생 리스트를 선언합니다.\n",
    "students = [\n",
    "    { \"name\": \"윤인성\", \"korean\": 87, \"math\": 98, \"english\": 88, \"science\": 95 },\n",
    "    { \"name\": \"연하진\", \"korean\": 92, \"math\": 98, \"english\": 96, \"science\": 98 },\n",
    "    { \"name\": \"구지연\", \"korean\": 76, \"math\": 96, \"english\": 94, \"science\": 90 },\n",
    "    { \"name\": \"나선주\", \"korean\": 98, \"math\": 92, \"english\": 96, \"science\": 92 },\n",
    "    { \"name\": \"윤아린\", \"korean\": 95, \"math\": 98, \"english\": 98, \"science\": 98 },\n",
    "    { \"name\": \"윤명월\", \"korean\": 64, \"math\": 88, \"english\": 92, \"science\": 92 }\n",
    "]\n",
    "\n",
    "# 학생을 한 명씩 반복합니다.\n",
    "print(\"이름\", \"총점\", \"평균\", sep=\"\\t\")\n",
    "for student in students:\n",
    "    # 점수의 총합과 평균을 구합니다.\n",
    "    score_sum = student[\"korean\"] + student[\"math\"] +\\\n",
    "        student[\"english\"] + student[\"science\"]\n",
    "    score_average = score_sum / 4\n",
    "    # 출력합니다.\n",
    "    print(student[\"name\"], score_sum, score_average, sep=\"\\t\")\n"
   ]
  },
  {
   "cell_type": "code",
   "execution_count": 2,
   "metadata": {},
   "outputs": [
    {
     "name": "stdout",
     "output_type": "stream",
     "text": [
      "이름\t총점\t평균\n",
      "윤인성\t368\t92.0\n",
      "연하진\t384\t96.0\n",
      "구지연\t356\t89.0\n",
      "나선주\t378\t94.5\n",
      "윤아린\t389\t97.25\n",
      "윤명월\t336\t84.0\n"
     ]
    }
   ],
   "source": [
    "# 객체를 만드는 함수\n",
    "# 딕셔너리를 리턴하는 함수를 선언합니다.\n",
    "def create_student(name, korean, math, english, science):\n",
    "    return {\n",
    "        \"name\": name,\n",
    "        \"korean\": korean,\n",
    "        \"math\": math,\n",
    "        \"english\": english,\n",
    "        \"science\": science\n",
    "    }\n",
    "\n",
    "# 학생 리스트를 선언합니다.\n",
    "# 위에서 만든 함수를 이용해서 딕셔너리로 만들값을 리스트에 다시 담음\n",
    "students = [\n",
    "    create_student(\"윤인성\", 87, 98, 88, 95),  \n",
    "    create_student(\"연하진\", 92, 98, 96, 98),\n",
    "    create_student(\"구지연\", 76, 96, 94, 90),\n",
    "    create_student(\"나선주\", 98, 92, 96, 92),\n",
    "    create_student(\"윤아린\", 95, 98, 98, 98),\n",
    "    create_student(\"윤명월\", 64, 88, 92, 92)\n",
    "]\n",
    "\n",
    "# 학생을 한 명씩 반복합니다.\n",
    "print(\"이름\", \"총점\", \"평균\", sep=\"\\t\")\n",
    "for student in students:\n",
    "    # 점수의 총합과 평균을 구합니다.\n",
    "    score_sum = student[\"korean\"] + student[\"math\"] +\\\n",
    "        student[\"english\"] + student[\"science\"]\n",
    "    score_average = score_sum / 4\n",
    "    # 출력합니다.\n",
    "    print(student[\"name\"], score_sum, score_average, sep=\"\\t\")\n"
   ]
  },
  {
   "cell_type": "code",
   "execution_count": 3,
   "metadata": {},
   "outputs": [
    {
     "name": "stdout",
     "output_type": "stream",
     "text": [
      "이름\t총점\t평균\n",
      "윤인성\t368\t92.0\n",
      "연하진\t384\t96.0\n",
      "구지연\t356\t89.0\n",
      "나선주\t378\t94.5\n",
      "윤아린\t389\t97.25\n",
      "윤명월\t336\t84.0\n"
     ]
    }
   ],
   "source": [
    "# 객체를 처리하는 함수 \n",
    "# 딕셔너리를 리턴하는 함수를 선언합니다.\n",
    "def create_student(name, korean, math, english, science):\n",
    "    return {\n",
    "        \"name\": name,\n",
    "        \"korean\": korean,\n",
    "        \"math\": math,\n",
    "        \"english\": english,\n",
    "        \"science\": science\n",
    "    }\n",
    "\n",
    "# 학생을 처리하는 함수를 선언합니다.\n",
    "def student_get_sum(student):\n",
    "    return student[\"korean\"] + student[\"math\"] +\\\n",
    "        student[\"english\"] + student[\"science\"]\n",
    "\n",
    "def student_get_average(student):\n",
    "    return student_get_sum(student) / 4\n",
    "\n",
    "def student_to_string(student):\n",
    "    return \"{}\\t{}\\t{}\".format(\n",
    "        student[\"name\"],\n",
    "        student_get_sum(student), # 위에서 만든 함수를 사용 \n",
    "        student_get_average(student)) # # 위에서 만든 함수를 사용\n",
    "\n",
    "# 학생 리스트를 선언합니다.\n",
    "students = [\n",
    "    create_student(\"윤인성\", 87, 98, 88, 95),\n",
    "    create_student(\"연하진\", 92, 98, 96, 98),\n",
    "    create_student(\"구지연\", 76, 96, 94, 90),\n",
    "    create_student(\"나선주\", 98, 92, 96, 92),\n",
    "    create_student(\"윤아린\", 95, 98, 98, 98),\n",
    "    create_student(\"윤명월\", 64, 88, 92, 92)\n",
    "]\n",
    "\n",
    "# 학생을 한 명씩 반복합니다.\n",
    "print(\"이름\", \"총점\", \"평균\", sep=\"\\t\")\n",
    "for student in students:\n",
    "    # 출력합니다.\n",
    "    print(student_to_string(student))\n"
   ]
  },
  {
   "cell_type": "markdown",
   "metadata": {},
   "source": [
    "### 클래스 선언하기 \n",
    "class 클래스 이름 :  \n",
    "    클래스 내용 "
   ]
  },
  {
   "cell_type": "markdown",
   "metadata": {},
   "source": [
    "클래스는 클래스 이름과 같은 함수(생성자)를 사용해서 객체를 만든다.   \n",
    "인스턴스 이름(변수이름) = 클래스이름() # 생성자 함수라고 부름    \n",
    "이러한 클래스를 기반으로 만들어진 객체를 인스턴스라고 부른다. "
   ]
  },
  {
   "cell_type": "code",
   "execution_count": 4,
   "metadata": {},
   "outputs": [],
   "source": [
    "# 클래스를 선언 \n",
    "class Student:\n",
    "    pass\n",
    "\n",
    "# 학생을 선언\n",
    "student = Student()\n",
    "\n",
    "# 학생 리스트를 선언\n",
    "students = [\n",
    "    Student(),\n",
    "    Student(),\n",
    "    Student(), \n",
    "    Student(),\n",
    "    Student(),\n",
    "    Student(),\n",
    "]"
   ]
  },
  {
   "cell_type": "markdown",
   "metadata": {},
   "source": [
    "### 생성자 \n",
    "클래스 이름과 같은 함수를 생성자라고 함   \n",
    "클래스 내부에서 __init__라는 함수를 만들면 객체를 생성할 때 처리할 내용을 작성할 수 있음  "
   ]
  },
  {
   "cell_type": "markdown",
   "metadata": {},
   "source": [
    "클래스 내부의 함수는 첫번째 매개변수로 반드시 self를 입력해야합니다. 이때, self는 자기자신을 나타내는 딕셔너리라고 생각을 하면 됩니다. 다만, self가 가지고 있는 속성과 기능에 접근할 때는 self.<식별자> 형태로 접근 "
   ]
  },
  {
   "cell_type": "markdown",
   "metadata": {},
   "source": [
    "class 클래스이름:   \n",
    "    def __init__(self, 추가적인 매개변수):   \n",
    "        pass   "
   ]
  },
  {
   "cell_type": "code",
   "execution_count": 11,
   "metadata": {},
   "outputs": [
    {
     "name": "stdout",
     "output_type": "stream",
     "text": [
      "('윤인성',)\n",
      "(87,)\n",
      "(98,)\n",
      "(88,)\n",
      "95\n"
     ]
    }
   ],
   "source": [
    "# 클래스를 선언 \n",
    "class Student:\n",
    "    def __init__(self, name, korean, math, english, science):\n",
    "        self.name = name, \n",
    "        self.korean = korean,\n",
    "        self.math = math,\n",
    "        self.english = english,\n",
    "        self.science = science\n",
    "        \n",
    "# 학생 리스트를 선언\n",
    "students = [\n",
    "    Student(\"윤인성\", 87, 98, 88, 95),\n",
    "    Student(\"연하진\", 92, 98, 96, 98),\n",
    "    Student(\"구지연\", 76, 96, 94, 90),\n",
    "    Student(\"나선주\", 98, 92, 96, 92),\n",
    "    Student(\"윤아린\", 95, 98, 98, 98),\n",
    "    Student(\"윤명월\", 64, 88, 92, 92)   \n",
    "]\n",
    "\n",
    "# Student 인스턴스의 속성에 접근을 하는 방법\n",
    "print(students[0].name)\n",
    "print(students[0].korean)\n",
    "print(students[0].math)\n",
    "print(students[0].english)\n",
    "print(students[0].science)"
   ]
  },
  {
   "cell_type": "markdown",
   "metadata": {},
   "source": [
    "### 메소드\n",
    "클래스가 가지고 있는 함수   \n",
    "생성자를 선언하는 방법과 똑같으며, 첫번째 매개변수로 self를 넣어야한다는 것 잊지말기 "
   ]
  },
  {
   "cell_type": "markdown",
   "metadata": {},
   "source": [
    "class 클래스이름:   \n",
    "    def 메소드이름(self, 추가적인 매개변수):   \n",
    "        pass   "
   ]
  },
  {
   "cell_type": "code",
   "execution_count": 12,
   "metadata": {},
   "outputs": [
    {
     "name": "stdout",
     "output_type": "stream",
     "text": [
      "이름\t총점\t평균\n",
      "윤인성\t368\t92.0\n",
      "연하진\t384\t96.0\n",
      "구지연\t356\t89.0\n",
      "나선주\t378\t94.5\n",
      "윤아린\t389\t97.25\n",
      "윤명월\t336\t84.0\n"
     ]
    }
   ],
   "source": [
    "# 클래스를 선언합니다.\n",
    "class Student:\n",
    "    def __init__(self, name, korean, math, english, science):\n",
    "        self.name = name\n",
    "        self.korean = korean\n",
    "        self.math = math\n",
    "        self.english = english\n",
    "        self.science = science\n",
    "\n",
    "    def get_sum(self):\n",
    "        return self.korean + self.math +\\\n",
    "            self.english + self.science\n",
    "\n",
    "    def get_average(self):\n",
    "        return self.get_sum() / 4\n",
    "\n",
    "    def to_string(self):\n",
    "        return \"{}\\t{}\\t{}\".format(\\\n",
    "            self.name,\\\n",
    "            self.get_sum(),\\\n",
    "            self.get_average())\n",
    "\n",
    "# 학생 리스트를 선언합니다.\n",
    "students = [\n",
    "    Student(\"윤인성\", 87, 98, 88, 95),\n",
    "    Student(\"연하진\", 92, 98, 96, 98),\n",
    "    Student(\"구지연\", 76, 96, 94, 90),\n",
    "    Student(\"나선주\", 98, 92, 96, 92),\n",
    "    Student(\"윤아린\", 95, 98, 98, 98),\n",
    "    Student(\"윤명월\", 64, 88, 92, 92)\n",
    "]\n",
    "\n",
    "# 학생을 한 명씩 반복합니다.\n",
    "print(\"이름\", \"총점\", \"평균\", sep=\"\\t\")\n",
    "for student in students:\n",
    "    # 출력합니다.\n",
    "    print(student.to_string())\n",
    "    \n",
    "    \n",
    "# 이름\t총점\t평균\n",
    "# 윤인성\t368\t92.0\n",
    "# 연하진\t384\t96.0\n",
    "# 구지연\t356\t89.0\n",
    "# 나선주\t378\t94.5\n",
    "# 윤아린\t389\t97.25\n",
    "# 윤명월\t336\t84.0\n",
    "​\n"
   ]
  },
  {
   "cell_type": "markdown",
   "metadata": {},
   "source": [
    "### instance() 함수\n",
    "상속 관계에 따라서 객체가 어떤 클래스를 기반으로 만들었는지 확인할 수 있게 함  \n",
    "isinstance(인스턴스, 클래스) "
   ]
  },
  {
   "cell_type": "code",
   "execution_count": 15,
   "metadata": {},
   "outputs": [
    {
     "name": "stdout",
     "output_type": "stream",
     "text": [
      "isinstance(student, Student):  True\n"
     ]
    }
   ],
   "source": [
    "# 클래스를 선언 \n",
    "class Student:\n",
    "    def __init__(self):\n",
    "        pass\n",
    "\n",
    "# 힉생을 선언 \n",
    "student = Student()\n",
    "\n",
    "# 인스턴스 확인하기 \n",
    "print(\"isinstance(student, Student): \", isinstance(student, Student))"
   ]
  },
  {
   "cell_type": "code",
   "execution_count": 16,
   "metadata": {},
   "outputs": [
    {
     "name": "stdout",
     "output_type": "stream",
     "text": [
      "공부를 합니다.\n",
      "공부를 합니다.\n",
      "학생을 가르칩니다.\n",
      "공부를 합니다.\n",
      "공부를 합니다.\n"
     ]
    }
   ],
   "source": [
    "# 학생 클래스를 선언합니다.\n",
    "class Student:\n",
    "    def study(self):\n",
    "        print(\"공부를 합니다.\")\n",
    "\n",
    "# 선생님 클래스를 선언합니다.\n",
    "class Teacher:\n",
    "    def teach(self):\n",
    "        print(\"학생을 가르칩니다.\")\n",
    "\n",
    "# 교실 내부의 객체 리스트를 생성합니다.\n",
    "classroom = [Student(), Student(), Teacher(), Student(), Student()]\n",
    "\n",
    "# 반복을 적용해서 적절한 함수를 호출하게 합니다.\n",
    "for person in classroom:\n",
    "    if isinstance(person, Student):\n",
    "        person.study()\n",
    "    elif isinstance(person, Teacher):\n",
    "        person.teach()\n",
    " \n"
   ]
  },
  {
   "cell_type": "markdown",
   "metadata": {},
   "source": [
    "### 특수한 이름의 메소드\n",
    "파이썬이 클래스를 사용할 때 제공해 주는 보조기능     \n",
    "__이름__() 형태로 되어 있음  "
   ]
  },
  {
   "cell_type": "markdown",
   "metadata": {},
   "source": [
    "__str__() 함수"
   ]
  },
  {
   "cell_type": "code",
   "execution_count": 17,
   "metadata": {},
   "outputs": [
    {
     "name": "stdout",
     "output_type": "stream",
     "text": [
      "이름\t총점\t평균\n",
      "윤인성\t368\t92.0\n",
      "연하진\t384\t96.0\n",
      "구지연\t356\t89.0\n",
      "나선주\t378\t94.5\n",
      "윤아린\t389\t97.25\n",
      "윤명월\t336\t84.0\n"
     ]
    }
   ],
   "source": [
    "# 클래스를 선언합니다.\n",
    "class Student:\n",
    "    def __init__(self, name, korean, math, english, science):\n",
    "        self.name = name\n",
    "        self.korean = korean\n",
    "        self.math = math\n",
    "        self.english = english\n",
    "        self.science = science\n",
    "\n",
    "    def get_sum(self):\n",
    "        return self.korean + self.math +\\\n",
    "            self.english + self.science\n",
    "\n",
    "    def get_average(self):\n",
    "        return self.get_sum() / 4\n",
    "\n",
    "    def __str__(self):\n",
    "        return \"{}\\t{}\\t{}\".format(\n",
    "            self.name,\n",
    "            self.get_sum(),\n",
    "            self.get_average()) \n",
    "\n",
    "# 학생 리스트를 선언합니다.\n",
    "students = [\n",
    "    Student(\"윤인성\", 87, 98, 88, 95),\n",
    "    Student(\"연하진\", 92, 98, 96, 98),\n",
    "    Student(\"구지연\", 76, 96, 94, 90),\n",
    "    Student(\"나선주\", 98, 92, 96, 92),\n",
    "    Student(\"윤아린\", 95, 98, 98, 98),\n",
    "    Student(\"윤명월\", 64, 88, 92, 92)\n",
    "]\n",
    "\n",
    "# 출력합니다.\n",
    "print(\"이름\", \"총점\", \"평균\", sep=\"\\t\")\n",
    "for student in students:\n",
    "    print(str(student)) # str() 함수의 매개변수로 넣으면 student의 __str__() 함수가 호출\n"
   ]
  },
  {
   "cell_type": "markdown",
   "metadata": {},
   "source": [
    "    이름  영어           설명     \n",
    "    eq    equal          같다  \n",
    "    ne    not equal      다르다  \n",
    "    gt    greater than   크다   \n",
    "    ge    greater than or equal  크거나 같다\n",
    "    lt    less than      작다\n",
    "    le    less than or equal  작거나 같다  "
   ]
  },
  {
   "cell_type": "code",
   "execution_count": 18,
   "metadata": {},
   "outputs": [
    {
     "name": "stdout",
     "output_type": "stream",
     "text": [
      "student_a == student_b =  False\n",
      "student_a != student_b =  True\n",
      "student_a >  student_b =  False\n",
      "student_a >= student_b =  False\n",
      "student_a <  student_b =  True\n",
      "student_a <= student_b =  True\n"
     ]
    }
   ],
   "source": [
    "# 클래스를 선언합니다.\n",
    "class Student:\n",
    "    def __init__(self, name, korean, math, english, science):\n",
    "        self.name = name\n",
    "        self.korean = korean\n",
    "        self.math = math\n",
    "        self.english = english\n",
    "        self.science = science\n",
    "\n",
    "    def get_sum(self):\n",
    "        return self.korean + self.math +\\\n",
    "            self.english + self.science\n",
    "\n",
    "    def get_average(self):\n",
    "        return self.get_sum() / 4\n",
    "\n",
    "    def __str__(self, student):\n",
    "        return \"{}\\t{}\\t{}\".format(\n",
    "            self.name,\n",
    "            self.get_sum(student),\n",
    "            self.get_average(student))\n",
    "\n",
    "# 특수한 이름의 메소드들을 사용 \n",
    "\n",
    "    def __eq__(self, value): \n",
    "        return self.get_sum() == value.get_sum()\n",
    "    def __ne__(self, value): \n",
    "        return self.get_sum() != value.get_sum()\n",
    "    def __gt__(self, value):\n",
    "        return self.get_sum() > value.get_sum()\n",
    "    def __ge__(self, value):\n",
    "        return self.get_sum() >= value.get_sum()\n",
    "    def __lt__(self, value):\n",
    "        return self.get_sum() < value.get_sum()\n",
    "    def __le____(self, value):\n",
    "        return self.get_sum() <= value.get_sum()\n",
    "\n",
    "# 학생 리스트를 선언합니다.\n",
    "students = [\n",
    "    Student(\"윤인성\", 87, 98, 88, 95),\n",
    "    Student(\"연하진\", 92, 98, 96, 98),\n",
    "    Student(\"구지연\", 76, 96, 94, 90),\n",
    "    Student(\"나선주\", 98, 92, 96, 92),\n",
    "    Student(\"윤아린\", 95, 98, 98, 98),\n",
    "    Student(\"윤명월\", 64, 88, 92, 92)\n",
    "]\n",
    "\n",
    "# 학생을 선언합니다.\n",
    "student_a = Student(\"윤인성\", 87, 98, 88, 95),\n",
    "student_b = Student(\"연하진\", 92, 98, 96, 98),\n",
    "\n",
    "# 출력합니다.\n",
    "print(\"student_a == student_b = \", student_a == student_b)\n",
    "print(\"student_a != student_b = \", student_a != student_b)\n",
    "print(\"student_a >  student_b = \", student_a >  student_b)\n",
    "print(\"student_a >= student_b = \", student_a >= student_b)\n",
    "print(\"student_a <  student_b = \", student_a <  student_b)\n",
    "print(\"student_a <= student_b = \", student_a <= student_b)\n"
   ]
  },
  {
   "cell_type": "markdown",
   "metadata": {},
   "source": [
    "### 클래스 변수와 메소드 "
   ]
  },
  {
   "cell_type": "markdown",
   "metadata": {},
   "source": [
    "클래스가 속성(변수)와 기능(함수)를 가질 수 있음"
   ]
  },
  {
   "cell_type": "markdown",
   "metadata": {},
   "source": [
    "클래스 변수 "
   ]
  },
  {
   "cell_type": "markdown",
   "metadata": {},
   "source": [
    "클래스 변수 만들기   \n",
    "class 클래스 이름:  \n",
    "    클래스 변수 = 값  "
   ]
  },
  {
   "cell_type": "markdown",
   "metadata": {},
   "source": [
    "클래스 변수에 접근하기  \n",
    "클래스 이름.변수이름   "
   ]
  },
  {
   "cell_type": "code",
   "execution_count": 19,
   "metadata": {},
   "outputs": [
    {
     "name": "stdout",
     "output_type": "stream",
     "text": [
      "1번째 학생이 생성되었습니다.\n",
      "2번째 학생이 생성되었습니다.\n",
      "3번째 학생이 생성되었습니다.\n",
      "4번째 학생이 생성되었습니다.\n",
      "5번째 학생이 생성되었습니다.\n",
      "6번째 학생이 생성되었습니다.\n",
      "\n",
      "현재 생성된 총 학생 수는 6명입니다.\n"
     ]
    }
   ],
   "source": [
    "# 클래스를 선언합니다.\n",
    "class Student:\n",
    "    \n",
    "    # 클래스 변수 선언\n",
    "    count = 0 \n",
    "\n",
    "    def __init__(self, name, korean, math, english, science):\n",
    "        # 인스턴스 변수 초기화\n",
    "        self.name = name\n",
    "        self.korean = korean\n",
    "        self.math = math\n",
    "        self.english = english\n",
    "        self.science = science\n",
    "        \n",
    "        # 클래스 변수 설정, 접근하기 \n",
    "        Student.count += 1\n",
    "        print(\"{}번째 학생이 생성되었습니다.\".format(Student.count))\n",
    "    \n",
    "\n",
    "# 학생 리스트를 선언합니다.\n",
    "students = [\n",
    "    Student(\"윤인성\", 87, 98, 88, 95),\n",
    "    Student(\"연하진\", 92, 98, 96, 98),\n",
    "    Student(\"구지연\", 76, 96, 94, 90),\n",
    "    Student(\"나선주\", 98, 92, 96, 92),\n",
    "    Student(\"윤아린\", 95, 98, 98, 98),\n",
    "    Student(\"윤명월\", 64, 88, 92, 92)\n",
    "]\n",
    "\n",
    "# 출력합니다.\n",
    "print()\n",
    "print(\"현재 생성된 총 학생 수는 {}명입니다.\".format(Student.count)) # 클래스 변수 접근하기 \n"
   ]
  },
  {
   "cell_type": "markdown",
   "metadata": {},
   "source": [
    "클래스 함수   \n",
    "일반적인 함수나 클래스함수나 차이 없음. 다만, 클래스가 가진 기능이라고 명시적으로 나타내는 것일 뿐   \n",
    "생성하는 방법음 @를 이용, 데코레이터라고 부름  "
   ]
  },
  {
   "cell_type": "markdown",
   "metadata": {},
   "source": [
    "클래스 함수 만들기 \n",
    "클래스 함수의 첫번째 매개변수에는 클래스 자체가 들어옵니다. 일반적으로 cls(클래스라고 읽음)라는 이름의 변수로 선언    \n",
    "clsss 클래스 이름:   \n",
    "    @classmethod   \n",
    "    def 클래스 함수(cls, 매개변수):   \n",
    "        pass "
   ]
  },
  {
   "cell_type": "markdown",
   "metadata": {},
   "source": [
    "클래스 함수 호출하기   \n",
    "클래스 이름.함수이름(매개변수)  "
   ]
  },
  {
   "cell_type": "code",
   "execution_count": 21,
   "metadata": {},
   "outputs": [
    {
     "name": "stdout",
     "output_type": "stream",
     "text": [
      "------ 학생 목록 ------\n",
      "이름\t총점\t평균\n",
      "윤인성\t368\t92.0\n",
      "연하진\t384\t96.0\n",
      "구지연\t356\t89.0\n",
      "나선주\t378\t94.5\n",
      "윤아린\t389\t97.25\n",
      "윤명월\t336\t84.0\n",
      "김미화\t354\t88.5\n",
      "김연화\t332\t83.0\n",
      "박아현\t372\t93.0\n",
      "서준서\t247\t61.75\n",
      "------- ------- -------\n"
     ]
    }
   ],
   "source": [
    "# 클래스를 선언합니다.\n",
    "class Student:\n",
    "    # 클래스 변수\n",
    "    count = 0\n",
    "    students = []\n",
    "\n",
    "    # 클래스 함수\n",
    "    @classmethod\n",
    "    def print(cls):\n",
    "        print(\"------ 학생 목록 ------\")\n",
    "        print(\"이름\\t총점\\t평균\")\n",
    "        for student in cls.students: # Student.student 라고 해도 상관 없음 \n",
    "            print(str(student))\n",
    "        print(\"------- ------- -------\")\n",
    "\n",
    "    # 인스턴스 함수\n",
    "    def __init__(self, name, korean, math, english, science):\n",
    "        self.name = name\n",
    "        self.korean = korean\n",
    "        self.math = math\n",
    "        self.english = english\n",
    "        self.science = science\n",
    "        Student.count += 1\n",
    "        Student.students.append(self)\n",
    "\n",
    "    def get_sum(self):\n",
    "        return self.korean + self.math +\\\n",
    "            self.english + self.science\n",
    "\n",
    "    def get_average(self):\n",
    "        return self.get_sum() / 4\n",
    "\n",
    "    def __str__(self):\n",
    "        return \"{}\\t{}\\t{}\".format(\\\n",
    "            self.name,\\\n",
    "            self.get_sum(),\\\n",
    "            self.get_average())\n",
    "\n",
    "# 학생 리스트를 선언합니다.\n",
    "Student(\"윤인성\", 87, 98, 88, 95)\n",
    "Student(\"연하진\", 92, 98, 96, 98)\n",
    "Student(\"구지연\", 76, 96, 94, 90)\n",
    "Student(\"나선주\", 98, 92, 96, 92)\n",
    "Student(\"윤아린\", 95, 98, 98, 98)\n",
    "Student(\"윤명월\", 64, 88, 92, 92)\n",
    "Student(\"김미화\", 82, 86, 98, 88)\n",
    "Student(\"김연화\", 88, 74, 78, 92)\n",
    "Student(\"박아현\", 97, 92, 88, 95)\n",
    "Student(\"서준서\", 45, 52, 72, 78)\n",
    "\n",
    "# 현재 생성된 학생을 모두 출력합니다.\n",
    "Student.print()\n"
   ]
  },
  {
   "cell_type": "markdown",
   "metadata": {},
   "source": [
    "### 가비지 컬렉터 \n",
    "더 사용할 가능성이 없는 데이터를 메모리에서 제거하는 역할   \n",
    "여기서 더 사용할 가능성이 없는 데이터한, 변수에 저장되지 않거나, 함수 등에서 나오면서 변수를 활용할 수없게 된 경우 "
   ]
  },
  {
   "cell_type": "code",
   "execution_count": 22,
   "metadata": {},
   "outputs": [
    {
     "name": "stdout",
     "output_type": "stream",
     "text": [
      "A - 생성되었습니다\n",
      "A - 파괴되었습니다\n",
      "B - 생성되었습니다\n",
      "B - 파괴되었습니다\n",
      "C - 생성되었습니다\n"
     ]
    },
    {
     "data": {
      "text/plain": [
       "<__main__.Test at 0x237de908e80>"
      ]
     },
     "execution_count": 22,
     "metadata": {},
     "output_type": "execute_result"
    }
   ],
   "source": [
    "# 변수에 저장하지 않는 경우 \n",
    "\n",
    "class Test:\n",
    "    def __init__(self, name):\n",
    "        self.name = name\n",
    "        print(\"{} - 생성되었습니다\".format(self.name))\n",
    "    def __del__(self):\n",
    "        print(\"{} - 파괴되었습니다\".format(self.name))\n",
    "\n",
    "Test(\"A\")\n",
    "Test(\"B\")\n",
    "Test(\"C\")\n",
    "\n",
    "# A - 생성되었습니다\n",
    "# A - 파괴되었습니다\n",
    "# B - 생성되었습니다\n",
    "# B - 파괴되었습니다\n",
    "# C - 생성되었습니다"
   ]
  },
  {
   "cell_type": "code",
   "execution_count": 23,
   "metadata": {},
   "outputs": [
    {
     "name": "stdout",
     "output_type": "stream",
     "text": [
      "A - 생성되었습니다\n",
      "B - 생성되었습니다\n",
      "C - 생성되었습니다\n"
     ]
    }
   ],
   "source": [
    "# 가비지 컬렉터 : 변수에 저장한 경우\n",
    "\n",
    "class Test:\n",
    "    def __init__(self, name):\n",
    "        self.name = name\n",
    "        print(\"{} - 생성되었습니다\".format(self.name))\n",
    "    def __del__(self):\n",
    "        print(\"{} - 파괴되었습니다\".format(self.name))\n",
    "\t\t\n",
    "a = Test(\"A\")\n",
    "b = Test(\"B\")\n",
    "c = Test(\"C\")\n"
   ]
  },
  {
   "cell_type": "markdown",
   "metadata": {},
   "source": [
    "### 프라이빗 변수와 게터/세터"
   ]
  },
  {
   "cell_type": "code",
   "execution_count": 24,
   "metadata": {},
   "outputs": [
    {
     "name": "stdout",
     "output_type": "stream",
     "text": [
      "원의 둘레: 62.83185307179586\n",
      "원의 넓이: 314.1592653589793\n"
     ]
    }
   ],
   "source": [
    "# 모듈을 가져옵니다.\n",
    "import math\n",
    "\n",
    "# 클래스를 선언합니다.\n",
    "class Circle:\n",
    "    def __init__(self, radius):\n",
    "        self.radius = radius\n",
    "    def get_circumference(self):\n",
    "        return 2 * math.pi * self.radius\n",
    "    def get_area(self):\n",
    "        return math.pi * (self.radius ** 2)\n",
    "\n",
    "# 원의 둘레와 넓이를 구합니다.\n",
    "circle = Circle(10)\n",
    "print(\"원의 둘레:\", circle.get_circumference())\n",
    "print(\"원의 넓이:\", circle.get_area())\n"
   ]
  },
  {
   "cell_type": "markdown",
   "metadata": {},
   "source": [
    "프라이빗 변수\n",
    "만약에 circle 클래스의 radius 속성에 음수를 넣으면, 원듸 둘레는 음수가 나오므로, 길이를 음수로 넣는 것을 막는 방법이 필요 \n",
    "그래서, 먼저 변수를 마음대로 사용하는 것을 막아야하는데, 파이썬은 클래스 내부의 변수를 외부에서 사용하는 것을 막고 싶을 때는 인스턴스 변수이름을 __<변수이름> 형태로 선언 "
   ]
  },
  {
   "cell_type": "code",
   "execution_count": 25,
   "metadata": {},
   "outputs": [
    {
     "name": "stdout",
     "output_type": "stream",
     "text": [
      "# 원의 둘레와 넓이를 구합니다.\n",
      "원의 둘레: 62.83185307179586\n",
      "원의 넓이: 314.1592653589793\n",
      "\n",
      "# __radius에 접근합니다.\n"
     ]
    },
    {
     "ename": "AttributeError",
     "evalue": "'Circle' object has no attribute '__radius'",
     "output_type": "error",
     "traceback": [
      "\u001b[1;31m---------------------------------------------------------------------------\u001b[0m",
      "\u001b[1;31mAttributeError\u001b[0m                            Traceback (most recent call last)",
      "\u001b[1;32m<ipython-input-25-a577f3408c7e>\u001b[0m in \u001b[0;36m<module>\u001b[1;34m\u001b[0m\n\u001b[0;32m     20\u001b[0m \u001b[1;31m# __radius에 접근합니다.\u001b[0m\u001b[1;33m\u001b[0m\u001b[1;33m\u001b[0m\u001b[0m\n\u001b[0;32m     21\u001b[0m \u001b[0mprint\u001b[0m\u001b[1;33m(\u001b[0m\u001b[1;34m\"# __radius에 접근합니다.\"\u001b[0m\u001b[1;33m)\u001b[0m\u001b[1;33m\u001b[0m\u001b[0m\n\u001b[1;32m---> 22\u001b[1;33m \u001b[0mprint\u001b[0m\u001b[1;33m(\u001b[0m\u001b[0mcircle\u001b[0m\u001b[1;33m.\u001b[0m\u001b[0m__radius\u001b[0m\u001b[1;33m)\u001b[0m\u001b[1;33m\u001b[0m\u001b[0m\n\u001b[0m",
      "\u001b[1;31mAttributeError\u001b[0m: 'Circle' object has no attribute '__radius'"
     ]
    }
   ],
   "source": [
    "# 모듈을 가져옵니다.\n",
    "import math\n",
    "\n",
    "# 클래스를 선언합니다.\n",
    "class Circle:\n",
    "    def __init__(self, radius):\n",
    "        self.__radius = radius\n",
    "    def get_circumference(self):\n",
    "        return 2 * math.pi *  self.__radius\n",
    "    def get_area(self):\n",
    "        return math.pi * (self.__radius ** 2)\n",
    "\n",
    "# 원의 둘레와 넓이를 구합니다.\n",
    "circle = Circle(10)\n",
    "print(\"# 원의 둘레와 넓이를 구합니다.\")\n",
    "print(\"원의 둘레:\", circle.get_circumference())\n",
    "print(\"원의 넓이:\", circle.get_area())\n",
    "print()\n",
    "\n",
    "# __radius에 접근합니다.\n",
    "print(\"# __radius에 접근합니다.\")\n",
    "print(circle.__radius) # 외부에서 사용할 수없어서 오류가 발생  AttributeError: 'Circle' object has no attribute '__radius'"
   ]
  },
  {
   "cell_type": "markdown",
   "metadata": {},
   "source": [
    "그럼중간에 원의 둘레를 변경하고 싶으면 어떻게 할까?? 클래스 외부에서 직업 __radius 속성에 접근을 할 수 없기 때문에 간접저으로 접근할 수 있는 방법을 찾아야 함. 이때 사용되는 것이 케터와 세터\n",
    "게터와 세터는 프라이빗 변수의 값을 추출하거나 변경할 목적으로, 간접적으로 속성에 접근하도록 해주는 함수"
   ]
  },
  {
   "cell_type": "code",
   "execution_count": 26,
   "metadata": {},
   "outputs": [
    {
     "name": "stdout",
     "output_type": "stream",
     "text": [
      "# 원의 둘레와 넓이를 구합니다.\n",
      "원의 둘레: 62.83185307179586\n",
      "원의 넓이: 314.1592653589793\n",
      "\n",
      "# __radius에 접근합니다.\n",
      "10\n",
      "\n",
      "# 반지름을 변경하고 원의 둘레와 넓이를 구합니다.\n",
      "원의 둘레: 12.566370614359172\n",
      "원의 넓이: 12.566370614359172\n"
     ]
    }
   ],
   "source": [
    "# 모듈을 가져옵니다.\n",
    "import math\n",
    "\n",
    "# 클래스를 선언합니다.\n",
    "class Circle:\n",
    "    def __init__(self, radius):\n",
    "        self.__radius = radius\n",
    "    def get_circumference(self):\n",
    "        return 2 * math.pi *  self.__radius\n",
    "    def get_area(self):\n",
    "        return math.pi * (self.__radius ** 2)\n",
    "\n",
    "    # 겟터와 셋터를 선언합니다.\n",
    "    def get_radius(self):\n",
    "        return self.__radius\n",
    "    def set_radius(self, value):\n",
    "        self.__radius = value\n",
    "\n",
    "# 원의 둘레와 넓이를 구합니다.\n",
    "circle = Circle(10)\n",
    "print(\"# 원의 둘레와 넓이를 구합니다.\")\n",
    "print(\"원의 둘레:\", circle.get_circumference())\n",
    "print(\"원의 넓이:\", circle.get_area())\n",
    "print()\n",
    "\n",
    "# 간접적으로 __radius에 접근합니다.\n",
    "print(\"# __radius에 접근합니다.\")\n",
    "print(circle.get_radius())\n",
    "print()\n",
    "\n",
    "# 원의 둘레와 넓이를 구합니다.\n",
    "circle.set_radius(2)\n",
    "print(\"# 반지름을 변경하고 원의 둘레와 넓이를 구합니다.\")\n",
    "print(\"원의 둘레:\", circle.get_circumference())\n",
    "print(\"원의 넓이:\", circle.get_area())\n"
   ]
  },
  {
   "cell_type": "markdown",
   "metadata": {},
   "source": [
    "데코레이터를 사용한 게터와 세터   \n",
    "@property   \n",
    "@<변수이름>.scatter라는 데코레이터를 붙이기   "
   ]
  },
  {
   "cell_type": "code",
   "execution_count": 27,
   "metadata": {},
   "outputs": [
    {
     "name": "stdout",
     "output_type": "stream",
     "text": [
      "# 데코레이터를 사용한 Getter와 Setter\n",
      "원래 원의 반지름:  10\n",
      "변경된 원의 반지름:  2\n",
      "\n",
      "# 강제로 예외를 발생시킵니다.\n"
     ]
    },
    {
     "ename": "TypeError",
     "evalue": "길이는 양의 숫자여야 합니다.",
     "output_type": "error",
     "traceback": [
      "\u001b[1;31m---------------------------------------------------------------------------\u001b[0m",
      "\u001b[1;31mTypeError\u001b[0m                                 Traceback (most recent call last)",
      "\u001b[1;32m<ipython-input-27-67c5e7481ec7>\u001b[0m in \u001b[0;36m<module>\u001b[1;34m\u001b[0m\n\u001b[0;32m     31\u001b[0m \u001b[1;31m# 강제로 예외를 발생시킵니다.\u001b[0m\u001b[1;33m\u001b[0m\u001b[1;33m\u001b[0m\u001b[0m\n\u001b[0;32m     32\u001b[0m \u001b[0mprint\u001b[0m\u001b[1;33m(\u001b[0m\u001b[1;34m\"# 강제로 예외를 발생시킵니다.\"\u001b[0m\u001b[1;33m)\u001b[0m\u001b[1;33m\u001b[0m\u001b[0m\n\u001b[1;32m---> 33\u001b[1;33m \u001b[0mcircle\u001b[0m\u001b[1;33m.\u001b[0m\u001b[0mradius\u001b[0m \u001b[1;33m=\u001b[0m \u001b[1;33m-\u001b[0m\u001b[1;36m10\u001b[0m\u001b[1;33m\u001b[0m\u001b[0m\n\u001b[0m",
      "\u001b[1;32m<ipython-input-27-67c5e7481ec7>\u001b[0m in \u001b[0;36mradius\u001b[1;34m(self, value)\u001b[0m\n\u001b[0;32m     18\u001b[0m     \u001b[1;32mdef\u001b[0m \u001b[0mradius\u001b[0m\u001b[1;33m(\u001b[0m\u001b[0mself\u001b[0m\u001b[1;33m,\u001b[0m \u001b[0mvalue\u001b[0m\u001b[1;33m)\u001b[0m\u001b[1;33m:\u001b[0m\u001b[1;33m\u001b[0m\u001b[0m\n\u001b[0;32m     19\u001b[0m         \u001b[1;32mif\u001b[0m \u001b[0mvalue\u001b[0m \u001b[1;33m<=\u001b[0m \u001b[1;36m0\u001b[0m\u001b[1;33m:\u001b[0m\u001b[1;33m\u001b[0m\u001b[0m\n\u001b[1;32m---> 20\u001b[1;33m             \u001b[1;32mraise\u001b[0m \u001b[0mTypeError\u001b[0m\u001b[1;33m(\u001b[0m\u001b[1;34m\"길이는 양의 숫자여야 합니다.\"\u001b[0m\u001b[1;33m)\u001b[0m\u001b[1;33m\u001b[0m\u001b[0m\n\u001b[0m\u001b[0;32m     21\u001b[0m         \u001b[0mself\u001b[0m\u001b[1;33m.\u001b[0m\u001b[0m__radius\u001b[0m \u001b[1;33m=\u001b[0m \u001b[0mvalue\u001b[0m\u001b[1;33m\u001b[0m\u001b[0m\n\u001b[0;32m     22\u001b[0m \u001b[1;33m\u001b[0m\u001b[0m\n",
      "\u001b[1;31mTypeError\u001b[0m: 길이는 양의 숫자여야 합니다."
     ]
    }
   ],
   "source": [
    "# 모듈을 가져옵니다.\n",
    "import math\n",
    "\n",
    "# 클래스를 선언합니다.\n",
    "class Circle:\n",
    "    def __init__(self, radius):\n",
    "        self.__radius = radius\n",
    "    def get_circumference(self):\n",
    "        return 2 * math.pi *  self.__radius\n",
    "    def get_area(self):\n",
    "        return math.pi * (self.__radius ** 2)\n",
    "\n",
    "    # 게터와 세터를 선언합니다.\n",
    "    @property \n",
    "    def radius(self):\n",
    "        return self.__radius\n",
    "    @radius.setter \n",
    "    def radius(self, value):\n",
    "        if value <= 0:\n",
    "            raise TypeError(\"길이는 양의 숫자여야 합니다.\")\n",
    "        self.__radius = value\n",
    "\n",
    "# 원의 둘레와 넓이를 구합니다.\n",
    "print(\"# 데코레이터를 사용한 Getter와 Setter\")\n",
    "circle = Circle(10)\n",
    "print(\"원래 원의 반지름: \", circle.radius)\n",
    "circle.radius = 2\n",
    "print(\"변경된 원의 반지름: \", circle.radius)\n",
    "print()\n",
    "\n",
    "# 강제로 예외를 발생시킵니다.\n",
    "print(\"# 강제로 예외를 발생시킵니다.\")\n",
    "circle.radius = -10\n"
   ]
  },
  {
   "cell_type": "markdown",
   "metadata": {},
   "source": [
    "### 상속   \n",
    "어떤 클래스를 기반으로 그 속성과 기능을 물려받아 새로운 클래스를 만듬   \n",
    "기반이 되는 것을 부모, 이를 기반으로 생성하는 것을 자식이라고 부르며, 부모가 자식에세 자신의 기반을 물려주는 기능을 상속이라고 부름   "
   ]
  },
  {
   "cell_type": "code",
   "execution_count": 28,
   "metadata": {},
   "outputs": [
    {
     "name": "stdout",
     "output_type": "stream",
     "text": [
      "Parent 클래스의 __init()__ 메서드가 호출되었습니다.\n",
      "Child 클래스의 __init()__ 메서드가 호출되었습니다.\n",
      "Parent 클래스의 test() 메서드입니다.\n",
      "테스트\n"
     ]
    }
   ],
   "source": [
    "# 부모 클래스를 선언합니다.\n",
    "class Parent:\n",
    "    def __init__(self):\n",
    "        self.value = \"테스트\"\n",
    "        print(\"Parent 클래스의 __init()__ 메서드가 호출되었습니다.\")\n",
    "    def test(self):\n",
    "        print(\"Parent 클래스의 test() 메서드입니다.\")\n",
    "\n",
    "# 자식 클래스를 선언합니다.\n",
    "# parents를 상속받았으므로 Parent 클래스가 가지고 있는 함수와 변수를 사용\n",
    "class Child(Parent):\n",
    "    def __init__(self):\n",
    "        Parent.__init__(self) \n",
    "        print(\"Child 클래스의 __init()__ 메서드가 호출되었습니다.\")\n",
    "\n",
    "# 자식 클래스의 인스턴스를 생성하고 부모의 메서드를 호출합니다.\n",
    "child = Child()\n",
    "child.test()\n",
    "print(child.value)\n"
   ]
  },
  {
   "cell_type": "markdown",
   "metadata": {},
   "source": [
    "상속은 기존에 있는 클래스를 기반으로 조금 수정해서 내가 원하는 클래스를 만들때 사용 "
   ]
  },
  {
   "cell_type": "code",
   "execution_count": 29,
   "metadata": {},
   "outputs": [
    {
     "ename": "CustomException",
     "evalue": "",
     "output_type": "error",
     "traceback": [
      "\u001b[1;31m---------------------------------------------------------------------------\u001b[0m",
      "\u001b[1;31mCustomException\u001b[0m                           Traceback (most recent call last)",
      "\u001b[1;32m<ipython-input-29-1fdd127ee69b>\u001b[0m in \u001b[0;36m<module>\u001b[1;34m\u001b[0m\n\u001b[0;32m      3\u001b[0m         \u001b[0mException\u001b[0m\u001b[1;33m.\u001b[0m\u001b[0m__init__\u001b[0m\u001b[1;33m(\u001b[0m\u001b[0mself\u001b[0m\u001b[1;33m)\u001b[0m\u001b[1;33m\u001b[0m\u001b[0m\n\u001b[0;32m      4\u001b[0m \u001b[1;33m\u001b[0m\u001b[0m\n\u001b[1;32m----> 5\u001b[1;33m \u001b[1;32mraise\u001b[0m \u001b[0mCustomException\u001b[0m\u001b[1;33m\u001b[0m\u001b[0m\n\u001b[0m",
      "\u001b[1;31mCustomException\u001b[0m: "
     ]
    }
   ],
   "source": [
    "# 예외 클래스를 만들기\n",
    "class CustomException(Exception):\n",
    "    def __init__(self):\n",
    "        Exception.__init__(self) \n",
    "\n",
    "raise CustomException\n"
   ]
  },
  {
   "cell_type": "markdown",
   "metadata": {},
   "source": [
    "부모에 정의되어 있는 함수를 자식에서 다시 정의하는 것을 재정의 또는 오버라이드하고 부름"
   ]
  },
  {
   "cell_type": "code",
   "execution_count": 31,
   "metadata": {},
   "outputs": [
    {
     "name": "stdout",
     "output_type": "stream",
     "text": [
      "##### 내가 만든 오류가 생성되었어요! #####\n"
     ]
    },
    {
     "ename": "CustomException",
     "evalue": "오류가 발생했어요",
     "output_type": "error",
     "traceback": [
      "\u001b[1;31m---------------------------------------------------------------------------\u001b[0m",
      "\u001b[1;31mCustomException\u001b[0m                           Traceback (most recent call last)",
      "\u001b[1;32m<ipython-input-31-4b21ce381355>\u001b[0m in \u001b[0;36m<module>\u001b[1;34m\u001b[0m\n\u001b[0;32m      7\u001b[0m         \u001b[1;32mreturn\u001b[0m \u001b[1;34m\"오류가 발생했어요\"\u001b[0m\u001b[1;33m\u001b[0m\u001b[0m\n\u001b[0;32m      8\u001b[0m \u001b[1;33m\u001b[0m\u001b[0m\n\u001b[1;32m----> 9\u001b[1;33m \u001b[1;32mraise\u001b[0m \u001b[0mCustomException\u001b[0m\u001b[1;33m\u001b[0m\u001b[0m\n\u001b[0m",
      "\u001b[1;31mCustomException\u001b[0m: 오류가 발생했어요"
     ]
    }
   ],
   "source": [
    "# 자식 클래스로서 부모의 함수 재정의(오버라이드)하기\n",
    "class CustomException(Exception):\n",
    "    def __init__(self):\n",
    "        Exception.__init__(self)\n",
    "        print(\"##### 내가 만든 오류가 생성되었어요! #####\")\n",
    "    def __str__(self): # 부모(Exception 클래스)에도 정의되어 있음. 자식 클래스에서 재정의(오버라이드)\n",
    "        return \"오류가 발생했어요\"\n",
    "\n",
    "raise CustomException\n"
   ]
  },
  {
   "cell_type": "markdown",
   "metadata": {},
   "source": [
    "자식 클래스로서 부머에 없는 새로운 함수를 정의 "
   ]
  },
  {
   "cell_type": "code",
   "execution_count": 32,
   "metadata": {},
   "outputs": [
    {
     "name": "stdout",
     "output_type": "stream",
     "text": [
      "###### 오류 정보 ######\n",
      "메시지: 딱히 이유 없음\n",
      "값: 273\n"
     ]
    }
   ],
   "source": [
    "# 사용자 정의 예외를 생성합니다.\n",
    "class CustomException(Exception):\n",
    "    def __init__(self, message, value):\n",
    "        Exception.__init__(self)\n",
    "        self.message = message\n",
    "        self.value = value\n",
    "\n",
    "    def __str__(self):\n",
    "        return self.message\n",
    "\n",
    "# 새로운 함수를 정의 \n",
    "    def print(self):\n",
    "        print(\"###### 오류 정보 ######\")\n",
    "        print(\"메시지:\", self.message)\n",
    "        print(\"값:\", self.value)\n",
    "        \n",
    "# 예외를 발생시켜 봅니다.\n",
    "try:\n",
    "    raise CustomException(\"딱히 이유 없음\", 273)\n",
    "except CustomException as e:\n",
    "    e.print()\n"
   ]
  },
  {
   "cell_type": "code",
   "execution_count": null,
   "metadata": {},
   "outputs": [],
   "source": []
  }
 ],
 "metadata": {
  "kernelspec": {
   "display_name": "Python 3",
   "language": "python",
   "name": "python3"
  },
  "language_info": {
   "codemirror_mode": {
    "name": "ipython",
    "version": 3
   },
   "file_extension": ".py",
   "mimetype": "text/x-python",
   "name": "python",
   "nbconvert_exporter": "python",
   "pygments_lexer": "ipython3",
   "version": "3.6.5"
  }
 },
 "nbformat": 4,
 "nbformat_minor": 4
}
