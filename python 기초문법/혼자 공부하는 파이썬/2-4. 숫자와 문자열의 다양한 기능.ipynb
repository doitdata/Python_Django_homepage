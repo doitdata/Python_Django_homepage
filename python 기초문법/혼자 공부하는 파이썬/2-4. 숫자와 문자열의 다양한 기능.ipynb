{
 "cells": [
  {
   "cell_type": "markdown",
   "metadata": {},
   "source": [
    "#### format()"
   ]
  },
  {
   "cell_type": "code",
   "execution_count": 7,
   "metadata": {},
   "outputs": [
    {
     "name": "stdout",
     "output_type": "stream",
     "text": [
      "10\n",
      "<class 'str'>\n"
     ]
    }
   ],
   "source": [
    "# format() 함수로 숫자를 문자열로 변환하기\n",
    "string_a = \"{}\".format(10)\n",
    "# 출력하기\n",
    "print(string_a)\n",
    "print(type(string_a))"
   ]
  },
  {
   "cell_type": "code",
   "execution_count": 1,
   "metadata": {},
   "outputs": [
    {
     "name": "stdout",
     "output_type": "stream",
     "text": [
      "5000만 원\n",
      "파이썬 열공하여 첫 연봉 5000만 원 만들기 \n",
      "3000 4000 5000\n",
      "1 문자열 True\n"
     ]
    }
   ],
   "source": [
    "# {} 기호 옆에 다른 문자열을 넣은 형태\n",
    "format_a=\"{}만 원\".format(5000)   \n",
    "\n",
    "# {} 기호의 앞 뒤로 다른 문자열을 넣은 형태 \n",
    "format_b=\"파이썬 열공하여 첫 연봉 {}만 원 만들기 \".format(5000) \n",
    "\n",
    "# 매개변수를 여러개 넣은 형태\n",
    "format_c=\"{} {} {}\".format(3000, 4000, 5000)\n",
    "\n",
    "# 숫자이외의 자료형도 적용이 됨  \n",
    "format_d=\"{} {} {}\".format(1, \"문자열\", True)\n",
    "\n",
    "# 출력하기\n",
    "print(format_a)\n",
    "print(format_b)\n",
    "print(format_c)\n",
    "print(format_d)"
   ]
  },
  {
   "cell_type": "code",
   "execution_count": 3,
   "metadata": {},
   "outputs": [
    {
     "name": "stdout",
     "output_type": "stream",
     "text": [
      "# 기본\n",
      "52\n",
      "# 특정 칸에 출력하기\n",
      "   52\n",
      "        52\n",
      "# 빈 칸을 0으로 채우기\n",
      "00052\n",
      "-0052\n"
     ]
    }
   ],
   "source": [
    "# 정수\n",
    "output_a=\"{:d}\".format(52)\n",
    "\n",
    "# 특정 칸에 출력하기\n",
    "output_b=\"{:5d}\".format(52)     # 5칸\n",
    "output_c=\"{:10d}\".format(52)    # 10칸\n",
    "\n",
    "# 빈칸을 0으로 채우기\n",
    "output_d=\"{:05d}\".format(52)    # 양수\n",
    "output_e=\"{:05d}\".format(-52)   # 음수\n",
    "\n",
    "print(\"# 기본\")\n",
    "print(output_a)\n",
    "print(\"# 특정 칸에 출력하기\")\n",
    "print(output_b)\n",
    "print(output_c)\n",
    "print(\"# 빈 칸을 0으로 채우기\")\n",
    "print(output_d)\n",
    "print(output_e)"
   ]
  },
  {
   "cell_type": "code",
   "execution_count": 4,
   "metadata": {},
   "outputs": [
    {
     "name": "stdout",
     "output_type": "stream",
     "text": [
      "# 기호와 함께 출력하기\n",
      "+52\n",
      "-52\n",
      " 52\n",
      "-52\n"
     ]
    }
   ],
   "source": [
    "# 기호와 함께 출력하기\n",
    "output_f=\"{:+d}\".format(52)     # 양수\n",
    "output_g=\"{:+d}\".format(-52)    # 음수\n",
    "output_h=\"{: d}\".format(52)     # 양수: 기호 부분 공백\n",
    "output_i=\"{: d}\".format(-52)    # 음수: 기호 부분 공백\n",
    "\n",
    "print(\"# 기호와 함께 출력하기\")\n",
    "print(output_f)\n",
    "print(output_g)\n",
    "print(output_h)\n",
    "print(output_i)"
   ]
  },
  {
   "cell_type": "code",
   "execution_count": 5,
   "metadata": {},
   "outputs": [
    {
     "name": "stdout",
     "output_type": "stream",
     "text": [
      "# 조합하기\n",
      "  +52\n",
      "  -52\n",
      "+  52\n",
      "-  52\n",
      "+0052\n",
      "-0052\n"
     ]
    }
   ],
   "source": [
    "# 조합하기, 기호와 공백을 조합할 때는 = 기호를 사용 \n",
    "output_h=\"{:+5d}\".format(52)     # 기호를 뒤로 밀기: 양수\n",
    "output_i=\"{:+5d}\".format(-52)    # 기호를 뒤로 밀기: 음수\n",
    "output_j=\"{:=+5d}\".format(52)    # 기호를 앞으로 밀기: 양수\n",
    "output_k=\"{:=+5d}\".format(-52)   # 기호를 앞으로 밀기: 음수\n",
    "output_l=\"{:+05d}\".format(52)    # 0으로 채우기: 양수\n",
    "output_m=\"{:+05d}\".format(-52)   # 0으로 채우기: 음수\n",
    "\n",
    "print(\"# 조합하기\")\n",
    "print(output_h)\n",
    "print(output_i)\n",
    "print(output_j)\n",
    "print(output_k)\n",
    "print(output_l)\n",
    "print(output_m)"
   ]
  },
  {
   "cell_type": "code",
   "execution_count": 6,
   "metadata": {},
   "outputs": [
    {
     "name": "stdout",
     "output_type": "stream",
     "text": [
      "52.273000\n",
      "      52.273000\n",
      "     +52.273000\n",
      "+0000052.273000\n"
     ]
    }
   ],
   "source": [
    "# 조합하기\n",
    "output_a=\"{:f}\".format(52.273)     \n",
    "output_b=\"{:15f}\".format(52.273)    # 15칸 만들기\n",
    "output_c=\"{:+15f}\".format(52.273)   # 15칸에 부호 추가하기\n",
    "output_d=\"{:+015f}\".format(52.273)  # 15칸에 부호 추가하고 0으로 채우기\n",
    "\n",
    "print(output_a)\n",
    "print(output_b)\n",
    "print(output_c)\n",
    "print(output_d)\n"
   ]
  },
  {
   "cell_type": "code",
   "execution_count": 8,
   "metadata": {},
   "outputs": [
    {
     "name": "stdout",
     "output_type": "stream",
     "text": [
      "         52.273\n",
      "          52.27\n",
      "           52.3\n"
     ]
    }
   ],
   "source": [
    "# 소수점 아랫자리수 지정하기 \n",
    "output_a=\"{:15.3f}\".format(52.273) #소수점 3자리 표시     \n",
    "output_b=\"{:15.2f}\".format(52.273) # 소수점 2자리 표시\n",
    "output_c=\"{:15.1f}\".format(52.273) # 소수점 한자리 표시 \n",
    "\n",
    "print(output_a)\n",
    "print(output_b)\n",
    "print(output_c)\n"
   ]
  },
  {
   "cell_type": "code",
   "execution_count": 9,
   "metadata": {},
   "outputs": [
    {
     "name": "stdout",
     "output_type": "stream",
     "text": [
      "52.0\n",
      "52\n"
     ]
    }
   ],
   "source": [
    "# 의미없는 소수점 제거하기 \n",
    "output_a = 52.0\n",
    "output_b = \"{:g}\".format(output_a)\n",
    "print(output_a)\n",
    "print(output_b)"
   ]
  },
  {
   "cell_type": "markdown",
   "metadata": {},
   "source": [
    "#### upper() 와 lower()"
   ]
  },
  {
   "cell_type": "markdown",
   "metadata": {},
   "source": [
    "upper() : 알파벳을 대문자로 변화  \n",
    "lower() : 알파벳을 소문자로 변화   "
   ]
  },
  {
   "cell_type": "markdown",
   "metadata": {},
   "source": [
    "#### strip() , lstrip(), rstrip() \n",
    "strip() : 문자열 영옆의 공백을 제거  \n",
    "lstrip() : 문자열 왼쪽의 공백을 제거  \n",
    "rstrip() : 문자열 오른쪽의 공백을 제거   "
   ]
  },
  {
   "cell_type": "markdown",
   "metadata": {},
   "source": [
    "#### 문자열의 구성 파악하기 : isoo()\n",
    "isalnum() : 문자열이 알파벳 또는 숫자로만 구성되어 있는지 확인   \n",
    "isalpha() : 문자열이 알파벳으로만 구성되어 있는지 확인  \n",
    "isidentifer() : 문자열이 식별자로 사용할 수 있는지 확인  \n",
    "isdigit() : 문자열이 숫자로 인식될 수 있는건지 확인  \n",
    "isspace() : 문자열이 공백으로만 구성되어 있는지 확인  \n",
    "islower() : 문자열이 소문자로만 구성되어 있는지 확인  \n",
    "isupper() : 문자열이 대문자로만 구성되어 있는 지 확인   "
   ]
  },
  {
   "cell_type": "markdown",
   "metadata": {},
   "source": [
    "#### 문자열 찾기 find()와 rfind()\n",
    "find() : 왼쪽부터 찾아서 처음 등장하는 위치를 찾기   \n",
    "rfind() : 오른쪽부터 찾아서 처음 등장하는 위치를 찾기"
   ]
  },
  {
   "cell_type": "markdown",
   "metadata": {},
   "source": [
    "#### 문자열과 in연산자 \n",
    "문자열 내부에 어떤 문자열이 있는지 확인하려면 in연산자를 사용   "
   ]
  },
  {
   "cell_type": "code",
   "execution_count": 10,
   "metadata": {},
   "outputs": [
    {
     "name": "stdout",
     "output_type": "stream",
     "text": [
      "True\n"
     ]
    }
   ],
   "source": [
    "print('안녕' in '안녕하세요')"
   ]
  },
  {
   "cell_type": "markdown",
   "metadata": {},
   "source": [
    "#### 문자열 자르기 split()\n",
    "문자열을 특정한 문자로 자를 때는 split() 사용 \n",
    "실행 결과는 리스트로 반환함\n"
   ]
  },
  {
   "cell_type": "code",
   "execution_count": null,
   "metadata": {},
   "outputs": [],
   "source": []
  }
 ],
 "metadata": {
  "kernelspec": {
   "display_name": "Python 3",
   "language": "python",
   "name": "python3"
  },
  "language_info": {
   "codemirror_mode": {
    "name": "ipython",
    "version": 3
   },
   "file_extension": ".py",
   "mimetype": "text/x-python",
   "name": "python",
   "nbconvert_exporter": "python",
   "pygments_lexer": "ipython3",
   "version": "3.6.5"
  }
 },
 "nbformat": 4,
 "nbformat_minor": 4
}
