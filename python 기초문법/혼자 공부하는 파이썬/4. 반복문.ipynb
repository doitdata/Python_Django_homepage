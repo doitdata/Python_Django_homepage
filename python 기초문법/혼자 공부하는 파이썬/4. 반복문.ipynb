{
 "cells": [
  {
   "cell_type": "markdown",
   "metadata": {},
   "source": [
    "### 리스트를 선언하고 요소에 접근하기\n",
    "1) 대괄호 안에 음수를 넣어 뒤에서부터 요소를 선택하기"
   ]
  },
  {
   "cell_type": "code",
   "execution_count": 1,
   "metadata": {},
   "outputs": [
    {
     "data": {
      "text/plain": [
       "45"
      ]
     },
     "execution_count": 1,
     "metadata": {},
     "output_type": "execute_result"
    }
   ],
   "source": [
    "list_a = [22, 25, 63, 89, 45]\n",
    "list_a[-1]"
   ]
  },
  {
   "cell_type": "markdown",
   "metadata": {},
   "source": [
    "2) 리스트 접근 연산자를 이중으로 사용할 수 있음"
   ]
  },
  {
   "cell_type": "code",
   "execution_count": 2,
   "metadata": {},
   "outputs": [
    {
     "data": {
      "text/plain": [
       "'훈'"
      ]
     },
     "execution_count": 2,
     "metadata": {},
     "output_type": "execute_result"
    }
   ],
   "source": [
    "list_b = [22, 55, 66, '오세훈', True, False]\n",
    "list_b[3][2]"
   ]
  },
  {
   "cell_type": "markdown",
   "metadata": {},
   "source": [
    "3) 리스트 안에 리스트를 사용할 수 있음"
   ]
  },
  {
   "cell_type": "code",
   "execution_count": 3,
   "metadata": {},
   "outputs": [
    {
     "data": {
      "text/plain": [
       "[4, 5, 6]"
      ]
     },
     "execution_count": 3,
     "metadata": {},
     "output_type": "execute_result"
    }
   ],
   "source": [
    "list_c = [[1,2,3],[4,5,6],[7,8,9]]\n",
    "list_c[1]"
   ]
  },
  {
   "cell_type": "markdown",
   "metadata": {},
   "source": [
    "### 리스트 연산자 "
   ]
  },
  {
   "cell_type": "markdown",
   "metadata": {},
   "source": [
    "1) 연결 +"
   ]
  },
  {
   "cell_type": "code",
   "execution_count": 4,
   "metadata": {},
   "outputs": [
    {
     "data": {
      "text/plain": [
       "[1, 2, 3, 4, 5, 6]"
      ]
     },
     "execution_count": 4,
     "metadata": {},
     "output_type": "execute_result"
    }
   ],
   "source": [
    "list_a = [1,2,3]\n",
    "list_b = [4,5,6]\n",
    "list_a + list_b"
   ]
  },
  {
   "cell_type": "markdown",
   "metadata": {},
   "source": [
    "2) 반복 *"
   ]
  },
  {
   "cell_type": "code",
   "execution_count": 5,
   "metadata": {},
   "outputs": [
    {
     "data": {
      "text/plain": [
       "[1, 2, 3, 1, 2, 3, 1, 2, 3]"
      ]
     },
     "execution_count": 5,
     "metadata": {},
     "output_type": "execute_result"
    }
   ],
   "source": [
    "list_a * 3"
   ]
  },
  {
   "cell_type": "markdown",
   "metadata": {},
   "source": [
    "3) len()"
   ]
  },
  {
   "cell_type": "code",
   "execution_count": 8,
   "metadata": {},
   "outputs": [
    {
     "data": {
      "text/plain": [
       "3"
      ]
     },
     "execution_count": 8,
     "metadata": {},
     "output_type": "execute_result"
    }
   ],
   "source": [
    "len(list_a)"
   ]
  },
  {
   "cell_type": "markdown",
   "metadata": {},
   "source": [
    "### 리스트에 요소를 추가하기 "
   ]
  },
  {
   "cell_type": "markdown",
   "metadata": {},
   "source": [
    "1) append() : 리스트 뒤에 요소 추가하기"
   ]
  },
  {
   "cell_type": "code",
   "execution_count": 14,
   "metadata": {},
   "outputs": [
    {
     "name": "stdout",
     "output_type": "stream",
     "text": [
      "[1, 2, 3, 4]\n"
     ]
    }
   ],
   "source": [
    "list_a = [1,2,3]\n",
    "list_a.append(4)\n",
    "print(list_a)"
   ]
  },
  {
   "cell_type": "markdown",
   "metadata": {},
   "source": [
    "2) insert() : 리스트 중간에 요소 추가하기, 넣고 싶은 인자의 위치를 같이 넣어야 함. "
   ]
  },
  {
   "cell_type": "code",
   "execution_count": 18,
   "metadata": {},
   "outputs": [
    {
     "name": "stdout",
     "output_type": "stream",
     "text": [
      "[1, 4, 2, 3]\n"
     ]
    }
   ],
   "source": [
    "list_a = [1,2,3]\n",
    "list_a.insert(1,4)\n",
    "print(list_a)"
   ]
  },
  {
   "cell_type": "markdown",
   "metadata": {},
   "source": [
    "3) extend() : 한번에 요소를 추가하고 싶을때 리스트를 매개변수로 넣어주기"
   ]
  },
  {
   "cell_type": "code",
   "execution_count": 19,
   "metadata": {},
   "outputs": [
    {
     "name": "stdout",
     "output_type": "stream",
     "text": [
      "[1, 2, 3, 4, 5, 6, 7]\n"
     ]
    }
   ],
   "source": [
    "list_a = [1,2,3]\n",
    "list_a.extend([4,5,6,7])\n",
    "print(list_a)"
   ]
  },
  {
   "cell_type": "markdown",
   "metadata": {},
   "source": [
    "### 리스트에 요소 제거하기"
   ]
  },
  {
   "cell_type": "markdown",
   "metadata": {},
   "source": [
    "1) 인덱스로 제거하기 : del, pop  \n",
    "del 리스트명 [인덱스]  -> 해당 인덱스를 삭제\n",
    "리스트명.pop(인덱스)  -> del과 다르게 지워진 인덱스의 값을 반환할 수 있음 "
   ]
  },
  {
   "cell_type": "code",
   "execution_count": 25,
   "metadata": {},
   "outputs": [
    {
     "name": "stdout",
     "output_type": "stream",
     "text": [
      "# 리스트의 요소 하나 제거하기\n",
      "del list_a[1]: [0, 2, 3, 4, 5]\n",
      "[0, 1, 2, 6]\n"
     ]
    }
   ],
   "source": [
    "list_a = [0, 1, 2, 3, 4, 5]\n",
    "print(\"# 리스트의 요소 하나 제거하기\")\n",
    "\n",
    "# 제거 방법[1] – del\n",
    "del list_a[1]\n",
    "print(\"del list_a[1]:\", list_a)\n",
    "\n",
    "list_c = [0,1,2,3,4,5,6]\n",
    "del list_c[3:6] \n",
    "print(list_c)"
   ]
  },
  {
   "cell_type": "code",
   "execution_count": 28,
   "metadata": {},
   "outputs": [
    {
     "name": "stdout",
     "output_type": "stream",
     "text": [
      "pop(2): [0, 1, 3, 4, 5]\n",
      "2\n"
     ]
    }
   ],
   "source": [
    "# 제거 방법[2] – pop()\n",
    "list_b= [0, 1, 2, 3, 4, 5]\n",
    "removed = list_b.pop(2)\n",
    "print(\"pop(2):\", list_b)\n",
    "print(removed)"
   ]
  },
  {
   "cell_type": "markdown",
   "metadata": {},
   "source": [
    "2) 값으로 제거하기 remove  \n",
    "리스트.remove(값)  "
   ]
  },
  {
   "cell_type": "code",
   "execution_count": 30,
   "metadata": {},
   "outputs": [
    {
     "data": {
      "text/plain": [
       "[1, 2, 4]"
      ]
     },
     "execution_count": 30,
     "metadata": {},
     "output_type": "execute_result"
    }
   ],
   "source": [
    "list_c = [1,2,3,4]\n",
    "list_c.remove(3)\n",
    "list_c"
   ]
  },
  {
   "cell_type": "markdown",
   "metadata": {},
   "source": [
    "3) 모두 제거하기 clear  \n",
    "리스트.clear()"
   ]
  },
  {
   "cell_type": "code",
   "execution_count": 31,
   "metadata": {},
   "outputs": [
    {
     "data": {
      "text/plain": [
       "[]"
      ]
     },
     "execution_count": 31,
     "metadata": {},
     "output_type": "execute_result"
    }
   ],
   "source": [
    "list_d = [1,2,3,4,5,6]\n",
    "list_d.clear()\n",
    "list_d"
   ]
  },
  {
   "cell_type": "markdown",
   "metadata": {},
   "source": [
    "### 리스트 내부에 있는지 확인하기  : in / not in 연산자"
   ]
  },
  {
   "cell_type": "markdown",
   "metadata": {},
   "source": [
    "값 in 리스트"
   ]
  },
  {
   "cell_type": "code",
   "execution_count": 33,
   "metadata": {},
   "outputs": [
    {
     "data": {
      "text/plain": [
       "True"
      ]
     },
     "execution_count": 33,
     "metadata": {},
     "output_type": "execute_result"
    }
   ],
   "source": [
    "list_a = [1,2,3,4,5,6]\n",
    "1 in list_a"
   ]
  },
  {
   "cell_type": "code",
   "execution_count": 34,
   "metadata": {},
   "outputs": [
    {
     "data": {
      "text/plain": [
       "True"
      ]
     },
     "execution_count": 34,
     "metadata": {},
     "output_type": "execute_result"
    }
   ],
   "source": [
    "7 not in list_a"
   ]
  },
  {
   "cell_type": "markdown",
   "metadata": {},
   "source": [
    "### for 반복문 : 특정횟수 정해진 경우"
   ]
  },
  {
   "cell_type": "markdown",
   "metadata": {},
   "source": [
    "for 반복자 in 리스트   \n",
    "* 리스트 외에도 문자열, 딕셔너리, 범위가 들어갈 수 있음"
   ]
  },
  {
   "cell_type": "code",
   "execution_count": 35,
   "metadata": {},
   "outputs": [],
   "source": [
    "list_of_list = [[1,2,3], [4,5,6,7], [8,9]]"
   ]
  },
  {
   "cell_type": "code",
   "execution_count": 37,
   "metadata": {},
   "outputs": [
    {
     "name": "stdout",
     "output_type": "stream",
     "text": [
      "1\n",
      "2\n",
      "3\n",
      "4\n",
      "5\n",
      "6\n",
      "7\n",
      "8\n",
      "9\n"
     ]
    }
   ],
   "source": [
    "for i in list_of_list:\n",
    "#     print(i)\n",
    "    for n in i:\n",
    "        print(n)"
   ]
  },
  {
   "cell_type": "code",
   "execution_count": 43,
   "metadata": {},
   "outputs": [
    {
     "name": "stdout",
     "output_type": "stream",
     "text": [
      "[[1, 4, 7], [2, 5, 8], [3, 6, 9]]\n"
     ]
    }
   ],
   "source": [
    "numbers = [1,2,3,4,5,6,7,8,9]\n",
    "output = [[], [], []]\n",
    "\n",
    "for number in numbers:\n",
    "#     print(number)\n",
    "    output[(number + 2) % 3].append(number)\n",
    "    \n",
    "print(output)"
   ]
  },
  {
   "cell_type": "code",
   "execution_count": 44,
   "metadata": {},
   "outputs": [
    {
     "name": "stdout",
     "output_type": "stream",
     "text": [
      "name: 7D 건조 망고\n",
      "type: 당절임\n",
      "ingredient: ['망고', '설탕', '메타중아황산나트륨', '치자황색소']\n",
      "origin: 필리핀\n",
      "\n",
      "name: 8D 건조 망고\n"
     ]
    }
   ],
   "source": [
    "# 딕셔너리를 선언합니다.\n",
    "dictionary = {\n",
    "    \"name\": \"7D 건조 망고\",\n",
    "    \"type\": \"당절임\",\n",
    "    \"ingredient\": [\"망고\", \"설탕\", \"메타중아황산나트륨\", \"치자황색소\"],\n",
    "    \"origin\": \"필리핀\"\n",
    "}\n",
    "\n",
    "# 출력합니다.\n",
    "print(\"name:\", dictionary[\"name\"])\n",
    "print(\"type:\", dictionary[\"type\"])\n",
    "print(\"ingredient:\", dictionary[\"ingredient\"])\n",
    "print(\"origin:\", dictionary[\"origin\"])\n",
    "print()\n",
    "\n",
    "# 값을 변경합니다.\n",
    "dictionary[\"name\"] = \"8D 건조 망고\"\n",
    "print(\"name:\", dictionary[\"name\"])\n"
   ]
  },
  {
   "cell_type": "markdown",
   "metadata": {},
   "source": [
    "### 딕셔너리에 값 추가하기 / 제거하기\n",
    "#### 추가하기 \n",
    "딕셔너리[새로운 키] = 새로운 값  "
   ]
  },
  {
   "cell_type": "code",
   "execution_count": 45,
   "metadata": {
    "scrolled": true
   },
   "outputs": [
    {
     "name": "stdout",
     "output_type": "stream",
     "text": [
      "요소 추가 이전: {}\n",
      "요소 추가 이후: {'name': '새로운 이름', 'head': '새로운 정신', 'body': '새로운 몸'}\n"
     ]
    }
   ],
   "source": [
    "# 딕셔너리를 선언합니다.\n",
    "dictionary = {}\n",
    "\n",
    "# 요소 추가 전에 내용을 출력해 봅니다.\n",
    "print(\"요소 추가 이전:\", dictionary)\n",
    "\n",
    "# 딕셔너리에 요소를 추가합니다.\n",
    "dictionary[\"name\"] = \"새로운 이름\"\n",
    "dictionary[\"head\"] = \"새로운 정신\"\n",
    "dictionary[\"body\"] = \"새로운 몸\"\n",
    "\n",
    "# 출력합니다.\n",
    "print(\"요소 추가 이후:\", dictionary)\n"
   ]
  },
  {
   "cell_type": "markdown",
   "metadata": {},
   "source": [
    "#### 제거하기 \n",
    "del 딕셔너리[키]"
   ]
  },
  {
   "cell_type": "code",
   "execution_count": 46,
   "metadata": {},
   "outputs": [
    {
     "name": "stdout",
     "output_type": "stream",
     "text": [
      "요소 제거 이전: {'name': '7D 건조 망고', 'type': '당절임'}\n",
      "요소 제거 이후: {}\n"
     ]
    }
   ],
   "source": [
    "# 딕셔너리를 선언합니다.\n",
    "dictionary = {\n",
    "    \"name\": \"7D 건조 망고\",\n",
    "    \"type\": \"당절임\"\n",
    "    }\n",
    "\n",
    "# 요소 제거 전에 내용을 출력해봅니다.\n",
    "print(\"요소 제거 이전:\", dictionary)\n",
    "\n",
    "# 딕셔너리의 요소를 제거합니다.\n",
    "del dictionary[\"name\"]\n",
    "del dictionary[\"type\"]\n",
    "\n",
    "# 요소 제거 후에 내용을 출력해봅니다.\n",
    "print(\"요소 제거 이후:\", dictionary)\n"
   ]
  },
  {
   "cell_type": "markdown",
   "metadata": {},
   "source": [
    "#### 딕셔너리 내부에 키가 있는지 확인하기 "
   ]
  },
  {
   "cell_type": "markdown",
   "metadata": {},
   "source": [
    "in 키워드 "
   ]
  },
  {
   "cell_type": "code",
   "execution_count": 48,
   "metadata": {
    "scrolled": true
   },
   "outputs": [
    {
     "name": "stdout",
     "output_type": "stream",
     "text": [
      "> 접근하고자 하는 키: kiss\n",
      "존재하지 않는 키에 접근하고 있습니다.\n"
     ]
    }
   ],
   "source": [
    "# 딕셔너리를 선언합니다.\n",
    "dictionary = {\n",
    "    \"name\": \"7D 건조 망고\",\n",
    "    \"type\": \"당절임\",\n",
    "    \"ingredient\": [\"망고\", \"설탕\", \"메타중아황산나트륨\", \"치자황색소\"],\n",
    "    \"origin\": \"필리핀\"\n",
    "}\n",
    "\n",
    "# 사용자로부터 입력을 받습니다.\n",
    "key = input(\"> 접근하고자 하는 키: \")\n",
    "\n",
    "# 출력합니다.\n",
    "if key in dictionary:\n",
    "    print(dictionary[key])\n",
    "else:\n",
    "    print(\"존재하지 않는 키에 접근하고 있습니다.\")\n"
   ]
  },
  {
   "cell_type": "markdown",
   "metadata": {},
   "source": [
    "get()\n",
    "- 딕셔너리의 키로 값을 추출하는 기능으로 딕셔너리[키]를 입력할 때와 같은 기능을 수행하지만, 존재하지 않는 키에 접근할 경우 KeyError을 발생시키지 않고 none을 출력"
   ]
  },
  {
   "cell_type": "code",
   "execution_count": 49,
   "metadata": {},
   "outputs": [
    {
     "name": "stdout",
     "output_type": "stream",
     "text": [
      "값: None\n",
      "존재하지 않는 키에 접근했었습니다.\n"
     ]
    }
   ],
   "source": [
    "# 딕셔너리를 선언합니다.\n",
    "dictionary = {\n",
    "    \"name\": \"7D 건조 망고\",\n",
    "    \"type\": \"당절임\",\n",
    "    \"ingredient\": [\"망고\", \"설탕\", \"메타중아황산나트륨\", \"치자황색소\"],\n",
    "    \"origin\": \"필리핀\"\n",
    "}\n",
    "\n",
    "# 존재하지 않는 키에 접근해 봅니다.\n",
    "value = dictionary.get(\"존재하지 않는 키\")\n",
    "print(\"값:\", value)\n",
    "\n",
    "# None 확인 방법\n",
    "if value == None:\n",
    "    print(\"존재하지 않는 키에 접근했었습니다.\")\n"
   ]
  },
  {
   "cell_type": "markdown",
   "metadata": {},
   "source": [
    "### for 반복문에서 딕셔너리 사용하기 \n",
    "for 키 변수 in 딕셔너리:  \n",
    "    코드 "
   ]
  },
  {
   "cell_type": "code",
   "execution_count": 50,
   "metadata": {
    "scrolled": true
   },
   "outputs": [
    {
     "name": "stdout",
     "output_type": "stream",
     "text": [
      "name : 7D 건조 망고\n",
      "type : 당절임\n",
      "ingredient : ['망고', '설탕', '메타중아황산나트륨', '치자황색소']\n",
      "origin : 필리핀\n"
     ]
    }
   ],
   "source": [
    "# 딕셔너리를 선언합니다.\n",
    "dictionary = {\n",
    "    \"name\": \"7D 건조 망고\",\n",
    "    \"type\": \"당절임\",\n",
    "    \"ingredient\": [\"망고\", \"설탕\", \"메타중아황산나트륨\", \"치자황색소\"],\n",
    "    \"origin\": \"필리핀\"\n",
    "    }\n",
    "\n",
    "# for 반복문을 사용합니다.\n",
    "for key in dictionary:\n",
    "    # 출력합니다.\n",
    "    print(key, \":\", dictionary[key])"
   ]
  },
  {
   "cell_type": "markdown",
   "metadata": {},
   "source": [
    "### for 반복문 \n",
    "#### 범위와 함께 사용하기 \n",
    "for 숫자 변수 in 범위:   \n",
    "    코드  "
   ]
  },
  {
   "cell_type": "code",
   "execution_count": 51,
   "metadata": {},
   "outputs": [
    {
     "name": "stdout",
     "output_type": "stream",
     "text": [
      "0= 반복 변수\n",
      "1= 반복 변수\n",
      "2= 반복 변수\n",
      "3= 반복 변수\n",
      "4= 반복 변수\n",
      "\n",
      "5= 반복 변수\n",
      "6= 반복 변수\n",
      "7= 반복 변수\n",
      "8= 반복 변수\n",
      "9= 반복 변수\n",
      "\n",
      "0= 반복 변수\n",
      "3= 반복 변수\n",
      "6= 반복 변수\n",
      "9= 반복 변수\n",
      "\n"
     ]
    }
   ],
   "source": [
    "# for 반복문과 범위를 함께 조합해서 사용합니다.\n",
    "for i in range(5):\n",
    "    print(str(i) + \"= 반복 변수\")\n",
    "print()\n",
    "\n",
    "for i in range(5, 10):\n",
    "    print(str(i) + \"= 반복 변수\")\n",
    "print()\n",
    "\n",
    "for i in range(0, 10, 3):\n",
    "    print(str(i) + \"= 반복 변수\")\n",
    "print()\n"
   ]
  },
  {
   "cell_type": "markdown",
   "metadata": {},
   "source": [
    "#### 리스트와 범위 조합하기 "
   ]
  },
  {
   "cell_type": "code",
   "execution_count": 52,
   "metadata": {},
   "outputs": [
    {
     "name": "stdout",
     "output_type": "stream",
     "text": [
      "0번째 반복: 273\n",
      "1번째 반복: 32\n",
      "2번째 반복: 103\n",
      "3번째 반복: 57\n",
      "4번째 반복: 52\n"
     ]
    }
   ],
   "source": [
    "# 리스트를 선언합니다.\n",
    "array = [273, 32, 103, 57, 52]\n",
    "\n",
    "# 리스트에 반복문을 적용합니다.\n",
    "for i in range(len(array)):\n",
    "    # 출력합니다.\n",
    "    print(\"{}번째 반복: {}\".format(i, array[i]))\n"
   ]
  },
  {
   "cell_type": "markdown",
   "metadata": {},
   "source": [
    "#### 반대로 반복하기 "
   ]
  },
  {
   "cell_type": "code",
   "execution_count": 54,
   "metadata": {},
   "outputs": [
    {
     "name": "stdout",
     "output_type": "stream",
     "text": [
      "현재 반복 변수: 4\n",
      "현재 반복 변수: 3\n",
      "현재 반복 변수: 2\n",
      "현재 반복 변수: 1\n",
      "현재 반복 변수: 0\n"
     ]
    }
   ],
   "source": [
    "# 역반복문\n",
    "for i in range(4, -1, -1): # 4부터 0까지\n",
    "    # 출력합니다.\n",
    "    print(\"현재 반복 변수: {}\".format(i))\n"
   ]
  },
  {
   "cell_type": "code",
   "execution_count": 55,
   "metadata": {},
   "outputs": [
    {
     "name": "stdout",
     "output_type": "stream",
     "text": [
      "현재 반복 변수: 4\n",
      "현재 반복 변수: 3\n",
      "현재 반복 변수: 2\n",
      "현재 반복 변수: 1\n",
      "현재 반복 변수: 0\n"
     ]
    }
   ],
   "source": [
    "# 역반복문\n",
    "for i in reversed(range(5)):\n",
    "    # 출력합니다.\n",
    "    print(\"현재 반복 변수: {}\".format(i))\n"
   ]
  },
  {
   "cell_type": "markdown",
   "metadata": {},
   "source": [
    "### while : 횟수가 무한인 경우 "
   ]
  },
  {
   "cell_type": "code",
   "execution_count": 56,
   "metadata": {},
   "outputs": [
    {
     "name": "stdout",
     "output_type": "stream",
     "text": [
      "[1, 1]\n"
     ]
    }
   ],
   "source": [
    "# 변수를 선언합니다.\n",
    "list_test = [1, 2, 1, 2]\n",
    "value = 2\n",
    "\n",
    "# list_test 내부에 value가 있다면 반복\n",
    "while value in list_test:\n",
    "    list_test.remove(value)\n",
    "\n",
    "# 출력합니다.\n",
    "print(list_test)\n"
   ]
  },
  {
   "cell_type": "markdown",
   "metadata": {},
   "source": [
    "1) 시간을 기반으로 반복하기 \n"
   ]
  },
  {
   "cell_type": "code",
   "execution_count": 57,
   "metadata": {},
   "outputs": [
    {
     "name": "stdout",
     "output_type": "stream",
     "text": [
      "5초 동안 20875439번 반복했습니다.\n"
     ]
    }
   ],
   "source": [
    "# 시간과 관련된 기능을 가져옵니다.\n",
    "import time\n",
    "\n",
    "# 변수를 선언합니다.\n",
    "number = 0\n",
    "\n",
    "# 5초 동안 반복합니다.\n",
    "target_tick = time.time() + 5\n",
    "while time.time() < target_tick:\n",
    "    number += 1\n",
    "\n",
    "# 출력합니다.\n",
    "print(\"5초 동안 {}번 반복했습니다.\".format(number)) \n"
   ]
  },
  {
   "cell_type": "markdown",
   "metadata": {},
   "source": [
    "2) break : 무한 반복을 만들고, 내부의 반복을 벗어날 때 사용"
   ]
  },
  {
   "cell_type": "code",
   "execution_count": 59,
   "metadata": {},
   "outputs": [
    {
     "name": "stdout",
     "output_type": "stream",
     "text": [
      "0번째 반복문입니다.\n",
      "> 종료하시겠습니까?(y): \n",
      "1번째 반복문입니다.\n",
      "> 종료하시겠습니까?(y): \n",
      "2번째 반복문입니다.\n",
      "> 종료하시겠습니까?(y): \n",
      "3번째 반복문입니다.\n",
      "> 종료하시겠습니까?(y): \n",
      "4번째 반복문입니다.\n",
      "> 종료하시겠습니까?(y): \n",
      "5번째 반복문입니다.\n",
      "> 종료하시겠습니까?(y): y\n",
      "반복을 종료합니다.\n"
     ]
    }
   ],
   "source": [
    "# 변수를 선언합니다.\n",
    "i = 0\n",
    "\n",
    "# 무한 반복합니다.\n",
    "while True:\n",
    "    # 몇 번째 반복인지 출력합니다.\n",
    "    print(\"{}번째 반복문입니다.\".format(i))\n",
    "    i = i + 1\n",
    "    # 반복을 종료합니다.\n",
    "    input_text = input(\"> 종료하시겠습니까?(y): \")\n",
    "    if input_text in [\"y\", \"Y\"]:\n",
    "        print(\"반복을 종료합니다.\")\n",
    "        break\n"
   ]
  },
  {
   "cell_type": "markdown",
   "metadata": {},
   "source": [
    "3) continue : 현재 반복을 생략하고, 다음 반복으로 넘어갈때 사용하는 키워드"
   ]
  },
  {
   "cell_type": "code",
   "execution_count": 60,
   "metadata": {},
   "outputs": [
    {
     "name": "stdout",
     "output_type": "stream",
     "text": [
      "15\n",
      "20\n",
      "25\n"
     ]
    }
   ],
   "source": [
    "# 변수를 선언합니다.\n",
    "numbers = [5, 15, 6, 20, 7, 25]\n",
    "\n",
    "# 반복을 돌립니다.\n",
    "for number in numbers:\n",
    "    # number가 10보다 작으면 다음 반복으로 넘어갑니다.\n",
    "    if number < 10:\n",
    "        continue\n",
    "    # 출력합니다.\n",
    "    print(number)\n"
   ]
  },
  {
   "cell_type": "markdown",
   "metadata": {},
   "source": [
    "### 문자열, 리스트, 딕셔너리와 관련된 기본 함수"
   ]
  },
  {
   "cell_type": "markdown",
   "metadata": {},
   "source": [
    "#### 리스트에 적용할 수 있는 기본 함수 \n",
    "min() : 리스트 내부에서 최소값 찾기   \n",
    "max() : 리스트 내부에서 최대값 찾기  \n",
    "sum() : 리스트 내부에서 값을 모두 더하기  \n"
   ]
  },
  {
   "cell_type": "markdown",
   "metadata": {},
   "source": [
    "#### reserved() : 리스트 뒤집기 "
   ]
  },
  {
   "cell_type": "code",
   "execution_count": 61,
   "metadata": {},
   "outputs": [
    {
     "name": "stdout",
     "output_type": "stream",
     "text": [
      "# reversed() 함수\n",
      "reversed([1, 2, 3, 4, 5]): <list_reverseiterator object at 0x000002467B066400>\n",
      "list(reversed([1, 2, 3, 4, 5])): [5, 4, 3, 2, 1]\n",
      "\n",
      "# reversed() 함수와 반복문\n",
      "for i in reversed([1, 2, 3, 4, 5]):\n",
      "- 5\n",
      "- 4\n",
      "- 3\n",
      "- 2\n",
      "- 1\n"
     ]
    }
   ],
   "source": [
    "# 리스트를 선언하고 뒤집습니다.\n",
    "list_a = [1, 2, 3, 4, 5]\n",
    "list_reversed = reversed(list_a)\n",
    "\n",
    "# 출력합니다.\n",
    "print(\"# reversed() 함수\")\n",
    "print(\"reversed([1, 2, 3, 4, 5]):\", list_reversed)\n",
    "print(\"list(reversed([1, 2, 3, 4, 5])):\", list(list_reversed))\n",
    "print()\n",
    "\n",
    "# 반복문을 적용해 봅니다.\n",
    "# 반복문과 조합할 때는 함수의 결과를 여러번 활용하지 않고 for 구문 내에서 함수를 곧바로 사용\n",
    "print(\"# reversed() 함수와 반복문\")\n",
    "print(\"for i in reversed([1, 2, 3, 4, 5]):\")\n",
    "for i in reversed(list_a):\n",
    "    print(\"-\", i)\n"
   ]
  },
  {
   "cell_type": "markdown",
   "metadata": {},
   "source": [
    "### enumerate() 함수와 반복문 조합\n",
    ": 리스트의 요소를 반복할 때 현재 인덱스가 몇번째 인덱스인지 확인이 가능"
   ]
  },
  {
   "cell_type": "code",
   "execution_count": 62,
   "metadata": {},
   "outputs": [
    {
     "name": "stdout",
     "output_type": "stream",
     "text": [
      "# 단순 출력\n",
      "['요소A', '요소B', '요소C']\n",
      "\n",
      "# enumberate() 함수 적용 출력\n",
      "<enumerate object at 0x000002467AE41678>\n",
      "\n",
      "# list() 함수로 강제 변환 출력\n",
      "[(0, '요소A'), (1, '요소B'), (2, '요소C')]\n",
      "\n",
      "# 반복문과 조합하기\n",
      "0번째 요소는 요소A입니다.\n",
      "1번째 요소는 요소B입니다.\n",
      "2번째 요소는 요소C입니다.\n"
     ]
    }
   ],
   "source": [
    "# 변수를 선언합니다.\n",
    "example_list = [\"요소A\", \"요소B\", \"요소C\"]\n",
    "\n",
    "# 그냥 출력합니다.\n",
    "print(\"# 단순 출력\")\n",
    "print(example_list)\n",
    "print()\n",
    "\n",
    "# enumerate() 함수를 적용해 출력합니다.\n",
    "print(\"# enumberate() 함수 적용 출력\")\n",
    "print(enumerate(example_list))\n",
    "print()\n",
    "\n",
    "# list() 함수로 강제 변환해 출력합니다.\n",
    "print(\"# list() 함수로 강제 변환 출력\")\n",
    "print(list(enumerate(example_list)))\n",
    "print()\n",
    "\n",
    "# for 반복문과 enumerate() 함수 조합해서 사용하기\n",
    "print(\"# 반복문과 조합하기\")\n",
    "for i, value in enumerate(example_list):\n",
    "    print(\"{}번째 요소는 {}입니다.\".format(i, value))\n"
   ]
  },
  {
   "cell_type": "markdown",
   "metadata": {},
   "source": [
    "### 딕셔너리의 items() 함수와 반복문 조합\n",
    ": 딕셔너리의 키와 값을 조합해서 반복문 만들기"
   ]
  },
  {
   "cell_type": "code",
   "execution_count": 63,
   "metadata": {},
   "outputs": [
    {
     "name": "stdout",
     "output_type": "stream",
     "text": [
      "# 딕셔너리의 items() 함수\n",
      "items(): dict_items([('키A', '값A'), ('키B', '값B'), ('키C', '값C')])\n",
      "\n",
      "# 딕셔너리의 items() 함수와 반복문 조합하기\n",
      "dictionary[키A] = 값A\n",
      "dictionary[키B] = 값B\n",
      "dictionary[키C] = 값C\n"
     ]
    }
   ],
   "source": [
    "# 변수를 선언합니다.\n",
    "example_dictionary = {\n",
    "    \"키A\": \"값A\",\n",
    "    \"키B\": \"값B\",\n",
    "    \"키C\": \"값C\",\n",
    "    }\n",
    "\n",
    "# 딕셔너리의 items() 함수 결과 출력하기\n",
    "print(\"# 딕셔너리의 items() 함수\")\n",
    "print(\"items():\", example_dictionary.items())\n",
    "print()\n",
    "\n",
    "# for 반복문과 items() 함수 조합해서 사용하기\n",
    "print(\"# 딕셔너리의 items() 함수와 반복문 조합하기\")\n",
    "\n",
    "for key, element in example_dictionary.items():\n",
    "    print(\"dictionary[{}] = {}\".format(key, element))\n"
   ]
  },
  {
   "cell_type": "markdown",
   "metadata": {},
   "source": [
    "### 리스트 내포\n",
    "리스트 이름 = [표현식 for 반복자 in 반복할 수 있는 것 if 조건문 ]"
   ]
  },
  {
   "cell_type": "code",
   "execution_count": 64,
   "metadata": {},
   "outputs": [
    {
     "name": "stdout",
     "output_type": "stream",
     "text": [
      "[0, 4, 16, 36, 64, 100, 144, 196, 256, 324]\n"
     ]
    }
   ],
   "source": [
    "# 변수를 선언합니다.\n",
    "array = []\n",
    "\n",
    "# 반복문을 적용합니다.\n",
    "for i in range(0, 20, 2):\n",
    "    array.append(i * i)\n",
    "    \n",
    "# 출력합니다.\n",
    "print(array)\n"
   ]
  },
  {
   "cell_type": "code",
   "execution_count": 65,
   "metadata": {},
   "outputs": [
    {
     "name": "stdout",
     "output_type": "stream",
     "text": [
      "[0, 4, 16, 36, 64, 100, 144, 196, 256, 324]\n"
     ]
    }
   ],
   "source": [
    "# 리스트를 선언합니다.\n",
    "array = [i * i for i in range(0, 20, 2)]\n",
    "\n",
    "# 출력합니다.\n",
    "print(array)\n"
   ]
  },
  {
   "cell_type": "code",
   "execution_count": 66,
   "metadata": {},
   "outputs": [
    {
     "name": "stdout",
     "output_type": "stream",
     "text": [
      "['사과', '자두', '바나나', '체리']\n"
     ]
    }
   ],
   "source": [
    "# 리스트를 선언합니다.\n",
    "array = [\"사과\", \"자두\", \"초콜릿\", \"바나나\", \"체리\"]\n",
    "output = [fruit for fruit in array if fruit != \"초콜릿\"]\n",
    "\n",
    "# 출력합니다.\n",
    "print(output)\n"
   ]
  },
  {
   "cell_type": "code",
   "execution_count": null,
   "metadata": {},
   "outputs": [],
   "source": []
  }
 ],
 "metadata": {
  "kernelspec": {
   "display_name": "Python 3",
   "language": "python",
   "name": "python3"
  },
  "language_info": {
   "codemirror_mode": {
    "name": "ipython",
    "version": 3
   },
   "file_extension": ".py",
   "mimetype": "text/x-python",
   "name": "python",
   "nbconvert_exporter": "python",
   "pygments_lexer": "ipython3",
   "version": "3.6.5"
  }
 },
 "nbformat": 4,
 "nbformat_minor": 4
}
