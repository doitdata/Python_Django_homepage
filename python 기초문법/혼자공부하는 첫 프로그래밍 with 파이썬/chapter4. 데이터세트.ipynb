{
 "cells": [
  {
   "cell_type": "code",
   "execution_count": 4,
   "metadata": {},
   "outputs": [
    {
     "name": "stdout",
     "output_type": "stream",
     "text": [
      "드링킹 요쿠르트 매출액 :  7200\n",
      "우유 매출액 :  3000\n",
      "--------------------\n",
      "총매출액:  10200\n",
      "총판매량:  6\n"
     ]
    }
   ],
   "source": [
    "yo_price = 1800\n",
    "yo_qty = 4\n",
    "milk_price = 1500\n",
    "milk_qty = 2\n",
    "\n",
    "yo_sales = yo_price*yo_qty\n",
    "milk_sales = milk_price*milk_qty\n",
    "\n",
    "total_sales = yo_sales + milk_sales\n",
    "total_qty = yo_qty + milk_qty\n",
    "\n",
    "print('드링킹 요쿠르트 매출액 : ', str(yo_sales))\n",
    "print('우유 매출액 : ', str(milk_sales))\n",
    "print('-' * 20)\n",
    "print('총매출액: ', str(total_sales))\n",
    "print('총판매량: ', str(total_qty))"
   ]
  },
  {
   "cell_type": "code",
   "execution_count": 5,
   "metadata": {},
   "outputs": [
    {
     "name": "stdout",
     "output_type": "stream",
     "text": [
      "드링킹 요쿠르트 매출액 :  7200\n",
      "우유 매출액 :  3000\n",
      "홈런공 매출액 :  3000\n",
      "--------------------\n",
      "총매출액:  13200\n",
      "총판매량:  9\n"
     ]
    }
   ],
   "source": [
    "yo_price = 1800\n",
    "yo_qty = 4\n",
    "milk_price = 1500\n",
    "milk_qty = 2\n",
    "hr_price = 1000\n",
    "hr_qty = 3\n",
    "\n",
    "yo_sales = yo_price*yo_qty\n",
    "milk_sales = milk_price*milk_qty\n",
    "hr_sales = hr_price * hr_qty\n",
    "\n",
    "total_sales = yo_sales + milk_sales + hr_sales\n",
    "total_qty = yo_qty + milk_qty + hr_qty\n",
    "\n",
    "print('드링킹 요쿠르트 매출액 : ', str(yo_sales))\n",
    "print('우유 매출액 : ', str(milk_sales))\n",
    "print('홈런공 매출액 : ', str(hr_sales))\n",
    "print('-' * 20)\n",
    "print('총매출액: ', str(total_sales))\n",
    "print('총판매량: ', str(total_qty))"
   ]
  },
  {
   "cell_type": "code",
   "execution_count": 6,
   "metadata": {},
   "outputs": [
    {
     "name": "stdout",
     "output_type": "stream",
     "text": [
      "요구르트 1월 판매량 합계:  80\n",
      "요구르트 2월 판매량 합계:  65\n",
      "요구르트 3월 판매량 합계:  67\n"
     ]
    }
   ],
   "source": [
    "yo_qty_1 = [15,16,20,29]\n",
    "yo_qty_2 = [8,11,25,21]\n",
    "yo_qty_3 = [17,9,17,24]\n",
    "\n",
    "print('요구르트 1월 판매량 합계: ', str(sum(yo_qty_1)))\n",
    "print('요구르트 2월 판매량 합계: ', str(sum(yo_qty_2)))\n",
    "print('요구르트 3월 판매량 합계: ', str(sum(yo_qty_3)))"
   ]
  },
  {
   "cell_type": "code",
   "execution_count": 8,
   "metadata": {},
   "outputs": [
    {
     "name": "stdout",
     "output_type": "stream",
     "text": [
      "요구르트 1월 판매량 합계:  80\n",
      "요구르트 2월 판매량 합계:  65\n",
      "요구르트 3월 판매량 합계:  67\n",
      "요구르트 4월 판매량 합계:  81\n",
      "요구르트 5월 판매량 합계:  55\n",
      "요구르트 6월 판매량 합계:  69\n"
     ]
    }
   ],
   "source": [
    "yo_qty_1 = [15,16,20,29]\n",
    "yo_qty_2 = [8,11,25,21]\n",
    "yo_qty_3 = [17,9,17,24]\n",
    "yo_qty_4 = [19,29,29,4]\n",
    "yo_qty_5 = [5,20,18,12]\n",
    "yo_qty_6 = [21,7,27,14]\n",
    "\n",
    "\n",
    "print('요구르트 1월 판매량 합계: ', str(sum(yo_qty_1)))\n",
    "print('요구르트 2월 판매량 합계: ', str(sum(yo_qty_2)))\n",
    "print('요구르트 3월 판매량 합계: ', str(sum(yo_qty_3)))\n",
    "print('요구르트 4월 판매량 합계: ', str(sum(yo_qty_4)))\n",
    "print('요구르트 5월 판매량 합계: ', str(sum(yo_qty_5)))\n",
    "print('요구르트 6월 판매량 합계: ', str(sum(yo_qty_6)))"
   ]
  },
  {
   "cell_type": "code",
   "execution_count": null,
   "metadata": {},
   "outputs": [],
   "source": []
  }
 ],
 "metadata": {
  "kernelspec": {
   "display_name": "Python 3",
   "language": "python",
   "name": "python3"
  },
  "language_info": {
   "codemirror_mode": {
    "name": "ipython",
    "version": 3
   },
   "file_extension": ".py",
   "mimetype": "text/x-python",
   "name": "python",
   "nbconvert_exporter": "python",
   "pygments_lexer": "ipython3",
   "version": "3.6.5"
  }
 },
 "nbformat": 4,
 "nbformat_minor": 4
}
