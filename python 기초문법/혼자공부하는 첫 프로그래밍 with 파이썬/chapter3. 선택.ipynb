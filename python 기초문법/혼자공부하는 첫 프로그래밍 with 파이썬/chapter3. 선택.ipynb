{
 "cells": [
  {
   "cell_type": "code",
   "execution_count": 1,
   "metadata": {},
   "outputs": [
    {
     "name": "stdout",
     "output_type": "stream",
     "text": [
      "False\n",
      "False\n",
      "True\n",
      "True\n",
      "False\n"
     ]
    }
   ],
   "source": [
    "print(325 > 325)\n",
    "print(325 != 325)\n",
    "print(0 == 0)\n",
    "print('abc' <= 'abc')\n",
    "print('323' != '323')"
   ]
  },
  {
   "cell_type": "code",
   "execution_count": 2,
   "metadata": {},
   "outputs": [
    {
     "name": "stdout",
     "output_type": "stream",
     "text": [
      "True\n",
      "False\n",
      "False\n"
     ]
    }
   ],
   "source": [
    "my_age = 20\n",
    "my_money = 10000\n",
    "print(my_age > 19)\n",
    "print(my_money >= 25000)\n",
    "print(my_age >= 19 and my_money >= 25000)"
   ]
  },
  {
   "cell_type": "code",
   "execution_count": 6,
   "metadata": {},
   "outputs": [
    {
     "name": "stdout",
     "output_type": "stream",
     "text": [
      "비 내리니? False\n",
      "우산을 가져가지않는다\n"
     ]
    }
   ],
   "source": [
    "weather = '맑음'\n",
    "\n",
    "print('비 내리니?', weather == '비')\n",
    "if weather == '비':\n",
    "    print('우산을 가져간다')\n",
    "else:\n",
    "    print('우산을 가져가지않는다')"
   ]
  },
  {
   "cell_type": "code",
   "execution_count": 7,
   "metadata": {},
   "outputs": [
    {
     "name": "stdout",
     "output_type": "stream",
     "text": [
      "비 내리니? True\n",
      "우산을 가져간다\n"
     ]
    }
   ],
   "source": [
    "weather = '비'\n",
    "\n",
    "print('비 내리니?', weather == '비')\n",
    "if weather == '비':\n",
    "    print('우산을 가져간다')\n",
    "else:\n",
    "    print('우산을 가져가지않는다')"
   ]
  },
  {
   "cell_type": "code",
   "execution_count": 9,
   "metadata": {},
   "outputs": [
    {
     "name": "stdout",
     "output_type": "stream",
     "text": [
      "^1000\n"
     ]
    }
   ],
   "source": [
    "opening = 54700\n",
    "closing = 55700\n",
    "\n",
    "diff = closing - opening\n",
    "if diff > 0 :\n",
    "    print('^' + str(diff))\n",
    "elif diff < 0:\n",
    "    print('v' + str(diff))\n",
    "else:\n",
    "    print('-')"
   ]
  },
  {
   "cell_type": "code",
   "execution_count": 11,
   "metadata": {},
   "outputs": [
    {
     "name": "stdout",
     "output_type": "stream",
     "text": [
      "종료\n"
     ]
    }
   ],
   "source": [
    "opening = 54700\n",
    "closing = 55700\n",
    "\n",
    "diff = closing - opening\n",
    "if diff > 0 :\n",
    "    pass\n",
    "elif diff < 0:\n",
    "    pass\n",
    "else:\n",
    "    pass\n",
    "    print(diff)\n",
    "print('종료')"
   ]
  },
  {
   "cell_type": "code",
   "execution_count": null,
   "metadata": {},
   "outputs": [],
   "source": []
  }
 ],
 "metadata": {
  "kernelspec": {
   "display_name": "Python 3",
   "language": "python",
   "name": "python3"
  },
  "language_info": {
   "codemirror_mode": {
    "name": "ipython",
    "version": 3
   },
   "file_extension": ".py",
   "mimetype": "text/x-python",
   "name": "python",
   "nbconvert_exporter": "python",
   "pygments_lexer": "ipython3",
   "version": "3.6.5"
  }
 },
 "nbformat": 4,
 "nbformat_minor": 4
}
