{
 "cells": [
  {
   "cell_type": "code",
   "execution_count": 1,
   "metadata": {},
   "outputs": [
    {
     "name": "stdout",
     "output_type": "stream",
     "text": [
      "3.25\n",
      "3.25\n"
     ]
    }
   ],
   "source": [
    "print(abs(3.25))\n",
    "print(abs(-3.25))"
   ]
  },
  {
   "cell_type": "code",
   "execution_count": 2,
   "metadata": {},
   "outputs": [
    {
     "name": "stdout",
     "output_type": "stream",
     "text": [
      "3\n",
      "2\n",
      "3\n"
     ]
    }
   ],
   "source": [
    "print(len('혼공파'))\n",
    "print(len([1,2]))\n",
    "print(len({'이름' : '혼공프', '사용언어': '파이썬', '대상독자' : '입문자'}))"
   ]
  },
  {
   "cell_type": "code",
   "execution_count": 5,
   "metadata": {},
   "outputs": [
    {
     "name": "stdout",
     "output_type": "stream",
     "text": [
      "523\n",
      "3.23\n"
     ]
    }
   ],
   "source": [
    "print(sum([500, 20, 3]))\n",
    "print(sum([3, 0.23]))"
   ]
  },
  {
   "cell_type": "code",
   "execution_count": 7,
   "metadata": {},
   "outputs": [
    {
     "name": "stdout",
     "output_type": "stream",
     "text": [
      "커피장인\n"
     ]
    }
   ],
   "source": [
    "def get_shop_name():\n",
    "    return '커피장인'\n",
    "\n",
    "print(get_shop_name())"
   ]
  },
  {
   "cell_type": "code",
   "execution_count": 11,
   "metadata": {},
   "outputs": [
    {
     "name": "stdout",
     "output_type": "stream",
     "text": [
      "커피 장인\n",
      "여의도 본점\n"
     ]
    }
   ],
   "source": [
    "def get_shop_name():\n",
    "    return '커피 장인'\n",
    "\n",
    "def get_branch_name():\n",
    "    return '여의도 본점'\n",
    "\n",
    "def print_name():\n",
    "    print(get_shop_name())\n",
    "    print(get_branch_name())\n",
    "    \n",
    "print_name()"
   ]
  },
  {
   "cell_type": "code",
   "execution_count": 13,
   "metadata": {},
   "outputs": [
    {
     "name": "stdout",
     "output_type": "stream",
     "text": [
      "None\n",
      "None\n"
     ]
    }
   ],
   "source": [
    "def no_return():\n",
    "    pass\n",
    "\n",
    "def no_resturn_value():\n",
    "    return\n",
    "\n",
    "print(no_return())\n",
    "print(no_resturn_value())"
   ]
  },
  {
   "cell_type": "code",
   "execution_count": 14,
   "metadata": {},
   "outputs": [
    {
     "name": "stdout",
     "output_type": "stream",
     "text": [
      "5\n"
     ]
    }
   ],
   "source": [
    "def add(x,y):\n",
    "    return x + y\n",
    "\n",
    "print(add(2,3))"
   ]
  },
  {
   "cell_type": "code",
   "execution_count": 15,
   "metadata": {},
   "outputs": [
    {
     "name": "stdout",
     "output_type": "stream",
     "text": [
      "[]\n",
      "[{'이름': '아메리카노', '수량': 2}, {'이름': '플랫 화이트', '수량': 1}]\n"
     ]
    }
   ],
   "source": [
    "order_detail = []\n",
    "\n",
    "def make_order(name, qty):\n",
    "    order_detail.append({'이름':name, '수량': qty})\n",
    "    \n",
    "print(order_detail)\n",
    "make_order('아메리카노', 2)\n",
    "make_order('플랫 화이트', 1)\n",
    "\n",
    "print(order_detail)"
   ]
  },
  {
   "cell_type": "code",
   "execution_count": 16,
   "metadata": {},
   "outputs": [
    {
     "name": "stdout",
     "output_type": "stream",
     "text": [
      "True\n",
      "False\n"
     ]
    }
   ],
   "source": [
    "def is_odd_number(arg):\n",
    "    if arg % 2 == 1:\n",
    "        return True\n",
    "    \n",
    "    return False\n",
    "\n",
    "print(is_odd_number(3))\n",
    "print(is_odd_number(2))"
   ]
  },
  {
   "cell_type": "code",
   "execution_count": 23,
   "metadata": {},
   "outputs": [
    {
     "name": "stdout",
     "output_type": "stream",
     "text": [
      "*****************\n",
      "* Hello, World! *\n",
      "*****************\n",
      "\n",
      "*******\n",
      "* 323 *\n",
      "*******\n",
      "\n"
     ]
    }
   ],
   "source": [
    "def get_bordered_str(arg):\n",
    "    result = ''\n",
    "    sep = '*'\n",
    "    length = len(arg)\n",
    "    result = result + (sep * (length+4) + '\\n')\n",
    "    result = result + (sep + \" \" + arg + ' ' + sep + '\\n')\n",
    "    result = result + (sep * (length+4) + '\\n')\n",
    "    return result\n",
    "\n",
    "print(get_bordered_str('Hello, World!'))\n",
    "print(get_bordered_str('323'))\n",
    "    "
   ]
  },
  {
   "cell_type": "code",
   "execution_count": 25,
   "metadata": {},
   "outputs": [
    {
     "name": "stdout",
     "output_type": "stream",
     "text": [
      "오류, 요소의 개수가 0입니다\n",
      "{'합계': 5, '평균': 2.5}\n",
      "{'합계': 5, '평균': 1.0}\n"
     ]
    }
   ],
   "source": [
    "def get_sum_and_average(arg):\n",
    "    length = len(arg)\n",
    "    \n",
    "    if length == 0:\n",
    "        return '오류, 요소의 개수가 0입니다'\n",
    "    \n",
    "    total = 0\n",
    "    for x in arg :\n",
    "        total = total + x\n",
    "    return {'합계': total, '평균':total/length}\n",
    "\n",
    "print(get_sum_and_average([]))\n",
    "print(get_sum_and_average([3,2]))\n",
    "print(get_sum_and_average([-1,0,1,2,3]))"
   ]
  },
  {
   "cell_type": "code",
   "execution_count": 27,
   "metadata": {},
   "outputs": [
    {
     "name": "stdout",
     "output_type": "stream",
     "text": [
      "3초\n",
      "1분0초\n",
      "5분23초\n",
      "1시간10분46초\n"
     ]
    }
   ],
   "source": [
    "def convert_second(arg):\n",
    "    if arg < 60:\n",
    "        # 60초 미만이라면, 초만 출력\n",
    "        return str(arg) + '초'\n",
    "    \n",
    "    seconds =arg % 60\n",
    "    minutes = arg // 60\n",
    "    \n",
    "    if minutes < 60:\n",
    "        # 60분 미만이라면, 분과 초를 출력\n",
    "        return str(minutes) + '분' + str(seconds) +'초'\n",
    "    \n",
    "    # 그외의 경우, 시간, 분, 초를 출력\n",
    "    hours  =minutes // 60\n",
    "    minutes = minutes % 60\n",
    "    return str(hours) + '시간' + str(minutes) + '분' + str(seconds) + '초'\n",
    "\n",
    "\n",
    "print(convert_second(3))\n",
    "print(convert_second(60))\n",
    "print(convert_second(323))\n",
    "print(convert_second(60*60+323*2))"
   ]
  },
  {
   "cell_type": "code",
   "execution_count": null,
   "metadata": {},
   "outputs": [],
   "source": []
  }
 ],
 "metadata": {
  "kernelspec": {
   "display_name": "Python 3",
   "language": "python",
   "name": "python3"
  },
  "language_info": {
   "codemirror_mode": {
    "name": "ipython",
    "version": 3
   },
   "file_extension": ".py",
   "mimetype": "text/x-python",
   "name": "python",
   "nbconvert_exporter": "python",
   "pygments_lexer": "ipython3",
   "version": "3.6.5"
  }
 },
 "nbformat": 4,
 "nbformat_minor": 4
}
