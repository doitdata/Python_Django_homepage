{
 "cells": [
  {
   "cell_type": "code",
   "execution_count": 1,
   "metadata": {},
   "outputs": [
    {
     "name": "stdout",
     "output_type": "stream",
     "text": [
      "1!\n",
      "2!\n",
      "3!\n"
     ]
    }
   ],
   "source": [
    "count = 1\n",
    "while count < 4 :\n",
    "    print(str(count) + '!')\n",
    "    count += 1"
   ]
  },
  {
   "cell_type": "code",
   "execution_count": 2,
   "metadata": {},
   "outputs": [
    {
     "name": "stdout",
     "output_type": "stream",
     "text": [
      "3\n",
      "2\n",
      "1\n"
     ]
    }
   ],
   "source": [
    "count = 3\n",
    "while count > 0:\n",
    "    print(count)\n",
    "    count = count -1"
   ]
  },
  {
   "cell_type": "code",
   "execution_count": 4,
   "metadata": {},
   "outputs": [
    {
     "name": "stdout",
     "output_type": "stream",
     "text": [
      "달걀1\n",
      "달걀2\n",
      "달걀3\n"
     ]
    }
   ],
   "source": [
    "egg_list = ['달걀1', '달걀2', '달걀3']\n",
    "for egg in egg_list:\n",
    "    print(egg)"
   ]
  },
  {
   "cell_type": "code",
   "execution_count": 5,
   "metadata": {},
   "outputs": [
    {
     "name": "stdout",
     "output_type": "stream",
     "text": [
      "달걀1\n",
      "달걀2\n",
      "달걀3\n"
     ]
    }
   ],
   "source": [
    "egg_list = ['달걀1', '달걀2', '달걀3']\n",
    "for egg in egg_list:\n",
    "    print(egg)"
   ]
  },
  {
   "cell_type": "code",
   "execution_count": 6,
   "metadata": {},
   "outputs": [
    {
     "name": "stdout",
     "output_type": "stream",
     "text": [
      "달걀1: 달걀 프라이를 만듭니다\n",
      "달걀2: 달걀 프라이를 만듭니다\n",
      "달걀3: 달걀 프라이를 만듭니다\n"
     ]
    }
   ],
   "source": [
    "egg_list = ['달걀1', '달걀2', '달걀3']\n",
    "for egg in egg_list:\n",
    "    print(egg + ': 달걀 프라이를 만듭니다')"
   ]
  },
  {
   "cell_type": "code",
   "execution_count": 7,
   "metadata": {},
   "outputs": [
    {
     "name": "stdout",
     "output_type": "stream",
     "text": [
      "달걀 프라이를 만듭니다\n",
      "달걀 프라이를 만듭니다\n",
      "달걀 프라이를 만듭니다\n"
     ]
    }
   ],
   "source": [
    "egg_list = range(3)\n",
    "for egg in egg_list:\n",
    "    print('달걀 프라이를 만듭니다')"
   ]
  },
  {
   "cell_type": "code",
   "execution_count": 9,
   "metadata": {},
   "outputs": [
    {
     "name": "stdout",
     "output_type": "stream",
     "text": [
      "0: 달걀 프라이를 만듭니다\n",
      "1: 달걀 프라이를 만듭니다\n",
      "2: 달걀 프라이를 만듭니다\n"
     ]
    }
   ],
   "source": [
    "egg_list = range(3)\n",
    "for egg in egg_list:\n",
    "    print(str(egg) + ': 달걀 프라이를 만듭니다')"
   ]
  },
  {
   "cell_type": "code",
   "execution_count": 10,
   "metadata": {},
   "outputs": [
    {
     "name": "stdout",
     "output_type": "stream",
     "text": [
      "0: 달걀 프라이를 만듭니다\n",
      "1: 달걀 프라이를 만듭니다\n",
      "2: 달걀 프라이를 만듭니다\n",
      "3: 달걀 프라이를 만듭니다\n",
      "4: 달걀 프라이를 만듭니다\n",
      "5: 달걀 프라이를 만듭니다\n",
      "6: 달걀 프라이를 만듭니다\n",
      "7: 달걀 프라이를 만듭니다\n",
      "8: 달걀 프라이를 만듭니다\n",
      "9: 달걀 프라이를 만듭니다\n",
      "10: 달걀 프라이를 만듭니다\n",
      "11: 달걀 프라이를 만듭니다\n",
      "12: 달걀 프라이를 만듭니다\n",
      "13: 달걀 프라이를 만듭니다\n",
      "14: 달걀 프라이를 만듭니다\n",
      "15: 달걀 프라이를 만듭니다\n",
      "16: 달걀 프라이를 만듭니다\n",
      "17: 달걀 프라이를 만듭니다\n",
      "18: 달걀 프라이를 만듭니다\n",
      "19: 달걀 프라이를 만듭니다\n",
      "20: 달걀 프라이를 만듭니다\n",
      "21: 달걀 프라이를 만듭니다\n",
      "22: 달걀 프라이를 만듭니다\n",
      "23: 달걀 프라이를 만듭니다\n",
      "24: 달걀 프라이를 만듭니다\n",
      "25: 달걀 프라이를 만듭니다\n",
      "26: 달걀 프라이를 만듭니다\n",
      "27: 달걀 프라이를 만듭니다\n",
      "28: 달걀 프라이를 만듭니다\n",
      "29: 달걀 프라이를 만듭니다\n",
      "30: 달걀 프라이를 만듭니다\n",
      "31: 달걀 프라이를 만듭니다\n",
      "32: 달걀 프라이를 만듭니다\n",
      "33: 달걀 프라이를 만듭니다\n",
      "34: 달걀 프라이를 만듭니다\n",
      "35: 달걀 프라이를 만듭니다\n",
      "36: 달걀 프라이를 만듭니다\n",
      "37: 달걀 프라이를 만듭니다\n",
      "38: 달걀 프라이를 만듭니다\n",
      "39: 달걀 프라이를 만듭니다\n",
      "40: 달걀 프라이를 만듭니다\n",
      "41: 달걀 프라이를 만듭니다\n",
      "42: 달걀 프라이를 만듭니다\n",
      "43: 달걀 프라이를 만듭니다\n",
      "44: 달걀 프라이를 만듭니다\n",
      "45: 달걀 프라이를 만듭니다\n",
      "46: 달걀 프라이를 만듭니다\n",
      "47: 달걀 프라이를 만듭니다\n",
      "48: 달걀 프라이를 만듭니다\n",
      "49: 달걀 프라이를 만듭니다\n",
      "50: 달걀 프라이를 만듭니다\n",
      "51: 달걀 프라이를 만듭니다\n",
      "52: 달걀 프라이를 만듭니다\n",
      "53: 달걀 프라이를 만듭니다\n",
      "54: 달걀 프라이를 만듭니다\n",
      "55: 달걀 프라이를 만듭니다\n",
      "56: 달걀 프라이를 만듭니다\n",
      "57: 달걀 프라이를 만듭니다\n",
      "58: 달걀 프라이를 만듭니다\n",
      "59: 달걀 프라이를 만듭니다\n",
      "60: 달걀 프라이를 만듭니다\n",
      "61: 달걀 프라이를 만듭니다\n",
      "62: 달걀 프라이를 만듭니다\n",
      "63: 달걀 프라이를 만듭니다\n",
      "64: 달걀 프라이를 만듭니다\n",
      "65: 달걀 프라이를 만듭니다\n",
      "66: 달걀 프라이를 만듭니다\n",
      "67: 달걀 프라이를 만듭니다\n",
      "68: 달걀 프라이를 만듭니다\n",
      "69: 달걀 프라이를 만듭니다\n",
      "70: 달걀 프라이를 만듭니다\n",
      "71: 달걀 프라이를 만듭니다\n",
      "72: 달걀 프라이를 만듭니다\n",
      "73: 달걀 프라이를 만듭니다\n",
      "74: 달걀 프라이를 만듭니다\n",
      "75: 달걀 프라이를 만듭니다\n",
      "76: 달걀 프라이를 만듭니다\n",
      "77: 달걀 프라이를 만듭니다\n",
      "78: 달걀 프라이를 만듭니다\n",
      "79: 달걀 프라이를 만듭니다\n",
      "80: 달걀 프라이를 만듭니다\n",
      "81: 달걀 프라이를 만듭니다\n",
      "82: 달걀 프라이를 만듭니다\n",
      "83: 달걀 프라이를 만듭니다\n",
      "84: 달걀 프라이를 만듭니다\n",
      "85: 달걀 프라이를 만듭니다\n",
      "86: 달걀 프라이를 만듭니다\n",
      "87: 달걀 프라이를 만듭니다\n",
      "88: 달걀 프라이를 만듭니다\n",
      "89: 달걀 프라이를 만듭니다\n",
      "90: 달걀 프라이를 만듭니다\n",
      "91: 달걀 프라이를 만듭니다\n",
      "92: 달걀 프라이를 만듭니다\n",
      "93: 달걀 프라이를 만듭니다\n",
      "94: 달걀 프라이를 만듭니다\n",
      "95: 달걀 프라이를 만듭니다\n",
      "96: 달걀 프라이를 만듭니다\n",
      "97: 달걀 프라이를 만듭니다\n",
      "98: 달걀 프라이를 만듭니다\n",
      "99: 달걀 프라이를 만듭니다\n"
     ]
    }
   ],
   "source": [
    "egg_list = range(100)\n",
    "for egg in egg_list:\n",
    "    print(str(egg) + ': 달걀 프라이를 만듭니다')"
   ]
  },
  {
   "cell_type": "code",
   "execution_count": 11,
   "metadata": {},
   "outputs": [
    {
     "name": "stdout",
     "output_type": "stream",
     "text": [
      "1!\n",
      "2!\n",
      "3!\n"
     ]
    }
   ],
   "source": [
    "count = range(3)\n",
    "\n",
    "for n in count:\n",
    "    print(str(n +1) + '!')"
   ]
  },
  {
   "cell_type": "code",
   "execution_count": 12,
   "metadata": {},
   "outputs": [
    {
     "name": "stdout",
     "output_type": "stream",
     "text": [
      "1!\n"
     ]
    }
   ],
   "source": [
    "count = range(3)\n",
    "\n",
    "for n in count:\n",
    "    print(str(n +1) + '!')\n",
    "    break \n",
    "    print('이후의 코드는 처리되지 않습니다')"
   ]
  },
  {
   "cell_type": "code",
   "execution_count": 13,
   "metadata": {},
   "outputs": [
    {
     "name": "stdout",
     "output_type": "stream",
     "text": [
      "1!\n",
      "2!\n",
      "3!\n",
      "그만\n"
     ]
    }
   ],
   "source": [
    "count = range(30)\n",
    "\n",
    "for n in count:\n",
    "    print(str(n +1) + '!')\n",
    "    if (n+1) == 3:\n",
    "        print('그만')\n",
    "        break "
   ]
  },
  {
   "cell_type": "code",
   "execution_count": 15,
   "metadata": {},
   "outputs": [
    {
     "name": "stdout",
     "output_type": "stream",
     "text": [
      "3!\n",
      "6!\n",
      "9!\n"
     ]
    }
   ],
   "source": [
    "count = range(10)\n",
    "\n",
    "for n in count:\n",
    "    if (n+1) % 3 != 0:\n",
    "        continue\n",
    "    print(str(n+1) + '!')"
   ]
  },
  {
   "cell_type": "code",
   "execution_count": 1,
   "metadata": {},
   "outputs": [
    {
     "name": "stdout",
     "output_type": "stream",
     "text": [
      "혼\n",
      "공\n",
      "족\n"
     ]
    }
   ],
   "source": [
    "string = '혼공족'\n",
    "for char in string:\n",
    "    print(char)"
   ]
  },
  {
   "cell_type": "code",
   "execution_count": 2,
   "metadata": {},
   "outputs": [
    {
     "name": "stdout",
     "output_type": "stream",
     "text": [
      "혼자 공부하는 첫 프로그래밍\n",
      "혼자 공부하는 파이썬\n"
     ]
    }
   ],
   "source": [
    "# 하나의 리스트를 반복 처리하는 방법\n",
    "book_list = ['혼자 공부하는 첫 프로그래밍', '혼자 공부하는 파이썬']\n",
    "for book in book_list:\n",
    "    print(book)"
   ]
  },
  {
   "cell_type": "code",
   "execution_count": 3,
   "metadata": {},
   "outputs": [
    {
     "name": "stdout",
     "output_type": "stream",
     "text": [
      "드링킹 요구르트매출액 : 7200\n",
      "딸기 우유매출액 : 3000\n"
     ]
    }
   ],
   "source": [
    "name_set = ['드링킹 요구르트', '딸기 우유']\n",
    "price_set = [1800, 1500]\n",
    "qty_set = [4,2]\n",
    "\n",
    "name = name_set[0]\n",
    "sales = price_set[0] * qty_set[0]\n",
    "print(name + '매출액 : ' + str(sales))\n",
    "\n",
    "name = name_set[1]\n",
    "sales = price_set[1] * qty_set[1]\n",
    "print(name + '매출액 : ' + str(sales))\n"
   ]
  },
  {
   "cell_type": "code",
   "execution_count": 6,
   "metadata": {},
   "outputs": [
    {
     "name": "stdout",
     "output_type": "stream",
     "text": [
      "드링킹 요구르트 매출액 : 7200\n",
      "딸기우유 매출액 : 3000\n"
     ]
    }
   ],
   "source": [
    "# 여러개의 리스트를 하나의 for문으로 처리하는 방법\n",
    "name_set = ['드링킹 요구르트', '딸기우유']\n",
    "price_set = [1800, 1500]\n",
    "qty_set = [4, 2]\n",
    "\n",
    "for i in [0,1]:\n",
    "    name = name_set[i]\n",
    "    sales = price_set[i] * qty_set[i]\n",
    "    print(name + ' 매출액 : ' + str(sales))"
   ]
  },
  {
   "cell_type": "code",
   "execution_count": 7,
   "metadata": {},
   "outputs": [
    {
     "name": "stdout",
     "output_type": "stream",
     "text": [
      "드링킹 요구르트 매출액 : 7200\n",
      "딸기우유 매출액 : 3000\n",
      "홈런공 매출액 : 3000\n"
     ]
    }
   ],
   "source": [
    "# 여러개의 리스트를 하나의 for문으로 처리하는 방법\n",
    "name_set = ['드링킹 요구르트', '딸기우유', '홈런공']\n",
    "price_set = [1800, 1500, 1000]\n",
    "qty_set = [4, 2, 3]\n",
    "\n",
    "for i in [0,1, 2]:\n",
    "    name = name_set[i]\n",
    "    sales = price_set[i] * qty_set[i]\n",
    "    print(name + ' 매출액 : ' + str(sales))"
   ]
  },
  {
   "cell_type": "code",
   "execution_count": 8,
   "metadata": {},
   "outputs": [
    {
     "name": "stdout",
     "output_type": "stream",
     "text": [
      "드링킹 요구르트\n",
      "딸기우유\n",
      "홈런공\n"
     ]
    }
   ],
   "source": [
    "name_set = ['드링킹 요구르트', '딸기우유', '홈런공']\n",
    "for i in [0,1,2]: # 상품이름에 따라 개수를 하나하나 적는것 -> 하드코딩\n",
    "    print(name_set[i])"
   ]
  },
  {
   "cell_type": "code",
   "execution_count": 11,
   "metadata": {},
   "outputs": [
    {
     "name": "stdout",
     "output_type": "stream",
     "text": [
      "드링킹 요구르트\n",
      "딸기우유\n",
      "홈런공\n"
     ]
    }
   ],
   "source": [
    "name_set = ['드링킹 요구르트', '딸기우유', '홈런공']\n",
    "for i in range(3): # 상품이름에 따라 개수를 하나하나 적는것 -> 하드코딩\n",
    "    print(name_set[i])"
   ]
  },
  {
   "cell_type": "code",
   "execution_count": 12,
   "metadata": {},
   "outputs": [
    {
     "name": "stdout",
     "output_type": "stream",
     "text": [
      "2\n",
      "10\n"
     ]
    }
   ],
   "source": [
    "book_list = ['혼자 공부하는 첫 프로그래밍', '혼자 공부하는 파이썬']\n",
    "print(len(book_list))\n",
    "\n",
    "count_down = [10,9,8,7,6,5,4,3,2,1]\n",
    "print(len(count_down))"
   ]
  },
  {
   "cell_type": "code",
   "execution_count": 13,
   "metadata": {},
   "outputs": [
    {
     "name": "stdout",
     "output_type": "stream",
     "text": [
      "드링킹 요구르트\n",
      "딸기우유\n",
      "홈런공\n"
     ]
    }
   ],
   "source": [
    "name_set = ['드링킹 요구르트', '딸기우유', '홈런공']\n",
    "for i in range(len(name_set)):\n",
    "    print(name_set[i])"
   ]
  },
  {
   "cell_type": "code",
   "execution_count": 14,
   "metadata": {},
   "outputs": [
    {
     "name": "stdout",
     "output_type": "stream",
     "text": [
      "드링킹 요구르트 매출액: 7200\n",
      "딸기우유 매출액: 3000\n"
     ]
    }
   ],
   "source": [
    "name_set = ['드링킹 요구르트', '딸기우유']\n",
    "price_set = [1800, 1500]\n",
    "qty_set = [4, 2]\n",
    "\n",
    "for i in range(len(name_set)):\n",
    "    name = name_set[i]\n",
    "    sales = price_set[i] * qty_set[i]\n",
    "    print(name + ' 매출액: ' + str(sales))"
   ]
  },
  {
   "cell_type": "code",
   "execution_count": 15,
   "metadata": {},
   "outputs": [
    {
     "name": "stdout",
     "output_type": "stream",
     "text": [
      "드링킹 요구르트 매출액: 7200\n",
      "딸기우유 매출액: 3000\n",
      "홈런공 매출액: 3000\n"
     ]
    }
   ],
   "source": [
    "name_set = ['드링킹 요구르트', '딸기우유', '홈런공']\n",
    "price_set = [1800, 1500, 1000]\n",
    "qty_set = [4, 2, 3]\n",
    "\n",
    "for i in range(len(name_set)):\n",
    "    name = name_set[i]\n",
    "    sales = price_set[i] * qty_set[i]\n",
    "    print(name + ' 매출액: ' + str(sales))"
   ]
  },
  {
   "cell_type": "code",
   "execution_count": 17,
   "metadata": {},
   "outputs": [
    {
     "name": "stdout",
     "output_type": "stream",
     "text": [
      "혼자 공부하는 첫 프로그래밍\n",
      "혼자 공부하는 파이썬\n",
      "혼자 공부하는 첫 프로그래밍\n",
      "혼자 공부하는 파이썬\n"
     ]
    }
   ],
   "source": [
    "book_list = ['혼자 공부하는 첫 프로그래밍', '혼자 공부하는 파이썬']\n",
    "print(book_list[0])\n",
    "print(book_list[1])\n",
    "\n",
    "book_dict = {'입문자용' :'혼자 공부하는 첫 프로그래밍', '초보자용':'혼자 공부하는 파이썬'}\n",
    "print(book_dict['입문자용'])\n",
    "print(book_dict['초보자용'])"
   ]
  },
  {
   "cell_type": "code",
   "execution_count": 18,
   "metadata": {},
   "outputs": [
    {
     "name": "stdout",
     "output_type": "stream",
     "text": [
      "혼자 공부하는 첫 프로그래밍\n",
      "혼자 공부하는 파이썬\n"
     ]
    }
   ],
   "source": [
    "book_list = ['혼자 공부하는 첫 프로그래밍', '혼자 공부하는 파이썬']\n",
    "for book in book_list:\n",
    "    print(book)"
   ]
  },
  {
   "cell_type": "code",
   "execution_count": 19,
   "metadata": {},
   "outputs": [
    {
     "name": "stdout",
     "output_type": "stream",
     "text": [
      "입문자용\n",
      "초보자용\n"
     ]
    }
   ],
   "source": [
    "book_dict = {'입문자용' :'혼자 공부하는 첫 프로그래밍', '초보자용':'혼자 공부하는 파이썬'}\n",
    "\n",
    "for book in book_dict:\n",
    "    print(book)"
   ]
  },
  {
   "cell_type": "code",
   "execution_count": 20,
   "metadata": {},
   "outputs": [
    {
     "name": "stdout",
     "output_type": "stream",
     "text": [
      "혼자 공부하는 첫 프로그래밍\n",
      "혼자 공부하는 파이썬\n"
     ]
    }
   ],
   "source": [
    "book_dict = {'입문자용' :'혼자 공부하는 첫 프로그래밍', '초보자용':'혼자 공부하는 파이썬'}\n",
    "\n",
    "for book in book_dict:\n",
    "    print(book_dict[book])"
   ]
  },
  {
   "cell_type": "code",
   "execution_count": 22,
   "metadata": {},
   "outputs": [
    {
     "name": "stdout",
     "output_type": "stream",
     "text": [
      "2020년 6월 판매량 : 36\n",
      "2020년 7월 판매량 : 37\n",
      "2020년 8월 판매량 : 80\n"
     ]
    }
   ],
   "source": [
    "mos_qty = {\n",
    "    '2020년 6월' : [9,5,14,8],\n",
    "    '2020년 7월' : [15,6,1,15],\n",
    "    '2020년 8월' : [26,18,26,10]\n",
    "}\n",
    "\n",
    "month = '2020년 6월'\n",
    "total = sum(mos_qty[month])\n",
    "print(month + ' 판매량 : ' + str(total))\n",
    "\n",
    "month = '2020년 7월'\n",
    "total = sum(mos_qty[month])\n",
    "print(month + ' 판매량 : ' + str(total))\n",
    "\n",
    "month = '2020년 8월'\n",
    "total = sum(mos_qty[month])\n",
    "print(month + ' 판매량 : ' + str(total))\n"
   ]
  },
  {
   "cell_type": "code",
   "execution_count": 23,
   "metadata": {},
   "outputs": [
    {
     "name": "stdout",
     "output_type": "stream",
     "text": [
      "2020년 6월 판매량: 36\n",
      "2020년 7월 판매량: 37\n",
      "2020년 8월 판매량: 80\n"
     ]
    }
   ],
   "source": [
    "mos_qty = {\n",
    "    '2020년 6월' : [9,5,14,8],\n",
    "    '2020년 7월' : [15,6,1,15],\n",
    "    '2020년 8월' : [26,18,26,10]\n",
    "}\n",
    "\n",
    "for month in mos_qty:\n",
    "    total = sum(mos_qty[month])\n",
    "    print(month + ' 판매량: ' + str(total))"
   ]
  },
  {
   "cell_type": "code",
   "execution_count": null,
   "metadata": {},
   "outputs": [],
   "source": []
  }
 ],
 "metadata": {
  "kernelspec": {
   "display_name": "Python 3",
   "language": "python",
   "name": "python3"
  },
  "language_info": {
   "codemirror_mode": {
    "name": "ipython",
    "version": 3
   },
   "file_extension": ".py",
   "mimetype": "text/x-python",
   "name": "python",
   "nbconvert_exporter": "python",
   "pygments_lexer": "ipython3",
   "version": "3.6.5"
  }
 },
 "nbformat": 4,
 "nbformat_minor": 4
}
