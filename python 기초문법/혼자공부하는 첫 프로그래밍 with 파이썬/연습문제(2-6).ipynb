{
 "cells": [
  {
   "cell_type": "markdown",
   "metadata": {},
   "source": [
    "## 2-1"
   ]
  },
  {
   "cell_type": "markdown",
   "metadata": {},
   "source": [
    "### 4번"
   ]
  },
  {
   "cell_type": "code",
   "execution_count": 4,
   "metadata": {},
   "outputs": [
    {
     "name": "stdout",
     "output_type": "stream",
     "text": [
      "Hello, World!\n",
      "Sun is shining.\n"
     ]
    }
   ],
   "source": [
    "print(\"Hello, World!\")\n",
    "print(\"Sun is shining.\")"
   ]
  },
  {
   "cell_type": "markdown",
   "metadata": {},
   "source": [
    "### 5번"
   ]
  },
  {
   "cell_type": "code",
   "execution_count": 6,
   "metadata": {},
   "outputs": [
    {
     "name": "stdout",
     "output_type": "stream",
     "text": [
      "\"혼공프\"로 시작하는 프로그래밍!\n",
      "'혼공프'로 시작하는 프로그래밍!\n",
      "'혼공프'로 시작하는 프로그래밍!\n",
      "\"혼공프\"로 시작하는 프로그래밍!\n",
      "Sun, \n",
      "Moon, \n",
      "Sky\n"
     ]
    }
   ],
   "source": [
    "print('\"혼공프\"로 시작하는 프로그래밍!')\n",
    "print('\\'혼공프\\'로 시작하는 프로그래밍!')\n",
    "print(\"'혼공프'로 시작하는 프로그래밍!\")\n",
    "print(\"\\\"혼공프\\\"로 시작하는 프로그래밍!\")\n",
    "print('Sun, \\nMoon, \\nSky')\n"
   ]
  },
  {
   "cell_type": "markdown",
   "metadata": {},
   "source": [
    "## 2-2"
   ]
  },
  {
   "cell_type": "markdown",
   "metadata": {},
   "source": [
    "### 2번"
   ]
  },
  {
   "cell_type": "code",
   "execution_count": 9,
   "metadata": {},
   "outputs": [
    {
     "name": "stdout",
     "output_type": "stream",
     "text": [
      "\"3\" + \"+\" + \"2\" \"=\" + \"5\"\n",
      "==========\n",
      "5분 23초\n"
     ]
    }
   ],
   "source": [
    "print('\"3\" + \"+\" + \"2\" \"=\" + \"5\"')\n",
    "print(\"=\" * 10)\n",
    "print('5' + '분' + \" \" + \"23\"  + \"초\")"
   ]
  },
  {
   "cell_type": "markdown",
   "metadata": {},
   "source": [
    "### 3번"
   ]
  },
  {
   "cell_type": "code",
   "execution_count": 13,
   "metadata": {},
   "outputs": [
    {
     "name": "stdout",
     "output_type": "stream",
     "text": [
      "3\n",
      "\n",
      "2\n"
     ]
    }
   ],
   "source": [
    "print('0123456789'[3])\n",
    "print('0123456789'[3:3])\n",
    "print('0123456789'[2:3])"
   ]
  },
  {
   "cell_type": "markdown",
   "metadata": {},
   "source": [
    "### 4번"
   ]
  },
  {
   "cell_type": "code",
   "execution_count": 16,
   "metadata": {},
   "outputs": [
    {
     "name": "stdout",
     "output_type": "stream",
     "text": [
      "혼자 공부하는 프로그래밍\n",
      "13\n",
      "혼자\n",
      "공부하는\n",
      "프로그래밍\n"
     ]
    }
   ],
   "source": [
    "print('혼자 공부하는 프로그래밍')\n",
    "print(len('혼자 공부하는 프로그래밍'))\n",
    "print('혼자 공부하는 프로그래밍'[:2])\n",
    "print('혼자 공부하는 프로그래밍'[3:7])\n",
    "print('혼자 공부하는 프로그래밍'[8:])"
   ]
  },
  {
   "cell_type": "code",
   "execution_count": 18,
   "metadata": {},
   "outputs": [
    {
     "name": "stdout",
     "output_type": "stream",
     "text": [
      "C Major Scale\n",
      "-------------\n",
      "CDEFGAB\n"
     ]
    }
   ],
   "source": [
    "### 5번\n",
    "print('C Major Scale')\n",
    "print('-' * len('C Major Scale'))\n",
    "\n",
    "print(\n",
    "    'ABCDEFG'[2]\n",
    "   + 'ABCDEFG'[3]\n",
    "   + 'ABCDEFG'[4]\n",
    "   + 'ABCDEFG'[5]\n",
    "   + 'ABCDEFG'[6]\n",
    "   + 'ABCDEFG'[0]\n",
    "   + 'ABCDEFG'[1]\n",
    "\n",
    ")"
   ]
  },
  {
   "cell_type": "markdown",
   "metadata": {},
   "source": [
    "## 2-3 "
   ]
  },
  {
   "cell_type": "markdown",
   "metadata": {},
   "source": [
    "### 2번"
   ]
  },
  {
   "cell_type": "code",
   "execution_count": 19,
   "metadata": {},
   "outputs": [
    {
     "name": "stdout",
     "output_type": "stream",
     "text": [
      "숫자 데이터(정수) 확인 문제\n",
      "======\n",
      "5\n",
      "1\n",
      "6\n",
      "1.5\n",
      "9\n",
      "5\n",
      "23\n"
     ]
    }
   ],
   "source": [
    "print('숫자 데이터(정수) 확인 문제')\n",
    "print('=' * 5 + '=')\n",
    "print(3+2)\n",
    "print(3-2)\n",
    "print(3*2)\n",
    "print(3/2)\n",
    "print(3**2)\n",
    "print(323//60) # 몫\n",
    "print(323%60) # 나머지\n"
   ]
  },
  {
   "cell_type": "markdown",
   "metadata": {},
   "source": [
    "### 3번"
   ]
  },
  {
   "cell_type": "code",
   "execution_count": 20,
   "metadata": {},
   "outputs": [
    {
     "name": "stdout",
     "output_type": "stream",
     "text": [
      "숫자 데이터(부동 소수점) 확인 문제\n",
      "======\n",
      "383.0\n",
      "263.0\n",
      "383.0\n",
      "5.383333333333334\n",
      "3.5657536863853114e+150\n",
      "5.0\n",
      "23.0\n"
     ]
    }
   ],
   "source": [
    "print('숫자 데이터(부동 소수점) 확인 문제')\n",
    "print('=' * 5 + '=')\n",
    "print(323.0 + 60)\n",
    "print(323.0 - 60)\n",
    "print(323.0 + 60)\n",
    "print(323.0 / 60)\n",
    "print(323.0 ** 60)\n",
    "print(323.0 // 60) # 몫\n",
    "print(323.0 % 60) # 나머지"
   ]
  },
  {
   "cell_type": "markdown",
   "metadata": {},
   "source": [
    "### 4번"
   ]
  },
  {
   "cell_type": "code",
   "execution_count": 22,
   "metadata": {},
   "outputs": [
    {
     "name": "stdout",
     "output_type": "stream",
     "text": [
      "연산자 우선순위 확인 문제\n",
      "=*=*=*=*=*=\n",
      "523\n",
      "523\n",
      "500\n"
     ]
    }
   ],
   "source": [
    "print('연산자 우선순위 확인 문제')\n",
    "print('=*' *5 + '=')\n",
    "print(23 + 323 // 60 * 100)\n",
    "print(23 + (323 // 60 * 100))\n",
    "print((23 + 323) // 60 * 100)"
   ]
  },
  {
   "cell_type": "markdown",
   "metadata": {},
   "source": [
    "## 2-4"
   ]
  },
  {
   "cell_type": "markdown",
   "metadata": {},
   "source": [
    "### 2번"
   ]
  },
  {
   "cell_type": "code",
   "execution_count": 23,
   "metadata": {},
   "outputs": [
    {
     "name": "stdout",
     "output_type": "stream",
     "text": [
      "Hello, World\n"
     ]
    }
   ],
   "source": [
    "hello = 'Hello'\n",
    "world = 'World'\n",
    "print(hello + ', ' + world)"
   ]
  },
  {
   "cell_type": "markdown",
   "metadata": {},
   "source": [
    "### 3번"
   ]
  },
  {
   "cell_type": "code",
   "execution_count": 24,
   "metadata": {},
   "outputs": [
    {
     "name": "stdout",
     "output_type": "stream",
     "text": [
      "5\n",
      "23\n"
     ]
    }
   ],
   "source": [
    "euotient = 323 // 60 # 몫\n",
    "remainder = 323 % 60 # 나머지\n",
    "print(euotient)\n",
    "print(remainder)"
   ]
  },
  {
   "cell_type": "markdown",
   "metadata": {},
   "source": [
    "### 4번"
   ]
  },
  {
   "cell_type": "code",
   "execution_count": 25,
   "metadata": {},
   "outputs": [
    {
     "name": "stdout",
     "output_type": "stream",
     "text": [
      "안녕하세요\n",
      "나한빛입니다\n"
     ]
    }
   ],
   "source": [
    "data = '안녕하세요'\n",
    "print(data)\n",
    "data = '만나서 반가워요'\n",
    "data = '나한빛입니다'\n",
    "print(data)"
   ]
  },
  {
   "cell_type": "markdown",
   "metadata": {},
   "source": [
    "## 3-2"
   ]
  },
  {
   "cell_type": "markdown",
   "metadata": {},
   "source": [
    "### 1번"
   ]
  },
  {
   "cell_type": "code",
   "execution_count": 26,
   "metadata": {},
   "outputs": [
    {
     "name": "stdout",
     "output_type": "stream",
     "text": [
      "True\n",
      "False\n",
      "False\n",
      "True\n"
     ]
    }
   ],
   "source": [
    "print(True == True)\n",
    "print('True' == True)\n",
    "print(323 // 6 == 5)\n",
    "print('abc' > 'Abc')"
   ]
  },
  {
   "cell_type": "markdown",
   "metadata": {},
   "source": [
    "### 2번"
   ]
  },
  {
   "cell_type": "code",
   "execution_count": 29,
   "metadata": {},
   "outputs": [
    {
     "name": "stdout",
     "output_type": "stream",
     "text": [
      "시작\n",
      "예!\n",
      "끝\n"
     ]
    }
   ],
   "source": [
    "print('시작')\n",
    "if True:\n",
    "    print('예!')\n",
    "else:\n",
    "    print('아니요!')\n",
    "print('끝')"
   ]
  },
  {
   "cell_type": "markdown",
   "metadata": {},
   "source": [
    "### 3번"
   ]
  },
  {
   "cell_type": "code",
   "execution_count": 33,
   "metadata": {},
   "outputs": [
    {
     "name": "stdout",
     "output_type": "stream",
     "text": [
      "시작!\n",
      "취미로 운동을 하는군요!\n",
      "끝!\n"
     ]
    }
   ],
   "source": [
    "hobby = '운동'\n",
    "\n",
    "print('시작!')\n",
    "if hobby == '독서':\n",
    "    print('취미가 독서이군요!')\n",
    "elif hobby == '운동' :\n",
    "    print('취미로 운동을 하는군요!')\n",
    "elif hobby == '요리' :\n",
    "    print('요리 전문가를 꿈꾸시나요!')\n",
    "else:\n",
    "    print(hobby + '? 흥미로운 취미로군요!')\n",
    "    \n",
    "print('끝!')"
   ]
  },
  {
   "cell_type": "markdown",
   "metadata": {},
   "source": [
    "## 4-1"
   ]
  },
  {
   "cell_type": "markdown",
   "metadata": {},
   "source": [
    "### 2번"
   ]
  },
  {
   "cell_type": "code",
   "execution_count": 34,
   "metadata": {},
   "outputs": [],
   "source": [
    "lang_set = ['파이썬', 'C언어', '자바', '자바스크립트']\n",
    "lang_eng_set = ['Python', 'C', 'Java', 'Javascript']"
   ]
  },
  {
   "cell_type": "markdown",
   "metadata": {},
   "source": [
    "### 3번"
   ]
  },
  {
   "cell_type": "code",
   "execution_count": 35,
   "metadata": {},
   "outputs": [],
   "source": [
    "menu_set = ['안심구이', '등심구이', '육개장', '물냉면']\n",
    "price_set = [39000, 35000, 9000, 8000]"
   ]
  },
  {
   "cell_type": "markdown",
   "metadata": {},
   "source": [
    "## 4-2"
   ]
  },
  {
   "cell_type": "markdown",
   "metadata": {},
   "source": [
    "### 1번"
   ]
  },
  {
   "cell_type": "code",
   "execution_count": 44,
   "metadata": {},
   "outputs": [
    {
     "name": "stdout",
     "output_type": "stream",
     "text": [
      "['1학년', '2학년', '3학년']\n",
      "['국어', '수학', '코딩', '영어', '체육']\n",
      "[[85, 60, 95], [90, 70, 95, 80], [95, 75, 100, 85, 100]]\n"
     ]
    }
   ],
   "source": [
    "grade = ['1학년','2학년','3학년']\n",
    "subjects = ['국어', '수학', '코딩', '영어', '체육']\n",
    "scores = [[85, 60, 95],\n",
    "          [90, 70, 95, 80],\n",
    "          [95, 75, 100, 85, 100]\n",
    "         ]\n",
    "\n",
    "print(grade)\n",
    "print(subjects)\n",
    "print(scores)"
   ]
  },
  {
   "cell_type": "markdown",
   "metadata": {},
   "source": [
    "### 2번"
   ]
  },
  {
   "cell_type": "code",
   "execution_count": 45,
   "metadata": {},
   "outputs": [
    {
     "name": "stdout",
     "output_type": "stream",
     "text": [
      "[{'1학년': [85, 60, 95]}, {'2학년': [90, 70, 95, 80]}, {'3학년': [95, 75, 100, 85, 100]}]\n"
     ]
    }
   ],
   "source": [
    "scores = [\n",
    "    {'1학년' : [85, 60, 95]},\n",
    "    {'2학년' : [90, 70, 95, 80]},\n",
    "    {'3학년' : [95, 75, 100, 85, 100]}\n",
    "         ]\n",
    "print(scores)"
   ]
  },
  {
   "cell_type": "code",
   "execution_count": 39,
   "metadata": {},
   "outputs": [
    {
     "name": "stdout",
     "output_type": "stream",
     "text": [
      "[{'1학년': {'국어': 85, '수학': 60, '코딩': 95}}, {'2학년': {'국어': 90, '수학': 70, '코딩': 95, '영여*': 80}}, {'3학년': {'국어': 95, '수학': 75, '코딩': 100, '영여': 85, '체육*': 100}}]\n"
     ]
    }
   ],
   "source": [
    "scores = [\n",
    "    {'1학년' : { '국어': 85, '수학': 60, '코딩': 95 }},\n",
    "    {'2학년' : { '국어': 90, '수학': 70, '코딩': 95, '영어*': 80}},\n",
    "    {'3학년' : { '국어': 95, '수학': 75, '코딩': 100, '영어': 85, '체육*': 100}}\n",
    "         ]\n",
    "print(scores)"
   ]
  },
  {
   "cell_type": "code",
   "execution_count": 46,
   "metadata": {},
   "outputs": [
    {
     "name": "stdout",
     "output_type": "stream",
     "text": [
      "[{'국어': {'1학년': 85, '2학년': 90, '3학년': 95}}, {'수학': {'1학년': 60, '2학년': 70, '3학년': 85}}, {'영어': {'2학년': 80, '3학년': 85}}, {'코딩': {'1학년': 95, '2학년': 95, '3학년': 100}}, {'체육': {'3학년': 100}}]\n"
     ]
    }
   ],
   "source": [
    "scores = [\n",
    "    {'국어' : { '1학년': 85, '2학년': 90, '3학년': 95 }},\n",
    "    {'수학' : { '1학년': 60, '2학년': 70, '3학년': 85 }},\n",
    "    {'영어' : { '2학년': 80, '3학년': 85}},\n",
    "    {'코딩' : { '1학년': 95, '2학년': 95, '3학년': 100 }},\n",
    "    {'체육' : { '3학년': 100}}\n",
    "     \n",
    "]\n",
    "print(scores)"
   ]
  },
  {
   "cell_type": "markdown",
   "metadata": {},
   "source": [
    "### 3번"
   ]
  },
  {
   "cell_type": "code",
   "execution_count": 50,
   "metadata": {},
   "outputs": [],
   "source": [
    "names = ['삼송전자', '헤이닉스']\n",
    "prices = [\n",
    "    [50800, 49950, 48900, 47300, 45600, 48100],\n",
    "    [82800, 82500, 80600, 80400, 73100, 83100]\n",
    "]"
   ]
  },
  {
   "cell_type": "code",
   "execution_count": 51,
   "metadata": {},
   "outputs": [],
   "source": [
    "names = ['삼송전자', '헤이닉스']\n",
    "prices = [\n",
    "    [50800, 82800],\n",
    "    [49950, 82500],\n",
    "    [47300, 80600],\n",
    "    [45600, 73100],\n",
    "    [48100, 83100]\n",
    "]"
   ]
  },
  {
   "cell_type": "code",
   "execution_count": 52,
   "metadata": {},
   "outputs": [],
   "source": [
    "prices = [\n",
    "    {'삼송전자' :  [50800, 49950, 48900, 47300, 45600, 48100]},\n",
    "    {'헤이닉스' :  [82800, 82500, 80600, 80400, 73100, 83100]}\n",
    "]"
   ]
  },
  {
   "cell_type": "code",
   "execution_count": 53,
   "metadata": {},
   "outputs": [],
   "source": [
    "prices = [\n",
    "    {'삼송전자' :  { '2일자' : 50800, '3일자' : 49950, '4일자' : 48900, '5일자' : 47300, '6일자': 45600, '9일자' : 48100}},\n",
    "    {'헤이닉스' :  { '2일자' : 82800, '3일자' : 82500, '4일자' : 80600, '5일자' : 80400, '6일자': 73100, '9일자' : 83100}}\n",
    "]"
   ]
  },
  {
   "cell_type": "code",
   "execution_count": 54,
   "metadata": {},
   "outputs": [],
   "source": [
    "prices = [\n",
    "    {'2일자' : {'삼송전자' : 50800, '헤이닉스' : 82800}},\n",
    "    {'3일자' : {'삼송전자' : 49950, '헤이닉스' : 82500}},\n",
    "    {'4일자' : {'삼송전자' : 48900, '헤이닉스' : 80600}},\n",
    "    {'5일자' : {'삼송전자' : 47300, '헤이닉스' : 80400}},\n",
    "    {'6일자' : {'삼송전자' : 45600, '헤이닉스' : 73100}},\n",
    "    {'9일자' : {'삼송전자' : 48100, '헤이닉스' : 83100}},\n",
    "    \n",
    "]"
   ]
  },
  {
   "cell_type": "markdown",
   "metadata": {},
   "source": [
    "### 3번"
   ]
  },
  {
   "cell_type": "code",
   "execution_count": 55,
   "metadata": {},
   "outputs": [],
   "source": [
    "names = ['김치찌개', '떡볶이']\n",
    "receipe = [\n",
    "    ['돼지고기', '김치', '마늘', '대파', '청양고추'],\n",
    "    ['떡', '설탕', '고추장', '간장', '고춧가루', '대파', '어묵']\n",
    "]"
   ]
  },
  {
   "cell_type": "code",
   "execution_count": 56,
   "metadata": {},
   "outputs": [],
   "source": [
    "receipe = {\n",
    "    '김치찌개' :['돼지고기', '김치', '마늘', '대파', '청양고추'],\n",
    "    '떡볶이' :  ['떡', '설탕', '고추장', '간장', '고춧가루', '대파', '어묵']\n",
    "}"
   ]
  },
  {
   "cell_type": "markdown",
   "metadata": {},
   "source": [
    "### 4번"
   ]
  },
  {
   "cell_type": "code",
   "execution_count": 59,
   "metadata": {},
   "outputs": [],
   "source": [
    "items ={\n",
    "    '성명(한글)' : '나한빛',\n",
    "    '성명(영어)' : 'Na Hanbit',\n",
    "    '주소' : '서울시 서대문구',\n",
    "    '취미 및 특기' : {'취미': '독서', '특기' : '글쓰기'},\n",
    "    '저서' : {\n",
    "        '혼공 시리즈' : ['혼공프로', '혼공파', '혼공씨', '혼공자바'],\n",
    "        '이것이 시리즈' : ['이것이 데이터 분석이다 with 파이썬', '이것이 C언어다', '이것이 자바다']\n",
    "    }\n",
    "}"
   ]
  },
  {
   "cell_type": "markdown",
   "metadata": {},
   "source": [
    "## 5-1"
   ]
  },
  {
   "cell_type": "markdown",
   "metadata": {},
   "source": [
    "### 1번"
   ]
  },
  {
   "cell_type": "code",
   "execution_count": 60,
   "metadata": {},
   "outputs": [
    {
     "name": "stdout",
     "output_type": "stream",
     "text": [
      "5!\n",
      "4!\n",
      "3!\n",
      "2!\n",
      "1!\n",
      "0!\n"
     ]
    }
   ],
   "source": [
    "count = 5\n",
    "while count >= 0:\n",
    "    print(str(count) + '!')\n",
    "    count = count - 1"
   ]
  },
  {
   "cell_type": "markdown",
   "metadata": {},
   "source": [
    "### 2번"
   ]
  },
  {
   "cell_type": "code",
   "execution_count": 61,
   "metadata": {},
   "outputs": [
    {
     "name": "stdout",
     "output_type": "stream",
     "text": [
      "5!\n",
      "4!\n",
      "3!\n",
      "2!\n",
      "1!\n"
     ]
    }
   ],
   "source": [
    "count = [5,4,3,2,1]\n",
    "for x in count:\n",
    "    print(str(x) + '!')"
   ]
  },
  {
   "cell_type": "markdown",
   "metadata": {},
   "source": [
    "### 3번"
   ]
  },
  {
   "cell_type": "code",
   "execution_count": 62,
   "metadata": {},
   "outputs": [
    {
     "name": "stdout",
     "output_type": "stream",
     "text": [
      "1\n",
      "2\n",
      "짝!\n",
      "4\n",
      "5\n",
      "짝!\n",
      "7\n",
      "8\n",
      "짝!\n",
      "10\n"
     ]
    }
   ],
   "source": [
    "count = range(10)\n",
    "for n in count:\n",
    "    if (n+1) % 3 == 0:\n",
    "        print('짝!')\n",
    "    else:\n",
    "        print(n+1)"
   ]
  },
  {
   "cell_type": "markdown",
   "metadata": {},
   "source": [
    "### 4번"
   ]
  },
  {
   "cell_type": "code",
   "execution_count": 64,
   "metadata": {},
   "outputs": [
    {
     "name": "stdout",
     "output_type": "stream",
     "text": [
      "혼자\n",
      "공부하는\n",
      "첫 프로그래밍!\n"
     ]
    }
   ],
   "source": [
    "words = ['혼자', '공부하는', '첫', '프로그래밍', '!']\n",
    "for x in words:\n",
    "    if x == '첫':\n",
    "        print('첫 프로그래밍!')\n",
    "        break #전체 코드 중단\n",
    "    else:\n",
    "        print(x)"
   ]
  },
  {
   "cell_type": "markdown",
   "metadata": {},
   "source": [
    "### 5번"
   ]
  },
  {
   "cell_type": "code",
   "execution_count": 66,
   "metadata": {},
   "outputs": [
    {
     "name": "stdout",
     "output_type": "stream",
     "text": [
      "10!\n",
      "20!\n"
     ]
    }
   ],
   "source": [
    "count = range(20)\n",
    "for x in count:\n",
    "    if ((x+1) % 10 != 0): # %는 나머지 구함 , \n",
    "        continue # 나머지가 0이 아닌 경우 코드를 계속 진행하다는 의미\n",
    "    else:\n",
    "        print(str(x+1) + '!') # 나머지가 0인 경우는 출력하라는 의미"
   ]
  },
  {
   "cell_type": "markdown",
   "metadata": {},
   "source": [
    "## 5-2"
   ]
  },
  {
   "cell_type": "markdown",
   "metadata": {},
   "source": [
    "### 1번"
   ]
  },
  {
   "cell_type": "code",
   "execution_count": 67,
   "metadata": {},
   "outputs": [
    {
     "name": "stdout",
     "output_type": "stream",
     "text": [
      "플\n",
      "랫\n",
      "화\n",
      "이\n",
      "트\n"
     ]
    }
   ],
   "source": [
    "coffee = '플랫화이트'\n",
    "for x in coffee:\n",
    "    print(x)"
   ]
  },
  {
   "cell_type": "markdown",
   "metadata": {},
   "source": [
    "### 2번"
   ]
  },
  {
   "cell_type": "code",
   "execution_count": 69,
   "metadata": {},
   "outputs": [
    {
     "name": "stdout",
     "output_type": "stream",
     "text": [
      "2\n",
      "4\n",
      "6\n",
      "8\n",
      "10\n"
     ]
    }
   ],
   "source": [
    "count = [1,2,3,4,5,6,7,8,9,10]\n",
    "\n",
    "for x in count:\n",
    "    if x % 2== 0:\n",
    "        print(x)"
   ]
  },
  {
   "cell_type": "markdown",
   "metadata": {},
   "source": [
    "### 3번"
   ]
  },
  {
   "cell_type": "code",
   "execution_count": 70,
   "metadata": {},
   "outputs": [
    {
     "name": "stdout",
     "output_type": "stream",
     "text": [
      "3\n",
      "6\n",
      "9\n",
      "12\n",
      "15\n"
     ]
    }
   ],
   "source": [
    "five = range(5)\n",
    "for x in five:\n",
    "    print((x+1)*3)"
   ]
  },
  {
   "cell_type": "markdown",
   "metadata": {},
   "source": [
    "### 4번"
   ]
  },
  {
   "cell_type": "code",
   "execution_count": 74,
   "metadata": {},
   "outputs": [
    {
     "name": "stdout",
     "output_type": "stream",
     "text": [
      "아메리카노 : 3100\n",
      "플랙 화이트 : 4100\n",
      "화이트 초코 모카 : 4600\n"
     ]
    }
   ],
   "source": [
    "order = ['아메리카노', '플랙 화이트', '화이트 초코 모카']\n",
    "price = [3100, 4100, 4600]\n",
    "for x in range(3):\n",
    "    print(order[x] + ' : ' + str(price[x]))"
   ]
  },
  {
   "cell_type": "markdown",
   "metadata": {},
   "source": [
    "### 5번"
   ]
  },
  {
   "cell_type": "code",
   "execution_count": 75,
   "metadata": {},
   "outputs": [
    {
     "name": "stdout",
     "output_type": "stream",
     "text": [
      "990\n",
      "120\n",
      "990\n",
      "120\n"
     ]
    }
   ],
   "source": [
    "scores = [990, 120]\n",
    "print(scores[0])\n",
    "print(scores[1])\n",
    "\n",
    "scores = {'TOEIC':990, 'TOFLE iBT' : 120}\n",
    "print(scores['TOEIC'])\n",
    "print(scores['TOFLE iBT'])"
   ]
  },
  {
   "cell_type": "markdown",
   "metadata": {},
   "source": [
    "### 6번"
   ]
  },
  {
   "cell_type": "code",
   "execution_count": 76,
   "metadata": {},
   "outputs": [
    {
     "name": "stdout",
     "output_type": "stream",
     "text": [
      "아메리카노 : 3100\n",
      "플랫 화이트 : 4100\n",
      "화이트 초코 모카 : 4600\n"
     ]
    }
   ],
   "source": [
    "order = ['아메리카노', '플랫 화이트', '화이트 초코 모카']\n",
    "price = {\n",
    "    '아메리카노' : 3100,\n",
    "    '플랫 화이트' : 4100,\n",
    "    '화이트 초코 모카' : 4600\n",
    "}\n",
    "\n",
    "for x in order:\n",
    "    print(x + ' : ' + str(price[x]))"
   ]
  },
  {
   "cell_type": "markdown",
   "metadata": {},
   "source": [
    "### 7번"
   ]
  },
  {
   "cell_type": "code",
   "execution_count": 77,
   "metadata": {},
   "outputs": [
    {
     "name": "stdout",
     "output_type": "stream",
     "text": [
      "6\n",
      "15\n"
     ]
    }
   ],
   "source": [
    "numbers = [[1,2,3], [4,5,6]]\n",
    "\n",
    "for row in numbers:\n",
    "    total = 0 \n",
    "    for x in row:\n",
    "        total = total + x\n",
    "    print(total)"
   ]
  },
  {
   "cell_type": "markdown",
   "metadata": {},
   "source": [
    "### 8번"
   ]
  },
  {
   "cell_type": "code",
   "execution_count": 79,
   "metadata": {},
   "outputs": [
    {
     "name": "stdout",
     "output_type": "stream",
     "text": [
      "플랫 화이트 2 잔, 합계 : 8200\n",
      "화이트 초콜릿 모카 1 잔, 합계 : 4600\n"
     ]
    }
   ],
   "source": [
    "menu = {\n",
    "    '오늘의 커피' : 2800,\n",
    "    '아메리카노' : 3100,\n",
    "    '카푸치노' : 3600,\n",
    "    '화이트 초콜릿 모카' : 4600,\n",
    "    '플랫 화이트' : 4100\n",
    "}\n",
    "\n",
    "my_order = {\n",
    "    '플랫 화이트' : 2,\n",
    "    '화이트 초콜릿 모카' : 1\n",
    "}\n",
    "\n",
    "for x in my_order:\n",
    "    price = menu[x]\n",
    "    qty = my_order[x]\n",
    "    total = price * qty\n",
    "    print(x + ' ' + str(qty) + ' 잔, 합계 : ' + str(total))"
   ]
  },
  {
   "cell_type": "markdown",
   "metadata": {},
   "source": [
    "## 6-1"
   ]
  },
  {
   "cell_type": "markdown",
   "metadata": {},
   "source": [
    "### 1번"
   ]
  },
  {
   "cell_type": "code",
   "execution_count": 80,
   "metadata": {},
   "outputs": [
    {
     "name": "stdout",
     "output_type": "stream",
     "text": [
      "5\n"
     ]
    }
   ],
   "source": [
    "def add(first, second):\n",
    "    return first + second\n",
    "\n",
    "\n",
    "print(add(3,2))"
   ]
  },
  {
   "cell_type": "markdown",
   "metadata": {},
   "source": [
    "### 2번"
   ]
  },
  {
   "cell_type": "code",
   "execution_count": 81,
   "metadata": {},
   "outputs": [
    {
     "name": "stdout",
     "output_type": "stream",
     "text": [
      "None\n",
      "None\n"
     ]
    }
   ],
   "source": [
    "def no_return():\n",
    "    pass\n",
    "\n",
    "def no_return_value():\n",
    "    return\n",
    "\n",
    "print(no_return())\n",
    "print(no_return_value())"
   ]
  },
  {
   "cell_type": "markdown",
   "metadata": {},
   "source": [
    "### 3번"
   ]
  },
  {
   "cell_type": "code",
   "execution_count": 82,
   "metadata": {},
   "outputs": [
    {
     "name": "stdout",
     "output_type": "stream",
     "text": [
      "Sun\n",
      "is\n",
      "rising\n"
     ]
    }
   ],
   "source": [
    "def print_elements(arg):\n",
    "    for x in arg:\n",
    "        print(x)\n",
    "        \n",
    "print_elements(['Sun', 'is', 'rising'])"
   ]
  },
  {
   "cell_type": "markdown",
   "metadata": {},
   "source": [
    "### 4번"
   ]
  },
  {
   "cell_type": "code",
   "execution_count": 83,
   "metadata": {},
   "outputs": [
    {
     "name": "stdout",
     "output_type": "stream",
     "text": [
      "9\n",
      "0.01\n"
     ]
    }
   ],
   "source": [
    "def power(base, exp):\n",
    "    return base ** exp\n",
    "\n",
    "print(power(3,2))\n",
    "print(power(10, -2))"
   ]
  },
  {
   "cell_type": "markdown",
   "metadata": {},
   "source": [
    "### 5번"
   ]
  },
  {
   "cell_type": "code",
   "execution_count": 84,
   "metadata": {},
   "outputs": [
    {
     "name": "stdout",
     "output_type": "stream",
     "text": [
      "[9, 4, 25]\n",
      "[104329, 3600]\n"
     ]
    }
   ],
   "source": [
    "def square(dataset):\n",
    "    result = []\n",
    "    for x in dataset:\n",
    "        result.append(x*x)\n",
    "    return result\n",
    "\n",
    "print(square([3, 2, 5]))\n",
    "print(square([323, 60]))"
   ]
  },
  {
   "cell_type": "markdown",
   "metadata": {},
   "source": [
    "### 6번"
   ]
  },
  {
   "cell_type": "code",
   "execution_count": 86,
   "metadata": {},
   "outputs": [
    {
     "name": "stdout",
     "output_type": "stream",
     "text": [
      "[['my_key', 'my_value'], ['your_key', 'your_value']]\n"
     ]
    }
   ],
   "source": [
    "def dict_to_list(dataset):\n",
    "    result = []\n",
    "    for x in dataset:\n",
    "        result.append([x, dataset[x]])\n",
    "    return result\n",
    "\n",
    "data = {'my_key' : 'my_value', 'your_key' : 'your_value'}\n",
    "print(dict_to_list(data))"
   ]
  },
  {
   "cell_type": "markdown",
   "metadata": {},
   "source": [
    "### 7번"
   ]
  },
  {
   "cell_type": "code",
   "execution_count": 88,
   "metadata": {},
   "outputs": [
    {
     "name": "stdout",
     "output_type": "stream",
     "text": [
      "[10, 9, 8, 7, 6, 5, 4, 3, 2, 1]\n"
     ]
    }
   ],
   "source": [
    "def count_down(number):\n",
    "    \n",
    "    result = []\n",
    "    \n",
    "    for x in range(number):\n",
    "    \n",
    "        result.append(number- x)\n",
    "    \n",
    "    return result\n",
    "\n",
    "print(count_down(10))"
   ]
  },
  {
   "cell_type": "markdown",
   "metadata": {},
   "source": [
    "## 6-2"
   ]
  },
  {
   "cell_type": "markdown",
   "metadata": {},
   "source": [
    "### 1번"
   ]
  },
  {
   "cell_type": "code",
   "execution_count": 89,
   "metadata": {},
   "outputs": [
    {
     "name": "stdout",
     "output_type": "stream",
     "text": [
      "True\n",
      "False\n"
     ]
    }
   ],
   "source": [
    "def is_odd(arg):\n",
    "    if arg % 2 == 1:\n",
    "        return True\n",
    "    \n",
    "    return False\n",
    "\n",
    "print(is_odd(3))\n",
    "print(is_odd(2))"
   ]
  },
  {
   "cell_type": "markdown",
   "metadata": {},
   "source": [
    "### 2번"
   ]
  },
  {
   "cell_type": "code",
   "execution_count": 90,
   "metadata": {},
   "outputs": [
    {
     "name": "stdout",
     "output_type": "stream",
     "text": [
      "10\n",
      "100\n"
     ]
    }
   ],
   "source": [
    "def get_sum_of_two_numbers(start, end):\n",
    "    result = 0\n",
    "    for x in range(start, end+1):\n",
    "        result = result +1\n",
    "    return result\n",
    "\n",
    "print(get_sum_of_two_numbers(1,10))\n",
    "print(get_sum_of_two_numbers(1,100))"
   ]
  },
  {
   "cell_type": "markdown",
   "metadata": {},
   "source": [
    "### 3번"
   ]
  },
  {
   "cell_type": "code",
   "execution_count": 91,
   "metadata": {},
   "outputs": [
    {
     "name": "stdout",
     "output_type": "stream",
     "text": [
      "#\n",
      "##\n",
      "###\n",
      "None\n"
     ]
    }
   ],
   "source": [
    "def print_hashes(rows):\n",
    "    for x in range(rows):\n",
    "        print('#' * (x+1))\n",
    "        \n",
    "print(print_hashes(3))"
   ]
  },
  {
   "cell_type": "markdown",
   "metadata": {},
   "source": [
    "### 4번"
   ]
  },
  {
   "cell_type": "code",
   "execution_count": 95,
   "metadata": {},
   "outputs": [
    {
     "name": "stdout",
     "output_type": "stream",
     "text": [
      "   #\n",
      "  ##\n",
      " ###\n",
      "####\n"
     ]
    }
   ],
   "source": [
    "def print_reserve_hashes(rows):\n",
    "    for x in range(rows):\n",
    "        count = x + 1\n",
    "        print(' ' * (rows - count) +'#' * count)\n",
    "        \n",
    "print_reserve_hashes(4)"
   ]
  },
  {
   "cell_type": "markdown",
   "metadata": {},
   "source": [
    "### 5번"
   ]
  },
  {
   "cell_type": "code",
   "execution_count": 96,
   "metadata": {},
   "outputs": [
    {
     "name": "stdout",
     "output_type": "stream",
     "text": [
      "010-1234-****\n",
      "010-9876-****\n"
     ]
    }
   ],
   "source": [
    "def replace_digits(str_):\n",
    "    return str_[:9] + '****'\n",
    "\n",
    "print(replace_digits('010-1234-5678'))\n",
    "print(replace_digits('010-9876-5432'))"
   ]
  },
  {
   "cell_type": "code",
   "execution_count": null,
   "metadata": {},
   "outputs": [],
   "source": []
  }
 ],
 "metadata": {
  "kernelspec": {
   "display_name": "Python 3",
   "language": "python",
   "name": "python3"
  },
  "language_info": {
   "codemirror_mode": {
    "name": "ipython",
    "version": 3
   },
   "file_extension": ".py",
   "mimetype": "text/x-python",
   "name": "python",
   "nbconvert_exporter": "python",
   "pygments_lexer": "ipython3",
   "version": "3.6.5"
  }
 },
 "nbformat": 4,
 "nbformat_minor": 4
}
