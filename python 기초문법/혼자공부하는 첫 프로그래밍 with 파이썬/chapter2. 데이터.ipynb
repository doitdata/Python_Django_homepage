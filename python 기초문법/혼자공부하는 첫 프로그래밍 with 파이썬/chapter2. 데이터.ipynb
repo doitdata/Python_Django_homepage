{
 "cells": [
  {
   "cell_type": "markdown",
   "metadata": {},
   "source": [
    "## 1. 문자데이터"
   ]
  },
  {
   "cell_type": "code",
   "execution_count": 1,
   "metadata": {},
   "outputs": [
    {
     "name": "stdout",
     "output_type": "stream",
     "text": [
      "Hello word!\n",
      "Hello, word!\n",
      "2020년을 빛낼 프로그래밍 입문서\n",
      "혼자 공부하는 첫 프로그래밍\n",
      "323\n"
     ]
    }
   ],
   "source": [
    "print('Hello word!')\n",
    "print('Hello, word!')\n",
    "print('2020년을 빛낼 프로그래밍 입문서')\n",
    "print('혼자 공부하는 첫 프로그래밍')\n",
    "print('323')"
   ]
  },
  {
   "cell_type": "code",
   "execution_count": 4,
   "metadata": {},
   "outputs": [
    {
     "name": "stdout",
     "output_type": "stream",
     "text": [
      "'아, 이렇게 코딩을 쉽게 알려주다니!' 라고 생각했다.\n",
      "Hello, \n",
      "World\n",
      "'하나!'\n",
      "\"둘!\"\n"
     ]
    }
   ],
   "source": [
    "# 이스케이프 문자\n",
    "print('\\'아, 이렇게 코딩을 쉽게 알려주다니!\\' 라고 생각했다.')\n",
    "print(\"Hello, \\nWorld\")  # \\n은 줄바꿈\n",
    "print(\"'하나!'\\n\\\"둘!\\\"\")"
   ]
  },
  {
   "cell_type": "markdown",
   "metadata": {},
   "source": [
    "## 문자데이터 처리"
   ]
  },
  {
   "cell_type": "code",
   "execution_count": 5,
   "metadata": {},
   "outputs": [
    {
     "name": "stdout",
     "output_type": "stream",
     "text": [
      "2020년을 빛낼 프로그래밍 입문서\n",
      "혼자 공부하는 첫 프로그래밍!\n",
      "혼공족\n",
      "혼공프로\n",
      "혼공파\n"
     ]
    }
   ],
   "source": [
    "print(\"2020년을\" + \" \" + \"빛낼\" + \" \" + \"프로그래밍\" + \" \" + \"입문서\")\n",
    "print(\"혼자\" + \" \" + \"공부하는\" + \" \" + \"첫\" + \" \" + \"프로그래밍!\")\n",
    "print(\"혼공\" + \"족\")\n",
    "print(\"혼공\" + \"프로\")\n",
    "print(\"혼공\" + \"파\")"
   ]
  },
  {
   "cell_type": "code",
   "execution_count": 6,
   "metadata": {},
   "outputs": [
    {
     "name": "stdout",
     "output_type": "stream",
     "text": [
      "**\n",
      "  *\n",
      "   *\n",
      "    *\n",
      "     **\n"
     ]
    }
   ],
   "source": [
    "print(\"*\" * 2)\n",
    "print(\" \" * 2 + '*')\n",
    "print(\" \" * 3 + 1 * '*')\n",
    "print(\" \" * 4 + 1 * '*')\n",
    "print(\" \" * 5 + 2 * '*')"
   ]
  },
  {
   "cell_type": "code",
   "execution_count": 7,
   "metadata": {},
   "outputs": [
    {
     "name": "stdout",
     "output_type": "stream",
     "text": [
      "3\n",
      "12\n",
      "14\n",
      "8\n",
      "4\n"
     ]
    }
   ],
   "source": [
    "print(len('AAA'))\n",
    "print(len('Hello, World'))\n",
    "print(len('77791022723607'))\n",
    "print(len('파이썬, 안녕?'))\n",
    "print(len(\"\\\"아!\\\"\"))"
   ]
  },
  {
   "cell_type": "code",
   "execution_count": 8,
   "metadata": {},
   "outputs": [
    {
     "name": "stdout",
     "output_type": "stream",
     "text": [
      "KE\n",
      "901\n",
      "901\n",
      "901\n",
      "KE\n",
      "KE901\n"
     ]
    }
   ],
   "source": [
    "print(\"KE901\"[0:2])\n",
    "print(\"KE901\"[2:5])\n",
    "print(\"KE901\"[2:100])\n",
    "print(\"KE901\"[2:])\n",
    "print(\"KE901\"[:2])\n",
    "print(\"KE901\"[:])"
   ]
  },
  {
   "cell_type": "code",
   "execution_count": 9,
   "metadata": {},
   "outputs": [
    {
     "name": "stdout",
     "output_type": "stream",
     "text": [
      "K\n",
      "E\n",
      "9\n",
      "0\n",
      "1\n"
     ]
    }
   ],
   "source": [
    "print(\"KE901\"[0])\n",
    "print(\"KE901\"[1])\n",
    "print(\"KE901\"[2])\n",
    "print(\"KE901\"[3])\n",
    "print(\"KE901\"[4])"
   ]
  },
  {
   "cell_type": "code",
   "execution_count": 2,
   "metadata": {},
   "outputs": [
    {
     "name": "stdout",
     "output_type": "stream",
     "text": [
      "3\n",
      "3\n"
     ]
    }
   ],
   "source": [
    "print(1+2)\n",
    "print(3)"
   ]
  },
  {
   "cell_type": "code",
   "execution_count": 3,
   "metadata": {},
   "outputs": [
    {
     "name": "stdout",
     "output_type": "stream",
     "text": [
      "0.30000000000000004\n",
      "0.3\n"
     ]
    }
   ],
   "source": [
    "print(0.1+0.2)\n",
    "print(0.3)"
   ]
  },
  {
   "cell_type": "code",
   "execution_count": 4,
   "metadata": {},
   "outputs": [
    {
     "name": "stdout",
     "output_type": "stream",
     "text": [
      "<class 'float'>\n",
      "<class 'int'>\n"
     ]
    }
   ],
   "source": [
    "print(type(0.1))\n",
    "print(type(0))"
   ]
  },
  {
   "cell_type": "code",
   "execution_count": 6,
   "metadata": {},
   "outputs": [
    {
     "name": "stdout",
     "output_type": "stream",
     "text": [
      "100000000\n",
      "1000000.0\n",
      "10030000\n",
      "9990000\n"
     ]
    }
   ],
   "source": [
    "print(10*1000*1000*10)\n",
    "print(10*1000*1000*1 / 10)\n",
    "print(10*1000*1000+30*1000)\n",
    "print(10*1000*1000-100*100)"
   ]
  },
  {
   "cell_type": "code",
   "execution_count": 7,
   "metadata": {},
   "outputs": [
    {
     "name": "stdout",
     "output_type": "stream",
     "text": [
      "1\n",
      "0.0\n"
     ]
    }
   ],
   "source": [
    "print(3%2) # 나머지 연산\n",
    "print(3.25//7) # 정수 나누기 연산"
   ]
  },
  {
   "cell_type": "code",
   "execution_count": 8,
   "metadata": {},
   "outputs": [
    {
     "name": "stdout",
     "output_type": "stream",
     "text": [
      "5\n",
      "22\n"
     ]
    }
   ],
   "source": [
    "print(322//60) # 몫\n",
    "print(322%60) #나머지"
   ]
  },
  {
   "cell_type": "code",
   "execution_count": 9,
   "metadata": {},
   "outputs": [
    {
     "name": "stdout",
     "output_type": "stream",
     "text": [
      "9\n"
     ]
    }
   ],
   "source": [
    "print(3**2) #제곱"
   ]
  },
  {
   "cell_type": "code",
   "execution_count": 12,
   "metadata": {},
   "outputs": [
    {
     "name": "stdout",
     "output_type": "stream",
     "text": [
      "13\n",
      "13\n",
      "25\n"
     ]
    }
   ],
   "source": [
    "print(3+2*5) # 사칙연산 우선순위\n",
    "print(3+(2*5))\n",
    "print((3+2)*5)"
   ]
  },
  {
   "cell_type": "code",
   "execution_count": 13,
   "metadata": {},
   "outputs": [
    {
     "name": "stdout",
     "output_type": "stream",
     "text": [
      "Hello world\n"
     ]
    }
   ],
   "source": [
    "message = 'Hello world' #변수 저장\n",
    "print(message)"
   ]
  },
  {
   "cell_type": "code",
   "execution_count": null,
   "metadata": {},
   "outputs": [],
   "source": []
  }
 ],
 "metadata": {
  "kernelspec": {
   "display_name": "Python 3",
   "language": "python",
   "name": "python3"
  },
  "language_info": {
   "codemirror_mode": {
    "name": "ipython",
    "version": 3
   },
   "file_extension": ".py",
   "mimetype": "text/x-python",
   "name": "python",
   "nbconvert_exporter": "python",
   "pygments_lexer": "ipython3",
   "version": "3.6.5"
  }
 },
 "nbformat": 4,
 "nbformat_minor": 4
}
