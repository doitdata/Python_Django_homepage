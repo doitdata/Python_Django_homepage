{
 "cells": [
  {
   "cell_type": "markdown",
   "metadata": {},
   "source": [
    "### 16번 정수형 자료 이해하기"
   ]
  },
  {
   "cell_type": "code",
   "execution_count": 1,
   "metadata": {},
   "outputs": [
    {
     "name": "stdout",
     "output_type": "stream",
     "text": [
      "10\n",
      "2\n",
      "8\n",
      "16\n",
      "1234567890123456789\n"
     ]
    }
   ],
   "source": [
    "int_data = 10\n",
    "bin_data = 0b10\n",
    "oct_data = 0o10\n",
    "hex_data = 0x10\n",
    "long_data = 1234567890123456789\n",
    "print(int_data)\n",
    "print(bin_data)\n",
    "print(oct_data)\n",
    "print(hex_data)\n",
    "print(long_data)"
   ]
  },
  {
   "cell_type": "markdown",
   "metadata": {},
   "source": [
    "### 17번 실수형 자료 이해하기"
   ]
  },
  {
   "cell_type": "code",
   "execution_count": 2,
   "metadata": {},
   "outputs": [
    {
     "name": "stdout",
     "output_type": "stream",
     "text": [
      "1.0\n",
      "3.14\n",
      "1560.0\n",
      "-7e-05\n"
     ]
    }
   ],
   "source": [
    "f1 = 1.0\n",
    "f2 = 3.14\n",
    "f3 = 1.56e3\n",
    "f4 = -0.7e-4\n",
    "print(f1)\n",
    "print(f2)\n",
    "print(f3)\n",
    "print(f4)"
   ]
  },
  {
   "cell_type": "markdown",
   "metadata": {},
   "source": [
    "### 18번 복소수형 자료 이해하기"
   ]
  },
  {
   "cell_type": "code",
   "execution_count": 3,
   "metadata": {},
   "outputs": [
    {
     "name": "stdout",
     "output_type": "stream",
     "text": [
      "1.0\n",
      "7.0\n",
      "(2+3j)\n"
     ]
    }
   ],
   "source": [
    "c1 = 1+7j\n",
    "print(c1.real); print(c1.imag)\n",
    "c2 = complex(2,3)\n",
    "print(c2)"
   ]
  },
  {
   "cell_type": "markdown",
   "metadata": {},
   "source": [
    "### 19번 대입 연산자 이해하기(=)"
   ]
  },
  {
   "cell_type": "code",
   "execution_count": 4,
   "metadata": {},
   "outputs": [
    {
     "name": "stdout",
     "output_type": "stream",
     "text": [
      "a와 b를 더한 값은 3입니다\n"
     ]
    }
   ],
   "source": [
    "a = 1\n",
    "b = 2\n",
    "ret = a + b\n",
    "print('a와 b를 더한 값은 ', end = '')\n",
    "print(ret, end = '')\n",
    "print('입니다')"
   ]
  },
  {
   "cell_type": "markdown",
   "metadata": {},
   "source": [
    "### 20번 사칙연산자 이해하기"
   ]
  },
  {
   "cell_type": "code",
   "execution_count": 6,
   "metadata": {},
   "outputs": [
    {
     "name": "stdout",
     "output_type": "stream",
     "text": [
      "6\n",
      "-2\n",
      "8\n",
      "0.5\n",
      "16\n",
      "6.0\n",
      "-12\n",
      "32\n"
     ]
    }
   ],
   "source": [
    "a = 2\n",
    "b = 4\n",
    "ret1 = a+b\n",
    "ret2 = a-b\n",
    "ret3 = a*b\n",
    "ret4 = a/b\n",
    "ret5 = a**b\n",
    "ret6 = a+a*b/a\n",
    "ret7 = (a+b)*(a-b)\n",
    "ret8 = a*b**a\n",
    "\n",
    "print(ret1)\n",
    "print(ret2)\n",
    "print(ret3)\n",
    "print(ret4)\n",
    "print(ret5)\n",
    "print(ret6)\n",
    "print(ret7)\n",
    "print(ret8)"
   ]
  },
  {
   "cell_type": "markdown",
   "metadata": {},
   "source": [
    "### 21번 연산자 축약 이해하기"
   ]
  },
  {
   "cell_type": "code",
   "execution_count": null,
   "metadata": {},
   "outputs": [],
   "source": [
    "a = 0\n",
    "a += 1 # a = a + 1, a의 값은 1\n",
    "a -= 5 # a = a - 5, a의 값은 -4 \n",
    "a *= 2 # a = a * 2, a의 값은 -8\n",
    "a /= 4 # a = a / 4, a의 값은 -2.0"
   ]
  },
  {
   "cell_type": "markdown",
   "metadata": {},
   "source": [
    "### 22번 True와 False 이해하기"
   ]
  },
  {
   "cell_type": "markdown",
   "metadata": {},
   "source": [
    "파이썬에서 참과 거짓을 나타내는 상수를 True와 False임   \n",
    "True는 1, False는 0의 값을 가짐"
   ]
  },
  {
   "cell_type": "code",
   "execution_count": 7,
   "metadata": {},
   "outputs": [
    {
     "name": "stdout",
     "output_type": "stream",
     "text": [
      "True\n",
      "False\n"
     ]
    }
   ],
   "source": [
    "a = True\n",
    "b = False\n",
    "\n",
    "print(a == 1)\n",
    "print(b != 0)"
   ]
  },
  {
   "cell_type": "markdown",
   "metadata": {},
   "source": [
    "### 23번 관계 연산자 이해하기"
   ]
  },
  {
   "cell_type": "markdown",
   "metadata": {},
   "source": [
    "A == B    \n",
    "A와 B가 같으면 참  \n",
    "A != B    \n",
    "A와 B가 다르면 참  \n",
    "A < B     \n",
    "A가 B보다 작으면 참  \n",
    "A <= B    \n",
    "A가 B보다 작거나 같으면 참  \n",
    "A > B     \n",
    "A가 B보다 크면 참  \n",
    "A >= B    \n",
    "A가 B보다 크거나 같으면 참  "
   ]
  },
  {
   "cell_type": "code",
   "execution_count": 9,
   "metadata": {},
   "outputs": [
    {
     "name": "stdout",
     "output_type": "stream",
     "text": [
      "False\n",
      "True\n",
      "False\n",
      "True\n",
      "True\n"
     ]
    }
   ],
   "source": [
    "x = 1; y = 2\n",
    "str1 = 'abc'; str2 = 'python'\n",
    "print(x == y) # False가 출력\n",
    "print(x != y) # True가 출력\n",
    "print(str1 == str2) # False\n",
    "print(str2 == 'python') # True\n",
    "print(str1 < str2) # True"
   ]
  },
  {
   "cell_type": "markdown",
   "metadata": {},
   "source": [
    "### 24번 논리 연산자 이해하기 (and, or, not)"
   ]
  },
  {
   "cell_type": "markdown",
   "metadata": {},
   "source": [
    "A and B => A와 B가 모두 참이면 참  \n",
    "A or B => A, B 중 하나 이상이 참이면 참  \n",
    "not A => A 논리값의 반대  "
   ]
  },
  {
   "cell_type": "code",
   "execution_count": 11,
   "metadata": {},
   "outputs": [
    {
     "name": "stdout",
     "output_type": "stream",
     "text": [
      "False\n",
      "True\n",
      "False\n",
      "False\n",
      "False\n",
      "True\n"
     ]
    }
   ],
   "source": [
    "bool1 = True; bool2 = False; bool3 = True; bool4 = False\n",
    "\n",
    "print(bool1 and bool2)\n",
    "print(bool1 and bool3)\n",
    "print(bool2 and bool3)\n",
    "print(bool2 and bool4)\n",
    "print(not bool1)\n",
    "print(not bool2)\n"
   ]
  },
  {
   "cell_type": "markdown",
   "metadata": {},
   "source": [
    "### 25번 비트 연산자 이해하기"
   ]
  },
  {
   "cell_type": "markdown",
   "metadata": {},
   "source": [
    "A & B => A와 B의 비트간 and 연산을 수행  \n",
    "A | B => A와 B의 비트간 or 연산을 수행  \n",
    "A ^ B => A와 B의 비트간 배타적 논리합 xor 연산을 수행함  \n",
    "~ A   => A의 비트를 반전시킴, 즉 A의 보수를 만듦  \n",
    "A >> n => A의 모든 비트를 n만큼 오른쪽으로 시프트 시킴  \n",
    "A << n => A의 모든 비트를 n만큼 왼쪽으로 시프트 시킴  "
   ]
  },
  {
   "cell_type": "code",
   "execution_count": 12,
   "metadata": {},
   "outputs": [
    {
     "name": "stdout",
     "output_type": "stream",
     "text": [
      "0x60\n",
      "0x63\n",
      "0x3\n",
      "0x30\n",
      "0x184\n"
     ]
    }
   ],
   "source": [
    "bit1 = 0x61\n",
    "bit2 = 0x62\n",
    "print(hex(bit1 & bit2))\n",
    "print(hex(bit1 | bit2))\n",
    "print(hex(bit1 ^ bit2))\n",
    "print(hex(bit1 >> 1))\n",
    "print(hex(bit1 << 2))"
   ]
  },
  {
   "cell_type": "markdown",
   "metadata": {},
   "source": [
    "### 26번 시퀀스 자료형 이해하기"
   ]
  },
  {
   "cell_type": "markdown",
   "metadata": {},
   "source": [
    "시퀀스 자료형의 특성  \n",
    "1) 인덱싱 : 인덱스를 통해 해당 값에 접근할 수 있습니다. 인덱스는 0부터 시작합니다.  \n",
    "2) 슬라이싱 : 특정 구간의 값을 취할 수 있습니다. 구간은 시작 인덱스와 끝 인덱스로 정의합니다.  \n",
    "3) 연결 : '+' 연산자를 이용해 두 시퀀스 자료를 연결하여 새로운 시퀀스 자료를 생성합니다.   \n",
    "4) 반복 : '*' 연산자를 이용해 시퀀스 자료의 요소로 속해 있는지 확인할 수 있습니다.  \n",
    "5) 멤버체크 : '\\n' 키워드를 사용하여 특정 값이 시퀀스 자료의 요소로 속해 있는지 확인할 수 있습니다.    \n",
    "6) 크기 정보 : len()을 이용해 시퀀스 자료의 크기를 알 수 있습니다. 시퀀스 자료의 크기는 문자열의 경우 문자의 개수, 리스트와 튜플인 경우 멤버의 개수가 됩니다.     "
   ]
  },
  {
   "cell_type": "code",
   "execution_count": 14,
   "metadata": {},
   "outputs": [],
   "source": [
    "strdata = 'abcde' # 문자열은 시퀀스 자료형\n",
    "listdata = [1, [2,3], '안녕'] # 리스트는 시퀀스 자료형\n",
    "tupledata = (100, 200, 300) # 튜플은 시퀀스 자료형"
   ]
  },
  {
   "cell_type": "markdown",
   "metadata": {},
   "source": [
    "### 27번 시퀀스 자료 인덱싱 이해하기"
   ]
  },
  {
   "cell_type": "markdown",
   "metadata": {},
   "source": [
    "인덱싱이란 시퀀스 자료형에서 인덱스를 통해 해당하는 값을 얻는 방법   \n",
    "인덱스는 0부터 시작하며, 음수인 인덱스도 사용 가능합니다.  \n",
    "음수 인덱스는 우리가 일상에서 말하는 '끝에서 부터 몇 번째' 라는 의미와 같음  "
   ]
  },
  {
   "cell_type": "code",
   "execution_count": 16,
   "metadata": {},
   "outputs": [
    {
     "name": "stdout",
     "output_type": "stream",
     "text": [
      "i\n",
      "!\n",
      "1\n",
      "[1, 2, 3]\n",
      "3\n"
     ]
    }
   ],
   "source": [
    "strdata = 'Time is money!!'\n",
    "listdata = [1,2, [1, 2, 3]]\n",
    "print(strdata[5])\n",
    "print(strdata[-2])\n",
    "print(listdata[0])\n",
    "print(listdata[-1])\n",
    "print(listdata[2][-1])"
   ]
  },
  {
   "cell_type": "markdown",
   "metadata": {},
   "source": [
    "### 28번 시퀀스 자료 슬라이싱 이해하기"
   ]
  },
  {
   "cell_type": "markdown",
   "metadata": {},
   "source": [
    "인덱싱은 인덱스에 해당하는 요소 하나를 취하는 방법이지만,   \n",
    "슬라이싱은 시퀀스 자료에서 일정 범위에 해당하는 부분을 취하는 형식   \n",
    "사용하는 방법은 [시작 인덱스 : 끝 인덱스 : 스텝]  으로  \n",
    "\n",
    "시작 인덱스는 슬라이싱 범위의 시작  \n",
    "끝 인덱스는 슬라이싱 범위의 끝  \n",
    "스텝은 자료를 취하는 간격을 의미   \n",
    "\n",
    "여기서 스텝은 생략해도 되며 디폴트 값은 1입니다.   \n",
    "따라서, 보통 슬라이싱 범위는 [시작 인덱스 : 끝 인덱스]로 지정하며,  \n",
    "시작 인덱스 이상부터 끝 인덱스 미만까지 자료를 취하라는 뜻 입니다.   \n",
    "\n",
    "이를 부등식으로 표현하면 다음과 같음.  \n",
    "시작인덱스 <= [시작 인덱스 : 끝 인덱스] <= 끝 인덱스  \n",
    "\n",
    "[m:n] => 시퀀스 자료의 인덱스가 m이상 n미만인 요소를 슬라이싱   \n",
    "[:n] => 시퀀스 자료의 처음부터 인덱스가 n미만인 요소까지 슬라이싱   \n",
    "[m:] => 시퀀스 자료의 인덱스가 m인 요소부터 시퀀스 자료의 끝까지 슬라이싱  \n",
    "[:-n] => 시퀀스 자료의 처음부터 끝에서 n번째 미만인 요소까지 슬라이싱  \n",
    "[-m:] => 시퀀스 자료의 끝에서 m번째 요소부터 시퀀스 자료의 끝까지 슬라이싱   "
   ]
  },
  {
   "cell_type": "code",
   "execution_count": 18,
   "metadata": {},
   "outputs": [
    {
     "name": "stdout",
     "output_type": "stream",
     "text": [
      "ime \n",
      "Time is\n",
      "oney!!\n",
      "Time is mone\n",
      "y!!\n",
      "Time is money!!\n",
      "Tm smny!\n"
     ]
    }
   ],
   "source": [
    "strdata = 'Time is money!!'\n",
    "print(strdata[1:5])\n",
    "print(strdata[:7])\n",
    "print(strdata[9:])\n",
    "print(strdata[:-3])\n",
    "print(strdata[-3:])\n",
    "print(strdata[:])\n",
    "print(strdata[::2])"
   ]
  },
  {
   "cell_type": "markdown",
   "metadata": {},
   "source": [
    "### 29번 시퀀스 자료 연결 이해하기 (+)"
   ]
  },
  {
   "cell_type": "code",
   "execution_count": 20,
   "metadata": {},
   "outputs": [
    {
     "name": "stdout",
     "output_type": "stream",
     "text": [
      "I love Python\n",
      "I love you\n",
      "[1, 2, 3, 4, 5, 6]\n"
     ]
    }
   ],
   "source": [
    "strdata1 = 'I love '; strdata2 = 'Python'; strdata3 = 'you'\n",
    "listdata1 = [1, 2, 3]; listdata2 = [4, 5, 6]\n",
    "print(strdata1 + strdata2) \n",
    "print(strdata1 + strdata3) \n",
    "print(listdata1 + listdata2) "
   ]
  },
  {
   "cell_type": "markdown",
   "metadata": {},
   "source": [
    "### 30번 시퀀스 자료 반복 이해하기 (*)"
   ]
  },
  {
   "cell_type": "code",
   "execution_count": 21,
   "metadata": {},
   "outputs": [
    {
     "name": "stdout",
     "output_type": "stream",
     "text": [
      "빅뱅이 부르는 뱅~뱅~뱅~\n"
     ]
    }
   ],
   "source": [
    "artist = '빅뱅'\n",
    "sing = '뱅~'\n",
    "dispdata = artist + '이 부르는 ' + sing*3\n",
    "print(dispdata)"
   ]
  },
  {
   "cell_type": "markdown",
   "metadata": {},
   "source": [
    "### 31번 시퀀스 자료 크기 이해하기 (len)"
   ]
  },
  {
   "cell_type": "code",
   "execution_count": 24,
   "metadata": {},
   "outputs": [
    {
     "name": "stdout",
     "output_type": "stream",
     "text": [
      "13\n",
      "14\n",
      "5\n",
      "13\n"
     ]
    }
   ],
   "source": [
    "strdata1 = 'l love Python'\n",
    "strdata2 = '나는 파이썬을 사랑합니다.'\n",
    "listdata = ['a', 'b', 'c', strdata1, strdata2]\n",
    "print(len(strdata1))\n",
    "print(len(strdata2))\n",
    "print(len(listdata))\n",
    "print(len(listdata[3]))"
   ]
  },
  {
   "cell_type": "markdown",
   "metadata": {},
   "source": [
    "### 32번 멤버체크 이해하기(in)"
   ]
  },
  {
   "cell_type": "markdown",
   "metadata": {},
   "source": [
    "in은 자료에 어떤 값이 있는지 없는지 확인할 때 사용하는 키워드   \n",
    "활용방법은 <값> in <자료>   \n",
    "값이 자료에 있으면 결과는 True, 없으면 False  "
   ]
  },
  {
   "cell_type": "code",
   "execution_count": 25,
   "metadata": {},
   "outputs": [
    {
     "name": "stdout",
     "output_type": "stream",
     "text": [
      "False\n",
      "True\n",
      "False\n"
     ]
    }
   ],
   "source": [
    "lsitdata = [1,2,3,4]\n",
    "ret1 = 5 in listdata\n",
    "ret2 = 4 in listdata\n",
    "print(ret1)\n",
    "\n",
    "strdata = 'abcde'\n",
    "ret3 = 'c' in strdata\n",
    "ret4 = '1' in strdata\n",
    "print(ret3); print(ret4)"
   ]
  },
  {
   "cell_type": "markdown",
   "metadata": {},
   "source": [
    "### 33번 문자열 이해하기"
   ]
  },
  {
   "cell_type": "code",
   "execution_count": 27,
   "metadata": {},
   "outputs": [],
   "source": [
    "strdata1 = '나는 파이썬 프로그래머다' # 문자열 선언 방법 1\n",
    "strdata2 = 'you are a programmer' # 문자열 선언 방법 2\n",
    "strdata3 = \"\"\" i love \n",
    "    python. you love\n",
    "python tool!\n",
    "\"\"\" # 문자열 선언 방법 3 \n",
    "strdata4 = \"My son's name is John\"  # \"\" 안에서 ' 사용하기\n",
    "strdata5 = '문자열 \"abc\"의 길이는 3입니다' # '' 안에서 \" 사용하기"
   ]
  },
  {
   "cell_type": "markdown",
   "metadata": {},
   "source": [
    "### 34번 문자열 포맷팅 이해하기"
   ]
  },
  {
   "cell_type": "markdown",
   "metadata": {},
   "source": [
    "포맷 문자열   \n",
    "%s => 문자열에 대응됨  \n",
    "%c => 문자나 기호 한개에 대응  \n",
    "%f => 실수에 대응  \n",
    "%d => 정수에 대응  \n",
    "%% => '%'라는 기호 자체를 표시  "
   ]
  },
  {
   "cell_type": "code",
   "execution_count": 28,
   "metadata": {},
   "outputs": [
    {
     "name": "stdout",
     "output_type": "stream",
     "text": [
      "나는 자바보다 파이썬에 더 익숙합니다. \n",
      "자바은 파이썬보다 5배 더 쉽습니다. \n",
      "5 + 10 = 15\n",
      "작년 세계 경제 성장률은 전년에 비해 5% 포인트 증가했다\n"
     ]
    }
   ],
   "source": [
    "txt1 = '자바'; txt2 = '파이썬'\n",
    "num1 = 5; num2 = 10\n",
    "print('나는 %s보다 %s에 더 익숙합니다. ' %(txt1, txt2))\n",
    "print('%s은 %s보다 %s배 더 쉽습니다. ' %(txt1, txt2, num1))\n",
    "print('%d + %d = %d' % (num1, num2, num1 + num2))\n",
    "print('작년 세계 경제 성장률은 전년에 비해 %d%% 포인트 증가했다' %(num1))"
   ]
  },
  {
   "cell_type": "code",
   "execution_count": 31,
   "metadata": {},
   "outputs": [
    {
     "name": "stdout",
     "output_type": "stream",
     "text": [
      "진행률 10%"
     ]
    }
   ],
   "source": [
    "from time import sleep\n",
    "\n",
    "for i in range(10):\n",
    "    # msg를 캐리지 리턴 문자'\\r'을 추가하여 문자열 포매팅을 이용하여 구성\n",
    "    # 캐리지 리턴은 현재 위치를 나타내는 커서를 화면 맨 앞으로 이동하라는 의미\n",
    "    msg = '\\r진행률 %d%%'%(i+1) \n",
    "    print(''*len(msg), end = '') # msg의 길이만큼 공백문자를 줄바꿈없이 화면에 출력\n",
    "    print(msg, end='')\n",
    "    sleep(0.1)"
   ]
  },
  {
   "cell_type": "markdown",
   "metadata": {},
   "source": [
    "### 35번 이스케이프 문자 이해하기"
   ]
  },
  {
   "cell_type": "markdown",
   "metadata": {},
   "source": [
    "이스케이프 문자  \n",
    "\\n => 줄바꾸기  \n",
    "\\t => 탭  \n",
    "\\엔터 => 줄 계속(다음 줄도 계속되는 줄이라는 표시)    \n",
    "\\\\\\ => '\\' 기호 자체    \n",
    "\\\\' 또는 \\\\\" => ' 기호 또는 \" 기호 자체   "
   ]
  },
  {
   "cell_type": "code",
   "execution_count": 34,
   "metadata": {},
   "outputs": [
    {
     "name": "stdout",
     "output_type": "stream",
     "text": [
      "나는 파이썬을 사랑합니다. \n",
      "파이썬은 자바보다 훨씬 쉽습니다.\n",
      "Name: John Smith\tSex: Male\\Age: 22\n",
      "이 문장은 화면폭에 비해 너무 길어 보기가 힘듭니다. 그래서 \\Enter키를 이용해 문장을 다음줄과 연속되도록 했습니다.\n",
      "작은따옴표(')와 큰 따옴표(\")는 문자열을 정의할 때 사용합니다.\n"
     ]
    }
   ],
   "source": [
    "print('나는 파이썬을 사랑합니다. \\n파이썬은 자바보다 훨씬 쉽습니다.')\n",
    "print('Name: John Smith\\tSex: Male\\Age: 22')\n",
    "print('이 문장은 화면폭에 비해 너무 길어 보기가 힘듭니다. \\\n",
    "그래서 \\\\Enter키를 이용해 문장을 다음줄과 연속되도록 했습니다.')\n",
    "print('작은따옴표(\\')와 큰 따옴표(\")는 문자열을 정의할 때 사용합니다.')"
   ]
  },
  {
   "cell_type": "markdown",
   "metadata": {},
   "source": [
    "### 36번 리스트 이해하기 ([])"
   ]
  },
  {
   "cell_type": "markdown",
   "metadata": {},
   "source": [
    "리스트의 요소로는 임의의 객체가 가능합니다. 임의의 객체란 숫자, 문자, 문자열, 리스트, 튜플, 사전 등 파이썬 자료형과 함수, 클래스 등을 말함"
   ]
  },
  {
   "cell_type": "code",
   "execution_count": 35,
   "metadata": {},
   "outputs": [
    {
     "name": "stdout",
     "output_type": "stream",
     "text": [
      "[6, 2, 3, 4, 5]\n",
      "안녕하세요\n"
     ]
    }
   ],
   "source": [
    "list1 = [1, 2, 3, 4, 5]\n",
    "list2 = ['a', 'b', 'c']\n",
    "list3 = [1, 'a', 'abc', [1, 2, 3, 4, 5], ['a', 'b' 'c']]\n",
    "list1[0] = 6\n",
    "print(list1)\n",
    "\n",
    "def myfunc():\n",
    "    print('안녕하세요')\n",
    "\n",
    "list4 = [1, 2, myfunc]\n",
    "list4[2]()"
   ]
  },
  {
   "cell_type": "markdown",
   "metadata": {},
   "source": [
    "### 37번 튜플 이해하기 (())"
   ]
  },
  {
   "cell_type": "markdown",
   "metadata": {},
   "source": [
    "튜플은 리스트와 비슷한 성질을 가지고 있는 자료형이지만 요소의 값을 변경할 수없다는 것이 특징   \n",
    "튜플은 리스트와 마찬가지로 임의의 객체를 요소로 가질 수 있는 시퀀스 자료형 입니다.   "
   ]
  },
  {
   "cell_type": "code",
   "execution_count": 36,
   "metadata": {},
   "outputs": [
    {
     "name": "stdout",
     "output_type": "stream",
     "text": [
      "안녕하세요\n"
     ]
    }
   ],
   "source": [
    "tuple1 = (1, 2, 3, 4, 5)\n",
    "tuple2 = ('a', 'b', 'c')\n",
    "tuple3 = (1, 'a', 'abc', [1, 2, 3, 4, 5], ['a', 'b', 'c'])\n",
    "\n",
    "def myfunnc():\n",
    "    print('안녕하세요')\n",
    "    \n",
    "tuple4 = (1, 2, myfunc)\n",
    "tuple4[2]()"
   ]
  },
  {
   "cell_type": "markdown",
   "metadata": {},
   "source": [
    "### 38번 사전 이해하기 ({ })"
   ]
  },
  {
   "cell_type": "code",
   "execution_count": 38,
   "metadata": {},
   "outputs": [
    {
     "name": "stdout",
     "output_type": "stream",
     "text": [
      "1\n",
      "{'a': 1, 'b': 2, 'c': 3, 'd': 4}\n",
      "{'a': 1, 'b': 7, 'c': 3, 'd': 4}\n",
      "4\n"
     ]
    }
   ],
   "source": [
    "dict1 = {'a': 1, 'b': 2, 'c': 3}\n",
    "print(dict1['a'])  \n",
    "\n",
    "dict1['d'] = 4\n",
    "print(dict1)\n",
    "\n",
    "dict1['b'] = 7\n",
    "print(dict1)\n",
    "print(len(dict1))"
   ]
  },
  {
   "cell_type": "markdown",
   "metadata": {},
   "source": [
    "### 39번 함수 이해하기 (def)"
   ]
  },
  {
   "cell_type": "markdown",
   "metadata": {},
   "source": [
    "함수란 특정 목적을 가진 코드의 집합이며 독립젇으로 호출될 수 있는 것을 말함\n",
    "\n",
    "1) 인자와 리턴값이 있는 함수 선언 방법  \n",
    "def 함수이름(인자1, 인자2..):  \n",
    "    코드들  \n",
    "    return 결과값  \n",
    "\n",
    "2) 리턴값은 있지만 인자가 없는 함수 선언 방법  \n",
    "def 함수이름():  \n",
    "    코드들  \n",
    "    return 결과값  \n",
    "\n",
    "3) 인자와 리턴값이 없는 함수 선언 방법  \n",
    "def 함수이름():  \n",
    "    코드들  \n",
    "    return (또는 생략)  \n",
    "\n",
    "1) 인자와 리턴값이 있는 함수 호출 방법  \n",
    "변수 = 함수이름(값1, 값2...)  \n",
    "\n",
    "2) 리턴값이 없는 함수 호출 방법  \n",
    "함수이름(값1, 값2...)  \n",
    "\n",
    "3) 인자와 리턴값이 없는 함수 호출 방법  \n",
    "함수이름()"
   ]
  },
  {
   "cell_type": "code",
   "execution_count": 39,
   "metadata": {},
   "outputs": [
    {
     "name": "stdout",
     "output_type": "stream",
     "text": [
      "25\n",
      "대한민국 ~만세! \n"
     ]
    }
   ],
   "source": [
    "def add_number(n1, n2):\n",
    "    ret = n1 + n2\n",
    "    return ret\n",
    "\n",
    "def add_txt(t1, t2):\n",
    "    print(t1 + t2)\n",
    "    \n",
    "ans = add_number(10, 15)\n",
    "print(ans)\n",
    "\n",
    "text1 = '대한민국 ~'\n",
    "text2 = '만세! '\n",
    "add_txt(text1, text2)"
   ]
  },
  {
   "cell_type": "markdown",
   "metadata": {},
   "source": [
    "### 40번 함수 인자 이해하기"
   ]
  },
  {
   "cell_type": "markdown",
   "metadata": {},
   "source": [
    "기본 인자를 이용해 값을 전달하는 방법 : 기본 인자 이용  \n",
    "인자 이름을 이용해 값을 전달하는 방법 : 키워드 인자 이용  \n",
    "가변 인자 튜플을 이용해 값을 전달하는 방법 : 가변 인자 이용  \n",
    "미정 키워드 인자 사전을 이용해 값을 전달하는 방법 : 미정 키워드 인자 이용  "
   ]
  },
  {
   "cell_type": "code",
   "execution_count": 41,
   "metadata": {},
   "outputs": [
    {
     "name": "stdout",
     "output_type": "stream",
     "text": [
      "베스트 : 파이썬\n",
      "1등 : 대한민국\n",
      "()\n",
      "(3, 5, 1, 5)\n",
      "{}\n",
      "{'depth': 50, 'color': 'blue'}\n"
     ]
    }
   ],
   "source": [
    "def add_txt(t1, t2 = '파이썬'):\n",
    "    print(t1 + ' : ' + t2)\n",
    "\n",
    "# 첫번째 인자인 t1에 베스트가 대입    \n",
    "add_txt('베스트') \n",
    "\n",
    "# 키워드 인잘ㄹ 이용하면 인자의 순서는 무시됨\n",
    "add_txt(t2 = '대한민국', t1 = '1등') \n",
    "\n",
    "# 함수를 정의할 때 인자의 개수가 불명확한 경우, 가변 인자를 활용하여 함수를 선언 \n",
    "def func1(*args):\n",
    "    print(args)\n",
    "\n",
    "# 키워드 인자가 불명확한 경우 **kwargs 를 사용    \n",
    "def func2(width, height, **kwargs):\n",
    "    print(kwargs)\n",
    "    \n",
    "func1()\n",
    "func1(3, 5, 1, 5)\n",
    "func2(10, 20)\n",
    "func2(10, 20, depth=50, color = 'blue')"
   ]
  },
  {
   "cell_type": "markdown",
   "metadata": {},
   "source": [
    "### 41번 지역변수와 전역변수 이해하기 (global)"
   ]
  },
  {
   "cell_type": "markdown",
   "metadata": {},
   "source": [
    "변수가 유효한 범위를 기준으로 구분할 때 지역변수와 전역변수라는 것이 있음   \n",
    "\n",
    "지역변수는 함수내에서만 유효한 변수  \n",
    "전역변수는 코드 전반에 걸쳐 유효한 변수  \n",
    "\n",
    "따라서, 지역변수를 선언하는 위치는 함수 내부가 되며,   \n",
    "전역변수를 선언하는 위치는 함수 바깥이 됨  \n",
    "\n",
    "그러므로, \n",
    "지역벽수는 함수를 벗어나면 더 이상 유효하지 않으며,   \n",
    "함수의 인자로 선언된 변수는 함수내에서만 유효한 지역변수임  "
   ]
  },
  {
   "cell_type": "code",
   "execution_count": 42,
   "metadata": {},
   "outputs": [
    {
     "name": "stdout",
     "output_type": "stream",
     "text": [
      "지역변수\n",
      "전역변수\n",
      "10\n",
      "10\n",
      "50\n"
     ]
    }
   ],
   "source": [
    "param = 10\n",
    "strdata = '전역변수'\n",
    "\n",
    "def func1():\n",
    "    strdata = '지역변수'\n",
    "    print(strdata)\n",
    "    \n",
    "def func2(param):\n",
    "    param = 1\n",
    "    \n",
    "def func3():\n",
    "    global param\n",
    "    param = 50\n",
    "    \n",
    "func1()\n",
    "print(strdata) # 지역변수가 출력\n",
    "print(param) # 전역 변수가 출력\n",
    "\n",
    "func2(param) \n",
    "print(param)\n",
    "\n",
    "func3()\n",
    "print(param)"
   ]
  },
  {
   "cell_type": "markdown",
   "metadata": {},
   "source": [
    "### 42번 함수 리턴값 이해하기 "
   ]
  },
  {
   "cell_type": "markdown",
   "metadata": {},
   "source": [
    "함수가 수행되고 나면 그 결과를 리턴하고 종료    \n",
    "이때 return 키워드를 이용하여 값을 리턴하고 함수를 종료   \n",
    "\n",
    "만약에, 리턴값이 없는 경우에는 return 없이 함수 코드를 마무리해도 됨  \n",
    "리턴값이 여러 개인 경우에는 튜플로 리턴값을 만들어 리턴  "
   ]
  },
  {
   "cell_type": "code",
   "execution_count": 45,
   "metadata": {},
   "outputs": [
    {
     "name": "stdout",
     "output_type": "stream",
     "text": [
      "(3, 2, 1)\n",
      "c\n",
      "b\n",
      "a\n"
     ]
    }
   ],
   "source": [
    "def reverse(x, y, z):\n",
    "    return z, y, x\n",
    "\n",
    "ret = reverse(1,2,3)\n",
    "print(ret)\n",
    "\n",
    "r1, r2, r3 = reverse('a', 'b', 'c')\n",
    "print(r1); print(r2); print(r3)"
   ]
  },
  {
   "cell_type": "markdown",
   "metadata": {},
   "source": [
    "### 43번 파이썬 모튤의 이해"
   ]
  },
  {
   "cell_type": "markdown",
   "metadata": {},
   "source": [
    "안정성이 검증된 함수들을 성격에 맞게 하나의 파이썬 파일에 묶어 만들어 놓은 것을 모듈이라고 함.   \n",
    "외부 모듈에 있는 함수들을 활용하려면 이 모듈을 먼저 우리 코드로 가져와서 자유롭게 사용할 수 있도록 해야하는데 이런 일을 파이썬에서는 모듈을 임포트한다고 함.   "
   ]
  },
  {
   "cell_type": "code",
   "execution_count": 46,
   "metadata": {},
   "outputs": [
    {
     "name": "stdout",
     "output_type": "stream",
     "text": [
      "5초간 프로그램을 정지합니다. \n",
      "5초가 지나갔습니다\n"
     ]
    }
   ],
   "source": [
    "import time\n",
    "\n",
    "print('5초간 프로그램을 정지합니다. ')\n",
    "time.sleep(5)\n",
    "print('5초가 지나갔습니다')"
   ]
  },
  {
   "cell_type": "code",
   "execution_count": 22,
   "metadata": {},
   "outputs": [
    {
     "name": "stdout",
     "output_type": "stream",
     "text": [
      "대한민국:1등\n",
      "(1, 2, 3)\n"
     ]
    }
   ],
   "source": [
    "import mylib\n",
    "\n",
    "ret1 = mylib.add_txt('대한민국', '1등')\n",
    "ret2 = mylib.reverse(1,2,3)\n",
    "\n",
    "print(ret1)\n",
    "print(ret2)"
   ]
  },
  {
   "cell_type": "markdown",
   "metadata": {},
   "source": [
    "### 44번 파이썬 패키지 이해하기"
   ]
  },
  {
   "cell_type": "code",
   "execution_count": 33,
   "metadata": {},
   "outputs": [
    {
     "name": "stdout",
     "output_type": "stream",
     "text": [
      "대한민국 : 1등\n",
      "(3, 2, 1)\n"
     ]
    }
   ],
   "source": [
    "import my_lib\n",
    "\n",
    "ret1 = my_lib.add_txt('대한민국', '1등')\n",
    "ret2 = my_lib.reverse(1,2,3)\n",
    "\n",
    "\n",
    "print(ret1)\n",
    "print(ret2)"
   ]
  },
  {
   "cell_type": "code",
   "execution_count": 37,
   "metadata": {},
   "outputs": [
    {
     "name": "stdout",
     "output_type": "stream",
     "text": [
      "대한민국:1등\n",
      "(3, 2, 1)\n"
     ]
    }
   ],
   "source": [
    "import mypackage.mylib2\n",
    "\n",
    "ret1 = mypackage.mylib2.add_txt('대한민국', '1등')\n",
    "ret2 = mypackage.mylib2.reverse(1,2,3)\n",
    "\n",
    "print(ret1)\n",
    "print(ret2)"
   ]
  },
  {
   "cell_type": "markdown",
   "metadata": {},
   "source": [
    "### 45번 파이썬 모듈 임포트 이해하기 1)"
   ]
  },
  {
   "cell_type": "markdown",
   "metadata": {},
   "source": [
    "모듈을 임포트 하는 방법  \n",
    "import 모듈이름   \n",
    "import 패키지 이름.모듈이름  "
   ]
  },
  {
   "cell_type": "code",
   "execution_count": 39,
   "metadata": {},
   "outputs": [
    {
     "data": {
      "text/plain": [
       "(3, 2, 1)"
      ]
     },
     "execution_count": 39,
     "metadata": {},
     "output_type": "execute_result"
    }
   ],
   "source": [
    "import time \n",
    "import my_lib\n",
    "import mypackage.mylib2\n",
    "\n",
    "time.sleep(1)\n",
    "mylib.add_txt('나는', '파이썬이다')\n",
    "mypackage.mylib2.reverse(1,2,3)"
   ]
  },
  {
   "cell_type": "markdown",
   "metadata": {},
   "source": [
    "### 46번 파이썬 모듈 임포트 이해하기 2)"
   ]
  },
  {
   "cell_type": "markdown",
   "metadata": {},
   "source": [
    "from 모듈 이름 import 함수이름   \n",
    "from 패키지이름 import 모듈이름  "
   ]
  },
  {
   "cell_type": "code",
   "execution_count": 40,
   "metadata": {},
   "outputs": [
    {
     "data": {
      "text/plain": [
       "(3, 2, 1)"
      ]
     },
     "execution_count": 40,
     "metadata": {},
     "output_type": "execute_result"
    }
   ],
   "source": [
    "from time import sleep\n",
    "from mypackage import mylib2\n",
    "from mypackage.mylib2 import reverse\n",
    "\n",
    "sleep(2)\n",
    "mylib.add_txt('나는', '파이썬이다')\n",
    "reverse(1,2,3)"
   ]
  },
  {
   "cell_type": "markdown",
   "metadata": {},
   "source": [
    "### 47번 파이썬 모듈 임포트 이해하기 3)"
   ]
  },
  {
   "cell_type": "markdown",
   "metadata": {},
   "source": [
    "import 이름이 긴 모듈명 as 별명"
   ]
  },
  {
   "cell_type": "code",
   "execution_count": 42,
   "metadata": {},
   "outputs": [
    {
     "name": "stdout",
     "output_type": "stream",
     "text": [
      "대한민국:1등\n",
      "(3, 2, 1)\n"
     ]
    }
   ],
   "source": [
    "import mypackage as mp\n",
    "import mypackage.mylib2 as ml\n",
    "\n",
    "ret1 = mp.mylib2.add_txt('대한민국', '1등')\n",
    "ret2 = ml.reverse(1,2,3)\n",
    "\n",
    "print(ret1)\n",
    "print(ret2)"
   ]
  },
  {
   "cell_type": "markdown",
   "metadata": {},
   "source": [
    "### 48번 파일 열고 닫기 (open, close)"
   ]
  },
  {
   "cell_type": "markdown",
   "metadata": {},
   "source": [
    "#### open(파일이름, 모드)  \n",
    "- > 파일이름은 파일이 존재하는 정대경로나 상대경로를 입력    \n",
    "- > 모드는 파일을 오픈하는 모드   \n",
    "r 또는 rt  => 텍스트 모드로 읽기   \n",
    "w 또는 wt  => 텍스트 모드로 쓰기  \n",
    "a 또는 at  => 텍스트 모드로 파일 마지막에 추가하기  \n",
    "rb         => 바이너리 모드로 읽기   \n",
    "wb         => 바이너리 모드로 쓰기   \n",
    "ab         => 바이너리 모드로 파일 마지막에 추가하기  "
   ]
  },
  {
   "cell_type": "code",
   "execution_count": 43,
   "metadata": {},
   "outputs": [],
   "source": [
    "f1 = open('./mydata.txt', 'r')\n",
    "f2 = open('./myimages/img_sample.jpg', 'rb')\n",
    "\n",
    "\n",
    "f1.close()\n",
    "f2.close()"
   ]
  },
  {
   "cell_type": "markdown",
   "metadata": {},
   "source": [
    "### 49번 클래스 이해하기 class"
   ]
  },
  {
   "cell_type": "markdown",
   "metadata": {},
   "source": [
    "클래스는 프로그래머가 지정한 이름으로 만든 하나의 독립된 공간이며, 이름공간이라고 부름  \n",
    "- > 클래스를 구성하는 주요 요소는 클래스에서 변수 역할을 하는 클래스 멤버와 함수와 동일한 역할을 하는 클래스 메소드로 구성  \n",
    "- > 클래스 멤버나 클래스 메소드는 클래스 공간 내에서 정의되는 것 말고는 보통의 변수나 함수와 그 역할이 비슷  \n",
    "\n",
    "#### 클래스 정의 방법  \n",
    "class 클래스 이름:   \n",
    "클래스 멤버 정의  \n",
    "클래스 메소드 정의  \n",
    "\n",
    "#### 클래스의 멤버 혹은 메소드를 호출하는 방법\n",
    "obj.클래스 멤버  \n",
    "obj.클래스 메소드  "
   ]
  },
  {
   "cell_type": "code",
   "execution_count": 44,
   "metadata": {},
   "outputs": [
    {
     "name": "stdout",
     "output_type": "stream",
     "text": [
      "안녕하세요\n",
      "안녕하세요\n"
     ]
    }
   ],
   "source": [
    "class MyClass:\n",
    "    var = '안녕하세요' # 클래스 멤버정의\n",
    "    \n",
    "    def sayHello(self): # 클래스 메소드 \n",
    "        print(self.var) \n",
    "        \n",
    "    \n",
    "obj = MyClass()  # MyClass 인스턴스 객체 생성\n",
    "print(obj.var)  # '안녕하세요'가 출력\n",
    "obj.sayHello()  # '안녕하세요'가 출력"
   ]
  },
  {
   "cell_type": "markdown",
   "metadata": {},
   "source": [
    "### 50번 클래스 멤버와 인스턴스 멤버 이해하기"
   ]
  },
  {
   "cell_type": "markdown",
   "metadata": {},
   "source": [
    "클래스에서 선언되는 변수는 클래스 멤버와 인스턴스 멤버가 있음  \n",
    "클래스 멤버는 클래스 메소드 바깥에서 선언   \n",
    "인스턴스 멤버는 클래스 메소드 안에서 self와 함께 선언되는 변수 "
   ]
  },
  {
   "cell_type": "code",
   "execution_count": 45,
   "metadata": {},
   "outputs": [
    {
     "name": "stdout",
     "output_type": "stream",
     "text": [
      "안녕하세요!!\n",
      "안녕\n",
      "안녕하세요!!\n"
     ]
    }
   ],
   "source": [
    "class MyClass:\n",
    "    var = '안녕하세요!!' # 클래스 메소드 바깥에서 선언되었으므로, 클래스 멤버\n",
    "    \n",
    "    def sayHello(self): # 클래스 메소드\n",
    "        param1 = '안녕' # 클래스 메소드 안에서만 유효한 지역변수 정의\n",
    "        self.param2 = '하이' # 클래스 메소드 내에서 선언된 인스턴스 멤버\n",
    "        \n",
    "        print(param1) \n",
    "        print(self.var)\n",
    "        \n",
    "        \n",
    "obj = MyClass()\n",
    "print(obj.var)\n",
    "obj.sayHello()\n"
   ]
  },
  {
   "cell_type": "markdown",
   "metadata": {},
   "source": [
    "### 51번 클래스 메소드 이해하기"
   ]
  },
  {
   "cell_type": "markdown",
   "metadata": {},
   "source": [
    "클래스 내에서 정의되는 함수인 클래스 메소드는 첫번째 인자가 반드시 self여야 합니다.  \n",
    "self는 이 클래스의 인스턴스 객체를 지시하는 참조자  \n",
    "클래스 메소드의 인자가 필요하면 두 번째 인자부터 정의하면 됨  "
   ]
  },
  {
   "cell_type": "code",
   "execution_count": 47,
   "metadata": {},
   "outputs": [
    {
     "name": "stdout",
     "output_type": "stream",
     "text": [
      "안녕하세요\n",
      "소희! 다음에 보자!\n"
     ]
    }
   ],
   "source": [
    "class MyClass:\n",
    "    def sayHello(self):\n",
    "        print('안녕하세요')\n",
    "        \n",
    "        \n",
    "    def sayBye(self, name):\n",
    "        print('%s! 다음에 보자!' %name)\n",
    "        \n",
    "obj =  MyClass()\n",
    "obj.sayHello()\n",
    "obj.sayBye('소희')"
   ]
  },
  {
   "cell_type": "markdown",
   "metadata": {},
   "source": [
    "### 52번 클래스 생성자 이해하기"
   ]
  },
  {
   "cell_type": "markdown",
   "metadata": {},
   "source": [
    "#### 클래스 생성자\n",
    "클래스의 인스턴스 객첵 생성될 때 자동적으로 호출되는 메소드   \n",
    "\n",
    "- >  #### 클래스 생성자의 이름  \n",
    "def __init__(self, *args) "
   ]
  },
  {
   "cell_type": "code",
   "execution_count": 48,
   "metadata": {},
   "outputs": [
    {
     "name": "stdout",
     "output_type": "stream",
     "text": [
      "MyClass 인스턴스 객체가 생성되었습니다\n",
      "안녕하세요!\n"
     ]
    }
   ],
   "source": [
    "class MyClass:\n",
    "    def __init__(self):\n",
    "        self.var = '안녕하세요!'\n",
    "        print('MyClass 인스턴스 객체가 생성되었습니다')\n",
    "        \n",
    "obj = MyClass()\n",
    "print(obj.var)"
   ]
  },
  {
   "cell_type": "markdown",
   "metadata": {},
   "source": [
    "### 53번 클래스 소멸자 이해하기 "
   ]
  },
  {
   "cell_type": "markdown",
   "metadata": {},
   "source": [
    "클래스 소멸자   \n",
    ": 클래스 인스턴스 객체가 메모리에서 제거될 때 자동적으로 호출되는 클래스 메소드    \n",
    "\n",
    "__del__(self):   \n",
    "\n",
    "인스턴스 객체 제거  \n",
    "del<인스턴스 객체>  "
   ]
  },
  {
   "cell_type": "code",
   "execution_count": 50,
   "metadata": {},
   "outputs": [
    {
     "name": "stdout",
     "output_type": "stream",
     "text": [
      "MyClass 인스턴스 객체가 메모리에서 제거됩니다.\n"
     ]
    }
   ],
   "source": [
    "class MyClass:\n",
    "    def __del__(self):\n",
    "        print('MyClass 인스턴스 객체가 메모리에서 제거됩니다.')\n",
    "        \n",
    "obj = MyClass()\n",
    "del obj"
   ]
  },
  {
   "cell_type": "markdown",
   "metadata": {},
   "source": [
    "### 54번 클래스 상속 이해하기"
   ]
  },
  {
   "cell_type": "markdown",
   "metadata": {},
   "source": [
    "#### 상속\n",
    ": 어떤 클래스가 가지고 있는 모든 멤버나 메소드를 상속받는 클래스가 모두 사용할 수 있도록 해주는 것  \n",
    ": 상속을 주는 클래스를 부모클래스 또는 슈퍼 클래스라 부르고    \n",
    ": 상속을 받는 클래스를 자식 클래스 또는 서브 클래스라고 부름  \n",
    "\n",
    "- > 부모클래스로부터 상속을 받아 자식클래스를 정의하는 방법   \n",
    "     \n",
    "        class 자식클래스(부모클래스): \n",
    "        \n",
    ": 자식 클래스는 부모클래스에서 정의된 모든 멤버나 메소드들을 그대로 상속받음   \n",
    ": 만약 자식클래스에서 부모클래스로부터 상속 받은 멤버나 메소드와 동일한 이름의 멤버나 메소드가 존재하면 자식클래스에서 정의된 것이 우선   "
   ]
  },
  {
   "cell_type": "code",
   "execution_count": 51,
   "metadata": {},
   "outputs": [
    {
     "name": "stdout",
     "output_type": "stream",
     "text": [
      "3\n",
      "-1\n"
     ]
    }
   ],
   "source": [
    "class Add:\n",
    "    def add(self, n1, n2):\n",
    "        return n1 + n2\n",
    "    \n",
    "class Calculator(Add):\n",
    "    def sub(self, n1, n2):\n",
    "        return n1 - n2\n",
    "    \n",
    "obj = Calculator()\n",
    "print(obj.add(1, 2))\n",
    "print(obj.sub(1, 2))"
   ]
  },
  {
   "cell_type": "markdown",
   "metadata": {},
   "source": [
    "#### 다중상속\n",
    "- > 자식클래스는 여러 개의 부모클래스로부터 상속받을 수 있음\n",
    "- > #### 정의하는 방법  \n",
    "class 자식클래스(부모클래스1, 부모클래스2..)"
   ]
  },
  {
   "cell_type": "code",
   "execution_count": 53,
   "metadata": {},
   "outputs": [
    {
     "name": "stdout",
     "output_type": "stream",
     "text": [
      "3\n",
      "6\n"
     ]
    }
   ],
   "source": [
    "class Add:\n",
    "    def add(self, n1, n2):\n",
    "        return n1 + n2\n",
    "\n",
    "\n",
    "class Mutiply:\n",
    "    def multiply(self, n1, n2):\n",
    "        return n1*n2\n",
    "    \n",
    "class Calculator(Add, Mutiply):\n",
    "    def sun(sele, n1, n2):\n",
    "        return n1 - n2\n",
    "    \n",
    "obj = Calculator()\n",
    "print(obj.add(1,2))\n",
    "print(obj.multiply(3,2))"
   ]
  },
  {
   "cell_type": "markdown",
   "metadata": {},
   "source": [
    "### 55번 예외처리 이해하기 1) try ~ except"
   ]
  },
  {
   "cell_type": "markdown",
   "metadata": {},
   "source": [
    "#### 예외\n",
    "프로그램이 실행되는 동안 오류가 발생하면 프로그램이 더 이상 진행될 수 없는 상태가 되는데 이를 예외 상황이라고 함.   \n",
    "\n",
    "#### try ~ except 구문\n",
    ": 프로그램에 예외가 발생하더라도 프로그램을 중단시키지 않고 예외에 대한 적절한 처리를 하여 프로그램을 계속 진행시킬 수 있도록 하는 구문   \n",
    ": 프로그램의 논리적 오류가 발생할 가능성이 큰 부분을 try ~ except 사이에 두고 예외가 발생할 경우, except 부분에서 적절한 처리를 해줌  \n"
   ]
  },
  {
   "cell_type": "code",
   "execution_count": 54,
   "metadata": {},
   "outputs": [
    {
     "name": "stdout",
     "output_type": "stream",
     "text": [
      "안녕하세요\n",
      "예외가 발생했습니다\n"
     ]
    }
   ],
   "source": [
    "try:\n",
    "    print('안녕하세요')\n",
    "    print(param) # param은 정의 되지 않는 변수이기 때문에 오류 발생\n",
    "    \n",
    "except:\n",
    "    print('예외가 발생했습니다')"
   ]
  },
  {
   "cell_type": "markdown",
   "metadata": {},
   "source": [
    "### 56번 예외처리 이해하기 2) try ~ except"
   ]
  },
  {
   "cell_type": "markdown",
   "metadata": {},
   "source": [
    "#### try ~ except ~ else\n",
    ": 어떤 로직을 수행했을 때 오류 상황이 아닐 경우에만 어떤 작업을 수행하는 코드를 작성해야 할 때 사용 "
   ]
  },
  {
   "cell_type": "code",
   "execution_count": 55,
   "metadata": {},
   "outputs": [
    {
     "name": "stdout",
     "output_type": "stream",
     "text": [
      "안녕하세요\n",
      "예외가 발생했습니다.\n"
     ]
    }
   ],
   "source": [
    "try:\n",
    "    print('안녕하세요')\n",
    "    print(param) # param은 정의 되지 않는 변수이기 때문에 오류 발생\n",
    "    \n",
    "except:\n",
    "    print('예외가 발생했습니다.')\n",
    "\n",
    "else:\n",
    "    print('예외가 발생하지 않았습니다.')"
   ]
  },
  {
   "cell_type": "markdown",
   "metadata": {},
   "source": [
    "### 57번 예외처리 이해하기 3) try ~ except ~ finally "
   ]
  },
  {
   "cell_type": "markdown",
   "metadata": {},
   "source": [
    "#### try ~ except ~ finally 구문\n",
    ": 오류 발생 유무와 상관없이 어떤 모조건 실행시키려면 try ~ except ~ finally 구문을 활용  \n",
    ": 무조건 실행시키려는 코드는 finally 부분에 작성  "
   ]
  },
  {
   "cell_type": "code",
   "execution_count": 56,
   "metadata": {},
   "outputs": [
    {
     "name": "stdout",
     "output_type": "stream",
     "text": [
      "안녕하세요\n",
      "예외가 발생했습니다\n",
      "무조건 실행하는 코드\n"
     ]
    }
   ],
   "source": [
    "try:\n",
    "    print('안녕하세요')\n",
    "    print(param) # param은 정의 되지 않는 변수이기 때문에 오류 발생\n",
    "    \n",
    "except:\n",
    "    print('예외가 발생했습니다')\n",
    "\n",
    "finally:\n",
    "    print('무조건 실행하는 코드')"
   ]
  },
  {
   "cell_type": "markdown",
   "metadata": {},
   "source": [
    "### 58번 예외처리 이해하기 4) try ~ except ~ Exception as e "
   ]
  },
  {
   "cell_type": "markdown",
   "metadata": {},
   "source": [
    "#### try ~ except  Exception as e\n",
    ": 코드에서 예외가 발생하면 이에 대한 자세한 내용을 파악하는 것이 중요  \n",
    ": 파이썬은 발생 가능한 예외에 대한 exception 객체로 미리 정의해두고 있음\n",
    "    \n",
    ": 아래 예제는 param이라는 정의되지 않은 변수를 코드에 쓰고 있는데, 이는 파이썬에서 NameError 예외를 발생시키고 except Exception as e 는 NameError 객체를 e라는 이름으로 접근할 수 있게 해줌"
   ]
  },
  {
   "cell_type": "code",
   "execution_count": 57,
   "metadata": {},
   "outputs": [
    {
     "name": "stdout",
     "output_type": "stream",
     "text": [
      "name 'param' is not defined\n"
     ]
    }
   ],
   "source": [
    "try:\n",
    "    print(param)\n",
    "    \n",
    "except Exception as e:\n",
    "    print(e) # name 'param'  is not define 가 출력"
   ]
  },
  {
   "cell_type": "markdown",
   "metadata": {},
   "source": [
    "### 59번 예외처리 이해하기 5) try ~ except 특정 예외"
   ]
  },
  {
   "cell_type": "code",
   "execution_count": null,
   "metadata": {
    "scrolled": true
   },
   "outputs": [],
   "source": [
    "import time \n",
    "count = 1\n",
    "try: \n",
    "    while True:\n",
    "        print(count)\n",
    "        count += 1\n",
    "        time.sleep(0.5)\n",
    "        \n",
    "        \n",
    "except KeyboardInterrupt: # Ctrl + c 가 입력되면 발생하는 오류\n",
    "    print('사용자에 의해 프로그램이 중단되었습니다.')"
   ]
  },
  {
   "cell_type": "code",
   "execution_count": null,
   "metadata": {},
   "outputs": [],
   "source": []
  },
  {
   "cell_type": "code",
   "execution_count": null,
   "metadata": {},
   "outputs": [],
   "source": []
  }
 ],
 "metadata": {
  "kernelspec": {
   "display_name": "Python 3",
   "language": "python",
   "name": "python3"
  },
  "language_info": {
   "codemirror_mode": {
    "name": "ipython",
    "version": 3
   },
   "file_extension": ".py",
   "mimetype": "text/x-python",
   "name": "python",
   "nbconvert_exporter": "python",
   "pygments_lexer": "ipython3",
   "version": "3.6.5"
  }
 },
 "nbformat": 4,
 "nbformat_minor": 4
}
