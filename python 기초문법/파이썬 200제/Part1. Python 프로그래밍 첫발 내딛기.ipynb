{
 "cells": [
  {
   "cell_type": "markdown",
   "metadata": {},
   "source": [
    "###  1번 대화식 모드로 프로그래밍하기"
   ]
  },
  {
   "cell_type": "code",
   "execution_count": 1,
   "metadata": {},
   "outputs": [
    {
     "name": "stdout",
     "output_type": "stream",
     "text": [
      "안녕하세요\n"
     ]
    }
   ],
   "source": [
    "print('안녕하세요')"
   ]
  },
  {
   "cell_type": "markdown",
   "metadata": {},
   "source": [
    "### 2번 텍스트 에디터로 프로그래밍하기"
   ]
  },
  {
   "cell_type": "code",
   "execution_count": 2,
   "metadata": {
    "scrolled": true
   },
   "outputs": [
    {
     "name": "stdout",
     "output_type": "stream",
     "text": [
      "안녕하세요\n",
      "2\n"
     ]
    }
   ],
   "source": [
    "print('안녕하세요')\n",
    "a = 1\n",
    "b = 1\n",
    "print(a+b)"
   ]
  },
  {
   "cell_type": "markdown",
   "metadata": {},
   "source": [
    "### 3번 변수명 만들기"
   ]
  },
  {
   "cell_type": "markdown",
   "metadata": {},
   "source": [
    "1) 변수명의 첫 문자는 밑줄 문자 _ 또는 영문자로 시작을 해야 합니다.   \n",
    "2) 두번째 문자부터는 알파벳, 숫자, 그리고 밑줄 문자를 사용할 수 있습니다.   \n",
    "3) 파이썬 예약어를 변수로 사용할 수는 없다. (if, else, print)"
   ]
  },
  {
   "cell_type": "code",
   "execution_count": 2,
   "metadata": {},
   "outputs": [],
   "source": [
    "_myname = 'samsjang'\n",
    "my_name = '홍길동'\n",
    "my_name2 = 'Hong gil-dong'\n",
    "counter =1\n",
    "Counter = 2"
   ]
  },
  {
   "cell_type": "markdown",
   "metadata": {},
   "source": [
    "### 4번. 변수에 값 대입하기"
   ]
  },
  {
   "cell_type": "code",
   "execution_count": 3,
   "metadata": {},
   "outputs": [],
   "source": [
    "number = 1\n",
    "pi = 3.4\n",
    "flag = True\n",
    "char = 'x'\n",
    "chars = 'I love Python'"
   ]
  },
  {
   "cell_type": "code",
   "execution_count": 4,
   "metadata": {},
   "outputs": [
    {
     "name": "stdout",
     "output_type": "stream",
     "text": [
      "3\n",
      "one\n"
     ]
    }
   ],
   "source": [
    "number = 1\n",
    "print(number + 2)\n",
    "\n",
    "number = 'one'\n",
    "print(number)"
   ]
  },
  {
   "cell_type": "markdown",
   "metadata": {},
   "source": [
    "### 5번. 주석처리하기"
   ]
  },
  {
   "cell_type": "code",
   "execution_count": 5,
   "metadata": {},
   "outputs": [
    {
     "name": "stdout",
     "output_type": "stream",
     "text": [
      "6\n"
     ]
    }
   ],
   "source": [
    "# 주석 처리 예시임\n",
    "# 만든 날짜 : 2016.5.30\n",
    "\n",
    "a = 1\n",
    "b = 5\n",
    "print(a + b)"
   ]
  },
  {
   "cell_type": "code",
   "execution_count": 6,
   "metadata": {},
   "outputs": [
    {
     "name": "stdout",
     "output_type": "stream",
     "text": [
      "8\n"
     ]
    }
   ],
   "source": [
    "# 삼중 따오표로 특정 영역 주석 처리 예시\n",
    "\"\"\"\n",
    "a = 1\n",
    "b = 5\n",
    "print(a + b)\n",
    "\"\"\"\n",
    "\n",
    "a = 2\n",
    "b = 6\n",
    "print(a+b)"
   ]
  },
  {
   "cell_type": "markdown",
   "metadata": {},
   "source": [
    "### 6번. 자료형 개념 배우기"
   ]
  },
  {
   "cell_type": "code",
   "execution_count": 7,
   "metadata": {},
   "outputs": [],
   "source": [
    "int_data = 1 # 정수선언\n",
    "float_data = 3.14 # 실수 선언\n",
    "complex_data = 1 + 5j # 복소수 선언\n",
    "str_data1 = 'I love Python' # 문자열 선언 (영문)\n",
    "str_data2 = '반갑습니다' # 문자열 선언(한글)\n",
    "list_data = [1,2,3] # 리스트 선언 \n",
    "tuple_data = (1,2,3) # 튜플 선언\n",
    "dict_data = {0: 'False', 1: 'True'}"
   ]
  },
  {
   "cell_type": "markdown",
   "metadata": {},
   "source": [
    "### 7번 자료형 출력 개념 배우기(print)"
   ]
  },
  {
   "cell_type": "code",
   "execution_count": 3,
   "metadata": {},
   "outputs": [
    {
     "name": "stdout",
     "output_type": "stream",
     "text": [
      "200\n",
      "I love Python\n",
      "['a', 'b', 'c']\n",
      "a\n",
      "{'a': 97, 'b': 98}\n",
      "97\n"
     ]
    }
   ],
   "source": [
    "a = 200\n",
    "msg = 'I love Python'\n",
    "list_data = ['a', 'b', 'c']\n",
    "dict_data = {'a':97, 'b':98}\n",
    "\n",
    "print(a)\n",
    "print(msg)\n",
    "print(list_data)\n",
    "print(list_data[0])\n",
    "print(dict_data)\n",
    "print(dict_data['a'])"
   ]
  },
  {
   "cell_type": "markdown",
   "metadata": {},
   "source": [
    "print는 기본적으로 인자로 입력된 값을 화면에 출력한 후에 줄바꿈을 합니다. 즉, 기본적으로 출력되는 값 뒤에 항상 '\\n'을 추가한다는 의미  \n",
    "만약에 '\\n'을 추가하지 않으려면 라인 끝에서 end = ''를 지정하면 됨"
   ]
  },
  {
   "cell_type": "code",
   "execution_count": 8,
   "metadata": {},
   "outputs": [
    {
     "name": "stdout",
     "output_type": "stream",
     "text": [
      "##\n"
     ]
    }
   ],
   "source": [
    "print('#', end = \"\")\n",
    "print('#')"
   ]
  },
  {
   "cell_type": "markdown",
   "metadata": {},
   "source": [
    "### 8번 들여쓰기 개념 배우기"
   ]
  },
  {
   "cell_type": "markdown",
   "metadata": {},
   "source": [
    "1) 가장 바깥쪽의 실행코드는 들여쓰기 없이 시작해야 함  \n",
    "2) 콜론(':') 다음 라인부터 시작하는 실행코드는 들여쓰기 간격이 모두 동일해야 함"
   ]
  },
  {
   "cell_type": "code",
   "execution_count": 4,
   "metadata": {},
   "outputs": [
    {
     "name": "stdout",
     "output_type": "stream",
     "text": [
      "a가 listdata 에 있습니다\n",
      "['a', 'b', 'b']\n"
     ]
    }
   ],
   "source": [
    "listdata = ['a', 'b', 'b']\n",
    "if 'a' in listdata :\n",
    "    print('a가 listdata 에 있습니다')\n",
    "    print(listdata)\n",
    "else:\n",
    "    print('a가 listdata에 존재하지 않습니다')"
   ]
  },
  {
   "cell_type": "markdown",
   "metadata": {},
   "source": [
    "### 9번 if문 개념 배우기 (if~else)"
   ]
  },
  {
   "cell_type": "code",
   "execution_count": 5,
   "metadata": {},
   "outputs": [
    {
     "name": "stdout",
     "output_type": "stream",
     "text": [
      "x가 y보다 작습니다\n"
     ]
    }
   ],
   "source": [
    "x = 1\n",
    "y = 2\n",
    "\n",
    "if x >= y: # 조건\n",
    "    print('x가 y보다 크거나 같습니다') # 실행코드1\n",
    "else:\n",
    "    print('x가 y보다 작습니다') # 실행코드2"
   ]
  },
  {
   "cell_type": "markdown",
   "metadata": {},
   "source": [
    "### 10번 if문 개념 배우기(if~elif)"
   ]
  },
  {
   "cell_type": "code",
   "execution_count": 7,
   "metadata": {},
   "outputs": [
    {
     "name": "stdout",
     "output_type": "stream",
     "text": [
      "x가 y보다 작습니다.\n"
     ]
    }
   ],
   "source": [
    "x = 1\n",
    "y = 2\n",
    "\n",
    "if x > y: # 조건1\n",
    "    print('x가 y보다 크거나 같습니다') # 실행코드1\n",
    "elif x < y: # 조건2\n",
    "    print('x가 y보다 작습니다.') # 실행코드2\n",
    "else:\n",
    "    print('x와 y가 같습니다') # 실행코드3"
   ]
  },
  {
   "cell_type": "markdown",
   "metadata": {},
   "source": [
    "### 11번 for문 개념 배우기 (for)"
   ]
  },
  {
   "cell_type": "markdown",
   "metadata": {},
   "source": [
    "for문의 범위로 사용되는 것은 시퀀스 자료형 또는 반복 가능한 자료이어야 함  \n",
    "- 문자열 / 리스트나 튜플 / 사전 / range() / 그외 반복 가능한 객체  "
   ]
  },
  {
   "cell_type": "code",
   "execution_count": 9,
   "metadata": {},
   "outputs": [
    {
     "name": "stdout",
     "output_type": "stream",
     "text": [
      "1\n",
      "2\n",
      "3\n",
      "4\n",
      "5\n"
     ]
    }
   ],
   "source": [
    "scope = [1,2,3,4,5]\n",
    "\n",
    "for x in scope: # x는 변수, scope는 범위\n",
    "    print(x) # 반복으로 실행할 코드"
   ]
  },
  {
   "cell_type": "markdown",
   "metadata": {},
   "source": [
    "문자열을 범위로 지정한 예"
   ]
  },
  {
   "cell_type": "code",
   "execution_count": 9,
   "metadata": {},
   "outputs": [
    {
     "name": "stdout",
     "output_type": "stream",
     "text": [
      "a\n",
      "b\n",
      "c\n",
      "d\n",
      "e\n",
      "f\n"
     ]
    }
   ],
   "source": [
    "str = 'abcdef'\n",
    "for c in str:\n",
    "    print(c)"
   ]
  },
  {
   "cell_type": "markdown",
   "metadata": {},
   "source": [
    "리스트를 범위로 지정한 예"
   ]
  },
  {
   "cell_type": "code",
   "execution_count": 10,
   "metadata": {},
   "outputs": [
    {
     "name": "stdout",
     "output_type": "stream",
     "text": [
      "1\n",
      "2\n",
      "3\n",
      "4\n",
      "5\n"
     ]
    }
   ],
   "source": [
    "list = [1,2,3,4,5]\n",
    "for c in list:\n",
    "    print(c)"
   ]
  },
  {
   "cell_type": "markdown",
   "metadata": {},
   "source": [
    "사전을 범위로 지정한 예"
   ]
  },
  {
   "cell_type": "code",
   "execution_count": 11,
   "metadata": {},
   "outputs": [
    {
     "name": "stdout",
     "output_type": "stream",
     "text": [
      "a\n",
      "b\n",
      "c\n"
     ]
    }
   ],
   "source": [
    "ascil_codes = {'a':97, 'b': 98, 'c':99}\n",
    "for c in ascil_codes:\n",
    "    print(c)"
   ]
  },
  {
   "cell_type": "markdown",
   "metadata": {},
   "source": [
    "range() 함수를 범위로 지정한 예"
   ]
  },
  {
   "cell_type": "code",
   "execution_count": 12,
   "metadata": {},
   "outputs": [
    {
     "name": "stdout",
     "output_type": "stream",
     "text": [
      "0\n",
      "1\n",
      "2\n",
      "3\n",
      "4\n",
      "5\n",
      "6\n",
      "7\n",
      "8\n",
      "9\n"
     ]
    }
   ],
   "source": [
    "for c in range(10):\n",
    "    print(c)"
   ]
  },
  {
   "cell_type": "markdown",
   "metadata": {},
   "source": [
    "### 12번 for문 개념 배우기(for ~ continue ~ break)"
   ]
  },
  {
   "cell_type": "code",
   "execution_count": 10,
   "metadata": {},
   "outputs": [
    {
     "name": "stdout",
     "output_type": "stream",
     "text": [
      "1\n",
      "2\n",
      "3\n"
     ]
    }
   ],
   "source": [
    "scope = [1,2,3,4,5]\n",
    "\n",
    "for x in scope: # x는 변수 scope는 범위\n",
    "    print(x)\n",
    "    if x <3: \n",
    "        continue # 다음 반복문 수행\n",
    "    else:\n",
    "        break # for 반복문 탈출"
   ]
  },
  {
   "cell_type": "markdown",
   "metadata": {},
   "source": [
    "### 13번 for문 개념 배우기(for ~else)"
   ]
  },
  {
   "cell_type": "code",
   "execution_count": 13,
   "metadata": {},
   "outputs": [
    {
     "name": "stdout",
     "output_type": "stream",
     "text": [
      "1\n",
      "2\n",
      "3\n",
      "Perfect\n"
     ]
    }
   ],
   "source": [
    "scope = [1,2,3]\n",
    "\n",
    "for x in scope: # x는 변수, scope는 범위\n",
    "    print(x) # 반복 실행 코드\n",
    "else:\n",
    "    print('Perfect') # for구문이 모두 실행되었을 때 실행할 코드"
   ]
  },
  {
   "cell_type": "markdown",
   "metadata": {},
   "source": [
    "### 14번 while문 개념 배우기(while ~ continue ~ break)"
   ]
  },
  {
   "cell_type": "code",
   "execution_count": 15,
   "metadata": {},
   "outputs": [
    {
     "name": "stdout",
     "output_type": "stream",
     "text": [
      "3\n",
      "4\n",
      "5\n",
      "6\n",
      "7\n",
      "8\n"
     ]
    }
   ],
   "source": [
    "x = 0\n",
    "while x < 10: # 조건\n",
    "    x = x + 1 # 반복 실행 코드\n",
    "    if x < 3 :\n",
    "        continue # while 구문 처음으로 이동하여 반복문 계속\n",
    "    print(x)\n",
    "    if x > 7:\n",
    "        break # while 구문을 탈출"
   ]
  },
  {
   "cell_type": "code",
   "execution_count": 14,
   "metadata": {},
   "outputs": [
    {
     "name": "stdout",
     "output_type": "stream",
     "text": [
      "447\n",
      "100128\n"
     ]
    }
   ],
   "source": [
    "x = 1\n",
    "total = 0\n",
    "\n",
    "while 1:\n",
    "    total  = total + x\n",
    "    if total > 100000:\n",
    "        print(x)\n",
    "        print(total)\n",
    "        break\n",
    "    x = x + 1"
   ]
  },
  {
   "cell_type": "markdown",
   "metadata": {},
   "source": [
    "### 15번 None 개념 배우기"
   ]
  },
  {
   "cell_type": "markdown",
   "metadata": {},
   "source": [
    "None은 Types.NoneType의 유일한 값으로, 값이 존재하지 않는 변수에 대입하여 이 변수에 아무런 값이 없다는 것을 나타내기 위해 주로 사용"
   ]
  },
  {
   "cell_type": "code",
   "execution_count": 14,
   "metadata": {},
   "outputs": [],
   "source": [
    "val = None\n",
    "condition = 1\n",
    "if condition == 1:\n",
    "    val = [1,2,3]\n",
    "else:\n",
    "    val = 'I love Python'"
   ]
  }
 ],
 "metadata": {
  "kernelspec": {
   "display_name": "Python 3",
   "language": "python",
   "name": "python3"
  },
  "language_info": {
   "codemirror_mode": {
    "name": "ipython",
    "version": 3
   },
   "file_extension": ".py",
   "mimetype": "text/x-python",
   "name": "python",
   "nbconvert_exporter": "python",
   "pygments_lexer": "ipython3",
   "version": "3.6.5"
  }
 },
 "nbformat": 4,
 "nbformat_minor": 4
}
