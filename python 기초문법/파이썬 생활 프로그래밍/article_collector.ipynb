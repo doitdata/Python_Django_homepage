{
 "cells": [
  {
   "cell_type": "code",
   "execution_count": 1,
   "metadata": {},
   "outputs": [],
   "source": [
    "import os, codecs, re, datetime, requests\n",
    "import urllib.request\n",
    "from bs4 import BeautifulSoup as bs\n",
    "\n",
    "url = 'https://news.daum.net/'\n",
    "f = open(str(datetime.date.today()) + 'article.txt', 'w')\n",
    "soup = bs(urllib.request.urlopen(url).read(), 'html.parser')\n",
    "\n",
    "for i in soup.find_all('div', {'class':'thumb_relate'}):\n",
    "    try:\n",
    "        f.write(i.text +'\\n')\n",
    "        f.write(i.find_all('a')[0].get('href') + '\\n')\n",
    "        soup2 = bs(urllib.request.urlopen(i.find_all[0].get('href')).read(), 'html.parser')\n",
    "        for j in soup2.find_all('p'):\n",
    "            f.write(j.text)\n",
    "    except:\n",
    "        pass\n",
    "    \n",
    "f.close()"
   ]
  },
  {
   "cell_type": "code",
   "execution_count": null,
   "metadata": {},
   "outputs": [],
   "source": []
  }
 ],
 "metadata": {
  "kernelspec": {
   "display_name": "Python 3",
   "language": "python",
   "name": "python3"
  },
  "language_info": {
   "codemirror_mode": {
    "name": "ipython",
    "version": 3
   },
   "file_extension": ".py",
   "mimetype": "text/x-python",
   "name": "python",
   "nbconvert_exporter": "python",
   "pygments_lexer": "ipython3",
   "version": "3.6.5"
  }
 },
 "nbformat": 4,
 "nbformat_minor": 4
}
