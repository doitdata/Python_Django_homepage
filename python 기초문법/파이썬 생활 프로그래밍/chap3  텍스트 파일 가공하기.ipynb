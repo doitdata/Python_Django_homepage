{
 "cells": [
  {
   "cell_type": "code",
   "execution_count": 1,
   "metadata": {},
   "outputs": [],
   "source": [
    "import os"
   ]
  },
  {
   "cell_type": "markdown",
   "metadata": {},
   "source": [
    "1) 현재 위치 확인하기   "
   ]
  },
  {
   "cell_type": "code",
   "execution_count": 2,
   "metadata": {},
   "outputs": [
    {
     "data": {
      "text/plain": [
       "'D:\\\\Python_Project\\\\portfolio\\\\1. study_coding\\\\2. book\\\\1. 기초 개념\\\\10. 파이썬 생활 프로그래밍'"
      ]
     },
     "execution_count": 2,
     "metadata": {},
     "output_type": "execute_result"
    }
   ],
   "source": [
    "os.getcwd()"
   ]
  },
  {
   "cell_type": "markdown",
   "metadata": {},
   "source": [
    "2) 폴더 이동하기    \n",
    "os.chdir('주소')  \n",
    "이때, \\를 특수문자로 인식해 오류가 발생할 수 있으므로, 역슬래쉬 2개 붙여야 함 "
   ]
  },
  {
   "cell_type": "code",
   "execution_count": 7,
   "metadata": {},
   "outputs": [],
   "source": [
    "os.chdir('D:\\\\Python_Project\\\\portfolio\\\\1. study_coding\\\\2. book\\\\1. 기초 개념\\\\10. 파이썬 생활 프로그래밍\\\\os temp')"
   ]
  },
  {
   "cell_type": "markdown",
   "metadata": {},
   "source": [
    "혹은 맨 앞에 r을 붙여서 역슬래시를 하나만 쓸 수도 있다 "
   ]
  },
  {
   "cell_type": "code",
   "execution_count": 9,
   "metadata": {},
   "outputs": [],
   "source": [
    "os.chdir(r'D:\\Python_Project\\portfolio\\1. study_coding\\2. book\\1. 기초 개념\\10. 파이썬 생활 프로그래밍')"
   ]
  },
  {
   "cell_type": "markdown",
   "metadata": {},
   "source": [
    "3) 폴더 안의 파일 확인하기 "
   ]
  },
  {
   "cell_type": "code",
   "execution_count": 10,
   "metadata": {},
   "outputs": [
    {
     "data": {
      "text/plain": [
       "['.ipynb_checkpoints',\n",
       " 'chap 2.ipynb',\n",
       " 'chap3  텍스트 파일 가공하기.ipynb',\n",
       " 'do-it-python-master',\n",
       " 'os temp']"
      ]
     },
     "execution_count": 10,
     "metadata": {},
     "output_type": "execute_result"
    }
   ],
   "source": [
    "os.listdir()"
   ]
  },
  {
   "cell_type": "markdown",
   "metadata": {},
   "source": [
    "정규표현식 문자열 다루기 "
   ]
  },
  {
   "cell_type": "markdown",
   "metadata": {},
   "source": [
    "정규표현식이란 특정한 문자의 규칙을 찾고 가공하는 방법 "
   ]
  },
  {
   "cell_type": "markdown",
   "metadata": {},
   "source": [
    "match 매서드    \n",
    "문자열 도입에서 패턴 찾기   "
   ]
  },
  {
   "cell_type": "code",
   "execution_count": 14,
   "metadata": {},
   "outputs": [
    {
     "data": {
      "text/plain": [
       "'life'"
      ]
     },
     "execution_count": 14,
     "metadata": {},
     "output_type": "execute_result"
    }
   ],
   "source": [
    "import re\n",
    "\n",
    "pattern = r'life' # 패턴을 객체에 저장, 패턴 앞에는 r을 붙여줍니다\n",
    "script = 'life' # 패턴과 같은 스크립트를 저장\n",
    "re.match(pattern, script) # 스크립트에서 패턴을 찾으세요 # <_sre.SRE_Match object; span=(0, 4), match='life'>\n",
    "re.match(pattern, script).group() # group() 매서드를 사용해 매치된 내용을 반환"
   ]
  },
  {
   "cell_type": "code",
   "execution_count": 15,
   "metadata": {},
   "outputs": [
    {
     "ename": "AttributeError",
     "evalue": "'NoneType' object has no attribute 'group'",
     "output_type": "error",
     "traceback": [
      "\u001b[1;31m---------------------------------------------------------------------------\u001b[0m",
      "\u001b[1;31mAttributeError\u001b[0m                            Traceback (most recent call last)",
      "\u001b[1;32m<ipython-input-15-7e7286fb48ed>\u001b[0m in \u001b[0;36m<module>\u001b[1;34m\u001b[0m\n\u001b[0;32m      1\u001b[0m \u001b[1;31m# 매칭이 안되는 경우 오류 발생\u001b[0m\u001b[1;33m\u001b[0m\u001b[1;33m\u001b[0m\u001b[0m\n\u001b[0;32m      2\u001b[0m \u001b[1;32mimport\u001b[0m \u001b[0mre\u001b[0m\u001b[1;33m\u001b[0m\u001b[0m\n\u001b[1;32m----> 3\u001b[1;33m \u001b[0mre\u001b[0m\u001b[1;33m.\u001b[0m\u001b[0mmatch\u001b[0m\u001b[1;33m(\u001b[0m\u001b[1;34mr'life'\u001b[0m\u001b[1;33m,\u001b[0m \u001b[1;34m'animal'\u001b[0m\u001b[1;33m)\u001b[0m\u001b[1;33m.\u001b[0m\u001b[0mgroup\u001b[0m\u001b[1;33m(\u001b[0m\u001b[1;33m)\u001b[0m\u001b[1;33m\u001b[0m\u001b[0m\n\u001b[0m",
      "\u001b[1;31mAttributeError\u001b[0m: 'NoneType' object has no attribute 'group'"
     ]
    }
   ],
   "source": [
    "# 매칭이 안되는 경우 오류 발생\n",
    "import re\n",
    "re.match(r'life', 'animal').group()"
   ]
  },
  {
   "cell_type": "code",
   "execution_count": 16,
   "metadata": {},
   "outputs": [],
   "source": [
    "# 함수로 만들기\n",
    "def refinder(patter, script):\n",
    "    if re.match(patter, script):\n",
    "        print('Match')\n",
    "    else:\n",
    "        print('Not a Match')"
   ]
  },
  {
   "cell_type": "code",
   "execution_count": 19,
   "metadata": {},
   "outputs": [
    {
     "name": "stdout",
     "output_type": "stream",
     "text": [
      "Not a Match\n"
     ]
    }
   ],
   "source": [
    "pattern = r'life'\n",
    "script = 'animal'\n",
    "refinder(pattern, script )"
   ]
  },
  {
   "cell_type": "code",
   "execution_count": 20,
   "metadata": {
    "scrolled": true
   },
   "outputs": [
    {
     "name": "stdout",
     "output_type": "stream",
     "text": [
      "Match\n"
     ]
    }
   ],
   "source": [
    "pattern = r'life'\n",
    "script = 'life is so cool'\n",
    "refinder(pattern, script )"
   ]
  },
  {
   "cell_type": "code",
   "execution_count": 22,
   "metadata": {},
   "outputs": [
    {
     "name": "stdout",
     "output_type": "stream",
     "text": [
      "Not a Match\n"
     ]
    }
   ],
   "source": [
    "pattern = r'is'\n",
    "script = 'life is so cool'\n",
    "refinder(pattern, script )"
   ]
  },
  {
   "cell_type": "markdown",
   "metadata": {},
   "source": [
    "search 매서드 - 문자열 전체에서 패턴 찾기   \n",
    "re.search(패턴, 문자열)   \n",
    "텍스트 중간에 패턴이 있어도 찾아낼 수 있음 "
   ]
  },
  {
   "cell_type": "code",
   "execution_count": 24,
   "metadata": {},
   "outputs": [
    {
     "data": {
      "text/plain": [
       "'is'"
      ]
     },
     "execution_count": 24,
     "metadata": {},
     "output_type": "execute_result"
    }
   ],
   "source": [
    "pattern = r'is'\n",
    "script = 'life is so cool'\n",
    "re.search(pattern, script).group() # 스크립트에서 패턴 r'is을 찾아 반환"
   ]
  },
  {
   "cell_type": "code",
   "execution_count": 25,
   "metadata": {},
   "outputs": [
    {
     "data": {
      "text/plain": [
       "'life'"
      ]
     },
     "execution_count": 25,
     "metadata": {},
     "output_type": "execute_result"
    }
   ],
   "source": [
    "re.search(r'life', script).group() # search는 원고에 있는 패턴을 찾음"
   ]
  },
  {
   "cell_type": "code",
   "execution_count": 26,
   "metadata": {},
   "outputs": [
    {
     "data": {
      "text/plain": [
       "'cool'"
      ]
     },
     "execution_count": 26,
     "metadata": {},
     "output_type": "execute_result"
    }
   ],
   "source": [
    "re.search(r'cool', script).group() # search는 원고에 있는 패턴을 찾음"
   ]
  },
  {
   "cell_type": "markdown",
   "metadata": {},
   "source": [
    "꼭 알아야할 정규표현식   \n",
    "- 패턴을 찾는 정규표현식 \n",
    "    - \\d : 숫자와 매치, [0-9]와 같습니다.    \n",
    "    - \\D : 숫자가 아닌 것을 매치, [^0-9]와 같습니다.   \n",
    "    - \\s : whitespace 문자와 매치, [\\t\\n\\r\\f\\v]와 같습니다. 맨 앞의 빈칸은 공백을 의미합니다.  \n",
    "    - \\S : whitespace 문자가 아닌 것과 매치, [^ \\t\\n\\r\\f\\v]와 같습니다.  \n",
    "    - \\w : 문자 + 숫자와 매치, [a-zA-ZO-9_]와 같습니다.   \n",
    "    - \\W : 문자 + 숫자가 아닌 문자와 매치, [^a-zA-ZO-9_]와 같습니다. \n",
    "    - \\\\\\ : 메타 문자가 아닌 일반 문자 역스래시(\\)와 매치, 메타 문자 앞에 \\를 붙이면 일반문자를 의미  "
   ]
  },
  {
   "cell_type": "markdown",
   "metadata": {},
   "source": [
    "findall 메서드   \n",
    "패턴을 모두 찾아 리스트로 반환하기      \n",
    "re.findall(패턴, 찾으려는 문자열)"
   ]
  },
  {
   "cell_type": "code",
   "execution_count": 27,
   "metadata": {},
   "outputs": [
    {
     "data": {
      "text/plain": [
       "['511223', '521012']"
      ]
     },
     "execution_count": 27,
     "metadata": {},
     "output_type": "execute_result"
    }
   ],
   "source": [
    "number = 'My number is 511223-1****** and yours is 521012-2******'\n",
    "re.findall('\\d{6}', number) # \\d{6} 패턴은 숫자를 여섯번 반복한 값을 의미  "
   ]
  },
  {
   "cell_type": "markdown",
   "metadata": {},
   "source": [
    "정규표현식에서 문자열을 사용할 때는 앞에 r을 붙이는 것을 추천   \n",
    "왜냐면, 문자열 앞에 \\이 있으면, 파이썬은 그 다음에 문자를 그대로 인식하지 않고, 컴퓨터에 명령하기 위한 명령어로 인식을 함.   \n",
    "이렇게 컴퓨터에 명령을 내리기 위해 \\와 함께 사용하는 문자를 이스케이프문자라고 함  \n",
    " \n",
    "이스케이프 문자를 사용하고 싶지 않다면 \\를 하나더 쓰거나, 문자열 앞에 r을 붙이면, 그 뒤에 나오는 문자열들이 모두 일반 문자로 인식 "
   ]
  },
  {
   "cell_type": "markdown",
   "metadata": {},
   "source": [
    "정규표현식의 탐욕 제어하기    \n",
    "마침표(.)와 물음표(?)   \n",
    "마침표(.)는 모든 문자를 다 의미 "
   ]
  },
  {
   "cell_type": "code",
   "execution_count": 28,
   "metadata": {},
   "outputs": [
    {
     "data": {
      "text/plain": [
       "['91년에 태어났습니다. 97년에는 IMF가 있었습니다. 지금은 2021년']"
      ]
     },
     "execution_count": 28,
     "metadata": {},
     "output_type": "execute_result"
    }
   ],
   "source": [
    "examples = '저는 91년에 태어났습니다. 97년에는 IMF가 있었습니다. 지금은 2021년입니다.'\n",
    "\n",
    "re.findall(r'\\d.+년', examples) # 숫자(\\d)로 시작하고, 어떤 문자든(.) 반복(+)되며, '년'으로 끝나는 문자열을 반환"
   ]
  },
  {
   "cell_type": "markdown",
   "metadata": {},
   "source": [
    "물음표(?)는 탐욕을 멈추는 역할 "
   ]
  },
  {
   "cell_type": "code",
   "execution_count": 29,
   "metadata": {},
   "outputs": [
    {
     "data": {
      "text/plain": [
       "['91년', '97년', '2021년']"
      ]
     },
     "execution_count": 29,
     "metadata": {},
     "output_type": "execute_result"
    }
   ],
   "source": [
    "re.findall(r'\\d.+?년', examples) # 년이라는 글자를 찾으면 패턴 찾기를 멈춤"
   ]
  },
  {
   "cell_type": "code",
   "execution_count": 30,
   "metadata": {},
   "outputs": [
    {
     "data": {
      "text/plain": [
       "['91년', '97년', '2021년']"
      ]
     },
     "execution_count": 30,
     "metadata": {},
     "output_type": "execute_result"
    }
   ],
   "source": [
    "re.findall(r'\\d+.년', examples) # 숫자를 반복시킨 후 년으로 끝나는 문자를 찾아도 됨"
   ]
  },
  {
   "cell_type": "markdown",
   "metadata": {},
   "source": [
    "split 매서드 - 문장 나누는 패턴 만들기   \n",
    "re.split(패턴, 문자열)  "
   ]
  },
  {
   "cell_type": "code",
   "execution_count": 31,
   "metadata": {},
   "outputs": [
    {
     "data": {
      "text/plain": [
       "['I have a lovely dog, really',\n",
       " ' I am not telling a lie',\n",
       " ' what a pretty dog',\n",
       " ' I love this dog',\n",
       " '']"
      ]
     },
     "execution_count": 31,
     "metadata": {},
     "output_type": "execute_result"
    }
   ],
   "source": [
    "sentence = 'I have a lovely dog, really. I am not telling a lie. what a pretty dog! I love this dog.'\n",
    "re.split(r'[.?!]', sentence)"
   ]
  },
  {
   "cell_type": "markdown",
   "metadata": {},
   "source": [
    "문장을 나눌때도 사용"
   ]
  },
  {
   "cell_type": "code",
   "execution_count": 34,
   "metadata": {},
   "outputs": [
    {
     "name": "stdout",
     "output_type": "stream",
     "text": [
      "['a', '3']\n",
      "[' b', '4']\n",
      "[' c', '5']\n"
     ]
    }
   ],
   "source": [
    "data = 'a:3, b:4, c:5'\n",
    "\n",
    "for i in re.split(r',', data): # 쉼표로 전체 데이터를 한번 구분\n",
    "    print(re.split(r':', i)) # 나눠진 데이터를 다시 콜론 기준으로 나누기 "
   ]
  },
  {
   "cell_type": "markdown",
   "metadata": {},
   "source": [
    "sub 매서드 - 문자열 바꾸기   \n",
    "re.sub(찾을 패턴, 대체할 문자, 찾을 문자열)"
   ]
  },
  {
   "cell_type": "code",
   "execution_count": 35,
   "metadata": {},
   "outputs": [
    {
     "data": {
      "text/plain": [
       "'I have a lovely cat, really. I am not telling a lie. what a pretty cat! I love this cat.'"
      ]
     },
     "execution_count": 35,
     "metadata": {},
     "output_type": "execute_result"
    }
   ],
   "source": [
    "sentence = 'I have a lovely dog, really. I am not telling a lie. what a pretty dog! I love this dog.'\n",
    "re.sub(r'dog', 'cat', sentence)"
   ]
  },
  {
   "cell_type": "markdown",
   "metadata": {},
   "source": [
    "공백을 삭제"
   ]
  },
  {
   "cell_type": "code",
   "execution_count": 37,
   "metadata": {},
   "outputs": [
    {
     "name": "stdout",
     "output_type": "stream",
     "text": [
      "I am home now. \n",
      "\n",
      "\n",
      "I am with my cat.\n",
      "\n",
      "\n"
     ]
    },
    {
     "data": {
      "text/plain": [
       "'I am home now. I am with my cat.'"
      ]
     },
     "execution_count": 37,
     "metadata": {},
     "output_type": "execute_result"
    }
   ],
   "source": [
    "words = 'I am home now. \\n\\n\\nI am with my cat.\\n\\n' # \\n은 줄바꿈\n",
    "print(words)\n",
    "\n",
    "re.sub(r'\\n', '', words)"
   ]
  },
  {
   "cell_type": "markdown",
   "metadata": {},
   "source": [
    "연습 ly로 끝나는 단어 추출하기 "
   ]
  },
  {
   "cell_type": "code",
   "execution_count": 38,
   "metadata": {},
   "outputs": [
    {
     "data": {
      "text/plain": [
       "['lovely', 'really']"
      ]
     },
     "execution_count": 38,
     "metadata": {},
     "output_type": "execute_result"
    }
   ],
   "source": [
    "sentence = 'I have a lovely dog, really. I am not telling a lie. what a pretty dog! I love this dog.'\n",
    "re.findall(r'\\w+ly', sentence) # r'\\w+ly'는 문자나 숫자(\\w)가 몇번 나와도 좋으니 반복하고(+), ly로 끝나는 패턴을 의미"
   ]
  },
  {
   "cell_type": "markdown",
   "metadata": {},
   "source": [
    "### 프렌즈 드라마 대본 가공하기 "
   ]
  },
  {
   "cell_type": "markdown",
   "metadata": {},
   "source": [
    "#### 특정 등장인물의 대사만 모으기 "
   ]
  },
  {
   "cell_type": "code",
   "execution_count": 41,
   "metadata": {},
   "outputs": [
    {
     "name": "stdout",
     "output_type": "stream",
     "text": [
      "The One Where Monica Gets a New Roommate (The Pilot-The Uncut Version)\r\n",
      "Written by: Marta Kauffman &\n"
     ]
    }
   ],
   "source": [
    "# 운영체제, 정규표현식, 파일 코덱 변경 라이브러리 불러오기 \n",
    "import os, re, codecs\n",
    "\n",
    "f = codecs.open('./friends101.txt', 'r', encoding = 'utf-8')\n",
    "script101 = f.read()\n",
    "print(script101[:100])"
   ]
  },
  {
   "cell_type": "code",
   "execution_count": 42,
   "metadata": {},
   "outputs": [
    {
     "name": "stdout",
     "output_type": "stream",
     "text": [
      "[\"Monica: There's nothing to tell! He's just some guy I work with!\\r\", \"Monica: Okay, everybody relax. This is not even a date. It's just two people going out to dinner and- not having sex.\\r\", \"Monica: And they weren't looking at you before?!\\r\"]\n"
     ]
    }
   ],
   "source": [
    "line = re.findall(r'Monica:.+', script101) # 'Monica:' 다음 아무 문자나 반복되는(.+) 패턴을 script101에서 찾아 리스트로 반환\n",
    "print(line[:3])"
   ]
  },
  {
   "cell_type": "code",
   "execution_count": 44,
   "metadata": {},
   "outputs": [
    {
     "name": "stdout",
     "output_type": "stream",
     "text": [
      "Monica: There's nothing to tell! He's just some guy I work with!\r\n",
      "Monica: Okay, everybody relax. This is not even a date. It's just two people going out to dinner and- not having sex.\r\n",
      "Monica: And they weren't looking at you before?!\r\n"
     ]
    }
   ],
   "source": [
    "for item in line[:3]:\n",
    "    print(item)\n",
    "    \n",
    "f.close()"
   ]
  },
  {
   "cell_type": "code",
   "execution_count": 45,
   "metadata": {},
   "outputs": [],
   "source": [
    "f = open('monica.txt', 'w', encoding = 'utf-8')\n",
    "monica = ''\n",
    "for i in line:\n",
    "    monica += i # line 리스트의 원소를 monica 문자열에 추가\n",
    "f.write(monica)\n",
    "f.close()"
   ]
  },
  {
   "cell_type": "markdown",
   "metadata": {},
   "source": [
    "#### 등장인물 리스트 만들기 "
   ]
  },
  {
   "cell_type": "code",
   "execution_count": 46,
   "metadata": {},
   "outputs": [
    {
     "data": {
      "text/plain": [
       "['Note:',\n",
       " 'Scene:',\n",
       " 'Monica:',\n",
       " 'Joey:',\n",
       " 'Chandler:',\n",
       " 'Phoebe:',\n",
       " 'Phoebe:',\n",
       " 'Monica:',\n",
       " 'Chandler:',\n",
       " 'Chandler:',\n",
       " 'All:',\n",
       " 'Chandler:',\n",
       " 'Joey:',\n",
       " 'Chandler:',\n",
       " 'Joey:',\n",
       " 'Phoebe:',\n",
       " 'Chandler:',\n",
       " 'Monica:',\n",
       " 'Chandler:',\n",
       " 'Ross:',\n",
       " 'Joey:',\n",
       " 'Monica:',\n",
       " 'Ross:',\n",
       " 'Chandler:',\n",
       " 'Monica:',\n",
       " 'Joey:',\n",
       " 'Monica:',\n",
       " 'Ross:',\n",
       " 'Phoebe:',\n",
       " 'Ross:',\n",
       " 'Phoebe:',\n",
       " 'Ross:',\n",
       " 'Monica:',\n",
       " 'Ross:',\n",
       " 'Joey:',\n",
       " 'Ross:',\n",
       " 'Chandler:',\n",
       " 'Ross:',\n",
       " 'Monica:',\n",
       " 'Ross:',\n",
       " 'Joey:',\n",
       " 'Joey:',\n",
       " 'Ross:',\n",
       " 'Chandler:',\n",
       " 'Monica:',\n",
       " 'Rachel:',\n",
       " 'Waitress:',\n",
       " 'Monica:',\n",
       " 'Rachel:',\n",
       " 'Ross:',\n",
       " 'Monica:',\n",
       " 'Rachel:',\n",
       " 'Monica:',\n",
       " 'Rachel:',\n",
       " 'Scene:',\n",
       " 'Monica:',\n",
       " 'Chandler:',\n",
       " 'Ross:',\n",
       " 'Rachel:',\n",
       " 'Phoebe:',\n",
       " 'Chandler:',\n",
       " 'Joey:',\n",
       " 'Joey:',\n",
       " 'Rachel:',\n",
       " 'Ross:',\n",
       " 'Rachel:',\n",
       " 'Monica:',\n",
       " 'Rachel:',\n",
       " 'Monica:',\n",
       " 'Phoebe:',\n",
       " 'Rachel:',\n",
       " 'Phoebe:',\n",
       " 'Monica:',\n",
       " 'Joey:',\n",
       " 'Monica:',\n",
       " 'Joey:',\n",
       " 'Chandler:',\n",
       " 'Paul:',\n",
       " 'Monica:',\n",
       " 'Joey:',\n",
       " 'Ross:',\n",
       " 'Monica:',\n",
       " 'Joey:',\n",
       " 'Ross:',\n",
       " 'Monica:',\n",
       " 'Chandler:',\n",
       " 'Monica:',\n",
       " 'Rachel:',\n",
       " 'Monica:',\n",
       " 'Ross:',\n",
       " 'Monica:',\n",
       " 'Ross:',\n",
       " 'Phoebe:',\n",
       " 'Monica:',\n",
       " 'All:',\n",
       " 'Chandler:',\n",
       " 'Monica:',\n",
       " 'Ross:',\n",
       " 'Monica:',\n",
       " 'Phoebe:',\n",
       " 'Joey:',\n",
       " 'Paul:',\n",
       " 'Joey:',\n",
       " 'Monica:',\n",
       " 'Ross:',\n",
       " 'Rachel:',\n",
       " 'Ross:',\n",
       " 'Chandler:',\n",
       " 'Rachel:',\n",
       " 'Ross:',\n",
       " 'Joey:',\n",
       " 'Phoebe:',\n",
       " 'Scene:',\n",
       " 'Phoebe:',\n",
       " 'Scene:',\n",
       " 'Ross:',\n",
       " 'Joey:',\n",
       " 'Chandler:',\n",
       " 'Joey:',\n",
       " 'Chandler:',\n",
       " 'Joey:',\n",
       " 'Chandler:',\n",
       " 'Joey:',\n",
       " 'Chandler:',\n",
       " 'Ross:',\n",
       " 'Joey:',\n",
       " 'Chandler:',\n",
       " 'Joey:',\n",
       " 'Ross:',\n",
       " 'Chandler:',\n",
       " 'Joey:',\n",
       " 'Chandler:',\n",
       " 'Scene:',\n",
       " 'Monica:',\n",
       " 'Paul:',\n",
       " 'Monica:',\n",
       " 'Paul:',\n",
       " 'Monica:',\n",
       " 'Paul:',\n",
       " 'Monica:',\n",
       " 'Paul:',\n",
       " 'Monica:',\n",
       " 'Scene:',\n",
       " 'Rachel:',\n",
       " 'Scene:',\n",
       " 'Ross:',\n",
       " 'Joey:',\n",
       " 'Chandler:',\n",
       " 'Ross:',\n",
       " 'Chandler:',\n",
       " 'Ross:',\n",
       " 'Joey:',\n",
       " 'Ross:',\n",
       " 'Chandler:',\n",
       " 'Scene:',\n",
       " 'Paul:',\n",
       " 'Monica:',\n",
       " 'Paul:',\n",
       " 'Monica:',\n",
       " 'Paul:',\n",
       " 'Monica:',\n",
       " 'Paul:',\n",
       " 'Monica:',\n",
       " 'Paul:',\n",
       " 'Monica:',\n",
       " 'Paul:',\n",
       " 'Monica:',\n",
       " 'Paul:',\n",
       " 'Monica:',\n",
       " 'Scene:',\n",
       " 'Rachel:',\n",
       " 'Scene:',\n",
       " 'Ross:',\n",
       " 'Joey:',\n",
       " 'Chandler:',\n",
       " 'Joey:',\n",
       " 'Ross:',\n",
       " 'Scene:',\n",
       " 'Rachel:',\n",
       " 'Chandler:',\n",
       " 'Joey:',\n",
       " 'Rachel:',\n",
       " 'Chandler:',\n",
       " 'Joey:',\n",
       " 'Monica:',\n",
       " 'All:',\n",
       " 'Paul:',\n",
       " 'Joey:',\n",
       " 'Rachel:',\n",
       " 'Chandler:',\n",
       " 'Paul:',\n",
       " 'Monica:',\n",
       " 'Paul:',\n",
       " 'Monica:',\n",
       " 'Paul:',\n",
       " 'Joey:',\n",
       " 'Monica:',\n",
       " 'All:',\n",
       " 'Chandler:',\n",
       " 'Rachel:',\n",
       " 'Monica:',\n",
       " 'Joey:',\n",
       " 'Rachel:',\n",
       " 'Joey:',\n",
       " 'Monica:',\n",
       " 'Joey:',\n",
       " 'Chandler:',\n",
       " 'Joey:',\n",
       " 'Chandler:',\n",
       " 'Joey:',\n",
       " 'Monica:',\n",
       " 'Rachel:',\n",
       " 'Monica:',\n",
       " 'Rachel:',\n",
       " 'Monica:',\n",
       " 'Rachel:',\n",
       " 'Monica:',\n",
       " 'Rachel:',\n",
       " 'Monica:',\n",
       " 'Rachel:',\n",
       " 'Monica:',\n",
       " 'Rachel:',\n",
       " 'Scene:',\n",
       " 'Frannie:',\n",
       " 'Monica:',\n",
       " 'Frannie:',\n",
       " 'Monica:',\n",
       " 'Frannie:',\n",
       " 'Monica:',\n",
       " 'Frannie:',\n",
       " 'Monica:',\n",
       " 'Frannie:',\n",
       " 'Scene:',\n",
       " 'Joey:',\n",
       " 'Monica:',\n",
       " 'Ross:',\n",
       " 'Monica:',\n",
       " 'Phoebe:',\n",
       " 'Monica:',\n",
       " 'Phoebe:',\n",
       " 'Monica:',\n",
       " 'Joey:',\n",
       " 'Rachel:',\n",
       " 'Ross:',\n",
       " 'Rachel:',\n",
       " 'Chandler:',\n",
       " 'Rachel:',\n",
       " 'Chandler:',\n",
       " 'Rachel:',\n",
       " 'Monica:',\n",
       " 'Rachel:',\n",
       " 'Monica:',\n",
       " 'Rachel:',\n",
       " 'Scene:',\n",
       " 'Rachel:',\n",
       " 'Monica:',\n",
       " 'Rachel:',\n",
       " 'Phoebe:',\n",
       " 'Rachel:',\n",
       " 'Phoebe:',\n",
       " 'Ross:',\n",
       " 'Monica:',\n",
       " 'Rachel:',\n",
       " 'Monica:',\n",
       " 'Rachel:',\n",
       " 'Ross:',\n",
       " 'Ross:',\n",
       " 'All:',\n",
       " 'Rachel:',\n",
       " 'Monica:',\n",
       " 'All:',\n",
       " 'Chandler:',\n",
       " 'Monica:',\n",
       " 'Monica:',\n",
       " 'Ross:',\n",
       " 'Monica:',\n",
       " 'Ross:',\n",
       " 'Rachel:',\n",
       " 'Monica:',\n",
       " 'Rachel:',\n",
       " 'Ross:',\n",
       " 'Rachel:',\n",
       " 'Ross:',\n",
       " 'Rachel:',\n",
       " 'Ross:',\n",
       " 'Rachel:',\n",
       " 'Ross:',\n",
       " 'Rachel:',\n",
       " 'Ross:',\n",
       " 'Rachel:',\n",
       " 'Ross:',\n",
       " 'Rachel:',\n",
       " 'Ross:',\n",
       " 'Rachel:',\n",
       " 'Ross:',\n",
       " 'Monica:',\n",
       " 'Ross:',\n",
       " 'Scene:',\n",
       " 'Joey:',\n",
       " 'Phoebe:',\n",
       " 'Monica:',\n",
       " 'Phoebe:',\n",
       " 'Monica:',\n",
       " 'Phoebe:',\n",
       " 'All:',\n",
       " 'Monica:',\n",
       " 'Joey:',\n",
       " 'Ross:',\n",
       " 'Rachel:',\n",
       " 'Chandler:',\n",
       " 'Rachel:',\n",
       " 'All:',\n",
       " 'Chandler:',\n",
       " 'Customer:',\n",
       " 'Rachel:',\n",
       " 'Chandler:']"
      ]
     },
     "execution_count": 46,
     "metadata": {},
     "output_type": "execute_result"
    }
   ],
   "source": [
    "char = re.compile(r'[A-Z][a-z]+:') #[A-Z]는 대문자 [a-z]는 소문자 \n",
    "re.findall(char, script101)"
   ]
  },
  {
   "cell_type": "code",
   "execution_count": 47,
   "metadata": {},
   "outputs": [
    {
     "data": {
      "text/plain": [
       "{1, 2, 3, 4, 5, 6}"
      ]
     },
     "execution_count": 47,
     "metadata": {},
     "output_type": "execute_result"
    }
   ],
   "source": [
    "#set 키워드로 중복된 원소 지우기 \n",
    "a = [1,2,3,4,5,6,3,2,3]\n",
    "set(a)"
   ]
  },
  {
   "cell_type": "code",
   "execution_count": 48,
   "metadata": {},
   "outputs": [
    {
     "data": {
      "text/plain": [
       "{'All:',\n",
       " 'Chandler:',\n",
       " 'Customer:',\n",
       " 'Frannie:',\n",
       " 'Joey:',\n",
       " 'Monica:',\n",
       " 'Note:',\n",
       " 'Paul:',\n",
       " 'Phoebe:',\n",
       " 'Rachel:',\n",
       " 'Ross:',\n",
       " 'Scene:',\n",
       " 'Waitress:'}"
      ]
     },
     "execution_count": 48,
     "metadata": {},
     "output_type": "execute_result"
    }
   ],
   "source": [
    "set(re.findall(char, script101))"
   ]
  },
  {
   "cell_type": "code",
   "execution_count": 49,
   "metadata": {},
   "outputs": [
    {
     "data": {
      "text/plain": [
       "'Rachel'"
      ]
     },
     "execution_count": 49,
     "metadata": {},
     "output_type": "execute_result"
    }
   ],
   "source": [
    "# 1) 정규표현식으로 해보기 \n",
    "rachel = 'Rachel:'\n",
    "rachel = re.sub(':','', rachel)\n",
    "rachel"
   ]
  },
  {
   "cell_type": "code",
   "execution_count": 50,
   "metadata": {},
   "outputs": [
    {
     "data": {
      "text/plain": [
       "'Rachel'"
      ]
     },
     "execution_count": 50,
     "metadata": {},
     "output_type": "execute_result"
    }
   ],
   "source": [
    "# 2) # 슬라이싱으로 특정 위치의 문자 지우기\n",
    "rachel = 'Rachel:'\n",
    "rachel[:-1]"
   ]
  },
  {
   "cell_type": "code",
   "execution_count": 53,
   "metadata": {},
   "outputs": [
    {
     "data": {
      "text/plain": [
       "['Joey',\n",
       " 'Note',\n",
       " 'Chandler',\n",
       " 'Paul',\n",
       " 'Scene',\n",
       " 'Frannie',\n",
       " 'All',\n",
       " 'Waitress',\n",
       " 'Phoebe',\n",
       " 'Monica',\n",
       " 'Rachel',\n",
       " 'Customer',\n",
       " 'Ross']"
      ]
     },
     "execution_count": 53,
     "metadata": {},
     "output_type": "execute_result"
    }
   ],
   "source": [
    "y = set(re.findall(char, script101))\n",
    "z = list(y)\n",
    "character = []\n",
    "for i in z:\n",
    "    character += [i[:-1]]\n",
    "    \n",
    "character"
   ]
  },
  {
   "cell_type": "markdown",
   "metadata": {},
   "source": [
    "#### 지문만 출력하기"
   ]
  },
  {
   "cell_type": "markdown",
   "metadata": {},
   "source": [
    "- 규칙을 찾아내야함 \n",
    "1) 여는 괄호 등장  \n",
    "2) 공백 없이 문자 시작  \n",
    "3) 문장은 문자와 공백으로 이루어져 있음  \n",
    "4) 마침표로 맺고,닫는 괄호로 마무리   \n",
    "5) 그냥 문자로 끝을 맺고, 괄호를 닫을 수도 있음   "
   ]
  },
  {
   "cell_type": "markdown",
   "metadata": {},
   "source": [
    "- 규칙 바탕으로 정규표현으로 표현 : r'\\[A-Za-z].+[a-z|\\.]\\)'\n",
    "    - r' 문자열 앞에는 습관적으로 r 붙여 주기  \n",
    "    - \\( (를 메타 문자로 인식 되지 않도록 \\를 붙여주기\n",
    "    - [A-Za-z] 는 괄호다음에는 공백 없이 영문자\n",
    "    - .+ 는 문자/숫자/빈칸 등이 자유롭게 반복\n",
    "    - [a-z|\\.+]은 마지막 글자로 영어 소문자 혹은 마침표가 옵니다. \n",
    "    - \\)' 는 )로 괄호를 닫고 문자열 작성을 끝내기 "
   ]
  },
  {
   "cell_type": "code",
   "execution_count": 56,
   "metadata": {},
   "outputs": [
    {
     "data": {
      "text/plain": [
       "['(The Pilot-The Uncut Version)',\n",
       " '(Note: The previously unseen parts of this episode are shown in blue text.)',\n",
       " '(They all stare, bemused.)',\n",
       " '(mortified)',\n",
       " '(explaining to the others)',\n",
       " '(to Ross)']"
      ]
     },
     "execution_count": 56,
     "metadata": {},
     "output_type": "execute_result"
    }
   ],
   "source": [
    "re.findall(r'\\([A-Za-z].+[a-z|\\.]\\)', script101)[:6]"
   ]
  },
  {
   "cell_type": "markdown",
   "metadata": {},
   "source": [
    "#### 특정 단어의 예문만 모아 파일로 저장하기 "
   ]
  },
  {
   "cell_type": "code",
   "execution_count": 68,
   "metadata": {},
   "outputs": [
    {
     "data": {
      "text/plain": [
       "0"
      ]
     },
     "execution_count": 68,
     "metadata": {},
     "output_type": "execute_result"
    }
   ],
   "source": [
    "import os, re, codecs\n",
    "\n",
    "f = codecs.open('./monica.txt', 'r')\n",
    "f.read(100)\n",
    "f.seek(0)  # 읽은 다음에는 커서를 맨 앞으로 이동한다는 의미\n"
   ]
  },
  {
   "cell_type": "code",
   "execution_count": 69,
   "metadata": {},
   "outputs": [
    {
     "data": {
      "text/plain": [
       "[\"Monica: There's nothing to tell! He's just some guy I work with!\\n\",\n",
       " \"Monica: Okay, everybody relax. This is not even a date. It's just two people going out to dinner and- not having sex.\\n\",\n",
       " \"Monica: And they weren't looking at you before?!\\n\"]"
      ]
     },
     "execution_count": 69,
     "metadata": {},
     "output_type": "execute_result"
    }
   ],
   "source": [
    "sentences = f.readlines()\n",
    "sentences[:3]"
   ]
  },
  {
   "cell_type": "code",
   "execution_count": 59,
   "metadata": {
    "collapsed": true
   },
   "outputs": [
    {
     "name": "stdout",
     "output_type": "stream",
     "text": [
      "Monica: There's nothing to tell! He's just some guy I work with!\n",
      "\n",
      "Monica: Okay, everybody relax. This is not even a date. It's just two people going out to dinner and- not having sex.\n",
      "\n",
      "Monica: And they weren't looking at you before?!\n",
      "\n",
      "Monica: Are you okay, sweetie?\n",
      "\n",
      "Monica: (explaining to the others) Carol moved her stuff out today.\n",
      "\n",
      "Monica: (to Ross) Let me get you some coffee.\n",
      "\n",
      "Monica: No you don't.\n",
      "\n",
      "Monica: Oh really, so that hysterical phone call I got from a woman at sobbing 3:00 A.M., \"I'll never have grandchildren, I'll never have grandchildren.\" was what?  A wrong number?\n",
      "\n",
      "Monica: Rachel?!\n",
      "\n",
      "Monica: (pointing at Rachel) De-caff. (to All) Okay, everybody, this is Rachel, another Lincoln High survivor. (to Rachel) This is everybody, this is Chandler, and Phoebe, and Joey, and- you remember my brother Ross?\n",
      "\n",
      "Monica: So you wanna tell us now, or are we waiting for four wet bridesmaids?\n",
      "\n",
      "Monica: Who wasn't invited to the wedding.\n",
      "\n",
      "Monica: Now I'm guessing that he bought her the big pipe organ, and she's really not happy about it.\n",
      "\n",
      "Monica: Well, I guess we've established who's staying here with Monica...\n",
      "\n",
      "Monica: Just breathe, breathe.. that's it. Just try to think of nice calm things...\n",
      "\n",
      "Monica: Okay, look, this is probably for the best, y'know? Independence. Taking control of your life.  The whole, 'hat' thing.\n",
      "\n",
      "Monica: Joey, stop hitting on her! It's her wedding day!\n",
      "\n",
      "Monica: Oh God, is it 6:30?  Buzz him in!\n",
      "\n",
      "Monica: Maybe. Joey: Wait. Your 'not a real date' tonight is with Paul the Wine Guy?\n",
      "\n",
      "Monica: Yes!\n",
      "\n"
     ]
    }
   ],
   "source": [
    "for i in sentences[:20]:\n",
    "    if re.match(r'[A-Z][a-z]+:', i):\n",
    "        print(i)"
   ]
  },
  {
   "cell_type": "code",
   "execution_count": 75,
   "metadata": {},
   "outputs": [
    {
     "data": {
      "text/plain": [
       "[\"Monica: There's nothing to tell! He's just some guy I work with!\\n\",\n",
       " \"Monica: Okay, everybody relax. This is not even a date. It's just two people going out to dinner and- not having sex.\\n\",\n",
       " \"Monica: And they weren't looking at you before?!\\n\"]"
      ]
     },
     "execution_count": 75,
     "metadata": {},
     "output_type": "execute_result"
    }
   ],
   "source": [
    "lines = [i for i in sentences if re.match(r'[A-Z][a-z]+:', i)]\n",
    "lines[:3]"
   ]
  },
  {
   "cell_type": "code",
   "execution_count": 76,
   "metadata": {},
   "outputs": [
    {
     "data": {
      "text/plain": [
       "['Monica: Why?! Why? Why, why would anybody do something like that?\\n']"
      ]
     },
     "execution_count": 76,
     "metadata": {},
     "output_type": "execute_result"
    }
   ],
   "source": [
    "would = [i for i in sentences if re.match(r'[A-Z][a-z]+:', i) and re.search('would', i)]\n",
    "would"
   ]
  },
  {
   "cell_type": "code",
   "execution_count": 78,
   "metadata": {},
   "outputs": [],
   "source": [
    "newf= open('./monica.txt', 'w')\n",
    "newf.writelines(would)\n",
    "newf.close()"
   ]
  },
  {
   "cell_type": "code",
   "execution_count": null,
   "metadata": {},
   "outputs": [],
   "source": []
  }
 ],
 "metadata": {
  "kernelspec": {
   "display_name": "Python 3",
   "language": "python",
   "name": "python3"
  },
  "language_info": {
   "codemirror_mode": {
    "name": "ipython",
    "version": 3
   },
   "file_extension": ".py",
   "mimetype": "text/x-python",
   "name": "python",
   "nbconvert_exporter": "python",
   "pygments_lexer": "ipython3",
   "version": "3.6.5"
  }
 },
 "nbformat": 4,
 "nbformat_minor": 4
}
