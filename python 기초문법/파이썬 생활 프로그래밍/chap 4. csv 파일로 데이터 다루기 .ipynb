{
 "cells": [
  {
   "cell_type": "code",
   "execution_count": 2,
   "metadata": {},
   "outputs": [],
   "source": [
    "import os, re, usecsv"
   ]
  },
  {
   "cell_type": "code",
   "execution_count": 3,
   "metadata": {},
   "outputs": [
    {
     "name": "stdout",
     "output_type": "stream",
     "text": [
      "[['Gu', 'Korean', 'Foreigner', 'Senior'], ['Total', 9740398.0, 285529.0, 1468146.0], ['Jongrogu', 151767.0, 11093.0, 27394.0], ['Jongru', 126409.0, 10254.0, 23025.0]]\n"
     ]
    }
   ],
   "source": [
    "total = usecsv.opencsv('./popSeoul.csv')\n",
    "newPop = usecsv.switch(total)\n",
    "print(newPop[:4])"
   ]
  },
  {
   "cell_type": "markdown",
   "metadata": {},
   "source": [
    "### 등록 외국인 비율 계산해보기 "
   ]
  },
  {
   "cell_type": "code",
   "execution_count": 4,
   "metadata": {},
   "outputs": [
    {
     "data": {
      "text/plain": [
       "['Total', 9740398.0, 285529.0, 1468146.0]"
      ]
     },
     "execution_count": 4,
     "metadata": {},
     "output_type": "execute_result"
    }
   ],
   "source": [
    "i = newPop[1]\n",
    "i"
   ]
  },
  {
   "cell_type": "code",
   "execution_count": 8,
   "metadata": {},
   "outputs": [
    {
     "name": "stdout",
     "output_type": "stream",
     "text": [
      "2.8\n"
     ]
    }
   ],
   "source": [
    "foreign = round(i[2]/(i[1]+i[2])*100, 1)\n",
    "print(foreign)"
   ]
  },
  {
   "cell_type": "markdown",
   "metadata": {},
   "source": [
    "### 각 구의 외국인 비율 출력"
   ]
  },
  {
   "cell_type": "code",
   "execution_count": 9,
   "metadata": {},
   "outputs": [
    {
     "name": "stdout",
     "output_type": "stream",
     "text": [
      "Total 2.8\n",
      "Jongrogu 6.8\n",
      "Jongru 7.5\n",
      "Yongsangu 6.6\n",
      "Seongdonggu 2.6\n",
      "Kwangjingu 4.2\n",
      "Dongdaemoongu 4.7\n",
      "Jungranggu 1.2\n",
      "Seongbukgu 2.8\n",
      "Gangbukgu 1.2\n",
      "Dobonggu 0.7\n",
      "Nowonggu 0.8\n",
      "Eunpyonggu 0.9\n",
      "Seodaemungu 4.3\n",
      "Mapogu 3.1\n",
      "Yangcheongu 0.9\n",
      "Gangseogu 1.1\n",
      "Gurogu 7.5\n",
      "Guemcheongu 7.7\n",
      "Youngdeungpogu 8.5\n",
      "Dongjakgu 3.1\n",
      "Kwanakgu 3.4\n",
      "Seoucheogu 1.0\n",
      "Gangnamgu 0.9\n",
      "Songpagu 1.0\n",
      "Gangdonggu 1.0\n"
     ]
    }
   ],
   "source": [
    "for i in newPop:\n",
    "    foreign = 0\n",
    "    try: \n",
    "        foreign = round(i[2]/(i[1]+i[2])*100, 1)\n",
    "        print(i[0], foreign)\n",
    "    except:\n",
    "        pass"
   ]
  },
  {
   "cell_type": "code",
   "execution_count": 10,
   "metadata": {},
   "outputs": [],
   "source": [
    "# 첫행 지정하기\n",
    "new = [['구', '한국인', '외국인', '외국인 비율(%)']]"
   ]
  },
  {
   "cell_type": "code",
   "execution_count": 12,
   "metadata": {},
   "outputs": [
    {
     "data": {
      "text/plain": [
       "[['구', '한국인', '외국인', '외국인 비율(%)'], ['Gangdonggu', 426219.0, 4303.0, 1.0]]"
      ]
     },
     "execution_count": 12,
     "metadata": {},
     "output_type": "execute_result"
    }
   ],
   "source": [
    "new.append([i[0], i[1], i[2], foreign])\n",
    "new"
   ]
  },
  {
   "cell_type": "markdown",
   "metadata": {},
   "source": [
    "### 외국인 비율이 3% 초과할때만 출력해보기"
   ]
  },
  {
   "cell_type": "code",
   "execution_count": 13,
   "metadata": {},
   "outputs": [
    {
     "name": "stdout",
     "output_type": "stream",
     "text": [
      "['Jongrogu', 151767.0, 11093.0, 6.8]\n",
      "['Jongru', 126409.0, 10254.0, 7.5]\n",
      "['Yongsangu', 228830.0, 16159.0, 6.6]\n",
      "['Kwangjingu', 352692.0, 15645.0, 4.2]\n",
      "['Dongdaemoongu', 346551.0, 17228.0, 4.7]\n",
      "['Seodaemungu', 310069.0, 14020.0, 4.3]\n",
      "['Mapogu', 373629.0, 11976.0, 3.1]\n",
      "['Gurogu', 406748.0, 33102.0, 7.5]\n",
      "['Guemcheongu', 233371.0, 19497.0, 7.7]\n",
      "['Youngdeungpogu', 368402.0, 34076.0, 8.5]\n",
      "['Dongjakgu', 397618.0, 12869.0, 3.1]\n",
      "['Kwanakgu', 502117.0, 17836.0, 3.4]\n"
     ]
    }
   ],
   "source": [
    "import re \n",
    "for i in newPop:\n",
    "    foreign = 0\n",
    "    try:\n",
    "        foreign = round(i[2]/(i[1]+i[2])*100, 1)\n",
    "        if foreign > 3:\n",
    "            print([i[0], i[1], i[2], foreign])\n",
    "    except:\n",
    "        pass"
   ]
  },
  {
   "cell_type": "code",
   "execution_count": 14,
   "metadata": {},
   "outputs": [],
   "source": [
    "# csv 파일로 저장\n",
    "new = [['구', '한국인', '외국인', '외국인 비율(%)']]\n",
    "for i in newPop:\n",
    "    foreign = 0\n",
    "    try:\n",
    "        foreign = round(i[2]/(i[1]+i[2])*100, 1)\n",
    "        if foreign > 3:\n",
    "            new.append([i[0], i[1], i[2], foreign])\n",
    "    except:\n",
    "        pass"
   ]
  },
  {
   "cell_type": "code",
   "execution_count": 15,
   "metadata": {},
   "outputs": [],
   "source": [
    "usecsv.writecsv('./newPop.csv', new)"
   ]
  },
  {
   "cell_type": "markdown",
   "metadata": {},
   "source": [
    "### 부동산 실거래가 살펴보기"
   ]
  },
  {
   "cell_type": "code",
   "execution_count": 16,
   "metadata": {},
   "outputs": [
    {
     "data": {
      "text/plain": [
       "[['시군구',\n",
       "  '번지',\n",
       "  '본번',\n",
       "  '부번',\n",
       "  '단지명',\n",
       "  '면적',\n",
       "  '계약년월',\n",
       "  '계약일',\n",
       "  '가격',\n",
       "  '층',\n",
       "  '건축년도',\n",
       "  '도로명'],\n",
       " ['강원도 강릉시 견소동',\n",
       "  202.0,\n",
       "  202.0,\n",
       "  0.0,\n",
       "  '송정한신',\n",
       "  59.8,\n",
       "  201910.0,\n",
       "  4.0,\n",
       "  10900.0,\n",
       "  5.0,\n",
       "  1997.0,\n",
       "  '경강로2539번길 8'],\n",
       " ['강원도 강릉시 견소동',\n",
       "  202.0,\n",
       "  202.0,\n",
       "  0.0,\n",
       "  '송정한신',\n",
       "  116.175,\n",
       "  201910.0,\n",
       "  31.0,\n",
       "  18500.0,\n",
       "  10.0,\n",
       "  1997.0,\n",
       "  '경강로2539번길 8']]"
      ]
     },
     "execution_count": 16,
     "metadata": {},
     "output_type": "execute_result"
    }
   ],
   "source": [
    "import os, re, usecsv\n",
    "\n",
    "apt = usecsv.switch(usecsv.opencsv('./apt_201910.csv'))\n",
    "apt[:3]"
   ]
  },
  {
   "cell_type": "code",
   "execution_count": 17,
   "metadata": {},
   "outputs": [
    {
     "data": {
      "text/plain": [
       "42759"
      ]
     },
     "execution_count": 17,
     "metadata": {},
     "output_type": "execute_result"
    }
   ],
   "source": [
    "len(apt)"
   ]
  },
  {
   "cell_type": "markdown",
   "metadata": {},
   "source": [
    "#### 슬라이싱으로 원하는 자료 출력하기 "
   ]
  },
  {
   "cell_type": "code",
   "execution_count": 18,
   "metadata": {},
   "outputs": [
    {
     "data": {
      "text/plain": [
       "['시군구', '번지', '본번', '부번', '단지명', '면적', '계약년월', '계약일', '가격', '층', '건축년도', '도로명']"
      ]
     },
     "execution_count": 18,
     "metadata": {},
     "output_type": "execute_result"
    }
   ],
   "source": [
    "# header \n",
    "apt[0]"
   ]
  },
  {
   "cell_type": "code",
   "execution_count": 19,
   "metadata": {},
   "outputs": [
    {
     "name": "stdout",
     "output_type": "stream",
     "text": [
      "시군구\n",
      "강원도 강릉시 견소동\n",
      "강원도 강릉시 견소동\n",
      "강원도 강릉시 견소동\n",
      "강원도 강릉시 견소동\n",
      "강원도 강릉시 견소동\n"
     ]
    }
   ],
   "source": [
    "for i in apt[:6]:\n",
    "    print(i[0])"
   ]
  },
  {
   "cell_type": "code",
   "execution_count": 20,
   "metadata": {},
   "outputs": [
    {
     "name": "stdout",
     "output_type": "stream",
     "text": [
      "시군구 단지명 가격\n",
      "강원도 강릉시 견소동 송정한신 10900.0\n",
      "강원도 강릉시 견소동 송정한신 18500.0\n",
      "강원도 강릉시 견소동 송정해변신도브래뉴아파트 25000.0\n",
      "강원도 강릉시 견소동 송정해변신도브래뉴아파트 20600.0\n",
      "강원도 강릉시 견소동 송정해변신도브래뉴아파트 20500.0\n"
     ]
    }
   ],
   "source": [
    "for i in apt[:6]:\n",
    "    print(i[0], i[4], i[-4])"
   ]
  },
  {
   "cell_type": "markdown",
   "metadata": {},
   "source": [
    "#### 강원도에 120미터 세제곱 이상 3억원 이하 아파트 검색하기 "
   ]
  },
  {
   "cell_type": "code",
   "execution_count": 23,
   "metadata": {},
   "outputs": [],
   "source": [
    "new_list = []\n",
    "for i in apt:\n",
    "    try:\n",
    "        if i[5] >= 120 and i[-4] <= 30000 and re.match('강원', i[0]):\n",
    "            new_list.append([i[0],i[4],i[-4]])\n",
    "    except:\n",
    "        pass\n",
    "\n",
    "usecsv.writecsv('over120_lower30000.csv', new_list)"
   ]
  },
  {
   "cell_type": "markdown",
   "metadata": {},
   "source": [
    "### 번역한 예문을 표로 저장하기 "
   ]
  },
  {
   "cell_type": "code",
   "execution_count": 28,
   "metadata": {},
   "outputs": [
    {
     "name": "stdout",
     "output_type": "stream",
     "text": [
      "['그녀는 채식주의자입니다', ' 그녀는 고기를 먹지않습니다', ' 그녀는 동물을 죽이지 말아야 한다고 생각합니다', ' 그녀가 사람들과 어울리는 것은 어렵습니다', ' 많은 사람들이 고기를 좋아합니다', ' 그녀는 부모에게 고기를 먹지 말라고 말했습니다', ' 그들은 그녀를 비웃었다', ' 그녀는 그들이 고기를 포기할 수없다는 것을 깨달았습니다', '']\n"
     ]
    }
   ],
   "source": [
    "import os, usecsv, re\n",
    "\n",
    "english = 'she is a vegetarian. she dose not eat meat. she thinks that animals should not be killed. if it hard for her to hang out with people. many people like to eat meat. she told his parents not to have meat. they laughted at her. she realized they coundn\\t give up meat.'\n",
    "korean = '그녀는 채식주의자입니다. 그녀는 고기를 먹지않습니다. 그녀는 동물을 죽이지 말아야 한다고 생각합니다. 그녀가 사람들과 어울리는 것은 어렵습니다. 많은 사람들이 고기를 좋아합니다. 그녀는 부모에게 고기를 먹지 말라고 말했습니다. 그들은 그녀를 비웃었다. 그녀는 그들이 고기를 포기할 수없다는 것을 깨달았습니다.'\n",
    "\n",
    "korean_list = re.split('\\.', korean)\n",
    "english_list = re.split('\\.', english)\n",
    "print(korean_list)\n",
    "\n",
    "total = []\n",
    "for i in range(len(english_list)):\n",
    "    total.append([english_list[i], korean_list[i]])\n",
    "\n",
    "usecsv.writecsv('korean_englisg.csv', total)"
   ]
  },
  {
   "cell_type": "code",
   "execution_count": null,
   "metadata": {},
   "outputs": [],
   "source": []
  }
 ],
 "metadata": {
  "kernelspec": {
   "display_name": "Python 3",
   "language": "python",
   "name": "python3"
  },
  "language_info": {
   "codemirror_mode": {
    "name": "ipython",
    "version": 3
   },
   "file_extension": ".py",
   "mimetype": "text/x-python",
   "name": "python",
   "nbconvert_exporter": "python",
   "pygments_lexer": "ipython3",
   "version": "3.6.5"
  }
 },
 "nbformat": 4,
 "nbformat_minor": 4
}
