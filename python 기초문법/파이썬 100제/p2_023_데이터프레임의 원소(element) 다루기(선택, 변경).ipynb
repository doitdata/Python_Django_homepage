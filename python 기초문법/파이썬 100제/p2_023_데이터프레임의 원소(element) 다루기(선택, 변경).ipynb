{
 "cells": [
  {
   "cell_type": "code",
   "execution_count": 2,
   "metadata": {},
   "outputs": [
    {
     "name": "stdout",
     "output_type": "stream",
     "text": [
      "    c0  c1\n",
      "r0   1   4\n",
      "r1   2   5\n",
      "r2   3   6 \n",
      "\n",
      "4 \n",
      "\n",
      "5 \n",
      "\n",
      "6 \n",
      "\n",
      "    c0  c1\n",
      "r1   2   5\n",
      "r2   3   6 \n",
      "\n",
      "    c0  c1\n",
      "r1   2   5\n",
      "r2   3   6 \n",
      "\n",
      "    c0  c1\n",
      "r0   1  40\n",
      "r1   2   5\n",
      "r2   3   6 \n",
      "\n",
      "    c0  c1\n",
      "r0   1  40\n",
      "r1   0   0\n",
      "r2   0   0\n"
     ]
    }
   ],
   "source": [
    "import pandas as pd\n",
    "\n",
    "# dictionary를 데이터 프레임으로 변환\n",
    "dict_data = {'c0':[1,2,3], 'c1':[4,5,6]}\n",
    "df = pd.DataFrame(dict_data, index=['r0','r1','r2'])\n",
    "print(df, '\\n')\n",
    "\n",
    "# 원소 선택\n",
    "el_01 = df.iloc[0,1]\n",
    "print(el_01, '\\n')\n",
    "\n",
    "el_l1 = df.iloc[1,1]\n",
    "print(el_l1, '\\n')\n",
    "\n",
    "el_21 = df.loc['r2','c1']\n",
    "print(el_21, '\\n')\n",
    "\n",
    "el_12_01 = df.loc['r1':'r2', 'c0':'c1']\n",
    "print(el_12_01, '\\n')\n",
    "\n",
    "el_12_01_iloc = df.iloc[1:3, 0:2]\n",
    "print(el_12_01_iloc, '\\n')\n",
    "\n",
    "# 원소값 변경\n",
    "df.iloc[0,1] = 40\n",
    "print(df, '\\n')\n",
    "\n",
    "df.iloc[1:3, 0:2] = 0\n",
    "print(df)"
   ]
  },
  {
   "cell_type": "code",
   "execution_count": null,
   "metadata": {},
   "outputs": [],
   "source": []
  }
 ],
 "metadata": {
  "kernelspec": {
   "display_name": "Python 3",
   "language": "python",
   "name": "python3"
  },
  "language_info": {
   "codemirror_mode": {
    "name": "ipython",
    "version": 3
   },
   "file_extension": ".py",
   "mimetype": "text/x-python",
   "name": "python",
   "nbconvert_exporter": "python",
   "pygments_lexer": "ipython3",
   "version": "3.6.5"
  }
 },
 "nbformat": 4,
 "nbformat_minor": 4
}
