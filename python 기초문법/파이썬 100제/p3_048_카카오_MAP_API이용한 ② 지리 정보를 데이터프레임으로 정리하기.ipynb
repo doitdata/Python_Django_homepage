{
 "cells": [
  {
   "cell_type": "code",
   "execution_count": 1,
   "metadata": {},
   "outputs": [
    {
     "name": "stdout",
     "output_type": "stream",
     "text": [
      "0 서울 종로구 종로1 교보생명빌딩\n",
      "1 통영시청\n",
      "2 광주비엔날레\n",
      "\n",
      "\n",
      "                  장소    위도    경도\n",
      "0  서울 종로구 종로1 교보생명빌딩  None  None\n",
      "1               통영시청  None  None\n",
      "2             광주비엔날레  None  None\n"
     ]
    }
   ],
   "source": [
    "import pandas as pd\n",
    "import simplejson,requests\n",
    "import sys\n",
    "\n",
    "url = \"https://dapi.kakao.com/v2/local/search/keyword.json?\"\n",
    "apikey = \"a51c81b5a420a5ddea5d69c72a793da0\"\n",
    "\n",
    "lat = [] ; lng = [] #위도, 경도 데이터 담을 리스트\n",
    "\n",
    "# 장소 또는 주소 리스트 만들기\n",
    "place_list = ['서울 종로구 종로1 교보생명빌딩', '통영시청', '광주비엔날레']\n",
    "\n",
    "for i, place in enumerate(place_list):\n",
    "    try:\n",
    "        print(i, place)\n",
    "        r = requests.get( url, params = {'query':query}, headers={'Authorization' : 'KakaoAK ' + apikey } )\n",
    "        js = simplejson.JSONEncoder().encode(r.json())\n",
    "        r.json()\n",
    "\n",
    "    except:\n",
    "        lat.append(None)\n",
    "        lng.append(None)\n",
    "        \n",
    "# 데이터프레임으로 변환하기\n",
    "df = pd.DataFrame({'장소':place_list, '위도': lat, '경도': lng})\n",
    "print('\\n')\n",
    "print(df)"
   ]
  },
  {
   "cell_type": "code",
   "execution_count": null,
   "metadata": {},
   "outputs": [],
   "source": []
  }
 ],
 "metadata": {
  "kernelspec": {
   "display_name": "Python 3",
   "language": "python",
   "name": "python3"
  },
  "language_info": {
   "codemirror_mode": {
    "name": "ipython",
    "version": 3
   },
   "file_extension": ".py",
   "mimetype": "text/x-python",
   "name": "python",
   "nbconvert_exporter": "python",
   "pygments_lexer": "ipython3",
   "version": "3.6.5"
  }
 },
 "nbformat": 4,
 "nbformat_minor": 4
}
