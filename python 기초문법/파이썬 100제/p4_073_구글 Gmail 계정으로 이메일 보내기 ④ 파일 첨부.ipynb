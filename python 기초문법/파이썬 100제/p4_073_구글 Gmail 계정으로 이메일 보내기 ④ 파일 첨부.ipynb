{
 "cells": [
  {
   "cell_type": "code",
   "execution_count": 4,
   "metadata": {},
   "outputs": [
    {
     "name": "stdout",
     "output_type": "stream",
     "text": [
      "deardata@naver.com 님에게 이메일을 발송하였습니다.\n"
     ]
    }
   ],
   "source": [
    "import smtplib\n",
    "from email.mime.text import MIMEText\n",
    "from email.mime.base import MIMEBase\n",
    "from email import encoders\n",
    "import os\n",
    "\n",
    "# SMTP 서버 접속 - TLS 방식\n",
    "smtp_server = smtplib.SMTP(host = 'smtp.gmail.com', port = 587)\n",
    "smtp_server.ehlo()\n",
    "smtp_server.starttls() # TLS Encription 동작\n",
    "\n",
    "# 이메일 서버 로그인 - 이메일 주소, 비밀번호 입력\n",
    "my_addr = 'chch4934@gmail.com'\n",
    "my_pw = 'tdgjqyogetewfsrv'\n",
    "smtp_server.login(user=my_addr, password=my_pw)\n",
    "\n",
    "# 이메일 베이스 객체 (본문 메시지 + 첨부파일)\n",
    "# MIMEBase 클래스 함수를 이용하여 텍스트 메시지와 첨부파일이 있는 이메일 객체를 생성\n",
    "# MIME 데이터 타입은 메시지 내용에 서로 다른 성격의 여러 부분이 포함되는 multipart/mixed로 설정\n",
    "my_msg = MIMEBase('multipart', 'mixed')\n",
    "\n",
    "# 이메일 메시지 구성\n",
    "subject = '파일 첨부 테스트'\n",
    "body = '''\n",
    "파일 첨부를 위한 테스트 입니다. \n",
    "첨부 파일을 확인해 주세요.\n",
    "'''\n",
    "\n",
    "recipients = 'deardata@naver.com'\n",
    "\n",
    "# MIMEText() 함수를 이용하여 이메일 본문을 텍스트 형태로 변환하여 이메일 객체에 추가\n",
    "my_msg.attach(MIMEText(body, 'plain', 'utf-8'))\n",
    "my_msg['Subject'] = subject\n",
    "my_msg['To'] = recipients\n",
    "\n",
    "# 첨부 파일 구성\n",
    "file_name = 'financials.xlsx'\n",
    "file_path = os.path.join(os.getcwd(), 'data', file_name)\n",
    "\n",
    "# 첨부파일을 이진(binary) 데이터로 전송하기 위해서 MIMEBase() 함수의 데이터 타입을 application/octet-stream으로 지정하여 객체 생성\n",
    "my_attach = MIMEBase('application', 'octet-stream')\n",
    "my_attach.set_payload(open(file_path, 'rb').read())\n",
    "\n",
    "# 이진 파일을 Base64 포맷의 텍스트로 인코딩\n",
    "encoders.encode_base64(my_attach)\n",
    "my_attach.add_header('Content-Disposition', 'attachment; filename = %s' % file_name)\n",
    "my_msg.attach(my_attach)\n",
    "\n",
    "# 이메일 발송\n",
    "smtp_server.sendmail(from_addr=my_addr,\n",
    "                    to_addrs=recipients,\n",
    "                    msg = my_msg.as_string())\n",
    "\n",
    "# 이메일 서버 종료하기\n",
    "smtp_server.quit()\n",
    "print('%s 님에게 이메일을 발송하였습니다.' % recipients)"
   ]
  },
  {
   "cell_type": "code",
   "execution_count": null,
   "metadata": {},
   "outputs": [],
   "source": []
  }
 ],
 "metadata": {
  "kernelspec": {
   "display_name": "Python 3",
   "language": "python",
   "name": "python3"
  },
  "language_info": {
   "codemirror_mode": {
    "name": "ipython",
    "version": 3
   },
   "file_extension": ".py",
   "mimetype": "text/x-python",
   "name": "python",
   "nbconvert_exporter": "python",
   "pygments_lexer": "ipython3",
   "version": "3.6.5"
  }
 },
 "nbformat": 4,
 "nbformat_minor": 4
}
