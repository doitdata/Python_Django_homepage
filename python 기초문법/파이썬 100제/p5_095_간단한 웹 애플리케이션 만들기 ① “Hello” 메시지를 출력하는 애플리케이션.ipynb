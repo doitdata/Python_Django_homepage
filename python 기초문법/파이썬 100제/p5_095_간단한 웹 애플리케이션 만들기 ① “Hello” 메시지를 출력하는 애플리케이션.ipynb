{
 "cells": [
  {
   "cell_type": "code",
   "execution_count": 1,
   "metadata": {},
   "outputs": [
    {
     "name": "stdout",
     "output_type": "stream",
     "text": [
      " * Serving Flask app \"__main__\" (lazy loading)\n",
      " * Environment: production\n",
      "   WARNING: This is a development server. Do not use it in a production deployment.\n",
      "   Use a production WSGI server instead.\n",
      " * Debug mode: on\n"
     ]
    },
    {
     "name": "stderr",
     "output_type": "stream",
     "text": [
      " * Running on http://127.0.0.1:5000/ (Press CTRL+C to quit)\n",
      "127.0.0.1 - - [10/May/2021 15:59:15] \"\u001b[37mGET / HTTP/1.1\u001b[0m\" 200 -\n",
      "127.0.0.1 - - [10/May/2021 15:59:15] \"\u001b[33mGET /favicon.ico HTTP/1.1\u001b[0m\" 404 -\n"
     ]
    }
   ],
   "source": [
    "from flask import Flask\n",
    "\n",
    "# Flask 함수를 사용하여 애플리케이션 객체를 만들어 변수에 저장\n",
    "# 매개변수 __name__은 파이썬에서 모듈의 이름을 나타내는 특수 변수, 코드를 실행하면 __main__이되고, 현재 디렉터리에서 다음 코드가 실핼\n",
    "app = Flask(__name__)\n",
    "\n",
    "# @(데코레이터)를 이용해서 다음에 작성하는 함수가 어떤 URL에서 실행되는지 지정\n",
    "# index함수는 루트('/')에서 실행되어 웹페이지를 호출\n",
    "@app.route('/')\n",
    "def index():\\\n",
    "    return 'Hello, falsk~!'\n",
    "\n",
    "if __name__ == '__main__':\n",
    "    # run() 메소드는 app객체를 구동하여 애플리케이션을 실행\n",
    "    # 개발환경에서 debug 옵션을 True로 지정하는 것이 일반적\n",
    "    app.run(debug=True, use_reloader = False)"
   ]
  },
  {
   "cell_type": "code",
   "execution_count": null,
   "metadata": {},
   "outputs": [],
   "source": []
  },
  {
   "cell_type": "code",
   "execution_count": null,
   "metadata": {},
   "outputs": [],
   "source": []
  }
 ],
 "metadata": {
  "kernelspec": {
   "display_name": "Python 3",
   "language": "python",
   "name": "python3"
  },
  "language_info": {
   "codemirror_mode": {
    "name": "ipython",
    "version": 3
   },
   "file_extension": ".py",
   "mimetype": "text/x-python",
   "name": "python",
   "nbconvert_exporter": "python",
   "pygments_lexer": "ipython3",
   "version": "3.6.5"
  }
 },
 "nbformat": 4,
 "nbformat_minor": 4
}
