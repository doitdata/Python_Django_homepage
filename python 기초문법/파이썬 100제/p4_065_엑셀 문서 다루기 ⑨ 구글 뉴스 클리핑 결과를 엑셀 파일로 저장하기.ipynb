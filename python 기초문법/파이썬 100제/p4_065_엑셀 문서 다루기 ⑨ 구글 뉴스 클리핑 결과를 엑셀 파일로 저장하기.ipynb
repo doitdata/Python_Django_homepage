{
 "cells": [
  {
   "cell_type": "code",
   "execution_count": 1,
   "metadata": {},
   "outputs": [
    {
     "name": "stdout",
     "output_type": "stream",
     "text": [
      "검색어를 입력하세요: 파이썬\n"
     ]
    }
   ],
   "source": [
    "import requests\n",
    "from bs4 import BeautifulSoup\n",
    "import urllib\n",
    "import openpyxl\n",
    "import os\n",
    "\n",
    "# 예제 011 구글 뉴스 클리핑 함수를 다시 사용\n",
    "def google_news_clipping_keyword(keyword_input = '파이썬', limit=5):\n",
    "    \n",
    "    keyword = urllib.parse.quote(keyword_input)\n",
    "    \n",
    "    base_url = \"https://news.google.com\"\n",
    "    url = base_url + \"/search?q=\" + keyword + \"&hl=ko&gl=KR&ceid=KR%3Ako\"\n",
    "    \n",
    "    resp = requests.get(url)\n",
    "    html_src = resp.text\n",
    "    soup = BeautifulSoup(html_src, 'lxml')\n",
    "    \n",
    "    news_items = soup.select('div[class=\"xrnccd\"]')\n",
    "    \n",
    "    links = []; titles = []; contents = []; agencies = []; reporting_dates = []; reporting_times = [];\n",
    "    \n",
    "    for item in news_items[:limit]:\n",
    "        \n",
    "        link = item.find('a', attrs={'class':'VDXfz'}).get('href')\n",
    "        news_link = base_url + link[1:]\n",
    "        links.append(news_link)\n",
    "        \n",
    "        news_title = item.find('a', attrs={'class':'DY5T1d'}).getText()\n",
    "        titles.append(news_title)\n",
    "    \n",
    "        news_content = item.find('span', attrs={'class':'xBbh9'}).text\n",
    "        contents.append(news_content)\n",
    "    \n",
    "        news_agency = item.find('a', attrs={'class':'wEwyrc AVN2gc uQIVzc Sksgp'}).text\n",
    "        agencies.append(news_agency)\n",
    "    \n",
    "        news_reporting = item.find('time', attrs={'class':'WW6dff uQIVzc Sksgp'})\n",
    "        news_reporting_datetime = news_reporting.get('datetime').split('T')\n",
    "        news_reporting_date = news_reporting_datetime[0]\n",
    "        news_reporting_time = news_reporting_datetime[1][:-1]\n",
    "        reporting_dates.append(news_reporting_date)\n",
    "        reporting_times.append(news_reporting_time)\n",
    "        \n",
    "    result = {'link':links, 'title':titles, 'contents':contents, 'agency':agencies, 'date': reporting_dates, 'time': reporting_times}\n",
    "    \n",
    "    return result\n",
    "\n",
    "\n",
    "if __name__ == '__main__':\n",
    "    # 함수를 실행하여 뉴스 목록 정리\n",
    "    search_word = input('검색어를 입력하세요: ')\n",
    "    \n",
    "    # 위에서 만든 함수 사용\n",
    "    news =google_news_clipping_keyword(search_word, 5) # 최대 5개까지 검색\n",
    "    \n",
    "    # 새로운 시트 만들기\n",
    "    wb = openpyxl.Workbook()\n",
    "    ws = wb.create_sheet(title = search_word)\n",
    "    wb.remove(wb['Sheet'])\n",
    "    \n",
    "    \n",
    "    col_nums = {}\n",
    "    for i, k in enumerate(news.keys()):\n",
    "        col_nums[k] = i + 1\n",
    "        \n",
    "    for k in col_nums:\n",
    "        for row_num in range(1, len(news[k])+1):\n",
    "            \n",
    "            # 행위치가 1인 경우 처리하는 과정\n",
    "            if row_num == 1:\n",
    "                ws.cell(row=row_num, column=col_nums[k]).value = k\n",
    "                \n",
    "            # 행위치가 2이상인 경우 처리하는 과정 => k(키)에 해당하는 뉴스데이터를 행위 순서에 맞춰 입력\n",
    "            else:\n",
    "                ws.cell(row=row_num, column=col_nums[k]).value = news[k][row_num-1]\n",
    "                \n",
    "    wb.save(os.path.join(os.getcwd(), 'output', 'google_news_to_excel.xlsx'))\n",
    "    \n",
    "    "
   ]
  },
  {
   "cell_type": "code",
   "execution_count": null,
   "metadata": {},
   "outputs": [],
   "source": []
  }
 ],
 "metadata": {
  "kernelspec": {
   "display_name": "Python 3",
   "language": "python",
   "name": "python3"
  },
  "language_info": {
   "codemirror_mode": {
    "name": "ipython",
    "version": 3
   },
   "file_extension": ".py",
   "mimetype": "text/x-python",
   "name": "python",
   "nbconvert_exporter": "python",
   "pygments_lexer": "ipython3",
   "version": "3.6.5"
  }
 },
 "nbformat": 4,
 "nbformat_minor": 4
}
