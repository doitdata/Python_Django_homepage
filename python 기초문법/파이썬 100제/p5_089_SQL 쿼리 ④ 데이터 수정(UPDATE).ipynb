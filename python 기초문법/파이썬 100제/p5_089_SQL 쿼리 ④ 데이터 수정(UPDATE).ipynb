{
 "cells": [
  {
   "cell_type": "code",
   "execution_count": 2,
   "metadata": {},
   "outputs": [
    {
     "name": "stdout",
     "output_type": "stream",
     "text": [
      "(1, '새 제품', 7000, '/product1.html')\n"
     ]
    }
   ],
   "source": [
    "import sqlite3\n",
    "\n",
    "# DB 연결\n",
    "conn = sqlite3.connect('./output/sample.db')\n",
    "cur = conn.cursor()\n",
    "\n",
    "# Product 데이블의 id =1 인 행 레코드의 가격을 7000원으로 수정\n",
    "cur.execute('UPDATE Product set title=\"새 제품\", price = 7000 where id = 1')\n",
    "conn.commit()\n",
    "\n",
    "# 변경 내용 확인\n",
    "cur.execute('SELECT * from Product where id = 1')\n",
    "rows = cur.fetchall()\n",
    "for row in rows:\n",
    "    print(row)\n",
    "    \n",
    "# DB 연결 종료\n",
    "conn.close()"
   ]
  },
  {
   "cell_type": "code",
   "execution_count": null,
   "metadata": {},
   "outputs": [],
   "source": []
  }
 ],
 "metadata": {
  "kernelspec": {
   "display_name": "Python 3",
   "language": "python",
   "name": "python3"
  },
  "language_info": {
   "codemirror_mode": {
    "name": "ipython",
    "version": 3
   },
   "file_extension": ".py",
   "mimetype": "text/x-python",
   "name": "python",
   "nbconvert_exporter": "python",
   "pygments_lexer": "ipython3",
   "version": "3.6.5"
  }
 },
 "nbformat": 4,
 "nbformat_minor": 4
}
