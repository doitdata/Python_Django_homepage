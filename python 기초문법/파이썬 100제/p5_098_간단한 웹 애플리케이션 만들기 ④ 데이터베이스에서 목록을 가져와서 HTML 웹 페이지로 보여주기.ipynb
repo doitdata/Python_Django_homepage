{
 "cells": [
  {
   "cell_type": "code",
   "execution_count": null,
   "metadata": {},
   "outputs": [],
   "source": [
    "import sqlite3\n",
    "import os\n",
    "from flask import Flask, render_template \n",
    "\n",
    "app = Flask(__name__)\n",
    "\n",
    "# 현재 수행중인 코드를 담고 있는 파일의 위치한 Path를 알려줌\n",
    "root_dir = os.path.dirname('./') \n",
    "db = os.path.join(root_dir, 'danawa.sqlite')\n",
    "\n",
    "@app.route('/')\n",
    "def show_whishlist():\n",
    "    # 데이터베이스 연결 객체를 생성\n",
    "    with sqlite3.connect(db) as conn:\n",
    "        # 커서 객체(cur)를 생성하고, 데이터를 가져오고 SQL 쿼리를 실행\n",
    "        cur = conn.cursor()\n",
    "        # id 값을 기준으로 내림차순으로 정렬\n",
    "        cur.execute('SELECT title, price, link from Product order by id desc')\n",
    "        # 앞에서 커서 객체로 부터 추출한 데이터를 가져와서 items라는 변수에 저장\n",
    "        items = cur.fetchall()\n",
    "        # Flask는 HTML 템플릿을 사용하여 웹 페이지에 출력하는 형식을 지정\n",
    "        # render_template() 명령은 templates 폴더에 위치하는 HTML 템플릿 파일을 화면에 출력\n",
    "        return render_template('my_app.html', items=items)\n",
    "\n",
    "if __name__ == '__main__':\n",
    "    app.run(debug=True, use_reloader=False)"
   ]
  },
  {
   "cell_type": "code",
   "execution_count": null,
   "metadata": {},
   "outputs": [],
   "source": []
  }
 ],
 "metadata": {
  "kernelspec": {
   "display_name": "Python 3",
   "language": "python",
   "name": "python3"
  },
  "language_info": {
   "codemirror_mode": {
    "name": "ipython",
    "version": 3
   },
   "file_extension": ".py",
   "mimetype": "text/x-python",
   "name": "python",
   "nbconvert_exporter": "python",
   "pygments_lexer": "ipython3",
   "version": "3.6.5"
  }
 },
 "nbformat": 4,
 "nbformat_minor": 4
}
