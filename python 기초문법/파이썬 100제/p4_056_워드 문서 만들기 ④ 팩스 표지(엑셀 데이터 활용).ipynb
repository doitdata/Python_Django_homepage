{
 "cells": [
  {
   "cell_type": "code",
   "execution_count": 3,
   "metadata": {},
   "outputs": [],
   "source": [
    "from mailmerge import MailMerge\n",
    "import os\n",
    "from datetime import datetime as dt\n",
    "import pandas as pd\n",
    "\n",
    "# MS Word 템플릿 파일 불러오기\n",
    "cwd = os.getcwd()\n",
    "template_filename = 'fax_cover_template.docx'\n",
    "template_filepath = os.path.join(cwd, 'data', template_filename)\n",
    "\n",
    "# 템플릿 파일로 메일 머지 객체 만들기\n",
    "document = MailMerge(template_filepath)\n",
    "\n",
    "# 수신자 정보 불러오기 -MS Excel 파일\n",
    "respondents_filename = 'fax_respondents_list.xlsx'\n",
    "respondents_filepath = os.path.join(cwd, 'data', respondents_filename)\n",
    "\n",
    "respondents = pd.read_excel(respondents_filepath) # 판다스 dataframe 변환\n",
    "\n",
    "respondents_list = []\n",
    "today = '%s년 %s월 %s일' % (dt.now().year, dt.now().month, dt.now().day)\n",
    "\n",
    "for index in respondents.index:\n",
    "    new_respondent = {}\n",
    "    new_respondent['name'] = respondents.loc[index, 'name']\n",
    "    new_respondent['fax'] = respondents.loc[index, 'fax']\n",
    "    new_respondent['phone'] = respondents.loc[index, 'phone']\n",
    "    new_respondent['date'] = today\n",
    "    new_respondent['title'] = respondents.loc[index, 'title']\n",
    "    new_respondent['memo'] = respondents.loc[index, 'memo']\n",
    "    respondents_list.append(new_respondent)\n",
    "    \n",
    "# 수신자 리스트를 메일머지 객체에 전달\n",
    "document.merge_templates(respondents_list, separator = 'page_break')\n",
    "\n",
    "# 메일머지 객체를 MS Word 문서로 저장하기\n",
    "output_filepath = os.path.join(cwd, 'output', 'fax_cover_output_multi_pages_excel_data.docx')\n",
    "document.write(output_filepath)"
   ]
  },
  {
   "cell_type": "code",
   "execution_count": null,
   "metadata": {},
   "outputs": [],
   "source": []
  }
 ],
 "metadata": {
  "kernelspec": {
   "display_name": "Python 3",
   "language": "python",
   "name": "python3"
  },
  "language_info": {
   "codemirror_mode": {
    "name": "ipython",
    "version": 3
   },
   "file_extension": ".py",
   "mimetype": "text/x-python",
   "name": "python",
   "nbconvert_exporter": "python",
   "pygments_lexer": "ipython3",
   "version": "3.6.5"
  }
 },
 "nbformat": 4,
 "nbformat_minor": 4
}
