{
 "cells": [
  {
   "cell_type": "code",
   "execution_count": 5,
   "metadata": {},
   "outputs": [
    {
     "name": "stdout",
     "output_type": "stream",
     "text": [
      "['.ipynb_checkpoints', 'account.json', 'chromedriver.exe', 'danawa.sqlite', 'data']\n"
     ]
    }
   ],
   "source": [
    "# 예제 13번에서 수집한 다나와 관심상품 목록을 웹 페이지에 보여주는 애플리케이션을 만들기 위해 데이터 베이스 구조를 먼저 정의 \n",
    "# SQLlite를 이용하여 데이터베이스 파일을 생성하고 상품 정보를 담는 테이블을 추가\n",
    "\n",
    "import os\n",
    "import sqlite3\n",
    "\n",
    "# sqlite 데이터 베이스 스키마 정의\n",
    "app_root = os.getcwd()\n",
    "# sqlite3의 connect() 함수를 이용하여 현재 디렉터리 app_root에 danawa.sqlite라는 db에 연결하고 연격객체 conn 생성\n",
    "conn = sqlite3.connect(os.path.join(app_root, 'danawa.sqlite'))\n",
    "\n",
    "# 데이터 베이스에 sql 쿼리를 보내거나 받을 수 있는 커서 객체를 생성\n",
    "cur = conn.cursor()\n",
    "\n",
    "# SQL 쿼리를 작성\n",
    "sql = '''\n",
    "CREATE TABLE Product (\n",
    "id integer primary key autoincrement,\n",
    "title text not null,\n",
    "price integer,\n",
    "link text)\n",
    "'''\n",
    "\n",
    "# 커서 객체에 excute() 메소드를 적용하여 sql 쿼리를 데이터베이스에서 실행\n",
    "cur.execute(sql)\n",
    "# 데이터 베이스 연결 객체 conn에 commit() 메소드를 적용하면 sql 쿼리에 따른 변경사항을 데이터베이스에 최종 반영\n",
    "conn.commit()\n",
    "# 데이터 베이스 연결을 종료\n",
    "conn.close()\n",
    "\n",
    "file_list = os.listdir(app_root)\n",
    "print(file_list[:5])"
   ]
  },
  {
   "cell_type": "code",
   "execution_count": null,
   "metadata": {},
   "outputs": [],
   "source": []
  }
 ],
 "metadata": {
  "kernelspec": {
   "display_name": "Python 3",
   "language": "python",
   "name": "python3"
  },
  "language_info": {
   "codemirror_mode": {
    "name": "ipython",
    "version": 3
   },
   "file_extension": ".py",
   "mimetype": "text/x-python",
   "name": "python",
   "nbconvert_exporter": "python",
   "pygments_lexer": "ipython3",
   "version": "3.6.5"
  }
 },
 "nbformat": 4,
 "nbformat_minor": 4
}
