{
 "cells": [
  {
   "cell_type": "code",
   "execution_count": 1,
   "metadata": {},
   "outputs": [
    {
     "name": "stdout",
     "output_type": "stream",
     "text": [
      "OK \n",
      "\n",
      "[b'(\\\\HasNoChildren) \"/\" \"INBOX\"', b'(\\\\HasChildren \\\\Noselect) \"/\" \"[Gmail]\"', b'(\\\\Flagged \\\\HasNoChildren) \"/\" \"[Gmail]/&vMTUXNO4ycDVaA-\"', b'(\\\\HasNoChildren \\\\Sent) \"/\" \"[Gmail]/&vPSwuNO4ycDVaA-\"', b'(\\\\HasNoChildren \\\\Junk) \"/\" \"[Gmail]/&wqTTONVo-\"', b'(\\\\Drafts \\\\HasNoChildren) \"/\" \"[Gmail]/&x4TC3Lz0rQDVaA-\"', b'(\\\\All \\\\HasNoChildren) \"/\" \"[Gmail]/&yATMtLz0rQDVaA-\"', b'(\\\\HasNoChildren \\\\Important) \"/\" \"[Gmail]/&yRHGlA-\"', b'(\\\\HasNoChildren \\\\Trash) \"/\" \"[Gmail]/&1zTJwNG1-\"'] \n",
      "\n",
      "(\\HasNoChildren) \"/\" \"INBOX\"\n",
      "(\\HasChildren \\Noselect) \"/\" \"[Gmail]\"\n",
      "(\\Flagged \\HasNoChildren) \"/\" \"[Gmail]/별표편지함\"\n",
      "(\\HasNoChildren \\Sent) \"/\" \"[Gmail]/보낸편지함\"\n",
      "(\\HasNoChildren \\Junk) \"/\" \"[Gmail]/스팸함\"\n",
      "(\\Drafts \\HasNoChildren) \"/\" \"[Gmail]/임시보관함\"\n",
      "(\\All \\HasNoChildren) \"/\" \"[Gmail]/전체보관함\"\n",
      "(\\HasNoChildren \\Important) \"/\" \"[Gmail]/중요\"\n",
      "(\\HasNoChildren \\Trash) \"/\" \"[Gmail]/휴지통\"\n",
      "\n",
      " ('OK', [b'550'])\n"
     ]
    },
    {
     "data": {
      "text/plain": [
       "('OK', [b'Returned to authenticated state. (Success)'])"
      ]
     },
     "execution_count": 1,
     "metadata": {},
     "output_type": "execute_result"
    }
   ],
   "source": [
    "import imaplib\n",
    "import imapclient\n",
    "\n",
    "# IMAP  서버 접속 - SSL 방식\n",
    "# IMAP_SSL() 함수를 사용하여 IMAP 서버 객체를 만든다. gmail의 경우 포트는 993\n",
    "imap_server = imaplib.IMAP4_SSL(host='imap.gmail.com', port='993')\n",
    "\n",
    "# 이메일 서버 로그인- 이메일 주소, 비밀번호 입력\n",
    "my_addr = 'chch4934@gmail.com'\n",
    "my_pw = 'tdgjqyogetewfsrv'\n",
    "imap_server.login(user=my_addr, password=my_pw)\n",
    "\n",
    "# 메일박스 리스트 확인\n",
    "# list() 메소드는 IMAP 서버의 편지함 목록을 가져옴\n",
    "resp_list, mailbox_list = imap_server.list()\n",
    "print(resp_list, '\\n')\n",
    "print(mailbox_list, '\\n')\n",
    "\n",
    "\n",
    "for mailbox in mailbox_list:\n",
    "    # imapclient 라이브러리의 imap_utf7 모듈으 decode() 함수를 이용하면, 메일함의 한글 이름을 디코딩 \n",
    "    print(imapclient.imap_utf7.decode(mailbox))\n",
    "    \n",
    "# 받는 편지함('INBOX') 선택\n",
    "mailbox = 'INBOX'\n",
    "mailbox_code = imap_server.select(mailbox)\n",
    "print('\\n', mailbox_code)\n",
    "\n",
    "# 이메일 서버 종료하기\n",
    "imap_server.close()"
   ]
  },
  {
   "cell_type": "code",
   "execution_count": null,
   "metadata": {},
   "outputs": [],
   "source": []
  }
 ],
 "metadata": {
  "kernelspec": {
   "display_name": "Python 3",
   "language": "python",
   "name": "python3"
  },
  "language_info": {
   "codemirror_mode": {
    "name": "ipython",
    "version": 3
   },
   "file_extension": ".py",
   "mimetype": "text/x-python",
   "name": "python",
   "nbconvert_exporter": "python",
   "pygments_lexer": "ipython3",
   "version": "3.6.5"
  }
 },
 "nbformat": 4,
 "nbformat_minor": 4
}
