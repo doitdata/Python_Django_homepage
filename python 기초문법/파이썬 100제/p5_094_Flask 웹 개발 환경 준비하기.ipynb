{
 "cells": [
  {
   "cell_type": "code",
   "execution_count": 2,
   "metadata": {},
   "outputs": [
    {
     "name": "stdout",
     "output_type": "stream",
     "text": [
      "D:\\anaconda\\python.exe\n",
      "\n",
      "\n",
      "['static', 'templates']\n"
     ]
    }
   ],
   "source": [
    "import flask\n",
    "import sys\n",
    "import os\n",
    "\n",
    "# sys 모듈을 활용해서 현재 적용 중인 가상환경의 실행파일 위치를 확인\n",
    "print(sys.executable)\n",
    "print('\\n')\n",
    "\n",
    "# 애플리케이션 디렉터리 구조 정의\n",
    "cwd = os.getcwd()\n",
    "\n",
    "app_root = os.path.join(cwd, 'my_flask_app')\n",
    "app_static = os.path.join(app_root, 'static')\n",
    "app_templates = os.path.join(app_root, 'templates')\n",
    "\n",
    "# os 모듈의 makedirs() 함수를 사용해서 앞에서 정의한 파일 경로에 해당하는 디렉터리 만듬\n",
    "os.makedirs(app_root)\n",
    "os.makedirs(app_static)\n",
    "os.makedirs(app_templates)\n",
    "\n",
    "folder_list = os.listdir(app_root)\n",
    "print(folder_list)"
   ]
  },
  {
   "cell_type": "code",
   "execution_count": null,
   "metadata": {},
   "outputs": [],
   "source": []
  }
 ],
 "metadata": {
  "kernelspec": {
   "display_name": "Python 3",
   "language": "python",
   "name": "python3"
  }
 },
 "nbformat": 4,
 "nbformat_minor": 4
}
