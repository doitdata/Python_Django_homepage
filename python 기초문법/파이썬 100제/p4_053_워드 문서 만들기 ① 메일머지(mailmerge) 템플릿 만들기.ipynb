{
 "cells": [
  {
   "cell_type": "code",
   "execution_count": 1,
   "metadata": {},
   "outputs": [
    {
     "name": "stdout",
     "output_type": "stream",
     "text": [
      "{'PHONE', 'NAME', 'ADDRESS'}\n"
     ]
    }
   ],
   "source": [
    "from mailmerge import MailMerge\n",
    "import os\n",
    "\n",
    "# MS Word 텐플핏 파일 경로 지정하기\n",
    "cwd = os.getcwd()\n",
    "template_name = 'greetings_template.docx'\n",
    "template_path = os.path.join(cwd, 'data', template_name)\n",
    "\n",
    "# 메일머지 객체 만들기\n",
    "document  = MailMerge(template_path)\n",
    "print(document.get_merge_fields())"
   ]
  },
  {
   "cell_type": "code",
   "execution_count": null,
   "metadata": {},
   "outputs": [],
   "source": []
  }
 ],
 "metadata": {
  "kernelspec": {
   "display_name": "Python 3",
   "language": "python",
   "name": "python3"
  },
  "language_info": {
   "codemirror_mode": {
    "name": "ipython",
    "version": 3
   },
   "file_extension": ".py",
   "mimetype": "text/x-python",
   "name": "python",
   "nbconvert_exporter": "python",
   "pygments_lexer": "ipython3",
   "version": "3.6.5"
  }
 },
 "nbformat": 4,
 "nbformat_minor": 4
}
