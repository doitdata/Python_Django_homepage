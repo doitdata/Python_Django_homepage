{
 "cells": [
  {
   "cell_type": "code",
   "execution_count": 6,
   "metadata": {},
   "outputs": [
    {
     "name": "stdout",
     "output_type": "stream",
     "text": [
      "[None, '매출액', '영업이익', '영업이익률', '당기순이익', '자산총계', '자본총계', '부채총계', '부채비율']\n",
      "['2014/12', 13132, 931, '7.09%', 616, 7832, 3309, 4523, '136.71%']\n",
      "['2015/12', 15865, 1424, '8.97%', 1036, 9922, 4256, 5666, '133.12%']\n",
      "['2016/12', 15477, 816, '5.27%', 460, 12707, 5636, 7071, '125.45%']\n",
      "['2017/12', 17113, 565, '3.3%', 461, 11961, 5736, 6225, '108.53%']\n"
     ]
    }
   ],
   "source": [
    "import openpyxl\n",
    "from openpyxl.chart import BarChart, Reference\n",
    "from openpyxl.utils.dataframe import dataframe_to_rows\n",
    "import os\n",
    "import pandas as pd\n",
    "\n",
    "# 차트를 그릴 데이터를 갖고 있는 외부 파일의 경로를 지정 \n",
    "cwd  = os.getcwd()\n",
    "filename = 'financials.xlsx'\n",
    "filepath =  os.path.join(cwd, 'data', filename)\n",
    "\n",
    "df = pd.read_excel(filepath, header = 0, index_col = 0)\n",
    "\n",
    "# 행과 열의 위치를 바꿔서 변수 tdf에 저장\n",
    "tdf = df.T\n",
    "\n",
    "# 시트 추가하고 삭제하기\n",
    "wb = openpyxl.Workbook()\n",
    "ws = wb.create_sheet(index=0, title='Chart')\n",
    "wb.remove(wb['Sheet'])\n",
    "\n",
    "# dataframe_to_rows() 함수는 데이터프레임의 행 단위로 반복문을 수행할 때 사용, 각 행의 값들을 chart 시트에 행 단위로 하나씩 추가\n",
    "for row in dataframe_to_rows(tdf, index=True, header=True):\n",
    "    if len(row)>1:\n",
    "        ws.append(row)\n",
    "        print(row)\n",
    "        \n",
    "# openpyxl.chart 모듈의 BarChart 객체를 생성하고, 차트에 적용할 서식을 지정\n",
    "chart = BarChart()\n",
    "# 수직 막대 그래트\n",
    "chart.type = 'col' # bar를 지정하면 수평 막대 그래프를 그림\n",
    "chart.style = 10 # 차트 스타일 지정 10, 11, 12...\n",
    "chart.title = '매출액/영업이익'\n",
    "chart.y_axis.title = '금액(억원)'\n",
    "chart.x_axis.title = '연도'\n",
    "\n",
    "# reference 클래스틑 시트에서 참조하는 셀의 영역을 지정할 때 사용\n",
    "# 막대 그래프에 표시할 데이터 범위를 지정하고 변수 data에 저장\n",
    "data = Reference(ws, min_col=2, max_col=3, min_row =1, max_row=5)\n",
    "# x축에 사용할 셀의 범위를 지정하여 cats 변수에 저장\n",
    "cats = Reference(ws, min_col=1, min_row = 2, max_row=5)\n",
    "# add_data() 메소드에 데이터 값을 전달\n",
    "chart.add_data(data, titles_from_data=True)\n",
    "# set_catrgories() 메소드에 x축 범위 값(cats)을 입력하여 x축 값을 범주로 표시\n",
    "chart.set_categories(cats)\n",
    "chart.shape = 4\n",
    "ws.add_chart(chart, 'A8')\n",
    "\n",
    "wb.save(os.path.join(os.getcwd(), 'output', 'financials_barchart.xlsx'))"
   ]
  },
  {
   "cell_type": "code",
   "execution_count": null,
   "metadata": {},
   "outputs": [],
   "source": []
  }
 ],
 "metadata": {
  "kernelspec": {
   "display_name": "Python 3",
   "language": "python",
   "name": "python3"
  },
  "language_info": {
   "codemirror_mode": {
    "name": "ipython",
    "version": 3
   },
   "file_extension": ".py",
   "mimetype": "text/x-python",
   "name": "python",
   "nbconvert_exporter": "python",
   "pygments_lexer": "ipython3",
   "version": "3.6.5"
  }
 },
 "nbformat": 4,
 "nbformat_minor": 4
}
