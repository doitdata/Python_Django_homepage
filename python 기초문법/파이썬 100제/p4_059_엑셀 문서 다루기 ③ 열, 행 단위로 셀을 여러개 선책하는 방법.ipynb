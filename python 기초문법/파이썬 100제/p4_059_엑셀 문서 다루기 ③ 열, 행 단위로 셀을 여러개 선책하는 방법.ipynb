{
 "cells": [
  {
   "cell_type": "code",
   "execution_count": 1,
   "metadata": {
    "scrolled": true
   },
   "outputs": [
    {
     "name": "stdout",
     "output_type": "stream",
     "text": [
      "(<Cell 'Sheet1'.A1>, <Cell 'Sheet1'.A2>, <Cell 'Sheet1'.A3>, <Cell 'Sheet1'.A4>)\n",
      "(<Cell 'Sheet1'.A1>, <Cell 'Sheet1'.B1>, <Cell 'Sheet1'.C1>)\n",
      "0번째 열: <Cell 'Sheet1'.A1>\n",
      "0번째 열: <Cell 'Sheet1'.A2>\n",
      "0번째 열: <Cell 'Sheet1'.A3>\n",
      "0번째 열: <Cell 'Sheet1'.A4>\n",
      "1번째 열: <Cell 'Sheet1'.B1>\n",
      "1번째 열: <Cell 'Sheet1'.B2>\n",
      "1번째 열: <Cell 'Sheet1'.B3>\n",
      "1번째 열: <Cell 'Sheet1'.B4>\n",
      "2번째 열: <Cell 'Sheet1'.C1>\n",
      "2번째 열: <Cell 'Sheet1'.C2>\n",
      "2번째 열: <Cell 'Sheet1'.C3>\n",
      "2번째 열: <Cell 'Sheet1'.C4>\n",
      "r1\n",
      "row1\n"
     ]
    }
   ],
   "source": [
    "import openpyxl\n",
    "import os\n",
    "\n",
    "# 예제 024에서 저장한 Excel 파일 경로 지장\n",
    "cwd = os.getcwd()\n",
    "filename = 'df.xlsx'\n",
    "filepath = os.path.join(cwd, 'output', filename)\n",
    "\n",
    "wb = openpyxl.load_workbook(filepath)\n",
    "ws = wb['Sheet1']\n",
    "\n",
    "# 열(columns), 행(rows) 객체\n",
    "cols = tuple(ws.columns)\n",
    "rows = tuple(ws.rows)\n",
    "\n",
    "print(cols[0])\n",
    "print(rows[0])\n",
    "\n",
    "for col_idx, col in enumerate(cols):\n",
    "    for each_cell in col:\n",
    "        print('%s번째 열: %s' % (col_idx, each_cell))\n",
    "\n",
    "a3 = cols[0][2]\n",
    "print(a3.value)\n",
    "\n",
    "# 값\n",
    "a3.value = 'row1'\n",
    "print(a3.value)\n",
    "\n",
    "# 워크북의 변경내용을 새로운 파일에 저장\n",
    "wb.save(os.path.join(cwd, 'output', 'df3.xlsx' ))"
   ]
  },
  {
   "cell_type": "code",
   "execution_count": null,
   "metadata": {},
   "outputs": [],
   "source": []
  }
 ],
 "metadata": {
  "kernelspec": {
   "display_name": "Python 3",
   "language": "python",
   "name": "python3"
  },
  "language_info": {
   "codemirror_mode": {
    "name": "ipython",
    "version": 3
   },
   "file_extension": ".py",
   "mimetype": "text/x-python",
   "name": "python",
   "nbconvert_exporter": "python",
   "pygments_lexer": "ipython3",
   "version": "3.6.5"
  }
 },
 "nbformat": 4,
 "nbformat_minor": 4
}
