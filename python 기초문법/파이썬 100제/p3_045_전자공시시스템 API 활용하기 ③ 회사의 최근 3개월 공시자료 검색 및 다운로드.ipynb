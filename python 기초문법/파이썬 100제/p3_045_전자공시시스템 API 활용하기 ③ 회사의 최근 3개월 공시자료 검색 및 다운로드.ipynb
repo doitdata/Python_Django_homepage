{
 "cells": [
  {
   "cell_type": "code",
   "execution_count": 5,
   "metadata": {},
   "outputs": [
    {
     "name": "stdout",
     "output_type": "stream",
     "text": [
      "<?xml version=\"1.0\" encoding=\"UTF-8\" standalone=\"yes\"?><result><status>000</status><message>정상</message><page_no>1</page_no><page_count>10</page_count><total_count>26</total_count><total_page>3</total_page><list><corp_code>00126380</corp_code><corp_name>삼성전자</corp_name><stock_code>005930</stock_code><corp_cls>Y</corp_cls><report_nm>임원ㆍ주요주주특정증권등소유상황보고서</report_nm><rcept_no>20210507000833</rcept_no><flr_nm>노태문</flr_nm><rcept_dt>20210507</rcept_dt><rm></rm></list><list><corp_code>00126380</corp_cod\n",
      "10\n",
      "  corp_code corp_name stock_code stock_code            report_nm  \\\n",
      "0  00126380      삼성전자     005930     005930  임원ㆍ주요주주특정증권등소유상황보고서   \n",
      "0  00126380      삼성전자     005930     005930       최대주주등소유주식변동신고서   \n",
      "0  00126380      삼성전자     005930     005930    주식등의대량보유상황보고서(일반)   \n",
      "0  00126380      삼성전자     005930     005930  임원ㆍ주요주주특정증권등소유상황보고서   \n",
      "0  00126380      삼성전자     005930     005930  임원ㆍ주요주주특정증권등소유상황보고서   \n",
      "0  00126380      삼성전자     005930     005930  임원ㆍ주요주주특정증권등소유상황보고서   \n",
      "0  00126380      삼성전자     005930     005930    주식등의대량보유상황보고서(약식)   \n",
      "0  00126380      삼성전자     005930     005930  임원ㆍ주요주주특정증권등소유상황보고서   \n",
      "0  00126380      삼성전자     005930     005930  임원ㆍ주요주주특정증권등소유상황보고서   \n",
      "0  00126380      삼성전자     005930     005930    주식등의대량보유상황보고서(일반)   \n",
      "\n",
      "         rcept_no  flr_nm  rcept_dt corp_code  \n",
      "0  20210507000833     노태문  20210507  00126380  \n",
      "0  20210507800674    삼성전자  20210507  00126380  \n",
      "0  20210507000809    삼성물산  20210507  00126380  \n",
      "0  20210507000808     최윤호  20210507  00126380  \n",
      "0  20210507000026     조필주  20210507  00126380  \n",
      "0  20210504000590     오문욱  20210504  00126380  \n",
      "0  20210504000163  국민연금공단  20210504  00126380  \n",
      "0  20210503000533     이재용  20210503  00126380  \n",
      "0  20210503000523     이건희  20210503  00126380  \n",
      "0  20210503000505    삼성물산  20210503  00126380  \n"
     ]
    }
   ],
   "source": [
    "import requests\n",
    "from bs4 import BeautifulSoup\n",
    "import pandas as pd\n",
    "import datetime as dt\n",
    "\n",
    "\n",
    "# DART 전자공시 사이트 API 인증키 입렵\n",
    "crtfc_key = '948a8f74d423b596ed0998d09243d0b55784602e'\n",
    "\n",
    "# 검색기간 설정하기\n",
    "now = dt.datetime.now()\n",
    "search_period = dt.timedelta(days=30)\n",
    "now_date = now.strftime('%Y%m%d')\n",
    "bgn_de = (now-search_period).strftime('%Y%m%d') # 시작일\n",
    "page_no = 1 # 페이지번호\n",
    "page_count = 10 # 페이지별 건수\n",
    "\n",
    "# DART 상세정보 접속 UTL\n",
    "corp_code = \"00126380\"\n",
    "url = \"https://opendart.fss.or.kr/api/list.xml?crtfc_key=\"+crtfc_key+\"&corp_code=\"+corp_code+\"&page_no=\"+str(page_no)+\"&bgn_de=\"+bgn_de+'&page_count='+str(page_count) \n",
    "\n",
    "# BeautifulSoup으로 API가 반환하는 XML 해석하여 dataframe으로 정리\n",
    "xml = requests.get(url)\n",
    "soup = BeautifulSoup(xml.text, 'html.parser')\n",
    "print(str(soup)[:500])\n",
    "\n",
    "search_result = pd.DataFrame()\n",
    "items = soup.find_all('list')\n",
    "print(len(items))\n",
    "\n",
    "for item in items:\n",
    "    temp_dataframe = pd.DataFrame(([[\n",
    "        item.corp_code.text, item.corp_name.text, item.stock_code.text,\n",
    "        item.stock_code.text, item.report_nm.text, item.rcept_no.text, \n",
    "        item.flr_nm.text, item.rcept_dt.text, item.corp_code.text]]),\n",
    "    columns = ['corp_code', 'corp_name', 'stock_code',\n",
    "               'stock_code', 'report_nm', 'rcept_no',\n",
    "              'flr_nm', 'rcept_dt', 'corp_code'])\n",
    "    search_result = pd.concat([search_result, temp_dataframe])\n",
    "    \n",
    "print(search_result)"
   ]
  },
  {
   "cell_type": "code",
   "execution_count": null,
   "metadata": {},
   "outputs": [],
   "source": []
  }
 ],
 "metadata": {
  "kernelspec": {
   "display_name": "Python 3",
   "language": "python",
   "name": "python3"
  },
  "language_info": {
   "codemirror_mode": {
    "name": "ipython",
    "version": 3
   },
   "file_extension": ".py",
   "mimetype": "text/x-python",
   "name": "python",
   "nbconvert_exporter": "python",
   "pygments_lexer": "ipython3",
   "version": "3.6.5"
  }
 },
 "nbformat": 4,
 "nbformat_minor": 4
}
