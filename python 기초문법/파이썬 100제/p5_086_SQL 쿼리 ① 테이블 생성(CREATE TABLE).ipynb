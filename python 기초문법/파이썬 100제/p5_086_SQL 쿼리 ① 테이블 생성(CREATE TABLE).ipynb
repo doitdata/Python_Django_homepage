{
 "cells": [
  {
   "cell_type": "code",
   "execution_count": 1,
   "metadata": {},
   "outputs": [
    {
     "ename": "OperationalError",
     "evalue": "table Product already exists",
     "output_type": "error",
     "traceback": [
      "\u001b[1;31m---------------------------------------------------------------------------\u001b[0m",
      "\u001b[1;31mOperationalError\u001b[0m                          Traceback (most recent call last)",
      "\u001b[1;32m<ipython-input-1-67eccb9ea4b8>\u001b[0m in \u001b[0;36m<module>\u001b[1;34m\u001b[0m\n\u001b[0;32m     14\u001b[0m '''\n\u001b[0;32m     15\u001b[0m \u001b[1;33m\u001b[0m\u001b[0m\n\u001b[1;32m---> 16\u001b[1;33m \u001b[0mcur\u001b[0m\u001b[1;33m.\u001b[0m\u001b[0mexecute\u001b[0m\u001b[1;33m(\u001b[0m\u001b[0msql\u001b[0m\u001b[1;33m)\u001b[0m\u001b[1;33m\u001b[0m\u001b[0m\n\u001b[0m\u001b[0;32m     17\u001b[0m \u001b[1;33m\u001b[0m\u001b[0m\n\u001b[0;32m     18\u001b[0m \u001b[1;31m# DB 변경사항 저장\u001b[0m\u001b[1;33m\u001b[0m\u001b[1;33m\u001b[0m\u001b[0m\n",
      "\u001b[1;31mOperationalError\u001b[0m: table Product already exists"
     ]
    }
   ],
   "source": [
    "import sqlite3\n",
    "\n",
    "# DB 연결\n",
    "conn = sqlite3.connect('./output/sample.db')\n",
    "cur = conn.cursor()\n",
    "\n",
    "# Cursor를 통해 SQL 쿼리 실행\n",
    "# CREATE TABLE Product 명령은 Product하는 이름을 갖는 테이블을 생성한다는 뜻\n",
    "sql = '''\n",
    "CREATE TABLE Product (\n",
    "id integer primary key autoincrement,\n",
    "title text not null,\n",
    "price integer,\n",
    "link text)\n",
    "'''\n",
    "\n",
    "# excute() 메소드를 적용하여 sql 쿼리를 데이터베이스 연결 객체로 전달\n",
    "cur.execute(sql)\n",
    "\n",
    "# DB 변경사항 저장\n",
    "conn.commit()\n",
    "\n",
    "# DB 연결 종료\n",
    "conn.close()"
   ]
  },
  {
   "cell_type": "code",
   "execution_count": null,
   "metadata": {},
   "outputs": [],
   "source": []
  },
  {
   "cell_type": "code",
   "execution_count": null,
   "metadata": {},
   "outputs": [],
   "source": []
  }
 ],
 "metadata": {
  "kernelspec": {
   "display_name": "Python 3",
   "language": "python",
   "name": "python3"
  },
  "language_info": {
   "codemirror_mode": {
    "name": "ipython",
    "version": 3
   },
   "file_extension": ".py",
   "mimetype": "text/x-python",
   "name": "python",
   "nbconvert_exporter": "python",
   "pygments_lexer": "ipython3",
   "version": "3.6.5"
  }
 },
 "nbformat": 4,
 "nbformat_minor": 4
}
