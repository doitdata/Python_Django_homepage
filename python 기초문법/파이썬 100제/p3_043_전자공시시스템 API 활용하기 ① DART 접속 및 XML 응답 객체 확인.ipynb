{
 "cells": [
  {
   "cell_type": "code",
   "execution_count": 13,
   "metadata": {},
   "outputs": [
    {
     "name": "stdout",
     "output_type": "stream",
     "text": [
      "<?xml version=\"1.0\" encoding=\"UTF-8\" standalone=\"yes\"?><result><status>000</status><message>정상</message><corp_code>00126380</corp_code><corp_name>삼성전자(주)</corp_name><corp_name_eng>SAMSUNG ELECTRONICS CO,.LTD</corp_name_eng><stock_name>삼성전자</stock_name><stock_code>005930</stock_code><ceo_nm>김기남, 김현석, 고동진</ceo_nm><corp_cls>Y</corp_cls><jurir_no>1301110006246</jurir_no><bizr_no>1248100998</bizr_no><adres>경기도 수원시 영통구  삼성로 129 (매탄동)</adres><hm_url>www.sec.co.kr</hm_url><ir_url></ir_url><phn_no>031-200-1114</phn_no><fax_no>031-200-7538</fax_no><induty_code>264</induty_code><est_dt>19690113</est_dt><acc_mt>12</acc_mt></result>\n"
     ]
    }
   ],
   "source": [
    "import requests\n",
    "from bs4 import BeautifulSoup\n",
    "\n",
    "# DART 전자공시 사이트 APT 인증키 입력\n",
    "crtfc_key = '948a8f74d423b596ed0998d09243d0b55784602e'\n",
    "\n",
    "# 기업개황 정보 접속 URL\n",
    "corp_code = \"00126380\"\n",
    "url = \"https://opendart.fss.or.kr/api/company.xml?crtfc_key=\"+crtfc_key+\"&corp_code=\"+corp_code\n",
    "\n",
    "# BeautifulSoup으로 API가 반환하는 XML 확인\n",
    "xml = requests.get(url)\n",
    "soup = BeautifulSoup(xml.text, 'html.parser')  \n",
    "print(soup)"
   ]
  },
  {
   "cell_type": "code",
   "execution_count": null,
   "metadata": {},
   "outputs": [],
   "source": []
  }
 ],
 "metadata": {
  "kernelspec": {
   "display_name": "Python 3",
   "language": "python",
   "name": "python3"
  },
  "language_info": {
   "codemirror_mode": {
    "name": "ipython",
    "version": 3
   },
   "file_extension": ".py",
   "mimetype": "text/x-python",
   "name": "python",
   "nbconvert_exporter": "python",
   "pygments_lexer": "ipython3",
   "version": "3.6.5"
  }
 },
 "nbformat": 4,
 "nbformat_minor": 4
}
