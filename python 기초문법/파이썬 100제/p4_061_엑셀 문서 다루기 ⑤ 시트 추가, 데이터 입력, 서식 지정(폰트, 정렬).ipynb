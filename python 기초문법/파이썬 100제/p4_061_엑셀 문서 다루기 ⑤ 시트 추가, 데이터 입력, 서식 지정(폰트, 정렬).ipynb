{
 "cells": [
  {
   "cell_type": "code",
   "execution_count": 3,
   "metadata": {},
   "outputs": [
    {
     "name": "stdout",
     "output_type": "stream",
     "text": [
      "['Column', 'Sheet']\n",
      "['Column']\n",
      "['Column', 'Row']\n",
      "(<Cell 'Column'.A1>, <Cell 'Column'.A2>, <Cell 'Column'.A3>)\n",
      "(<Cell 'Column'.B1>, <Cell 'Column'.B2>, <Cell 'Column'.B3>)\n",
      "(<Cell 'Column'.C1>, <Cell 'Column'.C2>, <Cell 'Column'.C3>)\n",
      "(<Cell 'Column'.D1>, <Cell 'Column'.D2>, <Cell 'Column'.D3>)\n",
      "(<Cell 'Column'.E1>, <Cell 'Column'.E2>, <Cell 'Column'.E3>)\n",
      "(<Cell 'Column'.F1>, <Cell 'Column'.F2>, <Cell 'Column'.F3>)\n",
      "(<Cell 'Row'.A1>, <Cell 'Row'.B1>, <Cell 'Row'.C1>)\n",
      "(<Cell 'Row'.A2>, <Cell 'Row'.B2>, <Cell 'Row'.C2>)\n",
      "(<Cell 'Row'.A3>, <Cell 'Row'.B3>, <Cell 'Row'.C3>)\n",
      "(<Cell 'Row'.A4>, <Cell 'Row'.B4>, <Cell 'Row'.C4>)\n",
      "(<Cell 'Row'.A5>, <Cell 'Row'.B5>, <Cell 'Row'.C5>)\n",
      "(<Cell 'Row'.A6>, <Cell 'Row'.B6>, <Cell 'Row'.C6>)\n"
     ]
    }
   ],
   "source": [
    "import openpyxl\n",
    "import openpyxl.utils.cell as ut_cell\n",
    "from openpyxl.styles import Alignment, Font\n",
    "import os\n",
    "\n",
    "# 워크북(Workbook) 객체 만들기\n",
    "wb = openpyxl.Workbook()\n",
    "\n",
    "# create_sheet() 메소드를 워크북 객체에 적용하여 새로운 시트를 추가\n",
    "# 시트 (Sheet) 객체 만들기\n",
    "ws1 = wb.create_sheet(index=0, title='Column') # index = 0은 시트 중에서 가장 앞에 위치 시킨다는 의미 \n",
    "print(wb.sheetnames)\n",
    "\n",
    "# remove() 메소드를 사용하여 sheet 객체를 제거\n",
    "wb.remove(wb['Sheet']) \n",
    "print(wb.sheetnames)\n",
    "ws2 = wb.create_sheet(index=1, title = 'Row')\n",
    "print(wb.sheetnames)\n",
    "\n",
    "# iter_cols() 메소드는 시트 객체에 들어 있는 각 셀을 열 단위로 반복할 때 사용\n",
    "for col in ws1.iter_cols(min_row=1, min_col=1, max_row=3, max_col=6):\n",
    "    print(col)\n",
    "    for each_cell in col:\n",
    "        each_cell.value = ut_cell.get_column_letter(each_cell.column)\n",
    "        \n",
    "        # Alignment() 명령을 사용하여, 수평 및 수직 정렬을 처리\n",
    "        each_cell.alignment = Alignment(horizontal='right', vertical='center')\n",
    "        each_cell.font = Font(bold=True, name = 'Arial', size = 12, underline = 'single', color = '1bb638')\n",
    "        \n",
    "# iter_rows() 메소드는 시트 객체에 들어 있는 각 셀을 행 단위로 반복할 때 사용\n",
    "for row in ws2.iter_rows(min_row=1, min_col=1, max_row =6, max_col=3):\n",
    "    print(row)\n",
    "    for each_cell in row:\n",
    "        each_cell.value = each_cell.row\n",
    "        each_cell.alignment = Alignment(horizontal='center', vertical='center')\n",
    "        # Font() 명령을 사용하요 폰트 서식을 지정, 여기서는 기울임꼴, 글꼴, 크기, 글꼭 색\n",
    "        each_cell.font = Font(italic=True, name='Consoras', size= 10, color ='ff0000')\n",
    "        \n",
    "\n",
    "# 워크북의 변경내용을 새로운 파일에 저장\n",
    "wb.save(os.path.join(os.getcwd(), 'output', 'create_workbook2.xlsx'))"
   ]
  },
  {
   "cell_type": "code",
   "execution_count": null,
   "metadata": {},
   "outputs": [],
   "source": []
  }
 ],
 "metadata": {
  "kernelspec": {
   "display_name": "Python 3",
   "language": "python",
   "name": "python3"
  },
  "language_info": {
   "codemirror_mode": {
    "name": "ipython",
    "version": 3
   },
   "file_extension": ".py",
   "mimetype": "text/x-python",
   "name": "python",
   "nbconvert_exporter": "python",
   "pygments_lexer": "ipython3",
   "version": "3.6.5"
  }
 },
 "nbformat": 4,
 "nbformat_minor": 4
}
