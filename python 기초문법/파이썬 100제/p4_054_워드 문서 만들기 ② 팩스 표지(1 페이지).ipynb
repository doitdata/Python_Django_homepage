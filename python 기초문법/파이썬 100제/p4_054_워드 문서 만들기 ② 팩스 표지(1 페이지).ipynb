{
 "cells": [
  {
   "cell_type": "code",
   "execution_count": 4,
   "metadata": {},
   "outputs": [],
   "source": [
    "from mailmerge import MailMerge\n",
    "import os\n",
    "from datetime import datetime as dt\n",
    "\n",
    "# MS Word 템플릿 파일 불러오기\n",
    "cwd = os.getcwd()\n",
    "template_filename = 'fax_cover_template.docx'\n",
    "template_filepath = os.path.join(cwd, './data', template_filename)\n",
    "\n",
    "# 템플릿 파일로 메일머지 객체 만들기\n",
    "document = MailMerge(template_filepath)\n",
    "\n",
    "# 수신자 정보 입력하고, 메일머지 객체에 전달하기\n",
    "document.merge(\n",
    "        name = '오세훈',\n",
    "        fax = '032-1253-8253',\n",
    "        phone = '031-1253-8253',\n",
    "        date = '%s년 %s월 %s일' % (dt.now().year, dt.now().month, dt.now().day),\n",
    "        title = '세금계산서 재발행 요청의 건',\n",
    "        memo = '2020년 8월분'\n",
    ")\n",
    "\n",
    "# 메일머지 객체를 MS Word 문서로 저장하기\n",
    "output_filepath = os.path.join(cwd, 'output', 'fax_cover_output.docx')\n",
    "document.write(output_filepath)"
   ]
  },
  {
   "cell_type": "code",
   "execution_count": null,
   "metadata": {},
   "outputs": [],
   "source": []
  }
 ],
 "metadata": {
  "kernelspec": {
   "display_name": "Python 3",
   "language": "python",
   "name": "python3"
  },
  "language_info": {
   "codemirror_mode": {
    "name": "ipython",
    "version": 3
   },
   "file_extension": ".py",
   "mimetype": "text/x-python",
   "name": "python",
   "nbconvert_exporter": "python",
   "pygments_lexer": "ipython3",
   "version": "3.6.5"
  }
 },
 "nbformat": 4,
 "nbformat_minor": 4
}
