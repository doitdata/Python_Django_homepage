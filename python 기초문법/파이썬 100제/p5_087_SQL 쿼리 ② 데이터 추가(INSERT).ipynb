{
 "cells": [
  {
   "cell_type": "code",
   "execution_count": 1,
   "metadata": {},
   "outputs": [],
   "source": [
    "import sqlite3\n",
    "\n",
    "# DB 연결\n",
    "conn = sqlite3.connect('./output/sample.db')\n",
    "cur = conn.cursor()\n",
    "   \n",
    "# 방법 1 - 각 행의 레코드를 SQL 쿼리에 직접 입력\n",
    "sqls = [\n",
    "'''\n",
    "INSERT INTO Product (id, title, price, link)\n",
    "VALUES (1, '제품 1', 1000, '/product1.html')\n",
    "''',\n",
    "\n",
    "'''\n",
    "INSERT INTO Product (id, title, price, link)\n",
    "VALUES (2, '제품 2', 5000, '/product2.html')\n",
    "''',\n",
    "\n",
    "]\n",
    "\n",
    "for sql in sqls:\n",
    "    cur.execute(sql)\n",
    "\n",
    "\n",
    "# 방법 2 - ? Placeholder를 활용\n",
    "# insert 문의 values 값이 들어가야하는 자리에 ''?'' placehoder를 입력\n",
    "\n",
    "sql = '''\n",
    "INSERT INTO Product (title, price, link) VALUES (?, ?, ?)\n",
    "'''\n",
    "\n",
    "# ''?'' placehoder에 들어갈 값들을 튜플 형태로 정리하여 excute() 메소드에 전달\n",
    "cur.execute(sql, ('제품 3', 3000, '/product3.html'))\n",
    "\n",
    "\n",
    "# 방법 3 - executemany 메소드로 여러 개의 행 레코드를 한번에 입력  \n",
    "sql_m = '''\n",
    "INSERT INTO Product (title, price, link) VALUES (?, ?, ?)\n",
    "'''\n",
    "\n",
    "records = (\n",
    "        ('제품 4', 2000, '/product4.html'),\n",
    "        ('제품 5', 2000, '/product5.html'),\n",
    "        )\n",
    "\n",
    "cur.executemany(sql_m, records)\n",
    "\n",
    "# DB 변경사항 저장\n",
    "conn.commit()\n",
    "\n",
    "# DB 연결 종료\n",
    "conn.close()\n"
   ]
  },
  {
   "cell_type": "code",
   "execution_count": null,
   "metadata": {},
   "outputs": [],
   "source": []
  }
 ],
 "metadata": {
  "kernelspec": {
   "display_name": "Python 3",
   "language": "python",
   "name": "python3"
  },
  "language_info": {
   "codemirror_mode": {
    "name": "ipython",
    "version": 3
   },
   "file_extension": ".py",
   "mimetype": "text/x-python",
   "name": "python",
   "nbconvert_exporter": "python",
   "pygments_lexer": "ipython3",
   "version": "3.6.5"
  }
 },
 "nbformat": 4,
 "nbformat_minor": 4
}
