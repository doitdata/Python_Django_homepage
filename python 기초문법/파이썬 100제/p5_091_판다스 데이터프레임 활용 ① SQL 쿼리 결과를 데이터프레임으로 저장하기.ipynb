{
 "cells": [
  {
   "cell_type": "code",
   "execution_count": 2,
   "metadata": {},
   "outputs": [
    {
     "name": "stdout",
     "output_type": "stream",
     "text": [
      "   id title  price            link\n",
      "0   2  제품 2   5000  /product2.html\n",
      "1   3  제품 3   3000  /product3.html\n",
      "2   4  제품 4   2000  /product4.html\n"
     ]
    }
   ],
   "source": [
    "import sqlite3\n",
    "import pandas as pd\n",
    "\n",
    "# DB연결\n",
    "conn = sqlite3.connect('./output/sample.db')\n",
    "\n",
    "# SQL 쿼리를 이용하여 데이터프레임으로 저장\n",
    "sql = 'SELECT * from Product limit 3'\n",
    "# 판다스의read_sql_query() 함수에 앞에서 작성한 sql 쿼리 구문과 데이터 베이스 연결 객체를 입력\n",
    "df = pd.read_sql_query(sql, conn)\n",
    "print(df)\n",
    "\n",
    "# DB 종료\n",
    "conn.close()"
   ]
  },
  {
   "cell_type": "code",
   "execution_count": null,
   "metadata": {},
   "outputs": [],
   "source": []
  }
 ],
 "metadata": {
  "kernelspec": {
   "display_name": "Python 3",
   "language": "python",
   "name": "python3"
  },
  "language_info": {
   "codemirror_mode": {
    "name": "ipython",
    "version": 3
   },
   "file_extension": ".py",
   "mimetype": "text/x-python",
   "name": "python",
   "nbconvert_exporter": "python",
   "pygments_lexer": "ipython3",
   "version": "3.6.5"
  }
 },
 "nbformat": 4,
 "nbformat_minor": 4
}
