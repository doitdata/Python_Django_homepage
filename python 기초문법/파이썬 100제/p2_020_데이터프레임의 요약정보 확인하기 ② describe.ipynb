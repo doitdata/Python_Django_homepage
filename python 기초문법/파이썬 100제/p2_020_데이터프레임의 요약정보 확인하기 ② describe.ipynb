{
 "cells": [
  {
   "cell_type": "code",
   "execution_count": 2,
   "metadata": {},
   "outputs": [
    {
     "name": "stdout",
     "output_type": "stream",
     "text": [
      "                  0\n",
      "0  2013. 2.72 -0.58\n",
      "1  2014. 2.49 -0.23\n",
      "2  2015. 1.76 -0.73\n",
      "3  2016. 1.49 -0.27\n",
      "4  2017. 1.44 -0.05\n",
      "\n",
      "\n",
      "                            0\n",
      "count                      20\n",
      "unique                     20\n",
      "top     2020.8.13. 0.67 -0.03\n",
      "freq                        1\n"
     ]
    }
   ],
   "source": [
    "import pandas as pd\n",
    "\n",
    "# 예제 019의 csv 파일을 다시 활용하여, 데이터 프레임으로 변환\n",
    "df = pd.read_csv('./data/bok_statistics_CD.csv', header = None ) # header =None 옵션\n",
    "\n",
    "print(df.head())\n",
    "print('\\n')\n",
    "print(df.describe())"
   ]
  },
  {
   "cell_type": "code",
   "execution_count": null,
   "metadata": {},
   "outputs": [],
   "source": []
  }
 ],
 "metadata": {
  "kernelspec": {
   "display_name": "Python 3",
   "language": "python",
   "name": "python3"
  },
  "language_info": {
   "codemirror_mode": {
    "name": "ipython",
    "version": 3
   },
   "file_extension": ".py",
   "mimetype": "text/x-python",
   "name": "python",
   "nbconvert_exporter": "python",
   "pygments_lexer": "ipython3",
   "version": "3.6.5"
  }
 },
 "nbformat": 4,
 "nbformat_minor": 4
}
