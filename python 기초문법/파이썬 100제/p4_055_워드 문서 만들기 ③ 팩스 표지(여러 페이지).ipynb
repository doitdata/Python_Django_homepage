{
 "cells": [
  {
   "cell_type": "code",
   "execution_count": 6,
   "metadata": {},
   "outputs": [],
   "source": [
    "from mailmerge import MailMerge\n",
    "import os\n",
    "from datetime import datetime as dt\n",
    "\n",
    "# MS Word 템플릿 파일 불러오기\n",
    "cwd = os.getcwd()\n",
    "template_filename = 'fax_cover_template.docx'\n",
    "template_filepath = os.path.join(cwd, 'data', template_filename)\n",
    "\n",
    "# 템플릿 파일로 메일 머지 객체 만들기\n",
    "document = MailMerge(template_filepath)\n",
    "\n",
    "# 수신자 정보 입력 - 딕셔너리 형태\n",
    "respondent1 = {\n",
    "    'name' : '안소희',\n",
    "    'fax' : '031-062-0627',\n",
    "    'phone' : '010-092-0627',\n",
    "    'date' : '%s년 %s월 %s일' % (dt.now().year, dt.now().month, dt.now().day ),\n",
    "    'title' : '내가제일좋아하는소희야',\n",
    "    'memo' : '넌 좋아한지 10년이 넘었다.'\n",
    "    \n",
    "}\n",
    "\n",
    "respondent2 = {\n",
    "    'name' : '오세훈',\n",
    "    'fax' : '031-094-0627',\n",
    "    'phone' : '010-094-0627',\n",
    "    'date' : '%s년 %s월 %s일' % (dt.now().year, dt.now().month, dt.now().day ),\n",
    "    'title' : '내가좋아하는비쥬얼세훈아',\n",
    "    'memo' : '우리소희랑 초성이 같네?.'\n",
    "    \n",
    "}\n",
    "\n",
    "# 수신자 리스트를 메일머지 객체에 전달\n",
    "# 수신자가 여럿일 경우에는 merge_templates() 메소드를 사용\n",
    "respondents_list = [respondent1, respondent2]\n",
    "document.merge_templates(respondents_list, separator = 'page_break')\n",
    "\n",
    "# 메일머지 객체를 MS Word 문서로 저장\n",
    "output_filepath = os.path.join(cwd, 'output', 'fax_cover_multi_pages.docx')\n",
    "document.write(output_filepath)"
   ]
  },
  {
   "cell_type": "code",
   "execution_count": null,
   "metadata": {},
   "outputs": [],
   "source": []
  }
 ],
 "metadata": {
  "kernelspec": {
   "display_name": "Python 3",
   "language": "python",
   "name": "python3"
  },
  "language_info": {
   "codemirror_mode": {
    "name": "ipython",
    "version": 3
   },
   "file_extension": ".py",
   "mimetype": "text/x-python",
   "name": "python",
   "nbconvert_exporter": "python",
   "pygments_lexer": "ipython3",
   "version": "3.6.5"
  }
 },
 "nbformat": 4,
 "nbformat_minor": 4
}
