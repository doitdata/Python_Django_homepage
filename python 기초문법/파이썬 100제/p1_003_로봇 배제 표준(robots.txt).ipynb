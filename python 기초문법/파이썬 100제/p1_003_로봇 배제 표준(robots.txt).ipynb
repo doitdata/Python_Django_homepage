{
 "cells": [
  {
   "cell_type": "markdown",
   "metadata": {},
   "source": [
    "### robots.txt : 웹 사이트들이 웹 크롤링 로봇의 접근 권한에 대해 설정하고 있으므로, 웹 페이지 접근하기 전에 반드시 로봇 뱌제 표준을 확인하고 가이드라인을 준수할 필요가 있음 "
   ]
  },
  {
   "cell_type": "code",
   "execution_count": 1,
   "metadata": {},
   "outputs": [
    {
     "name": "stdout",
     "output_type": "stream",
     "text": [
      "https://www.naver.com/robots.txt\n",
      "User-agent: *\n",
      "Disallow: /\n",
      "Allow : /$ \n",
      "\n",
      "\n",
      "\n",
      "https://www.python.org/robots.txt\n",
      "# Directions for robots.  See this URL:\n",
      "# http://www.robotstxt.org/robotstxt.html\n",
      "# for a description of the file format.\n",
      "\n",
      "User-agent: HTTrack\n",
      "User-agent: puf\n",
      "User-agent: MSIECrawler\n",
      "Disallow: /\n",
      "\n",
      "# The Krugle web crawler (though based on Nutch) is OK.\n",
      "User-agent: Krugle\n",
      "Allow: /\n",
      "Disallow: /~guido/orlijn/\n",
      "Disallow: /webstats/\n",
      "\n",
      "# No one should be crawling us with Nutch.\n",
      "User-agent: Nutch\n",
      "Disallow: /\n",
      "\n",
      "# Hide old versions of the documentation and various large sets of files.\n",
      "User-agent: *\n",
      "Disallow: /~guido/orlijn/\n",
      "Disallow: /webstats/\n",
      "\n",
      "\n",
      "\n"
     ]
    }
   ],
   "source": [
    "import requests\n",
    "\n",
    "urls = [\"https://www.naver.com/\", \"https://www.python.org/\"]\n",
    "filename = 'robots.txt'\n",
    "\n",
    "for url in urls:\n",
    "    file_path = url + filename\n",
    "    print(file_path)\n",
    "    resp = requests.get(file_path)\n",
    "    print(resp.text)\n",
    "    print('\\n')"
   ]
  }
 ],
 "metadata": {
  "kernelspec": {
   "display_name": "Python 3",
   "language": "python",
   "name": "python3"
  },
  "language_info": {
   "codemirror_mode": {
    "name": "ipython",
    "version": 3
   },
   "file_extension": ".py",
   "mimetype": "text/x-python",
   "name": "python",
   "nbconvert_exporter": "python",
   "pygments_lexer": "ipython3",
   "version": "3.6.5"
  }
 },
 "nbformat": 4,
 "nbformat_minor": 4
}
