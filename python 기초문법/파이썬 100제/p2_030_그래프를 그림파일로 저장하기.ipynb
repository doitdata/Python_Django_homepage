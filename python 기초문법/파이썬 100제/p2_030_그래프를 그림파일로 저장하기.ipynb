{
 "cells": [
  {
   "cell_type": "code",
   "execution_count": 1,
   "metadata": {},
   "outputs": [
    {
     "name": "stderr",
     "output_type": "stream",
     "text": [
      "D:\\anaconda\\lib\\importlib\\_bootstrap.py:219: RuntimeWarning: numpy.ufunc size changed, may indicate binary incompatibility. Expected 192 from C header, got 216 from PyObject\n",
      "  return f(*args, **kwds)\n"
     ]
    },
    {
     "name": "stdout",
     "output_type": "stream",
     "text": [
      "      CD_rate  change\n",
      "year                 \n",
      "2013     2.72   -0.58\n",
      "2014     2.49   -0.23\n",
      "2015     1.76   -0.73\n",
      "2016     1.49   -0.27\n",
      "2017     1.44   -0.05\n",
      "\n",
      "\n"
     ]
    },
    {
     "data": {
      "image/png": "[encoded data removed]",
      "text/plain": [
       "<Figure size 432x288 with 1 Axes>"
      ]
     },
     "metadata": {
      "needs_background": "light"
     },
     "output_type": "display_data"
    }
   ],
   "source": [
    "import pandas as pd\n",
    "import matplotlib.pyplot as plt\n",
    "\n",
    "# 예제 025에서 저장한 CSV 파일을 불러와서 데이터프레임으로 변환\n",
    "df = pd.read_csv('./data/bok_statistics_CD_2.csv', header = 0, index_col=0)\n",
    "print(df.head())\n",
    "print('\\n')\n",
    "\n",
    "# 그래프를 파일로 저장\n",
    "boxplot = df.plot(kind='box')\n",
    "# ,atplotlib.pyplot 모듈의 savefig() 함수를 이용하여 박스플롯 그래프를 파일 경로로 지정하여 pc 저장\n",
    "plt.savefig('./output/boxplot.png')"
   ]
  },
  {
   "cell_type": "code",
   "execution_count": null,
   "metadata": {},
   "outputs": [],
   "source": []
  }
 ],
 "metadata": {
  "kernelspec": {
   "display_name": "Python 3",
   "language": "python",
   "name": "python3"
  },
  "language_info": {
   "codemirror_mode": {
    "name": "ipython",
    "version": 3
   },
   "file_extension": ".py",
   "mimetype": "text/x-python",
   "name": "python",
   "nbconvert_exporter": "python",
   "pygments_lexer": "ipython3",
   "version": "3.6.5"
  }
 },
 "nbformat": 4,
 "nbformat_minor": 4
}
