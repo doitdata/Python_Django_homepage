{
 "cells": [
  {
   "cell_type": "code",
   "execution_count": 1,
   "metadata": {},
   "outputs": [
    {
     "name": "stdout",
     "output_type": "stream",
     "text": [
      "(250, b'smtp.gmail.com at your service, [61.79.216.216]\\nSIZE 35882577\\n8BITMIME\\nSTARTTLS\\nENHANCEDSTATUSCODES\\nPIPELINING\\nCHUNKING\\nSMTPUTF8')\n",
      "\n",
      "\n",
      "(221, b'2.0.0 closing connection x23sm9335623pfc.170 - gsmtp')\n"
     ]
    }
   ],
   "source": [
    "# SMTPLIB 라이브러리는 Simple Mail Transfer Protocol 프로토콜을 이용하여 이메일을 발송하는 기능을 지원 \n",
    "# SMTP 서버의 암호와 방식에는 TLS 방식과 SSL방식이 있는데, TLS 방식이 조금 더 보안성이 강화된 방식으로 알려짐 \n",
    "\n",
    "import smtplib\n",
    "\n",
    "# SMTP 서버 접속 - TSL 방식\n",
    "# host 속성에는 지메일의 SMTP 서버 주소를 입력하고,port는 587을 사용\n",
    "smtp_Serve = smtplib.SMTP(host='smtp.gmail.com', port = 587)\n",
    "\n",
    "# SMTP 서버에 hello 메시지 보내기\n",
    "# 서버가 정상 작동 중인지 확인하기 위해 ehlo() 메소드를 이용하여 hello 메시지를 서버에 요청\n",
    "hello_message = smtp_Serve.ehlo()\n",
    "# 250은 정상 처리 되었다는 의미\n",
    "print(hello_message)\n",
    "print('\\n')\n",
    "\n",
    "# 이메일 서버 종료하기\n",
    "bye_message = smtp_Serve.quit()\n",
    "print(bye_message)"
   ]
  },
  {
   "cell_type": "code",
   "execution_count": null,
   "metadata": {},
   "outputs": [],
   "source": []
  }
 ],
 "metadata": {
  "kernelspec": {
   "display_name": "Python 3",
   "language": "python",
   "name": "python3"
  },
  "language_info": {
   "codemirror_mode": {
    "name": "ipython",
    "version": 3
   },
   "file_extension": ".py",
   "mimetype": "text/x-python",
   "name": "python",
   "nbconvert_exporter": "python",
   "pygments_lexer": "ipython3",
   "version": "3.6.5"
  }
 },
 "nbformat": 4,
 "nbformat_minor": 4
}
