{
 "cells": [
  {
   "cell_type": "code",
   "execution_count": 1,
   "metadata": {},
   "outputs": [
    {
     "name": "stdout",
     "output_type": "stream",
     "text": [
      "[<telegram.update.Update object at 0x0000018E3C65BBA8>]\n",
      "\n",
      "\n",
      "{'update_id': 949329584, 'message': {'message_id': 1, 'date': 1620587893, 'chat': {'id': 1739171820, 'type': 'private', 'first_name': 'kim', 'last_name': 'inae'}, 'text': '/start', 'entities': [{'type': 'bot_command', 'offset': 0, 'length': 6}], 'caption_entities': [], 'photo': [], 'new_chat_members': [], 'new_chat_photo': [], 'delete_chat_photo': False, 'group_chat_created': False, 'supergroup_chat_created': False, 'channel_chat_created': False, 'from': {'id': 1739171820, 'first_name': 'kim', 'is_bot': False, 'last_name': 'inae', 'language_code': 'ko'}}}\n",
      "\n",
      "\n",
      "2021-05-09 19:18:13+00:00\n",
      "1739171820\n",
      "/start\n"
     ]
    }
   ],
   "source": [
    "import telegram\n",
    "\n",
    "my_token = '1871815690:AAH1OxcxB4bt0OL2QqoVuKqkESpnwaq4pAo'\n",
    "\n",
    "bot = telegram.Bot(token=my_token)\n",
    "\n",
    "# getUpdates() 메소드는 메시지 업데이트 내용을 가져옴 \n",
    "updates = bot.getUpdates()\n",
    "print(updates)\n",
    "print('\\n')\n",
    "\n",
    "for update in updates:\n",
    "    print(update)\n",
    "    print('\\n')\n",
    "\n",
    "latest_update = updates[-1]\n",
    "print(latest_update.message.date)    #날짜\n",
    "print(latest_update.message.chat.id) #상대방의 chat_id\n",
    "print(latest_update.message.text)    #받는 메시지"
   ]
  },
  {
   "cell_type": "code",
   "execution_count": null,
   "metadata": {},
   "outputs": [],
   "source": []
  }
 ],
 "metadata": {
  "kernelspec": {
   "display_name": "Python 3",
   "language": "python",
   "name": "python3"
  },
  "language_info": {
   "codemirror_mode": {
    "name": "ipython",
    "version": 3
   },
   "file_extension": ".py",
   "mimetype": "text/x-python",
   "name": "python",
   "nbconvert_exporter": "python",
   "pygments_lexer": "ipython3",
   "version": "3.6.5"
  }
 },
 "nbformat": 4,
 "nbformat_minor": 4
}
