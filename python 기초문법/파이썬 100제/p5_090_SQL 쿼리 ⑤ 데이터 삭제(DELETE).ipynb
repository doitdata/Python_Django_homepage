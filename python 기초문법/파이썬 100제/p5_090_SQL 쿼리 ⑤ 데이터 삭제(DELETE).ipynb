{
 "cells": [
  {
   "cell_type": "code",
   "execution_count": 2,
   "metadata": {},
   "outputs": [
    {
     "name": "stdout",
     "output_type": "stream",
     "text": [
      "(2, '제품 2', 5000, '/product2.html')\n",
      "(3, '제품 3', 3000, '/product3.html')\n",
      "(4, '제품 4', 2000, '/product4.html')\n",
      "(5, '제품 5', 2000, '/product5.html')\n"
     ]
    }
   ],
   "source": [
    "import sqlite3\n",
    "\n",
    "# DB 연결\n",
    "conn = sqlite3.connect('./output/sample.db')\n",
    "cur = conn.cursor()\n",
    "\n",
    "# Product 데이블의 id=1인 행 레코드를 삭제\n",
    "cur.execute('DELETE from Product where id = 1')\n",
    "conn.commit()\n",
    "\n",
    "# 변경 내용 확인\n",
    "cur.execute('SELECT * from Product')\n",
    "rows = cur.fetchall()\n",
    "for row in rows:\n",
    "    print(row)\n",
    "    \n",
    "# DB 연결 종료\n",
    "conn.close()"
   ]
  },
  {
   "cell_type": "code",
   "execution_count": null,
   "metadata": {},
   "outputs": [],
   "source": []
  }
 ],
 "metadata": {
  "kernelspec": {
   "display_name": "Python 3",
   "language": "python",
   "name": "python3"
  },
  "language_info": {
   "codemirror_mode": {
    "name": "ipython",
    "version": 3
   },
   "file_extension": ".py",
   "mimetype": "text/x-python",
   "name": "python",
   "nbconvert_exporter": "python",
   "pygments_lexer": "ipython3",
   "version": "3.6.5"
  }
 },
 "nbformat": 4,
 "nbformat_minor": 4
}
