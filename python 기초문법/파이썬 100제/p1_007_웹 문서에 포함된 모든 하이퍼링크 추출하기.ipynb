{
 "cells": [
  {
   "cell_type": "markdown",
   "metadata": {},
   "source": [
    "### find_all() 메소드를 사용해 같은 조건을 만족하는 모든 태그를 찾기"
   ]
  },
  {
   "cell_type": "code",
   "execution_count": 2,
   "metadata": {},
   "outputs": [
    {
     "name": "stdout",
     "output_type": "stream",
     "text": [
      "하이퍼링크의 개수:  963\n",
      "\n",
      "\n",
      "첫 3개의 원소:  [<a id=\"top\"></a>, <a class=\"mw-jump-link\" href=\"#mw-head\">Jump to navigation</a>, <a class=\"mw-jump-link\" href=\"#searchInput\">Jump to search</a>]\n",
      "\n",
      "\n",
      "/wiki/ 문자열이 포함된 하이퍼링크:  [<a class=\"image\" href=\"/wiki/File:South_Korea_subway_logo.svg\"><img alt=\"South Korea subway logo.svg\" data-file-height=\"450\" data-file-width=\"450\" decoding=\"async\" height=\"75\" src=\"//upload.wikimedia.org/wikipedia/commons/thumb/1/12/South_Korea_subway_logo.svg/75px-South_Korea_subway_logo.svg.png\" srcset=\"//upload.wikimedia.org/wikipedia/commons/thumb/1/12/South_Korea_subway_logo.svg/113px-South_Korea_subway_logo.svg.png 1.5x, //upload.wikimedia.org/wikipedia/commons/thumb/1/12/South_Korea_subway_logo.svg/150px-South_Korea_subway_logo.svg.png 2x\" width=\"75\"/></a>, <a class=\"image\" href=\"/wiki/File:Seoul-Metro-2004-20070722.jpg\"><img alt=\"Seoul-Metro-2004-20070722.jpg\" data-file-height=\"2100\" data-file-width=\"2800\" decoding=\"async\" height=\"225\" src=\"//upload.wikimedia.org/wikipedia/commons/thumb/2/29/Seoul-Metro-2004-20070722.jpg/300px-Seoul-Metro-2004-20070722.jpg\" srcset=\"//upload.wikimedia.org/wikipedia/commons/thumb/2/29/Seoul-Metro-2004-20070722.jpg/450px-Seoul-Metro-2004-20070722.jpg 1.5x, //upload.wikimedia.org/wikipedia/commons/thumb/2/29/Seoul-Metro-2004-20070722.jpg/600px-Seoul-Metro-2004-20070722.jpg 2x\" width=\"300\"/></a>, <a href=\"/wiki/Seoul_Subway_Line_2\" title=\"Seoul Subway Line 2\">Line 2</a>]\n",
      "\n",
      "\n",
      "class 속성으로 추출한 하이퍼링크:  [<a class=\"external text\" href=\"http://www.seoulmetro.co.kr/kr/board.do?menuIdx=548\" rel=\"nofollow\">\"자료실 : 알림마당&gt;자료실&gt;자료실\"</a>, <a class=\"external text\" href=\"http://www.korail.com/file/statistics/2012/2012-04.pdf\" rel=\"nofollow\">2012 Korail Statistics</a>, <a class=\"external text\" href=\"https://web.archive.org/web/20140227072212/http://www.korail.com/file/statistics/2012/2012-04.pdf\" rel=\"nofollow\">Archived</a>]\n"
     ]
    }
   ],
   "source": [
    "import requests, re\n",
    "from bs4 import BeautifulSoup\n",
    "\n",
    "url = \"https://en.wikipedia.org/wiki/Seoul_Metropolitan_Subway\"\n",
    "resp = requests.get(url)\n",
    "html_src = resp.text\n",
    "soup = BeautifulSoup(html_src, 'html.parser')\n",
    "\n",
    "links = soup.find_all('a')\n",
    "print('하이퍼링크의 개수: ', len(links))\n",
    "print('\\n')\n",
    "print('첫 3개의 원소: ', links[:3])\n",
    "print('\\n')\n",
    "\n",
    "# <a> 태그의 href 속성이 포함하는 문장열을 지정하면, 해당문자열이 포함된 <a> 태그만 찾음\n",
    "# /wiki/ 문자열이 포함된 a 태그를 3개 찾기 \n",
    "wiki_links = soup.find_all(name='a', href = re.compile('/wiki/'), limit=3)\n",
    "print('/wiki/ 문자열이 포함된 하이퍼링크: ', wiki_links)\n",
    "print('\\n')\n",
    "\n",
    "# find_all() 메소드의 attrs 매개변수에 {'속성이름' : '속성값'} 의 딕셔너리 형태로 찾으려는 태그가 값는 속성값 지정\n",
    "external_links = soup.find_all(name='a', attrs={'class': 'external text'}, limit=3)\n",
    "print('class 속성으로 추출한 하이퍼링크: ', external_links)"
   ]
  }
 ],
 "metadata": {
  "kernelspec": {
   "display_name": "Python 3",
   "language": "python",
   "name": "python3"
  },
  "language_info": {
   "codemirror_mode": {
    "name": "ipython",
    "version": 3
   },
   "file_extension": ".py",
   "mimetype": "text/x-python",
   "name": "python",
   "nbconvert_exporter": "python",
   "pygments_lexer": "ipython3",
   "version": "3.6.5"
  }
 },
 "nbformat": 4,
 "nbformat_minor": 4
}
