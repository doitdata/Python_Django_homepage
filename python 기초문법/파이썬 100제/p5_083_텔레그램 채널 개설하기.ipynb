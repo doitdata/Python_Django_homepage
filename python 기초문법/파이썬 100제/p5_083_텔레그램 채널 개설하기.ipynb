{
 "cells": [
  {
   "cell_type": "code",
   "execution_count": 15,
   "metadata": {
    "scrolled": true
   },
   "outputs": [],
   "source": [
    "import telegram\n",
    "    \n",
    "def send_telegram_channel_message(channel_id, message):\n",
    "\n",
    "    my_token = '1871815690:AAH1OxcxB4bt0OL2QqoVuKqkESpnwaq4pAo'\n",
    "    bot = telegram.Bot(token=my_token)\n",
    "    \n",
    "    bot.sendMessage(chat_id=channel_id, text=str(message))\n",
    "\n",
    "\n",
    "if __name__ == '__main__':  \n",
    "\n",
    "    channel_id = '@python_0627' # 링크 뒤에 주소를 보내야 함. 채널 이름 아님\n",
    "    message = '채널에 보내는 메시지입니다.'\n",
    "    send_telegram_channel_message(channel_id, message)\n",
    "    "
   ]
  },
  {
   "cell_type": "code",
   "execution_count": null,
   "metadata": {},
   "outputs": [],
   "source": []
  }
 ],
 "metadata": {
  "kernelspec": {
   "display_name": "Python 3",
   "language": "python",
   "name": "python3"
  },
  "language_info": {
   "codemirror_mode": {
    "name": "ipython",
    "version": 3
   },
   "file_extension": ".py",
   "mimetype": "text/x-python",
   "name": "python",
   "nbconvert_exporter": "python",
   "pygments_lexer": "ipython3",
   "version": "3.6.5"
  }
 },
 "nbformat": 4,
 "nbformat_minor": 4
}
