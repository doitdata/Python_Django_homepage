{
 "cells": [
  {
   "cell_type": "code",
   "execution_count": 6,
   "metadata": {},
   "outputs": [
    {
     "name": "stdout",
     "output_type": "stream",
     "text": [
      "deardata@naver.com,0627sohit@naver.com\n",
      "deardata@naver.com,0627sohit@naver.com 님에게 이메일을 발송하였습니다.\n"
     ]
    }
   ],
   "source": [
    "import smtplib\n",
    "from email.mime.text import MIMEText\n",
    "\n",
    "# SMTP 서버 접속 -TLS 방식\n",
    "smtp_server = smtplib.SMTP(host ='smtp.gmail.com', port = 587)\n",
    "smtp_server.ehlo()\n",
    "smtp_server.starttls() # TLS Encription 동작\n",
    "\n",
    "# 이메일 서버 로그인 - 이메일 주소, 비밀번호 입력\n",
    "my_addr = 'chch4934@gmail.com'\n",
    "my_pw = '813thgmldutls@'\n",
    "smtp_server.login(user=my_addr, password=my_pw)\n",
    "\n",
    "# 이메일 메시지 구성\n",
    "subject = '다중 발송 테스트'\n",
    "body = '본문 테스트1 \\n본문 테스트2 \\n본문 테스트3 \\n'\n",
    "\n",
    "recipients = ['deardata@naver.com', '0627sohit@naver.com']\n",
    "\n",
    "# join() 메소드를 이용하여, 이메일 주소를 쉼표로 구분되는 형태로 하나의 문자열로 합친다.\n",
    "recipients_join = ','.join(recipients)\n",
    "print(recipients_join)\n",
    "\n",
    "my_msg = MIMEText(body)\n",
    "my_msg['Subject'] = subject\n",
    "my_msg['To'] = recipients_join\n",
    "\n",
    "# 이메일 발송\n",
    "smtp_server.sendmail(from_addr=my_addr,        \n",
    "                     to_addrs=recipients, \n",
    "                     msg=my_msg.as_string())     \n",
    "\n",
    "# 이메일 서버 종료하기\n",
    "smtp_server.quit()\n",
    "print('%s 님에게 이메일을 발송하였습니다.' % recipients_join)"
   ]
  },
  {
   "cell_type": "code",
   "execution_count": null,
   "metadata": {},
   "outputs": [],
   "source": []
  }
 ],
 "metadata": {
  "kernelspec": {
   "display_name": "Python 3",
   "language": "python",
   "name": "python3"
  },
  "language_info": {
   "codemirror_mode": {
    "name": "ipython",
    "version": 3
   },
   "file_extension": ".py",
   "mimetype": "text/x-python",
   "name": "python",
   "nbconvert_exporter": "python",
   "pygments_lexer": "ipython3",
   "version": "3.6.5"
  }
 },
 "nbformat": 4,
 "nbformat_minor": 4
}
