{
 "cells": [
  {
   "cell_type": "code",
   "execution_count": 2,
   "metadata": {},
   "outputs": [
    {
     "name": "stdout",
     "output_type": "stream",
     "text": [
      "(1, 2)\n",
      "(3, 4)\n",
      "(5, 6)\n",
      "(7, 8)\n",
      "(9, 10)\n"
     ]
    }
   ],
   "source": [
    "import openpyxl\n",
    "from openpyxl.styles import Alignment\n",
    "import os\n",
    "\n",
    "# 워크북 객체 만들기\n",
    "wb = openpyxl.Workbook()\n",
    "\n",
    "# 시트객체 만들기\n",
    "ws = wb.create_sheet(index=0, title='Merge')\n",
    "wb.remove(wb['Sheet'])\n",
    "\n",
    "# 데이터 입력하기\n",
    "tuple_of_rows = ((1,2),\n",
    "                (3,4),\n",
    "                (5,6),\n",
    "                (7,8),\n",
    "                (9,10))\n",
    "\n",
    "for row in tuple_of_rows:\n",
    "    ws.append(row)\n",
    "    print(row)\n",
    "\n",
    "# merge_cells() 메소드를 사용하여 여러 셀을 하나로 병합 \n",
    "ws.merge_cells(start_row=1, start_column=1, end_row=2, end_column=2)\n",
    "A1 = ws.cell(row=1, column=1)\n",
    "A1.value = 'Merged'\n",
    "A1.alignment = Alignment(horizontal = 'center', vertical = 'center')\n",
    "\n",
    "# 워크북의 변경내용을 새로운 파일에 저장\n",
    "wb.save(os.path.join(os.getcwd(), 'output', 'create_workbook3.xlsx'))"
   ]
  },
  {
   "cell_type": "code",
   "execution_count": null,
   "metadata": {},
   "outputs": [],
   "source": []
  }
 ],
 "metadata": {
  "kernelspec": {
   "display_name": "Python 3",
   "language": "python",
   "name": "python3"
  },
  "language_info": {
   "codemirror_mode": {
    "name": "ipython",
    "version": 3
   },
   "file_extension": ".py",
   "mimetype": "text/x-python",
   "name": "python",
   "nbconvert_exporter": "python",
   "pygments_lexer": "ipython3",
   "version": "3.6.5"
  }
 },
 "nbformat": 4,
 "nbformat_minor": 4
}
