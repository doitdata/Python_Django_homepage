{
 "cells": [
  {
   "cell_type": "code",
   "execution_count": 4,
   "metadata": {
    "scrolled": true
   },
   "outputs": [
    {
     "name": "stdout",
     "output_type": "stream",
     "text": [
      "HTML 요소:  <selenium.webdriver.remote.webelement.WebElement (session=\"f8aa4f8f1e08146ec202c499b734f2e2\", element=\"60bebd2e-a5ab-4230-af73-45ed8359ea86\")>\n",
      "태그 이름:  a\n",
      "문자열:  로그인\n",
      "href 속성:  https://auth.danawa.com/login?url=http%3A%2F%2Fwww.danawa.com%2F\n"
     ]
    }
   ],
   "source": [
    "from selenium import webdriver\n",
    " \n",
    "# webdriver 모듈의 Chrome 함수를 사용하여 크롬웹드라이버를 실행하고 변수 driver를 저장\n",
    "driver = webdriver.Chrome('./chromedriver.exe')\n",
    "driver.implicitly_wait(3)\n",
    "driver.get('https://www.danawa.com/')\n",
    "\n",
    "# 다나와 메인화면의 로그인 버튼을 누르는 작업 실행\n",
    "login = driver.find_element_by_css_selector('li.my_page_service > a')\n",
    "print('HTML 요소: ', login)\n",
    "print('태그 이름: ', login.tag_name)\n",
    "print('문자열: ', login.text)\n",
    "print('href 속성: ', login.get_attribute('href'))\n",
    "\n",
    "login.click()\n",
    "driver.implicitly_wait(3)\n",
    "\n",
    "# 아이디/비밀번로를 입력하고 로그인하기 버튼을 누르는 작업 실행\n",
    "my_id = 'chch4934'\n",
    "my_pw = 'dftn7jj7@'\n",
    "\n",
    "driver.find_element_by_id('danawa-member-login-input-id').send_keys(my_id)\n",
    "driver.implicitly_wait(2)\n",
    "driver.find_element_by_name('password').send_keys(my_pw)\n",
    "driver.implicitly_wait(2)\n",
    "driver.find_element_by_css_selector('button.btn_login').click()"
   ]
  },
  {
   "cell_type": "code",
   "execution_count": null,
   "metadata": {},
   "outputs": [],
   "source": []
  }
 ],
 "metadata": {
  "kernelspec": {
   "display_name": "Python 3",
   "language": "python",
   "name": "python3"
  },
  "language_info": {
   "codemirror_mode": {
    "name": "ipython",
    "version": 3
   },
   "file_extension": ".py",
   "mimetype": "text/x-python",
   "name": "python",
   "nbconvert_exporter": "python",
   "pygments_lexer": "ipython3",
   "version": "3.6.5"
  }
 },
 "nbformat": 4,
 "nbformat_minor": 4
}
