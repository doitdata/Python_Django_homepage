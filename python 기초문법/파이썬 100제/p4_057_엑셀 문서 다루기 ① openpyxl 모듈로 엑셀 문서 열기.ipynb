{
 "cells": [
  {
   "cell_type": "code",
   "execution_count": 2,
   "metadata": {},
   "outputs": [
    {
     "name": "stdout",
     "output_type": "stream",
     "text": [
      "<openpyxl.workbook.workbook.Workbook object at 0x00000255DB8FC6D8>\n",
      "<class 'openpyxl.workbook.workbook.Workbook'>\n",
      "['Sheet1']\n",
      "<Worksheet \"Sheet1\">\n",
      "Sheet1\n",
      "<Worksheet \"Sheet1\">\n"
     ]
    }
   ],
   "source": [
    "import openpyxl\n",
    "import os\n",
    "\n",
    "# 예제 024에서 저장한 Excel 파일 경로 지정\n",
    "cwd = os.getcwd()\n",
    "filename = 'df.xlsx'\n",
    "filepath = os.path.join(cwd, 'output', filename)\n",
    "\n",
    "# 워크북(Workbook) 객체\n",
    "# openpyxl 라이브러리의 load_workbook() 함수의 매개변수로 엑셀 파일의 경로를 전달하면 엑셀 파일을 파이썬 실행환경으로 가져옴\n",
    "wb = openpyxl.load_workbook(filepath)\n",
    "print(wb)\n",
    "print(type(wb))\n",
    "print(wb.sheetnames)\n",
    "\n",
    "# 시트(Sheet) 객체\n",
    "ws = wb['Sheet1']\n",
    "print(ws)\n",
    "print(ws.title)\n",
    "\n",
    "# 활성화되어 있는 \n",
    "active_sheet = wb.active\n",
    "print(active_sheet)"
   ]
  },
  {
   "cell_type": "code",
   "execution_count": null,
   "metadata": {},
   "outputs": [],
   "source": []
  }
 ],
 "metadata": {
  "kernelspec": {
   "display_name": "Python 3",
   "language": "python",
   "name": "python3"
  },
  "language_info": {
   "codemirror_mode": {
    "name": "ipython",
    "version": 3
   },
   "file_extension": ".py",
   "mimetype": "text/x-python",
   "name": "python",
   "nbconvert_exporter": "python",
   "pygments_lexer": "ipython3",
   "version": "3.6.5"
  }
 },
 "nbformat": 4,
 "nbformat_minor": 4
}
