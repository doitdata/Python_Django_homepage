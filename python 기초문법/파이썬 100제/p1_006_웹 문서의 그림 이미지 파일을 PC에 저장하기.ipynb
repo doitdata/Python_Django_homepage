{
 "cells": [
  {
   "cell_type": "markdown",
   "metadata": {},
   "source": [
    "### find() 사용해서 웹 문서에서 한개의 태그를 찾는 방법"
   ]
  },
  {
   "cell_type": "code",
   "execution_count": 2,
   "metadata": {},
   "outputs": [
    {
     "name": "stdout",
     "output_type": "stream",
     "text": [
      "HTML 요소:  <img alt=\"Seoul-Metro-2004-20070722.jpg\" data-file-height=\"2100\" data-file-width=\"2800\" decoding=\"async\" height=\"225\" src=\"//upload.wikimedia.org/wikipedia/commons/thumb/2/29/Seoul-Metro-2004-20070722.jpg/300px-Seoul-Metro-2004-20070722.jpg\" srcset=\"//upload.wikimedia.org/wikipedia/commons/thumb/2/29/Seoul-Metro-2004-20070722.jpg/450px-Seoul-Metro-2004-20070722.jpg 1.5x, //upload.wikimedia.org/wikipedia/commons/thumb/2/29/Seoul-Metro-2004-20070722.jpg/600px-Seoul-Metro-2004-20070722.jpg 2x\" width=\"300\"/>\n",
      "\n",
      "\n",
      "이미지 파일 경로:  //upload.wikimedia.org/wikipedia/commons/thumb/2/29/Seoul-Metro-2004-20070722.jpg/300px-Seoul-Metro-2004-20070722.jpg\n",
      "\n",
      "\n",
      "이미지 파일로 저장하였습니다\n"
     ]
    }
   ],
   "source": [
    "import requests\n",
    "from bs4 import BeautifulSoup\n",
    "\n",
    "url = \"https://en.wikipedia.org/wiki/Seoul_Metropolitan_Subway\"\n",
    "resp  =requests.get(url)\n",
    "html_src = resp.text\n",
    "\n",
    "soup = BeautifulSoup(html_src, 'html.parser')\n",
    "\n",
    "target_img = soup.find(name='img', attrs = {'alt':'Seoul-Metro-2004-20070722.jpg'})\n",
    "print('HTML 요소: ', target_img)\n",
    "print('\\n')\n",
    "\n",
    "# get('속성이름') 메소드를 적용하면 속성이 갖는 값을 추출할 수 있음.\n",
    "target_img_src = target_img.get('src')\n",
    "print('이미지 파일 경로: ', target_img_src)\n",
    "print('\\n')\n",
    "\n",
    "target_img_resp = requests.get('https:' + target_img_src)\n",
    "out_file_path = './output/dounload_image.jpg'\n",
    "\n",
    "with open(out_file_path, 'wb') as out_file:\n",
    "    out_file.write(target_img_resp.content)\n",
    "    print('이미지 파일로 저장하였습니다')"
   ]
  }
 ],
 "metadata": {
  "kernelspec": {
   "display_name": "Python 3",
   "language": "python",
   "name": "python3"
  },
  "language_info": {
   "codemirror_mode": {
    "name": "ipython",
    "version": 3
   },
   "file_extension": ".py",
   "mimetype": "text/x-python",
   "name": "python",
   "nbconvert_exporter": "python",
   "pygments_lexer": "ipython3",
   "version": "3.6.5"
  }
 },
 "nbformat": 4,
 "nbformat_minor": 4
}
