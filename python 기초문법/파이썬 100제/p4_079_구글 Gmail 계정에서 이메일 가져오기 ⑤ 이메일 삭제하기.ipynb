{
 "cells": [
  {
   "cell_type": "code",
   "execution_count": 1,
   "metadata": {},
   "outputs": [
    {
     "name": "stdout",
     "output_type": "stream",
     "text": [
      "[b''] \n",
      "\n"
     ]
    },
    {
     "ename": "IndexError",
     "evalue": "list index out of range",
     "output_type": "error",
     "traceback": [
      "\u001b[1;31m---------------------------------------------------------------------------\u001b[0m",
      "\u001b[1;31mIndexError\u001b[0m                                Traceback (most recent call last)",
      "\u001b[1;32m<ipython-input-1-bd7755e45a89>\u001b[0m in \u001b[0;36m<module>\u001b[1;34m\u001b[0m\n\u001b[0;32m     20\u001b[0m \u001b[1;33m\u001b[0m\u001b[0m\n\u001b[0;32m     21\u001b[0m \u001b[1;31m# 메일 삭제하기 (1) 휴지통으로 이동\u001b[0m\u001b[1;33m\u001b[0m\u001b[1;33m\u001b[0m\u001b[0m\n\u001b[1;32m---> 22\u001b[1;33m \u001b[0mimap_server\u001b[0m\u001b[1;33m.\u001b[0m\u001b[0mstore\u001b[0m\u001b[1;33m(\u001b[0m\u001b[1;34m'%s:%s'\u001b[0m \u001b[1;33m%\u001b[0m \u001b[1;33m(\u001b[0m\u001b[0mmails\u001b[0m\u001b[1;33m[\u001b[0m\u001b[1;36m0\u001b[0m\u001b[1;33m]\u001b[0m\u001b[1;33m.\u001b[0m\u001b[0msplit\u001b[0m\u001b[1;33m(\u001b[0m\u001b[1;33m)\u001b[0m\u001b[1;33m[\u001b[0m\u001b[1;36m0\u001b[0m\u001b[1;33m]\u001b[0m\u001b[1;33m.\u001b[0m\u001b[0mdecode\u001b[0m\u001b[1;33m(\u001b[0m\u001b[1;34m'utf-8'\u001b[0m\u001b[1;33m)\u001b[0m\u001b[1;33m,\u001b[0m \u001b[0mmails\u001b[0m\u001b[1;33m[\u001b[0m\u001b[1;36m0\u001b[0m\u001b[1;33m]\u001b[0m\u001b[1;33m.\u001b[0m\u001b[0msplit\u001b[0m\u001b[1;33m(\u001b[0m\u001b[1;33m)\u001b[0m\u001b[1;33m[\u001b[0m\u001b[1;33m-\u001b[0m\u001b[1;36m1\u001b[0m\u001b[1;33m]\u001b[0m\u001b[1;33m.\u001b[0m\u001b[0mdecode\u001b[0m\u001b[1;33m(\u001b[0m\u001b[1;34m'utf-8'\u001b[0m\u001b[1;33m)\u001b[0m\u001b[1;33m)\u001b[0m\u001b[1;33m,\u001b[0m \u001b[1;34m'+X-GM-LABELS'\u001b[0m\u001b[1;33m,\u001b[0m \u001b[1;34m'\\\\Trash'\u001b[0m\u001b[1;33m)\u001b[0m\u001b[1;33m\u001b[0m\u001b[0m\n\u001b[0m\u001b[0;32m     23\u001b[0m \u001b[1;33m\u001b[0m\u001b[0m\n\u001b[0;32m     24\u001b[0m \u001b[1;31m# 메일 삭제하기 (2) - 휴지통 비우기\u001b[0m\u001b[1;33m\u001b[0m\u001b[1;33m\u001b[0m\u001b[0m\n",
      "\u001b[1;31mIndexError\u001b[0m: list index out of range"
     ]
    }
   ],
   "source": [
    "import imaplib\n",
    "import datetime\n",
    "import imapclient\n",
    "# IMAP 서버 접속 - SSL 방식\n",
    "imap_server = imaplib.IMAP4_SSL(host = 'imap.gmail.com', port = '993')\n",
    "\n",
    "# 이메일, 비밀번호 입력\n",
    "my_addr = 'chch4934@gmail.com'\n",
    "my_pw = 'tdgjqyogetewfsrv'\n",
    "imap_server.login(user=my_addr, password=my_pw)\n",
    "\n",
    "# 받는 편지하\n",
    "mailbox = 'INBOX'\n",
    "mailbox_code = imap_server.select(mailbox)\n",
    "\n",
    "# 받는 편지함에서 특정 날짜 이전의 편지를 삭제하기\n",
    "before_date= datetime.date(2019, 10, 15).strftime('%d-%b-%Y')\n",
    "code1, mails = imap_server.search(None, 'BEFORE', before_date)\n",
    "print(mails, '\\n')\n",
    "\n",
    "# 메일 삭제하기 (1) 휴지통으로 이동\n",
    "imap_server.store('%s:%s' % (mails[0].split()[0].decode('utf-8'), mails[0].split()[-1].decode('utf-8')), '+X-GM-LABELS', '\\\\Trash')\n",
    "\n",
    "# 메일 삭제하기 (2) - 휴지통 비우기\n",
    "trash = imap_server.select(imapclient.imap_utf7.encode('[Gmail]/휴지통'))\n",
    "print(trash)\n",
    "\n",
    "imap_server.store('1:*', '+FLAGS', '\\\\Deleted')\n",
    "print(trash)\n",
    "\n",
    "imap_server.expunge()\n",
    "print(trash)\n",
    "\n",
    "# 이메일 서버 종료하기\n",
    "imap_server.close()"
   ]
  },
  {
   "cell_type": "code",
   "execution_count": null,
   "metadata": {},
   "outputs": [],
   "source": []
  }
 ],
 "metadata": {
  "kernelspec": {
   "display_name": "Python 3",
   "language": "python",
   "name": "python3"
  },
  "language_info": {
   "codemirror_mode": {
    "name": "ipython",
    "version": 3
   },
   "file_extension": ".py",
   "mimetype": "text/x-python",
   "name": "python",
   "nbconvert_exporter": "python",
   "pygments_lexer": "ipython3",
   "version": "3.6.5"
  }
 },
 "nbformat": 4,
 "nbformat_minor": 4
}
