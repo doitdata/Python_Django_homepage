{
 "cells": [
  {
   "cell_type": "code",
   "execution_count": 1,
   "metadata": {},
   "outputs": [
    {
     "name": "stdout",
     "output_type": "stream",
     "text": [
      "     name sex  age\n",
      "id                \n",
      "1   James   M   25\n",
      "2   Wendy   F   22 \n",
      "\n",
      "     name sex  age\n",
      "id                \n",
      "1   James   M   25\n",
      "2   Wendy   F   22\n",
      "3    Adam   M   30\n"
     ]
    }
   ],
   "source": [
    "import sqlite3\n",
    "import pandas as pd\n",
    "\n",
    "# DB 연결\n",
    "conn = sqlite3.connect('./output/sample.db')\n",
    "\n",
    "# SQL 쿼리를 이용하여 데이터프레임으로 저장\n",
    "sql = 'SELECT * from User'\n",
    "df = pd.read_sql_query(sql, conn, index_col = 'id')\n",
    "print(df, '\\n')\n",
    "\n",
    "# 행 추가\n",
    "df.loc[3] = ('Adam', 'M', 30)\n",
    "print(df)\n",
    "\n",
    "# DB에 변경사항 저장\n",
    "# if_exists 옵션에 replace값을 지정하면 기존 테이블을 대체한다는 의미\n",
    "df.to_sql('User', conn, if_exists='replace')\n",
    "\n",
    "# DB 연결 종료\n",
    "conn.close()"
   ]
  },
  {
   "cell_type": "code",
   "execution_count": null,
   "metadata": {},
   "outputs": [],
   "source": []
  }
 ],
 "metadata": {
  "kernelspec": {
   "display_name": "Python 3",
   "language": "python",
   "name": "python3"
  },
  "language_info": {
   "codemirror_mode": {
    "name": "ipython",
    "version": 3
   },
   "file_extension": ".py",
   "mimetype": "text/x-python",
   "name": "python",
   "nbconvert_exporter": "python",
   "pygments_lexer": "ipython3",
   "version": "3.6.5"
  }
 },
 "nbformat": 4,
 "nbformat_minor": 4
}
