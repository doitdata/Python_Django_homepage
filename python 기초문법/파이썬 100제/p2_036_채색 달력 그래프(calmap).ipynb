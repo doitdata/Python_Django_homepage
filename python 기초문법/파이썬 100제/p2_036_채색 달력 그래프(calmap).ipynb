{
 "cells": [
  {
   "cell_type": "code",
   "execution_count": 6,
   "metadata": {},
   "outputs": [
    {
     "name": "stdout",
     "output_type": "stream",
     "text": [
      "       년/월/일        종가     대비  등락률(%)        시가        고가        저가  거래량(천주)  \\\n",
      "0 2018-12-28  2,041.04  12.60    0.62  2,036.70  2,046.97  2,035.41  352,678   \n",
      "1 2018-12-27  2,028.44   0.43    0.02  2,032.09  2,035.57  2,021.39  398,021   \n",
      "2 2018-12-26  2,028.01 -27.00   -1.31  2,028.81  2,037.83  2,014.28  321,499   \n",
      "3 2018-12-24  2,055.01  -6.48   -0.31  2,050.38  2,059.94  2,046.18  285,275   \n",
      "4 2018-12-21  2,061.49   1.37    0.07  2,052.70  2,061.51  2,049.76  311,389   \n",
      "\n",
      "             거래대금(원)              상장시가총액(원)  \n",
      "0  4,120,695,824,217  1,343,971,857,985,694  \n",
      "1  5,351,003,742,272  1,335,555,861,715,532  \n",
      "2  5,424,078,195,801  1,336,757,289,211,058  \n",
      "3  3,843,849,185,884  1,352,900,455,817,700  \n",
      "4  5,492,537,998,707  1,357,352,795,408,644  \n",
      "\n",
      "\n",
      "               price  up_down  change     start      high       low  vol_num  \\\n",
      "date                                                                           \n",
      "2018-12-28  2,041.04    12.60    0.62  2,036.70  2,046.97  2,035.41  352,678   \n",
      "2018-12-27  2,028.44     0.43    0.02  2,032.09  2,035.57  2,021.39  398,021   \n",
      "2018-12-26  2,028.01   -27.00   -1.31  2,028.81  2,037.83  2,014.28  321,499   \n",
      "2018-12-24  2,055.01    -6.48   -0.31  2,050.38  2,059.94  2,046.18  285,275   \n",
      "2018-12-21  2,061.49     1.37    0.07  2,052.70  2,061.51  2,049.76  311,389   \n",
      "\n",
      "                      vol_amt                mkt_cap  \n",
      "date                                                  \n",
      "2018-12-28  4,120,695,824,217  1,343,971,857,985,694  \n",
      "2018-12-27  5,351,003,742,272  1,335,555,861,715,532  \n",
      "2018-12-26  5,424,078,195,801  1,336,757,289,211,058  \n",
      "2018-12-24  3,843,849,185,884  1,352,900,455,817,700  \n",
      "2018-12-21  5,492,537,998,707  1,357,352,795,408,644  \n",
      "\n",
      "\n"
     ]
    },
    {
     "data": {
      "text/plain": [
       "<Figure size 1152x576 with 0 Axes>"
      ]
     },
     "metadata": {},
     "output_type": "display_data"
    },
    {
     "data": {
      "image/png": "[encoded data removed]",
      "text/plain": [
       "<Figure size 1008x432 with 1 Axes>"
      ]
     },
     "metadata": {
      "needs_background": "light"
     },
     "output_type": "display_data"
    }
   ],
   "source": [
    "import pandas as pd\n",
    "import calmap\n",
    "import matplotlib.pyplot as plt\n",
    "\n",
    "pd.set_option('display.max_columns', 20)\n",
    "\n",
    "# KOSPI 데이터 준비\n",
    "df = pd.read_excel('./data/kospi.xls', parse_dates = ['년/월/일'])\n",
    "print(df.head())\n",
    "print('\\n')\n",
    "\n",
    "df.columns = ['date', 'price', 'up_down', 'change', 'start', 'high', 'low',\n",
    "             'vol_num', 'vol_amt', 'mkt_cap']\n",
    "df = df.set_index('date', drop = True)\n",
    "print(df.head())\n",
    "print('\\n')\n",
    "\n",
    "# Calender Map 표현\n",
    "plt.figure(figsize = (16,8))\n",
    "calmap.calendarplot(df.change,\n",
    "                   monthticks =1, daylabels = 'MTWTFSS', dayticks = [0,2,4,6],\n",
    "                   cmap = 'YlGn', linewidth = 0.05, fillcolor = 'grey',\n",
    "                    fig_kws = dict(figsize=(14,6)),\n",
    "                    yearlabel_kws = dict(color='black', fontsize = 12),\n",
    "                    subplot_kws =dict(title='2018 KOSPI Price Trend')\n",
    "                   )\n",
    "plt.show()"
   ]
  },
  {
   "cell_type": "code",
   "execution_count": null,
   "metadata": {},
   "outputs": [],
   "source": []
  }
 ],
 "metadata": {
  "kernelspec": {
   "display_name": "Python 3",
   "language": "python",
   "name": "python3"
  },
  "language_info": {
   "codemirror_mode": {
    "name": "ipython",
    "version": 3
   },
   "file_extension": ".py",
   "mimetype": "text/x-python",
   "name": "python",
   "nbconvert_exporter": "python",
   "pygments_lexer": "ipython3",
   "version": "3.6.5"
  }
 },
 "nbformat": 4,
 "nbformat_minor": 4
}
