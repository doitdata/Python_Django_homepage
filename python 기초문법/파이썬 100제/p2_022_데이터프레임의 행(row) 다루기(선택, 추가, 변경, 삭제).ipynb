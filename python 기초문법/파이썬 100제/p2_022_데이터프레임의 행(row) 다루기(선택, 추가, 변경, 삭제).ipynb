{
 "cells": [
  {
   "cell_type": "code",
   "execution_count": 2,
   "metadata": {},
   "outputs": [
    {
     "name": "stdout",
     "output_type": "stream",
     "text": [
      "    c0  c1\n",
      "r0   1   4\n",
      "r1   2   5\n",
      "r2   3   6 \n",
      "\n",
      "c0    1\n",
      "c1    4\n",
      "Name: r0, dtype: int64 \n",
      "\n",
      "c0    2\n",
      "c1    5\n",
      "Name: r1, dtype: int64 \n",
      "\n",
      "c0    3\n",
      "c1    6\n",
      "Name: r2, dtype: int64 \n",
      "\n",
      "    c0  c1\n",
      "r0   1   4\n",
      "r1   2   5\n",
      "r2   3   6\n",
      "r3  10  20 \n",
      "\n",
      "    c0  c1\n",
      "r0   1   4\n",
      "r1   2   5\n",
      "r2   3   6\n",
      "r3  10  20\n",
      "r4   0   0 \n",
      "\n",
      "    c0  c1\n",
      "r0   1   4\n",
      "r1   2   5\n",
      "r2   3   6\n",
      "r3   0   0\n",
      "r4   0   0 \n",
      "\n",
      "    c0  c1\n",
      "r0   1   4\n",
      "r1   2   5\n",
      "r2   3   6\n",
      "r3   0   0 \n",
      "\n",
      "    c0  c1\n",
      "r0   1   4\n",
      "r2   3   6\n"
     ]
    }
   ],
   "source": [
    "import pandas as pd\n",
    "\n",
    "# dictionary를 데이터프레임으로 변환\n",
    "dict_data = {'c0':[1,2,3], 'c1':[4,5,6]}\n",
    "df = pd.DataFrame(dict_data, index=['r0','r1','r2'])\n",
    "print(df, '\\n')\n",
    "\n",
    "# 행 선택\n",
    "row0 = df.iloc[0]\n",
    "row1 = df.iloc[1]\n",
    "row2 = df.loc['r2']\n",
    "\n",
    "print(row0, '\\n')\n",
    "print(row1, '\\n')\n",
    "print(row2, '\\n')\n",
    "\n",
    "# 행 추가\n",
    "df.loc['r3'] = 10, 20\n",
    "print(df, '\\n')\n",
    "\n",
    "df.loc['r4'] = 0\n",
    "print(df, '\\n')\n",
    "\n",
    "# 행 변경\n",
    "df.loc['r3'] = df.loc['r4']\n",
    "print(df, '\\n')\n",
    "\n",
    "# 행 삭제\n",
    "df.drop('r4', axis=0, inplace =True)\n",
    "print(df, '\\n')\n",
    "\n",
    "df.drop(['r1','r3'], axis=0, inplace=True)\n",
    "print(df)"
   ]
  },
  {
   "cell_type": "code",
   "execution_count": null,
   "metadata": {},
   "outputs": [],
   "source": []
  }
 ],
 "metadata": {
  "kernelspec": {
   "display_name": "Python 3",
   "language": "python",
   "name": "python3"
  },
  "language_info": {
   "codemirror_mode": {
    "name": "ipython",
    "version": 3
   },
   "file_extension": ".py",
   "mimetype": "text/x-python",
   "name": "python",
   "nbconvert_exporter": "python",
   "pygments_lexer": "ipython3",
   "version": "3.6.5"
  }
 },
 "nbformat": 4,
 "nbformat_minor": 4
}
