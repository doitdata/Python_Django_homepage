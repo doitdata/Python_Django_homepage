{
 "cells": [
  {
   "cell_type": "code",
   "execution_count": 15,
   "metadata": {},
   "outputs": [
    {
     "name": "stdout",
     "output_type": "stream",
     "text": [
      "40\n",
      "\n",
      "\n",
      "  corp_cls corp_name stock_code            report_nm        rcept_no flr_nm  \\\n",
      "0        Y     한화시스템     272210  임원ㆍ주요주주특정증권등소유상황보고서  20210507000867    최선혜   \n",
      "0        Y     한화시스템     272210  임원ㆍ주요주주특정증권등소유상황보고서  20210507000860    김형주   \n",
      "0        Y     한화시스템     272210  임원ㆍ주요주주특정증권등소유상황보고서  20210507000857    이광열   \n",
      "0        Y     한화시스템     272210  임원ㆍ주요주주특정증권등소유상황보고서  20210507000852     박혁   \n",
      "0        Y     한화시스템     272210  임원ㆍ주요주주특정증권등소유상황보고서  20210507000848    진명국   \n",
      "\n",
      "   rcept_dt rm  \n",
      "0  20210507     \n",
      "0  20210507     \n",
      "0  20210507     \n",
      "0  20210507     \n",
      "0  20210507     \n"
     ]
    }
   ],
   "source": [
    "import requests\n",
    "from bs4 import BeautifulSoup\n",
    "import pandas as pd\n",
    "import datetime as dt\n",
    "\n",
    "# DART 전자공시 사이트 API 인증키 입렵\n",
    "crtfc_key = '948a8f74d423b596ed0998d09243d0b55784602e'\n",
    "\n",
    "# 검색기간 설정하기\n",
    "now = dt.datetime.now()\n",
    "search_period = dt.timedelta(days=30)\n",
    "now_date = now.strftime('%Y%m%d')\n",
    "start_date = (now-search_period).strftime('%Y%m%d') # 시작일\n",
    "page_set = 10\n",
    "\n",
    "# DART 상세정보 접속 URL\n",
    "pdt_list = [ \n",
    "        \"D001\", #주식등의대량보유상황보고서\n",
    "        \"D002\", #임원ㆍ주요주주특정증권등소유상황보고서\n",
    "        \"D003\", #의결권대리행사권유\n",
    "        \"D004\", #공개매수\n",
    "]\n",
    "\n",
    "pdt_urls = []\n",
    "\n",
    "for pdt in pdt_list:\n",
    "    url = \"https://opendart.fss.or.kr/api/list.xml?crtfc_key=\"+crtfc_key+\"&page_count=\"+str(page_set)+\"&bgn_de=\"+start_date+'&pblntf_detail_ty='+pdt\n",
    "    pdt_urls.append(url)\n",
    "\n",
    "# print(pdt_urls)\n",
    "# BeautfulSoup으로 API가 반환하는 xml 해석하여 dataframe으로 정리\n",
    "\n",
    "sum_items = []\n",
    "\n",
    "for url in pdt_urls:\n",
    "    xml = requests.get(pdt_urls[1])\n",
    "    soup = BeautifulSoup(xml.text, 'html.parser')\n",
    "    items = soup.find_all('list')\n",
    "    sum_items += items\n",
    "    \n",
    "print(len(sum_items))\n",
    "print('\\n')\n",
    "\n",
    "search_result = pd.DataFrame()\n",
    "\n",
    "for item in sum_items:\n",
    "    temp_dataframe = pd.DataFrame(([[\n",
    "        item.corp_cls.text, item.corp_name.text, item.stock_code.text,\n",
    "        item.report_nm.text, item.rcept_no.text, item.flr_nm.text,\n",
    "        item.rcept_dt.text, item.rm.text]]),\n",
    "    columns = ['corp_cls', 'corp_name', 'stock_code', 'report_nm', 'rcept_no', 'flr_nm', 'rcept_dt', 'rm' ])\n",
    "    search_result = pd.concat([search_result, temp_dataframe])\n",
    "    \n",
    "print(search_result.head())"
   ]
  },
  {
   "cell_type": "code",
   "execution_count": null,
   "metadata": {},
   "outputs": [],
   "source": []
  }
 ],
 "metadata": {
  "kernelspec": {
   "display_name": "Python 3",
   "language": "python",
   "name": "python3"
  },
  "language_info": {
   "codemirror_mode": {
    "name": "ipython",
    "version": 3
   },
   "file_extension": ".py",
   "mimetype": "text/x-python",
   "name": "python",
   "nbconvert_exporter": "python",
   "pygments_lexer": "ipython3",
   "version": "3.6.5"
  }
 },
 "nbformat": 4,
 "nbformat_minor": 4
}
