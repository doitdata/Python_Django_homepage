{
 "cells": [
  {
   "cell_type": "code",
   "execution_count": 1,
   "metadata": {},
   "outputs": [
    {
     "name": "stdout",
     "output_type": "stream",
     "text": [
      "<sqlite3.Connection object at 0x0000020882C5D9D0>\n",
      "<sqlite3.Cursor object at 0x0000020882C9D6C0>\n"
     ]
    }
   ],
   "source": [
    "import sqlite3\n",
    "\n",
    "# DB 연결(DB가 없는 경우, 새로운 DB파일 생성)\n",
    "# connect() 메소드를 이용하여, 데이터 베이스 연결하고, 연결객체를 생성\n",
    "conn = sqlite3.connect('./output/sample.db')\n",
    "print(conn)\n",
    "\n",
    "# Connection 객체 Cursor 생성\n",
    "# cursor() 메소드를 적용하면 db에 slq 쿼리를 보내거나 받을 수 있는 커서를 오픈\n",
    "cur = conn.cursor()\n",
    "print(cur)\n",
    "\n",
    "# DB 연결 종료\n",
    "conn.close()"
   ]
  },
  {
   "cell_type": "code",
   "execution_count": null,
   "metadata": {},
   "outputs": [],
   "source": []
  }
 ],
 "metadata": {
  "kernelspec": {
   "display_name": "Python 3",
   "language": "python",
   "name": "python3"
  },
  "language_info": {
   "codemirror_mode": {
    "name": "ipython",
    "version": 3
   },
   "file_extension": ".py",
   "mimetype": "text/x-python",
   "name": "python",
   "nbconvert_exporter": "python",
   "pygments_lexer": "ipython3",
   "version": "3.6.5"
  }
 },
 "nbformat": 4,
 "nbformat_minor": 4
}
