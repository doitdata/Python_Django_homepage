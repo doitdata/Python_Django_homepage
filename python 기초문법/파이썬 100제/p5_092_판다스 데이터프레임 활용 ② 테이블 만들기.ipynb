{
 "cells": [
  {
   "cell_type": "code",
   "execution_count": 1,
   "metadata": {},
   "outputs": [
    {
     "name": "stdout",
     "output_type": "stream",
     "text": [
      "   id   name sex  age\n",
      "0   1  James   M   25\n",
      "1   2  Wendy   F   22 \n",
      "\n",
      "   id   name sex  age\n",
      "0   1  James   M   25\n",
      "1   2  Wendy   F   22\n"
     ]
    }
   ],
   "source": [
    "import sqlite3\n",
    "import pandas as pd\n",
    "\n",
    "# DB 연결\n",
    "conn = sqlite3.connect('./output/sample.db')\n",
    "\n",
    "# 데이터 프레임을 이용하여 테이블 정의\n",
    "df = pd.DataFrame(\n",
    "            [[1, 'James', 'M', 25],\n",
    "             [2, 'Wendy', 'F', 22 ]],\n",
    "            columns = ['id', 'name', 'sex', 'age']\n",
    "            )\n",
    "\n",
    "print(df, '\\n')\n",
    "\n",
    "ndf = df.set_index('id')\n",
    "print(df)\n",
    "\n",
    "# DB에 변경사항 저장\n",
    "# 데이터 프레임 객체 (ndf)에 to_sql() 메소드를 적용하면 데이터베이스의 테이블로 변환\n",
    "ndf.to_sql('User', conn)\n",
    "\n",
    "# DB 연결 종료\n",
    "conn.close()"
   ]
  },
  {
   "cell_type": "code",
   "execution_count": null,
   "metadata": {},
   "outputs": [],
   "source": []
  }
 ],
 "metadata": {
  "kernelspec": {
   "display_name": "Python 3",
   "language": "python",
   "name": "python3"
  },
  "language_info": {
   "codemirror_mode": {
    "name": "ipython",
    "version": 3
   },
   "file_extension": ".py",
   "mimetype": "text/x-python",
   "name": "python",
   "nbconvert_exporter": "python",
   "pygments_lexer": "ipython3",
   "version": "3.6.5"
  }
 },
 "nbformat": 4,
 "nbformat_minor": 4
}
