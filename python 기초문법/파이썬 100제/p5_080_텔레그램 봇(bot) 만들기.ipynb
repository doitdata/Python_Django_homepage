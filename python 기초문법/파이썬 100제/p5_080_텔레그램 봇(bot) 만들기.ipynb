{
 "cells": [
  {
   "cell_type": "code",
   "execution_count": 2,
   "metadata": {},
   "outputs": [
    {
     "name": "stdout",
     "output_type": "stream",
     "text": [
      "<class 'telegram.bot.Bot'>\n",
      "{'id': 1871815690, 'username': 'sohit0627_bot', 'first_name': 'py100_bot'}\n",
      "<class 'telegram.user.User'>\n",
      "{'id': 1871815690, 'first_name': 'py100_bot', 'is_bot': True, 'username': 'sohit0627_bot', 'can_join_groups': True, 'can_read_all_group_messages': False, 'supports_inline_queries': False}\n"
     ]
    }
   ],
   "source": [
    "import telegram\n",
    "\n",
    "my_token = '1871815690:AAH1OxcxB4bt0OL2QqoVuKqkESpnwaq4pAo'\n",
    "\n",
    "# 봇 생성\n",
    "bot = telegram.Bot(token=my_token)\n",
    "print(type(bot))\n",
    "print(bot)\n",
    "\n",
    "# getMe() 메소드로 봇(사용자) 정보 확인\n",
    "bot_info = bot.getMe()\n",
    "print(type(bot_info))\n",
    "print(bot_info)"
   ]
  },
  {
   "cell_type": "code",
   "execution_count": null,
   "metadata": {},
   "outputs": [],
   "source": []
  }
 ],
 "metadata": {
  "kernelspec": {
   "display_name": "Python 3",
   "language": "python",
   "name": "python3"
  },
  "language_info": {
   "codemirror_mode": {
    "name": "ipython",
    "version": 3
   },
   "file_extension": ".py",
   "mimetype": "text/x-python",
   "name": "python",
   "nbconvert_exporter": "python",
   "pygments_lexer": "ipython3",
   "version": "3.6.5"
  }
 },
 "nbformat": 4,
 "nbformat_minor": 4
}
