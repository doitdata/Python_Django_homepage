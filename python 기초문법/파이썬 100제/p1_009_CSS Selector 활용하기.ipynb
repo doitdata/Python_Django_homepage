{
 "cells": [
  {
   "cell_type": "code",
   "execution_count": 2,
   "metadata": {},
   "outputs": [
    {
     "name": "stdout",
     "output_type": "stream",
     "text": [
      "963\n",
      "\n",
      "\n",
      "[<a id=\"top\"></a>, <a class=\"mw-jump-link\" href=\"#mw-head\">Jump to navigation</a>, <a class=\"mw-jump-link\" href=\"#searchInput\">Jump to search</a>]\n",
      "\n",
      "\n",
      "[<a class=\"external text\" href=\"http://www.seoulmetro.co.kr/kr/board.do?menuIdx=548\" rel=\"nofollow\">\"자료실 : 알림마당&gt;자료실&gt;자료실\"</a>, <a class=\"external text\" href=\"http://www.korail.com/file/statistics/2012/2012-04.pdf\" rel=\"nofollow\">2012 Korail Statistics</a>, <a class=\"external text\" href=\"https://web.archive.org/web/20140227072212/http://www.korail.com/file/statistics/2012/2012-04.pdf\" rel=\"nofollow\">Archived</a>]\n",
      "\n",
      "\n",
      "[<div class=\"mw-body-content\" id=\"siteNotice\"><!-- CentralNotice --></div>]\n",
      "\n",
      "\n",
      "[<div class=\"mw-body-content\" id=\"siteNotice\"><!-- CentralNotice --></div>]\n",
      "\n",
      "\n",
      "[]\n",
      "\n",
      "\n",
      "[<span class=\"mw-headline\" id=\"Overview\">Overview</span>, <span class=\"mw-headline\" id=\"History\">History</span>, <span class=\"mw-headline\" id=\"Lines_and_branches\">Lines and branches</span>, <span class=\"mw-headline\" id=\"Rolling_stock\">Rolling stock</span>, <span class=\"mw-headline\" id=\"Fares_and_ticketing\">Fares and ticketing</span>, <span class=\"mw-headline\" id=\"Current_construction\">Current construction</span>, <span class=\"mw-headline\" id=\"Opening_2020\">Opening 2020</span>, <span class=\"mw-headline\" id=\"Opening_2021\">Opening 2021</span>, <span class=\"mw-headline\" id=\"Opening_2022\">Opening 2022</span>, <span class=\"mw-headline\" id=\"Opening_2023\">Opening 2023</span>, <span class=\"mw-headline\" id=\"Tentative\">Tentative</span>, <span class=\"mw-headline\" id=\"Under_planning\">Under planning</span>, <span class=\"mw-headline\" id=\"Seoul_City\">Seoul City</span>, <span class=\"mw-headline\" id=\"Incheon_City\">Incheon City</span>, <span class=\"mw-headline\" id=\"Network_map\">Network map</span>, <span class=\"mw-headline\" id=\"See_also\">See also</span>, <span class=\"mw-headline\" id=\"Notes\">Notes</span>, <span class=\"mw-headline\" id=\"References\">References</span>, <span class=\"mw-headline\" id=\"External_links\">External links</span>]\n",
      "\n",
      "\n"
     ]
    }
   ],
   "source": [
    "import requests\n",
    "from bs4 import BeautifulSoup\n",
    "\n",
    "url = \"https://en.wikipedia.org/wiki/Seoul_Metropolitan_Subway\"\n",
    "resp = requests.get(url)\n",
    "html_src = resp.text\n",
    "soup = BeautifulSoup(html_src, 'html.parser')\n",
    "\n",
    "links = soup.select('a')\n",
    "print(len(links))\n",
    "print('\\n')\n",
    "\n",
    "print(links[:3])\n",
    "print('\\n')\n",
    "\n",
    "# <a> 태그 중에서 class 속성을 갖고 그 값이 external text인 태그를 찾아서 리스트로 리턴\n",
    "external_links = soup.select('a[class=\"external text\"]')\n",
    "print(external_links[:3])\n",
    "print('\\n')\n",
    "\n",
    "# css의 id선택자를 활용하는 벙법\n",
    "# id는 고유한 값을 갖기 때문에, id 선택자 사용시 오직 한개의 태그만을 갖음\n",
    "# id 선택자는 #id속성값으로 표현 \n",
    "id_selector = soup.select('#siteNotice')\n",
    "print(id_selector)\n",
    "print('\\n')\n",
    "\n",
    "id_selector2 = soup.select('div#siteNotice')\n",
    "print(id_selector2)\n",
    "print('\\n')\n",
    "\n",
    "id_selector3 = soup.select('p#siteNotice')\n",
    "print(id_selector3)\n",
    "print('\\n')\n",
    "\n",
    "# css의 클래스 선택자 활용하는 방법\n",
    "# css 스타일 시트에서 서로 다른 요소에 동일한 스티일을 지정할 때 클래스 선택자를 사용하는데, 클래스 선택자를 사용하면 같은 클래스를 갖는 여러 태그를 동시에 찾을 수 있다. \n",
    "# 클래스 선택자는 .class속성값으로 찾을 수 있음. \n",
    "class_selector2 = soup.select('span.mw-headline')\n",
    "print(class_selector2)\n",
    "print('\\n')\n"
   ]
  },
  {
   "cell_type": "code",
   "execution_count": null,
   "metadata": {},
   "outputs": [],
   "source": []
  }
 ],
 "metadata": {
  "kernelspec": {
   "display_name": "Python 3",
   "language": "python",
   "name": "python3"
  },
  "language_info": {
   "codemirror_mode": {
    "name": "ipython",
    "version": 3
   },
   "file_extension": ".py",
   "mimetype": "text/x-python",
   "name": "python",
   "nbconvert_exporter": "python",
   "pygments_lexer": "ipython3",
   "version": "3.6.5"
  }
 },
 "nbformat": 4,
 "nbformat_minor": 4
}
