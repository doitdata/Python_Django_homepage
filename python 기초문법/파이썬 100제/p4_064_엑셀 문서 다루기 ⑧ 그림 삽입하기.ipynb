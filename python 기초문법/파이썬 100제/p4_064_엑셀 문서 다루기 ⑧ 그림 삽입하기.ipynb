{
 "cells": [
  {
   "cell_type": "code",
   "execution_count": 2,
   "metadata": {},
   "outputs": [
    {
     "name": "stdout",
     "output_type": "stream",
     "text": [
      "<openpyxl.drawing.image.Image object at 0x0000025F31C1B8D0>\n"
     ]
    }
   ],
   "source": [
    "import openpyxl\n",
    "from openpyxl.drawing.image import Image\n",
    "import os\n",
    "\n",
    "# 예제 030에서 저장한 박스플롯 이미지 파일을 가져와서 image 객체 생성\n",
    "cwd = os.getcwd()\n",
    "filename = 'boxplot.png'\n",
    "filepath = os.path.join(cwd, 'output', filename)\n",
    "img = Image(filepath)\n",
    "print(img)\n",
    "\n",
    "wb = openpyxl.Workbook()\n",
    "ws = wb.create_sheet(index=0, title='Image')\n",
    "wb.remove(wb['Sheet'])\n",
    "\n",
    "ws['A1'] = 'Box Plot'\n",
    "ws.add_image(img, 'B3')\n",
    "\n",
    "wb.save(os.path.join(os.getcwd(), 'output', 'insert_image.xlsx'))"
   ]
  },
  {
   "cell_type": "code",
   "execution_count": null,
   "metadata": {},
   "outputs": [],
   "source": []
  }
 ],
 "metadata": {
  "kernelspec": {
   "display_name": "Python 3",
   "language": "python",
   "name": "python3"
  },
  "language_info": {
   "codemirror_mode": {
    "name": "ipython",
    "version": 3
   },
   "file_extension": ".py",
   "mimetype": "text/x-python",
   "name": "python",
   "nbconvert_exporter": "python",
   "pygments_lexer": "ipython3",
   "version": "3.6.5"
  }
 },
 "nbformat": 4,
 "nbformat_minor": 4
}
