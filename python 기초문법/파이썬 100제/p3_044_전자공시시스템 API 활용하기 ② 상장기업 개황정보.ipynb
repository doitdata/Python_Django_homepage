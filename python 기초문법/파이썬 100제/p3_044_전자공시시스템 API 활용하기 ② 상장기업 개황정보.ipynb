{
 "cells": [
  {
   "cell_type": "code",
   "execution_count": 8,
   "metadata": {},
   "outputs": [
    {
     "name": "stdout",
     "output_type": "stream",
     "text": [
      "{'corp_name': '삼성전자(주)', 'corp_name_eng': 'SAMSUNG ELECTRONICS CO,.LTD', 'stock_name': '삼성전자', 'stock_code': '005930', 'ceo_nm': '김기남, 김현석, 고동진', 'jurir_no': '1301110006246', 'bizr_no': '1248100998', 'adres': '경기도 수원시 영통구  삼성로 129 (매탄동)', 'hm_url': 'www.sec.co.kr', 'phn_no': '031-200-1114', 'fax_no': '031-200-7538', 'induty_code': '264', 'est_dt': '19690113', 'acc_mt': '12'}\n"
     ]
    }
   ],
   "source": [
    "import requests\n",
    "from bs4 import BeautifulSoup\n",
    "\n",
    "# DART 전자공시 사이트 APT 인증키 입력\n",
    "crtfc_key = '948a8f74d423b596ed0998d09243d0b55784602e'\n",
    "\n",
    "# 기업개황 정보 접속 URL\n",
    "corp_code = \"00126380\"\n",
    "url = \"https://opendart.fss.or.kr/api/company.xml?crtfc_key=\"+crtfc_key+\"&corp_code=\"+corp_code\n",
    "\n",
    "# BeautifulSoup으로 API가 반환하는 XML 해석하여 dataframe으로 정리\n",
    "xml = requests.get(url)\n",
    "soup = BeautifulSoup(xml.text, 'html.parser')  \n",
    "\n",
    "corp_name = soup.find('corp_name').text\n",
    "corp_name_eng = soup.find('corp_name_eng').text\n",
    "stock_name = soup.find('stock_name').text\n",
    "stock_code = soup.find('stock_code').text\n",
    "ceo_nm = soup.find('ceo_nm').text\n",
    "jurir_no = soup.find('jurir_no').text\n",
    "bizr_no = soup.find('bizr_no').text\n",
    "adres = soup.find('adres').text\n",
    "hm_url = soup.find('hm_url').text\n",
    "phn_no = soup.find('phn_no').text\n",
    "fax_no = soup.find('fax_no').text\n",
    "induty_code = soup.find('induty_code').text\n",
    "est_dt = soup.find('est_dt').text\n",
    "acc_mt = soup.find('acc_mt').text\n",
    "\n",
    "company_info = {'corp_name':corp_name,\n",
    "                'corp_name_eng':corp_name_eng,\n",
    "                'stock_name':stock_name,\n",
    "                'stock_code':stock_code,\n",
    "                'ceo_nm':ceo_nm,\n",
    "                'jurir_no':jurir_no,\n",
    "                'bizr_no':bizr_no,\n",
    "                'adres':adres,\n",
    "                'hm_url':hm_url,\n",
    "                'phn_no':phn_no,\n",
    "                'fax_no':fax_no,\n",
    "                'induty_code':induty_code,\n",
    "                'est_dt':est_dt,\n",
    "                'acc_mt':acc_mt,                \n",
    "                }\n",
    "\n",
    "print(company_info)"
   ]
  },
  {
   "cell_type": "code",
   "execution_count": null,
   "metadata": {},
   "outputs": [],
   "source": []
  }
 ],
 "metadata": {
  "kernelspec": {
   "display_name": "Python 3",
   "language": "python",
   "name": "python3"
  },
  "language_info": {
   "codemirror_mode": {
    "name": "ipython",
    "version": 3
   },
   "file_extension": ".py",
   "mimetype": "text/x-python",
   "name": "python",
   "nbconvert_exporter": "python",
   "pygments_lexer": "ipython3",
   "version": "3.6.5"
  }
 },
 "nbformat": 4,
 "nbformat_minor": 4
}
