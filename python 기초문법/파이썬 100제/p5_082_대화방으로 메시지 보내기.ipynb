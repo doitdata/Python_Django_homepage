{
 "cells": [
  {
   "cell_type": "code",
   "execution_count": 2,
   "metadata": {},
   "outputs": [
    {
     "name": "stdout",
     "output_type": "stream",
     "text": [
      "보낼 메시지를 입력하세요:안뇽\n"
     ]
    }
   ],
   "source": [
    "import telegram\n",
    "\n",
    "# 텔레그램 메시지를 발송하는 사용자 함수 정의\n",
    "\n",
    "def send_telegram_message(message):\n",
    "\n",
    "    my_token = '1871815690:AAH1OxcxB4bt0OL2QqoVuKqkESpnwaq4pAo'\n",
    "    bot = telegram.Bot(token=my_token)\n",
    "    \n",
    "    chat_id = bot.getUpdates()[-1].message.chat.id\n",
    "    # sendMessage() 메소드를 사용하여 메시지 보내기, chat_id와 메시지를 텍스트 형태의 함수 인자로 입력\n",
    "    bot.sendMessage(chat_id=chat_id, text=str(message))\n",
    "\n",
    "\n",
    "if __name__ == '__main__':  \n",
    "    \n",
    "    message = input('보낼 메시지를 입력하세요:')\n",
    "    send_telegram_message(message)"
   ]
  },
  {
   "cell_type": "code",
   "execution_count": null,
   "metadata": {},
   "outputs": [],
   "source": []
  }
 ],
 "metadata": {
  "kernelspec": {
   "display_name": "Python 3",
   "language": "python",
   "name": "python3"
  },
  "language_info": {
   "codemirror_mode": {
    "name": "ipython",
    "version": 3
   },
   "file_extension": ".py",
   "mimetype": "text/x-python",
   "name": "python",
   "nbconvert_exporter": "python",
   "pygments_lexer": "ipython3",
   "version": "3.6.5"
  }
 },
 "nbformat": 4,
 "nbformat_minor": 4
}
