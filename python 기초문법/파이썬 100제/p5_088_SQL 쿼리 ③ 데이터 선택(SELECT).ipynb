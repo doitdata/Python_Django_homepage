{
 "cells": [
  {
   "cell_type": "code",
   "execution_count": 3,
   "metadata": {},
   "outputs": [
    {
     "name": "stdout",
     "output_type": "stream",
     "text": [
      "(1, '제품 1', 1000, '/product1.html')\n",
      "(2, '제품 2', 5000, '/product2.html')\n",
      "(3, '제품 3', 3000, '/product3.html')\n",
      "(4, '제품 4', 2000, '/product4.html')\n",
      "(5, '제품 5', 2000, '/product5.html')\n",
      "\n",
      "\n",
      "(4, '제품 4', 2000, '/product4.html')\n",
      "(5, '제품 5', 2000, '/product5.html')\n",
      "\n",
      "\n",
      "(5, '제품 5', 2000, '/product5.html')\n"
     ]
    }
   ],
   "source": [
    "import sqlite3\n",
    "\n",
    "# DB 연결\n",
    "conn = sqlite3.connect('./output/sample.db')\n",
    "cur = conn.cursor()\n",
    "\n",
    "# 방법 1 -  모든 행 레코드를 가져올 때\n",
    "cur.execute('SELECT * from Product')\n",
    "# fetchall() 메소드를 커서 객체에 정용하고, 앞에서 선택한 행 레코드를 모두 가져와 rows 변수에 저장\n",
    "rows = cur.fetchall()\n",
    "for row in rows:\n",
    "    print(row)\n",
    "print('\\n')\n",
    "\n",
    "# 방법 2 - where 조건문\n",
    "cur.execute('SELECT * from Product where price = 2000')\n",
    "rows = cur.fetchall()\n",
    "for row in rows:\n",
    "    print(row)\n",
    "print('\\n')\n",
    "\n",
    "# 방법 3 - where 조건문과 ? Placeholder를 활용\n",
    "# id가 5이고 가격이 2000인 행을 추출\n",
    "cur.execute('SELECT * from Product where id=? and price=?', (5, 2000))\n",
    "rows = cur.fetchall()\n",
    "for row in rows:\n",
    "    print(row)\n",
    "    \n",
    "# DB 연결 종료\n",
    "conn.close()"
   ]
  },
  {
   "cell_type": "code",
   "execution_count": null,
   "metadata": {},
   "outputs": [],
   "source": []
  }
 ],
 "metadata": {
  "kernelspec": {
   "display_name": "Python 3",
   "language": "python",
   "name": "python3"
  },
  "language_info": {
   "codemirror_mode": {
    "name": "ipython",
    "version": 3
   },
   "file_extension": ".py",
   "mimetype": "text/x-python",
   "name": "python",
   "nbconvert_exporter": "python",
   "pygments_lexer": "ipython3",
   "version": "3.6.5"
  }
 },
 "nbformat": 4,
 "nbformat_minor": 4
}
