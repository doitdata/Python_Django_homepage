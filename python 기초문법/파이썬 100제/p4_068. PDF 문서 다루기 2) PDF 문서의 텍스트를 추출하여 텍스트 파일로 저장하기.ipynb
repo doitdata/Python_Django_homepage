{
 "cells": [
  {
   "cell_type": "code",
   "execution_count": 1,
   "metadata": {},
   "outputs": [],
   "source": [
    "# 라이브러리 불러오기 \n",
    "import PyPDF2\n",
    "from pdfminer.pdfinterp import PDFResourceManager, PDFPageInterpreter\n",
    "from pdfminer.converter import TextConverter\n",
    "from pdfminer.layout import LAParams\n",
    "from pdfminer.pdfpage import PDFPage\n",
    "from io import StringIO\n",
    "import os\n",
    "\n",
    "# 함수 정의 : PDF 파일의 페이지별 텍스트를 추출하여 딕셔너리 형태로 정리 \n",
    "def pdf_to_txt(filepath):\n",
    "    \n",
    "    fp = open(filepath, 'rb')\n",
    "    total_pages = PyPDF2.PdfFileReader(fp).numPages\n",
    "\n",
    "    page_text = {} \n",
    "    for page_no in range(total_pages):\n",
    "        \n",
    "        rsrcmgr = PDFResourceManager()\n",
    "        retstr = StringIO()\n",
    "        codec = 'utf-8'\n",
    "        laparams = LAParams()\n",
    "        device = TextConverter(rsrcmgr, retstr, codec=codec, laparams=laparams)\n",
    "        fp = open(filepath, 'rb')\n",
    "        password=None\n",
    "        maxpages=0\n",
    "        interpreter = PDFPageInterpreter(rsrcmgr, device)\n",
    "        caching = True\n",
    "        pagenos=[page_no]\n",
    "     \n",
    "        for page in PDFPage.get_pages(fp, pagenos, maxpages=maxpages, password=password,\n",
    "                                      caching=caching, check_extractable=True):\n",
    "            interpreter.process_page(page)\n",
    "    \n",
    "        page_text[page_no] = retstr.getvalue()\n",
    "     \n",
    "        fp.close()\n",
    "        device.close()\n",
    "        retstr.close()\n",
    "       \n",
    "    return page_text\n",
    "\n",
    "\n",
    "if __name__ == \"__main__\": \n",
    "    #  pdf 파일 경로를 지정하여 텍스트 추출하기 \n",
    "    filename = \"north_korea_economic_growth.pdf\"\n",
    "    filepath = os.path.join(os.getcwd(), \"data\", filename)\n",
    "    pdf_text = pdf_to_txt(filepath)\n",
    "    \n",
    "    # txt 파일로 저장하기\n",
    "    text_file = os.path.join(os.getcwd(), \"output\", filename.split('.')[0]+\".txt\")\n",
    "    # 쓰기전용 모드, 숫자 -1은 임시데이터 저장 공간을 제공하는 버퍼링 옵션값 \n",
    "    f = open(text_file, 'w', -1, \"utf-8\")\n",
    "    \n",
    "    for k, v in pdf_text.items():\n",
    "        first_row = \"-----------------%s 페이지의 내용입니다------------------- \\n\" % k\n",
    "        f.write(first_row + v)\n",
    "    \n",
    "    f.close()"
   ]
  },
  {
   "cell_type": "code",
   "execution_count": null,
   "metadata": {},
   "outputs": [],
   "source": []
  }
 ],
 "metadata": {
  "kernelspec": {
   "display_name": "Python 3",
   "language": "python",
   "name": "python3"
  },
  "language_info": {
   "codemirror_mode": {
    "name": "ipython",
    "version": 3
   },
   "file_extension": ".py",
   "mimetype": "text/x-python",
   "name": "python",
   "nbconvert_exporter": "python",
   "pygments_lexer": "ipython3",
   "version": "3.6.5"
  }
 },
 "nbformat": 4,
 "nbformat_minor": 4
}
