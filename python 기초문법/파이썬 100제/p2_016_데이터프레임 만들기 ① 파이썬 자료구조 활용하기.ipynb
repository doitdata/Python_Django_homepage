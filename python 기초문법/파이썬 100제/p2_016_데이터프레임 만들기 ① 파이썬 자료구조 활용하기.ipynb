{
 "cells": [
  {
   "cell_type": "code",
   "execution_count": 2,
   "metadata": {},
   "outputs": [
    {
     "name": "stdout",
     "output_type": "stream",
     "text": [
      "<class 'pandas.core.frame.DataFrame'> \n",
      "\n",
      "   c0  c1\n",
      "0   1   6\n",
      "1   2   7\n",
      "2   3   8\n",
      "3   4   9\n",
      "4   5  10 \n",
      "\n",
      "    c0  c1\n",
      "r0   1   6\n",
      "r1   2   7\n",
      "r2   3   8\n",
      "r3   4   9\n",
      "r4   5  10 \n",
      "\n",
      "   0  1  2  3   4\n",
      "0  1  2  3  4   5\n",
      "1  6  7  8  9  10 \n",
      "\n",
      "    c0  c1  c2  c3  c4\n",
      "r0   1   2   3   4   5\n",
      "r1   6   7   8   9  10 \n",
      "\n",
      "(5, 2)\n",
      "(2, 5)\n"
     ]
    }
   ],
   "source": [
    "import pandas as pd\n",
    "\n",
    "# dictionary를 데이터프레임으로 변환\n",
    "dict_data = {'c0':[1,2,3,4,5], 'c1':[6,7,8,9,10]}\n",
    "df1 = pd.DataFrame(dict_data)\n",
    "print(type(df1), '\\n')\n",
    "print(df1, '\\n')\n",
    "\n",
    "# 행 이름 지정\n",
    "df2 = pd.DataFrame(dict_data, index = ['r0','r1','r2','r3','r4'])\n",
    "print(df2, '\\n')\n",
    "\n",
    "# list of list 를 데이터 프레임으로 변환\n",
    "list_of_list_data = [[1,2,3,4,5], [6,7,8,9,10]]\n",
    "df3 = pd.DataFrame(list_of_list_data)\n",
    "print(df3, '\\n')\n",
    "\n",
    "# 행이름, 열이름 지정\n",
    "df4 = pd.DataFrame(list_of_list_data,\n",
    "                   index = ['r0','r1'],\n",
    "                   columns = ['c0','c1','c2','c3','c4']\n",
    "                  )\n",
    "\n",
    "print(df4, '\\n')\n",
    "\n",
    "# 데이터 프레임의 형태 확인\n",
    "print(df2.shape)\n",
    "print(df4.shape)"
   ]
  },
  {
   "cell_type": "code",
   "execution_count": null,
   "metadata": {},
   "outputs": [],
   "source": []
  }
 ],
 "metadata": {
  "kernelspec": {
   "display_name": "Python 3",
   "language": "python",
   "name": "python3"
  },
  "language_info": {
   "codemirror_mode": {
    "name": "ipython",
    "version": 3
   },
   "file_extension": ".py",
   "mimetype": "text/x-python",
   "name": "python",
   "nbconvert_exporter": "python",
   "pygments_lexer": "ipython3",
   "version": "3.6.5"
  }
 },
 "nbformat": 4,
 "nbformat_minor": 4
}
