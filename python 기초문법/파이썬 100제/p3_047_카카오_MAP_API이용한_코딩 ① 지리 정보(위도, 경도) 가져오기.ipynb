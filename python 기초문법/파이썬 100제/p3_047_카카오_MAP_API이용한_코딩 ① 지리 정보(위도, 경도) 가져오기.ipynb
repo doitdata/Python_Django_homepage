{
 "cells": [
  {
   "cell_type": "markdown",
   "metadata": {},
   "source": [
    "**참고: https://jlim0316.tistory.com/7?category=825435**"
   ]
  },
  {
   "cell_type": "code",
   "execution_count": 6,
   "metadata": {},
   "outputs": [
    {
     "data": {
      "text/plain": [
       "{'documents': [{'address_name': '서울 종로구 세종로 119',\n",
       "   'category_group_code': '',\n",
       "   'category_group_name': '',\n",
       "   'category_name': '문화,예술 > 도서 > 서점 > 교보문고',\n",
       "   'distance': '',\n",
       "   'id': '8196057',\n",
       "   'phone': '1544-1900',\n",
       "   'place_name': '교보문고 광화문점',\n",
       "   'place_url': 'http://place.map.kakao.com/8196057',\n",
       "   'road_address_name': '서울 종로구 종로 1',\n",
       "   'x': '126.977908555263',\n",
       "   'y': '37.5707974563789'},\n",
       "  {'address_name': '서울 종로구 세종로 119',\n",
       "   'category_group_code': '',\n",
       "   'category_group_name': '',\n",
       "   'category_name': '가정,생활 > 문구,사무용품 > 디자인문구 > 아트박스',\n",
       "   'distance': '',\n",
       "   'id': '11760293',\n",
       "   'phone': '02-732-9961',\n",
       "   'place_name': '아트박스 교보문고광화문점',\n",
       "   'place_url': 'http://place.map.kakao.com/11760293',\n",
       "   'road_address_name': '서울 종로구 종로 1',\n",
       "   'x': '126.97791534705753',\n",
       "   'y': '37.570797457649654'}],\n",
       " 'meta': {'is_end': True,\n",
       "  'pageable_count': 2,\n",
       "  'same_name': {'keyword': '교보문고 광화문점', 'region': [], 'selected_region': ''},\n",
       "  'total_count': 2}}"
      ]
     },
     "execution_count": 6,
     "metadata": {},
     "output_type": "execute_result"
    }
   ],
   "source": [
    "import simplejson,requests\n",
    "import sys\n",
    "\n",
    "url = \"https://dapi.kakao.com/v2/local/search/keyword.json?\"\n",
    "apikey = \"a51c81b5a420a5ddea5d69c72a793da0\"\n",
    "query = \"교보문고 광화문점\"\n",
    "r = requests.get( url, params = {'query':query}, headers={'Authorization' : 'KakaoAK ' + apikey } )\n",
    "js = simplejson.JSONEncoder().encode(r.json())\n",
    "r.json()\n"
   ]
  },
  {
   "cell_type": "code",
   "execution_count": null,
   "metadata": {},
   "outputs": [],
   "source": []
  }
 ],
 "metadata": {
  "kernelspec": {
   "display_name": "Python 3",
   "language": "python",
   "name": "python3"
  },
  "language_info": {
   "codemirror_mode": {
    "name": "ipython",
    "version": 3
   },
   "file_extension": ".py",
   "mimetype": "text/x-python",
   "name": "python",
   "nbconvert_exporter": "python",
   "pygments_lexer": "ipython3",
   "version": "3.6.5"
  }
 },
 "nbformat": 4,
 "nbformat_minor": 4
}
