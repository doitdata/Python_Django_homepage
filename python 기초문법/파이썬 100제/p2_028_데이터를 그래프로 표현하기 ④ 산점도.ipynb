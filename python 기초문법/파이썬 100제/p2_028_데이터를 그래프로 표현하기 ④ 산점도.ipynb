{
 "cells": [
  {
   "cell_type": "code",
   "execution_count": 1,
   "metadata": {},
   "outputs": [
    {
     "name": "stdout",
     "output_type": "stream",
     "text": [
      "      CD_rate  change\n",
      "year                 \n",
      "2013     2.72   -0.58\n",
      "2014     2.49   -0.23\n",
      "2015     1.76   -0.73\n",
      "2016     1.49   -0.27\n",
      "2017     1.44   -0.05\n",
      "\n",
      "\n"
     ]
    },
    {
     "data": {
      "text/plain": [
       "<matplotlib.axes._subplots.AxesSubplot at 0x1efba8cf9b0>"
      ]
     },
     "execution_count": 1,
     "metadata": {},
     "output_type": "execute_result"
    },
    {
     "data": {
      "image/png": "[encoded data removed]",
      "text/plain": [
       "<Figure size 432x288 with 1 Axes>"
      ]
     },
     "metadata": {
      "needs_background": "light"
     },
     "output_type": "display_data"
    }
   ],
   "source": [
    "import pandas as pd\n",
    "\n",
    "# 예제 025에서 저장한 CSV 파일을 불러와서 데이터프레임으로 변환\n",
    "df = pd.read_csv('./data/bok_statistics_CD_2.csv', header =0, index_col =0)\n",
    "print(df.head())\n",
    "print('\\n')\n",
    "\n",
    "# 산점도\n",
    "df.plot(x=\"CD_rate\", y='change', kind='scatter')"
   ]
  },
  {
   "cell_type": "code",
   "execution_count": null,
   "metadata": {},
   "outputs": [],
   "source": []
  }
 ],
 "metadata": {
  "kernelspec": {
   "display_name": "Python 3",
   "language": "python",
   "name": "python3"
  },
  "language_info": {
   "codemirror_mode": {
    "name": "ipython",
    "version": 3
   },
   "file_extension": ".py",
   "mimetype": "text/x-python",
   "name": "python",
   "nbconvert_exporter": "python",
   "pygments_lexer": "ipython3",
   "version": "3.6.5"
  }
 },
 "nbformat": 4,
 "nbformat_minor": 4
}
