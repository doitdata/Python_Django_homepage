{
 "cells": [
  {
   "cell_type": "code",
   "execution_count": 3,
   "metadata": {},
   "outputs": [
    {
     "name": "stdout",
     "output_type": "stream",
     "text": [
      "파이썬 문자열을 URL 코드로 변환:  %ED%8C%8C%EC%9D%B4%EC%8D%AC\n",
      "검색어와 조합한 URL:  https://news.google.com/search?q=%ED%8C%8C%EC%9D%B4%EC%8D%AC&hl=ko&gl=KR&ceid=KR%3Ako\n"
     ]
    }
   ],
   "source": [
    "import requests\n",
    "from bs4 import BeautifulSoup\n",
    "import urllib\n",
    "\n",
    "# 구글 뉴스 검색어를 URl 코드 형식으로 인코딩\n",
    "keyword_input = '파이썬'\n",
    "\n",
    "# urllub.parse 모듈의 quote() 메소드를 이용하면, 문자열을 URL 주소 형식에 맞도록 인코딩 할 수 있음\n",
    "keyword = urllib.parse.quote(keyword_input)\n",
    "print('파이썬 문자열을 URL 코드로 변환: ', keyword)\n",
    "\n",
    "base_url = 'https://news.google.com'\n",
    "search_url = base_url + \"/search?q=\" + keyword + \"&hl=ko&gl=KR&ceid=KR%3Ako\"\n",
    "print('검색어와 조합한 URL: ', search_url)\n",
    "\n",
    "# 예제 010을 참조하여 구글 뉴스 클리핑 함수를 정의\n",
    "def google_news_clipping_keyword(keyword_input, limit=5):\n",
    "    \n",
    "    keyword = urllib.parse.quote(keyword_input)\n",
    "    \n",
    "    url = base_url + \"/search?q=\" + keyword + \"&hl=ko&gl=KR&ceid=KR%3Ako\"\n",
    "    \n",
    "    resp = requests.get(url)\n",
    "    html_src = resp.text\n",
    "    soup = BeautifulSoup(html_src, 'html.parser')\n",
    "    \n",
    "    news_items = soup.select('div[class=\"xrnccd\"]')\n",
    "    \n",
    "    links=[]; titles=[]; contents=[]; agencies=[]; reporting_dates=[]; reporting_times=[];\n",
    "    \n",
    "    for item in news_items[:limit]:\n",
    "        link = item.find('a', attrs={'class':'VDXfz'}).get('href')\n",
    "        news_link = base_url + link[1:]\n",
    "        links.append(news_link)\n",
    "        \n",
    "        news_title = item.find('a', attrs={'class':'DY5T1d'}).getText()\n",
    "        titles.append(news_title)\n",
    "    \n",
    "        news_content = item.find('span', attrs={'class':'xBbh9'}).text\n",
    "        contents.append(news_content)\n",
    "    \n",
    "        news_agency = item.find('a', attrs={'class':'wEwyrc AVN2gc uQIVzc Sksgp'}).text\n",
    "        agencies.append(news_agency)\n",
    "    \n",
    "        news_reporting = item.find('time', attrs={'class':'WW6dff uQIVzc Sksgp'})\n",
    "        news_reporting_datetime = news_reporting.get('datetime').split('T')\n",
    "        news_reporting_date = news_reporting_datetime[0]\n",
    "        news_reporting_time = news_reporting_datetime[1][:-1]\n",
    "        reporting_dates.append(news_reporting_date)\n",
    "        reporting_times.append(news_reporting_time)     \n",
    "    \n",
    "    result = {'link':links, 'title':titles, 'contents':contents, 'agency':agencies, \\\n",
    "              'date':reporting_dates, 'time':reporting_times}\n",
    "    \n",
    "    return result"
   ]
  },
  {
   "cell_type": "code",
   "execution_count": 5,
   "metadata": {},
   "outputs": [
    {
     "name": "stdout",
     "output_type": "stream",
     "text": [
      "검색어를 입력하세요.: 파이썬\n",
      "['https://news.google.com/articles/CBMiMGh0dHA6Ly93d3cuYm9hbm5ld3MuY29tL21lZGlhL3ZpZXcuYXNwP2lkeD05MDQ3MdIBAA?hl=ko&gl=KR&ceid=KR%3Ako', 'https://news.google.com/articles/CBMiOWh0dHA6Ly93d3cuamJuZXdzLmNvbS9uZXdzL2FydGljbGVWaWV3Lmh0bWw_aWR4bm89MTMwMTI2MdIBPGh0dHA6Ly93d3cuamJuZXdzLmNvbS9uZXdzL2FydGljbGVWaWV3QW1wLmh0bWw_aWR4bm89MTMwMTI2MQ?hl=ko&gl=KR&ceid=KR%3Ako', 'https://news.google.com/articles/CBMiI2h0dHA6Ly93d3cuY2lva29yZWEuY29tL25ld3MvMTU4Nzkx0gEA?hl=ko&gl=KR&ceid=KR%3Ako', 'https://news.google.com/articles/CBMiOmh0dHA6Ly93d3cuZGhuZXdzLmNvLmtyL25ld3MvYXJ0aWNsZVZpZXcuaHRtbD9pZHhubz0xMjYxODDSAQA?hl=ko&gl=KR&ceid=KR%3Ako', 'https://news.google.com/articles/CBMiMmh0dHBzOi8vY20uYXNpYWUuY28ua3IvYXJ0aWNsZS8yMDIwMDcyNzA4MTY0ODczNTYz0gEA?hl=ko&gl=KR&ceid=KR%3Ako', 'https://news.google.com/articles/CBMiNGh0dHBzOi8vbS5tay5jby5rci9uZXdzL2N1bHR1cmUvdmlldy8yMDIwLzA4LzgwMjQ0Ni_SAThodHRwczovL20ubWsuY28ua3IvbmV3cy9jdWx0dXJlL3ZpZXctYW1wLzIwMjAvMDgvODAyNDQ2Lw?hl=ko&gl=KR&ceid=KR%3Ako', 'https://news.google.com/articles/CBMiOGh0dHA6Ly93d3cuZG1pbGJvLmNvbS9uZXdzL2FydGljbGVWaWV3Lmh0bWw_aWR4bm89MzI2MTc10gEA?hl=ko&gl=KR&ceid=KR%3Ako', 'https://news.google.com/articles/CBMiN2h0dHBzOi8vbmV3cy51bm4ubmV0L25ld3MvYXJ0aWNsZVZpZXcuaHRtbD9pZHhubz0yMzI0NzXSAQA?hl=ko&gl=KR&ceid=KR%3Ako', 'https://news.google.com/articles/CBMiOmh0dHA6Ly93d3cuZGhuZXdzLmNvLmtyL25ld3MvYXJ0aWNsZVZpZXcuaHRtbD9pZHhubz0xMjU4MTTSAQA?hl=ko&gl=KR&ceid=KR%3Ako', 'https://news.google.com/articles/CBMiK2h0dHBzOi8vemRuZXQuY28ua3Ivdmlldy8_bm89MjAyMDA3MjkxMzUwMjXSAQA?hl=ko&gl=KR&ceid=KR%3Ako']\n",
      "['보안뉴스', '중부매일', 'CIO Korea', '대학저널', '아시아경제', '매일경제', '도민일보', '한국대학신문', '대학저널', 'ZD넷 코리아']\n"
     ]
    }
   ],
   "source": [
    "# 함수를 실핼하여 뉴스 목록 정리\n",
    "search_word = input('검색어를 입력하세요.: ')\n",
    "news = google_news_clipping_keyword(search_word, 10)\n",
    "print(news['link'])\n",
    "print(news['agency'])"
   ]
  },
  {
   "cell_type": "code",
   "execution_count": null,
   "metadata": {},
   "outputs": [],
   "source": []
  }
 ],
 "metadata": {
  "kernelspec": {
   "display_name": "Python 3",
   "language": "python",
   "name": "python3"
  },
  "language_info": {
   "codemirror_mode": {
    "name": "ipython",
    "version": 3
   },
   "file_extension": ".py",
   "mimetype": "text/x-python",
   "name": "python",
   "nbconvert_exporter": "python",
   "pygments_lexer": "ipython3",
   "version": "3.6.5"
  }
 },
 "nbformat": 4,
 "nbformat_minor": 4
}
