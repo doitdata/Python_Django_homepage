{
 "cells": [
  {
   "cell_type": "code",
   "execution_count": 2,
   "metadata": {},
   "outputs": [
    {
     "name": "stdout",
     "output_type": "stream",
     "text": [
      "<Cell 'Sheet1'.B2> B2 2 2 1\n",
      "B\n",
      "28\n",
      "<Cell 'Sheet1'.C4> C4 6\n",
      "50\n",
      "50\n"
     ]
    }
   ],
   "source": [
    "import openpyxl\n",
    "import openpyxl.utils.cell as ut_cell\n",
    "import os\n",
    "\n",
    "# 예제 024에서 저장한 Excel 파일 경로 지정\n",
    "cwd = os.getcwd()\n",
    "filename = 'df.xlsx'\n",
    "filepath = os.path.join(cwd, 'output', filename)\n",
    "\n",
    "wb = openpyxl.load_workbook(filepath)\n",
    "ws = wb['Sheet1']\n",
    "\n",
    "# 셀(cell) 객체\n",
    "b2 = ws['B2']\n",
    "\n",
    "# 셀 객체, 셀 주소, 열주소, 행주소, 입력 값\n",
    "print(b2, b2.coordinate, b2.column, b2.row, b2.value)\n",
    "\n",
    "# 열의 알파벳 주소를 확인하기 위해서는 openpyxl.utils.cell 모듈의 get_column_letter() 함수를 이용\n",
    "print(ut_cell.get_column_letter(b2.column))\n",
    "\n",
    "# 알파벳 열 주소를 숫자형 열주소로 변환하는 column_index_from_string() 함수\n",
    "print(ut_cell.column_index_from_string('AB'))\n",
    "\n",
    "# cell() 메소드에 열 주소, 행 주소를 입력하는 방식으로 셀을 석택하는 방법 \n",
    "c4 = ws.cell(row=4, column = 3)\n",
    "\n",
    "# c4 객체, 셀 주소, 입력값\n",
    "print(c4, c4.coordinate, c4.value)\n",
    "\n",
    "b2.value = 50\n",
    "c4.value = 50\n",
    "print(b2.value)\n",
    "print(c4.value)\n",
    "\n",
    "\n",
    "# 워크북의 변경내용을 새로운 파일 저장\n",
    "wb.save(os.path.join(cwd, 'output', 'df2.xlsx'))"
   ]
  },
  {
   "cell_type": "code",
   "execution_count": null,
   "metadata": {},
   "outputs": [],
   "source": []
  }
 ],
 "metadata": {
  "kernelspec": {
   "display_name": "Python 3",
   "language": "python",
   "name": "python3"
  },
  "language_info": {
   "codemirror_mode": {
    "name": "ipython",
    "version": 3
   },
   "file_extension": ".py",
   "mimetype": "text/x-python",
   "name": "python",
   "nbconvert_exporter": "python",
   "pygments_lexer": "ipython3",
   "version": "3.6.5"
  }
 },
 "nbformat": 4,
 "nbformat_minor": 4
}
