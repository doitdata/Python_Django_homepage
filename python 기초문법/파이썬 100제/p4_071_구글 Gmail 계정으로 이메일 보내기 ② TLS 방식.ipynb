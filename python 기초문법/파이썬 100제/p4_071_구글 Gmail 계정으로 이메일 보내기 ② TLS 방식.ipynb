{
 "cells": [
  {
   "cell_type": "code",
   "execution_count": 8,
   "metadata": {},
   "outputs": [
    {
     "name": "stdout",
     "output_type": "stream",
     "text": [
      "deardata@naver.com 님에게 이메일을 발송하엿습니다.\n"
     ]
    }
   ],
   "source": [
    "import smtplib\n",
    "from email.mime.text import MIMEText\n",
    "\n",
    "# SMTP 서버 접속 - TLS 방식\n",
    "smtp_server = smtplib.SMTP(host='smtp.gmail.com', port=587)\n",
    "smtp_server.ehlo()\n",
    "# starttls() 메소드로 TLS 암호화를 작동시킨다.\n",
    "smtp_server.starttls()   # TLS Encription 동작\n",
    "\n",
    "# 이메일 서버 로그인 - 이메일 주소, 앱 비밀번호 입력\n",
    "my_addr = 'chch4934@gmail.com'\n",
    "my_pw = 'tdgjqyogetewfsrv' \n",
    "smtp_server.login(user=my_addr, password=my_pw)\n",
    "\n",
    "# 이메일 메시지 구성\n",
    "subject = '제목 테스트'\n",
    "body = '본문 테스트'\n",
    "\n",
    "recipients = '0627sohit@naver.com'\n",
    "\n",
    "# email라이브러리의 MIMEText 클래스를 사용하여 이메일 표준 포맷인 MIME 구조의 이메일 객체를 생성\n",
    "# 단순 텍스트(text/plain) 타입으로 지정되고, 이메일 본문(body)으로 사용할 한글 문자열을 유니코드로 변환\n",
    "my_msg = MIMEText(body)\n",
    "# 이메일 객체에 제목 추가\n",
    "my_msg['Subject'] = subject\n",
    "# 이메일 객체에 받는 사람의 이메일 주소를 추가\n",
    "my_msg['To'] = recipients\n",
    "\n",
    "# 이메일 발송\n",
    "# sendmai() 메소드에 보내는 사람의 주소, 받는 사암의 주소, 보내려는 이메일 객체를 전달\n",
    "smtp_server.sendmail(from_addr=my_addr,        \n",
    "                     to_addrs=recipients, \n",
    "                     # 이메일 객체는 as_string() 메소드를 사용하여 문자열로 변환 \n",
    "                     msg=my_msg.as_string())          \n",
    "\n",
    "# 이메일 서버 종료하기\n",
    "smtp_server.quit()\n",
    "print(\"%s 님에게 이메일을 발송하였습니다.\" % recipients)\n"
   ]
  },
  {
   "cell_type": "code",
   "execution_count": null,
   "metadata": {},
   "outputs": [],
   "source": [
    "\n",
    "\n"
   ]
  }
 ],
 "metadata": {
  "kernelspec": {
   "display_name": "Python 3",
   "language": "python",
   "name": "python3"
  },
  "language_info": {
   "codemirror_mode": {
    "name": "ipython",
    "version": 3
   },
   "file_extension": ".py",
   "mimetype": "text/x-python",
   "name": "python",
   "nbconvert_exporter": "python",
   "pygments_lexer": "ipython3",
   "version": "3.6.5"
  }
 },
 "nbformat": 4,
 "nbformat_minor": 4
}
